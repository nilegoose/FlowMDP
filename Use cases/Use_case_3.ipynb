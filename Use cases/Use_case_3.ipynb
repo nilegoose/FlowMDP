{
 "cells": [
  {
   "cell_type": "markdown",
   "metadata": {},
   "source": [
    "The paper [Exploring Chart Choices for High Dimensional Projections](https://) discusses the need for alternative ways to think about visualizing Multi-Dimensional Projection(MDP). This project shows the alternative chart types for high-dimensional projections using three different use cases. There exist complex relationships between data instances, therefore there is need to explore different design-related items to make clear these complexities. The goal of the project is not to propose new visualization rather to explore the design space of alternatives chart types.\n"
   ]
  },
  {
   "cell_type": "markdown",
   "metadata": {},
   "source": [
    "## Use case 3:  Anomaly Detection\n",
    "\n",
    "#### Anomaly Detection through Visualization\n",
    "\n",
    "In this notebook, we start exploring anomaly detection using visualization techniques. Anomaly detection, also known as outlier detection, is the process of identifying data points that deviate significantly from the majority of the data. Detecting anomalies is crucial in various domains, including fraud detection, network security, and quality control, as it helps uncover potentially critical issues.\n",
    "\n",
    "##### Dataset Description\n",
    "\n",
    "1. Dataset: Yeast\n",
    "Link: https://archive.ics.uci.edu/dataset/110/yeast\n",
    "\n",
    "<a id='top'></a>\n",
    "<div class=\"list-group\" id=\"list-tab\" role=\"tablist\">\n",
    "<h3 data-toggle=\"list\"  role=\"tab\" aria-controls=\"home\"><p style=\"font-size : 30px\"><font color=\"darkgrey\">Content<font/></p></h3>\n",
    "\n",
    "1. [<font color=\"darkgrey\"> Dataset<font/>](#1)\n",
    "    - 1.1 [<font color=\"darkgrey\"> Overview<font/>](#1.1)\n",
    "    - 1.2 [<font color=\"darkgrey\"> Preprocessing<font/>](#1.2) \n",
    "    - 1.3 [<font color=\"darkgrey\"> Dimensionality Reduction<font/>](#1.3) \n",
    "\n",
    "2. [<font color=\"darkgrey\">Visual Perspectives<font/>](#2)   \n",
    "    - 2.1. [<font color=\"darkgrey\"> One Dimension (1D)<font/>](#2.1)\n",
    "        - 2.1.1 [<font color=\"darkgrey\"> 1D Strip plot <font/>](#2.1.1)\n",
    "        - 2.1.2 [<font color=\"darkgrey\"> 1D Scatter plot <font/>](#2.1.2)\n",
    "        - 2.1.3 [<font color=\"darkgrey\"> Box Plot <font/>](#2.1.3)\n",
    "        - 2.1.4 [<font color=\"darkgrey\"> Histogram <font/>](#2.1.4)\n",
    "        - 2.1.5 [<font color=\"darkgrey\"> Violin Plot <font/>](#2.1.5)\n",
    "    - 2.2. [<font color=\"darkgrey\"> Two Dimensions (2D)<font/>](#2.2)\n",
    "        - 2.2.1 [<font color=\"darkgrey\">Scatterplot<font/>](#2.2.1)\n",
    "        - 2.2.2 [<font color=\"darkgrey\"> Heatmap<font/>](#2.2.2)\n",
    "        - 2.2.3 [<font color=\"darkgrey\"> Parallel Coordinate Plot <font/>](#2.2.3)\n",
    "        - 2.2.4 [<font color=\"darkgrey\"> Radar Chart<font/>](#2.2.4)\n",
    "        - 2.2.5 [<font color=\"darkgrey\"> 2D Histogram Scatter Plot<font/>](#2.2.5)\n",
    "\n",
    "    "
   ]
  },
  {
   "cell_type": "markdown",
   "metadata": {},
   "source": [
    "<font size=\"+3\" color=\"grey\"><b>1. Dataset </b></font><br><a id=\"1\"></a>\n",
    "<a href=\"#top\" class=\"btn-xs btn-danger\" role=\"button\" aria-pressed=\"true\" style=\"color:white\" data-toggle=\"popover\">Go back to the TOP</a>"
   ]
  },
  {
   "cell_type": "code",
   "execution_count": 25,
   "metadata": {},
   "outputs": [],
   "source": [
    "import sys, os\n",
    "import pandas as pd\n",
    "# Move one step up from the current working directory\n",
    "sys.path.append(os.path.abspath(os.path.join(os.getcwd(), '..')))\n",
    "# Create a directory\n",
    "output_dir = \"images\"\n",
    "os.makedirs(output_dir, exist_ok=True)\n",
    "\n",
    "# Replace with the path to your .data file\n",
    "data_file_path = '../Data/Dataset_2/yeast/yeast.data'\n",
    "column_headers = [\n",
    "    \"Sequence Name\", \"mcg\", \"gvh\", \"alm\", \"mit\", \"erl\", \"pox\",  \"vac\", \"nuc\", \"localization_site\"\n",
    "]\n",
    "\n",
    "# Read the .data file and set the headers\n",
    "df = pd.read_csv(data_file_path,  delimiter=r'\\s+', header=None, names=column_headers)\n"
   ]
  },
  {
   "cell_type": "markdown",
   "metadata": {},
   "source": [
    "<font size=\"+2\" color=\"grey\"><b>1.1. Overview </b></font><br>"
   ]
  },
  {
   "cell_type": "code",
   "execution_count": 26,
   "metadata": {},
   "outputs": [
    {
     "name": "stdout",
     "output_type": "stream",
     "text": [
      "['MIT' 'NUC' 'CYT' 'ME1' 'EXC' 'ME2' 'ME3' 'VAC' 'POX' 'ERL']\n"
     ]
    },
    {
     "data": {
      "text/html": [
       "<div>\n",
       "<style scoped>\n",
       "    .dataframe tbody tr th:only-of-type {\n",
       "        vertical-align: middle;\n",
       "    }\n",
       "\n",
       "    .dataframe tbody tr th {\n",
       "        vertical-align: top;\n",
       "    }\n",
       "\n",
       "    .dataframe thead th {\n",
       "        text-align: right;\n",
       "    }\n",
       "</style>\n",
       "<table border=\"1\" class=\"dataframe\">\n",
       "  <thead>\n",
       "    <tr style=\"text-align: right;\">\n",
       "      <th></th>\n",
       "      <th>mcg</th>\n",
       "      <th>gvh</th>\n",
       "      <th>alm</th>\n",
       "      <th>mit</th>\n",
       "      <th>erl</th>\n",
       "      <th>pox</th>\n",
       "      <th>vac</th>\n",
       "      <th>nuc</th>\n",
       "      <th>localization_site</th>\n",
       "    </tr>\n",
       "  </thead>\n",
       "  <tbody>\n",
       "    <tr>\n",
       "      <th>0</th>\n",
       "      <td>0.58</td>\n",
       "      <td>0.61</td>\n",
       "      <td>0.47</td>\n",
       "      <td>0.13</td>\n",
       "      <td>0.5</td>\n",
       "      <td>0.0</td>\n",
       "      <td>0.48</td>\n",
       "      <td>0.22</td>\n",
       "      <td>MIT</td>\n",
       "    </tr>\n",
       "    <tr>\n",
       "      <th>1</th>\n",
       "      <td>0.43</td>\n",
       "      <td>0.67</td>\n",
       "      <td>0.48</td>\n",
       "      <td>0.27</td>\n",
       "      <td>0.5</td>\n",
       "      <td>0.0</td>\n",
       "      <td>0.53</td>\n",
       "      <td>0.22</td>\n",
       "      <td>MIT</td>\n",
       "    </tr>\n",
       "    <tr>\n",
       "      <th>2</th>\n",
       "      <td>0.64</td>\n",
       "      <td>0.62</td>\n",
       "      <td>0.49</td>\n",
       "      <td>0.15</td>\n",
       "      <td>0.5</td>\n",
       "      <td>0.0</td>\n",
       "      <td>0.53</td>\n",
       "      <td>0.22</td>\n",
       "      <td>MIT</td>\n",
       "    </tr>\n",
       "    <tr>\n",
       "      <th>3</th>\n",
       "      <td>0.58</td>\n",
       "      <td>0.44</td>\n",
       "      <td>0.57</td>\n",
       "      <td>0.13</td>\n",
       "      <td>0.5</td>\n",
       "      <td>0.0</td>\n",
       "      <td>0.54</td>\n",
       "      <td>0.22</td>\n",
       "      <td>NUC</td>\n",
       "    </tr>\n",
       "    <tr>\n",
       "      <th>4</th>\n",
       "      <td>0.42</td>\n",
       "      <td>0.44</td>\n",
       "      <td>0.48</td>\n",
       "      <td>0.54</td>\n",
       "      <td>0.5</td>\n",
       "      <td>0.0</td>\n",
       "      <td>0.48</td>\n",
       "      <td>0.22</td>\n",
       "      <td>MIT</td>\n",
       "    </tr>\n",
       "    <tr>\n",
       "      <th>...</th>\n",
       "      <td>...</td>\n",
       "      <td>...</td>\n",
       "      <td>...</td>\n",
       "      <td>...</td>\n",
       "      <td>...</td>\n",
       "      <td>...</td>\n",
       "      <td>...</td>\n",
       "      <td>...</td>\n",
       "      <td>...</td>\n",
       "    </tr>\n",
       "    <tr>\n",
       "      <th>1479</th>\n",
       "      <td>0.81</td>\n",
       "      <td>0.62</td>\n",
       "      <td>0.43</td>\n",
       "      <td>0.17</td>\n",
       "      <td>0.5</td>\n",
       "      <td>0.0</td>\n",
       "      <td>0.53</td>\n",
       "      <td>0.22</td>\n",
       "      <td>ME2</td>\n",
       "    </tr>\n",
       "    <tr>\n",
       "      <th>1480</th>\n",
       "      <td>0.47</td>\n",
       "      <td>0.43</td>\n",
       "      <td>0.61</td>\n",
       "      <td>0.40</td>\n",
       "      <td>0.5</td>\n",
       "      <td>0.0</td>\n",
       "      <td>0.48</td>\n",
       "      <td>0.47</td>\n",
       "      <td>NUC</td>\n",
       "    </tr>\n",
       "    <tr>\n",
       "      <th>1481</th>\n",
       "      <td>0.67</td>\n",
       "      <td>0.57</td>\n",
       "      <td>0.36</td>\n",
       "      <td>0.19</td>\n",
       "      <td>0.5</td>\n",
       "      <td>0.0</td>\n",
       "      <td>0.56</td>\n",
       "      <td>0.22</td>\n",
       "      <td>ME2</td>\n",
       "    </tr>\n",
       "    <tr>\n",
       "      <th>1482</th>\n",
       "      <td>0.43</td>\n",
       "      <td>0.40</td>\n",
       "      <td>0.60</td>\n",
       "      <td>0.16</td>\n",
       "      <td>0.5</td>\n",
       "      <td>0.0</td>\n",
       "      <td>0.53</td>\n",
       "      <td>0.39</td>\n",
       "      <td>NUC</td>\n",
       "    </tr>\n",
       "    <tr>\n",
       "      <th>1483</th>\n",
       "      <td>0.65</td>\n",
       "      <td>0.54</td>\n",
       "      <td>0.54</td>\n",
       "      <td>0.13</td>\n",
       "      <td>0.5</td>\n",
       "      <td>0.0</td>\n",
       "      <td>0.53</td>\n",
       "      <td>0.22</td>\n",
       "      <td>CYT</td>\n",
       "    </tr>\n",
       "  </tbody>\n",
       "</table>\n",
       "<p>1484 rows × 9 columns</p>\n",
       "</div>"
      ],
      "text/plain": [
       "       mcg   gvh   alm   mit  erl  pox   vac   nuc localization_site\n",
       "0     0.58  0.61  0.47  0.13  0.5  0.0  0.48  0.22               MIT\n",
       "1     0.43  0.67  0.48  0.27  0.5  0.0  0.53  0.22               MIT\n",
       "2     0.64  0.62  0.49  0.15  0.5  0.0  0.53  0.22               MIT\n",
       "3     0.58  0.44  0.57  0.13  0.5  0.0  0.54  0.22               NUC\n",
       "4     0.42  0.44  0.48  0.54  0.5  0.0  0.48  0.22               MIT\n",
       "...    ...   ...   ...   ...  ...  ...   ...   ...               ...\n",
       "1479  0.81  0.62  0.43  0.17  0.5  0.0  0.53  0.22               ME2\n",
       "1480  0.47  0.43  0.61  0.40  0.5  0.0  0.48  0.47               NUC\n",
       "1481  0.67  0.57  0.36  0.19  0.5  0.0  0.56  0.22               ME2\n",
       "1482  0.43  0.40  0.60  0.16  0.5  0.0  0.53  0.39               NUC\n",
       "1483  0.65  0.54  0.54  0.13  0.5  0.0  0.53  0.22               CYT\n",
       "\n",
       "[1484 rows x 9 columns]"
      ]
     },
     "execution_count": 26,
     "metadata": {},
     "output_type": "execute_result"
    }
   ],
   "source": [
    "print(df[\"localization_site\"].unique())\n",
    "df[[\"mcg\", \"gvh\", \"alm\"\t, \"mit\", \"erl\", \"pox\", \"vac\", \"nuc\", \"localization_site\"]]"
   ]
  },
  {
   "cell_type": "markdown",
   "metadata": {},
   "source": [
    "*** Doing this just to have 2 classes ***"
   ]
  },
  {
   "cell_type": "code",
   "execution_count": 27,
   "metadata": {},
   "outputs": [],
   "source": [
    "new_df = df # [df[\"localization_site\"].isin(['MIT', 'NUC'])]"
   ]
  },
  {
   "cell_type": "markdown",
   "metadata": {},
   "source": [
    "<font size=\"+2\" color=\"grey\"><b>1.2. Preprocessing </b></font><br>"
   ]
  },
  {
   "cell_type": "code",
   "execution_count": 28,
   "metadata": {},
   "outputs": [],
   "source": [
    "from Implementations.imputation import Preprocessor\n",
    "# Initialize the Preprocessor class with the dataset\n",
    "preprocessor = Preprocessor(new_df)\n",
    "# We have decided to excempt the target variable from being preprocessed\n",
    "exempt_columns = ['Sequence Name', 'localization_site']\n",
    "processed_data = preprocessor.preprocess(\n",
    "    strategy='mean', \n",
    "    remove_missing=False, \n",
    "    exempt_columns=exempt_columns\n",
    ")"
   ]
  },
  {
   "cell_type": "markdown",
   "metadata": {},
   "source": [
    "<font size=\"+2\" color=\"grey\"><b>1.3. Dimensionality Reduction </b></font><br>\n",
    "\n",
    "\n",
    "<font size=\"+1\" color=\"grey\"><b> Dimensionality Reduction Techniques </b></font><br>\n",
    "\n",
    "Dimensionality reduction simplifies complex data by reducing the number of features, making it easier to visualize and understand.\n",
    "\n",
    "**PCA (Principal Component Analysis)**\n",
    "- **Purpose**: Transforms data into a new space, capturing the most important patterns.\n",
    "- **Method**: Projects high-dimensional data onto a lower-dimensional space while retaining essential information.\n",
    "\n",
    "**t-SNE (t-Distributed Stochastic Neighbor Embedding)**\n",
    "- **Purpose**: Visualizes high-dimensional data in a lower dimension.\n",
    "- **Method**: Keeps similar points close together to help identify clusters and patterns.\n",
    "\n",
    "**UMAP (Uniform Manifold Approximation and Projection)**\n",
    "- **Purpose**: Reduces dimensions while preserving both global and local structures in data.\n",
    "- **Method**: Effective for larger datasets, showing both major patterns and finer details.\n",
    "\n",
    "After applying these techniques, visualizations in 2D plots make it easier to see and interpret complex data patterns.\n"
   ]
  },
  {
   "cell_type": "code",
   "execution_count": 29,
   "metadata": {},
   "outputs": [
    {
     "data": {
      "text/html": [
       "<div>\n",
       "<style scoped>\n",
       "    .dataframe tbody tr th:only-of-type {\n",
       "        vertical-align: middle;\n",
       "    }\n",
       "\n",
       "    .dataframe tbody tr th {\n",
       "        vertical-align: top;\n",
       "    }\n",
       "\n",
       "    .dataframe thead th {\n",
       "        text-align: right;\n",
       "    }\n",
       "</style>\n",
       "<table border=\"1\" class=\"dataframe\">\n",
       "  <thead>\n",
       "    <tr style=\"text-align: right;\">\n",
       "      <th></th>\n",
       "      <th>Sequence Name</th>\n",
       "      <th>mcg</th>\n",
       "      <th>gvh</th>\n",
       "      <th>alm</th>\n",
       "      <th>mit</th>\n",
       "      <th>erl</th>\n",
       "      <th>pox</th>\n",
       "      <th>vac</th>\n",
       "      <th>nuc</th>\n",
       "      <th>localization_site</th>\n",
       "    </tr>\n",
       "  </thead>\n",
       "  <tbody>\n",
       "    <tr>\n",
       "      <th>0</th>\n",
       "      <td>ADT1_YEAST</td>\n",
       "      <td>0.581981</td>\n",
       "      <td>0.888481</td>\n",
       "      <td>-0.346645</td>\n",
       "      <td>-0.957203</td>\n",
       "      <td>-0.09759</td>\n",
       "      <td>-0.099131</td>\n",
       "      <td>-0.344175</td>\n",
       "      <td>-0.527919</td>\n",
       "      <td>MIT</td>\n",
       "    </tr>\n",
       "    <tr>\n",
       "      <th>1</th>\n",
       "      <td>ADT2_YEAST</td>\n",
       "      <td>-0.510891</td>\n",
       "      <td>1.372811</td>\n",
       "      <td>-0.231226</td>\n",
       "      <td>0.064312</td>\n",
       "      <td>-0.09759</td>\n",
       "      <td>-0.099131</td>\n",
       "      <td>0.521219</td>\n",
       "      <td>-0.527919</td>\n",
       "      <td>MIT</td>\n",
       "    </tr>\n",
       "    <tr>\n",
       "      <th>2</th>\n",
       "      <td>ADT3_YEAST</td>\n",
       "      <td>1.019130</td>\n",
       "      <td>0.969203</td>\n",
       "      <td>-0.115808</td>\n",
       "      <td>-0.811272</td>\n",
       "      <td>-0.09759</td>\n",
       "      <td>-0.099131</td>\n",
       "      <td>0.521219</td>\n",
       "      <td>-0.527919</td>\n",
       "      <td>MIT</td>\n",
       "    </tr>\n",
       "    <tr>\n",
       "      <th>3</th>\n",
       "      <td>AAR2_YEAST</td>\n",
       "      <td>0.581981</td>\n",
       "      <td>-0.483786</td>\n",
       "      <td>0.807542</td>\n",
       "      <td>-0.957203</td>\n",
       "      <td>-0.09759</td>\n",
       "      <td>-0.099131</td>\n",
       "      <td>0.694298</td>\n",
       "      <td>-0.527919</td>\n",
       "      <td>NUC</td>\n",
       "    </tr>\n",
       "    <tr>\n",
       "      <th>4</th>\n",
       "      <td>AATM_YEAST</td>\n",
       "      <td>-0.583749</td>\n",
       "      <td>-0.483786</td>\n",
       "      <td>-0.231226</td>\n",
       "      <td>2.034375</td>\n",
       "      <td>-0.09759</td>\n",
       "      <td>-0.099131</td>\n",
       "      <td>-0.344175</td>\n",
       "      <td>-0.527919</td>\n",
       "      <td>MIT</td>\n",
       "    </tr>\n",
       "    <tr>\n",
       "      <th>...</th>\n",
       "      <td>...</td>\n",
       "      <td>...</td>\n",
       "      <td>...</td>\n",
       "      <td>...</td>\n",
       "      <td>...</td>\n",
       "      <td>...</td>\n",
       "      <td>...</td>\n",
       "      <td>...</td>\n",
       "      <td>...</td>\n",
       "      <td>...</td>\n",
       "    </tr>\n",
       "    <tr>\n",
       "      <th>1479</th>\n",
       "      <td>YUR1_YEAST</td>\n",
       "      <td>2.257718</td>\n",
       "      <td>0.969203</td>\n",
       "      <td>-0.808320</td>\n",
       "      <td>-0.665341</td>\n",
       "      <td>-0.09759</td>\n",
       "      <td>-0.099131</td>\n",
       "      <td>0.521219</td>\n",
       "      <td>-0.527919</td>\n",
       "      <td>ME2</td>\n",
       "    </tr>\n",
       "    <tr>\n",
       "      <th>1480</th>\n",
       "      <td>ZIP1_YEAST</td>\n",
       "      <td>-0.219458</td>\n",
       "      <td>-0.564507</td>\n",
       "      <td>1.269217</td>\n",
       "      <td>1.012861</td>\n",
       "      <td>-0.09759</td>\n",
       "      <td>-0.099131</td>\n",
       "      <td>-0.344175</td>\n",
       "      <td>1.820499</td>\n",
       "      <td>NUC</td>\n",
       "    </tr>\n",
       "    <tr>\n",
       "      <th>1481</th>\n",
       "      <td>ZNRP_YEAST</td>\n",
       "      <td>1.237705</td>\n",
       "      <td>0.565595</td>\n",
       "      <td>-1.616251</td>\n",
       "      <td>-0.519411</td>\n",
       "      <td>-0.09759</td>\n",
       "      <td>-0.099131</td>\n",
       "      <td>1.040456</td>\n",
       "      <td>-0.527919</td>\n",
       "      <td>ME2</td>\n",
       "    </tr>\n",
       "    <tr>\n",
       "      <th>1482</th>\n",
       "      <td>ZUO1_YEAST</td>\n",
       "      <td>-0.510891</td>\n",
       "      <td>-0.806672</td>\n",
       "      <td>1.153799</td>\n",
       "      <td>-0.738307</td>\n",
       "      <td>-0.09759</td>\n",
       "      <td>-0.099131</td>\n",
       "      <td>0.521219</td>\n",
       "      <td>1.069005</td>\n",
       "      <td>NUC</td>\n",
       "    </tr>\n",
       "    <tr>\n",
       "      <th>1483</th>\n",
       "      <td>G6PD_YEAST</td>\n",
       "      <td>1.091988</td>\n",
       "      <td>0.323430</td>\n",
       "      <td>0.461286</td>\n",
       "      <td>-0.957203</td>\n",
       "      <td>-0.09759</td>\n",
       "      <td>-0.099131</td>\n",
       "      <td>0.521219</td>\n",
       "      <td>-0.527919</td>\n",
       "      <td>CYT</td>\n",
       "    </tr>\n",
       "  </tbody>\n",
       "</table>\n",
       "<p>1484 rows × 10 columns</p>\n",
       "</div>"
      ],
      "text/plain": [
       "     Sequence Name       mcg       gvh       alm       mit      erl       pox  \\\n",
       "0       ADT1_YEAST  0.581981  0.888481 -0.346645 -0.957203 -0.09759 -0.099131   \n",
       "1       ADT2_YEAST -0.510891  1.372811 -0.231226  0.064312 -0.09759 -0.099131   \n",
       "2       ADT3_YEAST  1.019130  0.969203 -0.115808 -0.811272 -0.09759 -0.099131   \n",
       "3       AAR2_YEAST  0.581981 -0.483786  0.807542 -0.957203 -0.09759 -0.099131   \n",
       "4       AATM_YEAST -0.583749 -0.483786 -0.231226  2.034375 -0.09759 -0.099131   \n",
       "...            ...       ...       ...       ...       ...      ...       ...   \n",
       "1479    YUR1_YEAST  2.257718  0.969203 -0.808320 -0.665341 -0.09759 -0.099131   \n",
       "1480    ZIP1_YEAST -0.219458 -0.564507  1.269217  1.012861 -0.09759 -0.099131   \n",
       "1481    ZNRP_YEAST  1.237705  0.565595 -1.616251 -0.519411 -0.09759 -0.099131   \n",
       "1482    ZUO1_YEAST -0.510891 -0.806672  1.153799 -0.738307 -0.09759 -0.099131   \n",
       "1483    G6PD_YEAST  1.091988  0.323430  0.461286 -0.957203 -0.09759 -0.099131   \n",
       "\n",
       "           vac       nuc localization_site  \n",
       "0    -0.344175 -0.527919               MIT  \n",
       "1     0.521219 -0.527919               MIT  \n",
       "2     0.521219 -0.527919               MIT  \n",
       "3     0.694298 -0.527919               NUC  \n",
       "4    -0.344175 -0.527919               MIT  \n",
       "...        ...       ...               ...  \n",
       "1479  0.521219 -0.527919               ME2  \n",
       "1480 -0.344175  1.820499               NUC  \n",
       "1481  1.040456 -0.527919               ME2  \n",
       "1482  0.521219  1.069005               NUC  \n",
       "1483  0.521219 -0.527919               CYT  \n",
       "\n",
       "[1484 rows x 10 columns]"
      ]
     },
     "execution_count": 29,
     "metadata": {},
     "output_type": "execute_result"
    }
   ],
   "source": [
    "processed_data"
   ]
  },
  {
   "cell_type": "code",
   "execution_count": 30,
   "metadata": {},
   "outputs": [
    {
     "name": "stderr",
     "output_type": "stream",
     "text": [
      "/Users/AwotoroE-Dev/Desktop/FlowMDP/.env/lib/python3.11/site-packages/umap/umap_.py:1945: UserWarning:\n",
      "\n",
      "n_jobs value 1 overridden to 1 by setting random_state. Use no seed for parallelism.\n",
      "\n",
      "/var/folders/95/gt0pqtjx3r76yhhy2b1fc02c0000gp/T/ipykernel_3476/758578069.py:18: FutureWarning:\n",
      "\n",
      "DataFrame.groupby with axis=1 is deprecated. Do `frame.T.groupby(...)` without axis instead.\n",
      "\n"
     ]
    }
   ],
   "source": [
    "from Implementations.dimensionality_reduction import DimensionalityReduction\n",
    "import pandas as pd\n",
    "# Initialize DimensionalityReduction class\n",
    "processed_data = processed_data.drop(columns=[\"Sequence Name\"], errors='ignore')\n",
    "dr = DimensionalityReduction(data=processed_data, target_column='localization_site')\n",
    "# Apply different dimensionality reduction techniques\n",
    "pca_df = dr.apply_pca()\n",
    "tsne_df = dr.apply_tsne()\n",
    "umap_df = dr.apply_umap()\n",
    "complete_dataset = pd.concat([pca_df, tsne_df, umap_df], axis=1)\n",
    "\n",
    "# combine reduced dimension into one\n",
    "merged_datasets = complete_dataset[[\n",
    "    # \"PCA_Component_1\", \"PCA_Component_2\", \n",
    "    # \"t-SNE_Component_1\", \"t-SNE_Component_2\", \n",
    "    \"UMAP_Component_1\", \"UMAP_Component_2\", \"localization_site\"\n",
    "]]\n",
    "merged_datasets = merged_datasets.groupby(merged_datasets.columns, axis=1).first()\n",
    "# merged_datasets['Class2'] = merged_datasets['localization_site'].replace({0.: 'Group 1', 1.: 'Group 2'})\n"
   ]
  },
  {
   "cell_type": "code",
   "execution_count": 31,
   "metadata": {},
   "outputs": [
    {
     "data": {
      "text/html": [
       "\n",
       "<style>\n",
       "  #altair-viz-b40f822eaae44889b2ec4d6dc95c2bb7.vega-embed {\n",
       "    width: 100%;\n",
       "    display: flex;\n",
       "  }\n",
       "\n",
       "  #altair-viz-b40f822eaae44889b2ec4d6dc95c2bb7.vega-embed details,\n",
       "  #altair-viz-b40f822eaae44889b2ec4d6dc95c2bb7.vega-embed details summary {\n",
       "    position: relative;\n",
       "  }\n",
       "</style>\n",
       "<div id=\"altair-viz-b40f822eaae44889b2ec4d6dc95c2bb7\"></div>\n",
       "<script type=\"text/javascript\">\n",
       "  var VEGA_DEBUG = (typeof VEGA_DEBUG == \"undefined\") ? {} : VEGA_DEBUG;\n",
       "  (function(spec, embedOpt){\n",
       "    let outputDiv = document.currentScript.previousElementSibling;\n",
       "    if (outputDiv.id !== \"altair-viz-b40f822eaae44889b2ec4d6dc95c2bb7\") {\n",
       "      outputDiv = document.getElementById(\"altair-viz-b40f822eaae44889b2ec4d6dc95c2bb7\");\n",
       "    }\n",
       "    const paths = {\n",
       "      \"vega\": \"https://cdn.jsdelivr.net/npm/vega@5?noext\",\n",
       "      \"vega-lib\": \"https://cdn.jsdelivr.net/npm/vega-lib?noext\",\n",
       "      \"vega-lite\": \"https://cdn.jsdelivr.net/npm/vega-lite@5.20.1?noext\",\n",
       "      \"vega-embed\": \"https://cdn.jsdelivr.net/npm/vega-embed@6?noext\",\n",
       "    };\n",
       "\n",
       "    function maybeLoadScript(lib, version) {\n",
       "      var key = `${lib.replace(\"-\", \"\")}_version`;\n",
       "      return (VEGA_DEBUG[key] == version) ?\n",
       "        Promise.resolve(paths[lib]) :\n",
       "        new Promise(function(resolve, reject) {\n",
       "          var s = document.createElement('script');\n",
       "          document.getElementsByTagName(\"head\")[0].appendChild(s);\n",
       "          s.async = true;\n",
       "          s.onload = () => {\n",
       "            VEGA_DEBUG[key] = version;\n",
       "            return resolve(paths[lib]);\n",
       "          };\n",
       "          s.onerror = () => reject(`Error loading script: ${paths[lib]}`);\n",
       "          s.src = paths[lib];\n",
       "        });\n",
       "    }\n",
       "\n",
       "    function showError(err) {\n",
       "      outputDiv.innerHTML = `<div class=\"error\" style=\"color:red;\">${err}</div>`;\n",
       "      throw err;\n",
       "    }\n",
       "\n",
       "    function displayChart(vegaEmbed) {\n",
       "      vegaEmbed(outputDiv, spec, embedOpt)\n",
       "        .catch(err => showError(`Javascript Error: ${err.message}<br>This usually means there's a typo in your chart specification. See the javascript console for the full traceback.`));\n",
       "    }\n",
       "\n",
       "    if(typeof define === \"function\" && define.amd) {\n",
       "      requirejs.config({paths});\n",
       "      require([\"vega-embed\"], displayChart, err => showError(`Error loading script: ${err.message}`));\n",
       "    } else {\n",
       "      maybeLoadScript(\"vega\", \"5\")\n",
       "        .then(() => maybeLoadScript(\"vega-lite\", \"5.20.1\"))\n",
       "        .then(() => maybeLoadScript(\"vega-embed\", \"6\"))\n",
       "        .catch(showError)\n",
       "        .then(() => displayChart(vegaEmbed));\n",
       "    }\n",
       "  })({\"config\": {\"view\": {\"continuousWidth\": 300, \"continuousHeight\": 300}}, \"data\": {\"name\": \"data-e8d82b916641f0de6cea1816e095ad8b\"}, \"mark\": {\"type\": \"circle\", \"size\": 60}, \"encoding\": {\"color\": {\"field\": \"localization_site\", \"scale\": {\"scheme\": \"tableau20\"}, \"type\": \"nominal\"}, \"x\": {\"field\": \"UMAP_Component_1\", \"title\": \"UMAP 1\", \"type\": \"quantitative\"}, \"y\": {\"field\": \"UMAP_Component_2\", \"title\": \"UMAP 2\", \"type\": \"quantitative\"}}, \"width\": 1000, \"$schema\": \"https://vega.github.io/schema/vega-lite/v5.20.1.json\", \"datasets\": {\"data-e8d82b916641f0de6cea1816e095ad8b\": [{\"UMAP_Component_1\": 9.542462348937988, \"UMAP_Component_2\": 4.898842811584473, \"localization_site\": \"MIT\"}, {\"UMAP_Component_1\": 9.299116134643555, \"UMAP_Component_2\": 5.506402492523193, \"localization_site\": \"MIT\"}, {\"UMAP_Component_1\": 9.571455955505371, \"UMAP_Component_2\": 4.387489318847656, \"localization_site\": \"MIT\"}, {\"UMAP_Component_1\": 11.698423385620117, \"UMAP_Component_2\": 6.441823959350586, \"localization_site\": \"NUC\"}, {\"UMAP_Component_1\": 14.248353958129883, \"UMAP_Component_2\": 4.6038126945495605, \"localization_site\": \"MIT\"}, {\"UMAP_Component_1\": -4.692528247833252, \"UMAP_Component_2\": 0.26120617985725403, \"localization_site\": \"CYT\"}, {\"UMAP_Component_1\": 14.46006965637207, \"UMAP_Component_2\": 3.697067975997925, \"localization_site\": \"MIT\"}, {\"UMAP_Component_1\": 11.636581420898438, \"UMAP_Component_2\": 10.302139282226562, \"localization_site\": \"NUC\"}, {\"UMAP_Component_1\": 13.041051864624023, \"UMAP_Component_2\": 6.107032775878906, \"localization_site\": \"MIT\"}, {\"UMAP_Component_1\": 11.857034683227539, \"UMAP_Component_2\": 10.408846855163574, \"localization_site\": \"CYT\"}, {\"UMAP_Component_1\": 11.577595710754395, \"UMAP_Component_2\": 9.243301391601562, \"localization_site\": \"NUC\"}, {\"UMAP_Component_1\": 12.165201187133789, \"UMAP_Component_2\": 9.668180465698242, \"localization_site\": \"NUC\"}, {\"UMAP_Component_1\": 12.777884483337402, \"UMAP_Component_2\": 5.329468250274658, \"localization_site\": \"CYT\"}, {\"UMAP_Component_1\": 12.658110618591309, \"UMAP_Component_2\": 4.486358165740967, \"localization_site\": \"MIT\"}, {\"UMAP_Component_1\": 10.260005950927734, \"UMAP_Component_2\": 4.230897426605225, \"localization_site\": \"MIT\"}, {\"UMAP_Component_1\": 10.83723258972168, \"UMAP_Component_2\": 8.014383316040039, \"localization_site\": \"CYT\"}, {\"UMAP_Component_1\": 9.358016967773438, \"UMAP_Component_2\": 9.557838439941406, \"localization_site\": \"CYT\"}, {\"UMAP_Component_1\": 11.388118743896484, \"UMAP_Component_2\": 6.4158806800842285, \"localization_site\": \"NUC\"}, {\"UMAP_Component_1\": 11.815959930419922, \"UMAP_Component_2\": 7.928644180297852, \"localization_site\": \"NUC\"}, {\"UMAP_Component_1\": 10.62622356414795, \"UMAP_Component_2\": 4.789270401000977, \"localization_site\": \"NUC\"}, {\"UMAP_Component_1\": 10.843331336975098, \"UMAP_Component_2\": 8.124101638793945, \"localization_site\": \"CYT\"}, {\"UMAP_Component_1\": 10.732606887817383, \"UMAP_Component_2\": 7.63947868347168, \"localization_site\": \"CYT\"}, {\"UMAP_Component_1\": 9.226826667785645, \"UMAP_Component_2\": 2.9673104286193848, \"localization_site\": \"CYT\"}, {\"UMAP_Component_1\": 11.321738243103027, \"UMAP_Component_2\": 10.604218482971191, \"localization_site\": \"CYT\"}, {\"UMAP_Component_1\": 11.452610969543457, \"UMAP_Component_2\": 10.730875015258789, \"localization_site\": \"CYT\"}, {\"UMAP_Component_1\": 13.323421478271484, \"UMAP_Component_2\": 4.100318431854248, \"localization_site\": \"MIT\"}, {\"UMAP_Component_1\": 11.412491798400879, \"UMAP_Component_2\": 6.096467971801758, \"localization_site\": \"CYT\"}, {\"UMAP_Component_1\": 12.033393859863281, \"UMAP_Component_2\": 6.413815498352051, \"localization_site\": \"CYT\"}, {\"UMAP_Component_1\": 10.795086860656738, \"UMAP_Component_2\": 4.819646835327148, \"localization_site\": \"MIT\"}, {\"UMAP_Component_1\": 9.234847068786621, \"UMAP_Component_2\": 2.1955344676971436, \"localization_site\": \"ME1\"}, {\"UMAP_Component_1\": 8.349675178527832, \"UMAP_Component_2\": 6.490055561065674, \"localization_site\": \"NUC\"}, {\"UMAP_Component_1\": 14.623469352722168, \"UMAP_Component_2\": 3.7402307987213135, \"localization_site\": \"MIT\"}, {\"UMAP_Component_1\": 8.655613899230957, \"UMAP_Component_2\": 8.536924362182617, \"localization_site\": \"CYT\"}, {\"UMAP_Component_1\": 13.371702194213867, \"UMAP_Component_2\": 4.6624860763549805, \"localization_site\": \"NUC\"}, {\"UMAP_Component_1\": 9.82161808013916, \"UMAP_Component_2\": 1.5810399055480957, \"localization_site\": \"ME1\"}, {\"UMAP_Component_1\": 10.089055061340332, \"UMAP_Component_2\": 1.6713064908981323, \"localization_site\": \"EXC\"}, {\"UMAP_Component_1\": 9.513876914978027, \"UMAP_Component_2\": 3.0349159240722656, \"localization_site\": \"MIT\"}, {\"UMAP_Component_1\": 11.695725440979004, \"UMAP_Component_2\": 10.416024208068848, \"localization_site\": \"CYT\"}, {\"UMAP_Component_1\": 13.373316764831543, \"UMAP_Component_2\": 3.7013676166534424, \"localization_site\": \"MIT\"}, {\"UMAP_Component_1\": 12.19880485534668, \"UMAP_Component_2\": 4.7066121101379395, \"localization_site\": \"MIT\"}, {\"UMAP_Component_1\": 9.255114555358887, \"UMAP_Component_2\": 2.6433825492858887, \"localization_site\": \"ME2\"}, {\"UMAP_Component_1\": 10.188042640686035, \"UMAP_Component_2\": 2.6675338745117188, \"localization_site\": \"ME2\"}, {\"UMAP_Component_1\": 9.213878631591797, \"UMAP_Component_2\": 2.958787202835083, \"localization_site\": \"ME2\"}, {\"UMAP_Component_1\": 7.534825325012207, \"UMAP_Component_2\": 5.653888702392578, \"localization_site\": \"ME3\"}, {\"UMAP_Component_1\": 11.92006778717041, \"UMAP_Component_2\": 8.942967414855957, \"localization_site\": \"VAC\"}, {\"UMAP_Component_1\": 13.848501205444336, \"UMAP_Component_2\": 5.747302055358887, \"localization_site\": \"NUC\"}, {\"UMAP_Component_1\": 10.310490608215332, \"UMAP_Component_2\": 1.7445108890533447, \"localization_site\": \"ME2\"}, {\"UMAP_Component_1\": 11.6412935256958, \"UMAP_Component_2\": 7.648248672485352, \"localization_site\": \"EXC\"}, {\"UMAP_Component_1\": 10.01457405090332, \"UMAP_Component_2\": 3.1735074520111084, \"localization_site\": \"VAC\"}, {\"UMAP_Component_1\": 6.312195777893066, \"UMAP_Component_2\": 6.321323394775391, \"localization_site\": \"ME3\"}, {\"UMAP_Component_1\": 10.624245643615723, \"UMAP_Component_2\": 8.288268089294434, \"localization_site\": \"CYT\"}, {\"UMAP_Component_1\": 8.301095962524414, \"UMAP_Component_2\": 10.891672134399414, \"localization_site\": \"ME3\"}, {\"UMAP_Component_1\": 13.239133834838867, \"UMAP_Component_2\": 5.29132604598999, \"localization_site\": \"NUC\"}, {\"UMAP_Component_1\": 12.304369926452637, \"UMAP_Component_2\": 6.304327964782715, \"localization_site\": \"CYT\"}, {\"UMAP_Component_1\": 11.045333862304688, \"UMAP_Component_2\": 5.176999092102051, \"localization_site\": \"CYT\"}, {\"UMAP_Component_1\": 11.116901397705078, \"UMAP_Component_2\": 5.229365825653076, \"localization_site\": \"CYT\"}, {\"UMAP_Component_1\": 9.822319030761719, \"UMAP_Component_2\": 4.633728981018066, \"localization_site\": \"CYT\"}, {\"UMAP_Component_1\": 12.075641632080078, \"UMAP_Component_2\": 5.398983478546143, \"localization_site\": \"CYT\"}, {\"UMAP_Component_1\": 11.901909828186035, \"UMAP_Component_2\": 8.214361190795898, \"localization_site\": \"CYT\"}, {\"UMAP_Component_1\": 14.485835075378418, \"UMAP_Component_2\": 3.684628963470459, \"localization_site\": \"MIT\"}, {\"UMAP_Component_1\": 13.192621231079102, \"UMAP_Component_2\": 4.76918363571167, \"localization_site\": \"MIT\"}, {\"UMAP_Component_1\": 11.203787803649902, \"UMAP_Component_2\": 8.602736473083496, \"localization_site\": \"NUC\"}, {\"UMAP_Component_1\": 9.030275344848633, \"UMAP_Component_2\": 9.088225364685059, \"localization_site\": \"NUC\"}, {\"UMAP_Component_1\": 11.812329292297363, \"UMAP_Component_2\": 10.47093391418457, \"localization_site\": \"NUC\"}, {\"UMAP_Component_1\": 8.688584327697754, \"UMAP_Component_2\": 6.749965190887451, \"localization_site\": \"CYT\"}, {\"UMAP_Component_1\": 9.625655174255371, \"UMAP_Component_2\": 7.104376316070557, \"localization_site\": \"CYT\"}, {\"UMAP_Component_1\": 11.635478973388672, \"UMAP_Component_2\": 10.07226276397705, \"localization_site\": \"CYT\"}, {\"UMAP_Component_1\": 10.705486297607422, \"UMAP_Component_2\": 5.924081325531006, \"localization_site\": \"CYT\"}, {\"UMAP_Component_1\": 12.075416564941406, \"UMAP_Component_2\": 10.485297203063965, \"localization_site\": \"CYT\"}, {\"UMAP_Component_1\": 9.630084991455078, \"UMAP_Component_2\": 2.3720052242279053, \"localization_site\": \"EXC\"}, {\"UMAP_Component_1\": 10.679303169250488, \"UMAP_Component_2\": 7.343325614929199, \"localization_site\": \"CYT\"}, {\"UMAP_Component_1\": 11.405780792236328, \"UMAP_Component_2\": 5.833644390106201, \"localization_site\": \"CYT\"}, {\"UMAP_Component_1\": 14.128143310546875, \"UMAP_Component_2\": 3.856982707977295, \"localization_site\": \"MIT\"}, {\"UMAP_Component_1\": 14.715704917907715, \"UMAP_Component_2\": 3.945679187774658, \"localization_site\": \"MIT\"}, {\"UMAP_Component_1\": 13.017420768737793, \"UMAP_Component_2\": 7.327759265899658, \"localization_site\": \"MIT\"}, {\"UMAP_Component_1\": 14.517520904541016, \"UMAP_Component_2\": 4.695624351501465, \"localization_site\": \"MIT\"}, {\"UMAP_Component_1\": 12.891858100891113, \"UMAP_Component_2\": 4.145719528198242, \"localization_site\": \"MIT\"}, {\"UMAP_Component_1\": 13.834362983703613, \"UMAP_Component_2\": 3.968134880065918, \"localization_site\": \"MIT\"}, {\"UMAP_Component_1\": 14.110369682312012, \"UMAP_Component_2\": 6.839731693267822, \"localization_site\": \"MIT\"}, {\"UMAP_Component_1\": 13.649164199829102, \"UMAP_Component_2\": 4.198326110839844, \"localization_site\": \"MIT\"}, {\"UMAP_Component_1\": 13.098625183105469, \"UMAP_Component_2\": 4.560965061187744, \"localization_site\": \"MIT\"}, {\"UMAP_Component_1\": 13.688188552856445, \"UMAP_Component_2\": 4.107334613800049, \"localization_site\": \"MIT\"}, {\"UMAP_Component_1\": 13.1502046585083, \"UMAP_Component_2\": 4.485939025878906, \"localization_site\": \"MIT\"}, {\"UMAP_Component_1\": 13.09596061706543, \"UMAP_Component_2\": 6.12339973449707, \"localization_site\": \"MIT\"}, {\"UMAP_Component_1\": -4.68699836730957, \"UMAP_Component_2\": 0.25673907995224, \"localization_site\": \"MIT\"}, {\"UMAP_Component_1\": 6.790528297424316, \"UMAP_Component_2\": 5.743027210235596, \"localization_site\": \"ME3\"}, {\"UMAP_Component_1\": 6.579154014587402, \"UMAP_Component_2\": 6.036431312561035, \"localization_site\": \"ME3\"}, {\"UMAP_Component_1\": 9.438746452331543, \"UMAP_Component_2\": 2.8772189617156982, \"localization_site\": \"EXC\"}, {\"UMAP_Component_1\": 8.985830307006836, \"UMAP_Component_2\": 8.409235954284668, \"localization_site\": \"NUC\"}, {\"UMAP_Component_1\": 13.245219230651855, \"UMAP_Component_2\": 5.2092766761779785, \"localization_site\": \"CYT\"}, {\"UMAP_Component_1\": 13.673186302185059, \"UMAP_Component_2\": 5.248785018920898, \"localization_site\": \"CYT\"}, {\"UMAP_Component_1\": 10.711655616760254, \"UMAP_Component_2\": 8.170238494873047, \"localization_site\": \"MIT\"}, {\"UMAP_Component_1\": 12.883883476257324, \"UMAP_Component_2\": 7.904700756072998, \"localization_site\": \"CYT\"}, {\"UMAP_Component_1\": 9.04764461517334, \"UMAP_Component_2\": 10.370492935180664, \"localization_site\": \"NUC\"}, {\"UMAP_Component_1\": 9.855173110961914, \"UMAP_Component_2\": 5.768061637878418, \"localization_site\": \"CYT\"}, {\"UMAP_Component_1\": 7.4627861976623535, \"UMAP_Component_2\": 6.125480651855469, \"localization_site\": \"ME3\"}, {\"UMAP_Component_1\": 10.418588638305664, \"UMAP_Component_2\": 2.063231945037842, \"localization_site\": \"EXC\"}, {\"UMAP_Component_1\": 8.767908096313477, \"UMAP_Component_2\": 3.4063961505889893, \"localization_site\": \"MIT\"}, {\"UMAP_Component_1\": 9.51014232635498, \"UMAP_Component_2\": 2.3920109272003174, \"localization_site\": \"MIT\"}, {\"UMAP_Component_1\": 14.212873458862305, \"UMAP_Component_2\": 6.975287437438965, \"localization_site\": \"CYT\"}, {\"UMAP_Component_1\": 7.407747745513916, \"UMAP_Component_2\": 5.982902526855469, \"localization_site\": \"ME3\"}, {\"UMAP_Component_1\": 7.126296520233154, \"UMAP_Component_2\": 6.392987251281738, \"localization_site\": \"ME3\"}, {\"UMAP_Component_1\": 13.79503059387207, \"UMAP_Component_2\": 6.9182448387146, \"localization_site\": \"CYT\"}, {\"UMAP_Component_1\": 9.488056182861328, \"UMAP_Component_2\": 10.133296012878418, \"localization_site\": \"NUC\"}, {\"UMAP_Component_1\": 11.884678840637207, \"UMAP_Component_2\": 7.749380111694336, \"localization_site\": \"CYT\"}, {\"UMAP_Component_1\": 7.536913871765137, \"UMAP_Component_2\": 5.271473407745361, \"localization_site\": \"ME3\"}, {\"UMAP_Component_1\": 11.644031524658203, \"UMAP_Component_2\": 9.98095703125, \"localization_site\": \"CYT\"}, {\"UMAP_Component_1\": 9.16375732421875, \"UMAP_Component_2\": 6.495163440704346, \"localization_site\": \"CYT\"}, {\"UMAP_Component_1\": 9.869028091430664, \"UMAP_Component_2\": 4.343885898590088, \"localization_site\": \"CYT\"}, {\"UMAP_Component_1\": 9.04764175415039, \"UMAP_Component_2\": 6.240665912628174, \"localization_site\": \"CYT\"}, {\"UMAP_Component_1\": -4.689702033996582, \"UMAP_Component_2\": 0.25774314999580383, \"localization_site\": \"POX\"}, {\"UMAP_Component_1\": 7.5860748291015625, \"UMAP_Component_2\": 5.817525386810303, \"localization_site\": \"NUC\"}, {\"UMAP_Component_1\": 9.157408714294434, \"UMAP_Component_2\": 10.339764595031738, \"localization_site\": \"NUC\"}, {\"UMAP_Component_1\": 13.963764190673828, \"UMAP_Component_2\": 5.165733814239502, \"localization_site\": \"NUC\"}, {\"UMAP_Component_1\": 8.254223823547363, \"UMAP_Component_2\": 11.020755767822266, \"localization_site\": \"NUC\"}, {\"UMAP_Component_1\": 14.571280479431152, \"UMAP_Component_2\": 4.262810707092285, \"localization_site\": \"MIT\"}, {\"UMAP_Component_1\": 12.399176597595215, \"UMAP_Component_2\": 4.070713043212891, \"localization_site\": \"MIT\"}, {\"UMAP_Component_1\": 14.401768684387207, \"UMAP_Component_2\": 4.735850811004639, \"localization_site\": \"MIT\"}, {\"UMAP_Component_1\": 14.585541725158691, \"UMAP_Component_2\": 7.402659893035889, \"localization_site\": \"MIT\"}, {\"UMAP_Component_1\": 12.525827407836914, \"UMAP_Component_2\": 9.968535423278809, \"localization_site\": \"MIT\"}, {\"UMAP_Component_1\": 8.14186954498291, \"UMAP_Component_2\": 3.8935110569000244, \"localization_site\": \"MIT\"}, {\"UMAP_Component_1\": 13.055798530578613, \"UMAP_Component_2\": 4.196282386779785, \"localization_site\": \"MIT\"}, {\"UMAP_Component_1\": 12.606569290161133, \"UMAP_Component_2\": 3.800381660461426, \"localization_site\": \"MIT\"}, {\"UMAP_Component_1\": 13.197437286376953, \"UMAP_Component_2\": 3.7119240760803223, \"localization_site\": \"MIT\"}, {\"UMAP_Component_1\": 7.285488605499268, \"UMAP_Component_2\": 4.91051721572876, \"localization_site\": \"ME3\"}, {\"UMAP_Component_1\": 10.54247760772705, \"UMAP_Component_2\": 5.117649555206299, \"localization_site\": \"MIT\"}, {\"UMAP_Component_1\": 11.642491340637207, \"UMAP_Component_2\": 9.247245788574219, \"localization_site\": \"NUC\"}, {\"UMAP_Component_1\": 13.869961738586426, \"UMAP_Component_2\": 3.4254517555236816, \"localization_site\": \"MIT\"}, {\"UMAP_Component_1\": 10.84699821472168, \"UMAP_Component_2\": 6.271662712097168, \"localization_site\": \"NUC\"}, {\"UMAP_Component_1\": 13.833357810974121, \"UMAP_Component_2\": 5.653911113739014, \"localization_site\": \"CYT\"}, {\"UMAP_Component_1\": 10.56289005279541, \"UMAP_Component_2\": 5.481503009796143, \"localization_site\": \"CYT\"}, {\"UMAP_Component_1\": 9.83173656463623, \"UMAP_Component_2\": 5.989955425262451, \"localization_site\": \"CYT\"}, {\"UMAP_Component_1\": 13.927765846252441, \"UMAP_Component_2\": 7.061487674713135, \"localization_site\": \"CYT\"}, {\"UMAP_Component_1\": 12.830779075622559, \"UMAP_Component_2\": 3.948044776916504, \"localization_site\": \"NUC\"}, {\"UMAP_Component_1\": 9.185707092285156, \"UMAP_Component_2\": 6.385568141937256, \"localization_site\": \"NUC\"}, {\"UMAP_Component_1\": 10.563281059265137, \"UMAP_Component_2\": 9.327279090881348, \"localization_site\": \"CYT\"}, {\"UMAP_Component_1\": 8.347410202026367, \"UMAP_Component_2\": 10.614017486572266, \"localization_site\": \"ME3\"}, {\"UMAP_Component_1\": 9.783881187438965, \"UMAP_Component_2\": 6.363517761230469, \"localization_site\": \"NUC\"}, {\"UMAP_Component_1\": 11.769697189331055, \"UMAP_Component_2\": 9.489642143249512, \"localization_site\": \"CYT\"}, {\"UMAP_Component_1\": 12.185551643371582, \"UMAP_Component_2\": 10.660185813903809, \"localization_site\": \"NUC\"}, {\"UMAP_Component_1\": 12.482583999633789, \"UMAP_Component_2\": 8.005986213684082, \"localization_site\": \"CYT\"}, {\"UMAP_Component_1\": 12.897316932678223, \"UMAP_Component_2\": 3.91086745262146, \"localization_site\": \"NUC\"}, {\"UMAP_Component_1\": 11.12763786315918, \"UMAP_Component_2\": 5.245718479156494, \"localization_site\": \"NUC\"}, {\"UMAP_Component_1\": 7.4497504234313965, \"UMAP_Component_2\": 6.1461968421936035, \"localization_site\": \"NUC\"}, {\"UMAP_Component_1\": 11.200098991394043, \"UMAP_Component_2\": 10.581239700317383, \"localization_site\": \"CYT\"}, {\"UMAP_Component_1\": 9.137296676635742, \"UMAP_Component_2\": 10.361079216003418, \"localization_site\": \"NUC\"}, {\"UMAP_Component_1\": 10.574053764343262, \"UMAP_Component_2\": 6.361618995666504, \"localization_site\": \"CYT\"}, {\"UMAP_Component_1\": 10.829662322998047, \"UMAP_Component_2\": 7.148921966552734, \"localization_site\": \"CYT\"}, {\"UMAP_Component_1\": 8.503690719604492, \"UMAP_Component_2\": 10.937167167663574, \"localization_site\": \"NUC\"}, {\"UMAP_Component_1\": 10.822660446166992, \"UMAP_Component_2\": 8.11308479309082, \"localization_site\": \"NUC\"}, {\"UMAP_Component_1\": 10.58150863647461, \"UMAP_Component_2\": 6.3906354904174805, \"localization_site\": \"NUC\"}, {\"UMAP_Component_1\": 9.447354316711426, \"UMAP_Component_2\": 9.741557121276855, \"localization_site\": \"CYT\"}, {\"UMAP_Component_1\": 8.866131782531738, \"UMAP_Component_2\": 9.205022811889648, \"localization_site\": \"NUC\"}, {\"UMAP_Component_1\": 10.049062728881836, \"UMAP_Component_2\": 8.859292030334473, \"localization_site\": \"CYT\"}, {\"UMAP_Component_1\": 8.940938949584961, \"UMAP_Component_2\": 5.659236907958984, \"localization_site\": \"NUC\"}, {\"UMAP_Component_1\": 11.248642921447754, \"UMAP_Component_2\": 8.833203315734863, \"localization_site\": \"NUC\"}, {\"UMAP_Component_1\": 12.015417098999023, \"UMAP_Component_2\": 8.673359870910645, \"localization_site\": \"CYT\"}, {\"UMAP_Component_1\": 14.043855667114258, \"UMAP_Component_2\": 3.3803257942199707, \"localization_site\": \"NUC\"}, {\"UMAP_Component_1\": 10.298087120056152, \"UMAP_Component_2\": 7.805490970611572, \"localization_site\": \"NUC\"}, {\"UMAP_Component_1\": 10.307696342468262, \"UMAP_Component_2\": 3.082836627960205, \"localization_site\": \"MIT\"}, {\"UMAP_Component_1\": 12.606993675231934, \"UMAP_Component_2\": 9.898204803466797, \"localization_site\": \"CYT\"}, {\"UMAP_Component_1\": 12.623247146606445, \"UMAP_Component_2\": 9.90761661529541, \"localization_site\": \"CYT\"}, {\"UMAP_Component_1\": 10.196110725402832, \"UMAP_Component_2\": 7.086053848266602, \"localization_site\": \"CYT\"}, {\"UMAP_Component_1\": 8.968130111694336, \"UMAP_Component_2\": 9.553027153015137, \"localization_site\": \"NUC\"}, {\"UMAP_Component_1\": 11.333773612976074, \"UMAP_Component_2\": 5.889057159423828, \"localization_site\": \"NUC\"}, {\"UMAP_Component_1\": 7.559125900268555, \"UMAP_Component_2\": 6.2236127853393555, \"localization_site\": \"ME3\"}, {\"UMAP_Component_1\": 7.337520122528076, \"UMAP_Component_2\": 6.458702087402344, \"localization_site\": \"ME3\"}, {\"UMAP_Component_1\": 6.9603118896484375, \"UMAP_Component_2\": 5.87897253036499, \"localization_site\": \"ME3\"}, {\"UMAP_Component_1\": 8.773287773132324, \"UMAP_Component_2\": 9.21617603302002, \"localization_site\": \"ME3\"}, {\"UMAP_Component_1\": 6.7571845054626465, \"UMAP_Component_2\": 6.169759750366211, \"localization_site\": \"ME3\"}, {\"UMAP_Component_1\": 10.984869956970215, \"UMAP_Component_2\": 9.491504669189453, \"localization_site\": \"NUC\"}, {\"UMAP_Component_1\": 8.966619491577148, \"UMAP_Component_2\": 5.111386775970459, \"localization_site\": \"CYT\"}, {\"UMAP_Component_1\": 11.403207778930664, \"UMAP_Component_2\": 5.049007892608643, \"localization_site\": \"CYT\"}, {\"UMAP_Component_1\": 11.424190521240234, \"UMAP_Component_2\": 9.43064022064209, \"localization_site\": \"CYT\"}, {\"UMAP_Component_1\": 13.725449562072754, \"UMAP_Component_2\": 3.540100336074829, \"localization_site\": \"MIT\"}, {\"UMAP_Component_1\": -4.682748794555664, \"UMAP_Component_2\": 0.24830953776836395, \"localization_site\": \"POX\"}, {\"UMAP_Component_1\": 12.123249053955078, \"UMAP_Component_2\": 9.41623306274414, \"localization_site\": \"NUC\"}, {\"UMAP_Component_1\": 11.42091178894043, \"UMAP_Component_2\": 8.221617698669434, \"localization_site\": \"NUC\"}, {\"UMAP_Component_1\": 12.05643367767334, \"UMAP_Component_2\": 8.975591659545898, \"localization_site\": \"NUC\"}, {\"UMAP_Component_1\": 14.737990379333496, \"UMAP_Component_2\": 4.190828323364258, \"localization_site\": \"CYT\"}, {\"UMAP_Component_1\": 12.29667854309082, \"UMAP_Component_2\": 9.402603149414062, \"localization_site\": \"CYT\"}, {\"UMAP_Component_1\": 11.052027702331543, \"UMAP_Component_2\": 7.847318649291992, \"localization_site\": \"CYT\"}, {\"UMAP_Component_1\": 11.593034744262695, \"UMAP_Component_2\": 7.457102298736572, \"localization_site\": \"CYT\"}, {\"UMAP_Component_1\": 13.733504295349121, \"UMAP_Component_2\": 3.990016222000122, \"localization_site\": \"CYT\"}, {\"UMAP_Component_1\": 9.932364463806152, \"UMAP_Component_2\": 4.988504886627197, \"localization_site\": \"CYT\"}, {\"UMAP_Component_1\": 9.148439407348633, \"UMAP_Component_2\": 6.448007583618164, \"localization_site\": \"CYT\"}, {\"UMAP_Component_1\": 9.11709976196289, \"UMAP_Component_2\": 6.336239814758301, \"localization_site\": \"CYT\"}, {\"UMAP_Component_1\": 11.468049049377441, \"UMAP_Component_2\": 10.026880264282227, \"localization_site\": \"CYT\"}, {\"UMAP_Component_1\": 11.672231674194336, \"UMAP_Component_2\": 5.71246862411499, \"localization_site\": \"CYT\"}, {\"UMAP_Component_1\": 11.50338363647461, \"UMAP_Component_2\": 9.994908332824707, \"localization_site\": \"CYT\"}, {\"UMAP_Component_1\": 9.237135887145996, \"UMAP_Component_2\": 2.179928779602051, \"localization_site\": \"ME1\"}, {\"UMAP_Component_1\": 8.273829460144043, \"UMAP_Component_2\": 3.770362615585327, \"localization_site\": \"MIT\"}, {\"UMAP_Component_1\": 12.098371505737305, \"UMAP_Component_2\": 10.520742416381836, \"localization_site\": \"CYT\"}, {\"UMAP_Component_1\": 13.413567543029785, \"UMAP_Component_2\": 3.874284029006958, \"localization_site\": \"MIT\"}, {\"UMAP_Component_1\": 13.703763008117676, \"UMAP_Component_2\": 3.400998830795288, \"localization_site\": \"MIT\"}, {\"UMAP_Component_1\": 14.17868423461914, \"UMAP_Component_2\": 4.467092990875244, \"localization_site\": \"MIT\"}, {\"UMAP_Component_1\": 13.724905014038086, \"UMAP_Component_2\": 4.436648368835449, \"localization_site\": \"MIT\"}, {\"UMAP_Component_1\": 8.888389587402344, \"UMAP_Component_2\": 2.9380531311035156, \"localization_site\": \"MIT\"}, {\"UMAP_Component_1\": 9.039691925048828, \"UMAP_Component_2\": 2.936565637588501, \"localization_site\": \"MIT\"}, {\"UMAP_Component_1\": 6.938354015350342, \"UMAP_Component_2\": 5.419970989227295, \"localization_site\": \"MIT\"}, {\"UMAP_Component_1\": 13.104613304138184, \"UMAP_Component_2\": 3.622727632522583, \"localization_site\": \"MIT\"}, {\"UMAP_Component_1\": 12.937063217163086, \"UMAP_Component_2\": 8.61824893951416, \"localization_site\": \"MIT\"}, {\"UMAP_Component_1\": 13.477699279785156, \"UMAP_Component_2\": 3.8950369358062744, \"localization_site\": \"MIT\"}, {\"UMAP_Component_1\": 14.1958589553833, \"UMAP_Component_2\": 3.9835286140441895, \"localization_site\": \"MIT\"}, {\"UMAP_Component_1\": 7.968985557556152, \"UMAP_Component_2\": 4.1405863761901855, \"localization_site\": \"MIT\"}, {\"UMAP_Component_1\": 8.511680603027344, \"UMAP_Component_2\": 4.237025260925293, \"localization_site\": \"MIT\"}, {\"UMAP_Component_1\": 14.371135711669922, \"UMAP_Component_2\": 4.649001598358154, \"localization_site\": \"MIT\"}, {\"UMAP_Component_1\": 14.094866752624512, \"UMAP_Component_2\": 4.431499481201172, \"localization_site\": \"MIT\"}, {\"UMAP_Component_1\": 14.240765571594238, \"UMAP_Component_2\": 4.229965686798096, \"localization_site\": \"MIT\"}, {\"UMAP_Component_1\": 14.803242683410645, \"UMAP_Component_2\": 4.091042518615723, \"localization_site\": \"MIT\"}, {\"UMAP_Component_1\": 13.942471504211426, \"UMAP_Component_2\": 4.172220706939697, \"localization_site\": \"MIT\"}, {\"UMAP_Component_1\": 14.02631664276123, \"UMAP_Component_2\": 3.9200336933135986, \"localization_site\": \"MIT\"}, {\"UMAP_Component_1\": 10.051342010498047, \"UMAP_Component_2\": 1.8656666278839111, \"localization_site\": \"MIT\"}, {\"UMAP_Component_1\": 10.339072227478027, \"UMAP_Component_2\": 6.302743911743164, \"localization_site\": \"CYT\"}, {\"UMAP_Component_1\": 9.065149307250977, \"UMAP_Component_2\": 5.886061668395996, \"localization_site\": \"CYT\"}, {\"UMAP_Component_1\": 12.15898323059082, \"UMAP_Component_2\": 10.44758415222168, \"localization_site\": \"CYT\"}, {\"UMAP_Component_1\": 10.328742027282715, \"UMAP_Component_2\": 2.263427495956421, \"localization_site\": \"EXC\"}, {\"UMAP_Component_1\": 13.035751342773438, \"UMAP_Component_2\": 4.706081390380859, \"localization_site\": \"MIT\"}, {\"UMAP_Component_1\": 9.647506713867188, \"UMAP_Component_2\": 2.4041147232055664, \"localization_site\": \"ME1\"}, {\"UMAP_Component_1\": -6.648257255554199, \"UMAP_Component_2\": 4.156533241271973, \"localization_site\": \"ERL\"}, {\"UMAP_Component_1\": 10.245565414428711, \"UMAP_Component_2\": 4.32591438293457, \"localization_site\": \"VAC\"}, {\"UMAP_Component_1\": 7.465765476226807, \"UMAP_Component_2\": 5.4011335372924805, \"localization_site\": \"ME3\"}, {\"UMAP_Component_1\": 10.177525520324707, \"UMAP_Component_2\": 6.416296482086182, \"localization_site\": \"NUC\"}, {\"UMAP_Component_1\": 13.806827545166016, \"UMAP_Component_2\": 7.2511887550354, \"localization_site\": \"CYT\"}, {\"UMAP_Component_1\": 13.633846282958984, \"UMAP_Component_2\": 7.178582191467285, \"localization_site\": \"CYT\"}, {\"UMAP_Component_1\": 9.352112770080566, \"UMAP_Component_2\": 4.653189182281494, \"localization_site\": \"NUC\"}, {\"UMAP_Component_1\": 13.28406047821045, \"UMAP_Component_2\": 7.3102264404296875, \"localization_site\": \"NUC\"}, {\"UMAP_Component_1\": 13.233717918395996, \"UMAP_Component_2\": 8.029082298278809, \"localization_site\": \"NUC\"}, {\"UMAP_Component_1\": 8.96611499786377, \"UMAP_Component_2\": 3.2105815410614014, \"localization_site\": \"ME2\"}, {\"UMAP_Component_1\": -4.688201427459717, \"UMAP_Component_2\": 0.2556031346321106, \"localization_site\": \"POX\"}, {\"UMAP_Component_1\": 10.889830589294434, \"UMAP_Component_2\": 8.342289924621582, \"localization_site\": \"NUC\"}, {\"UMAP_Component_1\": 13.772504806518555, \"UMAP_Component_2\": 5.274012088775635, \"localization_site\": \"NUC\"}, {\"UMAP_Component_1\": 6.169431686401367, \"UMAP_Component_2\": 6.386356830596924, \"localization_site\": \"ME3\"}, {\"UMAP_Component_1\": 10.14023208618164, \"UMAP_Component_2\": 2.1828372478485107, \"localization_site\": \"EXC\"}, {\"UMAP_Component_1\": 10.303731918334961, \"UMAP_Component_2\": 2.152893543243408, \"localization_site\": \"EXC\"}, {\"UMAP_Component_1\": 12.545586585998535, \"UMAP_Component_2\": 7.635672569274902, \"localization_site\": \"CYT\"}, {\"UMAP_Component_1\": 12.75734806060791, \"UMAP_Component_2\": 10.044966697692871, \"localization_site\": \"CYT\"}, {\"UMAP_Component_1\": 12.802115440368652, \"UMAP_Component_2\": 10.056917190551758, \"localization_site\": \"CYT\"}, {\"UMAP_Component_1\": 12.283577919006348, \"UMAP_Component_2\": 5.159899711608887, \"localization_site\": \"MIT\"}, {\"UMAP_Component_1\": 12.709207534790039, \"UMAP_Component_2\": 10.100221633911133, \"localization_site\": \"MIT\"}, {\"UMAP_Component_1\": 9.475796699523926, \"UMAP_Component_2\": 6.210046768188477, \"localization_site\": \"MIT\"}, {\"UMAP_Component_1\": 10.91861629486084, \"UMAP_Component_2\": 5.888978004455566, \"localization_site\": \"MIT\"}, {\"UMAP_Component_1\": 12.703470230102539, \"UMAP_Component_2\": 10.064313888549805, \"localization_site\": \"MIT\"}, {\"UMAP_Component_1\": 11.521719932556152, \"UMAP_Component_2\": 8.402815818786621, \"localization_site\": \"CYT\"}, {\"UMAP_Component_1\": 9.716495513916016, \"UMAP_Component_2\": 10.243727684020996, \"localization_site\": \"CYT\"}, {\"UMAP_Component_1\": 10.707511901855469, \"UMAP_Component_2\": 5.8153076171875, \"localization_site\": \"CYT\"}, {\"UMAP_Component_1\": 14.036200523376465, \"UMAP_Component_2\": 3.516834020614624, \"localization_site\": \"MIT\"}, {\"UMAP_Component_1\": 12.84859848022461, \"UMAP_Component_2\": 8.76745319366455, \"localization_site\": \"MIT\"}, {\"UMAP_Component_1\": 6.811529636383057, \"UMAP_Component_2\": 5.199337482452393, \"localization_site\": \"ME3\"}, {\"UMAP_Component_1\": 6.352430820465088, \"UMAP_Component_2\": 5.960251331329346, \"localization_site\": \"ME3\"}, {\"UMAP_Component_1\": -4.677120208740234, \"UMAP_Component_2\": 0.2433086633682251, \"localization_site\": \"POX\"}, {\"UMAP_Component_1\": 10.281026840209961, \"UMAP_Component_2\": 4.5608415603637695, \"localization_site\": \"NUC\"}, {\"UMAP_Component_1\": 11.279519081115723, \"UMAP_Component_2\": 8.723575592041016, \"localization_site\": \"NUC\"}, {\"UMAP_Component_1\": 11.6708984375, \"UMAP_Component_2\": 6.681126594543457, \"localization_site\": \"NUC\"}, {\"UMAP_Component_1\": 8.026983261108398, \"UMAP_Component_2\": 5.278034210205078, \"localization_site\": \"VAC\"}, {\"UMAP_Component_1\": 14.081687927246094, \"UMAP_Component_2\": 7.639617919921875, \"localization_site\": \"NUC\"}, {\"UMAP_Component_1\": 10.137998580932617, \"UMAP_Component_2\": 9.800846099853516, \"localization_site\": \"NUC\"}, {\"UMAP_Component_1\": 11.19692325592041, \"UMAP_Component_2\": 8.669690132141113, \"localization_site\": \"NUC\"}, {\"UMAP_Component_1\": 12.032247543334961, \"UMAP_Component_2\": 9.0472993850708, \"localization_site\": \"NUC\"}, {\"UMAP_Component_1\": 8.70665454864502, \"UMAP_Component_2\": 8.197525978088379, \"localization_site\": \"NUC\"}, {\"UMAP_Component_1\": 11.265253067016602, \"UMAP_Component_2\": 8.840518951416016, \"localization_site\": \"NUC\"}, {\"UMAP_Component_1\": 12.86196231842041, \"UMAP_Component_2\": 7.977826118469238, \"localization_site\": \"CYT\"}, {\"UMAP_Component_1\": 10.531314849853516, \"UMAP_Component_2\": 4.502179145812988, \"localization_site\": \"CYT\"}, {\"UMAP_Component_1\": 8.52556037902832, \"UMAP_Component_2\": 7.768495082855225, \"localization_site\": \"NUC\"}, {\"UMAP_Component_1\": 12.797045707702637, \"UMAP_Component_2\": 8.48979663848877, \"localization_site\": \"NUC\"}, {\"UMAP_Component_1\": 14.181502342224121, \"UMAP_Component_2\": 3.5279338359832764, \"localization_site\": \"MIT\"}, {\"UMAP_Component_1\": 12.064153671264648, \"UMAP_Component_2\": 8.663039207458496, \"localization_site\": \"NUC\"}, {\"UMAP_Component_1\": 10.776994705200195, \"UMAP_Component_2\": 6.289932727813721, \"localization_site\": \"NUC\"}, {\"UMAP_Component_1\": 10.182616233825684, \"UMAP_Component_2\": 4.564276218414307, \"localization_site\": \"NUC\"}, {\"UMAP_Component_1\": 9.99941635131836, \"UMAP_Component_2\": 7.091782093048096, \"localization_site\": \"ME2\"}, {\"UMAP_Component_1\": 11.422378540039062, \"UMAP_Component_2\": 9.023240089416504, \"localization_site\": \"CYT\"}, {\"UMAP_Component_1\": 8.342667579650879, \"UMAP_Component_2\": 10.145655632019043, \"localization_site\": \"NUC\"}, {\"UMAP_Component_1\": 7.186480522155762, \"UMAP_Component_2\": 6.521900653839111, \"localization_site\": \"ME3\"}, {\"UMAP_Component_1\": 11.245013236999512, \"UMAP_Component_2\": 5.8440961837768555, \"localization_site\": \"CYT\"}, {\"UMAP_Component_1\": 12.02901554107666, \"UMAP_Component_2\": 7.247899532318115, \"localization_site\": \"NUC\"}, {\"UMAP_Component_1\": 9.315230369567871, \"UMAP_Component_2\": 6.238590240478516, \"localization_site\": \"NUC\"}, {\"UMAP_Component_1\": 8.928210258483887, \"UMAP_Component_2\": 2.9257802963256836, \"localization_site\": \"ME2\"}, {\"UMAP_Component_1\": 11.41531753540039, \"UMAP_Component_2\": 10.137372970581055, \"localization_site\": \"CYT\"}, {\"UMAP_Component_1\": 9.401506423950195, \"UMAP_Component_2\": 7.526477813720703, \"localization_site\": \"CYT\"}, {\"UMAP_Component_1\": 11.995345115661621, \"UMAP_Component_2\": 8.859400749206543, \"localization_site\": \"NUC\"}, {\"UMAP_Component_1\": 6.767451763153076, \"UMAP_Component_2\": 6.042879581451416, \"localization_site\": \"ME3\"}, {\"UMAP_Component_1\": 9.001967430114746, \"UMAP_Component_2\": 2.3951544761657715, \"localization_site\": \"ME1\"}, {\"UMAP_Component_1\": 8.553977012634277, \"UMAP_Component_2\": 8.408967971801758, \"localization_site\": \"CYT\"}, {\"UMAP_Component_1\": 10.237428665161133, \"UMAP_Component_2\": 5.333064079284668, \"localization_site\": \"CYT\"}, {\"UMAP_Component_1\": 10.24697494506836, \"UMAP_Component_2\": 5.389727592468262, \"localization_site\": \"CYT\"}, {\"UMAP_Component_1\": 6.9292893409729, \"UMAP_Component_2\": 6.317652702331543, \"localization_site\": \"ME3\"}, {\"UMAP_Component_1\": 8.480392456054688, \"UMAP_Component_2\": 4.745619297027588, \"localization_site\": \"ME3\"}, {\"UMAP_Component_1\": 9.054972648620605, \"UMAP_Component_2\": 3.2604401111602783, \"localization_site\": \"ME2\"}, {\"UMAP_Component_1\": 9.281323432922363, \"UMAP_Component_2\": 4.527037620544434, \"localization_site\": \"ME3\"}, {\"UMAP_Component_1\": 9.79997730255127, \"UMAP_Component_2\": 4.6272382736206055, \"localization_site\": \"CYT\"}, {\"UMAP_Component_1\": 9.273523330688477, \"UMAP_Component_2\": 4.5592756271362305, \"localization_site\": \"ME2\"}, {\"UMAP_Component_1\": 9.311013221740723, \"UMAP_Component_2\": 4.549709796905518, \"localization_site\": \"CYT\"}, {\"UMAP_Component_1\": 9.310145378112793, \"UMAP_Component_2\": 2.844625234603882, \"localization_site\": \"ME2\"}, {\"UMAP_Component_1\": 9.360756874084473, \"UMAP_Component_2\": 4.774378299713135, \"localization_site\": \"CYT\"}, {\"UMAP_Component_1\": 9.00583553314209, \"UMAP_Component_2\": 3.9594523906707764, \"localization_site\": \"ME3\"}, {\"UMAP_Component_1\": 7.326768398284912, \"UMAP_Component_2\": 4.8800201416015625, \"localization_site\": \"ME3\"}, {\"UMAP_Component_1\": 7.576037883758545, \"UMAP_Component_2\": 6.365365505218506, \"localization_site\": \"ME3\"}, {\"UMAP_Component_1\": 11.738478660583496, \"UMAP_Component_2\": 8.958428382873535, \"localization_site\": \"CYT\"}, {\"UMAP_Component_1\": 11.09264087677002, \"UMAP_Component_2\": 8.539240837097168, \"localization_site\": \"ME2\"}, {\"UMAP_Component_1\": 9.385087966918945, \"UMAP_Component_2\": 4.4495062828063965, \"localization_site\": \"CYT\"}, {\"UMAP_Component_1\": 8.975475311279297, \"UMAP_Component_2\": 4.362809658050537, \"localization_site\": \"ME3\"}, {\"UMAP_Component_1\": 9.349342346191406, \"UMAP_Component_2\": 3.4679040908813477, \"localization_site\": \"ME2\"}, {\"UMAP_Component_1\": 8.610937118530273, \"UMAP_Component_2\": 9.701009750366211, \"localization_site\": \"NUC\"}, {\"UMAP_Component_1\": 9.0214262008667, \"UMAP_Component_2\": 9.417656898498535, \"localization_site\": \"NUC\"}, {\"UMAP_Component_1\": -6.626863479614258, \"UMAP_Component_2\": 4.135160446166992, \"localization_site\": \"ERL\"}, {\"UMAP_Component_1\": 9.95817756652832, \"UMAP_Component_2\": 2.216028928756714, \"localization_site\": \"EXC\"}, {\"UMAP_Component_1\": -6.675088882446289, \"UMAP_Component_2\": 4.183306694030762, \"localization_site\": \"CYT\"}, {\"UMAP_Component_1\": 10.005867958068848, \"UMAP_Component_2\": 6.66028356552124, \"localization_site\": \"CYT\"}, {\"UMAP_Component_1\": 8.99765682220459, \"UMAP_Component_2\": 4.26771354675293, \"localization_site\": \"CYT\"}, {\"UMAP_Component_1\": 9.218082427978516, \"UMAP_Component_2\": 4.270613193511963, \"localization_site\": \"CYT\"}, {\"UMAP_Component_1\": 11.244575500488281, \"UMAP_Component_2\": 9.372971534729004, \"localization_site\": \"CYT\"}, {\"UMAP_Component_1\": 9.957479476928711, \"UMAP_Component_2\": 4.741776466369629, \"localization_site\": \"CYT\"}, {\"UMAP_Component_1\": 10.066980361938477, \"UMAP_Component_2\": 4.54662561416626, \"localization_site\": \"CYT\"}, {\"UMAP_Component_1\": 10.507221221923828, \"UMAP_Component_2\": 4.385934352874756, \"localization_site\": \"CYT\"}, {\"UMAP_Component_1\": 6.263616561889648, \"UMAP_Component_2\": 6.213568210601807, \"localization_site\": \"ME3\"}, {\"UMAP_Component_1\": 8.930472373962402, \"UMAP_Component_2\": 5.0127458572387695, \"localization_site\": \"ME3\"}, {\"UMAP_Component_1\": 6.272140979766846, \"UMAP_Component_2\": 5.874951362609863, \"localization_site\": \"ME3\"}, {\"UMAP_Component_1\": 9.168994903564453, \"UMAP_Component_2\": 10.361335754394531, \"localization_site\": \"NUC\"}, {\"UMAP_Component_1\": 9.924324035644531, \"UMAP_Component_2\": 1.4302914142608643, \"localization_site\": \"EXC\"}, {\"UMAP_Component_1\": -4.643909454345703, \"UMAP_Component_2\": 0.2148701548576355, \"localization_site\": \"POX\"}, {\"UMAP_Component_1\": 10.31464672088623, \"UMAP_Component_2\": 7.168355464935303, \"localization_site\": \"POX\"}, {\"UMAP_Component_1\": 12.073524475097656, \"UMAP_Component_2\": 9.377837181091309, \"localization_site\": \"CYT\"}, {\"UMAP_Component_1\": 9.686050415039062, \"UMAP_Component_2\": 2.65218448638916, \"localization_site\": \"ME1\"}, {\"UMAP_Component_1\": 8.205937385559082, \"UMAP_Component_2\": 10.85848617553711, \"localization_site\": \"NUC\"}, {\"UMAP_Component_1\": 7.583559513092041, \"UMAP_Component_2\": 5.82560396194458, \"localization_site\": \"ME3\"}, {\"UMAP_Component_1\": 9.107177734375, \"UMAP_Component_2\": 2.2106289863586426, \"localization_site\": \"ME1\"}, {\"UMAP_Component_1\": 9.46938705444336, \"UMAP_Component_2\": 2.2999887466430664, \"localization_site\": \"ME2\"}, {\"UMAP_Component_1\": 11.830061912536621, \"UMAP_Component_2\": 10.108599662780762, \"localization_site\": \"CYT\"}, {\"UMAP_Component_1\": 11.710962295532227, \"UMAP_Component_2\": 6.982192039489746, \"localization_site\": \"CYT\"}, {\"UMAP_Component_1\": 14.076286315917969, \"UMAP_Component_2\": 5.087895393371582, \"localization_site\": \"CYT\"}, {\"UMAP_Component_1\": 6.116124153137207, \"UMAP_Component_2\": 6.266805648803711, \"localization_site\": \"ME3\"}, {\"UMAP_Component_1\": 9.967716217041016, \"UMAP_Component_2\": 3.249565839767456, \"localization_site\": \"CYT\"}, {\"UMAP_Component_1\": 7.098295211791992, \"UMAP_Component_2\": 5.613133907318115, \"localization_site\": \"ME3\"}, {\"UMAP_Component_1\": 13.737130165100098, \"UMAP_Component_2\": 3.230710744857788, \"localization_site\": \"ME1\"}, {\"UMAP_Component_1\": 10.158391952514648, \"UMAP_Component_2\": 5.308745861053467, \"localization_site\": \"CYT\"}, {\"UMAP_Component_1\": 12.891424179077148, \"UMAP_Component_2\": 8.147088050842285, \"localization_site\": \"NUC\"}, {\"UMAP_Component_1\": 10.204694747924805, \"UMAP_Component_2\": 4.494175434112549, \"localization_site\": \"CYT\"}, {\"UMAP_Component_1\": 10.556915283203125, \"UMAP_Component_2\": 7.696656703948975, \"localization_site\": \"CYT\"}, {\"UMAP_Component_1\": 10.32613754272461, \"UMAP_Component_2\": 4.575455665588379, \"localization_site\": \"CYT\"}, {\"UMAP_Component_1\": 14.5042142868042, \"UMAP_Component_2\": 7.310661792755127, \"localization_site\": \"NUC\"}, {\"UMAP_Component_1\": 7.4543938636779785, \"UMAP_Component_2\": 5.554439544677734, \"localization_site\": \"ME3\"}, {\"UMAP_Component_1\": 11.035253524780273, \"UMAP_Component_2\": 8.112701416015625, \"localization_site\": \"NUC\"}, {\"UMAP_Component_1\": 10.097174644470215, \"UMAP_Component_2\": 6.664358615875244, \"localization_site\": \"CYT\"}, {\"UMAP_Component_1\": 9.884086608886719, \"UMAP_Component_2\": 4.425872802734375, \"localization_site\": \"NUC\"}, {\"UMAP_Component_1\": 6.932989597320557, \"UMAP_Component_2\": 5.239544868469238, \"localization_site\": \"ME3\"}, {\"UMAP_Component_1\": 9.296525001525879, \"UMAP_Component_2\": 8.044795036315918, \"localization_site\": \"NUC\"}, {\"UMAP_Component_1\": 9.458839416503906, \"UMAP_Component_2\": 2.874533176422119, \"localization_site\": \"ME1\"}, {\"UMAP_Component_1\": 11.898694038391113, \"UMAP_Component_2\": 9.390049934387207, \"localization_site\": \"NUC\"}, {\"UMAP_Component_1\": 10.891328811645508, \"UMAP_Component_2\": 8.203636169433594, \"localization_site\": \"CYT\"}, {\"UMAP_Component_1\": 9.344666481018066, \"UMAP_Component_2\": 9.562440872192383, \"localization_site\": \"CYT\"}, {\"UMAP_Component_1\": 10.774310111999512, \"UMAP_Component_2\": 8.466297149658203, \"localization_site\": \"CYT\"}, {\"UMAP_Component_1\": 11.28132438659668, \"UMAP_Component_2\": 9.42444133758545, \"localization_site\": \"CYT\"}, {\"UMAP_Component_1\": 10.922296524047852, \"UMAP_Component_2\": 4.584319114685059, \"localization_site\": \"CYT\"}, {\"UMAP_Component_1\": 7.766852378845215, \"UMAP_Component_2\": 6.330905437469482, \"localization_site\": \"CYT\"}, {\"UMAP_Component_1\": 9.11491870880127, \"UMAP_Component_2\": 10.45103645324707, \"localization_site\": \"CYT\"}, {\"UMAP_Component_1\": 9.510547637939453, \"UMAP_Component_2\": 6.326557636260986, \"localization_site\": \"CYT\"}, {\"UMAP_Component_1\": 11.013657569885254, \"UMAP_Component_2\": 5.6209330558776855, \"localization_site\": \"NUC\"}, {\"UMAP_Component_1\": 11.456074714660645, \"UMAP_Component_2\": 9.381654739379883, \"localization_site\": \"NUC\"}, {\"UMAP_Component_1\": 10.63587760925293, \"UMAP_Component_2\": 8.691361427307129, \"localization_site\": \"NUC\"}, {\"UMAP_Component_1\": 10.951891899108887, \"UMAP_Component_2\": 5.60610818862915, \"localization_site\": \"NUC\"}, {\"UMAP_Component_1\": 11.005833625793457, \"UMAP_Component_2\": 9.612890243530273, \"localization_site\": \"NUC\"}, {\"UMAP_Component_1\": 12.634991645812988, \"UMAP_Component_2\": 7.632820129394531, \"localization_site\": \"NUC\"}, {\"UMAP_Component_1\": 12.001042366027832, \"UMAP_Component_2\": 6.717085361480713, \"localization_site\": \"CYT\"}, {\"UMAP_Component_1\": 10.263625144958496, \"UMAP_Component_2\": 2.8007593154907227, \"localization_site\": \"ME2\"}, {\"UMAP_Component_1\": 11.995492935180664, \"UMAP_Component_2\": 8.393879890441895, \"localization_site\": \"CYT\"}, {\"UMAP_Component_1\": 11.399637222290039, \"UMAP_Component_2\": 6.3599162101745605, \"localization_site\": \"CYT\"}, {\"UMAP_Component_1\": 9.329174995422363, \"UMAP_Component_2\": 4.510121822357178, \"localization_site\": \"CYT\"}, {\"UMAP_Component_1\": 6.398560523986816, \"UMAP_Component_2\": 6.289249420166016, \"localization_site\": \"ME3\"}, {\"UMAP_Component_1\": 8.628617286682129, \"UMAP_Component_2\": 8.130268096923828, \"localization_site\": \"CYT\"}, {\"UMAP_Component_1\": 10.477606773376465, \"UMAP_Component_2\": 7.67055082321167, \"localization_site\": \"CYT\"}, {\"UMAP_Component_1\": 9.969810485839844, \"UMAP_Component_2\": 7.783360481262207, \"localization_site\": \"CYT\"}, {\"UMAP_Component_1\": 10.694491386413574, \"UMAP_Component_2\": 8.031966209411621, \"localization_site\": \"CYT\"}, {\"UMAP_Component_1\": 11.890737533569336, \"UMAP_Component_2\": 9.186178207397461, \"localization_site\": \"CYT\"}, {\"UMAP_Component_1\": 8.936272621154785, \"UMAP_Component_2\": 8.235485076904297, \"localization_site\": \"NUC\"}, {\"UMAP_Component_1\": 9.708970069885254, \"UMAP_Component_2\": 8.531840324401855, \"localization_site\": \"CYT\"}, {\"UMAP_Component_1\": 9.378747940063477, \"UMAP_Component_2\": 5.82106351852417, \"localization_site\": \"NUC\"}, {\"UMAP_Component_1\": 6.091830730438232, \"UMAP_Component_2\": 6.2725300788879395, \"localization_site\": \"ME3\"}, {\"UMAP_Component_1\": 10.553398132324219, \"UMAP_Component_2\": 4.768701076507568, \"localization_site\": \"CYT\"}, {\"UMAP_Component_1\": 8.834757804870605, \"UMAP_Component_2\": 3.223017454147339, \"localization_site\": \"ME2\"}, {\"UMAP_Component_1\": 11.724300384521484, \"UMAP_Component_2\": 8.262810707092285, \"localization_site\": \"CYT\"}, {\"UMAP_Component_1\": 13.250732421875, \"UMAP_Component_2\": 4.597575664520264, \"localization_site\": \"CYT\"}, {\"UMAP_Component_1\": 11.876151084899902, \"UMAP_Component_2\": 8.442821502685547, \"localization_site\": \"CYT\"}, {\"UMAP_Component_1\": 11.884809494018555, \"UMAP_Component_2\": 6.534142017364502, \"localization_site\": \"CYT\"}, {\"UMAP_Component_1\": 9.21649169921875, \"UMAP_Component_2\": 10.302824974060059, \"localization_site\": \"NUC\"}, {\"UMAP_Component_1\": 8.913459777832031, \"UMAP_Component_2\": 9.842378616333008, \"localization_site\": \"CYT\"}, {\"UMAP_Component_1\": 10.910146713256836, \"UMAP_Component_2\": 6.250677585601807, \"localization_site\": \"NUC\"}, {\"UMAP_Component_1\": 10.86837387084961, \"UMAP_Component_2\": 6.21451997756958, \"localization_site\": \"NUC\"}, {\"UMAP_Component_1\": 9.145681381225586, \"UMAP_Component_2\": 8.722861289978027, \"localization_site\": \"CYT\"}, {\"UMAP_Component_1\": 9.163132667541504, \"UMAP_Component_2\": 8.723084449768066, \"localization_site\": \"CYT\"}, {\"UMAP_Component_1\": 9.029288291931152, \"UMAP_Component_2\": 8.34145450592041, \"localization_site\": \"NUC\"}, {\"UMAP_Component_1\": 12.83162784576416, \"UMAP_Component_2\": 4.053165912628174, \"localization_site\": \"MIT\"}, {\"UMAP_Component_1\": 11.927968978881836, \"UMAP_Component_2\": 9.873739242553711, \"localization_site\": \"CYT\"}, {\"UMAP_Component_1\": 8.279447555541992, \"UMAP_Component_2\": 10.185921669006348, \"localization_site\": \"NUC\"}, {\"UMAP_Component_1\": 14.538464546203613, \"UMAP_Component_2\": 7.402099132537842, \"localization_site\": \"NUC\"}, {\"UMAP_Component_1\": 11.972538948059082, \"UMAP_Component_2\": 8.430021286010742, \"localization_site\": \"NUC\"}, {\"UMAP_Component_1\": -6.655025005340576, \"UMAP_Component_2\": 4.163298606872559, \"localization_site\": \"NUC\"}, {\"UMAP_Component_1\": 9.777956008911133, \"UMAP_Component_2\": 10.106842041015625, \"localization_site\": \"CYT\"}, {\"UMAP_Component_1\": 10.708718299865723, \"UMAP_Component_2\": 5.8777031898498535, \"localization_site\": \"NUC\"}, {\"UMAP_Component_1\": 11.254216194152832, \"UMAP_Component_2\": 10.030339241027832, \"localization_site\": \"NUC\"}, {\"UMAP_Component_1\": 13.99031925201416, \"UMAP_Component_2\": 3.4797937870025635, \"localization_site\": \"MIT\"}, {\"UMAP_Component_1\": 10.821954727172852, \"UMAP_Component_2\": 8.202703475952148, \"localization_site\": \"CYT\"}, {\"UMAP_Component_1\": 10.33072566986084, \"UMAP_Component_2\": 9.388050079345703, \"localization_site\": \"CYT\"}, {\"UMAP_Component_1\": 14.641687393188477, \"UMAP_Component_2\": 4.348576068878174, \"localization_site\": \"MIT\"}, {\"UMAP_Component_1\": 10.536041259765625, \"UMAP_Component_2\": 7.544009208679199, \"localization_site\": \"CYT\"}, {\"UMAP_Component_1\": 11.75438404083252, \"UMAP_Component_2\": 10.491839408874512, \"localization_site\": \"CYT\"}, {\"UMAP_Component_1\": 12.020942687988281, \"UMAP_Component_2\": 10.003242492675781, \"localization_site\": \"NUC\"}, {\"UMAP_Component_1\": 13.00368881225586, \"UMAP_Component_2\": 8.458476066589355, \"localization_site\": \"NUC\"}, {\"UMAP_Component_1\": 13.015148162841797, \"UMAP_Component_2\": 8.427888870239258, \"localization_site\": \"NUC\"}, {\"UMAP_Component_1\": 14.08613395690918, \"UMAP_Component_2\": 7.823416233062744, \"localization_site\": \"NUC\"}, {\"UMAP_Component_1\": 14.068222045898438, \"UMAP_Component_2\": 7.840888023376465, \"localization_site\": \"NUC\"}, {\"UMAP_Component_1\": 6.895202159881592, \"UMAP_Component_2\": 5.239490032196045, \"localization_site\": \"ME3\"}, {\"UMAP_Component_1\": 8.587881088256836, \"UMAP_Component_2\": 8.286126136779785, \"localization_site\": \"NUC\"}, {\"UMAP_Component_1\": 8.436939239501953, \"UMAP_Component_2\": 7.817076683044434, \"localization_site\": \"NUC\"}, {\"UMAP_Component_1\": 11.691343307495117, \"UMAP_Component_2\": 6.384892463684082, \"localization_site\": \"CYT\"}, {\"UMAP_Component_1\": 7.940643787384033, \"UMAP_Component_2\": 4.383157730102539, \"localization_site\": \"ME3\"}, {\"UMAP_Component_1\": 8.160408973693848, \"UMAP_Component_2\": 4.245550155639648, \"localization_site\": \"ME3\"}, {\"UMAP_Component_1\": 12.577972412109375, \"UMAP_Component_2\": 9.042530059814453, \"localization_site\": \"NUC\"}, {\"UMAP_Component_1\": 11.929863929748535, \"UMAP_Component_2\": 6.76832389831543, \"localization_site\": \"NUC\"}, {\"UMAP_Component_1\": 12.14438533782959, \"UMAP_Component_2\": 9.008896827697754, \"localization_site\": \"NUC\"}, {\"UMAP_Component_1\": 11.883772850036621, \"UMAP_Component_2\": 6.751941680908203, \"localization_site\": \"NUC\"}, {\"UMAP_Component_1\": 8.746875762939453, \"UMAP_Component_2\": 8.115459442138672, \"localization_site\": \"NUC\"}, {\"UMAP_Component_1\": 9.285820007324219, \"UMAP_Component_2\": 5.943484306335449, \"localization_site\": \"NUC\"}, {\"UMAP_Component_1\": 9.016885757446289, \"UMAP_Component_2\": 9.319090843200684, \"localization_site\": \"NUC\"}, {\"UMAP_Component_1\": 6.088144779205322, \"UMAP_Component_2\": 6.316322326660156, \"localization_site\": \"ME3\"}, {\"UMAP_Component_1\": 9.137920379638672, \"UMAP_Component_2\": 2.187791347503662, \"localization_site\": \"ME1\"}, {\"UMAP_Component_1\": 13.575043678283691, \"UMAP_Component_2\": 7.943258285522461, \"localization_site\": \"NUC\"}, {\"UMAP_Component_1\": 8.400365829467773, \"UMAP_Component_2\": 7.814457416534424, \"localization_site\": \"CYT\"}, {\"UMAP_Component_1\": 12.165534973144531, \"UMAP_Component_2\": 9.451940536499023, \"localization_site\": \"NUC\"}, {\"UMAP_Component_1\": 12.745911598205566, \"UMAP_Component_2\": 6.223041534423828, \"localization_site\": \"MIT\"}, {\"UMAP_Component_1\": 10.480892181396484, \"UMAP_Component_2\": 4.640192031860352, \"localization_site\": \"CYT\"}, {\"UMAP_Component_1\": 11.899733543395996, \"UMAP_Component_2\": 10.474907875061035, \"localization_site\": \"CYT\"}, {\"UMAP_Component_1\": 7.605752468109131, \"UMAP_Component_2\": 5.3513898849487305, \"localization_site\": \"ME3\"}, {\"UMAP_Component_1\": 14.433221817016602, \"UMAP_Component_2\": 3.681708812713623, \"localization_site\": \"MIT\"}, {\"UMAP_Component_1\": 14.69596004486084, \"UMAP_Component_2\": 3.893285036087036, \"localization_site\": \"MIT\"}, {\"UMAP_Component_1\": 8.384489059448242, \"UMAP_Component_2\": 7.91298246383667, \"localization_site\": \"CYT\"}, {\"UMAP_Component_1\": 13.319829940795898, \"UMAP_Component_2\": 4.673084259033203, \"localization_site\": \"NUC\"}, {\"UMAP_Component_1\": 13.273965835571289, \"UMAP_Component_2\": 4.6371541023254395, \"localization_site\": \"NUC\"}, {\"UMAP_Component_1\": 11.995855331420898, \"UMAP_Component_2\": 9.603221893310547, \"localization_site\": \"NUC\"}, {\"UMAP_Component_1\": 11.98176383972168, \"UMAP_Component_2\": 9.645358085632324, \"localization_site\": \"NUC\"}, {\"UMAP_Component_1\": 13.980120658874512, \"UMAP_Component_2\": 3.4335169792175293, \"localization_site\": \"MIT\"}, {\"UMAP_Component_1\": 11.251883506774902, \"UMAP_Component_2\": 8.522823333740234, \"localization_site\": \"CYT\"}, {\"UMAP_Component_1\": 11.278786659240723, \"UMAP_Component_2\": 7.615662574768066, \"localization_site\": \"CYT\"}, {\"UMAP_Component_1\": 6.969921588897705, \"UMAP_Component_2\": 5.8008832931518555, \"localization_site\": \"ME3\"}, {\"UMAP_Component_1\": 6.751613616943359, \"UMAP_Component_2\": 5.356878280639648, \"localization_site\": \"ME3\"}, {\"UMAP_Component_1\": 6.329105377197266, \"UMAP_Component_2\": 6.01023006439209, \"localization_site\": \"ME3\"}, {\"UMAP_Component_1\": 6.4503936767578125, \"UMAP_Component_2\": 5.839546203613281, \"localization_site\": \"ME3\"}, {\"UMAP_Component_1\": 7.1180596351623535, \"UMAP_Component_2\": 6.32615852355957, \"localization_site\": \"ME3\"}, {\"UMAP_Component_1\": 7.472033500671387, \"UMAP_Component_2\": 5.3285698890686035, \"localization_site\": \"ME3\"}, {\"UMAP_Component_1\": 7.451860427856445, \"UMAP_Component_2\": 5.283636093139648, \"localization_site\": \"ME3\"}, {\"UMAP_Component_1\": 6.661787509918213, \"UMAP_Component_2\": 6.018431663513184, \"localization_site\": \"ME3\"}, {\"UMAP_Component_1\": 10.790355682373047, \"UMAP_Component_2\": 6.290711879730225, \"localization_site\": \"POX\"}, {\"UMAP_Component_1\": 13.405997276306152, \"UMAP_Component_2\": 3.7525343894958496, \"localization_site\": \"MIT\"}, {\"UMAP_Component_1\": 14.49830436706543, \"UMAP_Component_2\": 3.7330710887908936, \"localization_site\": \"MIT\"}, {\"UMAP_Component_1\": 11.984400749206543, \"UMAP_Component_2\": 6.646311283111572, \"localization_site\": \"CYT\"}, {\"UMAP_Component_1\": 13.558660507202148, \"UMAP_Component_2\": 3.861119508743286, \"localization_site\": \"MIT\"}, {\"UMAP_Component_1\": 13.073287963867188, \"UMAP_Component_2\": 4.0133891105651855, \"localization_site\": \"MIT\"}, {\"UMAP_Component_1\": 10.0288667678833, \"UMAP_Component_2\": 7.705569744110107, \"localization_site\": \"CYT\"}, {\"UMAP_Component_1\": 13.521689414978027, \"UMAP_Component_2\": 3.96010422706604, \"localization_site\": \"MIT\"}, {\"UMAP_Component_1\": 14.750389099121094, \"UMAP_Component_2\": 3.750338077545166, \"localization_site\": \"MIT\"}, {\"UMAP_Component_1\": 14.686707496643066, \"UMAP_Component_2\": 3.796633005142212, \"localization_site\": \"MIT\"}, {\"UMAP_Component_1\": 11.895960807800293, \"UMAP_Component_2\": 6.494149684906006, \"localization_site\": \"NUC\"}, {\"UMAP_Component_1\": 11.07802677154541, \"UMAP_Component_2\": 4.7798004150390625, \"localization_site\": \"MIT\"}, {\"UMAP_Component_1\": 10.478952407836914, \"UMAP_Component_2\": 9.077645301818848, \"localization_site\": \"MIT\"}, {\"UMAP_Component_1\": 14.214664459228516, \"UMAP_Component_2\": 7.1412482261657715, \"localization_site\": \"MIT\"}, {\"UMAP_Component_1\": 10.60185432434082, \"UMAP_Component_2\": 8.055541038513184, \"localization_site\": \"CYT\"}, {\"UMAP_Component_1\": 11.803629875183105, \"UMAP_Component_2\": 6.440382480621338, \"localization_site\": \"NUC\"}, {\"UMAP_Component_1\": 9.682290077209473, \"UMAP_Component_2\": 9.845636367797852, \"localization_site\": \"NUC\"}, {\"UMAP_Component_1\": 12.360674858093262, \"UMAP_Component_2\": 9.927931785583496, \"localization_site\": \"CYT\"}, {\"UMAP_Component_1\": 8.175061225891113, \"UMAP_Component_2\": 6.311833381652832, \"localization_site\": \"ME3\"}, {\"UMAP_Component_1\": 7.756382465362549, \"UMAP_Component_2\": 6.22053861618042, \"localization_site\": \"ME3\"}, {\"UMAP_Component_1\": 13.764763832092285, \"UMAP_Component_2\": 3.178257942199707, \"localization_site\": \"ME1\"}, {\"UMAP_Component_1\": 11.097350120544434, \"UMAP_Component_2\": 5.326494216918945, \"localization_site\": \"MIT\"}, {\"UMAP_Component_1\": 9.336996078491211, \"UMAP_Component_2\": 4.530275344848633, \"localization_site\": \"MIT\"}, {\"UMAP_Component_1\": 6.610514163970947, \"UMAP_Component_2\": 5.64452600479126, \"localization_site\": \"ME3\"}, {\"UMAP_Component_1\": 7.123623371124268, \"UMAP_Component_2\": 5.6959943771362305, \"localization_site\": \"ME3\"}, {\"UMAP_Component_1\": 14.598078727722168, \"UMAP_Component_2\": 7.4839911460876465, \"localization_site\": \"NUC\"}, {\"UMAP_Component_1\": 8.544626235961914, \"UMAP_Component_2\": 9.991642951965332, \"localization_site\": \"ME3\"}, {\"UMAP_Component_1\": 9.302611351013184, \"UMAP_Component_2\": 3.163027048110962, \"localization_site\": \"ME2\"}, {\"UMAP_Component_1\": 9.153675079345703, \"UMAP_Component_2\": 9.076937675476074, \"localization_site\": \"NUC\"}, {\"UMAP_Component_1\": 12.921710014343262, \"UMAP_Component_2\": 4.797987461090088, \"localization_site\": \"MIT\"}, {\"UMAP_Component_1\": 6.124035835266113, \"UMAP_Component_2\": 6.299225330352783, \"localization_site\": \"ME3\"}, {\"UMAP_Component_1\": 7.580822467803955, \"UMAP_Component_2\": 6.313811302185059, \"localization_site\": \"ME3\"}, {\"UMAP_Component_1\": 9.301240921020508, \"UMAP_Component_2\": 2.0117011070251465, \"localization_site\": \"ME1\"}, {\"UMAP_Component_1\": 9.176435470581055, \"UMAP_Component_2\": 2.0843801498413086, \"localization_site\": \"ME2\"}, {\"UMAP_Component_1\": 9.031021118164062, \"UMAP_Component_2\": 3.0700268745422363, \"localization_site\": \"ME3\"}, {\"UMAP_Component_1\": 6.81886100769043, \"UMAP_Component_2\": 5.304976463317871, \"localization_site\": \"ME3\"}, {\"UMAP_Component_1\": 12.687084197998047, \"UMAP_Component_2\": 8.748570442199707, \"localization_site\": \"CYT\"}, {\"UMAP_Component_1\": 11.26058578491211, \"UMAP_Component_2\": 8.56947135925293, \"localization_site\": \"NUC\"}, {\"UMAP_Component_1\": -6.636118412017822, \"UMAP_Component_2\": 4.1443586349487305, \"localization_site\": \"ERL\"}, {\"UMAP_Component_1\": 12.422333717346191, \"UMAP_Component_2\": 9.180668830871582, \"localization_site\": \"NUC\"}, {\"UMAP_Component_1\": 9.462198257446289, \"UMAP_Component_2\": 7.103630542755127, \"localization_site\": \"NUC\"}, {\"UMAP_Component_1\": 8.915590286254883, \"UMAP_Component_2\": 2.9244437217712402, \"localization_site\": \"ME1\"}, {\"UMAP_Component_1\": 9.381592750549316, \"UMAP_Component_2\": 2.4249911308288574, \"localization_site\": \"ME1\"}, {\"UMAP_Component_1\": 14.242608070373535, \"UMAP_Component_2\": 4.578029632568359, \"localization_site\": \"MIT\"}, {\"UMAP_Component_1\": 13.949999809265137, \"UMAP_Component_2\": 5.046504497528076, \"localization_site\": \"MIT\"}, {\"UMAP_Component_1\": 9.140944480895996, \"UMAP_Component_2\": 2.6841866970062256, \"localization_site\": \"EXC\"}, {\"UMAP_Component_1\": 9.766067504882812, \"UMAP_Component_2\": 1.5099573135375977, \"localization_site\": \"EXC\"}, {\"UMAP_Component_1\": 9.54946231842041, \"UMAP_Component_2\": 9.011046409606934, \"localization_site\": \"ME3\"}, {\"UMAP_Component_1\": 10.661394119262695, \"UMAP_Component_2\": 9.023505210876465, \"localization_site\": \"ME3\"}, {\"UMAP_Component_1\": 9.971324920654297, \"UMAP_Component_2\": 6.8460373878479, \"localization_site\": \"NUC\"}, {\"UMAP_Component_1\": -6.674415588378906, \"UMAP_Component_2\": 4.182636260986328, \"localization_site\": \"CYT\"}, {\"UMAP_Component_1\": 14.730632781982422, \"UMAP_Component_2\": 3.7933971881866455, \"localization_site\": \"CYT\"}, {\"UMAP_Component_1\": 11.945348739624023, \"UMAP_Component_2\": 8.072637557983398, \"localization_site\": \"NUC\"}, {\"UMAP_Component_1\": 10.05797004699707, \"UMAP_Component_2\": 1.3839986324310303, \"localization_site\": \"ME1\"}, {\"UMAP_Component_1\": 9.151838302612305, \"UMAP_Component_2\": 6.489023685455322, \"localization_site\": \"CYT\"}, {\"UMAP_Component_1\": 10.223210334777832, \"UMAP_Component_2\": 2.6461610794067383, \"localization_site\": \"ME2\"}, {\"UMAP_Component_1\": -6.580969333648682, \"UMAP_Component_2\": 4.0892510414123535, \"localization_site\": \"ERL\"}, {\"UMAP_Component_1\": 7.097083568572998, \"UMAP_Component_2\": 5.618649005889893, \"localization_site\": \"ME3\"}, {\"UMAP_Component_1\": 10.151573181152344, \"UMAP_Component_2\": 1.4801992177963257, \"localization_site\": \"EXC\"}, {\"UMAP_Component_1\": 10.036041259765625, \"UMAP_Component_2\": 8.52574634552002, \"localization_site\": \"CYT\"}, {\"UMAP_Component_1\": 11.86828899383545, \"UMAP_Component_2\": 5.814786911010742, \"localization_site\": \"NUC\"}, {\"UMAP_Component_1\": 9.311534881591797, \"UMAP_Component_2\": 3.0124640464782715, \"localization_site\": \"ME2\"}, {\"UMAP_Component_1\": 10.34383487701416, \"UMAP_Component_2\": 2.356529474258423, \"localization_site\": \"ME2\"}, {\"UMAP_Component_1\": 8.404057502746582, \"UMAP_Component_2\": 4.079463958740234, \"localization_site\": \"ME2\"}, {\"UMAP_Component_1\": 9.087322235107422, \"UMAP_Component_2\": 2.6662521362304688, \"localization_site\": \"ME2\"}, {\"UMAP_Component_1\": 13.101088523864746, \"UMAP_Component_2\": 8.004074096679688, \"localization_site\": \"MIT\"}, {\"UMAP_Component_1\": 7.556511878967285, \"UMAP_Component_2\": 5.82016134262085, \"localization_site\": \"ME3\"}, {\"UMAP_Component_1\": 14.507858276367188, \"UMAP_Component_2\": 4.601419925689697, \"localization_site\": \"CYT\"}, {\"UMAP_Component_1\": 11.17214298248291, \"UMAP_Component_2\": 8.90892505645752, \"localization_site\": \"VAC\"}, {\"UMAP_Component_1\": 10.489596366882324, \"UMAP_Component_2\": 8.785333633422852, \"localization_site\": \"NUC\"}, {\"UMAP_Component_1\": 14.445067405700684, \"UMAP_Component_2\": 3.7340586185455322, \"localization_site\": \"MIT\"}, {\"UMAP_Component_1\": 10.52047061920166, \"UMAP_Component_2\": 4.106302261352539, \"localization_site\": \"ME2\"}, {\"UMAP_Component_1\": 11.183403968811035, \"UMAP_Component_2\": 8.713047981262207, \"localization_site\": \"ME2\"}, {\"UMAP_Component_1\": 9.37576675415039, \"UMAP_Component_2\": 8.902019500732422, \"localization_site\": \"CYT\"}, {\"UMAP_Component_1\": 9.735063552856445, \"UMAP_Component_2\": 5.202394962310791, \"localization_site\": \"CYT\"}, {\"UMAP_Component_1\": 9.322946548461914, \"UMAP_Component_2\": 9.534436225891113, \"localization_site\": \"NUC\"}, {\"UMAP_Component_1\": 10.209870338439941, \"UMAP_Component_2\": 5.332143783569336, \"localization_site\": \"MIT\"}, {\"UMAP_Component_1\": 7.054493427276611, \"UMAP_Component_2\": 6.360607147216797, \"localization_site\": \"ME3\"}, {\"UMAP_Component_1\": 14.231520652770996, \"UMAP_Component_2\": 4.332456588745117, \"localization_site\": \"MIT\"}, {\"UMAP_Component_1\": 10.424872398376465, \"UMAP_Component_2\": 7.097053050994873, \"localization_site\": \"NUC\"}, {\"UMAP_Component_1\": 13.322298049926758, \"UMAP_Component_2\": 4.213083744049072, \"localization_site\": \"MIT\"}, {\"UMAP_Component_1\": 6.42152214050293, \"UMAP_Component_2\": 6.498382091522217, \"localization_site\": \"ME3\"}, {\"UMAP_Component_1\": 10.005939483642578, \"UMAP_Component_2\": 7.597568511962891, \"localization_site\": \"CYT\"}, {\"UMAP_Component_1\": 8.255380630493164, \"UMAP_Component_2\": 10.99719524383545, \"localization_site\": \"NUC\"}, {\"UMAP_Component_1\": 10.256675720214844, \"UMAP_Component_2\": 7.182312488555908, \"localization_site\": \"CYT\"}, {\"UMAP_Component_1\": 14.473465919494629, \"UMAP_Component_2\": 4.465553283691406, \"localization_site\": \"NUC\"}, {\"UMAP_Component_1\": 10.579155921936035, \"UMAP_Component_2\": 4.626596450805664, \"localization_site\": \"NUC\"}, {\"UMAP_Component_1\": 12.125799179077148, \"UMAP_Component_2\": 10.630084037780762, \"localization_site\": \"NUC\"}, {\"UMAP_Component_1\": 8.383378028869629, \"UMAP_Component_2\": 7.9186201095581055, \"localization_site\": \"ME2\"}, {\"UMAP_Component_1\": 8.680902481079102, \"UMAP_Component_2\": 8.385758399963379, \"localization_site\": \"NUC\"}, {\"UMAP_Component_1\": 12.150590896606445, \"UMAP_Component_2\": 10.549722671508789, \"localization_site\": \"CYT\"}, {\"UMAP_Component_1\": 6.341599941253662, \"UMAP_Component_2\": 6.128201961517334, \"localization_site\": \"ME3\"}, {\"UMAP_Component_1\": 11.93973445892334, \"UMAP_Component_2\": 9.17089557647705, \"localization_site\": \"CYT\"}, {\"UMAP_Component_1\": 11.48625659942627, \"UMAP_Component_2\": 9.399364471435547, \"localization_site\": \"NUC\"}, {\"UMAP_Component_1\": 6.394288063049316, \"UMAP_Component_2\": 6.114038944244385, \"localization_site\": \"ME3\"}, {\"UMAP_Component_1\": 11.3872709274292, \"UMAP_Component_2\": 9.370878219604492, \"localization_site\": \"NUC\"}, {\"UMAP_Component_1\": 12.439353942871094, \"UMAP_Component_2\": 6.816662311553955, \"localization_site\": \"CYT\"}, {\"UMAP_Component_1\": 14.604669570922852, \"UMAP_Component_2\": 3.7823665142059326, \"localization_site\": \"MIT\"}, {\"UMAP_Component_1\": 13.467900276184082, \"UMAP_Component_2\": 4.221439361572266, \"localization_site\": \"MIT\"}, {\"UMAP_Component_1\": 9.173528671264648, \"UMAP_Component_2\": 3.2695677280426025, \"localization_site\": \"MIT\"}, {\"UMAP_Component_1\": 11.495628356933594, \"UMAP_Component_2\": 9.996522903442383, \"localization_site\": \"MIT\"}, {\"UMAP_Component_1\": 10.254054069519043, \"UMAP_Component_2\": 2.938602924346924, \"localization_site\": \"MIT\"}, {\"UMAP_Component_1\": 9.263703346252441, \"UMAP_Component_2\": 9.533820152282715, \"localization_site\": \"NUC\"}, {\"UMAP_Component_1\": 14.606026649475098, \"UMAP_Component_2\": 7.461270332336426, \"localization_site\": \"NUC\"}, {\"UMAP_Component_1\": 8.85799503326416, \"UMAP_Component_2\": 10.276992797851562, \"localization_site\": \"NUC\"}, {\"UMAP_Component_1\": 8.627276420593262, \"UMAP_Component_2\": 8.15414810180664, \"localization_site\": \"NUC\"}, {\"UMAP_Component_1\": 12.776731491088867, \"UMAP_Component_2\": 4.048669815063477, \"localization_site\": \"MIT\"}, {\"UMAP_Component_1\": 9.419594764709473, \"UMAP_Component_2\": 4.439809322357178, \"localization_site\": \"CYT\"}, {\"UMAP_Component_1\": -4.659365177154541, \"UMAP_Component_2\": 0.22965003550052643, \"localization_site\": \"POX\"}, {\"UMAP_Component_1\": 13.60348129272461, \"UMAP_Component_2\": 4.3004631996154785, \"localization_site\": \"MIT\"}, {\"UMAP_Component_1\": 13.537657737731934, \"UMAP_Component_2\": 3.808663845062256, \"localization_site\": \"ME3\"}, {\"UMAP_Component_1\": 9.063582420349121, \"UMAP_Component_2\": 3.287116050720215, \"localization_site\": \"ME2\"}, {\"UMAP_Component_1\": 10.376935005187988, \"UMAP_Component_2\": 7.277724266052246, \"localization_site\": \"CYT\"}, {\"UMAP_Component_1\": 12.14211368560791, \"UMAP_Component_2\": 8.479862213134766, \"localization_site\": \"MIT\"}, {\"UMAP_Component_1\": 10.127018928527832, \"UMAP_Component_2\": 5.716812610626221, \"localization_site\": \"NUC\"}, {\"UMAP_Component_1\": 13.51572322845459, \"UMAP_Component_2\": 3.998384952545166, \"localization_site\": \"MIT\"}, {\"UMAP_Component_1\": 14.399026870727539, \"UMAP_Component_2\": 3.8798205852508545, \"localization_site\": \"MIT\"}, {\"UMAP_Component_1\": 9.084518432617188, \"UMAP_Component_2\": 3.403702974319458, \"localization_site\": \"NUC\"}, {\"UMAP_Component_1\": 9.576852798461914, \"UMAP_Component_2\": 4.230199337005615, \"localization_site\": \"EXC\"}, {\"UMAP_Component_1\": 7.519428253173828, \"UMAP_Component_2\": 5.149597644805908, \"localization_site\": \"ME3\"}, {\"UMAP_Component_1\": 9.99001693725586, \"UMAP_Component_2\": 6.634634017944336, \"localization_site\": \"NUC\"}, {\"UMAP_Component_1\": 9.211812973022461, \"UMAP_Component_2\": 8.231257438659668, \"localization_site\": \"NUC\"}, {\"UMAP_Component_1\": 10.206888198852539, \"UMAP_Component_2\": 6.974493980407715, \"localization_site\": \"CYT\"}, {\"UMAP_Component_1\": 11.700085639953613, \"UMAP_Component_2\": 8.056596755981445, \"localization_site\": \"CYT\"}, {\"UMAP_Component_1\": 9.214479446411133, \"UMAP_Component_2\": 6.508029460906982, \"localization_site\": \"CYT\"}, {\"UMAP_Component_1\": 9.36421012878418, \"UMAP_Component_2\": 5.770747184753418, \"localization_site\": \"NUC\"}, {\"UMAP_Component_1\": 9.880675315856934, \"UMAP_Component_2\": 4.7486348152160645, \"localization_site\": \"NUC\"}, {\"UMAP_Component_1\": 11.904092788696289, \"UMAP_Component_2\": 8.506162643432617, \"localization_site\": \"CYT\"}, {\"UMAP_Component_1\": 13.868875503540039, \"UMAP_Component_2\": 7.387091159820557, \"localization_site\": \"EXC\"}, {\"UMAP_Component_1\": 10.20859146118164, \"UMAP_Component_2\": 1.6513402462005615, \"localization_site\": \"EXC\"}, {\"UMAP_Component_1\": 10.245908737182617, \"UMAP_Component_2\": 2.2764062881469727, \"localization_site\": \"EXC\"}, {\"UMAP_Component_1\": 14.73961353302002, \"UMAP_Component_2\": 4.339365482330322, \"localization_site\": \"MIT\"}, {\"UMAP_Component_1\": 12.76525592803955, \"UMAP_Component_2\": 3.8344380855560303, \"localization_site\": \"MIT\"}, {\"UMAP_Component_1\": 13.950200080871582, \"UMAP_Component_2\": 5.179744243621826, \"localization_site\": \"MIT\"}, {\"UMAP_Component_1\": 11.302046775817871, \"UMAP_Component_2\": 5.88071870803833, \"localization_site\": \"NUC\"}, {\"UMAP_Component_1\": 9.691736221313477, \"UMAP_Component_2\": 10.183219909667969, \"localization_site\": \"NUC\"}, {\"UMAP_Component_1\": 9.81362533569336, \"UMAP_Component_2\": 9.74349308013916, \"localization_site\": \"NUC\"}, {\"UMAP_Component_1\": 8.348840713500977, \"UMAP_Component_2\": 10.180883407592773, \"localization_site\": \"MIT\"}, {\"UMAP_Component_1\": 9.29071044921875, \"UMAP_Component_2\": 4.348583221435547, \"localization_site\": \"MIT\"}, {\"UMAP_Component_1\": 14.048134803771973, \"UMAP_Component_2\": 3.454366683959961, \"localization_site\": \"MIT\"}, {\"UMAP_Component_1\": 8.464942932128906, \"UMAP_Component_2\": 7.545523643493652, \"localization_site\": \"NUC\"}, {\"UMAP_Component_1\": 10.89102554321289, \"UMAP_Component_2\": 5.9480204582214355, \"localization_site\": \"CYT\"}, {\"UMAP_Component_1\": -4.663757801055908, \"UMAP_Component_2\": 0.229777991771698, \"localization_site\": \"POX\"}, {\"UMAP_Component_1\": 13.681990623474121, \"UMAP_Component_2\": 3.2903730869293213, \"localization_site\": \"ME2\"}, {\"UMAP_Component_1\": 8.995749473571777, \"UMAP_Component_2\": 3.186269521713257, \"localization_site\": \"ME2\"}, {\"UMAP_Component_1\": 9.222281455993652, \"UMAP_Component_2\": 2.9035444259643555, \"localization_site\": \"ME2\"}, {\"UMAP_Component_1\": 11.179265975952148, \"UMAP_Component_2\": 5.320189952850342, \"localization_site\": \"MIT\"}, {\"UMAP_Component_1\": 9.062554359436035, \"UMAP_Component_2\": 8.866615295410156, \"localization_site\": \"NUC\"}, {\"UMAP_Component_1\": 14.707476615905762, \"UMAP_Component_2\": 3.774153232574463, \"localization_site\": \"MIT\"}, {\"UMAP_Component_1\": 8.972825050354004, \"UMAP_Component_2\": 4.110782146453857, \"localization_site\": \"MIT\"}, {\"UMAP_Component_1\": 9.807729721069336, \"UMAP_Component_2\": 10.14719295501709, \"localization_site\": \"NUC\"}, {\"UMAP_Component_1\": 12.554597854614258, \"UMAP_Component_2\": 4.005823612213135, \"localization_site\": \"MIT\"}, {\"UMAP_Component_1\": 14.064712524414062, \"UMAP_Component_2\": 5.224867820739746, \"localization_site\": \"MIT\"}, {\"UMAP_Component_1\": 13.386266708374023, \"UMAP_Component_2\": 6.190680980682373, \"localization_site\": \"MIT\"}, {\"UMAP_Component_1\": 12.231507301330566, \"UMAP_Component_2\": 7.7912750244140625, \"localization_site\": \"MIT\"}, {\"UMAP_Component_1\": 12.702909469604492, \"UMAP_Component_2\": 6.425786972045898, \"localization_site\": \"MIT\"}, {\"UMAP_Component_1\": 12.706212043762207, \"UMAP_Component_2\": 6.25779914855957, \"localization_site\": \"MIT\"}, {\"UMAP_Component_1\": 14.754095077514648, \"UMAP_Component_2\": 4.030548095703125, \"localization_site\": \"MIT\"}, {\"UMAP_Component_1\": 13.091636657714844, \"UMAP_Component_2\": 6.151198863983154, \"localization_site\": \"MIT\"}, {\"UMAP_Component_1\": -4.673612594604492, \"UMAP_Component_2\": 0.2406376749277115, \"localization_site\": \"MIT\"}, {\"UMAP_Component_1\": 12.304462432861328, \"UMAP_Component_2\": 10.378737449645996, \"localization_site\": \"MIT\"}, {\"UMAP_Component_1\": 14.058161735534668, \"UMAP_Component_2\": 4.638522624969482, \"localization_site\": \"MIT\"}, {\"UMAP_Component_1\": 12.427024841308594, \"UMAP_Component_2\": 6.452343463897705, \"localization_site\": \"MIT\"}, {\"UMAP_Component_1\": 13.801691055297852, \"UMAP_Component_2\": 7.021814823150635, \"localization_site\": \"MIT\"}, {\"UMAP_Component_1\": 13.0440092086792, \"UMAP_Component_2\": 4.95393180847168, \"localization_site\": \"MIT\"}, {\"UMAP_Component_1\": 13.056443214416504, \"UMAP_Component_2\": 6.341162204742432, \"localization_site\": \"MIT\"}, {\"UMAP_Component_1\": 14.321371078491211, \"UMAP_Component_2\": 7.001389980316162, \"localization_site\": \"MIT\"}, {\"UMAP_Component_1\": 11.095731735229492, \"UMAP_Component_2\": 5.246680736541748, \"localization_site\": \"MIT\"}, {\"UMAP_Component_1\": 12.887989044189453, \"UMAP_Component_2\": 5.722845077514648, \"localization_site\": \"MIT\"}, {\"UMAP_Component_1\": 10.620715141296387, \"UMAP_Component_2\": 4.784923076629639, \"localization_site\": \"MIT\"}, {\"UMAP_Component_1\": 14.145827293395996, \"UMAP_Component_2\": 4.805605411529541, \"localization_site\": \"MIT\"}, {\"UMAP_Component_1\": 11.880350112915039, \"UMAP_Component_2\": 6.472832202911377, \"localization_site\": \"MIT\"}, {\"UMAP_Component_1\": 13.956381797790527, \"UMAP_Component_2\": 5.358916759490967, \"localization_site\": \"MIT\"}, {\"UMAP_Component_1\": 12.955146789550781, \"UMAP_Component_2\": 5.993079662322998, \"localization_site\": \"MIT\"}, {\"UMAP_Component_1\": 13.831884384155273, \"UMAP_Component_2\": 4.453787326812744, \"localization_site\": \"MIT\"}, {\"UMAP_Component_1\": 13.116584777832031, \"UMAP_Component_2\": 6.270668983459473, \"localization_site\": \"MIT\"}, {\"UMAP_Component_1\": 13.091794967651367, \"UMAP_Component_2\": 4.043307304382324, \"localization_site\": \"MIT\"}, {\"UMAP_Component_1\": 13.982826232910156, \"UMAP_Component_2\": 4.469618797302246, \"localization_site\": \"MIT\"}, {\"UMAP_Component_1\": 13.318828582763672, \"UMAP_Component_2\": 4.685019016265869, \"localization_site\": \"MIT\"}, {\"UMAP_Component_1\": 14.04629135131836, \"UMAP_Component_2\": 4.412718772888184, \"localization_site\": \"MIT\"}, {\"UMAP_Component_1\": 12.455249786376953, \"UMAP_Component_2\": 4.5388288497924805, \"localization_site\": \"MIT\"}, {\"UMAP_Component_1\": 14.141194343566895, \"UMAP_Component_2\": 3.489165782928467, \"localization_site\": \"MIT\"}, {\"UMAP_Component_1\": 9.729299545288086, \"UMAP_Component_2\": 5.015423774719238, \"localization_site\": \"MIT\"}, {\"UMAP_Component_1\": 8.97442626953125, \"UMAP_Component_2\": 5.4527201652526855, \"localization_site\": \"MIT\"}, {\"UMAP_Component_1\": 9.669794082641602, \"UMAP_Component_2\": 1.626255750656128, \"localization_site\": \"ME1\"}, {\"UMAP_Component_1\": 13.434898376464844, \"UMAP_Component_2\": 4.691481590270996, \"localization_site\": \"MIT\"}, {\"UMAP_Component_1\": 11.380669593811035, \"UMAP_Component_2\": 8.389881134033203, \"localization_site\": \"MIT\"}, {\"UMAP_Component_1\": 14.18026351928711, \"UMAP_Component_2\": 4.105739593505859, \"localization_site\": \"MIT\"}, {\"UMAP_Component_1\": 10.36984634399414, \"UMAP_Component_2\": 9.386472702026367, \"localization_site\": \"NUC\"}, {\"UMAP_Component_1\": 9.998642921447754, \"UMAP_Component_2\": 4.926690101623535, \"localization_site\": \"NUC\"}, {\"UMAP_Component_1\": 13.48304557800293, \"UMAP_Component_2\": 3.9124982357025146, \"localization_site\": \"NUC\"}, {\"UMAP_Component_1\": 14.351778984069824, \"UMAP_Component_2\": 3.6167023181915283, \"localization_site\": \"MIT\"}, {\"UMAP_Component_1\": 13.292155265808105, \"UMAP_Component_2\": 4.265319347381592, \"localization_site\": \"MIT\"}, {\"UMAP_Component_1\": 13.7294921875, \"UMAP_Component_2\": 7.430849075317383, \"localization_site\": \"NUC\"}, {\"UMAP_Component_1\": 11.575783729553223, \"UMAP_Component_2\": 6.7491583824157715, \"localization_site\": \"NUC\"}, {\"UMAP_Component_1\": 8.495601654052734, \"UMAP_Component_2\": 8.551301002502441, \"localization_site\": \"NUC\"}, {\"UMAP_Component_1\": 9.855271339416504, \"UMAP_Component_2\": 4.269792079925537, \"localization_site\": \"MIT\"}, {\"UMAP_Component_1\": 11.625198364257812, \"UMAP_Component_2\": 7.57561731338501, \"localization_site\": \"MIT\"}, {\"UMAP_Component_1\": 14.551787376403809, \"UMAP_Component_2\": 3.7034249305725098, \"localization_site\": \"MIT\"}, {\"UMAP_Component_1\": 13.233739852905273, \"UMAP_Component_2\": 3.563272714614868, \"localization_site\": \"MIT\"}, {\"UMAP_Component_1\": 11.47470474243164, \"UMAP_Component_2\": 6.31754207611084, \"localization_site\": \"MIT\"}, {\"UMAP_Component_1\": 13.109646797180176, \"UMAP_Component_2\": 4.439396858215332, \"localization_site\": \"MIT\"}, {\"UMAP_Component_1\": 14.74780559539795, \"UMAP_Component_2\": 4.257064342498779, \"localization_site\": \"MIT\"}, {\"UMAP_Component_1\": 13.244918823242188, \"UMAP_Component_2\": 4.693314552307129, \"localization_site\": \"MIT\"}, {\"UMAP_Component_1\": 10.742512702941895, \"UMAP_Component_2\": 6.872412204742432, \"localization_site\": \"CYT\"}, {\"UMAP_Component_1\": 11.694487571716309, \"UMAP_Component_2\": 10.465080261230469, \"localization_site\": \"MIT\"}, {\"UMAP_Component_1\": 9.243051528930664, \"UMAP_Component_2\": 9.349320411682129, \"localization_site\": \"NUC\"}, {\"UMAP_Component_1\": 11.138593673706055, \"UMAP_Component_2\": 8.592514991760254, \"localization_site\": \"NUC\"}, {\"UMAP_Component_1\": 9.976097106933594, \"UMAP_Component_2\": 7.050148963928223, \"localization_site\": \"CYT\"}, {\"UMAP_Component_1\": -6.670231342315674, \"UMAP_Component_2\": 4.1783952713012695, \"localization_site\": \"CYT\"}, {\"UMAP_Component_1\": 10.733940124511719, \"UMAP_Component_2\": 8.389820098876953, \"localization_site\": \"CYT\"}, {\"UMAP_Component_1\": 14.138988494873047, \"UMAP_Component_2\": 7.28001594543457, \"localization_site\": \"EXC\"}, {\"UMAP_Component_1\": 10.238837242126465, \"UMAP_Component_2\": 4.519938945770264, \"localization_site\": \"NUC\"}, {\"UMAP_Component_1\": 10.029356956481934, \"UMAP_Component_2\": 5.402772903442383, \"localization_site\": \"EXC\"}, {\"UMAP_Component_1\": 9.784876823425293, \"UMAP_Component_2\": 1.4953383207321167, \"localization_site\": \"ME1\"}, {\"UMAP_Component_1\": 6.343181610107422, \"UMAP_Component_2\": 5.896312713623047, \"localization_site\": \"ME3\"}, {\"UMAP_Component_1\": 10.700735092163086, \"UMAP_Component_2\": 5.503657341003418, \"localization_site\": \"CYT\"}, {\"UMAP_Component_1\": 14.377320289611816, \"UMAP_Component_2\": 7.173125267028809, \"localization_site\": \"NUC\"}, {\"UMAP_Component_1\": 12.830816268920898, \"UMAP_Component_2\": 8.661134719848633, \"localization_site\": \"NUC\"}, {\"UMAP_Component_1\": 12.860918045043945, \"UMAP_Component_2\": 4.702315330505371, \"localization_site\": \"MIT\"}, {\"UMAP_Component_1\": 13.029742240905762, \"UMAP_Component_2\": 4.030313014984131, \"localization_site\": \"MIT\"}, {\"UMAP_Component_1\": 11.237313270568848, \"UMAP_Component_2\": 8.137837409973145, \"localization_site\": \"CYT\"}, {\"UMAP_Component_1\": 13.525890350341797, \"UMAP_Component_2\": 4.935873508453369, \"localization_site\": \"MIT\"}, {\"UMAP_Component_1\": 12.179997444152832, \"UMAP_Component_2\": 8.83092212677002, \"localization_site\": \"NUC\"}, {\"UMAP_Component_1\": 13.060338020324707, \"UMAP_Component_2\": 5.368093967437744, \"localization_site\": \"CYT\"}, {\"UMAP_Component_1\": 13.59626293182373, \"UMAP_Component_2\": 3.451951503753662, \"localization_site\": \"CYT\"}, {\"UMAP_Component_1\": 9.813529014587402, \"UMAP_Component_2\": 3.5472123622894287, \"localization_site\": \"ME2\"}, {\"UMAP_Component_1\": 7.835568428039551, \"UMAP_Component_2\": 4.583373069763184, \"localization_site\": \"NUC\"}, {\"UMAP_Component_1\": 8.96597957611084, \"UMAP_Component_2\": 8.18255615234375, \"localization_site\": \"NUC\"}, {\"UMAP_Component_1\": 13.563220024108887, \"UMAP_Component_2\": 3.5882039070129395, \"localization_site\": \"MIT\"}, {\"UMAP_Component_1\": 14.150144577026367, \"UMAP_Component_2\": 3.66131591796875, \"localization_site\": \"NUC\"}, {\"UMAP_Component_1\": 8.8558931350708, \"UMAP_Component_2\": 10.356492042541504, \"localization_site\": \"NUC\"}, {\"UMAP_Component_1\": 11.466553688049316, \"UMAP_Component_2\": 10.132654190063477, \"localization_site\": \"NUC\"}, {\"UMAP_Component_1\": 12.542820930480957, \"UMAP_Component_2\": 9.561746597290039, \"localization_site\": \"NUC\"}, {\"UMAP_Component_1\": 12.50786018371582, \"UMAP_Component_2\": 8.948461532592773, \"localization_site\": \"NUC\"}, {\"UMAP_Component_1\": 7.866316318511963, \"UMAP_Component_2\": 6.278306007385254, \"localization_site\": \"NUC\"}, {\"UMAP_Component_1\": 11.72676944732666, \"UMAP_Component_2\": 10.73791790008545, \"localization_site\": \"CYT\"}, {\"UMAP_Component_1\": 7.958642959594727, \"UMAP_Component_2\": 6.1705780029296875, \"localization_site\": \"CYT\"}, {\"UMAP_Component_1\": 11.214897155761719, \"UMAP_Component_2\": 9.080842018127441, \"localization_site\": \"NUC\"}, {\"UMAP_Component_1\": 10.029956817626953, \"UMAP_Component_2\": 7.767735958099365, \"localization_site\": \"CYT\"}, {\"UMAP_Component_1\": 11.142460823059082, \"UMAP_Component_2\": 9.316431045532227, \"localization_site\": \"NUC\"}, {\"UMAP_Component_1\": 8.72527027130127, \"UMAP_Component_2\": 10.305944442749023, \"localization_site\": \"NUC\"}, {\"UMAP_Component_1\": 8.338461875915527, \"UMAP_Component_2\": 11.060102462768555, \"localization_site\": \"NUC\"}, {\"UMAP_Component_1\": 11.673584938049316, \"UMAP_Component_2\": 8.406914710998535, \"localization_site\": \"NUC\"}, {\"UMAP_Component_1\": 12.340433120727539, \"UMAP_Component_2\": 8.863579750061035, \"localization_site\": \"NUC\"}, {\"UMAP_Component_1\": 10.408190727233887, \"UMAP_Component_2\": 3.0526840686798096, \"localization_site\": \"NUC\"}, {\"UMAP_Component_1\": 11.54063892364502, \"UMAP_Component_2\": 10.383326530456543, \"localization_site\": \"NUC\"}, {\"UMAP_Component_1\": 11.974008560180664, \"UMAP_Component_2\": 9.285173416137695, \"localization_site\": \"CYT\"}, {\"UMAP_Component_1\": 10.330513000488281, \"UMAP_Component_2\": 2.392676830291748, \"localization_site\": \"MIT\"}, {\"UMAP_Component_1\": 9.01578140258789, \"UMAP_Component_2\": 9.582060813903809, \"localization_site\": \"NUC\"}, {\"UMAP_Component_1\": 10.683639526367188, \"UMAP_Component_2\": 8.010213851928711, \"localization_site\": \"NUC\"}, {\"UMAP_Component_1\": 10.21508502960205, \"UMAP_Component_2\": 2.2622857093811035, \"localization_site\": \"NUC\"}, {\"UMAP_Component_1\": 8.45705795288086, \"UMAP_Component_2\": 10.242826461791992, \"localization_site\": \"NUC\"}, {\"UMAP_Component_1\": 10.521808624267578, \"UMAP_Component_2\": 4.044797897338867, \"localization_site\": \"NUC\"}, {\"UMAP_Component_1\": 10.246573448181152, \"UMAP_Component_2\": 1.7366260290145874, \"localization_site\": \"NUC\"}, {\"UMAP_Component_1\": 9.371756553649902, \"UMAP_Component_2\": 3.498141288757324, \"localization_site\": \"NUC\"}, {\"UMAP_Component_1\": 11.884405136108398, \"UMAP_Component_2\": 9.536789894104004, \"localization_site\": \"NUC\"}, {\"UMAP_Component_1\": -6.657614231109619, \"UMAP_Component_2\": 4.165869235992432, \"localization_site\": \"NUC\"}, {\"UMAP_Component_1\": 13.589364051818848, \"UMAP_Component_2\": 3.2850584983825684, \"localization_site\": \"ME2\"}, {\"UMAP_Component_1\": 6.904376029968262, \"UMAP_Component_2\": 6.355473041534424, \"localization_site\": \"ME2\"}, {\"UMAP_Component_1\": 9.12597370147705, \"UMAP_Component_2\": 3.006608247756958, \"localization_site\": \"MIT\"}, {\"UMAP_Component_1\": 7.6583428382873535, \"UMAP_Component_2\": 5.1056928634643555, \"localization_site\": \"MIT\"}, {\"UMAP_Component_1\": 10.531942367553711, \"UMAP_Component_2\": 2.0749831199645996, \"localization_site\": \"MIT\"}, {\"UMAP_Component_1\": 12.258914947509766, \"UMAP_Component_2\": 7.864795684814453, \"localization_site\": \"MIT\"}, {\"UMAP_Component_1\": 14.47604751586914, \"UMAP_Component_2\": 7.269063949584961, \"localization_site\": \"NUC\"}, {\"UMAP_Component_1\": 10.371525764465332, \"UMAP_Component_2\": 7.099747180938721, \"localization_site\": \"ME3\"}, {\"UMAP_Component_1\": 8.596230506896973, \"UMAP_Component_2\": 10.836387634277344, \"localization_site\": \"NUC\"}, {\"UMAP_Component_1\": 9.07360553741455, \"UMAP_Component_2\": 10.439432144165039, \"localization_site\": \"NUC\"}, {\"UMAP_Component_1\": 11.533186912536621, \"UMAP_Component_2\": 9.812240600585938, \"localization_site\": \"MIT\"}, {\"UMAP_Component_1\": 8.984786987304688, \"UMAP_Component_2\": 2.5997226238250732, \"localization_site\": \"ME2\"}, {\"UMAP_Component_1\": -4.671720504760742, \"UMAP_Component_2\": 0.23780548572540283, \"localization_site\": \"POX\"}, {\"UMAP_Component_1\": 11.921524047851562, \"UMAP_Component_2\": 8.62173843383789, \"localization_site\": \"CYT\"}, {\"UMAP_Component_1\": 13.721318244934082, \"UMAP_Component_2\": 7.140505790710449, \"localization_site\": \"CYT\"}, {\"UMAP_Component_1\": 9.451233863830566, \"UMAP_Component_2\": 7.073874473571777, \"localization_site\": \"NUC\"}, {\"UMAP_Component_1\": 11.824373245239258, \"UMAP_Component_2\": 5.3162312507629395, \"localization_site\": \"CYT\"}, {\"UMAP_Component_1\": 10.838193893432617, \"UMAP_Component_2\": 6.390851974487305, \"localization_site\": \"POX\"}, {\"UMAP_Component_1\": 12.307258605957031, \"UMAP_Component_2\": 10.239202499389648, \"localization_site\": \"POX\"}, {\"UMAP_Component_1\": 14.120230674743652, \"UMAP_Component_2\": 4.394981384277344, \"localization_site\": \"POX\"}, {\"UMAP_Component_1\": 12.70433235168457, \"UMAP_Component_2\": 6.80512809753418, \"localization_site\": \"POX\"}, {\"UMAP_Component_1\": 12.077763557434082, \"UMAP_Component_2\": 10.67267894744873, \"localization_site\": \"CYT\"}, {\"UMAP_Component_1\": 7.235774993896484, \"UMAP_Component_2\": 5.020274639129639, \"localization_site\": \"ME3\"}, {\"UMAP_Component_1\": 13.136077880859375, \"UMAP_Component_2\": 4.0162787437438965, \"localization_site\": \"MIT\"}, {\"UMAP_Component_1\": 14.685966491699219, \"UMAP_Component_2\": 3.816424608230591, \"localization_site\": \"MIT\"}, {\"UMAP_Component_1\": 9.907358169555664, \"UMAP_Component_2\": 8.332232475280762, \"localization_site\": \"CYT\"}, {\"UMAP_Component_1\": 12.078632354736328, \"UMAP_Component_2\": 6.393401622772217, \"localization_site\": \"CYT\"}, {\"UMAP_Component_1\": 9.88034439086914, \"UMAP_Component_2\": 8.294241905212402, \"localization_site\": \"CYT\"}, {\"UMAP_Component_1\": 10.333060264587402, \"UMAP_Component_2\": 7.376138210296631, \"localization_site\": \"CYT\"}, {\"UMAP_Component_1\": 10.064386367797852, \"UMAP_Component_2\": 5.102729797363281, \"localization_site\": \"CYT\"}, {\"UMAP_Component_1\": 9.262560844421387, \"UMAP_Component_2\": 6.246790885925293, \"localization_site\": \"CYT\"}, {\"UMAP_Component_1\": -6.643036365509033, \"UMAP_Component_2\": 4.15083122253418, \"localization_site\": \"ERL\"}, {\"UMAP_Component_1\": 10.27495288848877, \"UMAP_Component_2\": 9.480446815490723, \"localization_site\": \"NUC\"}, {\"UMAP_Component_1\": 13.474366188049316, \"UMAP_Component_2\": 4.421754360198975, \"localization_site\": \"NUC\"}, {\"UMAP_Component_1\": 7.152665138244629, \"UMAP_Component_2\": 6.253159999847412, \"localization_site\": \"ME3\"}, {\"UMAP_Component_1\": 12.061286926269531, \"UMAP_Component_2\": 8.917923927307129, \"localization_site\": \"NUC\"}, {\"UMAP_Component_1\": 13.037886619567871, \"UMAP_Component_2\": 4.6439433097839355, \"localization_site\": \"MIT\"}, {\"UMAP_Component_1\": 9.20557975769043, \"UMAP_Component_2\": 2.1634323596954346, \"localization_site\": \"ME1\"}, {\"UMAP_Component_1\": 6.173433303833008, \"UMAP_Component_2\": 5.888329029083252, \"localization_site\": \"VAC\"}, {\"UMAP_Component_1\": 10.557135581970215, \"UMAP_Component_2\": 7.3399481773376465, \"localization_site\": \"VAC\"}, {\"UMAP_Component_1\": 10.185185432434082, \"UMAP_Component_2\": 2.507033109664917, \"localization_site\": \"VAC\"}, {\"UMAP_Component_1\": 10.440464973449707, \"UMAP_Component_2\": 7.101193904876709, \"localization_site\": \"VAC\"}, {\"UMAP_Component_1\": 11.90528392791748, \"UMAP_Component_2\": 9.387630462646484, \"localization_site\": \"VAC\"}, {\"UMAP_Component_1\": 11.666421890258789, \"UMAP_Component_2\": 5.852608680725098, \"localization_site\": \"NUC\"}, {\"UMAP_Component_1\": 13.924689292907715, \"UMAP_Component_2\": 5.413331985473633, \"localization_site\": \"MIT\"}, {\"UMAP_Component_1\": 13.450096130371094, \"UMAP_Component_2\": 4.318576335906982, \"localization_site\": \"MIT\"}, {\"UMAP_Component_1\": 9.903579711914062, \"UMAP_Component_2\": 1.9101539850234985, \"localization_site\": \"MIT\"}, {\"UMAP_Component_1\": 14.15292739868164, \"UMAP_Component_2\": 6.833303928375244, \"localization_site\": \"MIT\"}, {\"UMAP_Component_1\": 12.711858749389648, \"UMAP_Component_2\": 5.2729878425598145, \"localization_site\": \"MIT\"}, {\"UMAP_Component_1\": 11.988184928894043, \"UMAP_Component_2\": 9.546013832092285, \"localization_site\": \"MIT\"}, {\"UMAP_Component_1\": 12.114012718200684, \"UMAP_Component_2\": 6.50734806060791, \"localization_site\": \"MIT\"}, {\"UMAP_Component_1\": -4.688591480255127, \"UMAP_Component_2\": 0.2566491961479187, \"localization_site\": \"MIT\"}, {\"UMAP_Component_1\": 14.191594123840332, \"UMAP_Component_2\": 4.2554497718811035, \"localization_site\": \"MIT\"}, {\"UMAP_Component_1\": 12.326703071594238, \"UMAP_Component_2\": 6.374619960784912, \"localization_site\": \"MIT\"}, {\"UMAP_Component_1\": 9.768567085266113, \"UMAP_Component_2\": 7.258877754211426, \"localization_site\": \"CYT\"}, {\"UMAP_Component_1\": 11.785445213317871, \"UMAP_Component_2\": 5.2048020362854, \"localization_site\": \"CYT\"}, {\"UMAP_Component_1\": -6.670778274536133, \"UMAP_Component_2\": 4.1789045333862305, \"localization_site\": \"CYT\"}, {\"UMAP_Component_1\": 14.26716423034668, \"UMAP_Component_2\": 7.30751895904541, \"localization_site\": \"CYT\"}, {\"UMAP_Component_1\": 9.44359016418457, \"UMAP_Component_2\": 9.637258529663086, \"localization_site\": \"NUC\"}, {\"UMAP_Component_1\": 10.984264373779297, \"UMAP_Component_2\": 7.499489784240723, \"localization_site\": \"CYT\"}, {\"UMAP_Component_1\": 10.560601234436035, \"UMAP_Component_2\": 7.576483249664307, \"localization_site\": \"CYT\"}, {\"UMAP_Component_1\": 11.469810485839844, \"UMAP_Component_2\": 10.249975204467773, \"localization_site\": \"CYT\"}, {\"UMAP_Component_1\": 11.440388679504395, \"UMAP_Component_2\": 9.79751205444336, \"localization_site\": \"CYT\"}, {\"UMAP_Component_1\": 13.1524658203125, \"UMAP_Component_2\": 7.277561187744141, \"localization_site\": \"NUC\"}, {\"UMAP_Component_1\": 10.28260326385498, \"UMAP_Component_2\": 2.311936140060425, \"localization_site\": \"EXC\"}, {\"UMAP_Component_1\": 10.327924728393555, \"UMAP_Component_2\": 2.2968668937683105, \"localization_site\": \"EXC\"}, {\"UMAP_Component_1\": 9.173233985900879, \"UMAP_Component_2\": 6.2421369552612305, \"localization_site\": \"CYT\"}, {\"UMAP_Component_1\": 10.102149963378906, \"UMAP_Component_2\": 2.4077508449554443, \"localization_site\": \"EXC\"}, {\"UMAP_Component_1\": 11.750252723693848, \"UMAP_Component_2\": 7.9739670753479, \"localization_site\": \"NUC\"}, {\"UMAP_Component_1\": 10.267412185668945, \"UMAP_Component_2\": 2.3290698528289795, \"localization_site\": \"EXC\"}, {\"UMAP_Component_1\": 7.9113688468933105, \"UMAP_Component_2\": 4.496662616729736, \"localization_site\": \"ME3\"}, {\"UMAP_Component_1\": 8.356374740600586, \"UMAP_Component_2\": 6.542684555053711, \"localization_site\": \"NUC\"}, {\"UMAP_Component_1\": 6.802659034729004, \"UMAP_Component_2\": 6.136021614074707, \"localization_site\": \"ME3\"}, {\"UMAP_Component_1\": 12.017807960510254, \"UMAP_Component_2\": 8.780296325683594, \"localization_site\": \"NUC\"}, {\"UMAP_Component_1\": 6.079017639160156, \"UMAP_Component_2\": 6.441880702972412, \"localization_site\": \"ME3\"}, {\"UMAP_Component_1\": 14.173466682434082, \"UMAP_Component_2\": 5.039453029632568, \"localization_site\": \"NUC\"}, {\"UMAP_Component_1\": 14.101627349853516, \"UMAP_Component_2\": 3.4900014400482178, \"localization_site\": \"MIT\"}, {\"UMAP_Component_1\": 9.01888656616211, \"UMAP_Component_2\": 9.660908699035645, \"localization_site\": \"NUC\"}, {\"UMAP_Component_1\": 14.512043952941895, \"UMAP_Component_2\": 3.614924430847168, \"localization_site\": \"MIT\"}, {\"UMAP_Component_1\": 10.062501907348633, \"UMAP_Component_2\": 1.4094281196594238, \"localization_site\": \"EXC\"}, {\"UMAP_Component_1\": 10.227438926696777, \"UMAP_Component_2\": 1.3233518600463867, \"localization_site\": \"EXC\"}, {\"UMAP_Component_1\": 10.155601501464844, \"UMAP_Component_2\": 1.3302943706512451, \"localization_site\": \"EXC\"}, {\"UMAP_Component_1\": 9.826294898986816, \"UMAP_Component_2\": 5.725605487823486, \"localization_site\": \"ME3\"}, {\"UMAP_Component_1\": 9.551380157470703, \"UMAP_Component_2\": 2.678922176361084, \"localization_site\": \"ME1\"}, {\"UMAP_Component_1\": 7.867486953735352, \"UMAP_Component_2\": 4.530901908874512, \"localization_site\": \"ME3\"}, {\"UMAP_Component_1\": 6.787973880767822, \"UMAP_Component_2\": 6.058695316314697, \"localization_site\": \"ME3\"}, {\"UMAP_Component_1\": 6.576498031616211, \"UMAP_Component_2\": 6.065478324890137, \"localization_site\": \"VAC\"}, {\"UMAP_Component_1\": 11.350296020507812, \"UMAP_Component_2\": 5.9123430252075195, \"localization_site\": \"CYT\"}, {\"UMAP_Component_1\": 9.856194496154785, \"UMAP_Component_2\": 1.4440420866012573, \"localization_site\": \"ME2\"}, {\"UMAP_Component_1\": 9.85728931427002, \"UMAP_Component_2\": 1.4566595554351807, \"localization_site\": \"ME2\"}, {\"UMAP_Component_1\": 6.7209792137146, \"UMAP_Component_2\": 6.209219932556152, \"localization_site\": \"ME3\"}, {\"UMAP_Component_1\": 6.688970565795898, \"UMAP_Component_2\": 6.045931339263916, \"localization_site\": \"ME3\"}, {\"UMAP_Component_1\": 10.171571731567383, \"UMAP_Component_2\": 8.913662910461426, \"localization_site\": \"NUC\"}, {\"UMAP_Component_1\": 7.444522857666016, \"UMAP_Component_2\": 5.966823101043701, \"localization_site\": \"ME3\"}, {\"UMAP_Component_1\": 7.155210971832275, \"UMAP_Component_2\": 6.007950782775879, \"localization_site\": \"ME3\"}, {\"UMAP_Component_1\": 10.57870101928711, \"UMAP_Component_2\": 7.451632022857666, \"localization_site\": \"NUC\"}, {\"UMAP_Component_1\": 11.670693397521973, \"UMAP_Component_2\": 9.146490097045898, \"localization_site\": \"NUC\"}, {\"UMAP_Component_1\": 9.107820510864258, \"UMAP_Component_2\": 7.76038932800293, \"localization_site\": \"NUC\"}, {\"UMAP_Component_1\": 9.492561340332031, \"UMAP_Component_2\": 9.39188289642334, \"localization_site\": \"NUC\"}, {\"UMAP_Component_1\": 11.291840553283691, \"UMAP_Component_2\": 9.33899211883545, \"localization_site\": \"NUC\"}, {\"UMAP_Component_1\": 9.776267051696777, \"UMAP_Component_2\": 4.96601676940918, \"localization_site\": \"NUC\"}, {\"UMAP_Component_1\": 11.751571655273438, \"UMAP_Component_2\": 5.9690070152282715, \"localization_site\": \"NUC\"}, {\"UMAP_Component_1\": 7.766323566436768, \"UMAP_Component_2\": 6.109340190887451, \"localization_site\": \"NUC\"}, {\"UMAP_Component_1\": 14.58619213104248, \"UMAP_Component_2\": 7.394340991973877, \"localization_site\": \"NUC\"}, {\"UMAP_Component_1\": 11.576725959777832, \"UMAP_Component_2\": 7.662032604217529, \"localization_site\": \"POX\"}, {\"UMAP_Component_1\": 8.987497329711914, \"UMAP_Component_2\": 3.0702555179595947, \"localization_site\": \"ME3\"}, {\"UMAP_Component_1\": 10.1290864944458, \"UMAP_Component_2\": 5.762362480163574, \"localization_site\": \"MIT\"}, {\"UMAP_Component_1\": 10.130939483642578, \"UMAP_Component_2\": 8.020452499389648, \"localization_site\": \"CYT\"}, {\"UMAP_Component_1\": 11.256414413452148, \"UMAP_Component_2\": 8.688192367553711, \"localization_site\": \"NUC\"}, {\"UMAP_Component_1\": 10.465376853942871, \"UMAP_Component_2\": 7.004364967346191, \"localization_site\": \"CYT\"}, {\"UMAP_Component_1\": 8.399553298950195, \"UMAP_Component_2\": 7.576536178588867, \"localization_site\": \"VAC\"}, {\"UMAP_Component_1\": 9.99811840057373, \"UMAP_Component_2\": 2.627248764038086, \"localization_site\": \"VAC\"}, {\"UMAP_Component_1\": 12.879952430725098, \"UMAP_Component_2\": 3.8041112422943115, \"localization_site\": \"VAC\"}, {\"UMAP_Component_1\": 10.619621276855469, \"UMAP_Component_2\": 5.318150043487549, \"localization_site\": \"CYT\"}, {\"UMAP_Component_1\": 10.266946792602539, \"UMAP_Component_2\": 5.667060375213623, \"localization_site\": \"CYT\"}, {\"UMAP_Component_1\": 9.440167427062988, \"UMAP_Component_2\": 4.857989311218262, \"localization_site\": \"CYT\"}, {\"UMAP_Component_1\": 12.173783302307129, \"UMAP_Component_2\": 7.559295654296875, \"localization_site\": \"CYT\"}, {\"UMAP_Component_1\": 12.15720272064209, \"UMAP_Component_2\": 6.568685531616211, \"localization_site\": \"CYT\"}, {\"UMAP_Component_1\": 13.857584953308105, \"UMAP_Component_2\": 7.2354912757873535, \"localization_site\": \"CYT\"}, {\"UMAP_Component_1\": 12.112696647644043, \"UMAP_Component_2\": 9.216273307800293, \"localization_site\": \"NUC\"}, {\"UMAP_Component_1\": 14.580320358276367, \"UMAP_Component_2\": 4.485004901885986, \"localization_site\": \"NUC\"}, {\"UMAP_Component_1\": 9.832622528076172, \"UMAP_Component_2\": 7.172637462615967, \"localization_site\": \"CYT\"}, {\"UMAP_Component_1\": 9.47693920135498, \"UMAP_Component_2\": 3.265077829360962, \"localization_site\": \"CYT\"}, {\"UMAP_Component_1\": 8.497873306274414, \"UMAP_Component_2\": 8.145578384399414, \"localization_site\": \"NUC\"}, {\"UMAP_Component_1\": 11.639032363891602, \"UMAP_Component_2\": 8.999247550964355, \"localization_site\": \"NUC\"}, {\"UMAP_Component_1\": 12.781136512756348, \"UMAP_Component_2\": 5.058905601501465, \"localization_site\": \"NUC\"}, {\"UMAP_Component_1\": 11.566965103149414, \"UMAP_Component_2\": 8.567461013793945, \"localization_site\": \"NUC\"}, {\"UMAP_Component_1\": 9.653077125549316, \"UMAP_Component_2\": 10.103445053100586, \"localization_site\": \"NUC\"}, {\"UMAP_Component_1\": 10.622283935546875, \"UMAP_Component_2\": 6.536365032196045, \"localization_site\": \"NUC\"}, {\"UMAP_Component_1\": 11.474403381347656, \"UMAP_Component_2\": 6.665206432342529, \"localization_site\": \"NUC\"}, {\"UMAP_Component_1\": 10.574746131896973, \"UMAP_Component_2\": 7.7222819328308105, \"localization_site\": \"NUC\"}, {\"UMAP_Component_1\": 11.885199546813965, \"UMAP_Component_2\": 8.271860122680664, \"localization_site\": \"NUC\"}, {\"UMAP_Component_1\": 10.694222450256348, \"UMAP_Component_2\": 9.4609956741333, \"localization_site\": \"NUC\"}, {\"UMAP_Component_1\": -6.685624599456787, \"UMAP_Component_2\": 4.193754196166992, \"localization_site\": \"NUC\"}, {\"UMAP_Component_1\": 9.416955947875977, \"UMAP_Component_2\": 8.609600067138672, \"localization_site\": \"NUC\"}, {\"UMAP_Component_1\": 9.472896575927734, \"UMAP_Component_2\": 9.851624488830566, \"localization_site\": \"NUC\"}, {\"UMAP_Component_1\": 9.817023277282715, \"UMAP_Component_2\": 8.563105583190918, \"localization_site\": \"NUC\"}, {\"UMAP_Component_1\": 11.362735748291016, \"UMAP_Component_2\": 10.154378890991211, \"localization_site\": \"CYT\"}, {\"UMAP_Component_1\": 11.381335258483887, \"UMAP_Component_2\": 10.095914840698242, \"localization_site\": \"CYT\"}, {\"UMAP_Component_1\": 11.846020698547363, \"UMAP_Component_2\": 5.933265686035156, \"localization_site\": \"CYT\"}, {\"UMAP_Component_1\": 10.20910930633545, \"UMAP_Component_2\": 5.878791809082031, \"localization_site\": \"CYT\"}, {\"UMAP_Component_1\": 13.281288146972656, \"UMAP_Component_2\": 4.130132675170898, \"localization_site\": \"CYT\"}, {\"UMAP_Component_1\": 14.278096199035645, \"UMAP_Component_2\": 3.9639742374420166, \"localization_site\": \"MIT\"}, {\"UMAP_Component_1\": 13.871122360229492, \"UMAP_Component_2\": 5.2678704261779785, \"localization_site\": \"NUC\"}, {\"UMAP_Component_1\": 9.042584419250488, \"UMAP_Component_2\": 3.0664491653442383, \"localization_site\": \"ME2\"}, {\"UMAP_Component_1\": 13.65312671661377, \"UMAP_Component_2\": 7.0830841064453125, \"localization_site\": \"CYT\"}, {\"UMAP_Component_1\": 11.33395004272461, \"UMAP_Component_2\": 8.346877098083496, \"localization_site\": \"CYT\"}, {\"UMAP_Component_1\": 6.193711280822754, \"UMAP_Component_2\": 6.428850173950195, \"localization_site\": \"ME3\"}, {\"UMAP_Component_1\": 14.523848533630371, \"UMAP_Component_2\": 7.340441703796387, \"localization_site\": \"CYT\"}, {\"UMAP_Component_1\": 12.078197479248047, \"UMAP_Component_2\": 8.372126579284668, \"localization_site\": \"CYT\"}, {\"UMAP_Component_1\": 11.784638404846191, \"UMAP_Component_2\": 10.682433128356934, \"localization_site\": \"CYT\"}, {\"UMAP_Component_1\": 13.27686595916748, \"UMAP_Component_2\": 3.5805633068084717, \"localization_site\": \"MIT\"}, {\"UMAP_Component_1\": 13.331951141357422, \"UMAP_Component_2\": 4.588954925537109, \"localization_site\": \"MIT\"}, {\"UMAP_Component_1\": 11.21826457977295, \"UMAP_Component_2\": 8.006484031677246, \"localization_site\": \"NUC\"}, {\"UMAP_Component_1\": 7.22827672958374, \"UMAP_Component_2\": 4.859532833099365, \"localization_site\": \"ME3\"}, {\"UMAP_Component_1\": 10.399883270263672, \"UMAP_Component_2\": 8.454290390014648, \"localization_site\": \"CYT\"}, {\"UMAP_Component_1\": 9.811226844787598, \"UMAP_Component_2\": 8.72545337677002, \"localization_site\": \"CYT\"}, {\"UMAP_Component_1\": 10.673211097717285, \"UMAP_Component_2\": 4.635364532470703, \"localization_site\": \"CYT\"}, {\"UMAP_Component_1\": 9.971527099609375, \"UMAP_Component_2\": 4.962401866912842, \"localization_site\": \"MIT\"}, {\"UMAP_Component_1\": 12.836822509765625, \"UMAP_Component_2\": 4.749946117401123, \"localization_site\": \"MIT\"}, {\"UMAP_Component_1\": 10.756138801574707, \"UMAP_Component_2\": 5.088690280914307, \"localization_site\": \"MIT\"}, {\"UMAP_Component_1\": 10.348249435424805, \"UMAP_Component_2\": 5.0882391929626465, \"localization_site\": \"MIT\"}, {\"UMAP_Component_1\": 12.817744255065918, \"UMAP_Component_2\": 8.64836311340332, \"localization_site\": \"MIT\"}, {\"UMAP_Component_1\": 9.109249114990234, \"UMAP_Component_2\": 3.365682601928711, \"localization_site\": \"MIT\"}, {\"UMAP_Component_1\": 10.285357475280762, \"UMAP_Component_2\": 9.718644142150879, \"localization_site\": \"NUC\"}, {\"UMAP_Component_1\": 13.484496116638184, \"UMAP_Component_2\": 7.053441047668457, \"localization_site\": \"NUC\"}, {\"UMAP_Component_1\": 12.412873268127441, \"UMAP_Component_2\": 8.984705924987793, \"localization_site\": \"NUC\"}, {\"UMAP_Component_1\": 8.760200500488281, \"UMAP_Component_2\": 10.29007339477539, \"localization_site\": \"NUC\"}, {\"UMAP_Component_1\": 8.689826965332031, \"UMAP_Component_2\": 8.183743476867676, \"localization_site\": \"NUC\"}, {\"UMAP_Component_1\": 8.969123840332031, \"UMAP_Component_2\": 10.191524505615234, \"localization_site\": \"NUC\"}, {\"UMAP_Component_1\": 12.582740783691406, \"UMAP_Component_2\": 7.723536014556885, \"localization_site\": \"NUC\"}, {\"UMAP_Component_1\": 10.730963706970215, \"UMAP_Component_2\": 8.04311466217041, \"localization_site\": \"NUC\"}, {\"UMAP_Component_1\": 10.272838592529297, \"UMAP_Component_2\": 7.231518268585205, \"localization_site\": \"NUC\"}, {\"UMAP_Component_1\": 8.439752578735352, \"UMAP_Component_2\": 11.048962593078613, \"localization_site\": \"NUC\"}, {\"UMAP_Component_1\": 8.67298698425293, \"UMAP_Component_2\": 10.704018592834473, \"localization_site\": \"NUC\"}, {\"UMAP_Component_1\": 10.18345832824707, \"UMAP_Component_2\": 6.077289581298828, \"localization_site\": \"NUC\"}, {\"UMAP_Component_1\": 10.374265670776367, \"UMAP_Component_2\": 5.236955642700195, \"localization_site\": \"NUC\"}, {\"UMAP_Component_1\": 10.805794715881348, \"UMAP_Component_2\": 9.283917427062988, \"localization_site\": \"NUC\"}, {\"UMAP_Component_1\": 11.558465957641602, \"UMAP_Component_2\": 7.633118152618408, \"localization_site\": \"NUC\"}, {\"UMAP_Component_1\": 10.660890579223633, \"UMAP_Component_2\": 5.094188213348389, \"localization_site\": \"NUC\"}, {\"UMAP_Component_1\": 9.30981159210205, \"UMAP_Component_2\": 8.281598091125488, \"localization_site\": \"NUC\"}, {\"UMAP_Component_1\": 12.886442184448242, \"UMAP_Component_2\": 4.9325270652771, \"localization_site\": \"NUC\"}, {\"UMAP_Component_1\": 8.251629829406738, \"UMAP_Component_2\": 10.91436767578125, \"localization_site\": \"NUC\"}, {\"UMAP_Component_1\": 9.022342681884766, \"UMAP_Component_2\": 9.484366416931152, \"localization_site\": \"NUC\"}, {\"UMAP_Component_1\": 8.206841468811035, \"UMAP_Component_2\": 10.789385795593262, \"localization_site\": \"NUC\"}, {\"UMAP_Component_1\": 13.079279899597168, \"UMAP_Component_2\": 3.909492015838623, \"localization_site\": \"CYT\"}, {\"UMAP_Component_1\": 9.261445045471191, \"UMAP_Component_2\": 6.190302848815918, \"localization_site\": \"CYT\"}, {\"UMAP_Component_1\": 8.604266166687012, \"UMAP_Component_2\": 8.122906684875488, \"localization_site\": \"NUC\"}, {\"UMAP_Component_1\": 11.081170082092285, \"UMAP_Component_2\": 6.341939926147461, \"localization_site\": \"CYT\"}, {\"UMAP_Component_1\": 11.143743515014648, \"UMAP_Component_2\": 5.214504718780518, \"localization_site\": \"CYT\"}, {\"UMAP_Component_1\": 12.65084457397461, \"UMAP_Component_2\": 5.215597152709961, \"localization_site\": \"NUC\"}, {\"UMAP_Component_1\": 14.334837913513184, \"UMAP_Component_2\": 4.117919921875, \"localization_site\": \"MIT\"}, {\"UMAP_Component_1\": 12.121988296508789, \"UMAP_Component_2\": 7.444846153259277, \"localization_site\": \"NUC\"}, {\"UMAP_Component_1\": 10.692000389099121, \"UMAP_Component_2\": 5.395770072937012, \"localization_site\": \"NUC\"}, {\"UMAP_Component_1\": 12.066628456115723, \"UMAP_Component_2\": 8.912259101867676, \"localization_site\": \"NUC\"}, {\"UMAP_Component_1\": 13.56955623626709, \"UMAP_Component_2\": 7.418681621551514, \"localization_site\": \"NUC\"}, {\"UMAP_Component_1\": 8.595131874084473, \"UMAP_Component_2\": 8.037501335144043, \"localization_site\": \"NUC\"}, {\"UMAP_Component_1\": 7.877443313598633, \"UMAP_Component_2\": 5.23110294342041, \"localization_site\": \"ME3\"}, {\"UMAP_Component_1\": 8.937145233154297, \"UMAP_Component_2\": 10.17227554321289, \"localization_site\": \"NUC\"}, {\"UMAP_Component_1\": 12.726842880249023, \"UMAP_Component_2\": 8.40375804901123, \"localization_site\": \"NUC\"}, {\"UMAP_Component_1\": 12.174883842468262, \"UMAP_Component_2\": 8.695239067077637, \"localization_site\": \"NUC\"}, {\"UMAP_Component_1\": 12.168777465820312, \"UMAP_Component_2\": 6.2608537673950195, \"localization_site\": \"NUC\"}, {\"UMAP_Component_1\": 9.709075927734375, \"UMAP_Component_2\": 8.40833568572998, \"localization_site\": \"NUC\"}, {\"UMAP_Component_1\": 9.086286544799805, \"UMAP_Component_2\": 6.262875080108643, \"localization_site\": \"NUC\"}, {\"UMAP_Component_1\": 12.343506813049316, \"UMAP_Component_2\": 6.504859447479248, \"localization_site\": \"NUC\"}, {\"UMAP_Component_1\": 7.777241230010986, \"UMAP_Component_2\": 5.11134147644043, \"localization_site\": \"NUC\"}, {\"UMAP_Component_1\": 12.495902061462402, \"UMAP_Component_2\": 8.693717002868652, \"localization_site\": \"NUC\"}, {\"UMAP_Component_1\": 13.808967590332031, \"UMAP_Component_2\": 6.88320779800415, \"localization_site\": \"CYT\"}, {\"UMAP_Component_1\": 12.23332405090332, \"UMAP_Component_2\": 4.782939910888672, \"localization_site\": \"CYT\"}, {\"UMAP_Component_1\": 8.755243301391602, \"UMAP_Component_2\": 10.470498085021973, \"localization_site\": \"NUC\"}, {\"UMAP_Component_1\": 13.302458763122559, \"UMAP_Component_2\": 6.14772367477417, \"localization_site\": \"MIT\"}, {\"UMAP_Component_1\": 11.533616065979004, \"UMAP_Component_2\": 7.653723239898682, \"localization_site\": \"MIT\"}, {\"UMAP_Component_1\": 13.467321395874023, \"UMAP_Component_2\": 3.8728339672088623, \"localization_site\": \"MIT\"}, {\"UMAP_Component_1\": 12.597999572753906, \"UMAP_Component_2\": 7.149575233459473, \"localization_site\": \"NUC\"}, {\"UMAP_Component_1\": 11.473165512084961, \"UMAP_Component_2\": 10.78315544128418, \"localization_site\": \"CYT\"}, {\"UMAP_Component_1\": 13.582685470581055, \"UMAP_Component_2\": 3.6043412685394287, \"localization_site\": \"NUC\"}, {\"UMAP_Component_1\": 9.439581871032715, \"UMAP_Component_2\": 6.152669429779053, \"localization_site\": \"NUC\"}, {\"UMAP_Component_1\": 11.607532501220703, \"UMAP_Component_2\": 7.536236763000488, \"localization_site\": \"NUC\"}, {\"UMAP_Component_1\": 14.000941276550293, \"UMAP_Component_2\": 7.431916236877441, \"localization_site\": \"NUC\"}, {\"UMAP_Component_1\": 13.957026481628418, \"UMAP_Component_2\": 7.4320173263549805, \"localization_site\": \"NUC\"}, {\"UMAP_Component_1\": 13.102254867553711, \"UMAP_Component_2\": 8.148148536682129, \"localization_site\": \"CYT\"}, {\"UMAP_Component_1\": 13.05594253540039, \"UMAP_Component_2\": 8.272887229919434, \"localization_site\": \"CYT\"}, {\"UMAP_Component_1\": 10.73984432220459, \"UMAP_Component_2\": 5.775902271270752, \"localization_site\": \"CYT\"}, {\"UMAP_Component_1\": 13.131477355957031, \"UMAP_Component_2\": 7.587182998657227, \"localization_site\": \"CYT\"}, {\"UMAP_Component_1\": 13.125200271606445, \"UMAP_Component_2\": 7.583095073699951, \"localization_site\": \"CYT\"}, {\"UMAP_Component_1\": 13.408097267150879, \"UMAP_Component_2\": 6.319851398468018, \"localization_site\": \"CYT\"}, {\"UMAP_Component_1\": 13.42600154876709, \"UMAP_Component_2\": 6.340219974517822, \"localization_site\": \"CYT\"}, {\"UMAP_Component_1\": 13.862846374511719, \"UMAP_Component_2\": 7.927735328674316, \"localization_site\": \"CYT\"}, {\"UMAP_Component_1\": 13.884842872619629, \"UMAP_Component_2\": 7.934256076812744, \"localization_site\": \"CYT\"}, {\"UMAP_Component_1\": 12.127084732055664, \"UMAP_Component_2\": 7.665185451507568, \"localization_site\": \"CYT\"}, {\"UMAP_Component_1\": 10.67819595336914, \"UMAP_Component_2\": 4.780730247497559, \"localization_site\": \"NUC\"}, {\"UMAP_Component_1\": 10.939290046691895, \"UMAP_Component_2\": 9.112797737121582, \"localization_site\": \"NUC\"}, {\"UMAP_Component_1\": 8.883871078491211, \"UMAP_Component_2\": 8.059447288513184, \"localization_site\": \"NUC\"}, {\"UMAP_Component_1\": 10.457366943359375, \"UMAP_Component_2\": 6.936623573303223, \"localization_site\": \"NUC\"}, {\"UMAP_Component_1\": 12.252701759338379, \"UMAP_Component_2\": 6.29451322555542, \"localization_site\": \"NUC\"}, {\"UMAP_Component_1\": 12.12231159210205, \"UMAP_Component_2\": 10.613591194152832, \"localization_site\": \"NUC\"}, {\"UMAP_Component_1\": 10.388384819030762, \"UMAP_Component_2\": 9.135966300964355, \"localization_site\": \"NUC\"}, {\"UMAP_Component_1\": 10.449050903320312, \"UMAP_Component_2\": 5.365495204925537, \"localization_site\": \"NUC\"}, {\"UMAP_Component_1\": 8.744126319885254, \"UMAP_Component_2\": 9.956628799438477, \"localization_site\": \"NUC\"}, {\"UMAP_Component_1\": 12.580148696899414, \"UMAP_Component_2\": 8.774676322937012, \"localization_site\": \"NUC\"}, {\"UMAP_Component_1\": 11.876080513000488, \"UMAP_Component_2\": 9.226631164550781, \"localization_site\": \"NUC\"}, {\"UMAP_Component_1\": 12.266266822814941, \"UMAP_Component_2\": 6.3382062911987305, \"localization_site\": \"NUC\"}, {\"UMAP_Component_1\": 12.520183563232422, \"UMAP_Component_2\": 7.333376884460449, \"localization_site\": \"NUC\"}, {\"UMAP_Component_1\": 13.3342866897583, \"UMAP_Component_2\": 7.932098865509033, \"localization_site\": \"NUC\"}, {\"UMAP_Component_1\": 13.237894058227539, \"UMAP_Component_2\": 7.029096603393555, \"localization_site\": \"NUC\"}, {\"UMAP_Component_1\": 13.346295356750488, \"UMAP_Component_2\": 4.823000907897949, \"localization_site\": \"NUC\"}, {\"UMAP_Component_1\": 10.308314323425293, \"UMAP_Component_2\": 5.865377426147461, \"localization_site\": \"NUC\"}, {\"UMAP_Component_1\": 12.163064002990723, \"UMAP_Component_2\": 10.723482131958008, \"localization_site\": \"NUC\"}, {\"UMAP_Component_1\": 11.97956371307373, \"UMAP_Component_2\": 8.518401145935059, \"localization_site\": \"NUC\"}, {\"UMAP_Component_1\": 11.58184814453125, \"UMAP_Component_2\": 9.56872272491455, \"localization_site\": \"NUC\"}, {\"UMAP_Component_1\": 10.9038724899292, \"UMAP_Component_2\": 9.792275428771973, \"localization_site\": \"NUC\"}, {\"UMAP_Component_1\": 10.634889602661133, \"UMAP_Component_2\": 9.648300170898438, \"localization_site\": \"NUC\"}, {\"UMAP_Component_1\": 11.45242977142334, \"UMAP_Component_2\": 9.683629989624023, \"localization_site\": \"NUC\"}, {\"UMAP_Component_1\": 8.787615776062012, \"UMAP_Component_2\": 9.279268264770508, \"localization_site\": \"CYT\"}, {\"UMAP_Component_1\": 14.541808128356934, \"UMAP_Component_2\": 7.533853530883789, \"localization_site\": \"CYT\"}, {\"UMAP_Component_1\": 14.49486255645752, \"UMAP_Component_2\": 7.5821123123168945, \"localization_site\": \"CYT\"}, {\"UMAP_Component_1\": 14.418851852416992, \"UMAP_Component_2\": 7.074460983276367, \"localization_site\": \"CYT\"}, {\"UMAP_Component_1\": 14.408597946166992, \"UMAP_Component_2\": 7.074256420135498, \"localization_site\": \"CYT\"}, {\"UMAP_Component_1\": 8.542057991027832, \"UMAP_Component_2\": 6.820427894592285, \"localization_site\": \"CYT\"}, {\"UMAP_Component_1\": 8.543892860412598, \"UMAP_Component_2\": 6.837462425231934, \"localization_site\": \"CYT\"}, {\"UMAP_Component_1\": 11.051412582397461, \"UMAP_Component_2\": 5.582709789276123, \"localization_site\": \"CYT\"}, {\"UMAP_Component_1\": 11.51644515991211, \"UMAP_Component_2\": 6.171270847320557, \"localization_site\": \"CYT\"}, {\"UMAP_Component_1\": 11.500527381896973, \"UMAP_Component_2\": 6.134013652801514, \"localization_site\": \"CYT\"}, {\"UMAP_Component_1\": 9.684624671936035, \"UMAP_Component_2\": 6.069683074951172, \"localization_site\": \"CYT\"}, {\"UMAP_Component_1\": 9.519740104675293, \"UMAP_Component_2\": 6.197336196899414, \"localization_site\": \"CYT\"}, {\"UMAP_Component_1\": 14.220732688903809, \"UMAP_Component_2\": 7.700984477996826, \"localization_site\": \"CYT\"}, {\"UMAP_Component_1\": 13.490249633789062, \"UMAP_Component_2\": 6.4385223388671875, \"localization_site\": \"CYT\"}, {\"UMAP_Component_1\": 13.456363677978516, \"UMAP_Component_2\": 6.399677753448486, \"localization_site\": \"CYT\"}, {\"UMAP_Component_1\": 13.066129684448242, \"UMAP_Component_2\": 5.167866230010986, \"localization_site\": \"CYT\"}, {\"UMAP_Component_1\": 12.457359313964844, \"UMAP_Component_2\": 6.464905261993408, \"localization_site\": \"CYT\"}, {\"UMAP_Component_1\": 9.992847442626953, \"UMAP_Component_2\": 1.8109818696975708, \"localization_site\": \"CYT\"}, {\"UMAP_Component_1\": 9.995917320251465, \"UMAP_Component_2\": 1.7909756898880005, \"localization_site\": \"CYT\"}, {\"UMAP_Component_1\": 12.8590087890625, \"UMAP_Component_2\": 8.731036186218262, \"localization_site\": \"CYT\"}, {\"UMAP_Component_1\": 12.896729469299316, \"UMAP_Component_2\": 8.70215129852295, \"localization_site\": \"CYT\"}, {\"UMAP_Component_1\": 11.762958526611328, \"UMAP_Component_2\": 5.353305339813232, \"localization_site\": \"CYT\"}, {\"UMAP_Component_1\": 12.328506469726562, \"UMAP_Component_2\": 8.312850952148438, \"localization_site\": \"CYT\"}, {\"UMAP_Component_1\": 13.135733604431152, \"UMAP_Component_2\": 7.91903018951416, \"localization_site\": \"CYT\"}, {\"UMAP_Component_1\": 13.148130416870117, \"UMAP_Component_2\": 7.9271416664123535, \"localization_site\": \"CYT\"}, {\"UMAP_Component_1\": 14.298190116882324, \"UMAP_Component_2\": 7.727654457092285, \"localization_site\": \"CYT\"}, {\"UMAP_Component_1\": 14.260863304138184, \"UMAP_Component_2\": 7.809768199920654, \"localization_site\": \"CYT\"}, {\"UMAP_Component_1\": 14.40153980255127, \"UMAP_Component_2\": 7.756260395050049, \"localization_site\": \"CYT\"}, {\"UMAP_Component_1\": 14.443466186523438, \"UMAP_Component_2\": 7.730994701385498, \"localization_site\": \"CYT\"}, {\"UMAP_Component_1\": 14.42564582824707, \"UMAP_Component_2\": 7.743950843811035, \"localization_site\": \"CYT\"}, {\"UMAP_Component_1\": 12.489677429199219, \"UMAP_Component_2\": 4.895836353302002, \"localization_site\": \"CYT\"}, {\"UMAP_Component_1\": 12.368426322937012, \"UMAP_Component_2\": 5.053502082824707, \"localization_site\": \"CYT\"}, {\"UMAP_Component_1\": 14.304025650024414, \"UMAP_Component_2\": 4.81824254989624, \"localization_site\": \"CYT\"}, {\"UMAP_Component_1\": 9.827524185180664, \"UMAP_Component_2\": 10.004826545715332, \"localization_site\": \"CYT\"}, {\"UMAP_Component_1\": 12.928921699523926, \"UMAP_Component_2\": 7.305848598480225, \"localization_site\": \"CYT\"}, {\"UMAP_Component_1\": 9.632966995239258, \"UMAP_Component_2\": 5.382864952087402, \"localization_site\": \"CYT\"}, {\"UMAP_Component_1\": 9.641104698181152, \"UMAP_Component_2\": 3.21742844581604, \"localization_site\": \"CYT\"}, {\"UMAP_Component_1\": 9.640417098999023, \"UMAP_Component_2\": 3.263173818588257, \"localization_site\": \"CYT\"}, {\"UMAP_Component_1\": 9.58294677734375, \"UMAP_Component_2\": 3.188363790512085, \"localization_site\": \"CYT\"}, {\"UMAP_Component_1\": 9.676009178161621, \"UMAP_Component_2\": 3.1161880493164062, \"localization_site\": \"CYT\"}, {\"UMAP_Component_1\": 10.823590278625488, \"UMAP_Component_2\": 7.034845352172852, \"localization_site\": \"MIT\"}, {\"UMAP_Component_1\": 10.006916046142578, \"UMAP_Component_2\": 5.758335113525391, \"localization_site\": \"NUC\"}, {\"UMAP_Component_1\": 10.320334434509277, \"UMAP_Component_2\": 4.503458023071289, \"localization_site\": \"NUC\"}, {\"UMAP_Component_1\": 13.666844367980957, \"UMAP_Component_2\": 3.740459680557251, \"localization_site\": \"MIT\"}, {\"UMAP_Component_1\": 9.901598930358887, \"UMAP_Component_2\": 8.908961296081543, \"localization_site\": \"CYT\"}, {\"UMAP_Component_1\": 13.052739143371582, \"UMAP_Component_2\": 7.213647842407227, \"localization_site\": \"CYT\"}, {\"UMAP_Component_1\": 13.056894302368164, \"UMAP_Component_2\": 7.212475299835205, \"localization_site\": \"CYT\"}, {\"UMAP_Component_1\": 13.214825630187988, \"UMAP_Component_2\": 8.006339073181152, \"localization_site\": \"CYT\"}, {\"UMAP_Component_1\": 13.236711502075195, \"UMAP_Component_2\": 7.975223541259766, \"localization_site\": \"CYT\"}, {\"UMAP_Component_1\": 12.503015518188477, \"UMAP_Component_2\": 5.3577117919921875, \"localization_site\": \"CYT\"}, {\"UMAP_Component_1\": 11.733989715576172, \"UMAP_Component_2\": 7.849071025848389, \"localization_site\": \"CYT\"}, {\"UMAP_Component_1\": 11.753671646118164, \"UMAP_Component_2\": 7.880749702453613, \"localization_site\": \"CYT\"}, {\"UMAP_Component_1\": 12.152119636535645, \"UMAP_Component_2\": 7.690950870513916, \"localization_site\": \"CYT\"}, {\"UMAP_Component_1\": 13.078920364379883, \"UMAP_Component_2\": 4.707123756408691, \"localization_site\": \"CYT\"}, {\"UMAP_Component_1\": 13.003853797912598, \"UMAP_Component_2\": 4.668374538421631, \"localization_site\": \"CYT\"}, {\"UMAP_Component_1\": 10.327635765075684, \"UMAP_Component_2\": 5.667241096496582, \"localization_site\": \"CYT\"}, {\"UMAP_Component_1\": 10.316378593444824, \"UMAP_Component_2\": 5.709383010864258, \"localization_site\": \"CYT\"}, {\"UMAP_Component_1\": 13.361947059631348, \"UMAP_Component_2\": 4.676813125610352, \"localization_site\": \"CYT\"}, {\"UMAP_Component_1\": 13.33065128326416, \"UMAP_Component_2\": 4.711479187011719, \"localization_site\": \"CYT\"}, {\"UMAP_Component_1\": 11.126350402832031, \"UMAP_Component_2\": 6.196254730224609, \"localization_site\": \"CYT\"}, {\"UMAP_Component_1\": 12.29139518737793, \"UMAP_Component_2\": 6.3894243240356445, \"localization_site\": \"CYT\"}, {\"UMAP_Component_1\": 14.441821098327637, \"UMAP_Component_2\": 7.141915798187256, \"localization_site\": \"CYT\"}, {\"UMAP_Component_1\": 8.737306594848633, \"UMAP_Component_2\": 10.259196281433105, \"localization_site\": \"CYT\"}, {\"UMAP_Component_1\": 12.903132438659668, \"UMAP_Component_2\": 5.8382368087768555, \"localization_site\": \"CYT\"}, {\"UMAP_Component_1\": 12.924386978149414, \"UMAP_Component_2\": 5.841515064239502, \"localization_site\": \"CYT\"}, {\"UMAP_Component_1\": 13.888697624206543, \"UMAP_Component_2\": 5.736041069030762, \"localization_site\": \"CYT\"}, {\"UMAP_Component_1\": 13.853972434997559, \"UMAP_Component_2\": 5.786550521850586, \"localization_site\": \"CYT\"}, {\"UMAP_Component_1\": 8.454174995422363, \"UMAP_Component_2\": 8.170968055725098, \"localization_site\": \"NUC\"}, {\"UMAP_Component_1\": 13.437126159667969, \"UMAP_Component_2\": 8.027344703674316, \"localization_site\": \"NUC\"}, {\"UMAP_Component_1\": 11.736417770385742, \"UMAP_Component_2\": 8.593340873718262, \"localization_site\": \"NUC\"}, {\"UMAP_Component_1\": 11.919849395751953, \"UMAP_Component_2\": 7.8175129890441895, \"localization_site\": \"CYT\"}, {\"UMAP_Component_1\": 13.491167068481445, \"UMAP_Component_2\": 7.933657169342041, \"localization_site\": \"CYT\"}, {\"UMAP_Component_1\": 9.73503303527832, \"UMAP_Component_2\": 6.564582347869873, \"localization_site\": \"ME3\"}, {\"UMAP_Component_1\": 11.573197364807129, \"UMAP_Component_2\": 7.682174205780029, \"localization_site\": \"CYT\"}, {\"UMAP_Component_1\": 9.38436222076416, \"UMAP_Component_2\": 10.244771003723145, \"localization_site\": \"CYT\"}, {\"UMAP_Component_1\": 9.966911315917969, \"UMAP_Component_2\": 2.2303574085235596, \"localization_site\": \"ME1\"}, {\"UMAP_Component_1\": 10.633468627929688, \"UMAP_Component_2\": 5.642262935638428, \"localization_site\": \"CYT\"}, {\"UMAP_Component_1\": 8.208683967590332, \"UMAP_Component_2\": 10.951266288757324, \"localization_site\": \"CYT\"}, {\"UMAP_Component_1\": 8.449455261230469, \"UMAP_Component_2\": 4.252856731414795, \"localization_site\": \"MIT\"}, {\"UMAP_Component_1\": 11.424592971801758, \"UMAP_Component_2\": 6.711836814880371, \"localization_site\": \"CYT\"}, {\"UMAP_Component_1\": 6.574496746063232, \"UMAP_Component_2\": 5.890819072723389, \"localization_site\": \"ME3\"}, {\"UMAP_Component_1\": 13.399229049682617, \"UMAP_Component_2\": 3.72015643119812, \"localization_site\": \"MIT\"}, {\"UMAP_Component_1\": 11.535481452941895, \"UMAP_Component_2\": 10.601534843444824, \"localization_site\": \"NUC\"}, {\"UMAP_Component_1\": 13.974654197692871, \"UMAP_Component_2\": 3.3980367183685303, \"localization_site\": \"MIT\"}, {\"UMAP_Component_1\": 14.436131477355957, \"UMAP_Component_2\": 4.561683654785156, \"localization_site\": \"MIT\"}, {\"UMAP_Component_1\": 13.754693031311035, \"UMAP_Component_2\": 3.361438751220703, \"localization_site\": \"MIT\"}, {\"UMAP_Component_1\": 13.639888763427734, \"UMAP_Component_2\": 3.659151792526245, \"localization_site\": \"MIT\"}, {\"UMAP_Component_1\": 11.415945053100586, \"UMAP_Component_2\": 10.079219818115234, \"localization_site\": \"CYT\"}, {\"UMAP_Component_1\": 8.501509666442871, \"UMAP_Component_2\": 7.669156074523926, \"localization_site\": \"CYT\"}, {\"UMAP_Component_1\": 9.808165550231934, \"UMAP_Component_2\": 2.9563775062561035, \"localization_site\": \"ME1\"}, {\"UMAP_Component_1\": 9.39350414276123, \"UMAP_Component_2\": 4.873640060424805, \"localization_site\": \"ME2\"}, {\"UMAP_Component_1\": 12.173583030700684, \"UMAP_Component_2\": 8.634822845458984, \"localization_site\": \"CYT\"}, {\"UMAP_Component_1\": 11.524556159973145, \"UMAP_Component_2\": 10.007570266723633, \"localization_site\": \"CYT\"}, {\"UMAP_Component_1\": 10.205954551696777, \"UMAP_Component_2\": 5.039311408996582, \"localization_site\": \"CYT\"}, {\"UMAP_Component_1\": 11.904715538024902, \"UMAP_Component_2\": 10.422602653503418, \"localization_site\": \"CYT\"}, {\"UMAP_Component_1\": 10.90784740447998, \"UMAP_Component_2\": 9.436936378479004, \"localization_site\": \"CYT\"}, {\"UMAP_Component_1\": 9.348831176757812, \"UMAP_Component_2\": 4.603734970092773, \"localization_site\": \"CYT\"}, {\"UMAP_Component_1\": -6.6751909255981445, \"UMAP_Component_2\": 4.183306694030762, \"localization_site\": \"ME2\"}, {\"UMAP_Component_1\": 9.212346076965332, \"UMAP_Component_2\": 5.463128566741943, \"localization_site\": \"CYT\"}, {\"UMAP_Component_1\": 7.037003993988037, \"UMAP_Component_2\": 4.992612838745117, \"localization_site\": \"ME2\"}, {\"UMAP_Component_1\": 10.28987979888916, \"UMAP_Component_2\": 6.897134304046631, \"localization_site\": \"CYT\"}, {\"UMAP_Component_1\": 10.926690101623535, \"UMAP_Component_2\": 6.9688005447387695, \"localization_site\": \"CYT\"}, {\"UMAP_Component_1\": 11.313008308410645, \"UMAP_Component_2\": 5.951310634613037, \"localization_site\": \"CYT\"}, {\"UMAP_Component_1\": 7.121182441711426, \"UMAP_Component_2\": 4.985380172729492, \"localization_site\": \"ME3\"}, {\"UMAP_Component_1\": 10.844532012939453, \"UMAP_Component_2\": 8.256485939025879, \"localization_site\": \"CYT\"}, {\"UMAP_Component_1\": 8.434133529663086, \"UMAP_Component_2\": 4.394733905792236, \"localization_site\": \"ME3\"}, {\"UMAP_Component_1\": 6.896055698394775, \"UMAP_Component_2\": 5.194897174835205, \"localization_site\": \"ME3\"}, {\"UMAP_Component_1\": 8.880806922912598, \"UMAP_Component_2\": 3.4139578342437744, \"localization_site\": \"ME3\"}, {\"UMAP_Component_1\": 11.755671501159668, \"UMAP_Component_2\": 10.28969955444336, \"localization_site\": \"CYT\"}, {\"UMAP_Component_1\": 8.179977416992188, \"UMAP_Component_2\": 5.243027687072754, \"localization_site\": \"ME2\"}, {\"UMAP_Component_1\": 10.257588386535645, \"UMAP_Component_2\": 9.17906665802002, \"localization_site\": \"ME2\"}, {\"UMAP_Component_1\": 10.763774871826172, \"UMAP_Component_2\": 5.1702775955200195, \"localization_site\": \"CYT\"}, {\"UMAP_Component_1\": 9.104463577270508, \"UMAP_Component_2\": 8.923510551452637, \"localization_site\": \"CYT\"}, {\"UMAP_Component_1\": 9.670862197875977, \"UMAP_Component_2\": 9.961697578430176, \"localization_site\": \"CYT\"}, {\"UMAP_Component_1\": 11.20263385772705, \"UMAP_Component_2\": 6.523553848266602, \"localization_site\": \"MIT\"}, {\"UMAP_Component_1\": 9.925661087036133, \"UMAP_Component_2\": 1.4035409688949585, \"localization_site\": \"ME1\"}, {\"UMAP_Component_1\": -6.629774570465088, \"UMAP_Component_2\": 4.137951850891113, \"localization_site\": \"ME3\"}, {\"UMAP_Component_1\": 6.303412914276123, \"UMAP_Component_2\": 6.087449073791504, \"localization_site\": \"ME3\"}, {\"UMAP_Component_1\": 8.281609535217285, \"UMAP_Component_2\": 11.011062622070312, \"localization_site\": \"NUC\"}, {\"UMAP_Component_1\": 11.202506065368652, \"UMAP_Component_2\": 7.4131364822387695, \"localization_site\": \"NUC\"}, {\"UMAP_Component_1\": 9.83700942993164, \"UMAP_Component_2\": 10.211082458496094, \"localization_site\": \"CYT\"}, {\"UMAP_Component_1\": 10.01538372039795, \"UMAP_Component_2\": 7.607959270477295, \"localization_site\": \"NUC\"}, {\"UMAP_Component_1\": 12.84154987335205, \"UMAP_Component_2\": 5.801023006439209, \"localization_site\": \"NUC\"}, {\"UMAP_Component_1\": 10.273378372192383, \"UMAP_Component_2\": 2.1986641883850098, \"localization_site\": \"VAC\"}, {\"UMAP_Component_1\": 9.017982482910156, \"UMAP_Component_2\": 2.538381814956665, \"localization_site\": \"ME1\"}, {\"UMAP_Component_1\": 9.267130851745605, \"UMAP_Component_2\": 4.507619380950928, \"localization_site\": \"MIT\"}, {\"UMAP_Component_1\": 13.217667579650879, \"UMAP_Component_2\": 4.405300617218018, \"localization_site\": \"MIT\"}, {\"UMAP_Component_1\": 10.252425193786621, \"UMAP_Component_2\": 6.97694730758667, \"localization_site\": \"CYT\"}, {\"UMAP_Component_1\": 8.815412521362305, \"UMAP_Component_2\": 3.244048833847046, \"localization_site\": \"ME2\"}, {\"UMAP_Component_1\": 14.75075626373291, \"UMAP_Component_2\": 4.430261611938477, \"localization_site\": \"CYT\"}, {\"UMAP_Component_1\": 10.468195915222168, \"UMAP_Component_2\": 8.283137321472168, \"localization_site\": \"NUC\"}, {\"UMAP_Component_1\": 12.802206993103027, \"UMAP_Component_2\": 7.722655296325684, \"localization_site\": \"NUC\"}, {\"UMAP_Component_1\": 9.765682220458984, \"UMAP_Component_2\": 5.669060230255127, \"localization_site\": \"NUC\"}, {\"UMAP_Component_1\": 13.436439514160156, \"UMAP_Component_2\": 7.937015533447266, \"localization_site\": \"NUC\"}, {\"UMAP_Component_1\": 14.028995513916016, \"UMAP_Component_2\": 5.213326454162598, \"localization_site\": \"NUC\"}, {\"UMAP_Component_1\": 11.14680290222168, \"UMAP_Component_2\": 8.940008163452148, \"localization_site\": \"NUC\"}, {\"UMAP_Component_1\": 8.967635154724121, \"UMAP_Component_2\": 9.50992202758789, \"localization_site\": \"NUC\"}, {\"UMAP_Component_1\": 9.632915496826172, \"UMAP_Component_2\": 10.053308486938477, \"localization_site\": \"NUC\"}, {\"UMAP_Component_1\": 10.975214958190918, \"UMAP_Component_2\": 5.530738353729248, \"localization_site\": \"CYT\"}, {\"UMAP_Component_1\": 10.495997428894043, \"UMAP_Component_2\": 8.905404090881348, \"localization_site\": \"NUC\"}, {\"UMAP_Component_1\": 9.067769050598145, \"UMAP_Component_2\": 6.24411678314209, \"localization_site\": \"NUC\"}, {\"UMAP_Component_1\": 6.686617851257324, \"UMAP_Component_2\": 5.5187859535217285, \"localization_site\": \"ME3\"}, {\"UMAP_Component_1\": 12.908402442932129, \"UMAP_Component_2\": 7.064673900604248, \"localization_site\": \"NUC\"}, {\"UMAP_Component_1\": 8.32075309753418, \"UMAP_Component_2\": 10.874602317810059, \"localization_site\": \"NUC\"}, {\"UMAP_Component_1\": 8.389850616455078, \"UMAP_Component_2\": 10.877660751342773, \"localization_site\": \"CYT\"}, {\"UMAP_Component_1\": 9.51280689239502, \"UMAP_Component_2\": 9.08044719696045, \"localization_site\": \"ME3\"}, {\"UMAP_Component_1\": 10.273903846740723, \"UMAP_Component_2\": 2.4486050605773926, \"localization_site\": \"ME2\"}, {\"UMAP_Component_1\": 7.941457271575928, \"UMAP_Component_2\": 4.446983337402344, \"localization_site\": \"ME3\"}, {\"UMAP_Component_1\": 12.478343963623047, \"UMAP_Component_2\": 9.25568675994873, \"localization_site\": \"NUC\"}, {\"UMAP_Component_1\": 11.423781394958496, \"UMAP_Component_2\": 6.744907855987549, \"localization_site\": \"CYT\"}, {\"UMAP_Component_1\": 6.8302507400512695, \"UMAP_Component_2\": 5.423330307006836, \"localization_site\": \"ME3\"}, {\"UMAP_Component_1\": 8.233011245727539, \"UMAP_Component_2\": 10.797856330871582, \"localization_site\": \"NUC\"}, {\"UMAP_Component_1\": 8.694904327392578, \"UMAP_Component_2\": 5.320063591003418, \"localization_site\": \"NUC\"}, {\"UMAP_Component_1\": 8.401337623596191, \"UMAP_Component_2\": 10.773530006408691, \"localization_site\": \"NUC\"}, {\"UMAP_Component_1\": 7.1800971031188965, \"UMAP_Component_2\": 4.952743053436279, \"localization_site\": \"MIT\"}, {\"UMAP_Component_1\": 6.107656002044678, \"UMAP_Component_2\": 6.189080238342285, \"localization_site\": \"MIT\"}, {\"UMAP_Component_1\": 11.622178077697754, \"UMAP_Component_2\": 5.6320600509643555, \"localization_site\": \"CYT\"}, {\"UMAP_Component_1\": 12.230188369750977, \"UMAP_Component_2\": 4.136645793914795, \"localization_site\": \"CYT\"}, {\"UMAP_Component_1\": 6.249378681182861, \"UMAP_Component_2\": 5.889443397521973, \"localization_site\": \"ME3\"}, {\"UMAP_Component_1\": 6.1985321044921875, \"UMAP_Component_2\": 5.905825138092041, \"localization_site\": \"ME3\"}, {\"UMAP_Component_1\": 10.951297760009766, \"UMAP_Component_2\": 7.350875377655029, \"localization_site\": \"CYT\"}, {\"UMAP_Component_1\": 8.585315704345703, \"UMAP_Component_2\": 10.732857704162598, \"localization_site\": \"NUC\"}, {\"UMAP_Component_1\": 6.809279441833496, \"UMAP_Component_2\": 6.333632469177246, \"localization_site\": \"ME3\"}, {\"UMAP_Component_1\": 11.095714569091797, \"UMAP_Component_2\": 7.825520038604736, \"localization_site\": \"CYT\"}, {\"UMAP_Component_1\": 14.278349876403809, \"UMAP_Component_2\": 7.422263145446777, \"localization_site\": \"NUC\"}, {\"UMAP_Component_1\": 13.96621036529541, \"UMAP_Component_2\": 7.39431619644165, \"localization_site\": \"NUC\"}, {\"UMAP_Component_1\": 12.074048042297363, \"UMAP_Component_2\": 8.890057563781738, \"localization_site\": \"NUC\"}, {\"UMAP_Component_1\": 11.594679832458496, \"UMAP_Component_2\": 10.809770584106445, \"localization_site\": \"NUC\"}, {\"UMAP_Component_1\": 10.811068534851074, \"UMAP_Component_2\": 5.4862189292907715, \"localization_site\": \"NUC\"}, {\"UMAP_Component_1\": 7.765895366668701, \"UMAP_Component_2\": 4.705541610717773, \"localization_site\": \"ME3\"}, {\"UMAP_Component_1\": 9.854595184326172, \"UMAP_Component_2\": 5.109703540802002, \"localization_site\": \"CYT\"}, {\"UMAP_Component_1\": 13.434588432312012, \"UMAP_Component_2\": 6.037320137023926, \"localization_site\": \"MIT\"}, {\"UMAP_Component_1\": 9.62022876739502, \"UMAP_Component_2\": 10.101509094238281, \"localization_site\": \"NUC\"}, {\"UMAP_Component_1\": 10.77741813659668, \"UMAP_Component_2\": 7.733444690704346, \"localization_site\": \"NUC\"}, {\"UMAP_Component_1\": 12.163037300109863, \"UMAP_Component_2\": 9.674997329711914, \"localization_site\": \"NUC\"}, {\"UMAP_Component_1\": 14.511244773864746, \"UMAP_Component_2\": 7.195945739746094, \"localization_site\": \"CYT\"}, {\"UMAP_Component_1\": 14.531913757324219, \"UMAP_Component_2\": 7.205617427825928, \"localization_site\": \"CYT\"}, {\"UMAP_Component_1\": 10.133769989013672, \"UMAP_Component_2\": 7.589461803436279, \"localization_site\": \"CYT\"}, {\"UMAP_Component_1\": 8.42930793762207, \"UMAP_Component_2\": 7.946086406707764, \"localization_site\": \"NUC\"}, {\"UMAP_Component_1\": 11.27039623260498, \"UMAP_Component_2\": 7.666589736938477, \"localization_site\": \"NUC\"}, {\"UMAP_Component_1\": 9.180451393127441, \"UMAP_Component_2\": 8.95377254486084, \"localization_site\": \"NUC\"}, {\"UMAP_Component_1\": 12.469016075134277, \"UMAP_Component_2\": 3.909895658493042, \"localization_site\": \"EXC\"}, {\"UMAP_Component_1\": 10.14208984375, \"UMAP_Component_2\": 1.4740859270095825, \"localization_site\": \"EXC\"}, {\"UMAP_Component_1\": 9.098851203918457, \"UMAP_Component_2\": 6.165002346038818, \"localization_site\": \"NUC\"}, {\"UMAP_Component_1\": -4.679837226867676, \"UMAP_Component_2\": 0.24514707922935486, \"localization_site\": \"POX\"}, {\"UMAP_Component_1\": 9.845791816711426, \"UMAP_Component_2\": 10.038257598876953, \"localization_site\": \"NUC\"}, {\"UMAP_Component_1\": 9.988986015319824, \"UMAP_Component_2\": 6.760672569274902, \"localization_site\": \"NUC\"}, {\"UMAP_Component_1\": 11.095529556274414, \"UMAP_Component_2\": 8.687987327575684, \"localization_site\": \"NUC\"}, {\"UMAP_Component_1\": 8.688118934631348, \"UMAP_Component_2\": 10.33745002746582, \"localization_site\": \"NUC\"}, {\"UMAP_Component_1\": 9.832776069641113, \"UMAP_Component_2\": 5.856321334838867, \"localization_site\": \"NUC\"}, {\"UMAP_Component_1\": 7.810244560241699, \"UMAP_Component_2\": 4.63904333114624, \"localization_site\": \"NUC\"}, {\"UMAP_Component_1\": 10.223247528076172, \"UMAP_Component_2\": 6.577697277069092, \"localization_site\": \"NUC\"}, {\"UMAP_Component_1\": 10.990861892700195, \"UMAP_Component_2\": 4.753175258636475, \"localization_site\": \"NUC\"}, {\"UMAP_Component_1\": 9.255406379699707, \"UMAP_Component_2\": 9.532116889953613, \"localization_site\": \"NUC\"}, {\"UMAP_Component_1\": 9.572457313537598, \"UMAP_Component_2\": 10.289810180664062, \"localization_site\": \"NUC\"}, {\"UMAP_Component_1\": 8.861429214477539, \"UMAP_Component_2\": 8.544933319091797, \"localization_site\": \"NUC\"}, {\"UMAP_Component_1\": 12.052661895751953, \"UMAP_Component_2\": 10.295060157775879, \"localization_site\": \"NUC\"}, {\"UMAP_Component_1\": 10.44919204711914, \"UMAP_Component_2\": 7.32235050201416, \"localization_site\": \"NUC\"}, {\"UMAP_Component_1\": 8.283623695373535, \"UMAP_Component_2\": 6.156887531280518, \"localization_site\": \"NUC\"}, {\"UMAP_Component_1\": 10.259895324707031, \"UMAP_Component_2\": 5.008928298950195, \"localization_site\": \"NUC\"}, {\"UMAP_Component_1\": 13.9491605758667, \"UMAP_Component_2\": 7.101971626281738, \"localization_site\": \"NUC\"}, {\"UMAP_Component_1\": 11.181930541992188, \"UMAP_Component_2\": 8.588523864746094, \"localization_site\": \"NUC\"}, {\"UMAP_Component_1\": 12.299156188964844, \"UMAP_Component_2\": 8.109183311462402, \"localization_site\": \"NUC\"}, {\"UMAP_Component_1\": 10.871644020080566, \"UMAP_Component_2\": 9.42630672454834, \"localization_site\": \"NUC\"}, {\"UMAP_Component_1\": 10.759758949279785, \"UMAP_Component_2\": 9.167553901672363, \"localization_site\": \"NUC\"}, {\"UMAP_Component_1\": 10.090557098388672, \"UMAP_Component_2\": 6.62545919418335, \"localization_site\": \"ME3\"}, {\"UMAP_Component_1\": 8.495035171508789, \"UMAP_Component_2\": 8.504776954650879, \"localization_site\": \"CYT\"}, {\"UMAP_Component_1\": 9.023894309997559, \"UMAP_Component_2\": 8.255536079406738, \"localization_site\": \"CYT\"}, {\"UMAP_Component_1\": 9.256443977355957, \"UMAP_Component_2\": 8.824371337890625, \"localization_site\": \"CYT\"}, {\"UMAP_Component_1\": 8.238316535949707, \"UMAP_Component_2\": 10.934571266174316, \"localization_site\": \"CYT\"}, {\"UMAP_Component_1\": 8.645851135253906, \"UMAP_Component_2\": 8.173038482666016, \"localization_site\": \"CYT\"}, {\"UMAP_Component_1\": 9.845388412475586, \"UMAP_Component_2\": 7.510501861572266, \"localization_site\": \"CYT\"}, {\"UMAP_Component_1\": 9.905487060546875, \"UMAP_Component_2\": 7.534565448760986, \"localization_site\": \"CYT\"}, {\"UMAP_Component_1\": 10.18061351776123, \"UMAP_Component_2\": 7.270270824432373, \"localization_site\": \"CYT\"}, {\"UMAP_Component_1\": 9.80463695526123, \"UMAP_Component_2\": 7.441857814788818, \"localization_site\": \"CYT\"}, {\"UMAP_Component_1\": 10.650225639343262, \"UMAP_Component_2\": 6.478704929351807, \"localization_site\": \"CYT\"}, {\"UMAP_Component_1\": 10.628693580627441, \"UMAP_Component_2\": 6.479973316192627, \"localization_site\": \"CYT\"}, {\"UMAP_Component_1\": 12.417717933654785, \"UMAP_Component_2\": 8.828767776489258, \"localization_site\": \"NUC\"}, {\"UMAP_Component_1\": 13.589278221130371, \"UMAP_Component_2\": 4.146792411804199, \"localization_site\": \"MIT\"}, {\"UMAP_Component_1\": 9.092833518981934, \"UMAP_Component_2\": 9.175760269165039, \"localization_site\": \"CYT\"}, {\"UMAP_Component_1\": 9.01042652130127, \"UMAP_Component_2\": 10.525988578796387, \"localization_site\": \"NUC\"}, {\"UMAP_Component_1\": 14.592415809631348, \"UMAP_Component_2\": 7.460524559020996, \"localization_site\": \"NUC\"}, {\"UMAP_Component_1\": 6.188401699066162, \"UMAP_Component_2\": 5.927507400512695, \"localization_site\": \"ME3\"}, {\"UMAP_Component_1\": 6.188182830810547, \"UMAP_Component_2\": 5.926667213439941, \"localization_site\": \"ME3\"}, {\"UMAP_Component_1\": 10.33260726928711, \"UMAP_Component_2\": 3.0838263034820557, \"localization_site\": \"EXC\"}, {\"UMAP_Component_1\": 10.830083847045898, \"UMAP_Component_2\": 7.911276340484619, \"localization_site\": \"ME3\"}, {\"UMAP_Component_1\": 10.300924301147461, \"UMAP_Component_2\": 7.385868549346924, \"localization_site\": \"ME3\"}, {\"UMAP_Component_1\": 9.997729301452637, \"UMAP_Component_2\": 1.4278268814086914, \"localization_site\": \"EXC\"}, {\"UMAP_Component_1\": 9.372157096862793, \"UMAP_Component_2\": 8.283775329589844, \"localization_site\": \"NUC\"}, {\"UMAP_Component_1\": 8.68041706085205, \"UMAP_Component_2\": 9.145281791687012, \"localization_site\": \"ME3\"}, {\"UMAP_Component_1\": 7.788461685180664, \"UMAP_Component_2\": 5.254560947418213, \"localization_site\": \"ME3\"}, {\"UMAP_Component_1\": 14.518030166625977, \"UMAP_Component_2\": 7.647180080413818, \"localization_site\": \"CYT\"}, {\"UMAP_Component_1\": 7.84708309173584, \"UMAP_Component_2\": 5.697592258453369, \"localization_site\": \"ME3\"}, {\"UMAP_Component_1\": 9.925243377685547, \"UMAP_Component_2\": 9.97049617767334, \"localization_site\": \"CYT\"}, {\"UMAP_Component_1\": 9.067413330078125, \"UMAP_Component_2\": 2.2376363277435303, \"localization_site\": \"ME1\"}, {\"UMAP_Component_1\": 11.114845275878906, \"UMAP_Component_2\": 8.29616928100586, \"localization_site\": \"CYT\"}, {\"UMAP_Component_1\": 8.818437576293945, \"UMAP_Component_2\": 8.523636817932129, \"localization_site\": \"NUC\"}, {\"UMAP_Component_1\": 8.208796501159668, \"UMAP_Component_2\": 4.795013427734375, \"localization_site\": \"ME3\"}, {\"UMAP_Component_1\": 14.606606483459473, \"UMAP_Component_2\": 4.559974193572998, \"localization_site\": \"MIT\"}, {\"UMAP_Component_1\": 12.490487098693848, \"UMAP_Component_2\": 9.306008338928223, \"localization_site\": \"MIT\"}, {\"UMAP_Component_1\": 8.149413108825684, \"UMAP_Component_2\": 10.786506652832031, \"localization_site\": \"NUC\"}, {\"UMAP_Component_1\": 7.4331207275390625, \"UMAP_Component_2\": 5.905621528625488, \"localization_site\": \"ME3\"}, {\"UMAP_Component_1\": 8.863445281982422, \"UMAP_Component_2\": 8.604124069213867, \"localization_site\": \"NUC\"}, {\"UMAP_Component_1\": 11.397200584411621, \"UMAP_Component_2\": 9.458974838256836, \"localization_site\": \"CYT\"}, {\"UMAP_Component_1\": 6.97096586227417, \"UMAP_Component_2\": 5.0677103996276855, \"localization_site\": \"VAC\"}, {\"UMAP_Component_1\": 8.982858657836914, \"UMAP_Component_2\": 4.143947124481201, \"localization_site\": \"NUC\"}, {\"UMAP_Component_1\": 10.085541725158691, \"UMAP_Component_2\": 2.2656002044677734, \"localization_site\": \"EXC\"}, {\"UMAP_Component_1\": 10.015801429748535, \"UMAP_Component_2\": 2.301210880279541, \"localization_site\": \"EXC\"}, {\"UMAP_Component_1\": 10.312451362609863, \"UMAP_Component_2\": 2.283247947692871, \"localization_site\": \"EXC\"}, {\"UMAP_Component_1\": 11.929211616516113, \"UMAP_Component_2\": 6.786805152893066, \"localization_site\": \"NUC\"}, {\"UMAP_Component_1\": 12.850852966308594, \"UMAP_Component_2\": 8.74113941192627, \"localization_site\": \"CYT\"}, {\"UMAP_Component_1\": 10.28570556640625, \"UMAP_Component_2\": 5.359694004058838, \"localization_site\": \"CYT\"}, {\"UMAP_Component_1\": 8.402400016784668, \"UMAP_Component_2\": 11.038994789123535, \"localization_site\": \"CYT\"}, {\"UMAP_Component_1\": 11.106740951538086, \"UMAP_Component_2\": 8.000365257263184, \"localization_site\": \"ME3\"}, {\"UMAP_Component_1\": 11.54771900177002, \"UMAP_Component_2\": 10.486701965332031, \"localization_site\": \"CYT\"}, {\"UMAP_Component_1\": 10.98619270324707, \"UMAP_Component_2\": 9.10799789428711, \"localization_site\": \"CYT\"}, {\"UMAP_Component_1\": 13.230009078979492, \"UMAP_Component_2\": 7.97730016708374, \"localization_site\": \"CYT\"}, {\"UMAP_Component_1\": 13.967095375061035, \"UMAP_Component_2\": 5.451234340667725, \"localization_site\": \"CYT\"}, {\"UMAP_Component_1\": 12.76815128326416, \"UMAP_Component_2\": 3.9541518688201904, \"localization_site\": \"MIT\"}, {\"UMAP_Component_1\": 6.508467674255371, \"UMAP_Component_2\": 6.552506923675537, \"localization_site\": \"NUC\"}, {\"UMAP_Component_1\": 10.050389289855957, \"UMAP_Component_2\": 7.691581726074219, \"localization_site\": \"NUC\"}, {\"UMAP_Component_1\": 8.558104515075684, \"UMAP_Component_2\": 10.856369972229004, \"localization_site\": \"NUC\"}, {\"UMAP_Component_1\": 8.83271312713623, \"UMAP_Component_2\": 10.605173110961914, \"localization_site\": \"NUC\"}, {\"UMAP_Component_1\": 11.25600814819336, \"UMAP_Component_2\": 10.615691184997559, \"localization_site\": \"NUC\"}, {\"UMAP_Component_1\": 8.97642993927002, \"UMAP_Component_2\": 2.4379868507385254, \"localization_site\": \"ME1\"}, {\"UMAP_Component_1\": 7.333221912384033, \"UMAP_Component_2\": 6.127481460571289, \"localization_site\": \"ME3\"}, {\"UMAP_Component_1\": 9.654068946838379, \"UMAP_Component_2\": 4.330005168914795, \"localization_site\": \"CYT\"}, {\"UMAP_Component_1\": 6.170574188232422, \"UMAP_Component_2\": 6.134927749633789, \"localization_site\": \"ME3\"}, {\"UMAP_Component_1\": 9.37866497039795, \"UMAP_Component_2\": 5.709808826446533, \"localization_site\": \"NUC\"}, {\"UMAP_Component_1\": 9.150277137756348, \"UMAP_Component_2\": 9.039815902709961, \"localization_site\": \"CYT\"}, {\"UMAP_Component_1\": 10.233031272888184, \"UMAP_Component_2\": 7.011987686157227, \"localization_site\": \"CYT\"}, {\"UMAP_Component_1\": 10.184393882751465, \"UMAP_Component_2\": 6.74940299987793, \"localization_site\": \"CYT\"}, {\"UMAP_Component_1\": 10.362010955810547, \"UMAP_Component_2\": 7.5286126136779785, \"localization_site\": \"CYT\"}, {\"UMAP_Component_1\": 10.15995979309082, \"UMAP_Component_2\": 6.435338020324707, \"localization_site\": \"CYT\"}, {\"UMAP_Component_1\": 10.670244216918945, \"UMAP_Component_2\": 9.11175537109375, \"localization_site\": \"CYT\"}, {\"UMAP_Component_1\": 10.983254432678223, \"UMAP_Component_2\": 7.355418682098389, \"localization_site\": \"CYT\"}, {\"UMAP_Component_1\": 12.864273071289062, \"UMAP_Component_2\": 4.117536544799805, \"localization_site\": \"CYT\"}, {\"UMAP_Component_1\": 12.521240234375, \"UMAP_Component_2\": 4.801331996917725, \"localization_site\": \"CYT\"}, {\"UMAP_Component_1\": 12.865432739257812, \"UMAP_Component_2\": 3.9057304859161377, \"localization_site\": \"CYT\"}, {\"UMAP_Component_1\": 9.139278411865234, \"UMAP_Component_2\": 7.92458963394165, \"localization_site\": \"NUC\"}, {\"UMAP_Component_1\": 11.986570358276367, \"UMAP_Component_2\": 9.18078899383545, \"localization_site\": \"NUC\"}, {\"UMAP_Component_1\": 10.284355163574219, \"UMAP_Component_2\": 6.652857780456543, \"localization_site\": \"CYT\"}, {\"UMAP_Component_1\": 10.290275573730469, \"UMAP_Component_2\": 6.670812129974365, \"localization_site\": \"CYT\"}, {\"UMAP_Component_1\": 9.003936767578125, \"UMAP_Component_2\": 8.9290189743042, \"localization_site\": \"CYT\"}, {\"UMAP_Component_1\": 9.028912544250488, \"UMAP_Component_2\": 8.841839790344238, \"localization_site\": \"CYT\"}, {\"UMAP_Component_1\": 8.806265830993652, \"UMAP_Component_2\": 4.385562896728516, \"localization_site\": \"NUC\"}, {\"UMAP_Component_1\": 8.567310333251953, \"UMAP_Component_2\": 8.458490371704102, \"localization_site\": \"NUC\"}, {\"UMAP_Component_1\": 10.394491195678711, \"UMAP_Component_2\": 4.564172744750977, \"localization_site\": \"NUC\"}, {\"UMAP_Component_1\": 10.161138534545898, \"UMAP_Component_2\": 4.56430196762085, \"localization_site\": \"NUC\"}, {\"UMAP_Component_1\": 9.067888259887695, \"UMAP_Component_2\": 8.221977233886719, \"localization_site\": \"NUC\"}, {\"UMAP_Component_1\": 9.262540817260742, \"UMAP_Component_2\": 9.709861755371094, \"localization_site\": \"NUC\"}, {\"UMAP_Component_1\": 8.53089714050293, \"UMAP_Component_2\": 10.97091293334961, \"localization_site\": \"NUC\"}, {\"UMAP_Component_1\": 12.176711082458496, \"UMAP_Component_2\": 7.810230731964111, \"localization_site\": \"CYT\"}, {\"UMAP_Component_1\": 12.901623725891113, \"UMAP_Component_2\": 4.334539890289307, \"localization_site\": \"CYT\"}, {\"UMAP_Component_1\": 12.008161544799805, \"UMAP_Component_2\": 9.283557891845703, \"localization_site\": \"CYT\"}, {\"UMAP_Component_1\": 12.446645736694336, \"UMAP_Component_2\": 8.013533592224121, \"localization_site\": \"CYT\"}, {\"UMAP_Component_1\": 12.198577880859375, \"UMAP_Component_2\": 9.524473190307617, \"localization_site\": \"CYT\"}, {\"UMAP_Component_1\": 12.41750431060791, \"UMAP_Component_2\": 8.033415794372559, \"localization_site\": \"CYT\"}, {\"UMAP_Component_1\": 8.31615161895752, \"UMAP_Component_2\": 10.711162567138672, \"localization_site\": \"CYT\"}, {\"UMAP_Component_1\": 10.768068313598633, \"UMAP_Component_2\": 9.478886604309082, \"localization_site\": \"CYT\"}, {\"UMAP_Component_1\": 11.3432035446167, \"UMAP_Component_2\": 9.277703285217285, \"localization_site\": \"CYT\"}, {\"UMAP_Component_1\": 11.09109115600586, \"UMAP_Component_2\": 10.028969764709473, \"localization_site\": \"CYT\"}, {\"UMAP_Component_1\": 11.44253158569336, \"UMAP_Component_2\": 10.707047462463379, \"localization_site\": \"CYT\"}, {\"UMAP_Component_1\": 11.494708061218262, \"UMAP_Component_2\": 10.733196258544922, \"localization_site\": \"CYT\"}, {\"UMAP_Component_1\": 9.537298202514648, \"UMAP_Component_2\": 2.6251652240753174, \"localization_site\": \"ME1\"}, {\"UMAP_Component_1\": 9.569263458251953, \"UMAP_Component_2\": 6.235015869140625, \"localization_site\": \"CYT\"}, {\"UMAP_Component_1\": 9.581889152526855, \"UMAP_Component_2\": 2.492401123046875, \"localization_site\": \"ME1\"}, {\"UMAP_Component_1\": 9.64494800567627, \"UMAP_Component_2\": 2.342133045196533, \"localization_site\": \"ME1\"}, {\"UMAP_Component_1\": 10.182023048400879, \"UMAP_Component_2\": 5.0018229484558105, \"localization_site\": \"CYT\"}, {\"UMAP_Component_1\": 9.706497192382812, \"UMAP_Component_2\": 5.0289506912231445, \"localization_site\": \"CYT\"}, {\"UMAP_Component_1\": 10.190342903137207, \"UMAP_Component_2\": 7.9226603507995605, \"localization_site\": \"NUC\"}, {\"UMAP_Component_1\": 12.155440330505371, \"UMAP_Component_2\": 7.595456600189209, \"localization_site\": \"NUC\"}, {\"UMAP_Component_1\": 12.802993774414062, \"UMAP_Component_2\": 6.98295259475708, \"localization_site\": \"NUC\"}, {\"UMAP_Component_1\": 8.797130584716797, \"UMAP_Component_2\": 10.627747535705566, \"localization_site\": \"NUC\"}, {\"UMAP_Component_1\": 8.423857688903809, \"UMAP_Component_2\": 11.043163299560547, \"localization_site\": \"NUC\"}, {\"UMAP_Component_1\": 12.795002937316895, \"UMAP_Component_2\": 6.9403276443481445, \"localization_site\": \"NUC\"}, {\"UMAP_Component_1\": 13.432856559753418, \"UMAP_Component_2\": 4.443814277648926, \"localization_site\": \"VAC\"}, {\"UMAP_Component_1\": 10.807414054870605, \"UMAP_Component_2\": 7.2589616775512695, \"localization_site\": \"CYT\"}, {\"UMAP_Component_1\": 11.914531707763672, \"UMAP_Component_2\": 9.182326316833496, \"localization_site\": \"CYT\"}, {\"UMAP_Component_1\": 14.422354698181152, \"UMAP_Component_2\": 7.321501731872559, \"localization_site\": \"CYT\"}, {\"UMAP_Component_1\": 11.861330032348633, \"UMAP_Component_2\": 9.173924446105957, \"localization_site\": \"CYT\"}, {\"UMAP_Component_1\": 12.763688087463379, \"UMAP_Component_2\": 9.88888168334961, \"localization_site\": \"CYT\"}, {\"UMAP_Component_1\": 12.788543701171875, \"UMAP_Component_2\": 9.985406875610352, \"localization_site\": \"CYT\"}, {\"UMAP_Component_1\": 11.041766166687012, \"UMAP_Component_2\": 4.8102192878723145, \"localization_site\": \"CYT\"}, {\"UMAP_Component_1\": 9.370017051696777, \"UMAP_Component_2\": 9.098822593688965, \"localization_site\": \"CYT\"}, {\"UMAP_Component_1\": 9.552094459533691, \"UMAP_Component_2\": 9.390181541442871, \"localization_site\": \"CYT\"}, {\"UMAP_Component_1\": 8.247191429138184, \"UMAP_Component_2\": 10.647385597229004, \"localization_site\": \"ME3\"}, {\"UMAP_Component_1\": 8.277660369873047, \"UMAP_Component_2\": 10.070399284362793, \"localization_site\": \"ME3\"}, {\"UMAP_Component_1\": 10.613709449768066, \"UMAP_Component_2\": 7.878061771392822, \"localization_site\": \"NUC\"}, {\"UMAP_Component_1\": 9.140286445617676, \"UMAP_Component_2\": 8.905400276184082, \"localization_site\": \"MIT\"}, {\"UMAP_Component_1\": 10.230671882629395, \"UMAP_Component_2\": 4.592002868652344, \"localization_site\": \"CYT\"}, {\"UMAP_Component_1\": 11.610749244689941, \"UMAP_Component_2\": 8.78750228881836, \"localization_site\": \"CYT\"}, {\"UMAP_Component_1\": 11.114143371582031, \"UMAP_Component_2\": 6.775575160980225, \"localization_site\": \"CYT\"}, {\"UMAP_Component_1\": 9.576804161071777, \"UMAP_Component_2\": 5.15468692779541, \"localization_site\": \"CYT\"}, {\"UMAP_Component_1\": 11.304939270019531, \"UMAP_Component_2\": 7.581067085266113, \"localization_site\": \"CYT\"}, {\"UMAP_Component_1\": 8.90001392364502, \"UMAP_Component_2\": 4.23406982421875, \"localization_site\": \"CYT\"}, {\"UMAP_Component_1\": 10.523948669433594, \"UMAP_Component_2\": 4.233204364776611, \"localization_site\": \"CYT\"}, {\"UMAP_Component_1\": 12.381513595581055, \"UMAP_Component_2\": 5.167454719543457, \"localization_site\": \"NUC\"}, {\"UMAP_Component_1\": 8.96944522857666, \"UMAP_Component_2\": 2.8346118927001953, \"localization_site\": \"ME2\"}, {\"UMAP_Component_1\": 12.151859283447266, \"UMAP_Component_2\": 6.401023864746094, \"localization_site\": \"CYT\"}, {\"UMAP_Component_1\": 11.751837730407715, \"UMAP_Component_2\": 6.393603801727295, \"localization_site\": \"CYT\"}, {\"UMAP_Component_1\": 11.587638854980469, \"UMAP_Component_2\": 7.415452480316162, \"localization_site\": \"CYT\"}, {\"UMAP_Component_1\": 11.587185859680176, \"UMAP_Component_2\": 6.373178005218506, \"localization_site\": \"CYT\"}, {\"UMAP_Component_1\": 13.959173202514648, \"UMAP_Component_2\": 3.29362154006958, \"localization_site\": \"MIT\"}, {\"UMAP_Component_1\": 14.397787094116211, \"UMAP_Component_2\": 7.315196514129639, \"localization_site\": \"NUC\"}, {\"UMAP_Component_1\": 9.328722953796387, \"UMAP_Component_2\": 8.32163143157959, \"localization_site\": \"NUC\"}, {\"UMAP_Component_1\": 10.68372631072998, \"UMAP_Component_2\": 4.7995734214782715, \"localization_site\": \"CYT\"}, {\"UMAP_Component_1\": 8.535911560058594, \"UMAP_Component_2\": 6.804957389831543, \"localization_site\": \"CYT\"}, {\"UMAP_Component_1\": 11.720943450927734, \"UMAP_Component_2\": 5.676389694213867, \"localization_site\": \"CYT\"}, {\"UMAP_Component_1\": 10.628232955932617, \"UMAP_Component_2\": 7.322556495666504, \"localization_site\": \"CYT\"}, {\"UMAP_Component_1\": 10.606812477111816, \"UMAP_Component_2\": 7.402630805969238, \"localization_site\": \"CYT\"}, {\"UMAP_Component_1\": 6.927792072296143, \"UMAP_Component_2\": 5.325321197509766, \"localization_site\": \"ME3\"}, {\"UMAP_Component_1\": 12.29140853881836, \"UMAP_Component_2\": 10.28969669342041, \"localization_site\": \"CYT\"}, {\"UMAP_Component_1\": 13.884954452514648, \"UMAP_Component_2\": 7.345232009887695, \"localization_site\": \"CYT\"}, {\"UMAP_Component_1\": 8.37928581237793, \"UMAP_Component_2\": 7.730432987213135, \"localization_site\": \"CYT\"}, {\"UMAP_Component_1\": 11.375174522399902, \"UMAP_Component_2\": 9.41518783569336, \"localization_site\": \"CYT\"}, {\"UMAP_Component_1\": 10.861462593078613, \"UMAP_Component_2\": 9.563748359680176, \"localization_site\": \"CYT\"}, {\"UMAP_Component_1\": 9.149121284484863, \"UMAP_Component_2\": 9.434120178222656, \"localization_site\": \"CYT\"}, {\"UMAP_Component_1\": 8.583549499511719, \"UMAP_Component_2\": 10.092985153198242, \"localization_site\": \"NUC\"}, {\"UMAP_Component_1\": 7.032891273498535, \"UMAP_Component_2\": 5.602169513702393, \"localization_site\": \"ME3\"}, {\"UMAP_Component_1\": 10.576746940612793, \"UMAP_Component_2\": 9.039539337158203, \"localization_site\": \"NUC\"}, {\"UMAP_Component_1\": 8.5170259475708, \"UMAP_Component_2\": 8.468844413757324, \"localization_site\": \"NUC\"}, {\"UMAP_Component_1\": 13.938618659973145, \"UMAP_Component_2\": 5.175924777984619, \"localization_site\": \"NUC\"}, {\"UMAP_Component_1\": 12.118025779724121, \"UMAP_Component_2\": 10.638946533203125, \"localization_site\": \"CYT\"}, {\"UMAP_Component_1\": 9.89721965789795, \"UMAP_Component_2\": 6.831011772155762, \"localization_site\": \"NUC\"}, {\"UMAP_Component_1\": 10.666280746459961, \"UMAP_Component_2\": 5.804165363311768, \"localization_site\": \"CYT\"}, {\"UMAP_Component_1\": 13.854512214660645, \"UMAP_Component_2\": 7.901028156280518, \"localization_site\": \"CYT\"}, {\"UMAP_Component_1\": 14.576677322387695, \"UMAP_Component_2\": 7.373959541320801, \"localization_site\": \"CYT\"}, {\"UMAP_Component_1\": 8.429818153381348, \"UMAP_Component_2\": 6.6986918449401855, \"localization_site\": \"ME3\"}, {\"UMAP_Component_1\": 12.034806251525879, \"UMAP_Component_2\": 6.3484954833984375, \"localization_site\": \"NUC\"}, {\"UMAP_Component_1\": 10.5006742477417, \"UMAP_Component_2\": 7.5644097328186035, \"localization_site\": \"VAC\"}, {\"UMAP_Component_1\": 12.203563690185547, \"UMAP_Component_2\": 10.761162757873535, \"localization_site\": \"MIT\"}, {\"UMAP_Component_1\": 8.304227828979492, \"UMAP_Component_2\": 10.165800094604492, \"localization_site\": \"CYT\"}, {\"UMAP_Component_1\": 9.312968254089355, \"UMAP_Component_2\": 6.685906410217285, \"localization_site\": \"VAC\"}, {\"UMAP_Component_1\": 8.992691040039062, \"UMAP_Component_2\": 2.9682583808898926, \"localization_site\": \"VAC\"}, {\"UMAP_Component_1\": 11.91841983795166, \"UMAP_Component_2\": 9.253631591796875, \"localization_site\": \"VAC\"}, {\"UMAP_Component_1\": 8.852054595947266, \"UMAP_Component_2\": 3.005793571472168, \"localization_site\": \"VAC\"}, {\"UMAP_Component_1\": 11.330099105834961, \"UMAP_Component_2\": 6.662081718444824, \"localization_site\": \"VAC\"}, {\"UMAP_Component_1\": 10.52837085723877, \"UMAP_Component_2\": 4.821497440338135, \"localization_site\": \"VAC\"}, {\"UMAP_Component_1\": 10.733597755432129, \"UMAP_Component_2\": 5.845777988433838, \"localization_site\": \"VAC\"}, {\"UMAP_Component_1\": 10.635686874389648, \"UMAP_Component_2\": 4.713061809539795, \"localization_site\": \"VAC\"}, {\"UMAP_Component_1\": 13.874022483825684, \"UMAP_Component_2\": 7.139547824859619, \"localization_site\": \"VAC\"}, {\"UMAP_Component_1\": 7.180422306060791, \"UMAP_Component_2\": 4.934108257293701, \"localization_site\": \"VAC\"}, {\"UMAP_Component_1\": 6.327770233154297, \"UMAP_Component_2\": 6.085063934326172, \"localization_site\": \"VAC\"}, {\"UMAP_Component_1\": 9.195173263549805, \"UMAP_Component_2\": 7.724058628082275, \"localization_site\": \"CYT\"}, {\"UMAP_Component_1\": 9.508865356445312, \"UMAP_Component_2\": 4.206200122833252, \"localization_site\": \"CYT\"}, {\"UMAP_Component_1\": 10.859667778015137, \"UMAP_Component_2\": 7.877932548522949, \"localization_site\": \"CYT\"}, {\"UMAP_Component_1\": 13.033956527709961, \"UMAP_Component_2\": 8.12527847290039, \"localization_site\": \"CYT\"}, {\"UMAP_Component_1\": 10.729601860046387, \"UMAP_Component_2\": 4.783101558685303, \"localization_site\": \"CYT\"}, {\"UMAP_Component_1\": 8.673965454101562, \"UMAP_Component_2\": 4.25822114944458, \"localization_site\": \"CYT\"}, {\"UMAP_Component_1\": 9.757245063781738, \"UMAP_Component_2\": 7.129143238067627, \"localization_site\": \"VAC\"}, {\"UMAP_Component_1\": 10.636678695678711, \"UMAP_Component_2\": 6.461146831512451, \"localization_site\": \"CYT\"}, {\"UMAP_Component_1\": 12.10707950592041, \"UMAP_Component_2\": 10.66836166381836, \"localization_site\": \"CYT\"}, {\"UMAP_Component_1\": 9.150017738342285, \"UMAP_Component_2\": 2.1912217140197754, \"localization_site\": \"ME1\"}, {\"UMAP_Component_1\": 8.366079330444336, \"UMAP_Component_2\": 7.9271769523620605, \"localization_site\": \"NUC\"}, {\"UMAP_Component_1\": 9.095111846923828, \"UMAP_Component_2\": 2.1725776195526123, \"localization_site\": \"ME1\"}, {\"UMAP_Component_1\": 8.407580375671387, \"UMAP_Component_2\": 10.148031234741211, \"localization_site\": \"MIT\"}, {\"UMAP_Component_1\": 8.85397720336914, \"UMAP_Component_2\": 3.0138919353485107, \"localization_site\": \"ME1\"}, {\"UMAP_Component_1\": 8.937167167663574, \"UMAP_Component_2\": 9.749056816101074, \"localization_site\": \"NUC\"}, {\"UMAP_Component_1\": 7.262634754180908, \"UMAP_Component_2\": 5.138323783874512, \"localization_site\": \"ME3\"}, {\"UMAP_Component_1\": 8.272339820861816, \"UMAP_Component_2\": 5.241675853729248, \"localization_site\": \"ME3\"}, {\"UMAP_Component_1\": 10.362056732177734, \"UMAP_Component_2\": 7.115879535675049, \"localization_site\": \"NUC\"}, {\"UMAP_Component_1\": 9.162277221679688, \"UMAP_Component_2\": 2.008683681488037, \"localization_site\": \"ME1\"}, {\"UMAP_Component_1\": 9.849350929260254, \"UMAP_Component_2\": 1.4897773265838623, \"localization_site\": \"ME2\"}, {\"UMAP_Component_1\": 7.67597770690918, \"UMAP_Component_2\": 5.820054054260254, \"localization_site\": \"ME3\"}, {\"UMAP_Component_1\": 8.574440956115723, \"UMAP_Component_2\": 8.533334732055664, \"localization_site\": \"NUC\"}, {\"UMAP_Component_1\": 10.510767936706543, \"UMAP_Component_2\": 6.393970966339111, \"localization_site\": \"CYT\"}, {\"UMAP_Component_1\": 12.03724193572998, \"UMAP_Component_2\": 5.760051250457764, \"localization_site\": \"CYT\"}, {\"UMAP_Component_1\": 9.53271484375, \"UMAP_Component_2\": 2.4231557846069336, \"localization_site\": \"ME1\"}, {\"UMAP_Component_1\": 10.382040977478027, \"UMAP_Component_2\": 9.281335830688477, \"localization_site\": \"ME3\"}, {\"UMAP_Component_1\": 10.426493644714355, \"UMAP_Component_2\": 7.523009777069092, \"localization_site\": \"ME3\"}, {\"UMAP_Component_1\": 13.387001037597656, \"UMAP_Component_2\": 7.996980667114258, \"localization_site\": \"MIT\"}, {\"UMAP_Component_1\": 13.962974548339844, \"UMAP_Component_2\": 4.377730369567871, \"localization_site\": \"MIT\"}, {\"UMAP_Component_1\": 12.35785961151123, \"UMAP_Component_2\": 9.075935363769531, \"localization_site\": \"NUC\"}, {\"UMAP_Component_1\": 5.974320888519287, \"UMAP_Component_2\": 6.502607345581055, \"localization_site\": \"ME3\"}, {\"UMAP_Component_1\": 10.3493070602417, \"UMAP_Component_2\": 9.574352264404297, \"localization_site\": \"NUC\"}, {\"UMAP_Component_1\": 7.882842540740967, \"UMAP_Component_2\": 6.227188587188721, \"localization_site\": \"ME3\"}, {\"UMAP_Component_1\": 12.096933364868164, \"UMAP_Component_2\": 9.280191421508789, \"localization_site\": \"CYT\"}, {\"UMAP_Component_1\": 10.078588485717773, \"UMAP_Component_2\": 5.774888515472412, \"localization_site\": \"MIT\"}, {\"UMAP_Component_1\": 6.925605773925781, \"UMAP_Component_2\": 5.369287967681885, \"localization_site\": \"ME3\"}, {\"UMAP_Component_1\": 6.913569927215576, \"UMAP_Component_2\": 6.008715629577637, \"localization_site\": \"ME3\"}, {\"UMAP_Component_1\": 8.48448371887207, \"UMAP_Component_2\": 10.96640396118164, \"localization_site\": \"NUC\"}, {\"UMAP_Component_1\": 6.6598663330078125, \"UMAP_Component_2\": 6.1259894371032715, \"localization_site\": \"ME3\"}, {\"UMAP_Component_1\": 8.676092147827148, \"UMAP_Component_2\": 10.259289741516113, \"localization_site\": \"NUC\"}, {\"UMAP_Component_1\": 7.616537570953369, \"UMAP_Component_2\": 5.375324726104736, \"localization_site\": \"ME3\"}, {\"UMAP_Component_1\": 9.497733116149902, \"UMAP_Component_2\": 2.3397305011749268, \"localization_site\": \"ME1\"}, {\"UMAP_Component_1\": 11.269233703613281, \"UMAP_Component_2\": 8.247298240661621, \"localization_site\": \"NUC\"}, {\"UMAP_Component_1\": -4.676384925842285, \"UMAP_Component_2\": 0.2425300031900406, \"localization_site\": \"POX\"}, {\"UMAP_Component_1\": -4.6738080978393555, \"UMAP_Component_2\": 0.24117286503314972, \"localization_site\": \"POX\"}, {\"UMAP_Component_1\": 7.702319622039795, \"UMAP_Component_2\": 5.489763259887695, \"localization_site\": \"ME3\"}, {\"UMAP_Component_1\": 9.05428695678711, \"UMAP_Component_2\": 4.320349216461182, \"localization_site\": \"MIT\"}, {\"UMAP_Component_1\": 8.204947471618652, \"UMAP_Component_2\": 3.7762250900268555, \"localization_site\": \"ME3\"}, {\"UMAP_Component_1\": 8.988081932067871, \"UMAP_Component_2\": 2.6387758255004883, \"localization_site\": \"ME1\"}, {\"UMAP_Component_1\": 7.833505630493164, \"UMAP_Component_2\": 4.612701416015625, \"localization_site\": \"ME3\"}, {\"UMAP_Component_1\": 14.430802345275879, \"UMAP_Component_2\": 7.231432914733887, \"localization_site\": \"ME2\"}, {\"UMAP_Component_1\": 13.952451705932617, \"UMAP_Component_2\": 6.806492805480957, \"localization_site\": \"CYT\"}, {\"UMAP_Component_1\": 14.675558090209961, \"UMAP_Component_2\": 3.768018960952759, \"localization_site\": \"MIT\"}, {\"UMAP_Component_1\": 8.31991195678711, \"UMAP_Component_2\": 5.342562198638916, \"localization_site\": \"ME3\"}, {\"UMAP_Component_1\": 8.965262413024902, \"UMAP_Component_2\": 2.4616165161132812, \"localization_site\": \"ME1\"}, {\"UMAP_Component_1\": 6.799889087677002, \"UMAP_Component_2\": 5.265371799468994, \"localization_site\": \"ME3\"}, {\"UMAP_Component_1\": 6.055748462677002, \"UMAP_Component_2\": 6.2807416915893555, \"localization_site\": \"ME3\"}, {\"UMAP_Component_1\": 8.983463287353516, \"UMAP_Component_2\": 3.4073617458343506, \"localization_site\": \"ME3\"}, {\"UMAP_Component_1\": 8.528970718383789, \"UMAP_Component_2\": 3.37511944770813, \"localization_site\": \"ME2\"}, {\"UMAP_Component_1\": 11.612872123718262, \"UMAP_Component_2\": 7.664955139160156, \"localization_site\": \"MIT\"}, {\"UMAP_Component_1\": 7.490084648132324, \"UMAP_Component_2\": 5.408924579620361, \"localization_site\": \"ME3\"}, {\"UMAP_Component_1\": 9.759936332702637, \"UMAP_Component_2\": 8.766194343566895, \"localization_site\": \"ME3\"}, {\"UMAP_Component_1\": 7.382843971252441, \"UMAP_Component_2\": 6.286775588989258, \"localization_site\": \"ME3\"}, {\"UMAP_Component_1\": 9.190303802490234, \"UMAP_Component_2\": 2.054443359375, \"localization_site\": \"ME1\"}, {\"UMAP_Component_1\": 10.936381340026855, \"UMAP_Component_2\": 5.812086582183838, \"localization_site\": \"NUC\"}, {\"UMAP_Component_1\": 9.942147254943848, \"UMAP_Component_2\": 1.7582744359970093, \"localization_site\": \"EXC\"}, {\"UMAP_Component_1\": 6.903204917907715, \"UMAP_Component_2\": 6.005305290222168, \"localization_site\": \"ME3\"}, {\"UMAP_Component_1\": 9.200106620788574, \"UMAP_Component_2\": 8.732242584228516, \"localization_site\": \"NUC\"}, {\"UMAP_Component_1\": 8.439092636108398, \"UMAP_Component_2\": 4.61740779876709, \"localization_site\": \"ME3\"}, {\"UMAP_Component_1\": 11.555410385131836, \"UMAP_Component_2\": 6.323428630828857, \"localization_site\": \"CYT\"}, {\"UMAP_Component_1\": 8.217464447021484, \"UMAP_Component_2\": 10.982911109924316, \"localization_site\": \"CYT\"}, {\"UMAP_Component_1\": 8.780611991882324, \"UMAP_Component_2\": 5.337219715118408, \"localization_site\": \"ME3\"}, {\"UMAP_Component_1\": 6.388049602508545, \"UMAP_Component_2\": 6.222447872161865, \"localization_site\": \"ME3\"}, {\"UMAP_Component_1\": 11.259781837463379, \"UMAP_Component_2\": 7.894484519958496, \"localization_site\": \"NUC\"}, {\"UMAP_Component_1\": 7.571777820587158, \"UMAP_Component_2\": 5.564514636993408, \"localization_site\": \"ME3\"}, {\"UMAP_Component_1\": 9.669559478759766, \"UMAP_Component_2\": 2.3526217937469482, \"localization_site\": \"EXC\"}, {\"UMAP_Component_1\": 9.232216835021973, \"UMAP_Component_2\": 4.133509159088135, \"localization_site\": \"ME3\"}, {\"UMAP_Component_1\": 12.290633201599121, \"UMAP_Component_2\": 9.791726112365723, \"localization_site\": \"NUC\"}, {\"UMAP_Component_1\": 9.204952239990234, \"UMAP_Component_2\": 2.1808786392211914, \"localization_site\": \"ME1\"}, {\"UMAP_Component_1\": 8.521601676940918, \"UMAP_Component_2\": 3.275533437728882, \"localization_site\": \"ME3\"}, {\"UMAP_Component_1\": 9.235075950622559, \"UMAP_Component_2\": 10.2916259765625, \"localization_site\": \"NUC\"}, {\"UMAP_Component_1\": 7.850952625274658, \"UMAP_Component_2\": 5.2412109375, \"localization_site\": \"ME3\"}, {\"UMAP_Component_1\": 6.290884971618652, \"UMAP_Component_2\": 6.055763244628906, \"localization_site\": \"ME3\"}, {\"UMAP_Component_1\": 9.321279525756836, \"UMAP_Component_2\": 5.550515651702881, \"localization_site\": \"ME3\"}, {\"UMAP_Component_1\": 9.071784973144531, \"UMAP_Component_2\": 6.2830376625061035, \"localization_site\": \"ME3\"}, {\"UMAP_Component_1\": 6.0473504066467285, \"UMAP_Component_2\": 6.646332740783691, \"localization_site\": \"ME3\"}, {\"UMAP_Component_1\": 13.470464706420898, \"UMAP_Component_2\": 3.8825430870056152, \"localization_site\": \"ME3\"}, {\"UMAP_Component_1\": 9.824483871459961, \"UMAP_Component_2\": 2.8531746864318848, \"localization_site\": \"ME1\"}, {\"UMAP_Component_1\": 7.447179794311523, \"UMAP_Component_2\": 5.155240535736084, \"localization_site\": \"ME3\"}, {\"UMAP_Component_1\": 9.050275802612305, \"UMAP_Component_2\": 2.3323984146118164, \"localization_site\": \"ME2\"}, {\"UMAP_Component_1\": 8.999408721923828, \"UMAP_Component_2\": 10.255247116088867, \"localization_site\": \"NUC\"}, {\"UMAP_Component_1\": 9.818416595458984, \"UMAP_Component_2\": 1.6267367601394653, \"localization_site\": \"ME1\"}, {\"UMAP_Component_1\": 10.137066841125488, \"UMAP_Component_2\": 2.3507213592529297, \"localization_site\": \"ME1\"}, {\"UMAP_Component_1\": 7.363373279571533, \"UMAP_Component_2\": 5.081898212432861, \"localization_site\": \"ME3\"}, {\"UMAP_Component_1\": 13.768589973449707, \"UMAP_Component_2\": 3.3183231353759766, \"localization_site\": \"ME2\"}, {\"UMAP_Component_1\": 8.188064575195312, \"UMAP_Component_2\": 3.823045015335083, \"localization_site\": \"ME3\"}, {\"UMAP_Component_1\": 9.862892150878906, \"UMAP_Component_2\": 9.193401336669922, \"localization_site\": \"NUC\"}, {\"UMAP_Component_1\": 9.770990371704102, \"UMAP_Component_2\": 3.062439441680908, \"localization_site\": \"POX\"}, {\"UMAP_Component_1\": 8.587023735046387, \"UMAP_Component_2\": 3.048711061477661, \"localization_site\": \"ME1\"}, {\"UMAP_Component_1\": 9.294477462768555, \"UMAP_Component_2\": 4.954700946807861, \"localization_site\": \"MIT\"}, {\"UMAP_Component_1\": 6.954233169555664, \"UMAP_Component_2\": 5.130612850189209, \"localization_site\": \"ME3\"}, {\"UMAP_Component_1\": 14.174873352050781, \"UMAP_Component_2\": 7.631607532501221, \"localization_site\": \"CYT\"}, {\"UMAP_Component_1\": 9.808125495910645, \"UMAP_Component_2\": 10.164886474609375, \"localization_site\": \"NUC\"}, {\"UMAP_Component_1\": 8.546981811523438, \"UMAP_Component_2\": 10.927336692810059, \"localization_site\": \"NUC\"}, {\"UMAP_Component_1\": 9.836825370788574, \"UMAP_Component_2\": 5.1005330085754395, \"localization_site\": \"MIT\"}, {\"UMAP_Component_1\": 9.204180717468262, \"UMAP_Component_2\": 2.1258814334869385, \"localization_site\": \"ME1\"}, {\"UMAP_Component_1\": 12.51572322845459, \"UMAP_Component_2\": 8.059834480285645, \"localization_site\": \"NUC\"}, {\"UMAP_Component_1\": 8.539003372192383, \"UMAP_Component_2\": 10.347553253173828, \"localization_site\": \"NUC\"}, {\"UMAP_Component_1\": 8.738920211791992, \"UMAP_Component_2\": 9.22920036315918, \"localization_site\": \"ME3\"}, {\"UMAP_Component_1\": 14.766304969787598, \"UMAP_Component_2\": 3.687899589538574, \"localization_site\": \"NUC\"}, {\"UMAP_Component_1\": 8.777944564819336, \"UMAP_Component_2\": 10.735340118408203, \"localization_site\": \"NUC\"}, {\"UMAP_Component_1\": 9.649065017700195, \"UMAP_Component_2\": 1.6515108346939087, \"localization_site\": \"ME1\"}, {\"UMAP_Component_1\": 12.103322982788086, \"UMAP_Component_2\": 10.523859977722168, \"localization_site\": \"CYT\"}, {\"UMAP_Component_1\": 9.023183822631836, \"UMAP_Component_2\": 4.964881420135498, \"localization_site\": \"MIT\"}, {\"UMAP_Component_1\": 8.350162506103516, \"UMAP_Component_2\": 10.987530708312988, \"localization_site\": \"CYT\"}, {\"UMAP_Component_1\": 13.90131664276123, \"UMAP_Component_2\": 3.443952798843384, \"localization_site\": \"MIT\"}, {\"UMAP_Component_1\": 9.696410179138184, \"UMAP_Component_2\": 2.404470920562744, \"localization_site\": \"POX\"}, {\"UMAP_Component_1\": 14.713157653808594, \"UMAP_Component_2\": 3.916705369949341, \"localization_site\": \"MIT\"}, {\"UMAP_Component_1\": 9.6160306930542, \"UMAP_Component_2\": 9.237369537353516, \"localization_site\": \"NUC\"}, {\"UMAP_Component_1\": 11.197174072265625, \"UMAP_Component_2\": 9.660811424255371, \"localization_site\": \"NUC\"}, {\"UMAP_Component_1\": 8.338302612304688, \"UMAP_Component_2\": 10.056560516357422, \"localization_site\": \"NUC\"}, {\"UMAP_Component_1\": 6.050821304321289, \"UMAP_Component_2\": 6.246866703033447, \"localization_site\": \"ME3\"}, {\"UMAP_Component_1\": 13.193389892578125, \"UMAP_Component_2\": 7.70493221282959, \"localization_site\": \"CYT\"}, {\"UMAP_Component_1\": 9.349458694458008, \"UMAP_Component_2\": 6.147341728210449, \"localization_site\": \"MIT\"}, {\"UMAP_Component_1\": 11.574506759643555, \"UMAP_Component_2\": 8.061650276184082, \"localization_site\": \"MIT\"}, {\"UMAP_Component_1\": 13.150437355041504, \"UMAP_Component_2\": 3.7225258350372314, \"localization_site\": \"MIT\"}, {\"UMAP_Component_1\": 12.149782180786133, \"UMAP_Component_2\": 10.650683403015137, \"localization_site\": \"MIT\"}, {\"UMAP_Component_1\": 8.14541244506836, \"UMAP_Component_2\": 10.684418678283691, \"localization_site\": \"NUC\"}, {\"UMAP_Component_1\": 10.625443458557129, \"UMAP_Component_2\": 5.276063919067383, \"localization_site\": \"CYT\"}, {\"UMAP_Component_1\": 10.661080360412598, \"UMAP_Component_2\": 5.528045177459717, \"localization_site\": \"CYT\"}, {\"UMAP_Component_1\": 10.719684600830078, \"UMAP_Component_2\": 4.462361812591553, \"localization_site\": \"CYT\"}, {\"UMAP_Component_1\": 11.385272979736328, \"UMAP_Component_2\": 5.0395026206970215, \"localization_site\": \"CYT\"}, {\"UMAP_Component_1\": 13.30212688446045, \"UMAP_Component_2\": 8.134523391723633, \"localization_site\": \"CYT\"}, {\"UMAP_Component_1\": 13.31800365447998, \"UMAP_Component_2\": 8.088719367980957, \"localization_site\": \"CYT\"}, {\"UMAP_Component_1\": 9.386406898498535, \"UMAP_Component_2\": 2.922579050064087, \"localization_site\": \"ME2\"}, {\"UMAP_Component_1\": 8.758707046508789, \"UMAP_Component_2\": 9.58663272857666, \"localization_site\": \"NUC\"}, {\"UMAP_Component_1\": 8.87703800201416, \"UMAP_Component_2\": 3.127716541290283, \"localization_site\": \"ME2\"}, {\"UMAP_Component_1\": 11.94262409210205, \"UMAP_Component_2\": 9.899109840393066, \"localization_site\": \"NUC\"}, {\"UMAP_Component_1\": 10.612223625183105, \"UMAP_Component_2\": 4.8778533935546875, \"localization_site\": \"CYT\"}]}}, {\"mode\": \"vega-lite\"});\n",
       "</script>"
      ],
      "text/plain": [
       "alt.Chart(...)"
      ]
     },
     "execution_count": 31,
     "metadata": {},
     "output_type": "execute_result"
    }
   ],
   "source": [
    "import altair as alt\n",
    "base = alt.Chart(merged_datasets).encode().properties(\n",
    "    width=1000,)\n",
    "base.mark_circle(size=60).encode(\n",
    "    x=alt.X('UMAP_Component_1', title=\"UMAP 1\"),\n",
    "    y=alt.Y('UMAP_Component_2', title=\"UMAP 2\"),\n",
    "    color=alt.Color('localization_site:N', scale=alt.Scale(scheme='tableau20') )\n",
    ")\n"
   ]
  },
  {
   "cell_type": "markdown",
   "metadata": {},
   "source": [
    "<font size=\"+9\" color=\"grey\"><b>1.1. 1D</b></font><font size=\"+1\" color=\"grey\"><b> ( Anomaly Detection) </b></font><br>"
   ]
  },
  {
   "cell_type": "code",
   "execution_count": 32,
   "metadata": {},
   "outputs": [],
   "source": [
    "from Implementations.visualization import create_combined_chart\n",
    "\n",
    "scatter_plot_single, gaussian_jitter, box_with_jitter, histogram_shade, combined_chart = create_combined_chart(\n",
    "    merged_datasets, \"UMAP_Component_1\", \"UMAP_Component_2\",\n",
    "    color_column='localization_site', \n",
    "    main_color_domain=['MIT', 'NUC', 'CYT', 'ME1', 'EXC', 'ME2', 'ME3', 'VAC', 'POX', 'ERL'],\n",
    "    main_color_range=[\"#543005\", \"#8c510a\", \"#bf812d\", \"#dfc27d\", \"#f6e8c3\", \n",
    "    \"#f5f5f5\", \"#c7eae5\", \"#80cdc1\", \"#35978f\", \"#01665e\"],\n",
    "    attr_color_domain=[\n",
    "        'MIT Attr 1', 'MIT Attr 2', \n",
    "        'NUC Attr 1', 'NUC Attr 2', \n",
    "        'CYT Attr 1', 'CYT Attr 2', \n",
    "        'ME1 Attr 1', 'ME1 Attr 2', \n",
    "        'EXC Attr 1', 'EXC Attr 2', \n",
    "        'ME2 Attr 1', 'ME2 Attr 2', \n",
    "        'ME3 Attr 1', 'ME3 Attr 2', \n",
    "        'VAC Attr 1', 'VAC Attr 2', \n",
    "        'POX Attr 1', 'POX Attr 2', \n",
    "        'ERL Attr 1', 'ERL Attr 2'\n",
    "    ],\n",
    "    attr_color_range=[\"#66c2a5\", \"#fc8d62\", \"#66c2a5\", \"#fc8d62\"],\n",
    "    attribute_nomeclature=[\"Attr 1\", \"Attr 2\"],\n",
    "    width_single=800,\n",
    "    height_single=400, \n",
    "    jitter_size=40\n",
    "    # greyed_out_option=False\n",
    ")\n",
    "combined_chart.configure_title(\n",
    "    fontSize=18\n",
    ").configure_axis(\n",
    "    labelFontSize=15,\n",
    "    titleFontSize=18\n",
    ").configure_legend(\n",
    "    labelFontSize=15,\n",
    "    titleFontSize=18,\n",
    "    orient=\"bottom\", title=None, padding=5, labelLimit=200, \n",
    "    # columns=3\n",
    ")\n",
    "# .save('../../images/case3_combined.png', format='png', scale=5)"
   ]
  },
  {
   "cell_type": "code",
   "execution_count": 33,
   "metadata": {},
   "outputs": [],
   "source": [
    "scatter_plot_single.configure_title(\n",
    "    fontSize=18\n",
    ").configure_axis(\n",
    "    labelFontSize=15,\n",
    "    titleFontSize=18\n",
    ").configure_legend(\n",
    "    labelFontSize=15,\n",
    "    titleFontSize=18,\n",
    "    orient=\"bottom\", title=None, padding=5, labelLimit=200, \n",
    "    # columns=3\n",
    ")\n",
    "# .save('../../images/case3_scatter_plot.png', format='png', scale_factor=5)"
   ]
  },
  {
   "cell_type": "markdown",
   "metadata": {},
   "source": [
    "<font size=\"+1\" color=\"grey\"><b> 2.1.1 Strip Plot </b></font>"
   ]
  },
  {
   "cell_type": "code",
   "execution_count": 34,
   "metadata": {},
   "outputs": [],
   "source": [
    "gaussian_jitter.configure_title(\n",
    "    fontSize=18\n",
    ").configure_axis(\n",
    "    labelFontSize=15,\n",
    "    titleFontSize=18\n",
    ").configure_legend(\n",
    "    labelFontSize=15,\n",
    "    titleFontSize=18,\n",
    "    orient=\"bottom\", title=None, padding=5, labelLimit=200, \n",
    "    # columns=3\n",
    ")\n",
    "# .save('../../images/case3_strip_plot.png', format='png', scale_factor=5)"
   ]
  },
  {
   "cell_type": "markdown",
   "metadata": {},
   "source": [
    "<font size=\"+1\" color=\"grey\"><b> 2.1.2 1D Scatter Plot </b></font>"
   ]
  },
  {
   "cell_type": "code",
   "execution_count": 35,
   "metadata": {},
   "outputs": [
    {
     "name": "stderr",
     "output_type": "stream",
     "text": [
      "/var/folders/95/gt0pqtjx3r76yhhy2b1fc02c0000gp/T/ipykernel_3476/275360487.py:8: AltairDeprecationWarning:\n",
      "\n",
      "Deprecated in `altair=5.0.0`. Use selection_point instead.\n",
      "\n",
      "/var/folders/95/gt0pqtjx3r76yhhy2b1fc02c0000gp/T/ipykernel_3476/275360487.py:19: AltairDeprecationWarning:\n",
      "\n",
      "Deprecated in `altair=5.0.0`. Use add_params instead.\n",
      "\n"
     ]
    }
   ],
   "source": [
    "import altair as alt\n",
    "\n",
    "color_scheme = [\n",
    "    \"#543005\", \"#8c510a\", \"#bf812d\", \"#dfc27d\", \"#f6e8c3\", \n",
    "    \"#f5f5f5\", \"#c7eae5\", \"#80cdc1\", \"#35978f\", \"#01665e\"\n",
    "]\n",
    "#binding the marks using the quality variable\n",
    "selection = alt.selection_multi(fields=['localization_site'], bind='legend')\n",
    "\n",
    "base = alt.Chart(merged_datasets).encode().properties(\n",
    "    width=1000,)\n",
    "\n",
    "#plot for 1D scatterplot\n",
    "UMAP1_circle = base.mark_circle(size=60).encode(\n",
    "    x=alt.X('UMAP_Component_1', title=\"UMAP 1\"),\n",
    "    color=alt.Color('localization_site:N', scale=alt.Scale(domain=merged_datasets['localization_site'].unique(), range=color_scheme)),\n",
    "    #tooltip=list(all_features),\n",
    "    opacity=alt.condition(selection, alt.value(1), alt.value(0.2))\n",
    ").add_selection(\n",
    "    selection\n",
    ")\n",
    "\n",
    "UMAP2_circle = base.mark_circle(size=60).encode(\n",
    "    x=alt.X('UMAP_Component_2', title=\"UMAP 2\"),\n",
    "    color=alt.Color('localization_site:N', scale=alt.Scale(domain=merged_datasets['localization_site'].unique(), range=color_scheme)),\n",
    "    #tooltip=list(all_features),\n",
    "    opacity=alt.condition(selection, alt.value(1), alt.value(0.2))\n",
    ")\n",
    "\n",
    "\n",
    "(UMAP1_circle & UMAP2_circle).properties(\n",
    "    title= '1-dimensional Plot',\n",
    ").configure_title(\n",
    "    anchor= 'middle',\n",
    "    fontSize=16  \n",
    ").configure_title(\n",
    "    fontSize=18\n",
    ").configure_axis(\n",
    "    labelFontSize=15,\n",
    "    titleFontSize=18\n",
    ").configure_legend(\n",
    "    labelFontSize=15,\n",
    "    titleFontSize=18,\n",
    "    orient=\"bottom\", title=None, padding=5, labelLimit=200, \n",
    "    # columns=3\n",
    ")\n",
    "# .save('../../images/case3_1D_scatter_plot.png', format='png', scale_factor=5)\n",
    "\n"
   ]
  },
  {
   "cell_type": "markdown",
   "metadata": {},
   "source": [
    "<font size=\"+1\" color=\"grey\"><b> 2.1.3 Box Plot for UMAP grouped by location site </b></font>"
   ]
  },
  {
   "cell_type": "code",
   "execution_count": 36,
   "metadata": {},
   "outputs": [],
   "source": [
    "#plotting the principal compoments using Boxplot\n",
    "\n",
    "import altair as alt\n",
    "\n",
    "# Define your custom color scheme\n",
    "color_scheme = [\n",
    "    \"#543005\", \"#8c510a\", \"#bf812d\", \"#dfc27d\", \"#f6e8c3\", \n",
    "    \"#f5f5f5\", \"#c7eae5\", \"#80cdc1\", \"#35978f\", \"#01665e\"\n",
    "]\n",
    "\n",
    "# Create the box plot for UMAP_Component_1\n",
    "UMAP1_boxplot = alt.Chart(merged_datasets).mark_boxplot().encode(\n",
    "    x='localization_site:N',\n",
    "    y=alt.Y('UMAP_Component_1:Q', title='UMAP 1'),\n",
    "    color=alt.Color('localization_site:N', scale=alt.Scale(domain=merged_datasets['localization_site'].unique(), range=color_scheme))\n",
    ").properties(\n",
    "    width=300,\n",
    "    height=300\n",
    ")\n",
    "\n",
    "# Create the box plot for UMAP_Component_2\n",
    "UMAP2_boxplot = alt.Chart(merged_datasets).mark_boxplot().encode(\n",
    "    x='localization_site:N',\n",
    "    y=alt.Y('UMAP_Component_2:Q', title='UMAP 2', scale=alt.Scale(domain=[-6, 14])),\n",
    "    color=alt.Color('localization_site:N', scale=alt.Scale(domain=merged_datasets['localization_site'].unique(), range=color_scheme))\n",
    ").properties(\n",
    "    width=300,\n",
    "    height=300\n",
    ")\n",
    "\n",
    "# Combine both box plots and configure the title\n",
    "final_plot = (UMAP1_boxplot | UMAP2_boxplot).properties(\n",
    "    title='UMAP Components grouped by localization site'\n",
    ").configure_title(\n",
    "    anchor='middle',\n",
    "    fontSize=18  \n",
    ").configure_axis(\n",
    "    labelFontSize=15,\n",
    "    titleFontSize=18\n",
    ").configure_legend(\n",
    "    labelFontSize=15,\n",
    "    titleFontSize=18,\n",
    "    orient=\"bottom\", title=None, padding=5, labelLimit=200, \n",
    "    # columns=3\n",
    ")\n",
    "\n",
    "# Save the final plot\n",
    "# final_plot.save('../../images/case3_box_plot.png', format='png', scale_factor=5)\n",
    "\n",
    "\n",
    "# box_with_jitter.save('../../images/case3_box_plot_with_strip_plot.png', format='png', scale_factor=5)\n"
   ]
  },
  {
   "cell_type": "markdown",
   "metadata": {},
   "source": [
    "<font size=\"+1\" color=\"grey\"><b> 2.1.4 Histogram Plot</b></font>"
   ]
  },
  {
   "cell_type": "code",
   "execution_count": 37,
   "metadata": {},
   "outputs": [],
   "source": [
    "histogram_shade.configure_title(\n",
    "    fontSize=18\n",
    ").configure_axis(\n",
    "    labelFontSize=15,\n",
    "    titleFontSize=18\n",
    ").configure_legend(\n",
    "    labelFontSize=15,\n",
    "    titleFontSize=18,\n",
    "    orient=\"bottom\", title=None, padding=5, labelLimit=200, \n",
    "    # columns=3\n",
    ")\n",
    "# .save('../../images/case3_histogram_plot.png', format='png', scale_factor=5)"
   ]
  },
  {
   "cell_type": "markdown",
   "metadata": {},
   "source": [
    "<font size=\"+1\" color=\"grey\"><b> 2.1.5 Violin Plot</b></font><br/>"
   ]
  },
  {
   "cell_type": "code",
   "execution_count": 38,
   "metadata": {},
   "outputs": [
    {
     "data": {
      "application/vnd.plotly.v1+json": {
       "config": {
        "plotlyServerURL": "https://plot.ly"
       },
       "data": [
        {
         "alignmentgroup": "True",
         "box": {
          "visible": true
         },
         "hovertemplate": "localization_site=MIT<br>UMAP_Component_1=%{y}<extra></extra>",
         "legendgroup": "MIT",
         "marker": {
          "color": "#543005"
         },
         "name": "MIT",
         "offsetgroup": "MIT",
         "orientation": "v",
         "points": "all",
         "scalegroup": "True",
         "showlegend": true,
         "type": "violin",
         "x0": " ",
         "xaxis": "x",
         "y": [
          9.542462348937988,
          9.299116134643555,
          9.571455955505371,
          14.248353958129883,
          14.46006965637207,
          13.041051864624023,
          12.658110618591309,
          10.260005950927734,
          13.323421478271484,
          10.795086860656738,
          14.623469352722168,
          9.513876914978027,
          13.373316764831543,
          12.19880485534668,
          14.485835075378418,
          13.192621231079102,
          14.128143310546875,
          14.715704917907715,
          13.017420768737793,
          14.517520904541016,
          12.891858100891113,
          13.834362983703613,
          14.110369682312012,
          13.649164199829102,
          13.098625183105469,
          13.688188552856445,
          13.1502046585083,
          13.09596061706543,
          -4.68699836730957,
          10.711655616760254,
          8.767908096313477,
          9.51014232635498,
          14.571280479431152,
          12.399176597595215,
          14.401768684387207,
          14.585541725158691,
          12.525827407836914,
          8.14186954498291,
          13.055798530578613,
          12.606569290161133,
          13.197437286376953,
          10.54247760772705,
          13.869961738586426,
          10.307696342468262,
          13.725449562072754,
          8.273829460144043,
          13.413567543029785,
          13.703763008117676,
          14.17868423461914,
          13.724905014038086,
          8.888389587402344,
          9.039691925048828,
          6.938354015350342,
          13.104613304138184,
          12.937063217163086,
          13.477699279785156,
          14.1958589553833,
          7.968985557556152,
          8.511680603027344,
          14.371135711669922,
          14.094866752624512,
          14.240765571594238,
          14.803242683410645,
          13.942471504211426,
          14.02631664276123,
          10.051342010498047,
          13.035751342773438,
          12.283577919006348,
          12.709207534790039,
          9.475796699523926,
          10.91861629486084,
          12.703470230102539,
          14.036200523376465,
          12.84859848022461,
          14.181502342224121,
          12.83162784576416,
          13.99031925201416,
          14.641687393188477,
          12.745911598205566,
          14.433221817016602,
          14.69596004486084,
          13.980120658874512,
          13.405997276306152,
          14.49830436706543,
          13.558660507202148,
          13.073287963867188,
          13.521689414978027,
          14.750389099121094,
          14.686707496643066,
          11.07802677154541,
          10.478952407836914,
          14.214664459228516,
          11.097350120544434,
          9.336996078491211,
          12.921710014343262,
          14.242608070373535,
          13.949999809265137,
          13.101088523864746,
          14.445067405700684,
          10.209870338439941,
          14.231520652770996,
          13.322298049926758,
          14.604669570922852,
          13.467900276184082,
          9.173528671264648,
          11.495628356933594,
          10.254054069519043,
          12.776731491088867,
          13.60348129272461,
          12.14211368560791,
          13.51572322845459,
          14.399026870727539,
          14.73961353302002,
          12.76525592803955,
          13.950200080871582,
          8.348840713500977,
          9.29071044921875,
          14.048134803771973,
          11.179265975952148,
          14.707476615905762,
          8.972825050354004,
          12.554597854614258,
          14.064712524414062,
          13.386266708374023,
          12.231507301330566,
          12.702909469604492,
          12.706212043762207,
          14.754095077514648,
          13.091636657714844,
          -4.673612594604492,
          12.304462432861328,
          14.058161735534668,
          12.427024841308594,
          13.801691055297852,
          13.0440092086792,
          13.056443214416504,
          14.321371078491211,
          11.095731735229492,
          12.887989044189453,
          10.620715141296387,
          14.145827293395996,
          11.880350112915039,
          13.956381797790527,
          12.955146789550781,
          13.831884384155273,
          13.116584777832031,
          13.091794967651367,
          13.982826232910156,
          13.318828582763672,
          14.04629135131836,
          12.455249786376953,
          14.141194343566895,
          9.729299545288086,
          8.97442626953125,
          13.434898376464844,
          11.380669593811035,
          14.18026351928711,
          14.351778984069824,
          13.292155265808105,
          9.855271339416504,
          11.625198364257812,
          14.551787376403809,
          13.233739852905273,
          11.47470474243164,
          13.109646797180176,
          14.74780559539795,
          13.244918823242188,
          11.694487571716309,
          12.860918045043945,
          13.029742240905762,
          13.525890350341797,
          13.563220024108887,
          10.330513000488281,
          9.12597370147705,
          7.6583428382873535,
          10.531942367553711,
          12.258914947509766,
          11.533186912536621,
          13.136077880859375,
          14.685966491699219,
          13.037886619567871,
          13.924689292907715,
          13.450096130371094,
          9.903579711914062,
          14.15292739868164,
          12.711858749389648,
          11.988184928894043,
          12.114012718200684,
          -4.688591480255127,
          14.191594123840332,
          12.326703071594238,
          14.101627349853516,
          14.512043952941895,
          10.1290864944458,
          14.278096199035645,
          13.27686595916748,
          13.331951141357422,
          9.971527099609375,
          12.836822509765625,
          10.756138801574707,
          10.348249435424805,
          12.817744255065918,
          9.109249114990234,
          14.334837913513184,
          13.302458763122559,
          11.533616065979004,
          13.467321395874023,
          10.823590278625488,
          13.666844367980957,
          8.449455261230469,
          13.399229049682617,
          13.974654197692871,
          14.436131477355957,
          13.754693031311035,
          13.639888763427734,
          11.20263385772705,
          9.267130851745605,
          13.217667579650879,
          7.1800971031188965,
          6.107656002044678,
          13.434588432312012,
          13.589278221130371,
          14.606606483459473,
          12.490487098693848,
          12.76815128326416,
          9.140286445617676,
          13.959173202514648,
          12.203563690185547,
          8.407580375671387,
          13.387001037597656,
          13.962974548339844,
          10.078588485717773,
          9.05428695678711,
          14.675558090209961,
          11.612872123718262,
          9.294477462768555,
          9.836825370788574,
          9.023183822631836,
          13.90131664276123,
          14.713157653808594,
          9.349458694458008,
          11.574506759643555,
          13.150437355041504,
          12.149782180786133
         ],
         "y0": " ",
         "yaxis": "y"
        },
        {
         "alignmentgroup": "True",
         "box": {
          "visible": true
         },
         "hovertemplate": "localization_site=NUC<br>UMAP_Component_1=%{y}<extra></extra>",
         "legendgroup": "NUC",
         "marker": {
          "color": "#8c510a"
         },
         "name": "NUC",
         "offsetgroup": "NUC",
         "orientation": "v",
         "points": "all",
         "scalegroup": "True",
         "showlegend": true,
         "type": "violin",
         "x0": " ",
         "xaxis": "x",
         "y": [
          11.698423385620117,
          11.636581420898438,
          11.577595710754395,
          12.165201187133789,
          11.388118743896484,
          11.815959930419922,
          10.62622356414795,
          8.349675178527832,
          13.371702194213867,
          13.848501205444336,
          13.239133834838867,
          11.203787803649902,
          9.030275344848633,
          11.812329292297363,
          8.985830307006836,
          9.04764461517334,
          9.488056182861328,
          7.5860748291015625,
          9.157408714294434,
          13.963764190673828,
          8.254223823547363,
          11.642491340637207,
          10.84699821472168,
          12.830779075622559,
          9.185707092285156,
          9.783881187438965,
          12.185551643371582,
          12.897316932678223,
          11.12763786315918,
          7.4497504234313965,
          9.137296676635742,
          8.503690719604492,
          10.822660446166992,
          10.58150863647461,
          8.866131782531738,
          8.940938949584961,
          11.248642921447754,
          14.043855667114258,
          10.298087120056152,
          8.968130111694336,
          11.333773612976074,
          10.984869956970215,
          12.123249053955078,
          11.42091178894043,
          12.05643367767334,
          10.177525520324707,
          9.352112770080566,
          13.28406047821045,
          13.233717918395996,
          10.889830589294434,
          13.772504806518555,
          10.281026840209961,
          11.279519081115723,
          11.6708984375,
          14.081687927246094,
          10.137998580932617,
          11.19692325592041,
          12.032247543334961,
          8.70665454864502,
          11.265253067016602,
          8.52556037902832,
          12.797045707702637,
          12.064153671264648,
          10.776994705200195,
          10.182616233825684,
          8.342667579650879,
          12.02901554107666,
          9.315230369567871,
          11.995345115661621,
          8.610937118530273,
          9.0214262008667,
          9.168994903564453,
          8.205937385559082,
          12.891424179077148,
          14.5042142868042,
          11.035253524780273,
          9.884086608886719,
          9.296525001525879,
          11.898694038391113,
          11.013657569885254,
          11.456074714660645,
          10.63587760925293,
          10.951891899108887,
          11.005833625793457,
          12.634991645812988,
          8.936272621154785,
          9.378747940063477,
          9.21649169921875,
          10.910146713256836,
          10.86837387084961,
          9.029288291931152,
          8.279447555541992,
          14.538464546203613,
          11.972538948059082,
          -6.655025005340576,
          10.708718299865723,
          11.254216194152832,
          12.020942687988281,
          13.00368881225586,
          13.015148162841797,
          14.08613395690918,
          14.068222045898438,
          8.587881088256836,
          8.436939239501953,
          12.577972412109375,
          11.929863929748535,
          12.14438533782959,
          11.883772850036621,
          8.746875762939453,
          9.285820007324219,
          9.016885757446289,
          13.575043678283691,
          12.165534973144531,
          13.319829940795898,
          13.273965835571289,
          11.995855331420898,
          11.98176383972168,
          11.895960807800293,
          11.803629875183105,
          9.682290077209473,
          14.598078727722168,
          9.153675079345703,
          11.26058578491211,
          12.422333717346191,
          9.462198257446289,
          9.971324920654297,
          11.945348739624023,
          11.86828899383545,
          10.489596366882324,
          9.322946548461914,
          10.424872398376465,
          8.255380630493164,
          14.473465919494629,
          10.579155921936035,
          12.125799179077148,
          8.680902481079102,
          11.48625659942627,
          11.3872709274292,
          9.263703346252441,
          14.606026649475098,
          8.85799503326416,
          8.627276420593262,
          10.127018928527832,
          9.084518432617188,
          9.99001693725586,
          9.211812973022461,
          9.36421012878418,
          9.880675315856934,
          11.302046775817871,
          9.691736221313477,
          9.81362533569336,
          8.464942932128906,
          9.062554359436035,
          9.807729721069336,
          10.36984634399414,
          9.998642921447754,
          13.48304557800293,
          13.7294921875,
          11.575783729553223,
          8.495601654052734,
          9.243051528930664,
          11.138593673706055,
          10.238837242126465,
          14.377320289611816,
          12.830816268920898,
          12.179997444152832,
          7.835568428039551,
          8.96597957611084,
          14.150144577026367,
          8.8558931350708,
          11.466553688049316,
          12.542820930480957,
          12.50786018371582,
          7.866316318511963,
          11.214897155761719,
          11.142460823059082,
          8.72527027130127,
          8.338461875915527,
          11.673584938049316,
          12.340433120727539,
          10.408190727233887,
          11.54063892364502,
          9.01578140258789,
          10.683639526367188,
          10.21508502960205,
          8.45705795288086,
          10.521808624267578,
          10.246573448181152,
          9.371756553649902,
          11.884405136108398,
          -6.657614231109619,
          14.47604751586914,
          8.596230506896973,
          9.07360553741455,
          9.451233863830566,
          10.27495288848877,
          13.474366188049316,
          12.061286926269531,
          11.666421890258789,
          9.44359016418457,
          13.1524658203125,
          11.750252723693848,
          8.356374740600586,
          12.017807960510254,
          14.173466682434082,
          9.01888656616211,
          10.171571731567383,
          10.57870101928711,
          11.670693397521973,
          9.107820510864258,
          9.492561340332031,
          11.291840553283691,
          9.776267051696777,
          11.751571655273438,
          7.766323566436768,
          14.58619213104248,
          11.256414413452148,
          12.112696647644043,
          14.580320358276367,
          8.497873306274414,
          11.639032363891602,
          12.781136512756348,
          11.566965103149414,
          9.653077125549316,
          10.622283935546875,
          11.474403381347656,
          10.574746131896973,
          11.885199546813965,
          10.694222450256348,
          -6.685624599456787,
          9.416955947875977,
          9.472896575927734,
          9.817023277282715,
          13.871122360229492,
          11.21826457977295,
          10.285357475280762,
          13.484496116638184,
          12.412873268127441,
          8.760200500488281,
          8.689826965332031,
          8.969123840332031,
          12.582740783691406,
          10.730963706970215,
          10.272838592529297,
          8.439752578735352,
          8.67298698425293,
          10.18345832824707,
          10.374265670776367,
          10.805794715881348,
          11.558465957641602,
          10.660890579223633,
          9.30981159210205,
          12.886442184448242,
          8.251629829406738,
          9.022342681884766,
          8.206841468811035,
          8.604266166687012,
          12.65084457397461,
          12.121988296508789,
          10.692000389099121,
          12.066628456115723,
          13.56955623626709,
          8.595131874084473,
          8.937145233154297,
          12.726842880249023,
          12.174883842468262,
          12.168777465820312,
          9.709075927734375,
          9.086286544799805,
          12.343506813049316,
          7.777241230010986,
          12.495902061462402,
          8.755243301391602,
          12.597999572753906,
          13.582685470581055,
          9.439581871032715,
          11.607532501220703,
          14.000941276550293,
          13.957026481628418,
          10.67819595336914,
          10.939290046691895,
          8.883871078491211,
          10.457366943359375,
          12.252701759338379,
          12.12231159210205,
          10.388384819030762,
          10.449050903320312,
          8.744126319885254,
          12.580148696899414,
          11.876080513000488,
          12.266266822814941,
          12.520183563232422,
          13.3342866897583,
          13.237894058227539,
          13.346295356750488,
          10.308314323425293,
          12.163064002990723,
          11.97956371307373,
          11.58184814453125,
          10.9038724899292,
          10.634889602661133,
          11.45242977142334,
          10.006916046142578,
          10.320334434509277,
          8.454174995422363,
          13.437126159667969,
          11.736417770385742,
          11.535481452941895,
          8.281609535217285,
          11.202506065368652,
          10.01538372039795,
          12.84154987335205,
          10.468195915222168,
          12.802206993103027,
          9.765682220458984,
          13.436439514160156,
          14.028995513916016,
          11.14680290222168,
          8.967635154724121,
          9.632915496826172,
          10.495997428894043,
          9.067769050598145,
          12.908402442932129,
          8.32075309753418,
          12.478343963623047,
          8.233011245727539,
          8.694904327392578,
          8.401337623596191,
          8.585315704345703,
          14.278349876403809,
          13.96621036529541,
          12.074048042297363,
          11.594679832458496,
          10.811068534851074,
          9.62022876739502,
          10.77741813659668,
          12.163037300109863,
          8.42930793762207,
          11.27039623260498,
          9.180451393127441,
          9.098851203918457,
          9.845791816711426,
          9.988986015319824,
          11.095529556274414,
          8.688118934631348,
          9.832776069641113,
          7.810244560241699,
          10.223247528076172,
          10.990861892700195,
          9.255406379699707,
          9.572457313537598,
          8.861429214477539,
          12.052661895751953,
          10.44919204711914,
          8.283623695373535,
          10.259895324707031,
          13.9491605758667,
          11.181930541992188,
          12.299156188964844,
          10.871644020080566,
          10.759758949279785,
          12.417717933654785,
          9.01042652130127,
          14.592415809631348,
          9.372157096862793,
          8.818437576293945,
          8.149413108825684,
          8.863445281982422,
          8.982858657836914,
          11.929211616516113,
          6.508467674255371,
          10.050389289855957,
          8.558104515075684,
          8.83271312713623,
          11.25600814819336,
          9.37866497039795,
          9.139278411865234,
          11.986570358276367,
          8.806265830993652,
          8.567310333251953,
          10.394491195678711,
          10.161138534545898,
          9.067888259887695,
          9.262540817260742,
          8.53089714050293,
          10.190342903137207,
          12.155440330505371,
          12.802993774414062,
          8.797130584716797,
          8.423857688903809,
          12.795002937316895,
          10.613709449768066,
          12.381513595581055,
          14.397787094116211,
          9.328722953796387,
          8.583549499511719,
          10.576746940612793,
          8.5170259475708,
          13.938618659973145,
          9.89721965789795,
          12.034806251525879,
          8.366079330444336,
          8.937167167663574,
          10.362056732177734,
          8.574440956115723,
          12.35785961151123,
          10.3493070602417,
          8.48448371887207,
          8.676092147827148,
          11.269233703613281,
          10.936381340026855,
          9.200106620788574,
          11.259781837463379,
          12.290633201599121,
          9.235075950622559,
          8.999408721923828,
          9.862892150878906,
          9.808125495910645,
          8.546981811523438,
          12.51572322845459,
          8.539003372192383,
          14.766304969787598,
          8.777944564819336,
          9.6160306930542,
          11.197174072265625,
          8.338302612304688,
          8.14541244506836,
          8.758707046508789,
          11.94262409210205
         ],
         "y0": " ",
         "yaxis": "y"
        },
        {
         "alignmentgroup": "True",
         "box": {
          "visible": true
         },
         "hovertemplate": "localization_site=CYT<br>UMAP_Component_1=%{y}<extra></extra>",
         "legendgroup": "CYT",
         "marker": {
          "color": "#bf812d"
         },
         "name": "CYT",
         "offsetgroup": "CYT",
         "orientation": "v",
         "points": "all",
         "scalegroup": "True",
         "showlegend": true,
         "type": "violin",
         "x0": " ",
         "xaxis": "x",
         "y": [
          -4.692528247833252,
          11.857034683227539,
          12.777884483337402,
          10.83723258972168,
          9.358016967773438,
          10.843331336975098,
          10.732606887817383,
          9.226826667785645,
          11.321738243103027,
          11.452610969543457,
          11.412491798400879,
          12.033393859863281,
          8.655613899230957,
          11.695725440979004,
          10.624245643615723,
          12.304369926452637,
          11.045333862304688,
          11.116901397705078,
          9.822319030761719,
          12.075641632080078,
          11.901909828186035,
          8.688584327697754,
          9.625655174255371,
          11.635478973388672,
          10.705486297607422,
          12.075416564941406,
          10.679303169250488,
          11.405780792236328,
          13.245219230651855,
          13.673186302185059,
          12.883883476257324,
          9.855173110961914,
          14.212873458862305,
          13.79503059387207,
          11.884678840637207,
          11.644031524658203,
          9.16375732421875,
          9.869028091430664,
          9.04764175415039,
          13.833357810974121,
          10.56289005279541,
          9.83173656463623,
          13.927765846252441,
          10.563281059265137,
          11.769697189331055,
          12.482583999633789,
          11.200098991394043,
          10.574053764343262,
          10.829662322998047,
          9.447354316711426,
          10.049062728881836,
          12.015417098999023,
          12.606993675231934,
          12.623247146606445,
          10.196110725402832,
          8.966619491577148,
          11.403207778930664,
          11.424190521240234,
          14.737990379333496,
          12.29667854309082,
          11.052027702331543,
          11.593034744262695,
          13.733504295349121,
          9.932364463806152,
          9.148439407348633,
          9.11709976196289,
          11.468049049377441,
          11.672231674194336,
          11.50338363647461,
          12.098371505737305,
          10.339072227478027,
          9.065149307250977,
          12.15898323059082,
          13.806827545166016,
          13.633846282958984,
          12.545586585998535,
          12.75734806060791,
          12.802115440368652,
          11.521719932556152,
          9.716495513916016,
          10.707511901855469,
          12.86196231842041,
          10.531314849853516,
          11.422378540039062,
          11.245013236999512,
          11.41531753540039,
          9.401506423950195,
          8.553977012634277,
          10.237428665161133,
          10.24697494506836,
          9.79997730255127,
          9.311013221740723,
          9.360756874084473,
          11.738478660583496,
          9.385087966918945,
          -6.675088882446289,
          10.005867958068848,
          8.99765682220459,
          9.218082427978516,
          11.244575500488281,
          9.957479476928711,
          10.066980361938477,
          10.507221221923828,
          12.073524475097656,
          11.830061912536621,
          11.710962295532227,
          14.076286315917969,
          9.967716217041016,
          10.158391952514648,
          10.204694747924805,
          10.556915283203125,
          10.32613754272461,
          10.097174644470215,
          10.891328811645508,
          9.344666481018066,
          10.774310111999512,
          11.28132438659668,
          10.922296524047852,
          7.766852378845215,
          9.11491870880127,
          9.510547637939453,
          12.001042366027832,
          11.995492935180664,
          11.399637222290039,
          9.329174995422363,
          8.628617286682129,
          10.477606773376465,
          9.969810485839844,
          10.694491386413574,
          11.890737533569336,
          9.708970069885254,
          10.553398132324219,
          11.724300384521484,
          13.250732421875,
          11.876151084899902,
          11.884809494018555,
          8.913459777832031,
          9.145681381225586,
          9.163132667541504,
          11.927968978881836,
          9.777956008911133,
          10.821954727172852,
          10.33072566986084,
          10.536041259765625,
          11.75438404083252,
          11.691343307495117,
          8.400365829467773,
          10.480892181396484,
          11.899733543395996,
          8.384489059448242,
          11.251883506774902,
          11.278786659240723,
          11.984400749206543,
          10.0288667678833,
          10.60185432434082,
          12.360674858093262,
          12.687084197998047,
          -6.674415588378906,
          14.730632781982422,
          9.151838302612305,
          10.036041259765625,
          14.507858276367188,
          9.37576675415039,
          9.735063552856445,
          10.005939483642578,
          10.256675720214844,
          12.150590896606445,
          11.93973445892334,
          12.439353942871094,
          9.419594764709473,
          10.376935005187988,
          10.206888198852539,
          11.700085639953613,
          9.214479446411133,
          11.904092788696289,
          10.89102554321289,
          10.742512702941895,
          9.976097106933594,
          -6.670231342315674,
          10.733940124511719,
          10.700735092163086,
          11.237313270568848,
          13.060338020324707,
          13.59626293182373,
          11.72676944732666,
          7.958642959594727,
          10.029956817626953,
          11.974008560180664,
          11.921524047851562,
          13.721318244934082,
          11.824373245239258,
          12.077763557434082,
          9.907358169555664,
          12.078632354736328,
          9.88034439086914,
          10.333060264587402,
          10.064386367797852,
          9.262560844421387,
          9.768567085266113,
          11.785445213317871,
          -6.670778274536133,
          14.26716423034668,
          10.984264373779297,
          10.560601234436035,
          11.469810485839844,
          11.440388679504395,
          9.173233985900879,
          11.350296020507812,
          10.130939483642578,
          10.465376853942871,
          10.619621276855469,
          10.266946792602539,
          9.440167427062988,
          12.173783302307129,
          12.15720272064209,
          13.857584953308105,
          9.832622528076172,
          9.47693920135498,
          11.362735748291016,
          11.381335258483887,
          11.846020698547363,
          10.20910930633545,
          13.281288146972656,
          13.65312671661377,
          11.33395004272461,
          14.523848533630371,
          12.078197479248047,
          11.784638404846191,
          10.399883270263672,
          9.811226844787598,
          10.673211097717285,
          13.079279899597168,
          9.261445045471191,
          11.081170082092285,
          11.143743515014648,
          13.808967590332031,
          12.23332405090332,
          11.473165512084961,
          13.102254867553711,
          13.05594253540039,
          10.73984432220459,
          13.131477355957031,
          13.125200271606445,
          13.408097267150879,
          13.42600154876709,
          13.862846374511719,
          13.884842872619629,
          12.127084732055664,
          8.787615776062012,
          14.541808128356934,
          14.49486255645752,
          14.418851852416992,
          14.408597946166992,
          8.542057991027832,
          8.543892860412598,
          11.051412582397461,
          11.51644515991211,
          11.500527381896973,
          9.684624671936035,
          9.519740104675293,
          14.220732688903809,
          13.490249633789062,
          13.456363677978516,
          13.066129684448242,
          12.457359313964844,
          9.992847442626953,
          9.995917320251465,
          12.8590087890625,
          12.896729469299316,
          11.762958526611328,
          12.328506469726562,
          13.135733604431152,
          13.148130416870117,
          14.298190116882324,
          14.260863304138184,
          14.40153980255127,
          14.443466186523438,
          14.42564582824707,
          12.489677429199219,
          12.368426322937012,
          14.304025650024414,
          9.827524185180664,
          12.928921699523926,
          9.632966995239258,
          9.641104698181152,
          9.640417098999023,
          9.58294677734375,
          9.676009178161621,
          9.901598930358887,
          13.052739143371582,
          13.056894302368164,
          13.214825630187988,
          13.236711502075195,
          12.503015518188477,
          11.733989715576172,
          11.753671646118164,
          12.152119636535645,
          13.078920364379883,
          13.003853797912598,
          10.327635765075684,
          10.316378593444824,
          13.361947059631348,
          13.33065128326416,
          11.126350402832031,
          12.29139518737793,
          14.441821098327637,
          8.737306594848633,
          12.903132438659668,
          12.924386978149414,
          13.888697624206543,
          13.853972434997559,
          11.919849395751953,
          13.491167068481445,
          11.573197364807129,
          9.38436222076416,
          10.633468627929688,
          8.208683967590332,
          11.424592971801758,
          11.415945053100586,
          8.501509666442871,
          12.173583030700684,
          11.524556159973145,
          10.205954551696777,
          11.904715538024902,
          10.90784740447998,
          9.348831176757812,
          9.212346076965332,
          10.28987979888916,
          10.926690101623535,
          11.313008308410645,
          10.844532012939453,
          11.755671501159668,
          10.763774871826172,
          9.104463577270508,
          9.670862197875977,
          9.83700942993164,
          10.252425193786621,
          14.75075626373291,
          10.975214958190918,
          8.389850616455078,
          11.423781394958496,
          11.622178077697754,
          12.230188369750977,
          10.951297760009766,
          11.095714569091797,
          9.854595184326172,
          14.511244773864746,
          14.531913757324219,
          10.133769989013672,
          8.495035171508789,
          9.023894309997559,
          9.256443977355957,
          8.238316535949707,
          8.645851135253906,
          9.845388412475586,
          9.905487060546875,
          10.18061351776123,
          9.80463695526123,
          10.650225639343262,
          10.628693580627441,
          9.092833518981934,
          14.518030166625977,
          9.925243377685547,
          11.114845275878906,
          11.397200584411621,
          12.850852966308594,
          10.28570556640625,
          8.402400016784668,
          11.54771900177002,
          10.98619270324707,
          13.230009078979492,
          13.967095375061035,
          9.654068946838379,
          9.150277137756348,
          10.233031272888184,
          10.184393882751465,
          10.362010955810547,
          10.15995979309082,
          10.670244216918945,
          10.983254432678223,
          12.864273071289062,
          12.521240234375,
          12.865432739257812,
          10.284355163574219,
          10.290275573730469,
          9.003936767578125,
          9.028912544250488,
          12.176711082458496,
          12.901623725891113,
          12.008161544799805,
          12.446645736694336,
          12.198577880859375,
          12.41750431060791,
          8.31615161895752,
          10.768068313598633,
          11.3432035446167,
          11.09109115600586,
          11.44253158569336,
          11.494708061218262,
          9.569263458251953,
          10.182023048400879,
          9.706497192382812,
          10.807414054870605,
          11.914531707763672,
          14.422354698181152,
          11.861330032348633,
          12.763688087463379,
          12.788543701171875,
          11.041766166687012,
          9.370017051696777,
          9.552094459533691,
          10.230671882629395,
          11.610749244689941,
          11.114143371582031,
          9.576804161071777,
          11.304939270019531,
          8.90001392364502,
          10.523948669433594,
          12.151859283447266,
          11.751837730407715,
          11.587638854980469,
          11.587185859680176,
          10.68372631072998,
          8.535911560058594,
          11.720943450927734,
          10.628232955932617,
          10.606812477111816,
          12.29140853881836,
          13.884954452514648,
          8.37928581237793,
          11.375174522399902,
          10.861462593078613,
          9.149121284484863,
          12.118025779724121,
          10.666280746459961,
          13.854512214660645,
          14.576677322387695,
          8.304227828979492,
          9.195173263549805,
          9.508865356445312,
          10.859667778015137,
          13.033956527709961,
          10.729601860046387,
          8.673965454101562,
          10.636678695678711,
          12.10707950592041,
          10.510767936706543,
          12.03724193572998,
          12.096933364868164,
          13.952451705932617,
          11.555410385131836,
          8.217464447021484,
          14.174873352050781,
          12.103322982788086,
          8.350162506103516,
          13.193389892578125,
          10.625443458557129,
          10.661080360412598,
          10.719684600830078,
          11.385272979736328,
          13.30212688446045,
          13.31800365447998,
          10.612223625183105
         ],
         "y0": " ",
         "yaxis": "y"
        },
        {
         "alignmentgroup": "True",
         "box": {
          "visible": true
         },
         "hovertemplate": "localization_site=ME1<br>UMAP_Component_1=%{y}<extra></extra>",
         "legendgroup": "ME1",
         "marker": {
          "color": "#dfc27d"
         },
         "name": "ME1",
         "offsetgroup": "ME1",
         "orientation": "v",
         "points": "all",
         "scalegroup": "True",
         "showlegend": true,
         "type": "violin",
         "x0": " ",
         "xaxis": "x",
         "y": [
          9.234847068786621,
          9.82161808013916,
          9.237135887145996,
          9.647506713867188,
          9.001967430114746,
          9.686050415039062,
          9.107177734375,
          13.737130165100098,
          9.458839416503906,
          9.137920379638672,
          13.764763832092285,
          9.301240921020508,
          8.915590286254883,
          9.381592750549316,
          10.05797004699707,
          9.669794082641602,
          9.784876823425293,
          9.20557975769043,
          9.551380157470703,
          9.966911315917969,
          9.808165550231934,
          9.925661087036133,
          9.017982482910156,
          9.067413330078125,
          8.97642993927002,
          9.537298202514648,
          9.581889152526855,
          9.64494800567627,
          9.150017738342285,
          9.095111846923828,
          8.85397720336914,
          9.162277221679688,
          9.53271484375,
          9.497733116149902,
          8.988081932067871,
          8.965262413024902,
          9.190303802490234,
          9.204952239990234,
          9.824483871459961,
          9.818416595458984,
          10.137066841125488,
          8.587023735046387,
          9.204180717468262,
          9.649065017700195
         ],
         "y0": " ",
         "yaxis": "y"
        },
        {
         "alignmentgroup": "True",
         "box": {
          "visible": true
         },
         "hovertemplate": "localization_site=EXC<br>UMAP_Component_1=%{y}<extra></extra>",
         "legendgroup": "EXC",
         "marker": {
          "color": "#f6e8c3"
         },
         "name": "EXC",
         "offsetgroup": "EXC",
         "orientation": "v",
         "points": "all",
         "scalegroup": "True",
         "showlegend": true,
         "type": "violin",
         "x0": " ",
         "xaxis": "x",
         "y": [
          10.089055061340332,
          11.6412935256958,
          9.630084991455078,
          9.438746452331543,
          10.418588638305664,
          10.328742027282715,
          10.14023208618164,
          10.303731918334961,
          9.95817756652832,
          9.924324035644531,
          9.140944480895996,
          9.766067504882812,
          10.151573181152344,
          9.576852798461914,
          13.868875503540039,
          10.20859146118164,
          10.245908737182617,
          14.138988494873047,
          10.029356956481934,
          10.28260326385498,
          10.327924728393555,
          10.102149963378906,
          10.267412185668945,
          10.062501907348633,
          10.227438926696777,
          10.155601501464844,
          12.469016075134277,
          10.14208984375,
          10.33260726928711,
          9.997729301452637,
          10.085541725158691,
          10.015801429748535,
          10.312451362609863,
          9.942147254943848,
          9.669559478759766
         ],
         "y0": " ",
         "yaxis": "y"
        },
        {
         "alignmentgroup": "True",
         "box": {
          "visible": true
         },
         "hovertemplate": "localization_site=ME2<br>UMAP_Component_1=%{y}<extra></extra>",
         "legendgroup": "ME2",
         "marker": {
          "color": "#f5f5f5"
         },
         "name": "ME2",
         "offsetgroup": "ME2",
         "orientation": "v",
         "points": "all",
         "scalegroup": "True",
         "showlegend": true,
         "type": "violin",
         "x0": " ",
         "xaxis": "x",
         "y": [
          9.255114555358887,
          10.188042640686035,
          9.213878631591797,
          10.310490608215332,
          8.96611499786377,
          9.99941635131836,
          8.928210258483887,
          9.054972648620605,
          9.273523330688477,
          9.310145378112793,
          11.09264087677002,
          9.349342346191406,
          9.46938705444336,
          10.263625144958496,
          8.834757804870605,
          9.302611351013184,
          9.176435470581055,
          10.223210334777832,
          9.311534881591797,
          10.34383487701416,
          8.404057502746582,
          9.087322235107422,
          10.52047061920166,
          11.183403968811035,
          8.383378028869629,
          9.063582420349121,
          13.681990623474121,
          8.995749473571777,
          9.222281455993652,
          9.813529014587402,
          13.589364051818848,
          6.904376029968262,
          8.984786987304688,
          9.856194496154785,
          9.85728931427002,
          9.042584419250488,
          9.39350414276123,
          -6.6751909255981445,
          7.037003993988037,
          8.179977416992188,
          10.257588386535645,
          8.815412521362305,
          10.273903846740723,
          8.96944522857666,
          9.849350929260254,
          14.430802345275879,
          8.528970718383789,
          9.050275802612305,
          13.768589973449707,
          9.386406898498535,
          8.87703800201416
         ],
         "y0": " ",
         "yaxis": "y"
        },
        {
         "alignmentgroup": "True",
         "box": {
          "visible": true
         },
         "hovertemplate": "localization_site=ME3<br>UMAP_Component_1=%{y}<extra></extra>",
         "legendgroup": "ME3",
         "marker": {
          "color": "#c7eae5"
         },
         "name": "ME3",
         "offsetgroup": "ME3",
         "orientation": "v",
         "points": "all",
         "scalegroup": "True",
         "showlegend": true,
         "type": "violin",
         "x0": " ",
         "xaxis": "x",
         "y": [
          7.534825325012207,
          6.312195777893066,
          8.301095962524414,
          6.790528297424316,
          6.579154014587402,
          7.4627861976623535,
          7.407747745513916,
          7.126296520233154,
          7.536913871765137,
          7.285488605499268,
          8.347410202026367,
          7.559125900268555,
          7.337520122528076,
          6.9603118896484375,
          8.773287773132324,
          6.7571845054626465,
          7.465765476226807,
          6.169431686401367,
          6.811529636383057,
          6.352430820465088,
          7.186480522155762,
          6.767451763153076,
          6.9292893409729,
          8.480392456054688,
          9.281323432922363,
          9.00583553314209,
          7.326768398284912,
          7.576037883758545,
          8.975475311279297,
          6.263616561889648,
          8.930472373962402,
          6.272140979766846,
          7.583559513092041,
          6.116124153137207,
          7.098295211791992,
          7.4543938636779785,
          6.932989597320557,
          6.398560523986816,
          6.091830730438232,
          6.895202159881592,
          7.940643787384033,
          8.160408973693848,
          6.088144779205322,
          7.605752468109131,
          6.969921588897705,
          6.751613616943359,
          6.329105377197266,
          6.4503936767578125,
          7.1180596351623535,
          7.472033500671387,
          7.451860427856445,
          6.661787509918213,
          8.175061225891113,
          7.756382465362549,
          6.610514163970947,
          7.123623371124268,
          8.544626235961914,
          6.124035835266113,
          7.580822467803955,
          9.031021118164062,
          6.81886100769043,
          9.54946231842041,
          10.661394119262695,
          7.097083568572998,
          7.556511878967285,
          7.054493427276611,
          6.42152214050293,
          6.341599941253662,
          6.394288063049316,
          13.537657737731934,
          7.519428253173828,
          6.343181610107422,
          10.371525764465332,
          7.235774993896484,
          7.152665138244629,
          7.9113688468933105,
          6.802659034729004,
          6.079017639160156,
          9.826294898986816,
          7.867486953735352,
          6.787973880767822,
          6.7209792137146,
          6.688970565795898,
          7.444522857666016,
          7.155210971832275,
          8.987497329711914,
          6.193711280822754,
          7.22827672958374,
          7.877443313598633,
          9.73503303527832,
          6.574496746063232,
          7.121182441711426,
          8.434133529663086,
          6.896055698394775,
          8.880806922912598,
          -6.629774570465088,
          6.303412914276123,
          6.686617851257324,
          9.51280689239502,
          7.941457271575928,
          6.8302507400512695,
          6.249378681182861,
          6.1985321044921875,
          6.809279441833496,
          7.765895366668701,
          10.090557098388672,
          6.188401699066162,
          6.188182830810547,
          10.830083847045898,
          10.300924301147461,
          8.68041706085205,
          7.788461685180664,
          7.84708309173584,
          8.208796501159668,
          7.4331207275390625,
          11.106740951538086,
          7.333221912384033,
          6.170574188232422,
          8.247191429138184,
          8.277660369873047,
          6.927792072296143,
          7.032891273498535,
          8.429818153381348,
          7.262634754180908,
          8.272339820861816,
          7.67597770690918,
          10.382040977478027,
          10.426493644714355,
          5.974320888519287,
          7.882842540740967,
          6.925605773925781,
          6.913569927215576,
          6.6598663330078125,
          7.616537570953369,
          7.702319622039795,
          8.204947471618652,
          7.833505630493164,
          8.31991195678711,
          6.799889087677002,
          6.055748462677002,
          8.983463287353516,
          7.490084648132324,
          9.759936332702637,
          7.382843971252441,
          6.903204917907715,
          8.439092636108398,
          8.780611991882324,
          6.388049602508545,
          7.571777820587158,
          9.232216835021973,
          8.521601676940918,
          7.850952625274658,
          6.290884971618652,
          9.321279525756836,
          9.071784973144531,
          6.0473504066467285,
          13.470464706420898,
          7.447179794311523,
          7.363373279571533,
          8.188064575195312,
          6.954233169555664,
          8.738920211791992,
          6.050821304321289
         ],
         "y0": " ",
         "yaxis": "y"
        },
        {
         "alignmentgroup": "True",
         "box": {
          "visible": true
         },
         "hovertemplate": "localization_site=VAC<br>UMAP_Component_1=%{y}<extra></extra>",
         "legendgroup": "VAC",
         "marker": {
          "color": "#80cdc1"
         },
         "name": "VAC",
         "offsetgroup": "VAC",
         "orientation": "v",
         "points": "all",
         "scalegroup": "True",
         "showlegend": true,
         "type": "violin",
         "x0": " ",
         "xaxis": "x",
         "y": [
          11.92006778717041,
          10.01457405090332,
          10.245565414428711,
          8.026983261108398,
          11.17214298248291,
          6.173433303833008,
          10.557135581970215,
          10.185185432434082,
          10.440464973449707,
          11.90528392791748,
          6.576498031616211,
          8.399553298950195,
          9.99811840057373,
          12.879952430725098,
          10.273378372192383,
          6.97096586227417,
          13.432856559753418,
          10.5006742477417,
          9.312968254089355,
          8.992691040039062,
          11.91841983795166,
          8.852054595947266,
          11.330099105834961,
          10.52837085723877,
          10.733597755432129,
          10.635686874389648,
          13.874022483825684,
          7.180422306060791,
          6.327770233154297,
          9.757245063781738
         ],
         "y0": " ",
         "yaxis": "y"
        },
        {
         "alignmentgroup": "True",
         "box": {
          "visible": true
         },
         "hovertemplate": "localization_site=POX<br>UMAP_Component_1=%{y}<extra></extra>",
         "legendgroup": "POX",
         "marker": {
          "color": "#35978f"
         },
         "name": "POX",
         "offsetgroup": "POX",
         "orientation": "v",
         "points": "all",
         "scalegroup": "True",
         "showlegend": true,
         "type": "violin",
         "x0": " ",
         "xaxis": "x",
         "y": [
          -4.689702033996582,
          -4.682748794555664,
          -4.688201427459717,
          -4.677120208740234,
          -4.643909454345703,
          10.31464672088623,
          10.790355682373047,
          -4.659365177154541,
          -4.663757801055908,
          -4.671720504760742,
          10.838193893432617,
          12.307258605957031,
          14.120230674743652,
          12.70433235168457,
          11.576725959777832,
          -4.679837226867676,
          -4.676384925842285,
          -4.6738080978393555,
          9.770990371704102,
          9.696410179138184
         ],
         "y0": " ",
         "yaxis": "y"
        },
        {
         "alignmentgroup": "True",
         "box": {
          "visible": true
         },
         "hovertemplate": "localization_site=ERL<br>UMAP_Component_1=%{y}<extra></extra>",
         "legendgroup": "ERL",
         "marker": {
          "color": "#01665e"
         },
         "name": "ERL",
         "offsetgroup": "ERL",
         "orientation": "v",
         "points": "all",
         "scalegroup": "True",
         "showlegend": true,
         "type": "violin",
         "x0": " ",
         "xaxis": "x",
         "y": [
          -6.648257255554199,
          -6.626863479614258,
          -6.636118412017822,
          -6.580969333648682,
          -6.643036365509033
         ],
         "y0": " ",
         "yaxis": "y"
        },
        {
         "alignmentgroup": "True",
         "box": {
          "visible": true
         },
         "hovertemplate": "localization_site=MIT<br>UMAP_Component_2=%{y}<extra></extra>",
         "legendgroup": "MIT",
         "marker": {
          "color": "#543005"
         },
         "name": "MIT",
         "offsetgroup": "MIT",
         "orientation": "v",
         "points": "all",
         "scalegroup": "True",
         "showlegend": true,
         "type": "violin",
         "x0": " ",
         "xaxis": "x2",
         "y": [
          4.898842811584473,
          5.506402492523193,
          4.387489318847656,
          4.6038126945495605,
          3.697067975997925,
          6.107032775878906,
          4.486358165740967,
          4.230897426605225,
          4.100318431854248,
          4.819646835327148,
          3.7402307987213135,
          3.0349159240722656,
          3.7013676166534424,
          4.7066121101379395,
          3.684628963470459,
          4.76918363571167,
          3.856982707977295,
          3.945679187774658,
          7.327759265899658,
          4.695624351501465,
          4.145719528198242,
          3.968134880065918,
          6.839731693267822,
          4.198326110839844,
          4.560965061187744,
          4.107334613800049,
          4.485939025878906,
          6.12339973449707,
          0.25673907995224,
          8.170238494873047,
          3.4063961505889893,
          2.3920109272003174,
          4.262810707092285,
          4.070713043212891,
          4.735850811004639,
          7.402659893035889,
          9.968535423278809,
          3.8935110569000244,
          4.196282386779785,
          3.800381660461426,
          3.7119240760803223,
          5.117649555206299,
          3.4254517555236816,
          3.082836627960205,
          3.540100336074829,
          3.770362615585327,
          3.874284029006958,
          3.400998830795288,
          4.467092990875244,
          4.436648368835449,
          2.9380531311035156,
          2.936565637588501,
          5.419970989227295,
          3.622727632522583,
          8.61824893951416,
          3.8950369358062744,
          3.9835286140441895,
          4.1405863761901855,
          4.237025260925293,
          4.649001598358154,
          4.431499481201172,
          4.229965686798096,
          4.091042518615723,
          4.172220706939697,
          3.9200336933135986,
          1.8656666278839111,
          4.706081390380859,
          5.159899711608887,
          10.100221633911133,
          6.210046768188477,
          5.888978004455566,
          10.064313888549805,
          3.516834020614624,
          8.76745319366455,
          3.5279338359832764,
          4.053165912628174,
          3.4797937870025635,
          4.348576068878174,
          6.223041534423828,
          3.681708812713623,
          3.893285036087036,
          3.4335169792175293,
          3.7525343894958496,
          3.7330710887908936,
          3.861119508743286,
          4.0133891105651855,
          3.96010422706604,
          3.750338077545166,
          3.796633005142212,
          4.7798004150390625,
          9.077645301818848,
          7.1412482261657715,
          5.326494216918945,
          4.530275344848633,
          4.797987461090088,
          4.578029632568359,
          5.046504497528076,
          8.004074096679688,
          3.7340586185455322,
          5.332143783569336,
          4.332456588745117,
          4.213083744049072,
          3.7823665142059326,
          4.221439361572266,
          3.2695677280426025,
          9.996522903442383,
          2.938602924346924,
          4.048669815063477,
          4.3004631996154785,
          8.479862213134766,
          3.998384952545166,
          3.8798205852508545,
          4.339365482330322,
          3.8344380855560303,
          5.179744243621826,
          10.180883407592773,
          4.348583221435547,
          3.454366683959961,
          5.320189952850342,
          3.774153232574463,
          4.110782146453857,
          4.005823612213135,
          5.224867820739746,
          6.190680980682373,
          7.7912750244140625,
          6.425786972045898,
          6.25779914855957,
          4.030548095703125,
          6.151198863983154,
          0.2406376749277115,
          10.378737449645996,
          4.638522624969482,
          6.452343463897705,
          7.021814823150635,
          4.95393180847168,
          6.341162204742432,
          7.001389980316162,
          5.246680736541748,
          5.722845077514648,
          4.784923076629639,
          4.805605411529541,
          6.472832202911377,
          5.358916759490967,
          5.993079662322998,
          4.453787326812744,
          6.270668983459473,
          4.043307304382324,
          4.469618797302246,
          4.685019016265869,
          4.412718772888184,
          4.5388288497924805,
          3.489165782928467,
          5.015423774719238,
          5.4527201652526855,
          4.691481590270996,
          8.389881134033203,
          4.105739593505859,
          3.6167023181915283,
          4.265319347381592,
          4.269792079925537,
          7.57561731338501,
          3.7034249305725098,
          3.563272714614868,
          6.31754207611084,
          4.439396858215332,
          4.257064342498779,
          4.693314552307129,
          10.465080261230469,
          4.702315330505371,
          4.030313014984131,
          4.935873508453369,
          3.5882039070129395,
          2.392676830291748,
          3.006608247756958,
          5.1056928634643555,
          2.0749831199645996,
          7.864795684814453,
          9.812240600585938,
          4.0162787437438965,
          3.816424608230591,
          4.6439433097839355,
          5.413331985473633,
          4.318576335906982,
          1.9101539850234985,
          6.833303928375244,
          5.2729878425598145,
          9.546013832092285,
          6.50734806060791,
          0.2566491961479187,
          4.2554497718811035,
          6.374619960784912,
          3.4900014400482178,
          3.614924430847168,
          5.762362480163574,
          3.9639742374420166,
          3.5805633068084717,
          4.588954925537109,
          4.962401866912842,
          4.749946117401123,
          5.088690280914307,
          5.0882391929626465,
          8.64836311340332,
          3.365682601928711,
          4.117919921875,
          6.14772367477417,
          7.653723239898682,
          3.8728339672088623,
          7.034845352172852,
          3.740459680557251,
          4.252856731414795,
          3.72015643119812,
          3.3980367183685303,
          4.561683654785156,
          3.361438751220703,
          3.659151792526245,
          6.523553848266602,
          4.507619380950928,
          4.405300617218018,
          4.952743053436279,
          6.189080238342285,
          6.037320137023926,
          4.146792411804199,
          4.559974193572998,
          9.306008338928223,
          3.9541518688201904,
          8.905400276184082,
          3.29362154006958,
          10.761162757873535,
          10.148031234741211,
          7.996980667114258,
          4.377730369567871,
          5.774888515472412,
          4.320349216461182,
          3.768018960952759,
          7.664955139160156,
          4.954700946807861,
          5.1005330085754395,
          4.964881420135498,
          3.443952798843384,
          3.916705369949341,
          6.147341728210449,
          8.061650276184082,
          3.7225258350372314,
          10.650683403015137
         ],
         "y0": " ",
         "yaxis": "y2"
        },
        {
         "alignmentgroup": "True",
         "box": {
          "visible": true
         },
         "hovertemplate": "localization_site=NUC<br>UMAP_Component_2=%{y}<extra></extra>",
         "legendgroup": "NUC",
         "marker": {
          "color": "#8c510a"
         },
         "name": "NUC",
         "offsetgroup": "NUC",
         "orientation": "v",
         "points": "all",
         "scalegroup": "True",
         "showlegend": true,
         "type": "violin",
         "x0": " ",
         "xaxis": "x2",
         "y": [
          6.441823959350586,
          10.302139282226562,
          9.243301391601562,
          9.668180465698242,
          6.4158806800842285,
          7.928644180297852,
          4.789270401000977,
          6.490055561065674,
          4.6624860763549805,
          5.747302055358887,
          5.29132604598999,
          8.602736473083496,
          9.088225364685059,
          10.47093391418457,
          8.409235954284668,
          10.370492935180664,
          10.133296012878418,
          5.817525386810303,
          10.339764595031738,
          5.165733814239502,
          11.020755767822266,
          9.247245788574219,
          6.271662712097168,
          3.948044776916504,
          6.385568141937256,
          6.363517761230469,
          10.660185813903809,
          3.91086745262146,
          5.245718479156494,
          6.1461968421936035,
          10.361079216003418,
          10.937167167663574,
          8.11308479309082,
          6.3906354904174805,
          9.205022811889648,
          5.659236907958984,
          8.833203315734863,
          3.3803257942199707,
          7.805490970611572,
          9.553027153015137,
          5.889057159423828,
          9.491504669189453,
          9.41623306274414,
          8.221617698669434,
          8.975591659545898,
          6.416296482086182,
          4.653189182281494,
          7.3102264404296875,
          8.029082298278809,
          8.342289924621582,
          5.274012088775635,
          4.5608415603637695,
          8.723575592041016,
          6.681126594543457,
          7.639617919921875,
          9.800846099853516,
          8.669690132141113,
          9.0472993850708,
          8.197525978088379,
          8.840518951416016,
          7.768495082855225,
          8.48979663848877,
          8.663039207458496,
          6.289932727813721,
          4.564276218414307,
          10.145655632019043,
          7.247899532318115,
          6.238590240478516,
          8.859400749206543,
          9.701009750366211,
          9.417656898498535,
          10.361335754394531,
          10.85848617553711,
          8.147088050842285,
          7.310661792755127,
          8.112701416015625,
          4.425872802734375,
          8.044795036315918,
          9.390049934387207,
          5.6209330558776855,
          9.381654739379883,
          8.691361427307129,
          5.60610818862915,
          9.612890243530273,
          7.632820129394531,
          8.235485076904297,
          5.82106351852417,
          10.302824974060059,
          6.250677585601807,
          6.21451997756958,
          8.34145450592041,
          10.185921669006348,
          7.402099132537842,
          8.430021286010742,
          4.163298606872559,
          5.8777031898498535,
          10.030339241027832,
          10.003242492675781,
          8.458476066589355,
          8.427888870239258,
          7.823416233062744,
          7.840888023376465,
          8.286126136779785,
          7.817076683044434,
          9.042530059814453,
          6.76832389831543,
          9.008896827697754,
          6.751941680908203,
          8.115459442138672,
          5.943484306335449,
          9.319090843200684,
          7.943258285522461,
          9.451940536499023,
          4.673084259033203,
          4.6371541023254395,
          9.603221893310547,
          9.645358085632324,
          6.494149684906006,
          6.440382480621338,
          9.845636367797852,
          7.4839911460876465,
          9.076937675476074,
          8.56947135925293,
          9.180668830871582,
          7.103630542755127,
          6.8460373878479,
          8.072637557983398,
          5.814786911010742,
          8.785333633422852,
          9.534436225891113,
          7.097053050994873,
          10.99719524383545,
          4.465553283691406,
          4.626596450805664,
          10.630084037780762,
          8.385758399963379,
          9.399364471435547,
          9.370878219604492,
          9.533820152282715,
          7.461270332336426,
          10.276992797851562,
          8.15414810180664,
          5.716812610626221,
          3.403702974319458,
          6.634634017944336,
          8.231257438659668,
          5.770747184753418,
          4.7486348152160645,
          5.88071870803833,
          10.183219909667969,
          9.74349308013916,
          7.545523643493652,
          8.866615295410156,
          10.14719295501709,
          9.386472702026367,
          4.926690101623535,
          3.9124982357025146,
          7.430849075317383,
          6.7491583824157715,
          8.551301002502441,
          9.349320411682129,
          8.592514991760254,
          4.519938945770264,
          7.173125267028809,
          8.661134719848633,
          8.83092212677002,
          4.583373069763184,
          8.18255615234375,
          3.66131591796875,
          10.356492042541504,
          10.132654190063477,
          9.561746597290039,
          8.948461532592773,
          6.278306007385254,
          9.080842018127441,
          9.316431045532227,
          10.305944442749023,
          11.060102462768555,
          8.406914710998535,
          8.863579750061035,
          3.0526840686798096,
          10.383326530456543,
          9.582060813903809,
          8.010213851928711,
          2.2622857093811035,
          10.242826461791992,
          4.044797897338867,
          1.7366260290145874,
          3.498141288757324,
          9.536789894104004,
          4.165869235992432,
          7.269063949584961,
          10.836387634277344,
          10.439432144165039,
          7.073874473571777,
          9.480446815490723,
          4.421754360198975,
          8.917923927307129,
          5.852608680725098,
          9.637258529663086,
          7.277561187744141,
          7.9739670753479,
          6.542684555053711,
          8.780296325683594,
          5.039453029632568,
          9.660908699035645,
          8.913662910461426,
          7.451632022857666,
          9.146490097045898,
          7.76038932800293,
          9.39188289642334,
          9.33899211883545,
          4.96601676940918,
          5.9690070152282715,
          6.109340190887451,
          7.394340991973877,
          8.688192367553711,
          9.216273307800293,
          4.485004901885986,
          8.145578384399414,
          8.999247550964355,
          5.058905601501465,
          8.567461013793945,
          10.103445053100586,
          6.536365032196045,
          6.665206432342529,
          7.7222819328308105,
          8.271860122680664,
          9.4609956741333,
          4.193754196166992,
          8.609600067138672,
          9.851624488830566,
          8.563105583190918,
          5.2678704261779785,
          8.006484031677246,
          9.718644142150879,
          7.053441047668457,
          8.984705924987793,
          10.29007339477539,
          8.183743476867676,
          10.191524505615234,
          7.723536014556885,
          8.04311466217041,
          7.231518268585205,
          11.048962593078613,
          10.704018592834473,
          6.077289581298828,
          5.236955642700195,
          9.283917427062988,
          7.633118152618408,
          5.094188213348389,
          8.281598091125488,
          4.9325270652771,
          10.91436767578125,
          9.484366416931152,
          10.789385795593262,
          8.122906684875488,
          5.215597152709961,
          7.444846153259277,
          5.395770072937012,
          8.912259101867676,
          7.418681621551514,
          8.037501335144043,
          10.17227554321289,
          8.40375804901123,
          8.695239067077637,
          6.2608537673950195,
          8.40833568572998,
          6.262875080108643,
          6.504859447479248,
          5.11134147644043,
          8.693717002868652,
          10.470498085021973,
          7.149575233459473,
          3.6043412685394287,
          6.152669429779053,
          7.536236763000488,
          7.431916236877441,
          7.4320173263549805,
          4.780730247497559,
          9.112797737121582,
          8.059447288513184,
          6.936623573303223,
          6.29451322555542,
          10.613591194152832,
          9.135966300964355,
          5.365495204925537,
          9.956628799438477,
          8.774676322937012,
          9.226631164550781,
          6.3382062911987305,
          7.333376884460449,
          7.932098865509033,
          7.029096603393555,
          4.823000907897949,
          5.865377426147461,
          10.723482131958008,
          8.518401145935059,
          9.56872272491455,
          9.792275428771973,
          9.648300170898438,
          9.683629989624023,
          5.758335113525391,
          4.503458023071289,
          8.170968055725098,
          8.027344703674316,
          8.593340873718262,
          10.601534843444824,
          11.011062622070312,
          7.4131364822387695,
          7.607959270477295,
          5.801023006439209,
          8.283137321472168,
          7.722655296325684,
          5.669060230255127,
          7.937015533447266,
          5.213326454162598,
          8.940008163452148,
          9.50992202758789,
          10.053308486938477,
          8.905404090881348,
          6.24411678314209,
          7.064673900604248,
          10.874602317810059,
          9.25568675994873,
          10.797856330871582,
          5.320063591003418,
          10.773530006408691,
          10.732857704162598,
          7.422263145446777,
          7.39431619644165,
          8.890057563781738,
          10.809770584106445,
          5.4862189292907715,
          10.101509094238281,
          7.733444690704346,
          9.674997329711914,
          7.946086406707764,
          7.666589736938477,
          8.95377254486084,
          6.165002346038818,
          10.038257598876953,
          6.760672569274902,
          8.687987327575684,
          10.33745002746582,
          5.856321334838867,
          4.63904333114624,
          6.577697277069092,
          4.753175258636475,
          9.532116889953613,
          10.289810180664062,
          8.544933319091797,
          10.295060157775879,
          7.32235050201416,
          6.156887531280518,
          5.008928298950195,
          7.101971626281738,
          8.588523864746094,
          8.109183311462402,
          9.42630672454834,
          9.167553901672363,
          8.828767776489258,
          10.525988578796387,
          7.460524559020996,
          8.283775329589844,
          8.523636817932129,
          10.786506652832031,
          8.604124069213867,
          4.143947124481201,
          6.786805152893066,
          6.552506923675537,
          7.691581726074219,
          10.856369972229004,
          10.605173110961914,
          10.615691184997559,
          5.709808826446533,
          7.92458963394165,
          9.18078899383545,
          4.385562896728516,
          8.458490371704102,
          4.564172744750977,
          4.56430196762085,
          8.221977233886719,
          9.709861755371094,
          10.97091293334961,
          7.9226603507995605,
          7.595456600189209,
          6.98295259475708,
          10.627747535705566,
          11.043163299560547,
          6.9403276443481445,
          7.878061771392822,
          5.167454719543457,
          7.315196514129639,
          8.32163143157959,
          10.092985153198242,
          9.039539337158203,
          8.468844413757324,
          5.175924777984619,
          6.831011772155762,
          6.3484954833984375,
          7.9271769523620605,
          9.749056816101074,
          7.115879535675049,
          8.533334732055664,
          9.075935363769531,
          9.574352264404297,
          10.96640396118164,
          10.259289741516113,
          8.247298240661621,
          5.812086582183838,
          8.732242584228516,
          7.894484519958496,
          9.791726112365723,
          10.2916259765625,
          10.255247116088867,
          9.193401336669922,
          10.164886474609375,
          10.927336692810059,
          8.059834480285645,
          10.347553253173828,
          3.687899589538574,
          10.735340118408203,
          9.237369537353516,
          9.660811424255371,
          10.056560516357422,
          10.684418678283691,
          9.58663272857666,
          9.899109840393066
         ],
         "y0": " ",
         "yaxis": "y2"
        },
        {
         "alignmentgroup": "True",
         "box": {
          "visible": true
         },
         "hovertemplate": "localization_site=CYT<br>UMAP_Component_2=%{y}<extra></extra>",
         "legendgroup": "CYT",
         "marker": {
          "color": "#bf812d"
         },
         "name": "CYT",
         "offsetgroup": "CYT",
         "orientation": "v",
         "points": "all",
         "scalegroup": "True",
         "showlegend": true,
         "type": "violin",
         "x0": " ",
         "xaxis": "x2",
         "y": [
          0.26120617985725403,
          10.408846855163574,
          5.329468250274658,
          8.014383316040039,
          9.557838439941406,
          8.124101638793945,
          7.63947868347168,
          2.9673104286193848,
          10.604218482971191,
          10.730875015258789,
          6.096467971801758,
          6.413815498352051,
          8.536924362182617,
          10.416024208068848,
          8.288268089294434,
          6.304327964782715,
          5.176999092102051,
          5.229365825653076,
          4.633728981018066,
          5.398983478546143,
          8.214361190795898,
          6.749965190887451,
          7.104376316070557,
          10.07226276397705,
          5.924081325531006,
          10.485297203063965,
          7.343325614929199,
          5.833644390106201,
          5.2092766761779785,
          5.248785018920898,
          7.904700756072998,
          5.768061637878418,
          6.975287437438965,
          6.9182448387146,
          7.749380111694336,
          9.98095703125,
          6.495163440704346,
          4.343885898590088,
          6.240665912628174,
          5.653911113739014,
          5.481503009796143,
          5.989955425262451,
          7.061487674713135,
          9.327279090881348,
          9.489642143249512,
          8.005986213684082,
          10.581239700317383,
          6.361618995666504,
          7.148921966552734,
          9.741557121276855,
          8.859292030334473,
          8.673359870910645,
          9.898204803466797,
          9.90761661529541,
          7.086053848266602,
          5.111386775970459,
          5.049007892608643,
          9.43064022064209,
          4.190828323364258,
          9.402603149414062,
          7.847318649291992,
          7.457102298736572,
          3.990016222000122,
          4.988504886627197,
          6.448007583618164,
          6.336239814758301,
          10.026880264282227,
          5.71246862411499,
          9.994908332824707,
          10.520742416381836,
          6.302743911743164,
          5.886061668395996,
          10.44758415222168,
          7.2511887550354,
          7.178582191467285,
          7.635672569274902,
          10.044966697692871,
          10.056917190551758,
          8.402815818786621,
          10.243727684020996,
          5.8153076171875,
          7.977826118469238,
          4.502179145812988,
          9.023240089416504,
          5.8440961837768555,
          10.137372970581055,
          7.526477813720703,
          8.408967971801758,
          5.333064079284668,
          5.389727592468262,
          4.6272382736206055,
          4.549709796905518,
          4.774378299713135,
          8.958428382873535,
          4.4495062828063965,
          4.183306694030762,
          6.66028356552124,
          4.26771354675293,
          4.270613193511963,
          9.372971534729004,
          4.741776466369629,
          4.54662561416626,
          4.385934352874756,
          9.377837181091309,
          10.108599662780762,
          6.982192039489746,
          5.087895393371582,
          3.249565839767456,
          5.308745861053467,
          4.494175434112549,
          7.696656703948975,
          4.575455665588379,
          6.664358615875244,
          8.203636169433594,
          9.562440872192383,
          8.466297149658203,
          9.42444133758545,
          4.584319114685059,
          6.330905437469482,
          10.45103645324707,
          6.326557636260986,
          6.717085361480713,
          8.393879890441895,
          6.3599162101745605,
          4.510121822357178,
          8.130268096923828,
          7.67055082321167,
          7.783360481262207,
          8.031966209411621,
          9.186178207397461,
          8.531840324401855,
          4.768701076507568,
          8.262810707092285,
          4.597575664520264,
          8.442821502685547,
          6.534142017364502,
          9.842378616333008,
          8.722861289978027,
          8.723084449768066,
          9.873739242553711,
          10.106842041015625,
          8.202703475952148,
          9.388050079345703,
          7.544009208679199,
          10.491839408874512,
          6.384892463684082,
          7.814457416534424,
          4.640192031860352,
          10.474907875061035,
          7.91298246383667,
          8.522823333740234,
          7.615662574768066,
          6.646311283111572,
          7.705569744110107,
          8.055541038513184,
          9.927931785583496,
          8.748570442199707,
          4.182636260986328,
          3.7933971881866455,
          6.489023685455322,
          8.52574634552002,
          4.601419925689697,
          8.902019500732422,
          5.202394962310791,
          7.597568511962891,
          7.182312488555908,
          10.549722671508789,
          9.17089557647705,
          6.816662311553955,
          4.439809322357178,
          7.277724266052246,
          6.974493980407715,
          8.056596755981445,
          6.508029460906982,
          8.506162643432617,
          5.9480204582214355,
          6.872412204742432,
          7.050148963928223,
          4.1783952713012695,
          8.389820098876953,
          5.503657341003418,
          8.137837409973145,
          5.368093967437744,
          3.451951503753662,
          10.73791790008545,
          6.1705780029296875,
          7.767735958099365,
          9.285173416137695,
          8.62173843383789,
          7.140505790710449,
          5.3162312507629395,
          10.67267894744873,
          8.332232475280762,
          6.393401622772217,
          8.294241905212402,
          7.376138210296631,
          5.102729797363281,
          6.246790885925293,
          7.258877754211426,
          5.2048020362854,
          4.1789045333862305,
          7.30751895904541,
          7.499489784240723,
          7.576483249664307,
          10.249975204467773,
          9.79751205444336,
          6.2421369552612305,
          5.9123430252075195,
          8.020452499389648,
          7.004364967346191,
          5.318150043487549,
          5.667060375213623,
          4.857989311218262,
          7.559295654296875,
          6.568685531616211,
          7.2354912757873535,
          7.172637462615967,
          3.265077829360962,
          10.154378890991211,
          10.095914840698242,
          5.933265686035156,
          5.878791809082031,
          4.130132675170898,
          7.0830841064453125,
          8.346877098083496,
          7.340441703796387,
          8.372126579284668,
          10.682433128356934,
          8.454290390014648,
          8.72545337677002,
          4.635364532470703,
          3.909492015838623,
          6.190302848815918,
          6.341939926147461,
          5.214504718780518,
          6.88320779800415,
          4.782939910888672,
          10.78315544128418,
          8.148148536682129,
          8.272887229919434,
          5.775902271270752,
          7.587182998657227,
          7.583095073699951,
          6.319851398468018,
          6.340219974517822,
          7.927735328674316,
          7.934256076812744,
          7.665185451507568,
          9.279268264770508,
          7.533853530883789,
          7.5821123123168945,
          7.074460983276367,
          7.074256420135498,
          6.820427894592285,
          6.837462425231934,
          5.582709789276123,
          6.171270847320557,
          6.134013652801514,
          6.069683074951172,
          6.197336196899414,
          7.700984477996826,
          6.4385223388671875,
          6.399677753448486,
          5.167866230010986,
          6.464905261993408,
          1.8109818696975708,
          1.7909756898880005,
          8.731036186218262,
          8.70215129852295,
          5.353305339813232,
          8.312850952148438,
          7.91903018951416,
          7.9271416664123535,
          7.727654457092285,
          7.809768199920654,
          7.756260395050049,
          7.730994701385498,
          7.743950843811035,
          4.895836353302002,
          5.053502082824707,
          4.81824254989624,
          10.004826545715332,
          7.305848598480225,
          5.382864952087402,
          3.21742844581604,
          3.263173818588257,
          3.188363790512085,
          3.1161880493164062,
          8.908961296081543,
          7.213647842407227,
          7.212475299835205,
          8.006339073181152,
          7.975223541259766,
          5.3577117919921875,
          7.849071025848389,
          7.880749702453613,
          7.690950870513916,
          4.707123756408691,
          4.668374538421631,
          5.667241096496582,
          5.709383010864258,
          4.676813125610352,
          4.711479187011719,
          6.196254730224609,
          6.3894243240356445,
          7.141915798187256,
          10.259196281433105,
          5.8382368087768555,
          5.841515064239502,
          5.736041069030762,
          5.786550521850586,
          7.8175129890441895,
          7.933657169342041,
          7.682174205780029,
          10.244771003723145,
          5.642262935638428,
          10.951266288757324,
          6.711836814880371,
          10.079219818115234,
          7.669156074523926,
          8.634822845458984,
          10.007570266723633,
          5.039311408996582,
          10.422602653503418,
          9.436936378479004,
          4.603734970092773,
          5.463128566741943,
          6.897134304046631,
          6.9688005447387695,
          5.951310634613037,
          8.256485939025879,
          10.28969955444336,
          5.1702775955200195,
          8.923510551452637,
          9.961697578430176,
          10.211082458496094,
          6.97694730758667,
          4.430261611938477,
          5.530738353729248,
          10.877660751342773,
          6.744907855987549,
          5.6320600509643555,
          4.136645793914795,
          7.350875377655029,
          7.825520038604736,
          5.109703540802002,
          7.195945739746094,
          7.205617427825928,
          7.589461803436279,
          8.504776954650879,
          8.255536079406738,
          8.824371337890625,
          10.934571266174316,
          8.173038482666016,
          7.510501861572266,
          7.534565448760986,
          7.270270824432373,
          7.441857814788818,
          6.478704929351807,
          6.479973316192627,
          9.175760269165039,
          7.647180080413818,
          9.97049617767334,
          8.29616928100586,
          9.458974838256836,
          8.74113941192627,
          5.359694004058838,
          11.038994789123535,
          10.486701965332031,
          9.10799789428711,
          7.97730016708374,
          5.451234340667725,
          4.330005168914795,
          9.039815902709961,
          7.011987686157227,
          6.74940299987793,
          7.5286126136779785,
          6.435338020324707,
          9.11175537109375,
          7.355418682098389,
          4.117536544799805,
          4.801331996917725,
          3.9057304859161377,
          6.652857780456543,
          6.670812129974365,
          8.9290189743042,
          8.841839790344238,
          7.810230731964111,
          4.334539890289307,
          9.283557891845703,
          8.013533592224121,
          9.524473190307617,
          8.033415794372559,
          10.711162567138672,
          9.478886604309082,
          9.277703285217285,
          10.028969764709473,
          10.707047462463379,
          10.733196258544922,
          6.235015869140625,
          5.0018229484558105,
          5.0289506912231445,
          7.2589616775512695,
          9.182326316833496,
          7.321501731872559,
          9.173924446105957,
          9.88888168334961,
          9.985406875610352,
          4.8102192878723145,
          9.098822593688965,
          9.390181541442871,
          4.592002868652344,
          8.78750228881836,
          6.775575160980225,
          5.15468692779541,
          7.581067085266113,
          4.23406982421875,
          4.233204364776611,
          6.401023864746094,
          6.393603801727295,
          7.415452480316162,
          6.373178005218506,
          4.7995734214782715,
          6.804957389831543,
          5.676389694213867,
          7.322556495666504,
          7.402630805969238,
          10.28969669342041,
          7.345232009887695,
          7.730432987213135,
          9.41518783569336,
          9.563748359680176,
          9.434120178222656,
          10.638946533203125,
          5.804165363311768,
          7.901028156280518,
          7.373959541320801,
          10.165800094604492,
          7.724058628082275,
          4.206200122833252,
          7.877932548522949,
          8.12527847290039,
          4.783101558685303,
          4.25822114944458,
          6.461146831512451,
          10.66836166381836,
          6.393970966339111,
          5.760051250457764,
          9.280191421508789,
          6.806492805480957,
          6.323428630828857,
          10.982911109924316,
          7.631607532501221,
          10.523859977722168,
          10.987530708312988,
          7.70493221282959,
          5.276063919067383,
          5.528045177459717,
          4.462361812591553,
          5.0395026206970215,
          8.134523391723633,
          8.088719367980957,
          4.8778533935546875
         ],
         "y0": " ",
         "yaxis": "y2"
        },
        {
         "alignmentgroup": "True",
         "box": {
          "visible": true
         },
         "hovertemplate": "localization_site=ME1<br>UMAP_Component_2=%{y}<extra></extra>",
         "legendgroup": "ME1",
         "marker": {
          "color": "#dfc27d"
         },
         "name": "ME1",
         "offsetgroup": "ME1",
         "orientation": "v",
         "points": "all",
         "scalegroup": "True",
         "showlegend": true,
         "type": "violin",
         "x0": " ",
         "xaxis": "x2",
         "y": [
          2.1955344676971436,
          1.5810399055480957,
          2.179928779602051,
          2.4041147232055664,
          2.3951544761657715,
          2.65218448638916,
          2.2106289863586426,
          3.230710744857788,
          2.874533176422119,
          2.187791347503662,
          3.178257942199707,
          2.0117011070251465,
          2.9244437217712402,
          2.4249911308288574,
          1.3839986324310303,
          1.626255750656128,
          1.4953383207321167,
          2.1634323596954346,
          2.678922176361084,
          2.2303574085235596,
          2.9563775062561035,
          1.4035409688949585,
          2.538381814956665,
          2.2376363277435303,
          2.4379868507385254,
          2.6251652240753174,
          2.492401123046875,
          2.342133045196533,
          2.1912217140197754,
          2.1725776195526123,
          3.0138919353485107,
          2.008683681488037,
          2.4231557846069336,
          2.3397305011749268,
          2.6387758255004883,
          2.4616165161132812,
          2.054443359375,
          2.1808786392211914,
          2.8531746864318848,
          1.6267367601394653,
          2.3507213592529297,
          3.048711061477661,
          2.1258814334869385,
          1.6515108346939087
         ],
         "y0": " ",
         "yaxis": "y2"
        },
        {
         "alignmentgroup": "True",
         "box": {
          "visible": true
         },
         "hovertemplate": "localization_site=EXC<br>UMAP_Component_2=%{y}<extra></extra>",
         "legendgroup": "EXC",
         "marker": {
          "color": "#f6e8c3"
         },
         "name": "EXC",
         "offsetgroup": "EXC",
         "orientation": "v",
         "points": "all",
         "scalegroup": "True",
         "showlegend": true,
         "type": "violin",
         "x0": " ",
         "xaxis": "x2",
         "y": [
          1.6713064908981323,
          7.648248672485352,
          2.3720052242279053,
          2.8772189617156982,
          2.063231945037842,
          2.263427495956421,
          2.1828372478485107,
          2.152893543243408,
          2.216028928756714,
          1.4302914142608643,
          2.6841866970062256,
          1.5099573135375977,
          1.4801992177963257,
          4.230199337005615,
          7.387091159820557,
          1.6513402462005615,
          2.2764062881469727,
          7.28001594543457,
          5.402772903442383,
          2.311936140060425,
          2.2968668937683105,
          2.4077508449554443,
          2.3290698528289795,
          1.4094281196594238,
          1.3233518600463867,
          1.3302943706512451,
          3.909895658493042,
          1.4740859270095825,
          3.0838263034820557,
          1.4278268814086914,
          2.2656002044677734,
          2.301210880279541,
          2.283247947692871,
          1.7582744359970093,
          2.3526217937469482
         ],
         "y0": " ",
         "yaxis": "y2"
        },
        {
         "alignmentgroup": "True",
         "box": {
          "visible": true
         },
         "hovertemplate": "localization_site=ME2<br>UMAP_Component_2=%{y}<extra></extra>",
         "legendgroup": "ME2",
         "marker": {
          "color": "#f5f5f5"
         },
         "name": "ME2",
         "offsetgroup": "ME2",
         "orientation": "v",
         "points": "all",
         "scalegroup": "True",
         "showlegend": true,
         "type": "violin",
         "x0": " ",
         "xaxis": "x2",
         "y": [
          2.6433825492858887,
          2.6675338745117188,
          2.958787202835083,
          1.7445108890533447,
          3.2105815410614014,
          7.091782093048096,
          2.9257802963256836,
          3.2604401111602783,
          4.5592756271362305,
          2.844625234603882,
          8.539240837097168,
          3.4679040908813477,
          2.2999887466430664,
          2.8007593154907227,
          3.223017454147339,
          3.163027048110962,
          2.0843801498413086,
          2.6461610794067383,
          3.0124640464782715,
          2.356529474258423,
          4.079463958740234,
          2.6662521362304688,
          4.106302261352539,
          8.713047981262207,
          7.9186201095581055,
          3.287116050720215,
          3.2903730869293213,
          3.186269521713257,
          2.9035444259643555,
          3.5472123622894287,
          3.2850584983825684,
          6.355473041534424,
          2.5997226238250732,
          1.4440420866012573,
          1.4566595554351807,
          3.0664491653442383,
          4.873640060424805,
          4.183306694030762,
          4.992612838745117,
          5.243027687072754,
          9.17906665802002,
          3.244048833847046,
          2.4486050605773926,
          2.8346118927001953,
          1.4897773265838623,
          7.231432914733887,
          3.37511944770813,
          2.3323984146118164,
          3.3183231353759766,
          2.922579050064087,
          3.127716541290283
         ],
         "y0": " ",
         "yaxis": "y2"
        },
        {
         "alignmentgroup": "True",
         "box": {
          "visible": true
         },
         "hovertemplate": "localization_site=ME3<br>UMAP_Component_2=%{y}<extra></extra>",
         "legendgroup": "ME3",
         "marker": {
          "color": "#c7eae5"
         },
         "name": "ME3",
         "offsetgroup": "ME3",
         "orientation": "v",
         "points": "all",
         "scalegroup": "True",
         "showlegend": true,
         "type": "violin",
         "x0": " ",
         "xaxis": "x2",
         "y": [
          5.653888702392578,
          6.321323394775391,
          10.891672134399414,
          5.743027210235596,
          6.036431312561035,
          6.125480651855469,
          5.982902526855469,
          6.392987251281738,
          5.271473407745361,
          4.91051721572876,
          10.614017486572266,
          6.2236127853393555,
          6.458702087402344,
          5.87897253036499,
          9.21617603302002,
          6.169759750366211,
          5.4011335372924805,
          6.386356830596924,
          5.199337482452393,
          5.960251331329346,
          6.521900653839111,
          6.042879581451416,
          6.317652702331543,
          4.745619297027588,
          4.527037620544434,
          3.9594523906707764,
          4.8800201416015625,
          6.365365505218506,
          4.362809658050537,
          6.213568210601807,
          5.0127458572387695,
          5.874951362609863,
          5.82560396194458,
          6.266805648803711,
          5.613133907318115,
          5.554439544677734,
          5.239544868469238,
          6.289249420166016,
          6.2725300788879395,
          5.239490032196045,
          4.383157730102539,
          4.245550155639648,
          6.316322326660156,
          5.3513898849487305,
          5.8008832931518555,
          5.356878280639648,
          6.01023006439209,
          5.839546203613281,
          6.32615852355957,
          5.3285698890686035,
          5.283636093139648,
          6.018431663513184,
          6.311833381652832,
          6.22053861618042,
          5.64452600479126,
          5.6959943771362305,
          9.991642951965332,
          6.299225330352783,
          6.313811302185059,
          3.0700268745422363,
          5.304976463317871,
          9.011046409606934,
          9.023505210876465,
          5.618649005889893,
          5.82016134262085,
          6.360607147216797,
          6.498382091522217,
          6.128201961517334,
          6.114038944244385,
          3.808663845062256,
          5.149597644805908,
          5.896312713623047,
          7.099747180938721,
          5.020274639129639,
          6.253159999847412,
          4.496662616729736,
          6.136021614074707,
          6.441880702972412,
          5.725605487823486,
          4.530901908874512,
          6.058695316314697,
          6.209219932556152,
          6.045931339263916,
          5.966823101043701,
          6.007950782775879,
          3.0702555179595947,
          6.428850173950195,
          4.859532833099365,
          5.23110294342041,
          6.564582347869873,
          5.890819072723389,
          4.985380172729492,
          4.394733905792236,
          5.194897174835205,
          3.4139578342437744,
          4.137951850891113,
          6.087449073791504,
          5.5187859535217285,
          9.08044719696045,
          4.446983337402344,
          5.423330307006836,
          5.889443397521973,
          5.905825138092041,
          6.333632469177246,
          4.705541610717773,
          6.62545919418335,
          5.927507400512695,
          5.926667213439941,
          7.911276340484619,
          7.385868549346924,
          9.145281791687012,
          5.254560947418213,
          5.697592258453369,
          4.795013427734375,
          5.905621528625488,
          8.000365257263184,
          6.127481460571289,
          6.134927749633789,
          10.647385597229004,
          10.070399284362793,
          5.325321197509766,
          5.602169513702393,
          6.6986918449401855,
          5.138323783874512,
          5.241675853729248,
          5.820054054260254,
          9.281335830688477,
          7.523009777069092,
          6.502607345581055,
          6.227188587188721,
          5.369287967681885,
          6.008715629577637,
          6.1259894371032715,
          5.375324726104736,
          5.489763259887695,
          3.7762250900268555,
          4.612701416015625,
          5.342562198638916,
          5.265371799468994,
          6.2807416915893555,
          3.4073617458343506,
          5.408924579620361,
          8.766194343566895,
          6.286775588989258,
          6.005305290222168,
          4.61740779876709,
          5.337219715118408,
          6.222447872161865,
          5.564514636993408,
          4.133509159088135,
          3.275533437728882,
          5.2412109375,
          6.055763244628906,
          5.550515651702881,
          6.2830376625061035,
          6.646332740783691,
          3.8825430870056152,
          5.155240535736084,
          5.081898212432861,
          3.823045015335083,
          5.130612850189209,
          9.22920036315918,
          6.246866703033447
         ],
         "y0": " ",
         "yaxis": "y2"
        },
        {
         "alignmentgroup": "True",
         "box": {
          "visible": true
         },
         "hovertemplate": "localization_site=VAC<br>UMAP_Component_2=%{y}<extra></extra>",
         "legendgroup": "VAC",
         "marker": {
          "color": "#80cdc1"
         },
         "name": "VAC",
         "offsetgroup": "VAC",
         "orientation": "v",
         "points": "all",
         "scalegroup": "True",
         "showlegend": true,
         "type": "violin",
         "x0": " ",
         "xaxis": "x2",
         "y": [
          8.942967414855957,
          3.1735074520111084,
          4.32591438293457,
          5.278034210205078,
          8.90892505645752,
          5.888329029083252,
          7.3399481773376465,
          2.507033109664917,
          7.101193904876709,
          9.387630462646484,
          6.065478324890137,
          7.576536178588867,
          2.627248764038086,
          3.8041112422943115,
          2.1986641883850098,
          5.0677103996276855,
          4.443814277648926,
          7.5644097328186035,
          6.685906410217285,
          2.9682583808898926,
          9.253631591796875,
          3.005793571472168,
          6.662081718444824,
          4.821497440338135,
          5.845777988433838,
          4.713061809539795,
          7.139547824859619,
          4.934108257293701,
          6.085063934326172,
          7.129143238067627
         ],
         "y0": " ",
         "yaxis": "y2"
        },
        {
         "alignmentgroup": "True",
         "box": {
          "visible": true
         },
         "hovertemplate": "localization_site=POX<br>UMAP_Component_2=%{y}<extra></extra>",
         "legendgroup": "POX",
         "marker": {
          "color": "#35978f"
         },
         "name": "POX",
         "offsetgroup": "POX",
         "orientation": "v",
         "points": "all",
         "scalegroup": "True",
         "showlegend": true,
         "type": "violin",
         "x0": " ",
         "xaxis": "x2",
         "y": [
          0.25774314999580383,
          0.24830953776836395,
          0.2556031346321106,
          0.2433086633682251,
          0.2148701548576355,
          7.168355464935303,
          6.290711879730225,
          0.22965003550052643,
          0.229777991771698,
          0.23780548572540283,
          6.390851974487305,
          10.239202499389648,
          4.394981384277344,
          6.80512809753418,
          7.662032604217529,
          0.24514707922935486,
          0.2425300031900406,
          0.24117286503314972,
          3.062439441680908,
          2.404470920562744
         ],
         "y0": " ",
         "yaxis": "y2"
        },
        {
         "alignmentgroup": "True",
         "box": {
          "visible": true
         },
         "hovertemplate": "localization_site=ERL<br>UMAP_Component_2=%{y}<extra></extra>",
         "legendgroup": "ERL",
         "marker": {
          "color": "#01665e"
         },
         "name": "ERL",
         "offsetgroup": "ERL",
         "orientation": "v",
         "points": "all",
         "scalegroup": "True",
         "showlegend": true,
         "type": "violin",
         "x0": " ",
         "xaxis": "x2",
         "y": [
          4.156533241271973,
          4.135160446166992,
          4.1443586349487305,
          4.0892510414123535,
          4.15083122253418
         ],
         "y0": " ",
         "yaxis": "y2"
        }
       ],
       "layout": {
        "annotations": [
         {
          "font": {
           "size": 16
          },
          "showarrow": false,
          "text": "UMAP_Component_1",
          "x": 0.225,
          "xanchor": "center",
          "xref": "paper",
          "y": 1,
          "yanchor": "bottom",
          "yref": "paper"
         },
         {
          "font": {
           "size": 16
          },
          "showarrow": false,
          "text": "UMAP_Component_2",
          "x": 0.775,
          "xanchor": "center",
          "xref": "paper",
          "y": 1,
          "yanchor": "bottom",
          "yref": "paper"
         }
        ],
        "font": {
         "size": 18
        },
        "paper_bgcolor": "rgba(0,0,0,0)",
        "plot_bgcolor": "rgba(0,0,0,0)",
        "showlegend": false,
        "template": {
         "data": {
          "bar": [
           {
            "error_x": {
             "color": "#2a3f5f"
            },
            "error_y": {
             "color": "#2a3f5f"
            },
            "marker": {
             "line": {
              "color": "#E5ECF6",
              "width": 0.5
             },
             "pattern": {
              "fillmode": "overlay",
              "size": 10,
              "solidity": 0.2
             }
            },
            "type": "bar"
           }
          ],
          "barpolar": [
           {
            "marker": {
             "line": {
              "color": "#E5ECF6",
              "width": 0.5
             },
             "pattern": {
              "fillmode": "overlay",
              "size": 10,
              "solidity": 0.2
             }
            },
            "type": "barpolar"
           }
          ],
          "carpet": [
           {
            "aaxis": {
             "endlinecolor": "#2a3f5f",
             "gridcolor": "white",
             "linecolor": "white",
             "minorgridcolor": "white",
             "startlinecolor": "#2a3f5f"
            },
            "baxis": {
             "endlinecolor": "#2a3f5f",
             "gridcolor": "white",
             "linecolor": "white",
             "minorgridcolor": "white",
             "startlinecolor": "#2a3f5f"
            },
            "type": "carpet"
           }
          ],
          "choropleth": [
           {
            "colorbar": {
             "outlinewidth": 0,
             "ticks": ""
            },
            "type": "choropleth"
           }
          ],
          "contour": [
           {
            "colorbar": {
             "outlinewidth": 0,
             "ticks": ""
            },
            "colorscale": [
             [
              0,
              "#0d0887"
             ],
             [
              0.1111111111111111,
              "#46039f"
             ],
             [
              0.2222222222222222,
              "#7201a8"
             ],
             [
              0.3333333333333333,
              "#9c179e"
             ],
             [
              0.4444444444444444,
              "#bd3786"
             ],
             [
              0.5555555555555556,
              "#d8576b"
             ],
             [
              0.6666666666666666,
              "#ed7953"
             ],
             [
              0.7777777777777778,
              "#fb9f3a"
             ],
             [
              0.8888888888888888,
              "#fdca26"
             ],
             [
              1,
              "#f0f921"
             ]
            ],
            "type": "contour"
           }
          ],
          "contourcarpet": [
           {
            "colorbar": {
             "outlinewidth": 0,
             "ticks": ""
            },
            "type": "contourcarpet"
           }
          ],
          "heatmap": [
           {
            "colorbar": {
             "outlinewidth": 0,
             "ticks": ""
            },
            "colorscale": [
             [
              0,
              "#0d0887"
             ],
             [
              0.1111111111111111,
              "#46039f"
             ],
             [
              0.2222222222222222,
              "#7201a8"
             ],
             [
              0.3333333333333333,
              "#9c179e"
             ],
             [
              0.4444444444444444,
              "#bd3786"
             ],
             [
              0.5555555555555556,
              "#d8576b"
             ],
             [
              0.6666666666666666,
              "#ed7953"
             ],
             [
              0.7777777777777778,
              "#fb9f3a"
             ],
             [
              0.8888888888888888,
              "#fdca26"
             ],
             [
              1,
              "#f0f921"
             ]
            ],
            "type": "heatmap"
           }
          ],
          "heatmapgl": [
           {
            "colorbar": {
             "outlinewidth": 0,
             "ticks": ""
            },
            "colorscale": [
             [
              0,
              "#0d0887"
             ],
             [
              0.1111111111111111,
              "#46039f"
             ],
             [
              0.2222222222222222,
              "#7201a8"
             ],
             [
              0.3333333333333333,
              "#9c179e"
             ],
             [
              0.4444444444444444,
              "#bd3786"
             ],
             [
              0.5555555555555556,
              "#d8576b"
             ],
             [
              0.6666666666666666,
              "#ed7953"
             ],
             [
              0.7777777777777778,
              "#fb9f3a"
             ],
             [
              0.8888888888888888,
              "#fdca26"
             ],
             [
              1,
              "#f0f921"
             ]
            ],
            "type": "heatmapgl"
           }
          ],
          "histogram": [
           {
            "marker": {
             "pattern": {
              "fillmode": "overlay",
              "size": 10,
              "solidity": 0.2
             }
            },
            "type": "histogram"
           }
          ],
          "histogram2d": [
           {
            "colorbar": {
             "outlinewidth": 0,
             "ticks": ""
            },
            "colorscale": [
             [
              0,
              "#0d0887"
             ],
             [
              0.1111111111111111,
              "#46039f"
             ],
             [
              0.2222222222222222,
              "#7201a8"
             ],
             [
              0.3333333333333333,
              "#9c179e"
             ],
             [
              0.4444444444444444,
              "#bd3786"
             ],
             [
              0.5555555555555556,
              "#d8576b"
             ],
             [
              0.6666666666666666,
              "#ed7953"
             ],
             [
              0.7777777777777778,
              "#fb9f3a"
             ],
             [
              0.8888888888888888,
              "#fdca26"
             ],
             [
              1,
              "#f0f921"
             ]
            ],
            "type": "histogram2d"
           }
          ],
          "histogram2dcontour": [
           {
            "colorbar": {
             "outlinewidth": 0,
             "ticks": ""
            },
            "colorscale": [
             [
              0,
              "#0d0887"
             ],
             [
              0.1111111111111111,
              "#46039f"
             ],
             [
              0.2222222222222222,
              "#7201a8"
             ],
             [
              0.3333333333333333,
              "#9c179e"
             ],
             [
              0.4444444444444444,
              "#bd3786"
             ],
             [
              0.5555555555555556,
              "#d8576b"
             ],
             [
              0.6666666666666666,
              "#ed7953"
             ],
             [
              0.7777777777777778,
              "#fb9f3a"
             ],
             [
              0.8888888888888888,
              "#fdca26"
             ],
             [
              1,
              "#f0f921"
             ]
            ],
            "type": "histogram2dcontour"
           }
          ],
          "mesh3d": [
           {
            "colorbar": {
             "outlinewidth": 0,
             "ticks": ""
            },
            "type": "mesh3d"
           }
          ],
          "parcoords": [
           {
            "line": {
             "colorbar": {
              "outlinewidth": 0,
              "ticks": ""
             }
            },
            "type": "parcoords"
           }
          ],
          "pie": [
           {
            "automargin": true,
            "type": "pie"
           }
          ],
          "scatter": [
           {
            "fillpattern": {
             "fillmode": "overlay",
             "size": 10,
             "solidity": 0.2
            },
            "type": "scatter"
           }
          ],
          "scatter3d": [
           {
            "line": {
             "colorbar": {
              "outlinewidth": 0,
              "ticks": ""
             }
            },
            "marker": {
             "colorbar": {
              "outlinewidth": 0,
              "ticks": ""
             }
            },
            "type": "scatter3d"
           }
          ],
          "scattercarpet": [
           {
            "marker": {
             "colorbar": {
              "outlinewidth": 0,
              "ticks": ""
             }
            },
            "type": "scattercarpet"
           }
          ],
          "scattergeo": [
           {
            "marker": {
             "colorbar": {
              "outlinewidth": 0,
              "ticks": ""
             }
            },
            "type": "scattergeo"
           }
          ],
          "scattergl": [
           {
            "marker": {
             "colorbar": {
              "outlinewidth": 0,
              "ticks": ""
             }
            },
            "type": "scattergl"
           }
          ],
          "scattermapbox": [
           {
            "marker": {
             "colorbar": {
              "outlinewidth": 0,
              "ticks": ""
             }
            },
            "type": "scattermapbox"
           }
          ],
          "scatterpolar": [
           {
            "marker": {
             "colorbar": {
              "outlinewidth": 0,
              "ticks": ""
             }
            },
            "type": "scatterpolar"
           }
          ],
          "scatterpolargl": [
           {
            "marker": {
             "colorbar": {
              "outlinewidth": 0,
              "ticks": ""
             }
            },
            "type": "scatterpolargl"
           }
          ],
          "scatterternary": [
           {
            "marker": {
             "colorbar": {
              "outlinewidth": 0,
              "ticks": ""
             }
            },
            "type": "scatterternary"
           }
          ],
          "surface": [
           {
            "colorbar": {
             "outlinewidth": 0,
             "ticks": ""
            },
            "colorscale": [
             [
              0,
              "#0d0887"
             ],
             [
              0.1111111111111111,
              "#46039f"
             ],
             [
              0.2222222222222222,
              "#7201a8"
             ],
             [
              0.3333333333333333,
              "#9c179e"
             ],
             [
              0.4444444444444444,
              "#bd3786"
             ],
             [
              0.5555555555555556,
              "#d8576b"
             ],
             [
              0.6666666666666666,
              "#ed7953"
             ],
             [
              0.7777777777777778,
              "#fb9f3a"
             ],
             [
              0.8888888888888888,
              "#fdca26"
             ],
             [
              1,
              "#f0f921"
             ]
            ],
            "type": "surface"
           }
          ],
          "table": [
           {
            "cells": {
             "fill": {
              "color": "#EBF0F8"
             },
             "line": {
              "color": "white"
             }
            },
            "header": {
             "fill": {
              "color": "#C8D4E3"
             },
             "line": {
              "color": "white"
             }
            },
            "type": "table"
           }
          ]
         },
         "layout": {
          "annotationdefaults": {
           "arrowcolor": "#2a3f5f",
           "arrowhead": 0,
           "arrowwidth": 1
          },
          "autotypenumbers": "strict",
          "coloraxis": {
           "colorbar": {
            "outlinewidth": 0,
            "ticks": ""
           }
          },
          "colorscale": {
           "diverging": [
            [
             0,
             "#8e0152"
            ],
            [
             0.1,
             "#c51b7d"
            ],
            [
             0.2,
             "#de77ae"
            ],
            [
             0.3,
             "#f1b6da"
            ],
            [
             0.4,
             "#fde0ef"
            ],
            [
             0.5,
             "#f7f7f7"
            ],
            [
             0.6,
             "#e6f5d0"
            ],
            [
             0.7,
             "#b8e186"
            ],
            [
             0.8,
             "#7fbc41"
            ],
            [
             0.9,
             "#4d9221"
            ],
            [
             1,
             "#276419"
            ]
           ],
           "sequential": [
            [
             0,
             "#0d0887"
            ],
            [
             0.1111111111111111,
             "#46039f"
            ],
            [
             0.2222222222222222,
             "#7201a8"
            ],
            [
             0.3333333333333333,
             "#9c179e"
            ],
            [
             0.4444444444444444,
             "#bd3786"
            ],
            [
             0.5555555555555556,
             "#d8576b"
            ],
            [
             0.6666666666666666,
             "#ed7953"
            ],
            [
             0.7777777777777778,
             "#fb9f3a"
            ],
            [
             0.8888888888888888,
             "#fdca26"
            ],
            [
             1,
             "#f0f921"
            ]
           ],
           "sequentialminus": [
            [
             0,
             "#0d0887"
            ],
            [
             0.1111111111111111,
             "#46039f"
            ],
            [
             0.2222222222222222,
             "#7201a8"
            ],
            [
             0.3333333333333333,
             "#9c179e"
            ],
            [
             0.4444444444444444,
             "#bd3786"
            ],
            [
             0.5555555555555556,
             "#d8576b"
            ],
            [
             0.6666666666666666,
             "#ed7953"
            ],
            [
             0.7777777777777778,
             "#fb9f3a"
            ],
            [
             0.8888888888888888,
             "#fdca26"
            ],
            [
             1,
             "#f0f921"
            ]
           ]
          },
          "colorway": [
           "#636efa",
           "#EF553B",
           "#00cc96",
           "#ab63fa",
           "#FFA15A",
           "#19d3f3",
           "#FF6692",
           "#B6E880",
           "#FF97FF",
           "#FECB52"
          ],
          "font": {
           "color": "#2a3f5f"
          },
          "geo": {
           "bgcolor": "white",
           "lakecolor": "white",
           "landcolor": "#E5ECF6",
           "showlakes": true,
           "showland": true,
           "subunitcolor": "white"
          },
          "hoverlabel": {
           "align": "left"
          },
          "hovermode": "closest",
          "mapbox": {
           "style": "light"
          },
          "paper_bgcolor": "white",
          "plot_bgcolor": "#E5ECF6",
          "polar": {
           "angularaxis": {
            "gridcolor": "white",
            "linecolor": "white",
            "ticks": ""
           },
           "bgcolor": "#E5ECF6",
           "radialaxis": {
            "gridcolor": "white",
            "linecolor": "white",
            "ticks": ""
           }
          },
          "scene": {
           "xaxis": {
            "backgroundcolor": "#E5ECF6",
            "gridcolor": "white",
            "gridwidth": 2,
            "linecolor": "white",
            "showbackground": true,
            "ticks": "",
            "zerolinecolor": "white"
           },
           "yaxis": {
            "backgroundcolor": "#E5ECF6",
            "gridcolor": "white",
            "gridwidth": 2,
            "linecolor": "white",
            "showbackground": true,
            "ticks": "",
            "zerolinecolor": "white"
           },
           "zaxis": {
            "backgroundcolor": "#E5ECF6",
            "gridcolor": "white",
            "gridwidth": 2,
            "linecolor": "white",
            "showbackground": true,
            "ticks": "",
            "zerolinecolor": "white"
           }
          },
          "shapedefaults": {
           "line": {
            "color": "#2a3f5f"
           }
          },
          "ternary": {
           "aaxis": {
            "gridcolor": "white",
            "linecolor": "white",
            "ticks": ""
           },
           "baxis": {
            "gridcolor": "white",
            "linecolor": "white",
            "ticks": ""
           },
           "bgcolor": "#E5ECF6",
           "caxis": {
            "gridcolor": "white",
            "linecolor": "white",
            "ticks": ""
           }
          },
          "title": {
           "x": 0.05
          },
          "xaxis": {
           "automargin": true,
           "gridcolor": "white",
           "linecolor": "white",
           "ticks": "",
           "title": {
            "standoff": 15
           },
           "zerolinecolor": "white",
           "zerolinewidth": 2
          },
          "yaxis": {
           "automargin": true,
           "gridcolor": "white",
           "linecolor": "white",
           "ticks": "",
           "title": {
            "standoff": 15
           },
           "zerolinecolor": "white",
           "zerolinewidth": 2
          }
         }
        },
        "title": {
         "font": {
          "size": 24
         }
        },
        "xaxis": {
         "anchor": "y",
         "domain": [
          0,
          0.45
         ],
         "tickfont": {
          "size": 16
         },
         "title": {
          "font": {
           "size": 20
          }
         }
        },
        "xaxis2": {
         "anchor": "y2",
         "domain": [
          0.55,
          1
         ]
        },
        "yaxis": {
         "anchor": "x",
         "domain": [
          0,
          1
         ],
         "tickfont": {
          "size": 16
         },
         "title": {
          "font": {
           "size": 20
          }
         }
        },
        "yaxis2": {
         "anchor": "x2",
         "domain": [
          0,
          1
         ]
        }
       }
      }
     },
     "metadata": {},
     "output_type": "display_data"
    }
   ],
   "source": [
    "from Implementations.visualization import create_plotly_violin_plots\n",
    "violin_plot = create_plotly_violin_plots(merged_datasets, 'UMAP_Component_1', 'UMAP_Component_2', target=\"localization_site\", base_colors=color_scheme)\n",
    "violin_plot.update_layout(\n",
    "    font=dict(size=18),\n",
    "    title_font=dict(size=24),\n",
    "    xaxis=dict(title_font=dict(size=20), tickfont=dict(size=16)),\n",
    "    yaxis=dict(title_font=dict(size=20), tickfont=dict(size=16))\n",
    "\n",
    ")\n",
    "# .write_image(\"../../images/case3_violin_plot.png\", width=800, height=400, scale=2)\n",
    "violin_plot"
   ]
  },
  {
   "cell_type": "code",
   "execution_count": 39,
   "metadata": {},
   "outputs": [
    {
     "data": {
      "text/html": [
       "\n",
       "<style>\n",
       "  #altair-viz-461b57fbf3114ce480ba5d67fef61e6f.vega-embed {\n",
       "    width: 100%;\n",
       "    display: flex;\n",
       "  }\n",
       "\n",
       "  #altair-viz-461b57fbf3114ce480ba5d67fef61e6f.vega-embed details,\n",
       "  #altair-viz-461b57fbf3114ce480ba5d67fef61e6f.vega-embed details summary {\n",
       "    position: relative;\n",
       "  }\n",
       "</style>\n",
       "<div id=\"altair-viz-461b57fbf3114ce480ba5d67fef61e6f\"></div>\n",
       "<script type=\"text/javascript\">\n",
       "  var VEGA_DEBUG = (typeof VEGA_DEBUG == \"undefined\") ? {} : VEGA_DEBUG;\n",
       "  (function(spec, embedOpt){\n",
       "    let outputDiv = document.currentScript.previousElementSibling;\n",
       "    if (outputDiv.id !== \"altair-viz-461b57fbf3114ce480ba5d67fef61e6f\") {\n",
       "      outputDiv = document.getElementById(\"altair-viz-461b57fbf3114ce480ba5d67fef61e6f\");\n",
       "    }\n",
       "    const paths = {\n",
       "      \"vega\": \"https://cdn.jsdelivr.net/npm/vega@5?noext\",\n",
       "      \"vega-lib\": \"https://cdn.jsdelivr.net/npm/vega-lib?noext\",\n",
       "      \"vega-lite\": \"https://cdn.jsdelivr.net/npm/vega-lite@5.20.1?noext\",\n",
       "      \"vega-embed\": \"https://cdn.jsdelivr.net/npm/vega-embed@6?noext\",\n",
       "    };\n",
       "\n",
       "    function maybeLoadScript(lib, version) {\n",
       "      var key = `${lib.replace(\"-\", \"\")}_version`;\n",
       "      return (VEGA_DEBUG[key] == version) ?\n",
       "        Promise.resolve(paths[lib]) :\n",
       "        new Promise(function(resolve, reject) {\n",
       "          var s = document.createElement('script');\n",
       "          document.getElementsByTagName(\"head\")[0].appendChild(s);\n",
       "          s.async = true;\n",
       "          s.onload = () => {\n",
       "            VEGA_DEBUG[key] = version;\n",
       "            return resolve(paths[lib]);\n",
       "          };\n",
       "          s.onerror = () => reject(`Error loading script: ${paths[lib]}`);\n",
       "          s.src = paths[lib];\n",
       "        });\n",
       "    }\n",
       "\n",
       "    function showError(err) {\n",
       "      outputDiv.innerHTML = `<div class=\"error\" style=\"color:red;\">${err}</div>`;\n",
       "      throw err;\n",
       "    }\n",
       "\n",
       "    function displayChart(vegaEmbed) {\n",
       "      vegaEmbed(outputDiv, spec, embedOpt)\n",
       "        .catch(err => showError(`Javascript Error: ${err.message}<br>This usually means there's a typo in your chart specification. See the javascript console for the full traceback.`));\n",
       "    }\n",
       "\n",
       "    if(typeof define === \"function\" && define.amd) {\n",
       "      requirejs.config({paths});\n",
       "      require([\"vega-embed\"], displayChart, err => showError(`Error loading script: ${err.message}`));\n",
       "    } else {\n",
       "      maybeLoadScript(\"vega\", \"5\")\n",
       "        .then(() => maybeLoadScript(\"vega-lite\", \"5.20.1\"))\n",
       "        .then(() => maybeLoadScript(\"vega-embed\", \"6\"))\n",
       "        .catch(showError)\n",
       "        .then(() => displayChart(vegaEmbed));\n",
       "    }\n",
       "  })({\"config\": {\"view\": {\"continuousWidth\": 300, \"continuousHeight\": 300}}, \"vconcat\": [{\"hconcat\": [{\"mark\": {\"type\": \"circle\", \"size\": 60}, \"encoding\": {\"color\": {\"field\": \"Outlier_Z\", \"type\": \"nominal\"}, \"tooltip\": [{\"field\": \"UMAP_Component_1\", \"type\": \"quantitative\"}, {\"field\": \"UMAP_Component_2\", \"type\": \"quantitative\"}, {\"field\": \"Outlier_Z\", \"type\": \"nominal\"}], \"x\": {\"field\": \"UMAP_Component_1\", \"type\": \"quantitative\"}, \"y\": {\"field\": \"UMAP_Component_2\", \"type\": \"quantitative\"}}}, {\"mark\": {\"type\": \"circle\", \"size\": 60}, \"encoding\": {\"color\": {\"field\": \"Outlier_IQR\", \"type\": \"nominal\"}, \"tooltip\": [{\"field\": \"UMAP_Component_1\", \"type\": \"quantitative\"}, {\"field\": \"UMAP_Component_2\", \"type\": \"quantitative\"}, {\"field\": \"Outlier_IQR\", \"type\": \"nominal\"}], \"x\": {\"field\": \"UMAP_Component_1\", \"type\": \"quantitative\"}, \"y\": {\"field\": \"UMAP_Component_2\", \"type\": \"quantitative\"}}}]}, {\"hconcat\": [{\"mark\": {\"type\": \"circle\", \"size\": 60}, \"encoding\": {\"color\": {\"field\": \"Outlier_IF\", \"type\": \"nominal\"}, \"tooltip\": [{\"field\": \"UMAP_Component_1\", \"type\": \"quantitative\"}, {\"field\": \"UMAP_Component_2\", \"type\": \"quantitative\"}, {\"field\": \"Outlier_IF\", \"type\": \"nominal\"}], \"x\": {\"field\": \"UMAP_Component_1\", \"type\": \"quantitative\"}, \"y\": {\"field\": \"UMAP_Component_2\", \"type\": \"quantitative\"}}}]}], \"data\": {\"name\": \"data-2482222275172a65f9b367bcb66f06ab\"}, \"resolve\": {\"scale\": {\"color\": \"independent\"}}, \"$schema\": \"https://vega.github.io/schema/vega-lite/v5.20.1.json\", \"datasets\": {\"data-2482222275172a65f9b367bcb66f06ab\": [{\"UMAP_Component_1\": 9.542462348937988, \"UMAP_Component_2\": 4.898842811584473, \"localization_site\": \"MIT\", \"Z1\": -0.2850944048118692, \"Z2\": -0.6287170507894696, \"Outlier_Z\": \"Normal\", \"Outlier_IQR\": \"Normal\", \"Outlier_IF\": \"Normal\"}, {\"UMAP_Component_1\": 9.299116134643555, \"UMAP_Component_2\": 5.506402492523193, \"localization_site\": \"MIT\", \"Z1\": -0.3637826751664504, \"Z2\": -0.3815501828926163, \"Outlier_Z\": \"Normal\", \"Outlier_IQR\": \"Normal\", \"Outlier_IF\": \"Normal\"}, {\"UMAP_Component_1\": 9.571455955505371, \"UMAP_Component_2\": 4.387489318847656, \"localization_site\": \"MIT\", \"Z1\": -0.275719051434199, \"Z2\": -0.8367454061151467, \"Outlier_Z\": \"Normal\", \"Outlier_IQR\": \"Normal\", \"Outlier_IF\": \"Normal\"}, {\"UMAP_Component_1\": 11.698423385620117, \"UMAP_Component_2\": 6.441823959350586, \"localization_site\": \"NUC\", \"Z1\": 0.41205572517997047, \"Z2\": -0.0010028862682266606, \"Outlier_Z\": \"Normal\", \"Outlier_IQR\": \"Normal\", \"Outlier_IF\": \"Normal\"}, {\"UMAP_Component_1\": 14.248353958129883, \"UMAP_Component_2\": 4.6038126945495605, \"localization_site\": \"MIT\", \"Z1\": 1.2365995828143734, \"Z2\": -0.7487409303367305, \"Outlier_Z\": \"Normal\", \"Outlier_IQR\": \"Normal\", \"Outlier_IF\": \"Normal\"}, {\"UMAP_Component_1\": -4.692528247833252, \"UMAP_Component_2\": 0.26120617985725403, \"localization_site\": \"CYT\", \"Z1\": -4.888111516959639, \"Z2\": -2.5153960992356477, \"Outlier_Z\": \"Outlier\", \"Outlier_IQR\": \"Outlier\", \"Outlier_IF\": \"Outlier\"}, {\"UMAP_Component_1\": 14.46006965637207, \"UMAP_Component_2\": 3.697067975997925, \"localization_site\": \"MIT\", \"Z1\": 1.305059830490276, \"Z2\": -1.1176219787304378, \"Outlier_Z\": \"Normal\", \"Outlier_IQR\": \"Normal\", \"Outlier_IF\": \"Normal\"}, {\"UMAP_Component_1\": 11.636581420898438, \"UMAP_Component_2\": 10.302139282226562, \"localization_site\": \"NUC\", \"Z1\": 0.39205854850973815, \"Z2\": 1.5694470257062993, \"Outlier_Z\": \"Normal\", \"Outlier_IQR\": \"Normal\", \"Outlier_IF\": \"Normal\"}, {\"UMAP_Component_1\": 13.041051864624023, \"UMAP_Component_2\": 6.107032775878906, \"localization_site\": \"MIT\", \"Z1\": 0.8462071790989976, \"Z2\": -0.13720232611637884, \"Outlier_Z\": \"Normal\", \"Outlier_IQR\": \"Normal\", \"Outlier_IF\": \"Normal\"}, {\"UMAP_Component_1\": 11.857034683227539, \"UMAP_Component_2\": 10.408846855163574, \"localization_site\": \"CYT\", \"Z1\": 0.4633441691099948, \"Z2\": 1.6128577019101016, \"Outlier_Z\": \"Normal\", \"Outlier_IQR\": \"Normal\", \"Outlier_IF\": \"Normal\"}, {\"UMAP_Component_1\": 11.577595710754395, \"UMAP_Component_2\": 9.243301391601562, \"localization_site\": \"NUC\", \"Z1\": 0.3729849684241424, \"Z2\": 1.1386915736132093, \"Outlier_Z\": \"Normal\", \"Outlier_IQR\": \"Normal\", \"Outlier_IF\": \"Normal\"}, {\"UMAP_Component_1\": 12.165201187133789, \"UMAP_Component_2\": 9.668180465698242, \"localization_site\": \"NUC\", \"Z1\": 0.5629926852946815, \"Z2\": 1.3115404858667916, \"Outlier_Z\": \"Normal\", \"Outlier_IQR\": \"Normal\", \"Outlier_IF\": \"Normal\"}, {\"UMAP_Component_1\": 12.777884483337402, \"UMAP_Component_2\": 5.329468250274658, \"localization_site\": \"CYT\", \"Z1\": 0.7611095493403806, \"Z2\": -0.45353040780270937, \"Outlier_Z\": \"Normal\", \"Outlier_IQR\": \"Normal\", \"Outlier_IF\": \"Normal\"}, {\"UMAP_Component_1\": 12.658110618591309, \"UMAP_Component_2\": 4.486358165740967, \"localization_site\": \"MIT\", \"Z1\": 0.7223795519254619, \"Z2\": -0.7965236731959442, \"Outlier_Z\": \"Normal\", \"Outlier_IQR\": \"Normal\", \"Outlier_IF\": \"Normal\"}, {\"UMAP_Component_1\": 10.260005950927734, \"UMAP_Component_2\": 4.230897426605225, \"localization_site\": \"MIT\", \"Z1\": -0.053069981878980106, \"Z2\": -0.9004499749960221, \"Outlier_Z\": \"Normal\", \"Outlier_IQR\": \"Normal\", \"Outlier_IF\": \"Normal\"}, {\"UMAP_Component_1\": 10.83723258972168, \"UMAP_Component_2\": 8.014383316040039, \"localization_site\": \"CYT\", \"Z1\": 0.13358164095796954, \"Z2\": 0.6387442578712244, \"Outlier_Z\": \"Normal\", \"Outlier_IQR\": \"Normal\", \"Outlier_IF\": \"Normal\"}, {\"UMAP_Component_1\": 9.358016967773438, \"UMAP_Component_2\": 9.557838439941406, \"localization_site\": \"CYT\", \"Z1\": -0.3447365408558239, \"Z2\": 1.2666512449257656, \"Outlier_Z\": \"Normal\", \"Outlier_IQR\": \"Normal\", \"Outlier_IF\": \"Normal\"}, {\"UMAP_Component_1\": 11.388118743896484, \"UMAP_Component_2\": 6.4158806800842285, \"localization_site\": \"NUC\", \"Z1\": 0.311715822169656, \"Z2\": -0.011557107162759149, \"Outlier_Z\": \"Normal\", \"Outlier_IQR\": \"Normal\", \"Outlier_IF\": \"Normal\"}, {\"UMAP_Component_1\": 11.815959930419922, \"UMAP_Component_2\": 7.928644180297852, \"localization_site\": \"NUC\", \"Z1\": 0.4500622643018816, \"Z2\": 0.6038639419081296, \"Outlier_Z\": \"Normal\", \"Outlier_IQR\": \"Normal\", \"Outlier_IF\": \"Normal\"}, {\"UMAP_Component_1\": 10.62622356414795, \"UMAP_Component_2\": 4.789270401000977, \"localization_site\": \"NUC\", \"Z1\": 0.06534990248714738, \"Z2\": -0.6732931975969506, \"Outlier_Z\": \"Normal\", \"Outlier_IQR\": \"Normal\", \"Outlier_IF\": \"Normal\"}, {\"UMAP_Component_1\": 10.843331336975098, \"UMAP_Component_2\": 8.124101638793945, \"localization_site\": \"CYT\", \"Z1\": 0.13555372782232716, \"Z2\": 0.6833797645330206, \"Outlier_Z\": \"Normal\", \"Outlier_IQR\": \"Normal\", \"Outlier_IF\": \"Normal\"}, {\"UMAP_Component_1\": 10.732606887817383, \"UMAP_Component_2\": 7.63947868347168, \"localization_site\": \"CYT\", \"Z1\": 0.09974994342631226, \"Z2\": 0.4862259017341452, \"Outlier_Z\": \"Normal\", \"Outlier_IQR\": \"Normal\", \"Outlier_IF\": \"Normal\"}, {\"UMAP_Component_1\": 9.226826667785645, \"UMAP_Component_2\": 2.9673104286193848, \"localization_site\": \"CYT\", \"Z1\": -0.38715814919384267, \"Z2\": -1.4145012697178787, \"Outlier_Z\": \"Normal\", \"Outlier_IQR\": \"Normal\", \"Outlier_IF\": \"Normal\"}, {\"UMAP_Component_1\": 11.321738243103027, \"UMAP_Component_2\": 10.604218482971191, \"localization_site\": \"CYT\", \"Z1\": 0.2902510674873083, \"Z2\": 1.6923386069736306, \"Outlier_Z\": \"Normal\", \"Outlier_IQR\": \"Normal\", \"Outlier_IF\": \"Outlier\"}, {\"UMAP_Component_1\": 11.452610969543457, \"UMAP_Component_2\": 10.730875015258789, \"localization_site\": \"CYT\", \"Z1\": 0.3325699854538132, \"Z2\": 1.743864900383742, \"Outlier_Z\": \"Normal\", \"Outlier_IQR\": \"Normal\", \"Outlier_IF\": \"Outlier\"}, {\"UMAP_Component_1\": 13.323421478271484, \"UMAP_Component_2\": 4.100318431854248, \"localization_site\": \"MIT\", \"Z1\": 0.9375140299700213, \"Z2\": -0.9535720009603714, \"Outlier_Z\": \"Normal\", \"Outlier_IQR\": \"Normal\", \"Outlier_IF\": \"Normal\"}, {\"UMAP_Component_1\": 11.412491798400879, \"UMAP_Component_2\": 6.096467971801758, \"localization_site\": \"CYT\", \"Z1\": 0.31959707689872374, \"Z2\": -0.14150028994712235, \"Outlier_Z\": \"Normal\", \"Outlier_IQR\": \"Normal\", \"Outlier_IF\": \"Normal\"}, {\"UMAP_Component_1\": 12.033393859863281, \"UMAP_Component_2\": 6.413815498352051, \"localization_site\": \"CYT\", \"Z1\": 0.5203715554240216, \"Z2\": -0.012397262486416401, \"Outlier_Z\": \"Normal\", \"Outlier_IQR\": \"Normal\", \"Outlier_IF\": \"Normal\"}, {\"UMAP_Component_1\": 10.795086860656738, \"UMAP_Component_2\": 4.819646835327148, \"localization_site\": \"MIT\", \"Z1\": 0.11995342597805439, \"Z2\": -0.6609354846580769, \"Outlier_Z\": \"Normal\", \"Outlier_IQR\": \"Normal\", \"Outlier_IF\": \"Normal\"}, {\"UMAP_Component_1\": 9.234847068786621, \"UMAP_Component_2\": 2.1955344676971436, \"localization_site\": \"ME1\", \"Z1\": -0.3845646776490033, \"Z2\": -1.7284744528700284, \"Outlier_Z\": \"Normal\", \"Outlier_IQR\": \"Normal\", \"Outlier_IF\": \"Normal\"}, {\"UMAP_Component_1\": 8.349675178527832, \"UMAP_Component_2\": 6.490055561065674, \"localization_site\": \"NUC\", \"Z1\": -0.6707932726280234, \"Z2\": 0.018618649366178224, \"Outlier_Z\": \"Normal\", \"Outlier_IQR\": \"Normal\", \"Outlier_IF\": \"Normal\"}, {\"UMAP_Component_1\": 14.623469352722168, \"UMAP_Component_2\": 3.7402307987213135, \"localization_site\": \"MIT\", \"Z1\": 1.357896647859853, \"Z2\": -1.100062519080904, \"Outlier_Z\": \"Normal\", \"Outlier_IQR\": \"Normal\", \"Outlier_IF\": \"Normal\"}, {\"UMAP_Component_1\": 8.655613899230957, \"UMAP_Component_2\": 8.536924362182617, \"localization_site\": \"CYT\", \"Z1\": -0.5718651309414039, \"Z2\": 0.8513239233339707, \"Outlier_Z\": \"Normal\", \"Outlier_IQR\": \"Normal\", \"Outlier_IF\": \"Normal\"}, {\"UMAP_Component_1\": 13.371702194213867, \"UMAP_Component_2\": 4.6624860763549805, \"localization_site\": \"NUC\", \"Z1\": 0.9531260502350675, \"Z2\": -0.7248714793762008, \"Outlier_Z\": \"Normal\", \"Outlier_IQR\": \"Normal\", \"Outlier_IF\": \"Normal\"}, {\"UMAP_Component_1\": 9.82161808013916, \"UMAP_Component_2\": 1.5810399055480957, \"localization_site\": \"ME1\", \"Z1\": -0.19482679283574542, \"Z2\": -1.9784625627316956, \"Outlier_Z\": \"Normal\", \"Outlier_IQR\": \"Normal\", \"Outlier_IF\": \"Outlier\"}, {\"UMAP_Component_1\": 10.089055061340332, \"UMAP_Component_2\": 1.6713064908981323, \"localization_site\": \"EXC\", \"Z1\": -0.10834854808233105, \"Z2\": -1.9417403939033746, \"Outlier_Z\": \"Normal\", \"Outlier_IQR\": \"Normal\", \"Outlier_IF\": \"Outlier\"}, {\"UMAP_Component_1\": 9.513876914978027, \"UMAP_Component_2\": 3.0349159240722656, \"localization_site\": \"MIT\", \"Z1\": -0.2943377717660922, \"Z2\": -1.3869980645382893, \"Outlier_Z\": \"Normal\", \"Outlier_IQR\": \"Normal\", \"Outlier_IF\": \"Normal\"}, {\"UMAP_Component_1\": 11.695725440979004, \"UMAP_Component_2\": 10.416024208068848, \"localization_site\": \"CYT\", \"Z1\": 0.41118331959134374, \"Z2\": 1.6157775859857628, \"Outlier_Z\": \"Normal\", \"Outlier_IQR\": \"Normal\", \"Outlier_IF\": \"Normal\"}, {\"UMAP_Component_1\": 13.373316764831543, \"UMAP_Component_2\": 3.7013676166534424, \"localization_site\": \"MIT\", \"Z1\": 0.9536481367184697, \"Z2\": -1.1158728028926594, \"Outlier_Z\": \"Normal\", \"Outlier_IQR\": \"Normal\", \"Outlier_IF\": \"Normal\"}, {\"UMAP_Component_1\": 12.19880485534668, \"UMAP_Component_2\": 4.7066121101379395, \"localization_site\": \"MIT\", \"Z1\": 0.5738587451465198, \"Z2\": -0.7069201670936058, \"Outlier_Z\": \"Normal\", \"Outlier_IQR\": \"Normal\", \"Outlier_IF\": \"Normal\"}, {\"UMAP_Component_1\": 9.255114555358887, \"UMAP_Component_2\": 2.6433825492858887, \"localization_site\": \"ME2\", \"Z1\": -0.3780109966417588, \"Z2\": -1.5462813102163289, \"Outlier_Z\": \"Normal\", \"Outlier_IQR\": \"Normal\", \"Outlier_IF\": \"Normal\"}, {\"UMAP_Component_1\": 10.188042640686035, \"UMAP_Component_2\": 2.6675338745117188, \"localization_site\": \"ME2\", \"Z1\": -0.07633999011941221, \"Z2\": -1.5364560904084517, \"Outlier_Z\": \"Normal\", \"Outlier_IQR\": \"Normal\", \"Outlier_IF\": \"Normal\"}, {\"UMAP_Component_1\": 9.213878631591797, \"UMAP_Component_2\": 2.958787202835083, \"localization_site\": \"ME2\", \"Z1\": -0.391345017584364, \"Z2\": -1.4179686805543394, \"Outlier_Z\": \"Normal\", \"Outlier_IQR\": \"Normal\", \"Outlier_IF\": \"Normal\"}, {\"UMAP_Component_1\": 7.534825325012207, \"UMAP_Component_2\": 5.653888702392578, \"localization_site\": \"ME3\", \"Z1\": -0.9342825804758466, \"Z2\": -0.32154997929933243, \"Outlier_Z\": \"Normal\", \"Outlier_IQR\": \"Normal\", \"Outlier_IF\": \"Normal\"}, {\"UMAP_Component_1\": 11.92006778717041, \"UMAP_Component_2\": 8.942967414855957, \"localization_site\": \"VAC\", \"Z1\": 0.4837265117682776, \"Z2\": 1.0165099827602362, \"Outlier_Z\": \"Normal\", \"Outlier_IQR\": \"Normal\", \"Outlier_IF\": \"Normal\"}, {\"UMAP_Component_1\": 13.848501205444336, \"UMAP_Component_2\": 5.747302055358887, \"localization_site\": \"NUC\", \"Z1\": 1.1073034620731046, \"Z2\": -0.28354764537758154, \"Outlier_Z\": \"Normal\", \"Outlier_IQR\": \"Normal\", \"Outlier_IF\": \"Normal\"}, {\"UMAP_Component_1\": 10.310490608215332, \"UMAP_Component_2\": 1.7445108890533447, \"localization_site\": \"ME2\", \"Z1\": -0.03674529660321771, \"Z2\": -1.9119594483008915, \"Outlier_Z\": \"Normal\", \"Outlier_IQR\": \"Normal\", \"Outlier_IF\": \"Outlier\"}, {\"UMAP_Component_1\": 11.6412935256958, \"UMAP_Component_2\": 7.648248672485352, \"localization_site\": \"EXC\", \"Z1\": 0.393582251589768, \"Z2\": 0.48979370055952137, \"Outlier_Z\": \"Normal\", \"Outlier_IQR\": \"Normal\", \"Outlier_IF\": \"Normal\"}, {\"UMAP_Component_1\": 10.01457405090332, \"UMAP_Component_2\": 3.1735074520111084, \"localization_site\": \"VAC\", \"Z1\": -0.13243267818701712, \"Z2\": -1.3306163872275822, \"Outlier_Z\": \"Normal\", \"Outlier_IQR\": \"Normal\", \"Outlier_IF\": \"Normal\"}, {\"UMAP_Component_1\": 6.312195777893066, \"UMAP_Component_2\": 6.321323394775391, \"localization_site\": \"ME3\", \"Z1\": -1.3296312594193627, \"Z2\": -0.05002481458288315, \"Outlier_Z\": \"Normal\", \"Outlier_IQR\": \"Normal\", \"Outlier_IF\": \"Normal\"}, {\"UMAP_Component_1\": 10.624245643615723, \"UMAP_Component_2\": 8.288268089294434, \"localization_site\": \"CYT\", \"Z1\": 0.06471032341651756, \"Z2\": 0.750165808204082, \"Outlier_Z\": \"Normal\", \"Outlier_IQR\": \"Normal\", \"Outlier_IF\": \"Normal\"}, {\"UMAP_Component_1\": 8.301095962524414, \"UMAP_Component_2\": 10.891672134399414, \"localization_site\": \"ME3\", \"Z1\": -0.6865018156747026, \"Z2\": 1.8092802357848976, \"Outlier_Z\": \"Normal\", \"Outlier_IQR\": \"Normal\", \"Outlier_IF\": \"Outlier\"}, {\"UMAP_Component_1\": 13.239133834838867, \"UMAP_Component_2\": 5.29132604598999, \"localization_site\": \"NUC\", \"Z1\": 0.9102588335281672, \"Z2\": -0.4690473840990252, \"Outlier_Z\": \"Normal\", \"Outlier_IQR\": \"Normal\", \"Outlier_IF\": \"Normal\"}, {\"UMAP_Component_1\": 12.304369926452637, \"UMAP_Component_2\": 6.304327964782715, \"localization_site\": \"CYT\", \"Z1\": 0.6079941964798021, \"Z2\": -0.05693887970543957, \"Outlier_Z\": \"Normal\", \"Outlier_IQR\": \"Normal\", \"Outlier_IF\": \"Normal\"}, {\"UMAP_Component_1\": 11.045333862304688, \"UMAP_Component_2\": 5.176999092102051, \"localization_site\": \"CYT\", \"Z1\": 0.20087313035147714, \"Z2\": -0.5155577698195024, \"Outlier_Z\": \"Normal\", \"Outlier_IQR\": \"Normal\", \"Outlier_IF\": \"Normal\"}, {\"UMAP_Component_1\": 11.116901397705078, \"UMAP_Component_2\": 5.229365825653076, \"localization_site\": \"CYT\", \"Z1\": 0.2240151611018845, \"Z2\": -0.4942539836732629, \"Outlier_Z\": \"Normal\", \"Outlier_IQR\": \"Normal\", \"Outlier_IF\": \"Normal\"}, {\"UMAP_Component_1\": 9.822319030761719, \"UMAP_Component_2\": 4.633728981018066, \"localization_site\": \"CYT\", \"Z1\": -0.19460013390762926, \"Z2\": -0.7365704143240469, \"Outlier_Z\": \"Normal\", \"Outlier_IQR\": \"Normal\", \"Outlier_IF\": \"Normal\"}, {\"UMAP_Component_1\": 12.075641632080078, \"UMAP_Component_2\": 5.398983478546143, \"localization_site\": \"CYT\", \"Z1\": 0.5340327670097985, \"Z2\": -0.42525028688281813, \"Outlier_Z\": \"Normal\", \"Outlier_IQR\": \"Normal\", \"Outlier_IF\": \"Normal\"}, {\"UMAP_Component_1\": 11.901909828186035, \"UMAP_Component_2\": 8.214361190795898, \"localization_site\": \"CYT\", \"Z1\": 0.4778549662018398, \"Z2\": 0.7200990720611744, \"Outlier_Z\": \"Normal\", \"Outlier_IQR\": \"Normal\", \"Outlier_IF\": \"Normal\"}, {\"UMAP_Component_1\": 14.485835075378418, \"UMAP_Component_2\": 3.684628963470459, \"localization_site\": \"MIT\", \"Z1\": 1.3133913192806357, \"Z2\": -1.1226824063108083, \"Outlier_Z\": \"Normal\", \"Outlier_IQR\": \"Normal\", \"Outlier_IF\": \"Normal\"}, {\"UMAP_Component_1\": 13.192621231079102, \"UMAP_Component_2\": 4.76918363571167, \"localization_site\": \"MIT\", \"Z1\": 0.895218548845063, \"Z2\": -0.6814648768878907, \"Outlier_Z\": \"Normal\", \"Outlier_IQR\": \"Normal\", \"Outlier_IF\": \"Normal\"}, {\"UMAP_Component_1\": 11.203787803649902, \"UMAP_Component_2\": 8.602736473083496, \"localization_site\": \"NUC\", \"Z1\": 0.2521106916649856, \"Z2\": 0.8780975454675488, \"Outlier_Z\": \"Normal\", \"Outlier_IQR\": \"Normal\", \"Outlier_IF\": \"Normal\"}, {\"UMAP_Component_1\": 9.030275344848633, \"UMAP_Component_2\": 9.088225364685059, \"localization_site\": \"NUC\", \"Z1\": -0.4507148545350852, \"Z2\": 1.075603687663275, \"Outlier_Z\": \"Normal\", \"Outlier_IQR\": \"Normal\", \"Outlier_IF\": \"Normal\"}, {\"UMAP_Component_1\": 11.812329292297363, \"UMAP_Component_2\": 10.47093391418457, \"localization_site\": \"NUC\", \"Z1\": 0.44888826356808814, \"Z2\": 1.638115901880574, \"Outlier_Z\": \"Normal\", \"Outlier_IQR\": \"Normal\", \"Outlier_IF\": \"Normal\"}, {\"UMAP_Component_1\": 8.688584327697754, \"UMAP_Component_2\": 6.749965190887451, \"localization_site\": \"CYT\", \"Z1\": -0.5612038350736052, \"Z2\": 0.12435484476351355, \"Outlier_Z\": \"Normal\", \"Outlier_IQR\": \"Normal\", \"Outlier_IF\": \"Normal\"}, {\"UMAP_Component_1\": 9.625655174255371, \"UMAP_Component_2\": 7.104376316070557, \"localization_site\": \"CYT\", \"Z1\": -0.25819322802916794, \"Z2\": 0.26853605116608764, \"Outlier_Z\": \"Normal\", \"Outlier_IQR\": \"Normal\", \"Outlier_IF\": \"Normal\"}, {\"UMAP_Component_1\": 11.635478973388672, \"UMAP_Component_2\": 10.07226276397705, \"localization_site\": \"CYT\", \"Z1\": 0.39170206181463296, \"Z2\": 1.47592887300239, \"Outlier_Z\": \"Normal\", \"Outlier_IQR\": \"Normal\", \"Outlier_IF\": \"Normal\"}, {\"UMAP_Component_1\": 10.705486297607422, \"UMAP_Component_2\": 5.924081325531006, \"localization_site\": \"CYT\", \"Z1\": 0.09098024737492795, \"Z2\": -0.21163046606439181, \"Outlier_Z\": \"Normal\", \"Outlier_IQR\": \"Normal\", \"Outlier_IF\": \"Normal\"}, {\"UMAP_Component_1\": 12.075416564941406, \"UMAP_Component_2\": 10.485297203063965, \"localization_site\": \"CYT\", \"Z1\": 0.5339599894492062, \"Z2\": 1.6439591617880327, \"Outlier_Z\": \"Normal\", \"Outlier_IQR\": \"Normal\", \"Outlier_IF\": \"Normal\"}, {\"UMAP_Component_1\": 9.630084991455078, \"UMAP_Component_2\": 2.3720052242279053, \"localization_site\": \"EXC\", \"Z1\": -0.2567608052793726, \"Z2\": -1.6566827827912893, \"Outlier_Z\": \"Normal\", \"Outlier_IQR\": \"Normal\", \"Outlier_IF\": \"Normal\"}, {\"UMAP_Component_1\": 10.679303169250488, \"UMAP_Component_2\": 7.343325614929199, \"localization_site\": \"CYT\", \"Z1\": 0.08251368836618064, \"Z2\": 0.3657451840923997, \"Outlier_Z\": \"Normal\", \"Outlier_IQR\": \"Normal\", \"Outlier_IF\": \"Normal\"}, {\"UMAP_Component_1\": 11.405780792236328, \"UMAP_Component_2\": 5.833644390106201, \"localization_site\": \"CYT\", \"Z1\": 0.31742701039919524, \"Z2\": -0.2484219365526935, \"Outlier_Z\": \"Normal\", \"Outlier_IQR\": \"Normal\", \"Outlier_IF\": \"Normal\"}, {\"UMAP_Component_1\": 14.128143310546875, \"UMAP_Component_2\": 3.856982707977295, \"localization_site\": \"MIT\", \"Z1\": 1.1977283475911864, \"Z2\": -1.0525656152587275, \"Outlier_Z\": \"Normal\", \"Outlier_IQR\": \"Normal\", \"Outlier_IF\": \"Normal\"}, {\"UMAP_Component_1\": 14.715704917907715, \"UMAP_Component_2\": 3.945679187774658, \"localization_site\": \"MIT\", \"Z1\": 1.3877218790049999, \"Z2\": -1.0164821953202638, \"Outlier_Z\": \"Normal\", \"Outlier_IQR\": \"Normal\", \"Outlier_IF\": \"Normal\"}, {\"UMAP_Component_1\": 13.017420768737793, \"UMAP_Component_2\": 7.327759265899658, \"localization_site\": \"MIT\", \"Z1\": 0.8385658436162895, \"Z2\": 0.35941249636651856, \"Outlier_Z\": \"Normal\", \"Outlier_IQR\": \"Normal\", \"Outlier_IF\": \"Normal\"}, {\"UMAP_Component_1\": 14.517520904541016, \"UMAP_Component_2\": 4.695624351501465, \"localization_site\": \"MIT\", \"Z1\": 1.3236372279699684, \"Z2\": -0.7113901969072827, \"Outlier_Z\": \"Normal\", \"Outlier_IQR\": \"Normal\", \"Outlier_IF\": \"Normal\"}, {\"UMAP_Component_1\": 12.891858100891113, \"UMAP_Component_2\": 4.145719528198242, \"localization_site\": \"MIT\", \"Z1\": 0.7979639826725747, \"Z2\": -0.9351019689051006, \"Outlier_Z\": \"Normal\", \"Outlier_IQR\": \"Normal\", \"Outlier_IF\": \"Normal\"}, {\"UMAP_Component_1\": 13.834362983703613, \"UMAP_Component_2\": 3.968134880065918, \"localization_site\": \"MIT\", \"Z1\": 1.1027317360740267, \"Z2\": -1.007346791335736, \"Outlier_Z\": \"Normal\", \"Outlier_IQR\": \"Normal\", \"Outlier_IF\": \"Normal\"}, {\"UMAP_Component_1\": 14.110369682312012, \"UMAP_Component_2\": 6.839731693267822, \"localization_site\": \"MIT\", \"Z1\": 1.1919810789608452, \"Z2\": 0.16087357030028857, \"Outlier_Z\": \"Normal\", \"Outlier_IQR\": \"Normal\", \"Outlier_IF\": \"Normal\"}, {\"UMAP_Component_1\": 13.649164199829102, \"UMAP_Component_2\": 4.198326110839844, \"localization_site\": \"MIT\", \"Z1\": 1.042845980229784, \"Z2\": -0.9137006075734998, \"Outlier_Z\": \"Normal\", \"Outlier_IQR\": \"Normal\", \"Outlier_IF\": \"Normal\"}, {\"UMAP_Component_1\": 13.098625183105469, \"UMAP_Component_2\": 4.560965061187744, \"localization_site\": \"MIT\", \"Z1\": 0.8648240491539265, \"Z2\": -0.7661721649414853, \"Outlier_Z\": \"Normal\", \"Outlier_IQR\": \"Normal\", \"Outlier_IF\": \"Normal\"}, {\"UMAP_Component_1\": 13.688188552856445, \"UMAP_Component_2\": 4.107334613800049, \"localization_site\": \"MIT\", \"Z1\": 1.0554648691257207, \"Z2\": -0.9507176843054896, \"Outlier_Z\": \"Normal\", \"Outlier_IQR\": \"Normal\", \"Outlier_IF\": \"Normal\"}, {\"UMAP_Component_1\": 13.1502046585083, \"UMAP_Component_2\": 4.485939025878906, \"localization_site\": \"MIT\", \"Z1\": 0.8815027540888418, \"Z2\": -0.7966941872872614, \"Outlier_Z\": \"Normal\", \"Outlier_IQR\": \"Normal\", \"Outlier_IF\": \"Normal\"}, {\"UMAP_Component_1\": 13.09596061706543, \"UMAP_Component_2\": 6.12339973449707, \"localization_site\": \"MIT\", \"Z1\": 0.8639624368475911, \"Z2\": -0.1305439351375722, \"Outlier_Z\": \"Normal\", \"Outlier_IQR\": \"Normal\", \"Outlier_IF\": \"Normal\"}, {\"UMAP_Component_1\": -4.68699836730957, \"UMAP_Component_2\": 0.25673907995224, \"localization_site\": \"MIT\", \"Z1\": -4.886323378463474, \"Z2\": -2.517213400690541, \"Outlier_Z\": \"Outlier\", \"Outlier_IQR\": \"Outlier\", \"Outlier_IF\": \"Outlier\"}, {\"UMAP_Component_1\": 6.790528297424316, \"UMAP_Component_2\": 5.743027210235596, \"localization_site\": \"ME3\", \"Z1\": -1.1749579733549163, \"Z2\": -0.2852867339198552, \"Outlier_Z\": \"Normal\", \"Outlier_IQR\": \"Normal\", \"Outlier_IF\": \"Normal\"}, {\"UMAP_Component_1\": 6.579154014587402, \"UMAP_Component_2\": 6.036431312561035, \"localization_site\": \"ME3\", \"Z1\": -1.2433078211719542, \"Z2\": -0.1659243481739499, \"Outlier_Z\": \"Normal\", \"Outlier_IQR\": \"Normal\", \"Outlier_IF\": \"Normal\"}, {\"UMAP_Component_1\": 9.438746452331543, \"UMAP_Component_2\": 2.8772189617156982, \"localization_site\": \"EXC\", \"Z1\": -0.31863190830621657, \"Z2\": -1.4511521970216987, \"Outlier_Z\": \"Normal\", \"Outlier_IQR\": \"Normal\", \"Outlier_IF\": \"Normal\"}, {\"UMAP_Component_1\": 8.985830307006836, \"UMAP_Component_2\": 8.409235954284668, \"localization_site\": \"NUC\", \"Z1\": -0.46508657247512014, \"Z2\": 0.7993778432417087, \"Outlier_Z\": \"Normal\", \"Outlier_IQR\": \"Normal\", \"Outlier_IF\": \"Normal\"}, {\"UMAP_Component_1\": 13.245219230651855, \"UMAP_Component_2\": 5.2092766761779785, \"localization_site\": \"CYT\", \"Z1\": 0.9122266030796083, \"Z2\": -0.502426632896463, \"Outlier_Z\": \"Normal\", \"Outlier_IQR\": \"Normal\", \"Outlier_IF\": \"Normal\"}, {\"UMAP_Component_1\": 13.673186302185059, \"UMAP_Component_2\": 5.248785018920898, \"localization_site\": \"CYT\", \"Z1\": 1.0506137513050466, \"Z2\": -0.48635388541513735, \"Outlier_Z\": \"Normal\", \"Outlier_IQR\": \"Normal\", \"Outlier_IF\": \"Normal\"}, {\"UMAP_Component_1\": 10.711655616760254, \"UMAP_Component_2\": 8.170238494873047, \"localization_site\": \"MIT\", \"Z1\": 0.09297515432184422, \"Z2\": 0.7021491176837436, \"Outlier_Z\": \"Normal\", \"Outlier_IQR\": \"Normal\", \"Outlier_IF\": \"Normal\"}, {\"UMAP_Component_1\": 12.883883476257324, \"UMAP_Component_2\": 7.904700756072998, \"localization_site\": \"CYT\", \"Z1\": 0.7953853133434491, \"Z2\": 0.5941233001933289, \"Outlier_Z\": \"Normal\", \"Outlier_IQR\": \"Normal\", \"Outlier_IF\": \"Normal\"}, {\"UMAP_Component_1\": 9.04764461517334, \"UMAP_Component_2\": 10.370492935180664, \"localization_site\": \"NUC\", \"Z1\": -0.4450983388102149, \"Z2\": 1.597254595629093, \"Outlier_Z\": \"Normal\", \"Outlier_IQR\": \"Normal\", \"Outlier_IF\": \"Normal\"}, {\"UMAP_Component_1\": 9.855173110961914, \"UMAP_Component_2\": 5.768061637878418, \"localization_site\": \"CYT\", \"Z1\": -0.18397646033810294, \"Z2\": -0.27510225120285464, \"Outlier_Z\": \"Normal\", \"Outlier_IQR\": \"Normal\", \"Outlier_IF\": \"Normal\"}, {\"UMAP_Component_1\": 7.4627861976623535, \"UMAP_Component_2\": 6.125480651855469, \"localization_site\": \"ME3\", \"Z1\": -0.9575771048860545, \"Z2\": -0.12969737826099859, \"Outlier_Z\": \"Normal\", \"Outlier_IQR\": \"Normal\", \"Outlier_IF\": \"Normal\"}, {\"UMAP_Component_1\": 10.418588638305664, \"UMAP_Component_2\": 2.063231945037842, \"localization_site\": \"EXC\", \"Z1\": -0.0017907893337768279, \"Z2\": -1.7822976428651696, \"Outlier_Z\": \"Normal\", \"Outlier_IQR\": \"Normal\", \"Outlier_IF\": \"Outlier\"}, {\"UMAP_Component_1\": 8.767908096313477, \"UMAP_Component_2\": 3.4063961505889893, \"localization_site\": \"MIT\", \"Z1\": -0.5355537538982064, \"Z2\": -1.235872822106323, \"Outlier_Z\": \"Normal\", \"Outlier_IQR\": \"Normal\", \"Outlier_IF\": \"Normal\"}, {\"UMAP_Component_1\": 9.51014232635498, \"UMAP_Component_2\": 2.3920109272003174, \"localization_site\": \"MIT\", \"Z1\": -0.2955453858647356, \"Z2\": -1.648544081197191, \"Outlier_Z\": \"Normal\", \"Outlier_IQR\": \"Normal\", \"Outlier_IF\": \"Normal\"}, {\"UMAP_Component_1\": 14.212873458862305, \"UMAP_Component_2\": 6.975287437438965, \"localization_site\": \"CYT\", \"Z1\": 1.2251266321182732, \"Z2\": 0.21602023286427097, \"Outlier_Z\": \"Normal\", \"Outlier_IQR\": \"Normal\", \"Outlier_IF\": \"Normal\"}, {\"UMAP_Component_1\": 7.407747745513916, \"UMAP_Component_2\": 5.982902526855469, \"localization_site\": \"ME3\", \"Z1\": -0.9753743022458369, \"Z2\": -0.18770087930373888, \"Outlier_Z\": \"Normal\", \"Outlier_IQR\": \"Normal\", \"Outlier_IF\": \"Normal\"}, {\"UMAP_Component_1\": 7.126296520233154, \"UMAP_Component_2\": 6.392987251281738, \"localization_site\": \"ME3\", \"Z1\": -1.0663841836641044, \"Z2\": -0.020870590710232804, \"Outlier_Z\": \"Normal\", \"Outlier_IQR\": \"Normal\", \"Outlier_IF\": \"Normal\"}, {\"UMAP_Component_1\": 13.79503059387207, \"UMAP_Component_2\": 6.9182448387146, \"localization_site\": \"CYT\", \"Z1\": 1.0900132406015166, \"Z2\": 0.192814215569617, \"Outlier_Z\": \"Normal\", \"Outlier_IQR\": \"Normal\", \"Outlier_IF\": \"Normal\"}, {\"UMAP_Component_1\": 9.488056182861328, \"UMAP_Component_2\": 10.133296012878418, \"localization_site\": \"NUC\", \"Z1\": -0.302687146567106, \"Z2\": 1.5007583629139194, \"Outlier_Z\": \"Normal\", \"Outlier_IQR\": \"Normal\", \"Outlier_IF\": \"Normal\"}, {\"UMAP_Component_1\": 11.884678840637207, \"UMAP_Component_2\": 7.749380111694336, \"localization_site\": \"CYT\", \"Z1\": 0.47228316550360466, \"Z2\": 0.5309358991935135, \"Outlier_Z\": \"Normal\", \"Outlier_IQR\": \"Normal\", \"Outlier_IF\": \"Normal\"}, {\"UMAP_Component_1\": 7.536913871765137, \"UMAP_Component_2\": 5.271473407745361, \"localization_site\": \"ME3\", \"Z1\": -0.9336072293839086, \"Z2\": -0.4771238160420282, \"Outlier_Z\": \"Normal\", \"Outlier_IQR\": \"Normal\", \"Outlier_IF\": \"Normal\"}, {\"UMAP_Component_1\": 11.644031524658203, \"UMAP_Component_2\": 9.98095703125, \"localization_site\": \"CYT\", \"Z1\": 0.39446760911714424, \"Z2\": 1.4387839591985254, \"Outlier_Z\": \"Normal\", \"Outlier_IQR\": \"Normal\", \"Outlier_IF\": \"Normal\"}, {\"UMAP_Component_1\": 9.16375732421875, \"UMAP_Component_2\": 6.495163440704346, \"localization_site\": \"CYT\", \"Z1\": -0.40755221027289884, \"Z2\": 0.02069663224011415, \"Outlier_Z\": \"Normal\", \"Outlier_IQR\": \"Normal\", \"Outlier_IF\": \"Normal\"}, {\"UMAP_Component_1\": 9.869028091430664, \"UMAP_Component_2\": 4.343885898590088, \"localization_site\": \"CYT\", \"Z1\": -0.1794963230487538, \"Z2\": -0.8544841092463381, \"Outlier_Z\": \"Normal\", \"Outlier_IQR\": \"Normal\", \"Outlier_IF\": \"Normal\"}, {\"UMAP_Component_1\": 9.04764175415039, \"UMAP_Component_2\": 6.240665912628174, \"localization_site\": \"CYT\", \"Z1\": -0.445099263948697, \"Z2\": -0.08283781692690258, \"Outlier_Z\": \"Normal\", \"Outlier_IQR\": \"Normal\", \"Outlier_IF\": \"Normal\"}, {\"UMAP_Component_1\": -4.689702033996582, \"UMAP_Component_2\": 0.25774314999580383, \"localization_site\": \"POX\", \"Z1\": -4.887197634329065, \"Z2\": -2.5168049258433736, \"Outlier_Z\": \"Outlier\", \"Outlier_IQR\": \"Outlier\", \"Outlier_IF\": \"Outlier\"}, {\"UMAP_Component_1\": 7.5860748291015625, \"UMAP_Component_2\": 5.817525386810303, \"localization_site\": \"NUC\", \"Z1\": -0.9177105748458676, \"Z2\": -0.2549794545764547, \"Outlier_Z\": \"Normal\", \"Outlier_IQR\": \"Normal\", \"Outlier_IF\": \"Normal\"}, {\"UMAP_Component_1\": 9.157408714294434, \"UMAP_Component_2\": 10.339764595031738, \"localization_site\": \"NUC\", \"Z1\": -0.4096050925646938, \"Z2\": 1.5847537206886357, \"Outlier_Z\": \"Normal\", \"Outlier_IQR\": \"Normal\", \"Outlier_IF\": \"Normal\"}, {\"UMAP_Component_1\": 13.963764190673828, \"UMAP_Component_2\": 5.165733814239502, \"localization_site\": \"NUC\", \"Z1\": 1.1445748244812348, \"Z2\": -0.5201406997482493, \"Outlier_Z\": \"Normal\", \"Outlier_IQR\": \"Normal\", \"Outlier_IF\": \"Normal\"}, {\"UMAP_Component_1\": 8.254223823547363, \"UMAP_Component_2\": 11.020755767822266, \"localization_site\": \"NUC\", \"Z1\": -0.7016583594270582, \"Z2\": 1.861793920235742, \"Outlier_Z\": \"Normal\", \"Outlier_IQR\": \"Normal\", \"Outlier_IF\": \"Outlier\"}, {\"UMAP_Component_1\": 14.571280479431152, \"UMAP_Component_2\": 4.262810707092285, \"localization_site\": \"MIT\", \"Z1\": 1.341020888428249, \"Z2\": -0.8874670437223188, \"Outlier_Z\": \"Normal\", \"Outlier_IQR\": \"Normal\", \"Outlier_IF\": \"Normal\"}, {\"UMAP_Component_1\": 12.399176597595215, \"UMAP_Component_2\": 4.070713043212891, \"localization_site\": \"MIT\", \"Z1\": 0.6386508187408688, \"Z2\": -0.9656160378063441, \"Outlier_Z\": \"Normal\", \"Outlier_IQR\": \"Normal\", \"Outlier_IF\": \"Normal\"}, {\"UMAP_Component_1\": 14.401768684387207, \"UMAP_Component_2\": 4.735850811004639, \"localization_site\": \"MIT\", \"Z1\": 1.286207666881398, \"Z2\": -0.6950253058292292, \"Outlier_Z\": \"Normal\", \"Outlier_IQR\": \"Normal\", \"Outlier_IF\": \"Normal\"}, {\"UMAP_Component_1\": 14.585541725158691, \"UMAP_Component_2\": 7.402659893035889, \"localization_site\": \"MIT\", \"Z1\": 1.3456323953820575, \"Z2\": 0.38988350027541585, \"Outlier_Z\": \"Normal\", \"Outlier_IQR\": \"Normal\", \"Outlier_IF\": \"Normal\"}, {\"UMAP_Component_1\": 12.525827407836914, \"UMAP_Component_2\": 9.968535423278809, \"localization_site\": \"MIT\", \"Z1\": 0.6796045406872783, \"Z2\": 1.433730612123653, \"Outlier_Z\": \"Normal\", \"Outlier_IQR\": \"Normal\", \"Outlier_IF\": \"Outlier\"}, {\"UMAP_Component_1\": 8.14186954498291, \"UMAP_Component_2\": 3.8935110569000244, \"localization_site\": \"MIT\", \"Z1\": -0.7379891643783799, \"Z2\": -1.037705186109241, \"Outlier_Z\": \"Normal\", \"Outlier_IQR\": \"Normal\", \"Outlier_IF\": \"Normal\"}, {\"UMAP_Component_1\": 13.055798530578613, \"UMAP_Component_2\": 4.196282386779785, \"localization_site\": \"MIT\", \"Z1\": 0.85097565121527, \"Z2\": -0.9145320335068166, \"Outlier_Z\": \"Normal\", \"Outlier_IQR\": \"Normal\", \"Outlier_IF\": \"Normal\"}, {\"UMAP_Component_1\": 12.606569290161133, \"UMAP_Component_2\": 3.800381660461426, \"localization_site\": \"MIT\", \"Z1\": 0.705713182170308, \"Z2\": -1.0755920010988198, \"Outlier_Z\": \"Normal\", \"Outlier_IQR\": \"Normal\", \"Outlier_IF\": \"Normal\"}, {\"UMAP_Component_1\": 13.197437286376953, \"UMAP_Component_2\": 3.7119240760803223, \"localization_site\": \"MIT\", \"Z1\": 0.8967758652899428, \"Z2\": -1.1115782338248261, \"Outlier_Z\": \"Normal\", \"Outlier_IQR\": \"Normal\", \"Outlier_IF\": \"Normal\"}, {\"UMAP_Component_1\": 7.285488605499268, \"UMAP_Component_2\": 4.91051721572876, \"localization_site\": \"ME3\", \"Z1\": -1.0149079366222122, \"Z2\": -0.6239676804848977, \"Outlier_Z\": \"Normal\", \"Outlier_IQR\": \"Normal\", \"Outlier_IF\": \"Normal\"}, {\"UMAP_Component_1\": 10.54247760772705, \"UMAP_Component_2\": 5.117649555206299, \"localization_site\": \"MIT\", \"Z1\": 0.03826986559790547, \"Z2\": -0.5397022935689829, \"Outlier_Z\": \"Normal\", \"Outlier_IQR\": \"Normal\", \"Outlier_IF\": \"Normal\"}, {\"UMAP_Component_1\": 11.642491340637207, \"UMAP_Component_2\": 9.247245788574219, \"localization_site\": \"NUC\", \"Z1\": 0.3939695762342767, \"Z2\": 1.1402962295442398, \"Outlier_Z\": \"Normal\", \"Outlier_IQR\": \"Normal\", \"Outlier_IF\": \"Normal\"}, {\"UMAP_Component_1\": 13.869961738586426, \"UMAP_Component_2\": 3.4254517555236816, \"localization_site\": \"MIT\", \"Z1\": 1.1142429258273876, \"Z2\": -1.2281206385178556, \"Outlier_Z\": \"Normal\", \"Outlier_IQR\": \"Normal\", \"Outlier_IF\": \"Normal\"}, {\"UMAP_Component_1\": 10.84699821472168, \"UMAP_Component_2\": 6.271662712097168, \"localization_site\": \"NUC\", \"Z1\": 0.13673944697689405, \"Z2\": -0.07022772761396336, \"Outlier_Z\": \"Normal\", \"Outlier_IQR\": \"Normal\", \"Outlier_IF\": \"Normal\"}, {\"UMAP_Component_1\": 13.833357810974121, \"UMAP_Component_2\": 5.653911113739014, \"localization_site\": \"CYT\", \"Z1\": 1.1024067040873133, \"Z2\": -0.32154086193608794, \"Outlier_Z\": \"Normal\", \"Outlier_IQR\": \"Normal\", \"Outlier_IF\": \"Normal\"}, {\"UMAP_Component_1\": 10.56289005279541, \"UMAP_Component_2\": 5.481503009796143, \"localization_site\": \"CYT\", \"Z1\": 0.04487042028824339, \"Z2\": -0.39167976744369787, \"Outlier_Z\": \"Normal\", \"Outlier_IQR\": \"Normal\", \"Outlier_IF\": \"Normal\"}, {\"UMAP_Component_1\": 9.83173656463623, \"UMAP_Component_2\": 5.989955425262451, \"localization_site\": \"CYT\", \"Z1\": -0.19155488640402774, \"Z2\": -0.18483162569205233, \"Outlier_Z\": \"Normal\", \"Outlier_IQR\": \"Normal\", \"Outlier_IF\": \"Normal\"}, {\"UMAP_Component_1\": 13.927765846252441, \"UMAP_Component_2\": 7.061487674713135, \"localization_site\": \"CYT\", \"Z1\": 1.132934423719873, \"Z2\": 0.25108813372645983, \"Outlier_Z\": \"Normal\", \"Outlier_IQR\": \"Normal\", \"Outlier_IF\": \"Normal\"}, {\"UMAP_Component_1\": 12.830779075622559, \"UMAP_Component_2\": 3.948044776916504, \"localization_site\": \"NUC\", \"Z1\": 0.778213509597571, \"Z2\": -1.01551982853184, \"Outlier_Z\": \"Normal\", \"Outlier_IQR\": \"Normal\", \"Outlier_IF\": \"Normal\"}, {\"UMAP_Component_1\": 9.185707092285156, \"UMAP_Component_2\": 6.385568141937256, \"localization_site\": \"NUC\", \"Z1\": -0.4004545478381755, \"Z2\": -0.02388882591706338, \"Outlier_Z\": \"Normal\", \"Outlier_IQR\": \"Normal\", \"Outlier_IF\": \"Normal\"}, {\"UMAP_Component_1\": 10.563281059265137, \"UMAP_Component_2\": 9.327279090881348, \"localization_site\": \"CYT\", \"Z1\": 0.04499685588079798, \"Z2\": 1.1728553036225775, \"Outlier_Z\": \"Normal\", \"Outlier_IQR\": \"Normal\", \"Outlier_IF\": \"Normal\"}, {\"UMAP_Component_1\": 8.347410202026367, \"UMAP_Component_2\": 10.614017486572266, \"localization_site\": \"ME3\", \"Z1\": -0.6715256739263579, \"Z2\": 1.6963250285624454, \"Outlier_Z\": \"Normal\", \"Outlier_IQR\": \"Normal\", \"Outlier_IF\": \"Outlier\"}, {\"UMAP_Component_1\": 9.783881187438965, \"UMAP_Component_2\": 6.363517761230469, \"localization_site\": \"NUC\", \"Z1\": -0.207029369414734, \"Z2\": -0.03285934141738256, \"Outlier_Z\": \"Normal\", \"Outlier_IQR\": \"Normal\", \"Outlier_IF\": \"Normal\"}, {\"UMAP_Component_1\": 11.769697189331055, \"UMAP_Component_2\": 9.489642143249512, \"localization_site\": \"CYT\", \"Z1\": 0.4351027750462148, \"Z2\": 1.2389076905321352, \"Outlier_Z\": \"Normal\", \"Outlier_IQR\": \"Normal\", \"Outlier_IF\": \"Normal\"}, {\"UMAP_Component_1\": 12.185551643371582, \"UMAP_Component_2\": 10.660185813903809, \"localization_site\": \"NUC\", \"Z1\": 0.5695731953179071, \"Z2\": 1.7151071848190012, \"Outlier_Z\": \"Normal\", \"Outlier_IQR\": \"Normal\", \"Outlier_IF\": \"Outlier\"}, {\"UMAP_Component_1\": 12.482583999633789, \"UMAP_Component_2\": 8.005986213684082, \"localization_site\": \"CYT\", \"Z1\": 0.6656213809097281, \"Z2\": 0.6353281564513203, \"Outlier_Z\": \"Normal\", \"Outlier_IQR\": \"Normal\", \"Outlier_IF\": \"Normal\"}, {\"UMAP_Component_1\": 12.897316932678223, \"UMAP_Component_2\": 3.91086745262146, \"localization_site\": \"NUC\", \"Z1\": 0.7997291468964345, \"Z2\": -1.0306442732425127, \"Outlier_Z\": \"Normal\", \"Outlier_IQR\": \"Normal\", \"Outlier_IF\": \"Normal\"}, {\"UMAP_Component_1\": 11.12763786315918, \"UMAP_Component_2\": 5.245718479156494, \"localization_site\": \"NUC\", \"Z1\": 0.22748689744573725, \"Z2\": -0.48760141228801657, \"Outlier_Z\": \"Normal\", \"Outlier_IQR\": \"Normal\", \"Outlier_IF\": \"Normal\"}, {\"UMAP_Component_1\": 7.4497504234313965, \"UMAP_Component_2\": 6.1461968421936035, \"localization_site\": \"NUC\", \"Z1\": -0.9617923441900271, \"Z2\": -0.12126963685340465, \"Outlier_Z\": \"Normal\", \"Outlier_IQR\": \"Normal\", \"Outlier_IF\": \"Normal\"}, {\"UMAP_Component_1\": 11.200098991394043, \"UMAP_Component_2\": 10.581239700317383, \"localization_site\": \"CYT\", \"Z1\": 0.25091787978205593, \"Z2\": 1.6829903998512472, \"Outlier_Z\": \"Normal\", \"Outlier_IQR\": \"Normal\", \"Outlier_IF\": \"Outlier\"}, {\"UMAP_Component_1\": 9.137296676635742, \"UMAP_Component_2\": 10.361079216003418, \"localization_site\": \"NUC\", \"Z1\": -0.4161085077144105, \"Z2\": 1.593424915093503, \"Outlier_Z\": \"Normal\", \"Outlier_IQR\": \"Normal\", \"Outlier_IF\": \"Normal\"}, {\"UMAP_Component_1\": 10.574053764343262, \"UMAP_Component_2\": 6.361618995666504, \"localization_site\": \"CYT\", \"Z1\": 0.04848031064542408, \"Z2\": -0.03363179546928817, \"Outlier_Z\": \"Normal\", \"Outlier_IQR\": \"Normal\", \"Outlier_IF\": \"Normal\"}, {\"UMAP_Component_1\": 10.829662322998047, \"UMAP_Component_2\": 7.148921966552734, \"localization_site\": \"CYT\", \"Z1\": 0.13113372453431496, \"Z2\": 0.2866580715264518, \"Outlier_Z\": \"Normal\", \"Outlier_IQR\": \"Normal\", \"Outlier_IF\": \"Normal\"}, {\"UMAP_Component_1\": 8.503690719604492, \"UMAP_Component_2\": 10.937167167663574, \"localization_site\": \"NUC\", \"Z1\": -0.6209909094797565, \"Z2\": 1.8277884831712146, \"Outlier_Z\": \"Normal\", \"Outlier_IQR\": \"Normal\", \"Outlier_IF\": \"Outlier\"}, {\"UMAP_Component_1\": 10.822660446166992, \"UMAP_Component_2\": 8.11308479309082, \"localization_site\": \"NUC\", \"Z1\": 0.1288696022891056, \"Z2\": 0.6788979015457712, \"Outlier_Z\": \"Normal\", \"Outlier_IQR\": \"Normal\", \"Outlier_IF\": \"Normal\"}, {\"UMAP_Component_1\": 10.58150863647461, \"UMAP_Component_2\": 6.3906354904174805, \"localization_site\": \"NUC\", \"Z1\": 0.050890913150300345, \"Z2\": -0.021827331891548337, \"Outlier_Z\": \"Normal\", \"Outlier_IQR\": \"Normal\", \"Outlier_IF\": \"Normal\"}, {\"UMAP_Component_1\": 9.447354316711426, \"UMAP_Component_2\": 9.741557121276855, \"localization_site\": \"CYT\", \"Z1\": -0.31584847499305124, \"Z2\": 1.3413915090750634, \"Outlier_Z\": \"Normal\", \"Outlier_IQR\": \"Normal\", \"Outlier_IF\": \"Normal\"}, {\"UMAP_Component_1\": 8.866131782531738, \"UMAP_Component_2\": 9.205022811889648, \"localization_site\": \"NUC\", \"Z1\": -0.50379220791001, \"Z2\": 1.1231191171916186, \"Outlier_Z\": \"Normal\", \"Outlier_IQR\": \"Normal\", \"Outlier_IF\": \"Normal\"}, {\"UMAP_Component_1\": 10.049062728881836, \"UMAP_Component_2\": 8.859292030334473, \"localization_site\": \"CYT\", \"Z1\": -0.1212804421647138, \"Z2\": 0.9824692401614427, \"Outlier_Z\": \"Normal\", \"Outlier_IQR\": \"Normal\", \"Outlier_IF\": \"Normal\"}, {\"UMAP_Component_1\": 8.940938949584961, \"UMAP_Component_2\": 5.659236907958984, \"localization_site\": \"NUC\", \"Z1\": -0.4796026120183638, \"Z2\": -0.3193742272535833, \"Outlier_Z\": \"Normal\", \"Outlier_IQR\": \"Normal\", \"Outlier_IF\": \"Normal\"}, {\"UMAP_Component_1\": 11.248642921447754, \"UMAP_Component_2\": 8.833203315734863, \"localization_site\": \"NUC\", \"Z1\": 0.26661501278745586, \"Z2\": 0.9718558533990469, \"Outlier_Z\": \"Normal\", \"Outlier_IQR\": \"Normal\", \"Outlier_IF\": \"Normal\"}, {\"UMAP_Component_1\": 12.015417098999023, \"UMAP_Component_2\": 8.673359870910645, \"localization_site\": \"CYT\", \"Z1\": 0.5145586019614506, \"Z2\": 0.9068284909019123, \"Outlier_Z\": \"Normal\", \"Outlier_IQR\": \"Normal\", \"Outlier_IF\": \"Normal\"}, {\"UMAP_Component_1\": 14.043855667114258, \"UMAP_Component_2\": 3.3803257942199707, \"localization_site\": \"NUC\", \"Z1\": 1.1704731511493323, \"Z2\": -1.2464787403903164, \"Outlier_Z\": \"Normal\", \"Outlier_IQR\": \"Normal\", \"Outlier_IF\": \"Normal\"}, {\"UMAP_Component_1\": 10.298087120056152, \"UMAP_Component_2\": 7.805490970611572, \"localization_site\": \"NUC\", \"Z1\": -0.04075608030264468, \"Z2\": 0.553762866960939, \"Outlier_Z\": \"Normal\", \"Outlier_IQR\": \"Normal\", \"Outlier_IF\": \"Normal\"}, {\"UMAP_Component_1\": 10.307696342468262, \"UMAP_Component_2\": 3.082836627960205, \"localization_site\": \"MIT\", \"Z1\": -0.03764884852074201, \"Z2\": -1.3675030080705952, \"Outlier_Z\": \"Normal\", \"Outlier_IQR\": \"Normal\", \"Outlier_IF\": \"Normal\"}, {\"UMAP_Component_1\": 12.606993675231934, \"UMAP_Component_2\": 9.898204803466797, \"localization_site\": \"CYT\", \"Z1\": 0.7058504110451539, \"Z2\": 1.405118774370824, \"Outlier_Z\": \"Normal\", \"Outlier_IQR\": \"Normal\", \"Outlier_IF\": \"Outlier\"}, {\"UMAP_Component_1\": 12.623247146606445, \"UMAP_Component_2\": 9.90761661529541, \"localization_site\": \"CYT\", \"Z1\": 0.7111061227620026, \"Z2\": 1.4089476789606061, \"Outlier_Z\": \"Normal\", \"Outlier_IQR\": \"Normal\", \"Outlier_IF\": \"Outlier\"}, {\"UMAP_Component_1\": 10.196110725402832, \"UMAP_Component_2\": 7.086053848266602, \"localization_site\": \"CYT\", \"Z1\": -0.07373109959987106, \"Z2\": 0.26108212174758616, \"Outlier_Z\": \"Normal\", \"Outlier_IQR\": \"Normal\", \"Outlier_IF\": \"Normal\"}, {\"UMAP_Component_1\": 8.968130111694336, \"UMAP_Component_2\": 9.553027153015137, \"localization_site\": \"NUC\", \"Z1\": -0.47081009588442085, \"Z2\": 1.2646939216249802, \"Outlier_Z\": \"Normal\", \"Outlier_IQR\": \"Normal\", \"Outlier_IF\": \"Normal\"}, {\"UMAP_Component_1\": 11.333773612976074, \"UMAP_Component_2\": 5.889057159423828, \"localization_site\": \"NUC\", \"Z1\": 0.2941428167020375, \"Z2\": -0.22587896495101129, \"Outlier_Z\": \"Normal\", \"Outlier_IQR\": \"Normal\", \"Outlier_IF\": \"Normal\"}, {\"UMAP_Component_1\": 7.559125900268555, \"UMAP_Component_2\": 6.2236127853393555, \"localization_site\": \"ME3\", \"Z1\": -0.9264247625883255, \"Z2\": -0.08977535441015226, \"Outlier_Z\": \"Normal\", \"Outlier_IQR\": \"Normal\", \"Outlier_IF\": \"Normal\"}, {\"UMAP_Component_1\": 7.337520122528076, \"UMAP_Component_2\": 6.458702087402344, \"localization_site\": \"ME3\", \"Z1\": -0.9980830598071242, \"Z2\": 0.005863458187135185, \"Outlier_Z\": \"Normal\", \"Outlier_IQR\": \"Normal\", \"Outlier_IF\": \"Normal\"}, {\"UMAP_Component_1\": 6.9603118896484375, \"UMAP_Component_2\": 5.87897253036499, \"localization_site\": \"ME3\", \"Z1\": -1.120056863652265, \"Z2\": -0.22998158442458025, \"Outlier_Z\": \"Normal\", \"Outlier_IQR\": \"Normal\", \"Outlier_IF\": \"Normal\"}, {\"UMAP_Component_1\": 8.773287773132324, \"UMAP_Component_2\": 9.21617603302002, \"localization_site\": \"ME3\", \"Z1\": -0.5338141851723516, \"Z2\": 1.1276564603041428, \"Outlier_Z\": \"Normal\", \"Outlier_IQR\": \"Normal\", \"Outlier_IF\": \"Normal\"}, {\"UMAP_Component_1\": 6.7571845054626465, \"UMAP_Component_2\": 6.169759750366211, \"localization_site\": \"ME3\", \"Z1\": -1.1857399997946299, \"Z2\": -0.11168379632730832, \"Outlier_Z\": \"Normal\", \"Outlier_IQR\": \"Normal\", \"Outlier_IF\": \"Normal\"}, {\"UMAP_Component_1\": 10.984869956970215, \"UMAP_Component_2\": 9.491504669189453, \"localization_site\": \"NUC\", \"Z1\": 0.18132156205012626, \"Z2\": 1.239665401613688, \"Outlier_Z\": \"Normal\", \"Outlier_IQR\": \"Normal\", \"Outlier_IF\": \"Normal\"}, {\"UMAP_Component_1\": 8.966619491577148, \"UMAP_Component_2\": 5.111386775970459, \"localization_site\": \"CYT\", \"Z1\": -0.47129856900297323, \"Z2\": -0.5422501116296882, \"Outlier_Z\": \"Normal\", \"Outlier_IQR\": \"Normal\", \"Outlier_IF\": \"Normal\"}, {\"UMAP_Component_1\": 11.403207778930664, \"UMAP_Component_2\": 5.049007892608643, \"localization_site\": \"CYT\", \"Z1\": 0.3165950025242872, \"Z2\": -0.567627031308791, \"Outlier_Z\": \"Normal\", \"Outlier_IQR\": \"Normal\", \"Outlier_IF\": \"Normal\"}, {\"UMAP_Component_1\": 11.424190521240234, \"UMAP_Component_2\": 9.43064022064209, \"localization_site\": \"CYT\", \"Z1\": 0.3233799681520584, \"Z2\": 1.2149045829061704, \"Outlier_Z\": \"Normal\", \"Outlier_IQR\": \"Normal\", \"Outlier_IF\": \"Normal\"}, {\"UMAP_Component_1\": 13.725449562072754, \"UMAP_Component_2\": 3.540100336074829, \"localization_site\": \"MIT\", \"Z1\": 1.0675135643371856, \"Z2\": -1.1814794089354972, \"Outlier_Z\": \"Normal\", \"Outlier_IQR\": \"Normal\", \"Outlier_IF\": \"Normal\"}, {\"UMAP_Component_1\": -4.682748794555664, \"UMAP_Component_2\": 0.24830953776836395, \"localization_site\": \"POX\", \"Z1\": -4.884949239438051, \"Z2\": -2.5206426992512583, \"Outlier_Z\": \"Outlier\", \"Outlier_IQR\": \"Outlier\", \"Outlier_IF\": \"Outlier\"}, {\"UMAP_Component_1\": 12.123249053955078, \"UMAP_Component_2\": 9.41623306274414, \"localization_site\": \"NUC\", \"Z1\": 0.5494270713520556, \"Z2\": 1.2090434762451268, \"Outlier_Z\": \"Normal\", \"Outlier_IQR\": \"Normal\", \"Outlier_IF\": \"Normal\"}, {\"UMAP_Component_1\": 11.42091178894043, \"UMAP_Component_2\": 8.221617698669434, \"localization_site\": \"NUC\", \"Z1\": 0.322319759451564, \"Z2\": 0.7230511578878694, \"Outlier_Z\": \"Normal\", \"Outlier_IQR\": \"Normal\", \"Outlier_IF\": \"Normal\"}, {\"UMAP_Component_1\": 12.05643367767334, \"UMAP_Component_2\": 8.975591659545898, \"localization_site\": \"NUC\", \"Z1\": 0.5278216956204276, \"Z2\": 1.029782147833887, \"Outlier_Z\": \"Normal\", \"Outlier_IQR\": \"Normal\", \"Outlier_IF\": \"Normal\"}, {\"UMAP_Component_1\": 14.737990379333496, \"UMAP_Component_2\": 4.190828323364258, \"localization_site\": \"CYT\", \"Z1\": 1.3949280910216237, \"Z2\": -0.9167508505449121, \"Outlier_Z\": \"Normal\", \"Outlier_IQR\": \"Normal\", \"Outlier_IF\": \"Normal\"}, {\"UMAP_Component_1\": 12.29667854309082, \"UMAP_Component_2\": 9.402603149414062, \"localization_site\": \"CYT\", \"Z1\": 0.605507115860405, \"Z2\": 1.20349856750086, \"Outlier_Z\": \"Normal\", \"Outlier_IQR\": \"Normal\", \"Outlier_IF\": \"Normal\"}, {\"UMAP_Component_1\": 11.052027702331543, \"UMAP_Component_2\": 7.847318649291992, \"localization_site\": \"CYT\", \"Z1\": 0.203037646020113, \"Z2\": 0.5707791645448436, \"Outlier_Z\": \"Normal\", \"Outlier_IQR\": \"Normal\", \"Outlier_IF\": \"Normal\"}, {\"UMAP_Component_1\": 11.593034744262695, \"UMAP_Component_2\": 7.457102298736572, \"localization_site\": \"CYT\", \"Z1\": 0.3779773240530847, \"Z2\": 0.4120317094472568, \"Outlier_Z\": \"Normal\", \"Outlier_IQR\": \"Normal\", \"Outlier_IF\": \"Normal\"}, {\"UMAP_Component_1\": 13.733504295349121, \"UMAP_Component_2\": 3.990016222000122, \"localization_site\": \"CYT\", \"Z1\": 1.0701181375438102, \"Z2\": -0.9984450440326544, \"Outlier_Z\": \"Normal\", \"Outlier_IQR\": \"Normal\", \"Outlier_IF\": \"Normal\"}, {\"UMAP_Component_1\": 9.932364463806152, \"UMAP_Component_2\": 4.988504886627197, \"localization_site\": \"CYT\", \"Z1\": -0.1590159157113677, \"Z2\": -0.5922408082856848, \"Outlier_Z\": \"Normal\", \"Outlier_IQR\": \"Normal\", \"Outlier_IF\": \"Normal\"}, {\"UMAP_Component_1\": 9.148439407348633, \"UMAP_Component_2\": 6.448007583618164, \"localization_site\": \"CYT\", \"Z1\": -0.41250540170609856, \"Z2\": 0.0015127300414448394, \"Outlier_Z\": \"Normal\", \"Outlier_IQR\": \"Normal\", \"Outlier_IF\": \"Normal\"}, {\"UMAP_Component_1\": 9.11709976196289, \"UMAP_Component_2\": 6.336239814758301, \"localization_site\": \"CYT\", \"Z1\": -0.42263936863909635, \"Z2\": -0.0439565303910923, \"Outlier_Z\": \"Normal\", \"Outlier_IQR\": \"Normal\", \"Outlier_IF\": \"Normal\"}, {\"UMAP_Component_1\": 11.468049049377441, \"UMAP_Component_2\": 10.026880264282227, \"localization_site\": \"CYT\", \"Z1\": 0.33756203270326146, \"Z2\": 1.4574664064187477, \"Outlier_Z\": \"Normal\", \"Outlier_IQR\": \"Normal\", \"Outlier_IF\": \"Normal\"}, {\"UMAP_Component_1\": 11.672231674194336, \"UMAP_Component_2\": 5.71246862411499, \"localization_site\": \"CYT\", \"Z1\": 0.4035863907557768, \"Z2\": -0.29771854968339684, \"Outlier_Z\": \"Normal\", \"Outlier_IQR\": \"Normal\", \"Outlier_IF\": \"Normal\"}, {\"UMAP_Component_1\": 11.50338363647461, \"UMAP_Component_2\": 9.994908332824707, \"localization_site\": \"CYT\", \"Z1\": 0.3489878013367744, \"Z2\": 1.444459614811447, \"Outlier_Z\": \"Normal\", \"Outlier_IQR\": \"Normal\", \"Outlier_IF\": \"Normal\"}, {\"UMAP_Component_1\": 9.237135887145996, \"UMAP_Component_2\": 2.179928779602051, \"localization_site\": \"ME1\", \"Z1\": -0.3838245668633179, \"Z2\": -1.7348231444782003, \"Outlier_Z\": \"Normal\", \"Outlier_IQR\": \"Normal\", \"Outlier_IF\": \"Normal\"}, {\"UMAP_Component_1\": 8.273829460144043, \"UMAP_Component_2\": 3.770362615585327, \"localization_site\": \"MIT\", \"Z1\": -0.6953186937886744, \"Z2\": -1.0878043211919115, \"Outlier_Z\": \"Normal\", \"Outlier_IQR\": \"Normal\", \"Outlier_IF\": \"Normal\"}, {\"UMAP_Component_1\": 12.098371505737305, \"UMAP_Component_2\": 10.520742416381836, \"localization_site\": \"CYT\", \"Z1\": 0.5413826838706429, \"Z2\": 1.6583789507117774, \"Outlier_Z\": \"Normal\", \"Outlier_IQR\": \"Normal\", \"Outlier_IF\": \"Normal\"}, {\"UMAP_Component_1\": 13.413567543029785, \"UMAP_Component_2\": 3.874284029006958, \"localization_site\": \"MIT\", \"Z1\": 0.9666636016437361, \"Z2\": -1.0455271078272064, \"Outlier_Z\": \"Normal\", \"Outlier_IQR\": \"Normal\", \"Outlier_IF\": \"Normal\"}, {\"UMAP_Component_1\": 13.703763008117676, \"UMAP_Component_2\": 3.400998830795288, \"localization_site\": \"MIT\", \"Z1\": 1.060501014642816, \"Z2\": -1.2380685547566295, \"Outlier_Z\": \"Normal\", \"Outlier_IQR\": \"Normal\", \"Outlier_IF\": \"Normal\"}, {\"UMAP_Component_1\": 14.17868423461914, \"UMAP_Component_2\": 4.467092990875244, \"localization_site\": \"MIT\", \"Z1\": 1.214071227257097, \"Z2\": -0.8043611138300704, \"Outlier_Z\": \"Normal\", \"Outlier_IQR\": \"Normal\", \"Outlier_IF\": \"Normal\"}, {\"UMAP_Component_1\": 13.724905014038086, \"UMAP_Component_2\": 4.436648368835449, \"localization_site\": \"MIT\", \"Z1\": 1.0673374796460913, \"Z2\": -0.8167465668315815, \"Outlier_Z\": \"Normal\", \"Outlier_IQR\": \"Normal\", \"Outlier_IF\": \"Normal\"}, {\"UMAP_Component_1\": 8.888389587402344, \"UMAP_Component_2\": 2.9380531311035156, \"localization_site\": \"MIT\", \"Z1\": -0.49659493889871326, \"Z2\": -1.4264036964538838, \"Outlier_Z\": \"Normal\", \"Outlier_IQR\": \"Normal\", \"Outlier_IF\": \"Normal\"}, {\"UMAP_Component_1\": 9.039691925048828, \"UMAP_Component_2\": 2.936565637588501, \"localization_site\": \"MIT\", \"Z1\": -0.4476699154109777, \"Z2\": -1.4270088371909304, \"Outlier_Z\": \"Normal\", \"Outlier_IQR\": \"Normal\", \"Outlier_IF\": \"Normal\"}, {\"UMAP_Component_1\": 6.938354015350342, \"UMAP_Component_2\": 5.419970989227295, \"localization_site\": \"MIT\", \"Z1\": -1.1271571473126876, \"Z2\": -0.4167121671840302, \"Outlier_Z\": \"Normal\", \"Outlier_IQR\": \"Normal\", \"Outlier_IF\": \"Normal\"}, {\"UMAP_Component_1\": 13.104613304138184, \"UMAP_Component_2\": 3.622727632522583, \"localization_site\": \"MIT\", \"Z1\": 0.8667603639969761, \"Z2\": -1.1478650485582227, \"Outlier_Z\": \"Normal\", \"Outlier_IQR\": \"Normal\", \"Outlier_IF\": \"Normal\"}, {\"UMAP_Component_1\": 12.937063217163086, \"UMAP_Component_2\": 8.61824893951416, \"localization_site\": \"MIT\", \"Z1\": 0.8125814790693561, \"Z2\": 0.8844083127243527, \"Outlier_Z\": \"Normal\", \"Outlier_IQR\": \"Normal\", \"Outlier_IF\": \"Normal\"}, {\"UMAP_Component_1\": 13.477699279785156, \"UMAP_Component_2\": 3.8950369358062744, \"localization_site\": \"MIT\", \"Z1\": 0.9874011974791479, \"Z2\": -1.0370844294628077, \"Outlier_Z\": \"Normal\", \"Outlier_IQR\": \"Normal\", \"Outlier_IF\": \"Normal\"}, {\"UMAP_Component_1\": 14.1958589553833, \"UMAP_Component_2\": 3.9835286140441895, \"localization_site\": \"MIT\", \"Z1\": 1.219624833565184, \"Z2\": -1.0010843267054825, \"Outlier_Z\": \"Normal\", \"Outlier_IQR\": \"Normal\", \"Outlier_IF\": \"Normal\"}, {\"UMAP_Component_1\": 7.968985557556152, \"UMAP_Component_2\": 4.1405863761901855, \"localization_site\": \"MIT\", \"Z1\": -0.793892815816141, \"Z2\": -0.937190233060993, \"Outlier_Z\": \"Normal\", \"Outlier_IQR\": \"Normal\", \"Outlier_IF\": \"Normal\"}, {\"UMAP_Component_1\": 8.511680603027344, \"UMAP_Component_2\": 4.237025260925293, \"localization_site\": \"MIT\", \"Z1\": -0.6184073060787263, \"Z2\": -0.8979570551012358, \"Outlier_Z\": \"Normal\", \"Outlier_IQR\": \"Normal\", \"Outlier_IF\": \"Normal\"}, {\"UMAP_Component_1\": 14.371135711669922, \"UMAP_Component_2\": 4.649001598358154, \"localization_site\": \"MIT\", \"Z1\": 1.2763022091534804, \"Z2\": -0.7303572222526042, \"Outlier_Z\": \"Normal\", \"Outlier_IQR\": \"Normal\", \"Outlier_IF\": \"Normal\"}, {\"UMAP_Component_1\": 14.094866752624512, \"UMAP_Component_2\": 4.431499481201172, \"localization_site\": \"MIT\", \"Z1\": 1.1869680619058025, \"Z2\": -0.8188412325403903, \"Outlier_Z\": \"Normal\", \"Outlier_IQR\": \"Normal\", \"Outlier_IF\": \"Normal\"}, {\"UMAP_Component_1\": 14.240765571594238, \"UMAP_Component_2\": 4.229965686798096, \"localization_site\": \"MIT\", \"Z1\": 1.2341458071803322, \"Z2\": -0.9008290245232504, \"Outlier_Z\": \"Normal\", \"Outlier_IQR\": \"Normal\", \"Outlier_IF\": \"Normal\"}, {\"UMAP_Component_1\": 14.803242683410645, \"UMAP_Component_2\": 4.091042518615723, \"localization_site\": \"MIT\", \"Z1\": 1.4160280327625274, \"Z2\": -0.9573456194113307, \"Outlier_Z\": \"Normal\", \"Outlier_IQR\": \"Normal\", \"Outlier_IF\": \"Outlier\"}, {\"UMAP_Component_1\": 13.942471504211426, \"UMAP_Component_2\": 4.172220706939697, \"localization_site\": \"MIT\", \"Z1\": 1.137689635517902, \"Z2\": -0.9243207838617158, \"Outlier_Z\": \"Normal\", \"Outlier_IQR\": \"Normal\", \"Outlier_IF\": \"Normal\"}, {\"UMAP_Component_1\": 14.02631664276123, \"UMAP_Component_2\": 3.9200336933135986, \"localization_site\": \"MIT\", \"Z1\": 1.1648017438745237, \"Z2\": -1.0269152716755159, \"Outlier_Z\": \"Normal\", \"Outlier_IQR\": \"Normal\", \"Outlier_IF\": \"Normal\"}, {\"UMAP_Component_1\": 10.051342010498047, \"UMAP_Component_2\": 1.8656666278839111, \"localization_site\": \"MIT\", \"Z1\": -0.12054341517396873, \"Z2\": -1.8626709826011727, \"Outlier_Z\": \"Normal\", \"Outlier_IQR\": \"Normal\", \"Outlier_IF\": \"Outlier\"}, {\"UMAP_Component_1\": 10.339072227478027, \"UMAP_Component_2\": 6.302743911743164, \"localization_site\": \"CYT\", \"Z1\": -0.02750316316697087, \"Z2\": -0.057583302699018284, \"Outlier_Z\": \"Normal\", \"Outlier_IQR\": \"Normal\", \"Outlier_IF\": \"Normal\"}, {\"UMAP_Component_1\": 9.065149307250977, \"UMAP_Component_2\": 5.886061668395996, \"localization_site\": \"CYT\", \"Z1\": -0.4394380331971915, \"Z2\": -0.22709758784254092, \"Outlier_Z\": \"Normal\", \"Outlier_IQR\": \"Normal\", \"Outlier_IF\": \"Normal\"}, {\"UMAP_Component_1\": 12.15898323059082, \"UMAP_Component_2\": 10.44758415222168, \"localization_site\": \"CYT\", \"Z1\": 0.5609820509935693, \"Z2\": 1.6286167732985264, \"Outlier_Z\": \"Normal\", \"Outlier_IQR\": \"Normal\", \"Outlier_IF\": \"Normal\"}, {\"UMAP_Component_1\": 10.328742027282715, \"UMAP_Component_2\": 2.263427495956421, \"localization_site\": \"EXC\", \"Z1\": -0.030843529846364456, \"Z2\": -1.7008542738598766, \"Outlier_Z\": \"Normal\", \"Outlier_IQR\": \"Normal\", \"Outlier_IF\": \"Normal\"}, {\"UMAP_Component_1\": 13.035751342773438, \"UMAP_Component_2\": 4.706081390380859, \"localization_site\": \"MIT\", \"Z1\": 0.8444932058711477, \"Z2\": -0.7071360740146935, \"Outlier_Z\": \"Normal\", \"Outlier_IQR\": \"Normal\", \"Outlier_IF\": \"Normal\"}, {\"UMAP_Component_1\": 9.647506713867188, \"UMAP_Component_2\": 2.4041147232055664, \"localization_site\": \"ME1\", \"Z1\": -0.25112732868233034, \"Z2\": -1.6436200260925837, \"Outlier_Z\": \"Normal\", \"Outlier_IQR\": \"Normal\", \"Outlier_IF\": \"Normal\"}, {\"UMAP_Component_1\": -6.648257255554199, \"UMAP_Component_2\": 4.156533241271973, \"localization_site\": \"ERL\", \"Z1\": -5.520514750953007, \"Z2\": -0.9307027441464075, \"Outlier_Z\": \"Outlier\", \"Outlier_IQR\": \"Outlier\", \"Outlier_IF\": \"Outlier\"}, {\"UMAP_Component_1\": 10.245565414428711, \"UMAP_Component_2\": 4.32591438293457, \"localization_site\": \"VAC\", \"Z1\": -0.057739464177667114, \"Z2\": -0.86179526463616, \"Outlier_Z\": \"Normal\", \"Outlier_IQR\": \"Normal\", \"Outlier_IF\": \"Normal\"}, {\"UMAP_Component_1\": 7.465765476226807, \"UMAP_Component_2\": 5.4011335372924805, \"localization_site\": \"ME3\", \"Z1\": -0.9566137273466873, \"Z2\": -0.424375601970703, \"Outlier_Z\": \"Normal\", \"Outlier_IQR\": \"Normal\", \"Outlier_IF\": \"Normal\"}, {\"UMAP_Component_1\": 10.177525520324707, \"UMAP_Component_2\": 6.416296482086182, \"localization_site\": \"NUC\", \"Z1\": -0.07974079917963678, \"Z2\": -0.011387950976606036, \"Outlier_Z\": \"Normal\", \"Outlier_IQR\": \"Normal\", \"Outlier_IF\": \"Normal\"}, {\"UMAP_Component_1\": 13.806827545166016, \"UMAP_Component_2\": 7.2511887550354, \"localization_site\": \"CYT\", \"Z1\": 1.093827894942737, \"Z2\": 0.3282621519026807, \"Outlier_Z\": \"Normal\", \"Outlier_IQR\": \"Normal\", \"Outlier_IF\": \"Normal\"}, {\"UMAP_Component_1\": 13.633846282958984, \"UMAP_Component_2\": 7.178582191467285, \"localization_site\": \"CYT\", \"Z1\": 1.0378927887965843, \"Z2\": 0.2987244168144057, \"Outlier_Z\": \"Normal\", \"Outlier_IQR\": \"Normal\", \"Outlier_IF\": \"Normal\"}, {\"UMAP_Component_1\": 9.352112770080566, \"UMAP_Component_2\": 4.653189182281494, \"localization_site\": \"NUC\", \"Z1\": -0.34664571830339824, \"Z2\": -0.7286536332310485, \"Outlier_Z\": \"Normal\", \"Outlier_IQR\": \"Normal\", \"Outlier_IF\": \"Normal\"}, {\"UMAP_Component_1\": 13.28406047821045, \"UMAP_Component_2\": 7.3102264404296875, \"localization_site\": \"NUC\", \"Z1\": 0.9247862831126902, \"Z2\": 0.35227980851254637, \"Outlier_Z\": \"Normal\", \"Outlier_IQR\": \"Normal\", \"Outlier_IF\": \"Normal\"}, {\"UMAP_Component_1\": 13.233717918395996, \"UMAP_Component_2\": 8.029082298278809, \"localization_site\": \"NUC\", \"Z1\": 0.9085075463815391, \"Z2\": 0.6447240842408984, \"Outlier_Z\": \"Normal\", \"Outlier_IQR\": \"Normal\", \"Outlier_IF\": \"Normal\"}, {\"UMAP_Component_1\": 8.96611499786377, \"UMAP_Component_2\": 3.2105815410614014, \"localization_site\": \"ME2\", \"Z1\": -0.47146170175531804, \"Z2\": -1.3155339405837698, \"Outlier_Z\": \"Normal\", \"Outlier_IQR\": \"Normal\", \"Outlier_IF\": \"Normal\"}, {\"UMAP_Component_1\": -4.688201427459717, \"UMAP_Component_2\": 0.2556031346321106, \"localization_site\": \"POX\", \"Z1\": -4.8867123991952, \"Z2\": -2.517675524915843, \"Outlier_Z\": \"Outlier\", \"Outlier_IQR\": \"Outlier\", \"Outlier_IF\": \"Outlier\"}, {\"UMAP_Component_1\": 10.889830589294434, \"UMAP_Component_2\": 8.342289924621582, \"localization_site\": \"NUC\", \"Z1\": 0.1505896951925148, \"Z2\": 0.7721429213252496, \"Outlier_Z\": \"Normal\", \"Outlier_IQR\": \"Normal\", \"Outlier_IF\": \"Normal\"}, {\"UMAP_Component_1\": 13.772504806518555, \"UMAP_Component_2\": 5.274012088775635, \"localization_site\": \"NUC\", \"Z1\": 1.082729316952396, \"Z2\": -0.4760910321715246, \"Outlier_Z\": \"Normal\", \"Outlier_IQR\": \"Normal\", \"Outlier_IF\": \"Normal\"}, {\"UMAP_Component_1\": 6.169431686401367, \"UMAP_Component_2\": 6.386356830596924, \"localization_site\": \"ME3\", \"Z1\": -1.3757953612969973, \"Z2\": -0.023567972325438096, \"Outlier_Z\": \"Normal\", \"Outlier_IQR\": \"Normal\", \"Outlier_IF\": \"Normal\"}, {\"UMAP_Component_1\": 10.14023208618164, \"UMAP_Component_2\": 2.1828372478485107, \"localization_site\": \"EXC\", \"Z1\": -0.0917999792938988, \"Z2\": -1.7336399241141627, \"Outlier_Z\": \"Normal\", \"Outlier_IQR\": \"Normal\", \"Outlier_IF\": \"Normal\"}, {\"UMAP_Component_1\": 10.303731918334961, \"UMAP_Component_2\": 2.152893543243408, \"localization_site\": \"EXC\", \"Z1\": -0.03893078207744798, \"Z2\": -1.7458215943478368, \"Outlier_Z\": \"Normal\", \"Outlier_IQR\": \"Normal\", \"Outlier_IF\": \"Normal\"}, {\"UMAP_Component_1\": 12.545586585998535, \"UMAP_Component_2\": 7.635672569274902, \"localization_site\": \"CYT\", \"Z1\": 0.6859938554242018, \"Z2\": 0.4846775018741978, \"Outlier_Z\": \"Normal\", \"Outlier_IQR\": \"Normal\", \"Outlier_IF\": \"Normal\"}, {\"UMAP_Component_1\": 12.75734806060791, \"UMAP_Component_2\": 10.044966697692871, \"localization_site\": \"CYT\", \"Z1\": 0.754468905315818, \"Z2\": 1.4648243125435039, \"Outlier_Z\": \"Normal\", \"Outlier_IQR\": \"Normal\", \"Outlier_IF\": \"Outlier\"}, {\"UMAP_Component_1\": 12.802115440368652, \"UMAP_Component_2\": 10.056917190551758, \"localization_site\": \"CYT\", \"Z1\": 0.768944855524837, \"Z2\": 1.4696860010037898, \"Outlier_Z\": \"Normal\", \"Outlier_IQR\": \"Normal\", \"Outlier_IF\": \"Outlier\"}, {\"UMAP_Component_1\": 12.283577919006348, \"UMAP_Component_2\": 5.159899711608887, \"localization_site\": \"MIT\", \"Z1\": 0.601270906750838, \"Z2\": -0.5225141239885971, \"Outlier_Z\": \"Normal\", \"Outlier_IQR\": \"Normal\", \"Outlier_IF\": \"Normal\"}, {\"UMAP_Component_1\": 12.709207534790039, \"UMAP_Component_2\": 10.100221633911133, \"localization_site\": \"MIT\", \"Z1\": 0.7389022168363951, \"Z2\": 1.4873030746295708, \"Outlier_Z\": \"Normal\", \"Outlier_IQR\": \"Normal\", \"Outlier_IF\": \"Outlier\"}, {\"UMAP_Component_1\": 9.475796699523926, \"UMAP_Component_2\": 6.210046768188477, \"localization_site\": \"MIT\", \"Z1\": -0.3066513649629336, \"Z2\": -0.09529426896984952, \"Outlier_Z\": \"Normal\", \"Outlier_IQR\": \"Normal\", \"Outlier_IF\": \"Normal\"}, {\"UMAP_Component_1\": 10.91861629486084, \"UMAP_Component_2\": 5.888978004455566, \"localization_site\": \"MIT\", \"Z1\": 0.15989782184048526, \"Z2\": -0.225911166702045, \"Outlier_Z\": \"Normal\", \"Outlier_IQR\": \"Normal\", \"Outlier_IF\": \"Normal\"}, {\"UMAP_Component_1\": 12.703470230102539, \"UMAP_Component_2\": 10.064313888549805, \"localization_site\": \"MIT\", \"Z1\": 0.7370470058002769, \"Z2\": 1.4726951188473758, \"Outlier_Z\": \"Normal\", \"Outlier_IQR\": \"Normal\", \"Outlier_IF\": \"Outlier\"}, {\"UMAP_Component_1\": 11.521719932556152, \"UMAP_Component_2\": 8.402815818786621, \"localization_site\": \"CYT\", \"Z1\": 0.3549170138685968, \"Z2\": 0.79676600965184, \"Outlier_Z\": \"Normal\", \"Outlier_IQR\": \"Normal\", \"Outlier_IF\": \"Normal\"}, {\"UMAP_Component_1\": 9.716495513916016, \"UMAP_Component_2\": 10.243727684020996, \"localization_site\": \"CYT\", \"Z1\": -0.22881915608379524, \"Z2\": 1.5456840733079233, \"Outlier_Z\": \"Normal\", \"Outlier_IQR\": \"Normal\", \"Outlier_IF\": \"Normal\"}, {\"UMAP_Component_1\": 10.707511901855469, \"UMAP_Component_2\": 5.8153076171875, \"localization_site\": \"CYT\", \"Z1\": 0.09163524542025955, \"Z2\": -0.2558816855647553, \"Outlier_Z\": \"Normal\", \"Outlier_IQR\": \"Normal\", \"Outlier_IF\": \"Normal\"}, {\"UMAP_Component_1\": 14.036200523376465, \"UMAP_Component_2\": 3.516834020614624, \"localization_site\": \"MIT\", \"Z1\": 1.1679977889507087, \"Z2\": -1.1909445898884432, \"Outlier_Z\": \"Normal\", \"Outlier_IQR\": \"Normal\", \"Outlier_IF\": \"Normal\"}, {\"UMAP_Component_1\": 12.84859848022461, \"UMAP_Component_2\": 8.76745319366455, \"localization_site\": \"MIT\", \"Z1\": 0.783975580443626, \"Z2\": 0.9451074495042302, \"Outlier_Z\": \"Normal\", \"Outlier_IQR\": \"Normal\", \"Outlier_IF\": \"Normal\"}, {\"UMAP_Component_1\": 6.811529636383057, \"UMAP_Component_2\": 5.199337482452393, \"localization_site\": \"ME3\", \"Z1\": -1.1681669943270114, \"Z2\": -0.5064700865021688, \"Outlier_Z\": \"Normal\", \"Outlier_IQR\": \"Normal\", \"Outlier_IF\": \"Normal\"}, {\"UMAP_Component_1\": 6.352430820465088, \"UMAP_Component_2\": 5.960251331329346, \"localization_site\": \"ME3\", \"Z1\": -1.3166208827557477, \"Z2\": -0.1969158177335912, \"Outlier_Z\": \"Normal\", \"Outlier_IQR\": \"Normal\", \"Outlier_IF\": \"Normal\"}, {\"UMAP_Component_1\": -4.677120208740234, \"UMAP_Component_2\": 0.2433086633682251, \"localization_site\": \"POX\", \"Z1\": -4.883129183664253, \"Z2\": -2.5226771503529477, \"Outlier_Z\": \"Outlier\", \"Outlier_IQR\": \"Outlier\", \"Outlier_IF\": \"Outlier\"}, {\"UMAP_Component_1\": 10.281026840209961, \"UMAP_Component_2\": 4.5608415603637695, \"localization_site\": \"NUC\", \"Z1\": -0.046272681071447476, \"Z2\": -0.7662224074325561, \"Outlier_Z\": \"Normal\", \"Outlier_IQR\": \"Normal\", \"Outlier_IF\": \"Normal\"}, {\"UMAP_Component_1\": 11.279519081115723, \"UMAP_Component_2\": 8.723575592041016, \"localization_site\": \"NUC\", \"Z1\": 0.2765991072863524, \"Z2\": 0.9272572041631327, \"Outlier_Z\": \"Normal\", \"Outlier_IQR\": \"Normal\", \"Outlier_IF\": \"Normal\"}, {\"UMAP_Component_1\": 11.6708984375, \"UMAP_Component_2\": 6.681126594543457, \"localization_site\": \"NUC\", \"Z1\": 0.40315527622311503, \"Z2\": 0.0963499906190251, \"Outlier_Z\": \"Normal\", \"Outlier_IQR\": \"Normal\", \"Outlier_IF\": \"Normal\"}, {\"UMAP_Component_1\": 8.026983261108398, \"UMAP_Component_2\": 5.278034210205078, \"localization_site\": \"VAC\", \"Z1\": -0.7751387168863662, \"Z2\": -0.47445475644881646, \"Outlier_Z\": \"Normal\", \"Outlier_IQR\": \"Normal\", \"Outlier_IF\": \"Normal\"}, {\"UMAP_Component_1\": 14.081687927246094, \"UMAP_Component_2\": 7.639617919921875, \"localization_site\": \"NUC\", \"Z1\": 1.1827065656777245, \"Z2\": 0.48628254577813224, \"Outlier_Z\": \"Normal\", \"Outlier_IQR\": \"Normal\", \"Outlier_IF\": \"Normal\"}, {\"UMAP_Component_1\": 10.137998580932617, \"UMAP_Component_2\": 9.800846099853516, \"localization_site\": \"NUC\", \"Z1\": -0.09252220406893016, \"Z2\": 1.3655113965451386, \"Outlier_Z\": \"Normal\", \"Outlier_IQR\": \"Normal\", \"Outlier_IF\": \"Normal\"}, {\"UMAP_Component_1\": 11.19692325592041, \"UMAP_Component_2\": 8.669690132141113, \"localization_site\": \"NUC\", \"Z1\": 0.2498909760669174, \"Z2\": 0.90533557116724, \"Outlier_Z\": \"Normal\", \"Outlier_IQR\": \"Normal\", \"Outlier_IF\": \"Normal\"}, {\"UMAP_Component_1\": 12.032247543334961, \"UMAP_Component_2\": 9.0472993850708, \"localization_site\": \"NUC\", \"Z1\": 0.5200008832721909, \"Z2\": 1.0589542184601224, \"Outlier_Z\": \"Normal\", \"Outlier_IQR\": \"Normal\", \"Outlier_IF\": \"Normal\"}, {\"UMAP_Component_1\": 8.70665454864502, \"UMAP_Component_2\": 8.197525978088379, \"localization_site\": \"NUC\", \"Z1\": -0.5553606604206187, \"Z2\": 0.7132501863864935, \"Outlier_Z\": \"Normal\", \"Outlier_IQR\": \"Normal\", \"Outlier_IF\": \"Normal\"}, {\"UMAP_Component_1\": 11.265253067016602, \"UMAP_Component_2\": 8.840518951416016, \"localization_site\": \"NUC\", \"Z1\": 0.2719860584350739, \"Z2\": 0.9748319935457912, \"Outlier_Z\": \"Normal\", \"Outlier_IQR\": \"Normal\", \"Outlier_IF\": \"Normal\"}, {\"UMAP_Component_1\": 12.86196231842041, \"UMAP_Component_2\": 7.977826118469238, \"localization_site\": \"CYT\", \"Z1\": 0.7882969022935469, \"Z2\": 0.6238720925413913, \"Outlier_Z\": \"Normal\", \"Outlier_IQR\": \"Normal\", \"Outlier_IF\": \"Normal\"}, {\"UMAP_Component_1\": 10.531314849853516, \"UMAP_Component_2\": 4.502179145812988, \"localization_site\": \"CYT\", \"Z1\": 0.03466028362021881, \"Z2\": -0.7900873967046895, \"Outlier_Z\": \"Normal\", \"Outlier_IQR\": \"Normal\", \"Outlier_IF\": \"Normal\"}, {\"UMAP_Component_1\": 8.52556037902832, \"UMAP_Component_2\": 7.768495082855225, \"localization_site\": \"NUC\", \"Z1\": -0.6139191509225322, \"Z2\": 0.5387122340952563, \"Outlier_Z\": \"Normal\", \"Outlier_IQR\": \"Normal\", \"Outlier_IF\": \"Normal\"}, {\"UMAP_Component_1\": 12.797045707702637, \"UMAP_Component_2\": 8.48979663848877, \"localization_site\": \"NUC\", \"Z1\": 0.7673055101345437, \"Z2\": 0.8321514663359699, \"Outlier_Z\": \"Normal\", \"Outlier_IQR\": \"Normal\", \"Outlier_IF\": \"Normal\"}, {\"UMAP_Component_1\": 14.181502342224121, \"UMAP_Component_2\": 3.5279338359832764, \"localization_site\": \"MIT\", \"Z1\": 1.2149824886619722, \"Z2\": -1.1864289732585438, \"Outlier_Z\": \"Normal\", \"Outlier_IQR\": \"Normal\", \"Outlier_IF\": \"Normal\"}, {\"UMAP_Component_1\": 12.064153671264648, \"UMAP_Component_2\": 8.663039207458496, \"localization_site\": \"NUC\", \"Z1\": 0.5303180276246457, \"Z2\": 0.9026298481345982, \"Outlier_Z\": \"Normal\", \"Outlier_IQR\": \"Normal\", \"Outlier_IF\": \"Normal\"}, {\"UMAP_Component_1\": 10.776994705200195, \"UMAP_Component_2\": 6.289932727813721, \"localization_site\": \"NUC\", \"Z1\": 0.11410315859670508, \"Z2\": -0.06279513670518301, \"Outlier_Z\": \"Normal\", \"Outlier_IQR\": \"Normal\", \"Outlier_IF\": \"Normal\"}, {\"UMAP_Component_1\": 10.182616233825684, \"UMAP_Component_2\": 4.564276218414307, \"localization_site\": \"NUC\", \"Z1\": -0.07809466944047476, \"Z2\": -0.7648251230187249, \"Outlier_Z\": \"Normal\", \"Outlier_IQR\": \"Normal\", \"Outlier_IF\": \"Normal\"}, {\"UMAP_Component_1\": 9.99941635131836, \"UMAP_Component_2\": 7.091782093048096, \"localization_site\": \"ME2\", \"Z1\": -0.1373340618652189, \"Z2\": 0.2634124809955877, \"Outlier_Z\": \"Normal\", \"Outlier_IQR\": \"Normal\", \"Outlier_IF\": \"Normal\"}, {\"UMAP_Component_1\": 11.422378540039062, \"UMAP_Component_2\": 9.023240089416504, \"localization_site\": \"CYT\", \"Z1\": 0.32279404711339077, \"Z2\": 1.0491664380374832, \"Outlier_Z\": \"Normal\", \"Outlier_IQR\": \"Normal\", \"Outlier_IF\": \"Normal\"}, {\"UMAP_Component_1\": 8.342667579650879, \"UMAP_Component_2\": 10.145655632019043, \"localization_site\": \"NUC\", \"Z1\": -0.6730592451501969, \"Z2\": 1.5057864917500303, \"Outlier_Z\": \"Normal\", \"Outlier_IQR\": \"Normal\", \"Outlier_IF\": \"Normal\"}, {\"UMAP_Component_1\": 7.186480522155762, \"UMAP_Component_2\": 6.521900653839111, \"localization_site\": \"ME3\", \"Z1\": -1.046923124744253, \"Z2\": 0.031573840577244036, \"Outlier_Z\": \"Normal\", \"Outlier_IQR\": \"Normal\", \"Outlier_IF\": \"Normal\"}, {\"UMAP_Component_1\": 11.245013236999512, \"UMAP_Component_2\": 5.8440961837768555, \"localization_site\": \"CYT\", \"Z1\": 0.2654413204331564, \"Z2\": -0.24416994751107648, \"Outlier_Z\": \"Normal\", \"Outlier_IQR\": \"Normal\", \"Outlier_IF\": \"Normal\"}, {\"UMAP_Component_1\": 12.02901554107666, \"UMAP_Component_2\": 7.247899532318115, \"localization_site\": \"NUC\", \"Z1\": 0.5189557851669042, \"Z2\": 0.32692403335671266, \"Outlier_Z\": \"Normal\", \"Outlier_IQR\": \"Normal\", \"Outlier_IF\": \"Normal\"}, {\"UMAP_Component_1\": 9.315230369567871, \"UMAP_Component_2\": 6.238590240478516, \"localization_site\": \"NUC\", \"Z1\": -0.35857198685573094, \"Z2\": -0.08368223995250407, \"Outlier_Z\": \"Normal\", \"Outlier_IQR\": \"Normal\", \"Outlier_IF\": \"Normal\"}, {\"UMAP_Component_1\": 8.928210258483887, \"UMAP_Component_2\": 2.9257802963256836, \"localization_site\": \"ME2\", \"Z1\": -0.4837185531252569, \"Z2\": -1.4313965197557288, \"Outlier_Z\": \"Normal\", \"Outlier_IQR\": \"Normal\", \"Outlier_IF\": \"Normal\"}, {\"UMAP_Component_1\": 11.41531753540039, \"UMAP_Component_2\": 10.137372970581055, \"localization_site\": \"CYT\", \"Z1\": 0.32051080533955123, \"Z2\": 1.5024169470786088, \"Outlier_Z\": \"Normal\", \"Outlier_IQR\": \"Normal\", \"Outlier_IF\": \"Normal\"}, {\"UMAP_Component_1\": 9.401506423950195, \"UMAP_Component_2\": 7.526477813720703, \"localization_site\": \"CYT\", \"Z1\": -0.33067381916881255, \"Z2\": 0.44025499233670906, \"Outlier_Z\": \"Normal\", \"Outlier_IQR\": \"Normal\", \"Outlier_IF\": \"Normal\"}, {\"UMAP_Component_1\": 11.995345115661621, \"UMAP_Component_2\": 8.859400749206543, \"localization_site\": \"NUC\", \"Z1\": 0.5080681387504834, \"Z2\": 0.982513469072501, \"Outlier_Z\": \"Normal\", \"Outlier_IQR\": \"Normal\", \"Outlier_IF\": \"Normal\"}, {\"UMAP_Component_1\": 6.767451763153076, \"UMAP_Component_2\": 6.042879581451416, \"localization_site\": \"ME3\", \"Z1\": -1.1824199861618427, \"Z2\": -0.1633010693834126, \"Outlier_Z\": \"Normal\", \"Outlier_IQR\": \"Normal\", \"Outlier_IF\": \"Normal\"}, {\"UMAP_Component_1\": 9.001967430114746, \"UMAP_Component_2\": 2.3951544761657715, \"localization_site\": \"ME1\", \"Z1\": -0.4598684830565438, \"Z2\": -1.6472652255123121, \"Outlier_Z\": \"Normal\", \"Outlier_IQR\": \"Normal\", \"Outlier_IF\": \"Normal\"}, {\"UMAP_Component_1\": 8.553977012634277, \"UMAP_Component_2\": 8.408967971801758, \"localization_site\": \"CYT\", \"Z1\": -0.6047303671387536, \"Z2\": 0.7992688228556788, \"Outlier_Z\": \"Normal\", \"Outlier_IQR\": \"Normal\", \"Outlier_IF\": \"Normal\"}, {\"UMAP_Component_1\": 10.237428665161133, \"UMAP_Component_2\": 5.333064079284668, \"localization_site\": \"CYT\", \"Z1\": -0.06037055802077883, \"Z2\": -0.4520675559680986, \"Outlier_Z\": \"Normal\", \"Outlier_IQR\": \"Normal\", \"Outlier_IF\": \"Normal\"}, {\"UMAP_Component_1\": 10.24697494506836, \"UMAP_Component_2\": 5.389727592468262, \"localization_site\": \"CYT\", \"Z1\": -0.0572836792854825, \"Z2\": -0.42901575790279295, \"Outlier_Z\": \"Normal\", \"Outlier_IQR\": \"Normal\", \"Outlier_IF\": \"Normal\"}, {\"UMAP_Component_1\": 6.9292893409729, \"UMAP_Component_2\": 6.317652702331543, \"localization_site\": \"ME3\", \"Z1\": -1.1300882944034958, \"Z2\": -0.051518122290459586, \"Outlier_Z\": \"Normal\", \"Outlier_IQR\": \"Normal\", \"Outlier_IF\": \"Normal\"}, {\"UMAP_Component_1\": 8.480392456054688, \"UMAP_Component_2\": 4.745619297027588, \"localization_site\": \"ME3\", \"Z1\": -0.6285246205190462, \"Z2\": -0.6910512993733431, \"Outlier_Z\": \"Normal\", \"Outlier_IQR\": \"Normal\", \"Outlier_IF\": \"Normal\"}, {\"UMAP_Component_1\": 9.054972648620605, \"UMAP_Component_2\": 3.2604401111602783, \"localization_site\": \"ME2\", \"Z1\": -0.44272875077804535, \"Z2\": -1.2952505231751055, \"Outlier_Z\": \"Normal\", \"Outlier_IQR\": \"Normal\", \"Outlier_IF\": \"Normal\"}, {\"UMAP_Component_1\": 9.281323432922363, \"UMAP_Component_2\": 4.527037620544434, \"localization_site\": \"ME3\", \"Z1\": -0.36953611138667253, \"Z2\": -0.7799744949884808, \"Outlier_Z\": \"Normal\", \"Outlier_IQR\": \"Normal\", \"Outlier_IF\": \"Normal\"}, {\"UMAP_Component_1\": 9.79997730255127, \"UMAP_Component_2\": 4.6272382736206055, \"localization_site\": \"CYT\", \"Z1\": -0.2018245403144012, \"Z2\": -0.7392109579088132, \"Outlier_Z\": \"Normal\", \"Outlier_IQR\": \"Normal\", \"Outlier_IF\": \"Normal\"}, {\"UMAP_Component_1\": 9.273523330688477, \"UMAP_Component_2\": 4.5592756271362305, \"localization_site\": \"ME2\", \"Z1\": -0.3720583472683897, \"Z2\": -0.7668594589409584, \"Outlier_Z\": \"Normal\", \"Outlier_IQR\": \"Normal\", \"Outlier_IF\": \"Normal\"}, {\"UMAP_Component_1\": 9.311013221740723, \"UMAP_Component_2\": 4.549709796905518, \"localization_site\": \"CYT\", \"Z1\": -0.35993564097835634, \"Z2\": -0.77075102115474, \"Outlier_Z\": \"Normal\", \"Outlier_IQR\": \"Normal\", \"Outlier_IF\": \"Normal\"}, {\"UMAP_Component_1\": 9.310145378112793, \"UMAP_Component_2\": 2.844625234603882, \"localization_site\": \"ME2\", \"Z1\": -0.36021626631792875, \"Z2\": -1.464411946962421, \"Outlier_Z\": \"Normal\", \"Outlier_IQR\": \"Normal\", \"Outlier_IF\": \"Normal\"}, {\"UMAP_Component_1\": 9.360756874084473, \"UMAP_Component_2\": 4.774378299713135, \"localization_site\": \"CYT\", \"Z1\": -0.3438505665694596, \"Z2\": -0.6793515884796889, \"Outlier_Z\": \"Normal\", \"Outlier_IQR\": \"Normal\", \"Outlier_IF\": \"Normal\"}, {\"UMAP_Component_1\": 9.00583553314209, \"UMAP_Component_2\": 3.9594523906707764, \"localization_site\": \"ME3\", \"Z1\": -0.45861769582873546, \"Z2\": -1.010878993647168, \"Outlier_Z\": \"Normal\", \"Outlier_IQR\": \"Normal\", \"Outlier_IF\": \"Normal\"}, {\"UMAP_Component_1\": 7.326768398284912, \"UMAP_Component_2\": 4.8800201416015625, \"localization_site\": \"ME3\", \"Z1\": -1.0015597302228816, \"Z2\": -0.6363744719961301, \"Outlier_Z\": \"Normal\", \"Outlier_IQR\": \"Normal\", \"Outlier_IF\": \"Normal\"}, {\"UMAP_Component_1\": 7.576037883758545, \"UMAP_Component_2\": 6.365365505218506, \"localization_site\": \"ME3\", \"Z1\": -0.9209561148308453, \"Z2\": -0.032107643915842074, \"Outlier_Z\": \"Normal\", \"Outlier_IQR\": \"Normal\", \"Outlier_IF\": \"Normal\"}, {\"UMAP_Component_1\": 11.738478660583496, \"UMAP_Component_2\": 8.958428382873535, \"localization_site\": \"CYT\", \"Z1\": 0.42500797230895954, \"Z2\": 1.022799799480223, \"Outlier_Z\": \"Normal\", \"Outlier_IQR\": \"Normal\", \"Outlier_IF\": \"Normal\"}, {\"UMAP_Component_1\": 11.09264087677002, \"UMAP_Component_2\": 8.539240837097168, \"localization_site\": \"ME2\", \"Z1\": 0.21617029515311292, \"Z2\": 0.8522663095178374, \"Outlier_Z\": \"Normal\", \"Outlier_IQR\": \"Normal\", \"Outlier_IF\": \"Normal\"}, {\"UMAP_Component_1\": 9.385087966918945, \"UMAP_Component_2\": 4.4495062828063965, \"localization_site\": \"CYT\", \"Z1\": -0.3359828805381294, \"Z2\": -0.8115157221531197, \"Outlier_Z\": \"Normal\", \"Outlier_IQR\": \"Normal\", \"Outlier_IF\": \"Normal\"}, {\"UMAP_Component_1\": 8.975475311279297, \"UMAP_Component_2\": 4.362809658050537, \"localization_site\": \"ME3\", \"Z1\": -0.4684349570213587, \"Z2\": -0.8467855629118515, \"Outlier_Z\": \"Normal\", \"Outlier_IQR\": \"Normal\", \"Outlier_IF\": \"Normal\"}, {\"UMAP_Component_1\": 9.349342346191406, \"UMAP_Component_2\": 3.4679040908813477, \"localization_site\": \"ME2\", \"Z1\": -0.3475415607335717, \"Z2\": -1.2108502186818173, \"Outlier_Z\": \"Normal\", \"Outlier_IQR\": \"Normal\", \"Outlier_IF\": \"Normal\"}, {\"UMAP_Component_1\": 8.610937118530273, \"UMAP_Component_2\": 9.701009750366211, \"localization_site\": \"NUC\", \"Z1\": -0.5863117850984895, \"Z2\": 1.324896065114807, \"Outlier_Z\": \"Normal\", \"Outlier_IQR\": \"Normal\", \"Outlier_IF\": \"Normal\"}, {\"UMAP_Component_1\": 9.0214262008667, \"UMAP_Component_2\": 9.417656898498535, \"localization_site\": \"NUC\", \"Z1\": -0.4535763078602415, \"Z2\": 1.2096227197908298, \"Outlier_Z\": \"Normal\", \"Outlier_IQR\": \"Normal\", \"Outlier_IF\": \"Normal\"}, {\"UMAP_Component_1\": -6.626863479614258, \"UMAP_Component_2\": 4.135160446166992, \"localization_site\": \"ERL\", \"Z1\": -5.513596873763306, \"Z2\": -0.93939760489842, \"Outlier_Z\": \"Outlier\", \"Outlier_IQR\": \"Outlier\", \"Outlier_IF\": \"Outlier\"}, {\"UMAP_Component_1\": 9.95817756652832, \"UMAP_Component_2\": 2.216028928756714, \"localization_site\": \"EXC\", \"Z1\": -0.1506690079463062, \"Z2\": -1.7201369151626194, \"Outlier_Z\": \"Normal\", \"Outlier_IQR\": \"Normal\", \"Outlier_IF\": \"Normal\"}, {\"UMAP_Component_1\": -6.675088882446289, \"UMAP_Component_2\": 4.183306694030762, \"localization_site\": \"CYT\", \"Z1\": -5.5291910080176985, \"Z2\": -0.9198107928389249, \"Outlier_Z\": \"Outlier\", \"Outlier_IQR\": \"Outlier\", \"Outlier_IF\": \"Outlier\"}, {\"UMAP_Component_1\": 10.005867958068848, \"UMAP_Component_2\": 6.66028356552124, \"localization_site\": \"CYT\", \"Z1\": -0.13524787458806808, \"Z2\": 0.08787064881519638, \"Outlier_Z\": \"Normal\", \"Outlier_IQR\": \"Normal\", \"Outlier_IF\": \"Normal\"}, {\"UMAP_Component_1\": 8.99765682220459, \"UMAP_Component_2\": 4.26771354675293, \"localization_site\": \"CYT\", \"Z1\": -0.46126235836958474, \"Z2\": -0.8854724750227473, \"Outlier_Z\": \"Normal\", \"Outlier_IQR\": \"Normal\", \"Outlier_IF\": \"Normal\"}, {\"UMAP_Component_1\": 9.218082427978516, \"UMAP_Component_2\": 4.270613193511963, \"localization_site\": \"CYT\", \"Z1\": -0.38998568077465506, \"Z2\": -0.8842928434080718, \"Outlier_Z\": \"Normal\", \"Outlier_IQR\": \"Normal\", \"Outlier_IF\": \"Normal\"}, {\"UMAP_Component_1\": 11.244575500488281, \"UMAP_Component_2\": 9.372971534729004, \"localization_site\": \"CYT\", \"Z1\": 0.2652997742453941, \"Z2\": 1.1914438614000267, \"Outlier_Z\": \"Normal\", \"Outlier_IQR\": \"Normal\", \"Outlier_IF\": \"Normal\"}, {\"UMAP_Component_1\": 9.957479476928711, \"UMAP_Component_2\": 4.741776466369629, \"localization_site\": \"CYT\", \"Z1\": -0.15089474173594025, \"Z2\": -0.6926146361900953, \"Outlier_Z\": \"Normal\", \"Outlier_IQR\": \"Normal\", \"Outlier_IF\": \"Normal\"}, {\"UMAP_Component_1\": 10.066980361938477, \"UMAP_Component_2\": 4.54662561416626, \"localization_site\": \"CYT\", \"Z1\": -0.115486608230773, \"Z2\": -0.7720057255263436, \"Outlier_Z\": \"Normal\", \"Outlier_IQR\": \"Normal\", \"Outlier_IF\": \"Normal\"}, {\"UMAP_Component_1\": 10.507221221923828, \"UMAP_Component_2\": 4.385934352874756, \"localization_site\": \"CYT\", \"Z1\": 0.026869384082903482, \"Z2\": -0.8373779959351527, \"Outlier_Z\": \"Normal\", \"Outlier_IQR\": \"Normal\", \"Outlier_IF\": \"Normal\"}, {\"UMAP_Component_1\": 6.263616561889648, \"UMAP_Component_2\": 6.213568210601807, \"localization_site\": \"ME3\", \"Z1\": -1.345339802466042, \"Z2\": -0.09386167902175237, \"Outlier_Z\": \"Normal\", \"Outlier_IQR\": \"Normal\", \"Outlier_IF\": \"Normal\"}, {\"UMAP_Component_1\": 8.930472373962402, \"UMAP_Component_2\": 5.0127458572387695, \"localization_site\": \"ME3\", \"Z1\": -0.48298707696540444, \"Z2\": -0.5823791190248296, \"Outlier_Z\": \"Normal\", \"Outlier_IQR\": \"Normal\", \"Outlier_IF\": \"Normal\"}, {\"UMAP_Component_1\": 6.272140979766846, \"UMAP_Component_2\": 5.874951362609863, \"localization_site\": \"ME3\", \"Z1\": -1.3425833523586046, \"Z2\": -0.2316174721743844, \"Outlier_Z\": \"Normal\", \"Outlier_IQR\": \"Normal\", \"Outlier_IF\": \"Normal\"}, {\"UMAP_Component_1\": 9.168994903564453, \"UMAP_Component_2\": 10.361335754394531, \"localization_site\": \"NUC\", \"Z1\": -0.4058585900916553, \"Z2\": 1.5935292798046845, \"Outlier_Z\": \"Normal\", \"Outlier_IQR\": \"Normal\", \"Outlier_IF\": \"Normal\"}, {\"UMAP_Component_1\": 9.924324035644531, \"UMAP_Component_2\": 1.4302914142608643, \"localization_site\": \"EXC\", \"Z1\": -0.1616158632255818, \"Z2\": -2.039789924636409, \"Outlier_Z\": \"Normal\", \"Outlier_IQR\": \"Normal\", \"Outlier_IF\": \"Outlier\"}, {\"UMAP_Component_1\": -4.643909454345703, \"UMAP_Component_2\": 0.2148701548576355, \"localization_site\": \"POX\", \"Z1\": -4.872390176163957, \"Z2\": -2.5342464781025447, \"Outlier_Z\": \"Outlier\", \"Outlier_IQR\": \"Outlier\", \"Outlier_IF\": \"Outlier\"}, {\"UMAP_Component_1\": 10.31464672088623, \"UMAP_Component_2\": 7.168355464935303, \"localization_site\": \"POX\", \"Z1\": -0.035401378768210576, \"Z2\": 0.2945639893781376, \"Outlier_Z\": \"Normal\", \"Outlier_IQR\": \"Normal\", \"Outlier_IF\": \"Normal\"}, {\"UMAP_Component_1\": 12.073524475097656, \"UMAP_Component_2\": 9.377837181091309, \"localization_site\": \"CYT\", \"Z1\": 0.5333481645330396, \"Z2\": 1.1934232991563414, \"Outlier_Z\": \"Normal\", \"Outlier_IQR\": \"Normal\", \"Outlier_IF\": \"Normal\"}, {\"UMAP_Component_1\": 9.686050415039062, \"UMAP_Component_2\": 2.65218448638916, \"localization_site\": \"ME1\", \"Z1\": -0.23866386305138765, \"Z2\": -1.5427005142986678, \"Outlier_Z\": \"Normal\", \"Outlier_IQR\": \"Normal\", \"Outlier_IF\": \"Normal\"}, {\"UMAP_Component_1\": 8.205937385559082, \"UMAP_Component_2\": 10.85848617553711, \"localization_site\": \"NUC\", \"Z1\": -0.7172722299690686, \"Z2\": 1.7957795546707784, \"Outlier_Z\": \"Normal\", \"Outlier_IQR\": \"Normal\", \"Outlier_IF\": \"Outlier\"}, {\"UMAP_Component_1\": 7.583559513092041, \"UMAP_Component_2\": 5.82560396194458, \"localization_site\": \"ME3\", \"Z1\": -0.9185239257613865, \"Z2\": -0.25169293610649374, \"Outlier_Z\": \"Normal\", \"Outlier_IQR\": \"Normal\", \"Outlier_IF\": \"Normal\"}, {\"UMAP_Component_1\": 9.107177734375, \"UMAP_Component_2\": 2.2106289863586426, \"localization_site\": \"ME1\", \"Z1\": -0.42584774889504273, \"Z2\": -1.7223337147384117, \"Outlier_Z\": \"Normal\", \"Outlier_IQR\": \"Normal\", \"Outlier_IF\": \"Normal\"}, {\"UMAP_Component_1\": 9.46938705444336, \"UMAP_Component_2\": 2.2999887466430664, \"localization_site\": \"ME2\", \"Z1\": -0.30872398354234687, \"Z2\": -1.6859804596452015, \"Outlier_Z\": \"Normal\", \"Outlier_IQR\": \"Normal\", \"Outlier_IF\": \"Normal\"}, {\"UMAP_Component_1\": 11.830061912536621, \"UMAP_Component_2\": 10.108599662780762, \"localization_site\": \"CYT\", \"Z1\": 0.454622271880186, \"Z2\": 1.4907114165913944, \"Outlier_Z\": \"Normal\", \"Outlier_IQR\": \"Normal\", \"Outlier_IF\": \"Normal\"}, {\"UMAP_Component_1\": 11.710962295532227, \"UMAP_Component_2\": 6.982192039489746, \"localization_site\": \"CYT\", \"Z1\": 0.41611029876755046, \"Z2\": 0.21882915668938227, \"Outlier_Z\": \"Normal\", \"Outlier_IQR\": \"Normal\", \"Outlier_IF\": \"Normal\"}, {\"UMAP_Component_1\": 14.076286315917969, \"UMAP_Component_2\": 5.087895393371582, \"localization_site\": \"CYT\", \"Z1\": 1.1809599042235068, \"Z2\": -0.5518068541879829, \"Outlier_Z\": \"Normal\", \"Outlier_IQR\": \"Normal\", \"Outlier_IF\": \"Normal\"}, {\"UMAP_Component_1\": 6.116124153137207, \"UMAP_Component_2\": 6.266805648803711, \"localization_site\": \"ME3\", \"Z1\": -1.3930328498751052, \"Z2\": -0.07220367361414179, \"Outlier_Z\": \"Normal\", \"Outlier_IQR\": \"Normal\", \"Outlier_IF\": \"Normal\"}, {\"UMAP_Component_1\": 9.967716217041016, \"UMAP_Component_2\": 3.249565839767456, \"localization_site\": \"CYT\", \"Z1\": -0.14758459624696216, \"Z2\": -1.2996743842132037, \"Outlier_Z\": \"Normal\", \"Outlier_IQR\": \"Normal\", \"Outlier_IF\": \"Normal\"}, {\"UMAP_Component_1\": 7.098295211791992, \"UMAP_Component_2\": 5.613133907318115, \"localization_site\": \"ME3\", \"Z1\": -1.0754386681782306, \"Z2\": -0.3381298073662135, \"Outlier_Z\": \"Normal\", \"Outlier_IQR\": \"Normal\", \"Outlier_IF\": \"Normal\"}, {\"UMAP_Component_1\": 13.737130165100098, \"UMAP_Component_2\": 3.230710744857788, \"localization_site\": \"ME1\", \"Z1\": 1.0712905963801336, \"Z2\": -1.3073449964986008, \"Outlier_Z\": \"Normal\", \"Outlier_IQR\": \"Normal\", \"Outlier_IF\": \"Normal\"}, {\"UMAP_Component_1\": 10.158391952514648, \"UMAP_Component_2\": 5.308745861053467, \"localization_site\": \"CYT\", \"Z1\": -0.08592781696847296, \"Z2\": -0.4619606710341795, \"Outlier_Z\": \"Normal\", \"Outlier_IQR\": \"Normal\", \"Outlier_IF\": \"Normal\"}, {\"UMAP_Component_1\": 12.891424179077148, \"UMAP_Component_2\": 8.147088050842285, \"localization_site\": \"NUC\", \"Z1\": 0.7978236700027885, \"Z2\": 0.6927310754386363, \"Outlier_Z\": \"Normal\", \"Outlier_IQR\": \"Normal\", \"Outlier_IF\": \"Normal\"}, {\"UMAP_Component_1\": 10.204694747924805, \"UMAP_Component_2\": 4.494175434112549, \"localization_site\": \"CYT\", \"Z1\": -0.07095537577405665, \"Z2\": -0.7933434593016849, \"Outlier_Z\": \"Normal\", \"Outlier_IQR\": \"Normal\", \"Outlier_IF\": \"Normal\"}, {\"UMAP_Component_1\": 10.556915283203125, \"UMAP_Component_2\": 7.696656703948975, \"localization_site\": \"CYT\", \"Z1\": 0.04293842275811037, \"Z2\": 0.5094870111811701, \"Outlier_Z\": \"Normal\", \"Outlier_IQR\": \"Normal\", \"Outlier_IF\": \"Normal\"}, {\"UMAP_Component_1\": 10.32613754272461, \"UMAP_Component_2\": 4.575455665588379, \"localization_site\": \"CYT\", \"Z1\": -0.03168571424457567, \"Z2\": -0.7602771106513398, \"Outlier_Z\": \"Normal\", \"Outlier_IQR\": \"Normal\", \"Outlier_IF\": \"Normal\"}, {\"UMAP_Component_1\": 14.5042142868042, \"UMAP_Component_2\": 7.310661792755127, \"localization_site\": \"NUC\", \"Z1\": 1.3193344088896897, \"Z2\": 0.35245691814323193, \"Outlier_Z\": \"Normal\", \"Outlier_IQR\": \"Normal\", \"Outlier_IF\": \"Normal\"}, {\"UMAP_Component_1\": 7.4543938636779785, \"UMAP_Component_2\": 5.554439544677734, \"localization_site\": \"ME3\", \"Z1\": -0.9602908444335677, \"Z2\": -0.36200779373063163, \"Outlier_Z\": \"Normal\", \"Outlier_IQR\": \"Normal\", \"Outlier_IF\": \"Normal\"}, {\"UMAP_Component_1\": 11.035253524780273, \"UMAP_Component_2\": 8.112701416015625, \"localization_site\": \"NUC\", \"Z1\": 0.19761355909952089, \"Z2\": 0.6787419364383548, \"Outlier_Z\": \"Normal\", \"Outlier_IQR\": \"Normal\", \"Outlier_IF\": \"Normal\"}, {\"UMAP_Component_1\": 10.097174644470215, \"UMAP_Component_2\": 6.664358615875244, \"localization_site\": \"CYT\", \"Z1\": -0.10572300507011197, \"Z2\": 0.08952845703407768, \"Outlier_Z\": \"Normal\", \"Outlier_IQR\": \"Normal\", \"Outlier_IF\": \"Normal\"}, {\"UMAP_Component_1\": 9.884086608886719, \"UMAP_Component_2\": 4.425872802734375, \"localization_site\": \"NUC\", \"Z1\": -0.17462701083793172, \"Z2\": -0.8211302726741136, \"Outlier_Z\": \"Normal\", \"Outlier_IQR\": \"Normal\", \"Outlier_IF\": \"Normal\"}, {\"UMAP_Component_1\": 6.932989597320557, \"UMAP_Component_2\": 5.239544868469238, \"localization_site\": \"ME3\", \"Z1\": -1.1288917819666378, \"Z2\": -0.49011295488219586, \"Outlier_Z\": \"Normal\", \"Outlier_IQR\": \"Normal\", \"Outlier_IF\": \"Normal\"}, {\"UMAP_Component_1\": 9.296525001525879, \"UMAP_Component_2\": 8.044795036315918, \"localization_site\": \"NUC\", \"Z1\": -0.3646205422517451, \"Z2\": 0.6511163258075467, \"Outlier_Z\": \"Normal\", \"Outlier_IQR\": \"Normal\", \"Outlier_IF\": \"Normal\"}, {\"UMAP_Component_1\": 9.458839416503906, \"UMAP_Component_2\": 2.874533176422119, \"localization_site\": \"ME1\", \"Z1\": -0.3121346607463806, \"Z2\": -1.4522448257126477, \"Outlier_Z\": \"Normal\", \"Outlier_IQR\": \"Normal\", \"Outlier_IF\": \"Normal\"}, {\"UMAP_Component_1\": 11.898694038391113, \"UMAP_Component_2\": 9.390049934387207, \"localization_site\": \"NUC\", \"Z1\": 0.4768151105479518, \"Z2\": 1.198391680165233, \"Outlier_Z\": \"Normal\", \"Outlier_IQR\": \"Normal\", \"Outlier_IF\": \"Normal\"}, {\"UMAP_Component_1\": 10.891328811645508, \"UMAP_Component_2\": 8.203636169433594, \"localization_site\": \"CYT\", \"Z1\": 0.15107415937764473, \"Z2\": 0.7157359287825554, \"Outlier_Z\": \"Normal\", \"Outlier_IQR\": \"Normal\", \"Outlier_IF\": \"Normal\"}, {\"UMAP_Component_1\": 9.344666481018066, \"UMAP_Component_2\": 9.562440872192383, \"localization_site\": \"CYT\", \"Z1\": -0.3490535453928282, \"Z2\": 1.2685236021605706, \"Outlier_Z\": \"Normal\", \"Outlier_IQR\": \"Normal\", \"Outlier_IF\": \"Normal\"}, {\"UMAP_Component_1\": 10.774310111999512, \"UMAP_Component_2\": 8.466297149658203, \"localization_site\": \"CYT\", \"Z1\": 0.11323507032099488, \"Z2\": 0.8225914260079911, \"Outlier_Z\": \"Normal\", \"Outlier_IQR\": \"Normal\", \"Outlier_IF\": \"Normal\"}, {\"UMAP_Component_1\": 11.28132438659668, \"UMAP_Component_2\": 9.42444133758545, \"localization_site\": \"CYT\", \"Z1\": 0.27718286966856176, \"Z2\": 1.2123827590300345, \"Outlier_Z\": \"Normal\", \"Outlier_IQR\": \"Normal\", \"Outlier_IF\": \"Normal\"}, {\"UMAP_Component_1\": 10.922296524047852, \"UMAP_Component_2\": 4.584319114685059, \"localization_site\": \"CYT\", \"Z1\": 0.16108785830796865, \"Z2\": -0.7566712904813696, \"Outlier_Z\": \"Normal\", \"Outlier_IQR\": \"Normal\", \"Outlier_IF\": \"Normal\"}, {\"UMAP_Component_1\": 7.766852378845215, \"UMAP_Component_2\": 6.330905437469482, \"localization_site\": \"CYT\", \"Z1\": -0.8592544663359739, \"Z2\": -0.04612665682973319, \"Outlier_Z\": \"Normal\", \"Outlier_IQR\": \"Normal\", \"Outlier_IF\": \"Normal\"}, {\"UMAP_Component_1\": 9.11491870880127, \"UMAP_Component_2\": 10.45103645324707, \"localization_site\": \"CYT\", \"Z1\": -0.42334463254195576, \"Z2\": 1.630021235211082, \"Outlier_Z\": \"Normal\", \"Outlier_IQR\": \"Normal\", \"Outlier_IF\": \"Normal\"}, {\"UMAP_Component_1\": 9.510547637939453, \"UMAP_Component_2\": 6.326557636260986, \"localization_site\": \"CYT\", \"Z1\": -0.29541432457977046, \"Z2\": -0.047895425299164456, \"Outlier_Z\": \"Normal\", \"Outlier_IQR\": \"Normal\", \"Outlier_IF\": \"Normal\"}, {\"UMAP_Component_1\": 11.013657569885254, \"UMAP_Component_2\": 5.6209330558776855, \"localization_site\": \"NUC\", \"Z1\": 0.1906303054570848, \"Z2\": -0.3349569649571306, \"Outlier_Z\": \"Normal\", \"Outlier_IQR\": \"Normal\", \"Outlier_IF\": \"Normal\"}, {\"UMAP_Component_1\": 11.456074714660645, \"UMAP_Component_2\": 9.381654739379883, \"localization_site\": \"NUC\", \"Z1\": 0.33369001977615054, \"Z2\": 1.194976354691137, \"Outlier_Z\": \"Normal\", \"Outlier_IQR\": \"Normal\", \"Outlier_IF\": \"Normal\"}, {\"UMAP_Component_1\": 10.63587760925293, \"UMAP_Component_2\": 8.691361427307129, \"localization_site\": \"NUC\", \"Z1\": 0.06847162810526973, \"Z2\": 0.9141518674382108, \"Outlier_Z\": \"Normal\", \"Outlier_IQR\": \"Normal\", \"Outlier_IF\": \"Normal\"}, {\"UMAP_Component_1\": 10.951891899108887, \"UMAP_Component_2\": 5.60610818862915, \"localization_site\": \"NUC\", \"Z1\": 0.17065779914637533, \"Z2\": -0.34098800375013544, \"Outlier_Z\": \"Normal\", \"Outlier_IQR\": \"Normal\", \"Outlier_IF\": \"Normal\"}, {\"UMAP_Component_1\": 11.005833625793457, \"UMAP_Component_2\": 9.612890243530273, \"localization_site\": \"NUC\", \"Z1\": 0.18810036008801675, \"Z2\": 1.289047368783276, \"Outlier_Z\": \"Normal\", \"Outlier_IQR\": \"Normal\", \"Outlier_IF\": \"Normal\"}, {\"UMAP_Component_1\": 12.634991645812988, \"UMAP_Component_2\": 7.632820129394531, \"localization_site\": \"NUC\", \"Z1\": 0.7149038162310509, \"Z2\": 0.4835170749182713, \"Outlier_Z\": \"Normal\", \"Outlier_IQR\": \"Normal\", \"Outlier_IF\": \"Normal\"}, {\"UMAP_Component_1\": 12.001042366027832, \"UMAP_Component_2\": 6.717085361480713, \"localization_site\": \"CYT\", \"Z1\": 0.5099103978478521, \"Z2\": 0.11097870295158506, \"Outlier_Z\": \"Normal\", \"Outlier_IQR\": \"Normal\", \"Outlier_IF\": \"Normal\"}, {\"UMAP_Component_1\": 10.263625144958496, \"UMAP_Component_2\": 2.8007593154907227, \"localization_site\": \"ME2\", \"Z1\": -0.05189968169911502, \"Z2\": -1.4822574396354442, \"Outlier_Z\": \"Normal\", \"Outlier_IQR\": \"Normal\", \"Outlier_IF\": \"Normal\"}, {\"UMAP_Component_1\": 11.995492935180664, \"UMAP_Component_2\": 8.393879890441895, \"localization_site\": \"CYT\", \"Z1\": 0.5081159375720589, \"Z2\": 0.7931307035411642, \"Outlier_Z\": \"Normal\", \"Outlier_IQR\": \"Normal\", \"Outlier_IF\": \"Normal\"}, {\"UMAP_Component_1\": 11.399637222290039, \"UMAP_Component_2\": 6.3599162101745605, \"localization_site\": \"CYT\", \"Z1\": 0.3154404296986179, \"Z2\": -0.034324521089417484, \"Outlier_Z\": \"Normal\", \"Outlier_IQR\": \"Normal\", \"Outlier_IF\": \"Normal\"}, {\"UMAP_Component_1\": 9.329174995422363, \"UMAP_Component_2\": 4.510121822357178, \"localization_site\": \"CYT\", \"Z1\": -0.3540628618939424, \"Z2\": -0.7868561643735514, \"Outlier_Z\": \"Normal\", \"Outlier_IQR\": \"Normal\", \"Outlier_IF\": \"Normal\"}, {\"UMAP_Component_1\": 6.398560523986816, \"UMAP_Component_2\": 6.289249420166016, \"localization_site\": \"ME3\", \"Z1\": -1.301704412439499, \"Z2\": -0.06307311929091398, \"Outlier_Z\": \"Normal\", \"Outlier_IQR\": \"Normal\", \"Outlier_IF\": \"Normal\"}, {\"UMAP_Component_1\": 8.628617286682129, \"UMAP_Component_2\": 8.130268096923828, \"localization_site\": \"CYT\", \"Z1\": -0.5805947376585635, \"Z2\": 0.6858883973304197, \"Outlier_Z\": \"Normal\", \"Outlier_IQR\": \"Normal\", \"Outlier_IF\": \"Normal\"}, {\"UMAP_Component_1\": 10.477606773376465, \"UMAP_Component_2\": 7.67055082321167, \"localization_site\": \"CYT\", \"Z1\": 0.01729327565461609, \"Z2\": 0.49886664090650207, \"Outlier_Z\": \"Normal\", \"Outlier_IQR\": \"Normal\", \"Outlier_IF\": \"Normal\"}, {\"UMAP_Component_1\": 9.969810485839844, \"UMAP_Component_2\": 7.783360481262207, \"localization_site\": \"CYT\", \"Z1\": -0.14690739487805998, \"Z2\": 0.5447597617366821, \"Outlier_Z\": \"Normal\", \"Outlier_IQR\": \"Normal\", \"Outlier_IF\": \"Normal\"}, {\"UMAP_Component_1\": 10.694491386413574, \"UMAP_Component_2\": 8.031966209411621, \"localization_site\": \"CYT\", \"Z1\": 0.08742494018819155, \"Z2\": 0.6458973143026576, \"Outlier_Z\": \"Normal\", \"Outlier_IQR\": \"Normal\", \"Outlier_IF\": \"Normal\"}, {\"UMAP_Component_1\": 11.890737533569336, \"UMAP_Component_2\": 9.186178207397461, \"localization_site\": \"CYT\", \"Z1\": 0.4742423004292128, \"Z2\": 1.1154527726081656, \"Outlier_Z\": \"Normal\", \"Outlier_IQR\": \"Normal\", \"Outlier_IF\": \"Normal\"}, {\"UMAP_Component_1\": 8.936272621154785, \"UMAP_Component_2\": 8.235485076904297, \"localization_site\": \"NUC\", \"Z1\": -0.48111151288267995, \"Z2\": 0.7286926718852373, \"Outlier_Z\": \"Normal\", \"Outlier_IQR\": \"Normal\", \"Outlier_IF\": \"Normal\"}, {\"UMAP_Component_1\": 9.708970069885254, \"UMAP_Component_2\": 8.531840324401855, \"localization_site\": \"CYT\", \"Z1\": -0.23125257867123014, \"Z2\": 0.8492556397826353, \"Outlier_Z\": \"Normal\", \"Outlier_IQR\": \"Normal\", \"Outlier_IF\": \"Normal\"}, {\"UMAP_Component_1\": 9.378747940063477, \"UMAP_Component_2\": 5.82106351852417, \"localization_site\": \"NUC\", \"Z1\": -0.33803298741447807, \"Z2\": -0.2535400751025372, \"Outlier_Z\": \"Normal\", \"Outlier_IQR\": \"Normal\", \"Outlier_IF\": \"Normal\"}, {\"UMAP_Component_1\": 6.091830730438232, \"UMAP_Component_2\": 6.2725300788879395, \"localization_site\": \"ME3\", \"Z1\": -1.400888354916421, \"Z2\": -0.06987486625775635, \"Outlier_Z\": \"Normal\", \"Outlier_IQR\": \"Normal\", \"Outlier_IF\": \"Normal\"}, {\"UMAP_Component_1\": 10.553398132324219, \"UMAP_Component_2\": 4.768701076507568, \"localization_site\": \"CYT\", \"Z1\": 0.04180111918410709, \"Z2\": -0.6816611911773253, \"Outlier_Z\": \"Normal\", \"Outlier_IQR\": \"Normal\", \"Outlier_IF\": \"Normal\"}, {\"UMAP_Component_1\": 8.834757804870605, \"UMAP_Component_2\": 3.223017454147339, \"localization_site\": \"ME2\", \"Z1\": -0.5139372765047932, \"Z2\": -1.3104747739153375, \"Outlier_Z\": \"Normal\", \"Outlier_IQR\": \"Normal\", \"Outlier_IF\": \"Normal\"}, {\"UMAP_Component_1\": 11.724300384521484, \"UMAP_Component_2\": 8.262810707092285, \"localization_site\": \"CYT\", \"Z1\": 0.42042329437113235, \"Z2\": 0.7398092595041481, \"Outlier_Z\": \"Normal\", \"Outlier_IQR\": \"Normal\", \"Outlier_IF\": \"Normal\"}, {\"UMAP_Component_1\": 13.250732421875, \"UMAP_Component_2\": 4.597575664520264, \"localization_site\": \"CYT\", \"Z1\": 0.9140093449346282, \"Z2\": -0.7512782731290272, \"Outlier_Z\": \"Normal\", \"Outlier_IQR\": \"Normal\", \"Outlier_IF\": \"Normal\"}, {\"UMAP_Component_1\": 11.876151084899902, \"UMAP_Component_2\": 8.442821502685547, \"localization_site\": \"CYT\", \"Z1\": 0.46952563606793835, \"Z2\": 0.8130410850026126, \"Outlier_Z\": \"Normal\", \"Outlier_IQR\": \"Normal\", \"Outlier_IF\": \"Normal\"}, {\"UMAP_Component_1\": 11.884809494018555, \"UMAP_Component_2\": 6.534142017364502, \"localization_site\": \"CYT\", \"Z1\": 0.4723254134942875, \"Z2\": 0.03655386077325628, \"Outlier_Z\": \"Normal\", \"Outlier_IQR\": \"Normal\", \"Outlier_IF\": \"Normal\"}, {\"UMAP_Component_1\": 9.21649169921875, \"UMAP_Component_2\": 10.302824974060059, \"localization_site\": \"NUC\", \"Z1\": -0.39050005777070645, \"Z2\": 1.5697259782242903, \"Outlier_Z\": \"Normal\", \"Outlier_IQR\": \"Normal\", \"Outlier_IF\": \"Normal\"}, {\"UMAP_Component_1\": 8.913459777832031, \"UMAP_Component_2\": 9.842378616333008, \"localization_site\": \"CYT\", \"Z1\": -0.48848825875950547, \"Z2\": 1.3824076165152488, \"Outlier_Z\": \"Normal\", \"Outlier_IQR\": \"Normal\", \"Outlier_IF\": \"Normal\"}, {\"UMAP_Component_1\": 10.910146713256836, \"UMAP_Component_2\": 6.250677585601807, \"localization_site\": \"NUC\", \"Z1\": 0.15715910355395513, \"Z2\": -0.07876487738049119, \"Outlier_Z\": \"Normal\", \"Outlier_IQR\": \"Normal\", \"Outlier_IF\": \"Normal\"}, {\"UMAP_Component_1\": 10.86837387084961, \"UMAP_Component_2\": 6.21451997756958, \"localization_site\": \"NUC\", \"Z1\": 0.14365146495620792, \"Z2\": -0.0934744820635395, \"Outlier_Z\": \"Normal\", \"Outlier_IQR\": \"Normal\", \"Outlier_IF\": \"Normal\"}, {\"UMAP_Component_1\": 9.145681381225586, \"UMAP_Component_2\": 8.722861289978027, \"localization_site\": \"CYT\", \"Z1\": -0.41339723520284954, \"Z2\": 0.926966612458021, \"Outlier_Z\": \"Normal\", \"Outlier_IQR\": \"Normal\", \"Outlier_IF\": \"Normal\"}, {\"UMAP_Component_1\": 9.163132667541504, \"UMAP_Component_2\": 8.723084449768066, \"localization_site\": \"CYT\", \"Z1\": -0.40775419884149217, \"Z2\": 0.9270573981175619, \"Outlier_Z\": \"Normal\", \"Outlier_IQR\": \"Normal\", \"Outlier_IF\": \"Normal\"}, {\"UMAP_Component_1\": 9.029288291931152, \"UMAP_Component_2\": 8.34145450592041, \"localization_site\": \"NUC\", \"Z1\": -0.451034027311412, \"Z2\": 0.7718030570613273, \"Outlier_Z\": \"Normal\", \"Outlier_IQR\": \"Normal\", \"Outlier_IF\": \"Normal\"}, {\"UMAP_Component_1\": 12.83162784576416, \"UMAP_Component_2\": 4.053165912628174, \"localization_site\": \"MIT\", \"Z1\": 0.7784879673472626, \"Z2\": -0.9727545452538766, \"Outlier_Z\": \"Normal\", \"Outlier_IQR\": \"Normal\", \"Outlier_IF\": \"Normal\"}, {\"UMAP_Component_1\": 11.927968978881836, \"UMAP_Component_2\": 9.873739242553711, \"localization_site\": \"CYT\", \"Z1\": 0.4862814358763625, \"Z2\": 1.3951657174910719, \"Outlier_Z\": \"Normal\", \"Outlier_IQR\": \"Normal\", \"Outlier_IF\": \"Normal\"}, {\"UMAP_Component_1\": 8.279447555541992, \"UMAP_Component_2\": 10.185921669006348, \"localization_site\": \"NUC\", \"Z1\": -0.6935020301893107, \"Z2\": 1.5221674837036006, \"Outlier_Z\": \"Normal\", \"Outlier_IQR\": \"Normal\", \"Outlier_IF\": \"Normal\"}, {\"UMAP_Component_1\": 14.538464546203613, \"UMAP_Component_2\": 7.402099132537842, \"localization_site\": \"NUC\", \"Z1\": 1.3304095500384843, \"Z2\": 0.38965537220785157, \"Outlier_Z\": \"Normal\", \"Outlier_IQR\": \"Normal\", \"Outlier_IF\": \"Normal\"}, {\"UMAP_Component_1\": 11.972538948059082, \"UMAP_Component_2\": 8.430021286010742, \"localization_site\": \"NUC\", \"Z1\": 0.5006935515301161, \"Z2\": 0.8078337126848442, \"Outlier_Z\": \"Normal\", \"Outlier_IQR\": \"Normal\", \"Outlier_IF\": \"Normal\"}, {\"UMAP_Component_1\": -6.655025005340576, \"UMAP_Component_2\": 4.163298606872559, \"localization_site\": \"NUC\", \"Z1\": -5.52270316603243, \"Z2\": -0.9279504643652833, \"Outlier_Z\": \"Outlier\", \"Outlier_IQR\": \"Outlier\", \"Outlier_IF\": \"Outlier\"}, {\"UMAP_Component_1\": 9.777956008911133, \"UMAP_Component_2\": 10.106842041015625, \"localization_site\": \"CYT\", \"Z1\": -0.20894533121117717, \"Z2\": 1.489996382529284, \"Outlier_Z\": \"Normal\", \"Outlier_IQR\": \"Normal\", \"Outlier_IF\": \"Normal\"}, {\"UMAP_Component_1\": 10.708718299865723, \"UMAP_Component_2\": 5.8777031898498535, \"localization_site\": \"NUC\", \"Z1\": 0.09202534548021458, \"Z2\": -0.23049797635983207, \"Outlier_Z\": \"Normal\", \"Outlier_IQR\": \"Normal\", \"Outlier_IF\": \"Normal\"}, {\"UMAP_Component_1\": 11.254216194152832, \"UMAP_Component_2\": 10.030339241027832, \"localization_site\": \"NUC\", \"Z1\": 0.26841718255059993, \"Z2\": 1.4588735841416314, \"Outlier_Z\": \"Normal\", \"Outlier_IQR\": \"Normal\", \"Outlier_IF\": \"Normal\"}, {\"UMAP_Component_1\": 13.99031925201416, \"UMAP_Component_2\": 3.4797937870025635, \"localization_site\": \"MIT\", \"Z1\": 1.1531616514926561, \"Z2\": -1.2060132634941627, \"Outlier_Z\": \"Normal\", \"Outlier_IQR\": \"Normal\", \"Outlier_IF\": \"Normal\"}, {\"UMAP_Component_1\": 10.821954727172852, \"UMAP_Component_2\": 8.202703475952148, \"localization_site\": \"CYT\", \"Z1\": 0.12864140146351927, \"Z2\": 0.715356491282423, \"Outlier_Z\": \"Normal\", \"Outlier_IQR\": \"Normal\", \"Outlier_IF\": \"Normal\"}, {\"UMAP_Component_1\": 10.33072566986084, \"UMAP_Component_2\": 9.388050079345703, \"localization_site\": \"CYT\", \"Z1\": -0.030202100498770413, \"Z2\": 1.197578100985501, \"Outlier_Z\": \"Normal\", \"Outlier_IQR\": \"Normal\", \"Outlier_IF\": \"Normal\"}, {\"UMAP_Component_1\": 14.641687393188477, \"UMAP_Component_2\": 4.348576068878174, \"localization_site\": \"MIT\", \"Z1\": 1.3637876213344151, \"Z2\": -0.8525760585043634, \"Outlier_Z\": \"Normal\", \"Outlier_IQR\": \"Normal\", \"Outlier_IF\": \"Normal\"}, {\"UMAP_Component_1\": 10.536041259765625, \"UMAP_Component_2\": 7.544009208679199, \"localization_site\": \"CYT\", \"Z1\": 0.036188612392659227, \"Z2\": 0.4473870982313252, \"Outlier_Z\": \"Normal\", \"Outlier_IQR\": \"Normal\", \"Outlier_IF\": \"Normal\"}, {\"UMAP_Component_1\": 11.75438404083252, \"UMAP_Component_2\": 10.491839408874512, \"localization_site\": \"CYT\", \"Z1\": 0.43015112551048523, \"Z2\": 1.6466206559096161, \"Outlier_Z\": \"Normal\", \"Outlier_IQR\": \"Normal\", \"Outlier_IF\": \"Normal\"}, {\"UMAP_Component_1\": 12.020942687988281, \"UMAP_Component_2\": 10.003242492675781, \"localization_site\": \"NUC\", \"Z1\": 0.5163453527498928, \"Z2\": 1.4478501100196857, \"Outlier_Z\": \"Normal\", \"Outlier_IQR\": \"Normal\", \"Outlier_IF\": \"Normal\"}, {\"UMAP_Component_1\": 13.00368881225586, \"UMAP_Component_2\": 8.458476066589355, \"localization_site\": \"NUC\", \"Z1\": 0.8341254872816709, \"Z2\": 0.8194096602221157, \"Outlier_Z\": \"Normal\", \"Outlier_IQR\": \"Normal\", \"Outlier_IF\": \"Normal\"}, {\"UMAP_Component_1\": 13.015148162841797, \"UMAP_Component_2\": 8.427888870239258, \"localization_site\": \"NUC\", \"Z1\": 0.8378309752820027, \"Z2\": 0.8069662052714534, \"Outlier_Z\": \"Normal\", \"Outlier_IQR\": \"Normal\", \"Outlier_IF\": \"Normal\"}, {\"UMAP_Component_1\": 14.08613395690918, \"UMAP_Component_2\": 7.823416233062744, \"localization_site\": \"NUC\", \"Z1\": 1.1841442308789185, \"Z2\": 0.5610552056649157, \"Outlier_Z\": \"Normal\", \"Outlier_IQR\": \"Normal\", \"Outlier_IF\": \"Normal\"}, {\"UMAP_Component_1\": 14.068222045898438, \"UMAP_Component_2\": 7.840888023376465, \"localization_site\": \"NUC\", \"Z1\": 1.1783522472219419, \"Z2\": 0.5681630632530307, \"Outlier_Z\": \"Normal\", \"Outlier_IQR\": \"Normal\", \"Outlier_IF\": \"Normal\"}, {\"UMAP_Component_1\": 6.895202159881592, \"UMAP_Component_2\": 5.239490032196045, \"localization_site\": \"ME3\", \"Z1\": -1.1411107026588103, \"Z2\": -0.49013526332417706, \"Outlier_Z\": \"Normal\", \"Outlier_IQR\": \"Normal\", \"Outlier_IF\": \"Normal\"}, {\"UMAP_Component_1\": 8.587881088256836, \"UMAP_Component_2\": 8.286126136779785, \"localization_site\": \"NUC\", \"Z1\": -0.593767167746294, \"Z2\": 0.749294421061651, \"Outlier_Z\": \"Normal\", \"Outlier_IQR\": \"Normal\", \"Outlier_IF\": \"Normal\"}, {\"UMAP_Component_1\": 8.436939239501953, \"UMAP_Component_2\": 7.817076683044434, \"localization_site\": \"NUC\", \"Z1\": -0.6425756237852841, \"Z2\": 0.5584761557854369, \"Outlier_Z\": \"Normal\", \"Outlier_IQR\": \"Normal\", \"Outlier_IF\": \"Normal\"}, {\"UMAP_Component_1\": 11.691343307495117, \"UMAP_Component_2\": 6.384892463684082, \"localization_site\": \"CYT\", \"Z1\": 0.40976631581625017, \"Z2\": -0.024163704719562185, \"Outlier_Z\": \"Normal\", \"Outlier_IQR\": \"Normal\", \"Outlier_IF\": \"Normal\"}, {\"UMAP_Component_1\": 7.940643787384033, \"UMAP_Component_2\": 4.383157730102539, \"localization_site\": \"ME3\", \"Z1\": -0.8030573918096379, \"Z2\": -0.8385075790452096, \"Outlier_Z\": \"Normal\", \"Outlier_IQR\": \"Normal\", \"Outlier_IF\": \"Normal\"}, {\"UMAP_Component_1\": 8.160408973693848, \"UMAP_Component_2\": 4.245550155639648, \"localization_site\": \"ME3\", \"Z1\": -0.7319942670143279, \"Z2\": -0.894488965312193, \"Outlier_Z\": \"Normal\", \"Outlier_IQR\": \"Normal\", \"Outlier_IF\": \"Normal\"}, {\"UMAP_Component_1\": 12.577972412109375, \"UMAP_Component_2\": 9.042530059814453, \"localization_site\": \"NUC\", \"Z1\": 0.6964661146621566, \"Z2\": 1.0570139659671138, \"Outlier_Z\": \"Normal\", \"Outlier_IQR\": \"Normal\", \"Outlier_IF\": \"Normal\"}, {\"UMAP_Component_1\": 11.929863929748535, \"UMAP_Component_2\": 6.76832389831543, \"localization_site\": \"NUC\", \"Z1\": 0.48689418593101125, \"Z2\": 0.13182351715236784, \"Outlier_Z\": \"Normal\", \"Outlier_IQR\": \"Normal\", \"Outlier_IF\": \"Normal\"}, {\"UMAP_Component_1\": 12.14438533782959, \"UMAP_Component_2\": 9.008896827697754, \"localization_site\": \"NUC\", \"Z1\": 0.5562616860783665, \"Z2\": 1.0433313255610088, \"Outlier_Z\": \"Normal\", \"Outlier_IQR\": \"Normal\", \"Outlier_IF\": \"Normal\"}, {\"UMAP_Component_1\": 11.883772850036621, \"UMAP_Component_2\": 6.751941680908203, \"localization_site\": \"NUC\", \"Z1\": 0.47199020498427086, \"Z2\": 0.12515891860709685, \"Outlier_Z\": \"Normal\", \"Outlier_IQR\": \"Normal\", \"Outlier_IF\": \"Normal\"}, {\"UMAP_Component_1\": 8.746875762939453, \"UMAP_Component_2\": 8.115459442138672, \"localization_site\": \"NUC\", \"Z1\": -0.5423547552596674, \"Z2\": 0.6798639540767832, \"Outlier_Z\": \"Normal\", \"Outlier_IQR\": \"Normal\", \"Outlier_IF\": \"Normal\"}, {\"UMAP_Component_1\": 9.285820007324219, \"UMAP_Component_2\": 5.943484306335449, \"localization_site\": \"NUC\", \"Z1\": -0.3680821020722947, \"Z2\": -0.20373696334563463, \"Outlier_Z\": \"Normal\", \"Outlier_IQR\": \"Normal\", \"Outlier_IF\": \"Normal\"}, {\"UMAP_Component_1\": 9.016885757446289, \"UMAP_Component_2\": 9.319090843200684, \"localization_site\": \"NUC\", \"Z1\": -0.455044502631345, \"Z2\": 1.1695241682686541, \"Outlier_Z\": \"Normal\", \"Outlier_IQR\": \"Normal\", \"Outlier_IF\": \"Normal\"}, {\"UMAP_Component_1\": 6.088144779205322, \"UMAP_Component_2\": 6.316322326660156, \"localization_site\": \"ME3\", \"Z1\": -1.4020802416608686, \"Z2\": -0.052059344491568744, \"Outlier_Z\": \"Normal\", \"Outlier_IQR\": \"Normal\", \"Outlier_IF\": \"Normal\"}, {\"UMAP_Component_1\": 9.137920379638672, \"UMAP_Component_2\": 2.187791347503662, \"localization_site\": \"ME1\", \"Z1\": -0.4159068275253112, \"Z2\": -1.731624501871, \"Outlier_Z\": \"Normal\", \"Outlier_IQR\": \"Normal\", \"Outlier_IF\": \"Normal\"}, {\"UMAP_Component_1\": 13.575043678283691, \"UMAP_Component_2\": 7.943258285522461, \"localization_site\": \"NUC\", \"Z1\": 1.0188784175738435, \"Z2\": 0.6098092386893458, \"Outlier_Z\": \"Normal\", \"Outlier_IQR\": \"Normal\", \"Outlier_IF\": \"Normal\"}, {\"UMAP_Component_1\": 8.400365829467773, \"UMAP_Component_2\": 7.814457416534424, \"localization_site\": \"CYT\", \"Z1\": -0.6544019773815493, \"Z2\": 0.5574105882045435, \"Outlier_Z\": \"Normal\", \"Outlier_IQR\": \"Normal\", \"Outlier_IF\": \"Normal\"}, {\"UMAP_Component_1\": 12.165534973144531, \"UMAP_Component_2\": 9.451940536499023, \"localization_site\": \"NUC\", \"Z1\": 0.5631006181175939, \"Z2\": 1.2235699577174772, \"Outlier_Z\": \"Normal\", \"Outlier_IQR\": \"Normal\", \"Outlier_IF\": \"Normal\"}, {\"UMAP_Component_1\": 12.745911598205566, \"UMAP_Component_2\": 6.223041534423828, \"localization_site\": \"MIT\", \"Z1\": 0.7507708184233431, \"Z2\": -0.09000775017966077, \"Outlier_Z\": \"Normal\", \"Outlier_IQR\": \"Normal\", \"Outlier_IF\": \"Normal\"}, {\"UMAP_Component_1\": 10.480892181396484, \"UMAP_Component_2\": 4.640192031860352, \"localization_site\": \"CYT\", \"Z1\": 0.018355643011568723, \"Z2\": -0.7339411219534973, \"Outlier_Z\": \"Normal\", \"Outlier_IQR\": \"Normal\", \"Outlier_IF\": \"Normal\"}, {\"UMAP_Component_1\": 11.899733543395996, \"UMAP_Component_2\": 10.474907875061035, \"localization_site\": \"CYT\", \"Z1\": 0.4771512441964506, \"Z2\": 1.639732584971629, \"Outlier_Z\": \"Normal\", \"Outlier_IQR\": \"Normal\", \"Outlier_IF\": \"Normal\"}, {\"UMAP_Component_1\": 7.605752468109131, \"UMAP_Component_2\": 5.3513898849487305, \"localization_site\": \"ME3\", \"Z1\": -0.9113476265556841, \"Z2\": -0.44461226864443304, \"Outlier_Z\": \"Normal\", \"Outlier_IQR\": \"Normal\", \"Outlier_IF\": \"Normal\"}, {\"UMAP_Component_1\": 14.433221817016602, \"UMAP_Component_2\": 3.681708812713623, \"localization_site\": \"MIT\", \"Z1\": 1.2963783309741859, \"Z2\": -1.1238703793429203, \"Outlier_Z\": \"Normal\", \"Outlier_IQR\": \"Normal\", \"Outlier_IF\": \"Normal\"}, {\"UMAP_Component_1\": 14.69596004486084, \"UMAP_Component_2\": 3.893285036087036, \"localization_site\": \"MIT\", \"Z1\": 1.381337189960487, \"Z2\": -1.037797135687494, \"Outlier_Z\": \"Normal\", \"Outlier_IQR\": \"Normal\", \"Outlier_IF\": \"Normal\"}, {\"UMAP_Component_1\": 8.384489059448242, \"UMAP_Component_2\": 7.91298246383667, \"localization_site\": \"CYT\", \"Z1\": -0.6595358791982538, \"Z2\": 0.5974924568918464, \"Outlier_Z\": \"Normal\", \"Outlier_IQR\": \"Normal\", \"Outlier_IF\": \"Normal\"}, {\"UMAP_Component_1\": 13.319829940795898, \"UMAP_Component_2\": 4.673084259033203, \"localization_site\": \"NUC\", \"Z1\": 0.9363526727954833, \"Z2\": -0.7205599364938166, \"Outlier_Z\": \"Normal\", \"Outlier_IQR\": \"Normal\", \"Outlier_IF\": \"Normal\"}, {\"UMAP_Component_1\": 13.273965835571289, \"UMAP_Component_2\": 4.6371541023254395, \"localization_site\": \"NUC\", \"Z1\": 0.9215220861683233, \"Z2\": -0.7351770096392558, \"Outlier_Z\": \"Normal\", \"Outlier_IQR\": \"Normal\", \"Outlier_IF\": \"Normal\"}, {\"UMAP_Component_1\": 11.995855331420898, \"UMAP_Component_2\": 9.603221893310547, \"localization_site\": \"NUC\", \"Z1\": 0.5082331217797924, \"Z2\": 1.285114099482312, \"Outlier_Z\": \"Normal\", \"Outlier_IQR\": \"Normal\", \"Outlier_IF\": \"Normal\"}, {\"UMAP_Component_1\": 11.98176383972168, \"UMAP_Component_2\": 9.645358085632324, \"localization_site\": \"NUC\", \"Z1\": 0.5036765063759224, \"Z2\": 1.3022559063006673, \"Outlier_Z\": \"Normal\", \"Outlier_IQR\": \"Normal\", \"Outlier_IF\": \"Normal\"}, {\"UMAP_Component_1\": 13.980120658874512, \"UMAP_Component_2\": 3.4335169792175293, \"localization_site\": \"MIT\", \"Z1\": 1.1498638411834394, \"Z2\": -1.2248395516685509, \"Outlier_Z\": \"Normal\", \"Outlier_IQR\": \"Normal\", \"Outlier_IF\": \"Normal\"}, {\"UMAP_Component_1\": 11.251883506774902, \"UMAP_Component_2\": 8.522823333740234, \"localization_site\": \"CYT\", \"Z1\": 0.26766288630818885, \"Z2\": 0.8455873559751177, \"Outlier_Z\": \"Normal\", \"Outlier_IQR\": \"Normal\", \"Outlier_IF\": \"Normal\"}, {\"UMAP_Component_1\": 11.278786659240723, \"UMAP_Component_2\": 7.615662574768066, \"localization_site\": \"CYT\", \"Z1\": 0.27636227183493306, \"Z2\": 0.4765370544020313, \"Outlier_Z\": \"Normal\", \"Outlier_IQR\": \"Normal\", \"Outlier_IF\": \"Normal\"}, {\"UMAP_Component_1\": 6.969921588897705, \"UMAP_Component_2\": 5.8008832931518555, \"localization_site\": \"ME3\", \"Z1\": -1.1169494776806153, \"Z2\": -0.2617497757380714, \"Outlier_Z\": \"Normal\", \"Outlier_IQR\": \"Normal\", \"Outlier_IF\": \"Normal\"}, {\"UMAP_Component_1\": 6.751613616943359, \"UMAP_Component_2\": 5.356878280639648, \"localization_site\": \"ME3\", \"Z1\": -1.1875413986090388, \"Z2\": -0.44237948458179277, \"Outlier_Z\": \"Normal\", \"Outlier_IQR\": \"Normal\", \"Outlier_IF\": \"Normal\"}, {\"UMAP_Component_1\": 6.329105377197266, \"UMAP_Component_2\": 6.01023006439209, \"localization_site\": \"ME3\", \"Z1\": -1.3241633826106174, \"Z2\": -0.17658351573902006, \"Outlier_Z\": \"Normal\", \"Outlier_IQR\": \"Normal\", \"Outlier_IF\": \"Normal\"}, {\"UMAP_Component_1\": 6.4503936767578125, \"UMAP_Component_2\": 5.839546203613281, \"localization_site\": \"ME3\", \"Z1\": -1.2849436785591701, \"Z2\": -0.2460209662361602, \"Outlier_Z\": \"Normal\", \"Outlier_IQR\": \"Normal\", \"Outlier_IF\": \"Normal\"}, {\"UMAP_Component_1\": 7.1180596351623535, \"UMAP_Component_2\": 6.32615852355957, \"localization_site\": \"ME3\", \"Z1\": -1.06904765735409, \"Z2\": -0.048057791959497206, \"Outlier_Z\": \"Normal\", \"Outlier_IQR\": \"Normal\", \"Outlier_IF\": \"Normal\"}, {\"UMAP_Component_1\": 7.472033500671387, \"UMAP_Component_2\": 5.3285698890686035, \"localization_site\": \"ME3\", \"Z1\": -0.9545869031221383, \"Z2\": -0.4538958782782971, \"Outlier_Z\": \"Normal\", \"Outlier_IQR\": \"Normal\", \"Outlier_IF\": \"Normal\"}, {\"UMAP_Component_1\": 7.451860427856445, \"UMAP_Component_2\": 5.283636093139648, \"localization_site\": \"ME3\", \"Z1\": -0.9611100545594733, \"Z2\": -0.4721758036105977, \"Outlier_Z\": \"Normal\", \"Outlier_IQR\": \"Normal\", \"Outlier_IF\": \"Normal\"}, {\"UMAP_Component_1\": 6.661787509918213, \"UMAP_Component_2\": 6.018431663513184, \"localization_site\": \"ME3\", \"Z1\": -1.2165875089625047, \"Z2\": -0.17324694876444033, \"Outlier_Z\": \"Normal\", \"Outlier_IQR\": \"Normal\", \"Outlier_IF\": \"Normal\"}, {\"UMAP_Component_1\": 10.790355682373047, \"UMAP_Component_2\": 6.290711879730225, \"localization_site\": \"POX\", \"Z1\": 0.1184235553081438, \"Z2\": -0.06247816284259793, \"Outlier_Z\": \"Normal\", \"Outlier_IQR\": \"Normal\", \"Outlier_IF\": \"Normal\"}, {\"UMAP_Component_1\": 13.405997276306152, \"UMAP_Component_2\": 3.7525343894958496, \"localization_site\": \"MIT\", \"Z1\": 0.9642156852200816, \"Z2\": -1.0950571836529042, \"Outlier_Z\": \"Normal\", \"Outlier_IQR\": \"Normal\", \"Outlier_IF\": \"Normal\"}, {\"UMAP_Component_1\": 14.49830436706543, \"UMAP_Component_2\": 3.7330710887908936, \"localization_site\": \"MIT\", \"Z1\": 1.3174233811651512, \"Z2\": -1.1029752256578407, \"Outlier_Z\": \"Normal\", \"Outlier_IQR\": \"Normal\", \"Outlier_IF\": \"Normal\"}, {\"UMAP_Component_1\": 11.984400749206543, \"UMAP_Component_2\": 6.646311283111572, \"localization_site\": \"CYT\", \"Z1\": 0.5045291756769309, \"Z2\": 0.08218645779838621, \"Outlier_Z\": \"Normal\", \"Outlier_IQR\": \"Normal\", \"Outlier_IF\": \"Normal\"}, {\"UMAP_Component_1\": 13.558660507202148, \"UMAP_Component_2\": 3.861119508743286, \"localization_site\": \"MIT\", \"Z1\": 1.0135807662458058, \"Z2\": -1.050882685794311, \"Outlier_Z\": \"Normal\", \"Outlier_IQR\": \"Normal\", \"Outlier_IF\": \"Normal\"}, {\"UMAP_Component_1\": 13.073287963867188, \"UMAP_Component_2\": 4.0133891105651855, \"localization_site\": \"MIT\", \"Z1\": 0.8566310227563888, \"Z2\": -0.9889365071076842, \"Outlier_Z\": \"Normal\", \"Outlier_IQR\": \"Normal\", \"Outlier_IF\": \"Normal\"}, {\"UMAP_Component_1\": 10.0288667678833, \"UMAP_Component_2\": 7.705569744110107, \"localization_site\": \"CYT\", \"Z1\": -0.12781099470990565, \"Z2\": 0.5131130059421495, \"Outlier_Z\": \"Normal\", \"Outlier_IQR\": \"Normal\", \"Outlier_IF\": \"Normal\"}, {\"UMAP_Component_1\": 13.521689414978027, \"UMAP_Component_2\": 3.96010422706604, \"localization_site\": \"MIT\", \"Z1\": 1.001625818400528, \"Z2\": -1.0106138141672698, \"Outlier_Z\": \"Normal\", \"Outlier_IQR\": \"Normal\", \"Outlier_IF\": \"Normal\"}, {\"UMAP_Component_1\": 14.750389099121094, \"UMAP_Component_2\": 3.750338077545166, \"localization_site\": \"MIT\", \"Z1\": 1.3989373328235806, \"Z2\": -1.0959506852508645, \"Outlier_Z\": \"Normal\", \"Outlier_IQR\": \"Normal\", \"Outlier_IF\": \"Outlier\"}, {\"UMAP_Component_1\": 14.686707496643066, \"UMAP_Component_2\": 3.796633005142212, \"localization_site\": \"MIT\", \"Z1\": 1.3783452921093535, \"Z2\": -1.0771170255912998, \"Outlier_Z\": \"Normal\", \"Outlier_IQR\": \"Normal\", \"Outlier_IF\": \"Normal\"}, {\"UMAP_Component_1\": 11.895960807800293, \"UMAP_Component_2\": 6.494149684906006, \"localization_site\": \"NUC\", \"Z1\": 0.47593129491804576, \"Z2\": 0.020284217043139936, \"Outlier_Z\": \"Normal\", \"Outlier_IQR\": \"Normal\", \"Outlier_IF\": \"Normal\"}, {\"UMAP_Component_1\": 11.07802677154541, \"UMAP_Component_2\": 4.7798004150390625, \"localization_site\": \"MIT\", \"Z1\": 0.21144468778651146, \"Z2\": -0.6771457685338781, \"Outlier_Z\": \"Normal\", \"Outlier_IQR\": \"Normal\", \"Outlier_IF\": \"Normal\"}, {\"UMAP_Component_1\": 10.478952407836914, \"UMAP_Component_2\": 9.077645301818848, \"localization_site\": \"MIT\", \"Z1\": 0.017728399120700317, \"Z2\": 1.0712995162660672, \"Outlier_Z\": \"Normal\", \"Outlier_IQR\": \"Normal\", \"Outlier_IF\": \"Normal\"}, {\"UMAP_Component_1\": 14.214664459228516, \"UMAP_Component_2\": 7.1412482261657715, \"localization_site\": \"MIT\", \"Z1\": 1.225705768808072, \"Z2\": 0.2835362475542476, \"Outlier_Z\": \"Normal\", \"Outlier_IQR\": \"Normal\", \"Outlier_IF\": \"Normal\"}, {\"UMAP_Component_1\": 10.60185432434082, \"UMAP_Component_2\": 8.055541038513184, \"localization_site\": \"CYT\", \"Z1\": 0.05746988127605577, \"Z2\": 0.6554880044900543, \"Outlier_Z\": \"Normal\", \"Outlier_IQR\": \"Normal\", \"Outlier_IF\": \"Normal\"}, {\"UMAP_Component_1\": 11.803629875183105, \"UMAP_Component_2\": 6.440382480621338, \"localization_site\": \"NUC\", \"Z1\": 0.4460752258234954, \"Z2\": -0.0015893073126542472, \"Outlier_Z\": \"Normal\", \"Outlier_IQR\": \"Normal\", \"Outlier_IF\": \"Normal\"}, {\"UMAP_Component_1\": 9.682290077209473, \"UMAP_Component_2\": 9.845636367797852, \"localization_site\": \"NUC\", \"Z1\": -0.23987980339637, \"Z2\": 1.3837329319553842, \"Outlier_Z\": \"Normal\", \"Outlier_IQR\": \"Normal\", \"Outlier_IF\": \"Normal\"}, {\"UMAP_Component_1\": 12.360674858093262, \"UMAP_Component_2\": 9.927931785583496, \"localization_site\": \"CYT\", \"Z1\": 0.6262009218076637, \"Z2\": 1.4172122777620595, \"Outlier_Z\": \"Normal\", \"Outlier_IQR\": \"Normal\", \"Outlier_IF\": \"Normal\"}, {\"UMAP_Component_1\": 8.175061225891113, \"UMAP_Component_2\": 6.311833381652832, \"localization_site\": \"ME3\", \"Z1\": -0.7272563244679651, \"Z2\": -0.05388553295079511, \"Outlier_Z\": \"Normal\", \"Outlier_IQR\": \"Normal\", \"Outlier_IF\": \"Normal\"}, {\"UMAP_Component_1\": 7.756382465362549, \"UMAP_Component_2\": 6.22053861618042, \"localization_site\": \"ME3\", \"Z1\": -0.8626400106112437, \"Z2\": -0.09102598506626362, \"Outlier_Z\": \"Normal\", \"Outlier_IQR\": \"Normal\", \"Outlier_IF\": \"Normal\"}, {\"UMAP_Component_1\": 13.764763832092285, \"UMAP_Component_2\": 3.178257942199707, \"localization_site\": \"ME1\", \"Z1\": 1.0802262005993089, \"Z2\": -1.3286837971994283, \"Outlier_Z\": \"Normal\", \"Outlier_IQR\": \"Normal\", \"Outlier_IF\": \"Normal\"}, {\"UMAP_Component_1\": 11.097350120544434, \"UMAP_Component_2\": 5.326494216918945, \"localization_site\": \"MIT\", \"Z1\": 0.2176930730946607, \"Z2\": -0.45474030130389853, \"Outlier_Z\": \"Normal\", \"Outlier_IQR\": \"Normal\", \"Outlier_IF\": \"Normal\"}, {\"UMAP_Component_1\": 9.336996078491211, \"UMAP_Component_2\": 4.530275344848633, \"localization_site\": \"MIT\", \"Z1\": -0.3515338416633565, \"Z2\": -0.7786573269793299, \"Outlier_Z\": \"Normal\", \"Outlier_IQR\": \"Normal\", \"Outlier_IF\": \"Normal\"}, {\"UMAP_Component_1\": 6.610514163970947, \"UMAP_Component_2\": 5.64452600479126, \"localization_site\": \"ME3\", \"Z1\": -1.2331672240798346, \"Z2\": -0.32535890328455763, \"Outlier_Z\": \"Normal\", \"Outlier_IQR\": \"Normal\", \"Outlier_IF\": \"Normal\"}, {\"UMAP_Component_1\": 7.123623371124268, \"UMAP_Component_2\": 5.6959943771362305, \"localization_site\": \"ME3\", \"Z1\": -1.0672485713858861, \"Z2\": -0.3044205876139058, \"Outlier_Z\": \"Normal\", \"Outlier_IQR\": \"Normal\", \"Outlier_IF\": \"Normal\"}, {\"UMAP_Component_1\": 14.598078727722168, \"UMAP_Component_2\": 7.4839911460876465, \"localization_site\": \"NUC\", \"Z1\": 1.3496863522106495, \"Z2\": 0.422970605476126, \"Outlier_Z\": \"Normal\", \"Outlier_IQR\": \"Normal\", \"Outlier_IF\": \"Outlier\"}, {\"UMAP_Component_1\": 8.544626235961914, \"UMAP_Component_2\": 9.991642951965332, \"localization_site\": \"ME3\", \"Z1\": -0.6077540280777726, \"Z2\": 1.4431311955880795, \"Outlier_Z\": \"Normal\", \"Outlier_IQR\": \"Normal\", \"Outlier_IF\": \"Normal\"}, {\"UMAP_Component_1\": 9.302611351013184, \"UMAP_Component_2\": 3.163027048110962, \"localization_site\": \"ME2\", \"Z1\": -0.36265246432080994, \"Z2\": -1.33488001545632, \"Outlier_Z\": \"Normal\", \"Outlier_IQR\": \"Normal\", \"Outlier_IF\": \"Normal\"}, {\"UMAP_Component_1\": 9.153675079345703, \"UMAP_Component_2\": 9.076937675476074, \"localization_site\": \"NUC\", \"Z1\": -0.41081239828384314, \"Z2\": 1.0710116403712837, \"Outlier_Z\": \"Normal\", \"Outlier_IQR\": \"Normal\", \"Outlier_IF\": \"Normal\"}, {\"UMAP_Component_1\": 12.921710014343262, \"UMAP_Component_2\": 4.797987461090088, \"localization_site\": \"MIT\", \"Z1\": 0.807616877594877, \"Z2\": -0.6697469312677475, \"Outlier_Z\": \"Normal\", \"Outlier_IQR\": \"Normal\", \"Outlier_IF\": \"Normal\"}, {\"UMAP_Component_1\": 6.124035835266113, \"UMAP_Component_2\": 6.299225330352783, \"localization_site\": \"ME3\", \"Z1\": -1.3904745335925859, \"Z2\": -0.05901472872840338, \"Outlier_Z\": \"Normal\", \"Outlier_IQR\": \"Normal\", \"Outlier_IF\": \"Normal\"}, {\"UMAP_Component_1\": 7.580822467803955, \"UMAP_Component_2\": 6.313811302185059, \"localization_site\": \"ME3\", \"Z1\": -0.9194089749092687, \"Z2\": -0.05308087714785577, \"Outlier_Z\": \"Normal\", \"Outlier_IQR\": \"Normal\", \"Outlier_IF\": \"Normal\"}, {\"UMAP_Component_1\": 9.301240921020508, \"UMAP_Component_2\": 2.0117011070251465, \"localization_site\": \"ME1\", \"Z1\": -0.3630956056537391, \"Z2\": -1.8032613707610345, \"Outlier_Z\": \"Normal\", \"Outlier_IQR\": \"Normal\", \"Outlier_IF\": \"Normal\"}, {\"UMAP_Component_1\": 9.176435470581055, \"UMAP_Component_2\": 2.0843801498413086, \"localization_site\": \"ME2\", \"Z1\": -0.4034526132791896, \"Z2\": -1.773694149732054, \"Outlier_Z\": \"Normal\", \"Outlier_IQR\": \"Normal\", \"Outlier_IF\": \"Normal\"}, {\"UMAP_Component_1\": 9.031021118164062, \"UMAP_Component_2\": 3.0700268745422363, \"localization_site\": \"ME3\", \"Z1\": -0.45047370177074936, \"Z2\": -1.3727142601174038, \"Outlier_Z\": \"Normal\", \"Outlier_IQR\": \"Normal\", \"Outlier_IF\": \"Normal\"}, {\"UMAP_Component_1\": 6.81886100769043, \"UMAP_Component_2\": 5.304976463317871, \"localization_site\": \"ME3\", \"Z1\": -1.1657963269666127, \"Z2\": -0.4634941339373221, \"Outlier_Z\": \"Normal\", \"Outlier_IQR\": \"Normal\", \"Outlier_IF\": \"Normal\"}, {\"UMAP_Component_1\": 12.687084197998047, \"UMAP_Component_2\": 8.748570442199707, \"localization_site\": \"CYT\", \"Z1\": 0.7317484293337574, \"Z2\": 0.9374255860046165, \"Outlier_Z\": \"Normal\", \"Outlier_IQR\": \"Normal\", \"Outlier_IF\": \"Normal\"}, {\"UMAP_Component_1\": 11.26058578491211, \"UMAP_Component_2\": 8.56947135925293, \"localization_site\": \"NUC\", \"Z1\": 0.2704768491912637, \"Z2\": 0.8645646626023958, \"Outlier_Z\": \"Normal\", \"Outlier_IQR\": \"Normal\", \"Outlier_IF\": \"Normal\"}, {\"UMAP_Component_1\": -6.636118412017822, \"UMAP_Component_2\": 4.1443586349487305, \"localization_site\": \"ERL\", \"Z1\": -5.516589542563175, \"Z2\": -0.9356556062391383, \"Outlier_Z\": \"Outlier\", \"Outlier_IQR\": \"Outlier\", \"Outlier_IF\": \"Outlier\"}, {\"UMAP_Component_1\": 12.422333717346191, \"UMAP_Component_2\": 9.180668830871582, \"localization_site\": \"NUC\", \"Z1\": 0.6461388896150412, \"Z2\": 1.1132114531416368, \"Outlier_Z\": \"Normal\", \"Outlier_IQR\": \"Normal\", \"Outlier_IF\": \"Normal\"}, {\"UMAP_Component_1\": 9.462198257446289, \"UMAP_Component_2\": 7.103630542755127, \"localization_site\": \"NUC\", \"Z1\": -0.3110485481683872, \"Z2\": 0.2682326563551433, \"Outlier_Z\": \"Normal\", \"Outlier_IQR\": \"Normal\", \"Outlier_IF\": \"Normal\"}, {\"UMAP_Component_1\": 8.915590286254883, \"UMAP_Component_2\": 2.9244437217712402, \"localization_site\": \"ME1\", \"Z1\": -0.48779933896982997, \"Z2\": -1.431940263780714, \"Outlier_Z\": \"Normal\", \"Outlier_IQR\": \"Normal\", \"Outlier_IF\": \"Normal\"}, {\"UMAP_Component_1\": 9.381592750549316, \"UMAP_Component_2\": 2.4249911308288574, \"localization_site\": \"ME1\", \"Z1\": -0.3371130913837699, \"Z2\": -1.6351271052371144, \"Outlier_Z\": \"Normal\", \"Outlier_IQR\": \"Normal\", \"Outlier_IF\": \"Normal\"}, {\"UMAP_Component_1\": 14.242608070373535, \"UMAP_Component_2\": 4.578029632568359, \"localization_site\": \"MIT\", \"Z1\": 1.234741596362809, \"Z2\": -0.7592299717833875, \"Outlier_Z\": \"Normal\", \"Outlier_IQR\": \"Normal\", \"Outlier_IF\": \"Normal\"}, {\"UMAP_Component_1\": 13.949999809265137, \"UMAP_Component_2\": 5.046504497528076, \"localization_site\": \"MIT\", \"Z1\": 1.140123983243819, \"Z2\": -0.5686454601818459, \"Outlier_Z\": \"Normal\", \"Outlier_IQR\": \"Normal\", \"Outlier_IF\": \"Normal\"}, {\"UMAP_Component_1\": 9.140944480895996, \"UMAP_Component_2\": 2.6841866970062256, \"localization_site\": \"EXC\", \"Z1\": -0.41492895614972436, \"Z2\": -1.5296814045516647, \"Outlier_Z\": \"Normal\", \"Outlier_IQR\": \"Normal\", \"Outlier_IF\": \"Normal\"}, {\"UMAP_Component_1\": 9.766067504882812, \"UMAP_Component_2\": 1.5099573135375977, \"localization_site\": \"EXC\", \"Z1\": -0.2127895899838249, \"Z2\": -2.0073803171193454, \"Outlier_Z\": \"Normal\", \"Outlier_IQR\": \"Normal\", \"Outlier_IF\": \"Outlier\"}, {\"UMAP_Component_1\": 9.54946231842041, \"UMAP_Component_2\": 9.011046409606934, \"localization_site\": \"ME3\", \"Z1\": -0.282830899325648, \"Z2\": 1.0442058164866719, \"Outlier_Z\": \"Normal\", \"Outlier_IQR\": \"Normal\", \"Outlier_IF\": \"Normal\"}, {\"UMAP_Component_1\": 10.661394119262695, \"UMAP_Component_2\": 9.023505210876465, \"localization_site\": \"ME3\", \"Z1\": 0.07672262984768616, \"Z2\": 1.049274294504801, \"Outlier_Z\": \"Normal\", \"Outlier_IQR\": \"Normal\", \"Outlier_IF\": \"Normal\"}, {\"UMAP_Component_1\": 9.971324920654297, \"UMAP_Component_2\": 6.8460373878479, \"localization_site\": \"NUC\", \"Z1\": -0.14641768824153145, \"Z2\": 0.16343884714167475, \"Outlier_Z\": \"Normal\", \"Outlier_IQR\": \"Normal\", \"Outlier_IF\": \"Normal\"}, {\"UMAP_Component_1\": -6.674415588378906, \"UMAP_Component_2\": 4.182636260986328, \"localization_site\": \"CYT\", \"Z1\": -5.528973292094909, \"Z2\": -0.9200835377904516, \"Outlier_Z\": \"Outlier\", \"Outlier_IQR\": \"Outlier\", \"Outlier_IF\": \"Outlier\"}, {\"UMAP_Component_1\": 14.730632781982422, \"UMAP_Component_2\": 3.7933971881866455, \"localization_site\": \"CYT\", \"Z1\": 1.392548943225139, \"Z2\": -1.0784334176546428, \"Outlier_Z\": \"Normal\", \"Outlier_IQR\": \"Normal\", \"Outlier_IF\": \"Outlier\"}, {\"UMAP_Component_1\": 11.945348739624023, \"UMAP_Component_2\": 8.072637557983398, \"localization_site\": \"NUC\", \"Z1\": 0.49190134377566724, \"Z2\": 0.6624431947404369, \"Outlier_Z\": \"Normal\", \"Outlier_IQR\": \"Normal\", \"Outlier_IF\": \"Normal\"}, {\"UMAP_Component_1\": 10.05797004699707, \"UMAP_Component_2\": 1.3839986324310303, \"localization_site\": \"ME1\", \"Z1\": -0.11840017769042133, \"Z2\": -2.0586227113569393, \"Outlier_Z\": \"Normal\", \"Outlier_IQR\": \"Normal\", \"Outlier_IF\": \"Outlier\"}, {\"UMAP_Component_1\": 9.151838302612305, \"UMAP_Component_2\": 6.489023685455322, \"localization_site\": \"CYT\", \"Z1\": -0.4114063371893557, \"Z2\": 0.018198862684027612, \"Outlier_Z\": \"Normal\", \"Outlier_IQR\": \"Normal\", \"Outlier_IF\": \"Normal\"}, {\"UMAP_Component_1\": 10.223210334777832, \"UMAP_Component_2\": 2.6461610794067383, \"localization_site\": \"ME2\", \"Z1\": -0.06496818789735555, \"Z2\": -1.545150951160464, \"Outlier_Z\": \"Normal\", \"Outlier_IQR\": \"Normal\", \"Outlier_IF\": \"Normal\"}, {\"UMAP_Component_1\": -6.580969333648682, \"UMAP_Component_2\": 4.0892510414123535, \"localization_site\": \"ERL\", \"Z1\": -5.498756573182084, \"Z2\": -0.9580744265115338, \"Outlier_Z\": \"Outlier\", \"Outlier_IQR\": \"Outlier\", \"Outlier_IF\": \"Outlier\"}, {\"UMAP_Component_1\": 7.097083568572998, \"UMAP_Component_2\": 5.618649005889893, \"localization_site\": \"ME3\", \"Z1\": -1.0758304643254029, \"Z2\": -0.33588616006226063, \"Outlier_Z\": \"Normal\", \"Outlier_IQR\": \"Normal\", \"Outlier_IF\": \"Normal\"}, {\"UMAP_Component_1\": 10.151573181152344, \"UMAP_Component_2\": 1.4801992177963257, \"localization_site\": \"EXC\", \"Z1\": -0.08813273035082748, \"Z2\": -2.0194864781265744, \"Outlier_Z\": \"Normal\", \"Outlier_IQR\": \"Normal\", \"Outlier_IF\": \"Outlier\"}, {\"UMAP_Component_1\": 10.036041259765625, \"UMAP_Component_2\": 8.52574634552002, \"localization_site\": \"CYT\", \"Z1\": -0.12549105577627584, \"Z2\": 0.8467764929259417, \"Outlier_Z\": \"Normal\", \"Outlier_IQR\": \"Normal\", \"Outlier_IF\": \"Normal\"}, {\"UMAP_Component_1\": 11.86828899383545, \"UMAP_Component_2\": 5.814786911010742, \"localization_site\": \"NUC\", \"Z1\": 0.46698335551910886, \"Z2\": -0.25609351877035075, \"Outlier_Z\": \"Normal\", \"Outlier_IQR\": \"Normal\", \"Outlier_IF\": \"Normal\"}, {\"UMAP_Component_1\": 9.311534881591797, \"UMAP_Component_2\": 3.0124640464782715, \"localization_site\": \"ME2\", \"Z1\": -0.3597669573951189, \"Z2\": -1.3961319166312012, \"Outlier_Z\": \"Normal\", \"Outlier_IQR\": \"Normal\", \"Outlier_IF\": \"Normal\"}, {\"UMAP_Component_1\": 10.34383487701416, \"UMAP_Component_2\": 2.356529474258423, \"localization_site\": \"ME2\", \"Z1\": -0.025963115973757098, \"Z2\": -1.6629786130912885, \"Outlier_Z\": \"Normal\", \"Outlier_IQR\": \"Normal\", \"Outlier_IF\": \"Normal\"}, {\"UMAP_Component_1\": 8.404057502746582, \"UMAP_Component_2\": 4.079463958740234, \"localization_site\": \"ME2\", \"Z1\": -0.6532082403601375, \"Z2\": -0.9620559984390483, \"Outlier_Z\": \"Normal\", \"Outlier_IQR\": \"Normal\", \"Outlier_IF\": \"Normal\"}, {\"UMAP_Component_1\": 9.087322235107422, \"UMAP_Component_2\": 2.6662521362304688, \"localization_site\": \"ME2\", \"Z1\": -0.43226820996086385, \"Z2\": -1.5369775259914558, \"Outlier_Z\": \"Normal\", \"Outlier_IQR\": \"Normal\", \"Outlier_IF\": \"Normal\"}, {\"UMAP_Component_1\": 13.101088523864746, \"UMAP_Component_2\": 8.004074096679688, \"localization_site\": \"MIT\", \"Z1\": 0.8656205933870205, \"Z2\": 0.6345502707787585, \"Outlier_Z\": \"Normal\", \"Outlier_IQR\": \"Normal\", \"Outlier_IF\": \"Normal\"}, {\"UMAP_Component_1\": 7.556511878967285, \"UMAP_Component_2\": 5.82016134262085, \"localization_site\": \"ME3\", \"Z1\": -0.9272700307814771, \"Z2\": -0.253907097469741, \"Outlier_Z\": \"Normal\", \"Outlier_IQR\": \"Normal\", \"Outlier_IF\": \"Normal\"}, {\"UMAP_Component_1\": 14.507858276367188, \"UMAP_Component_2\": 4.601419925689697, \"localization_site\": \"CYT\", \"Z1\": 1.3205127269363999, \"Z2\": -0.7497143543529189, \"Outlier_Z\": \"Normal\", \"Outlier_IQR\": \"Normal\", \"Outlier_IF\": \"Normal\"}, {\"UMAP_Component_1\": 11.17214298248291, \"UMAP_Component_2\": 8.90892505645752, \"localization_site\": \"VAC\", \"Z1\": 0.24187804329389645, \"Z2\": 1.0026609019783062, \"Outlier_Z\": \"Normal\", \"Outlier_IQR\": \"Normal\", \"Outlier_IF\": \"Normal\"}, {\"UMAP_Component_1\": 10.489596366882324, \"UMAP_Component_2\": 8.785333633422852, \"localization_site\": \"NUC\", \"Z1\": 0.021170222653631617, \"Z2\": 0.9523815534817179, \"Outlier_Z\": \"Normal\", \"Outlier_IQR\": \"Normal\", \"Outlier_IF\": \"Normal\"}, {\"UMAP_Component_1\": 14.445067405700684, \"UMAP_Component_2\": 3.7340586185455322, \"localization_site\": \"MIT\", \"Z1\": 1.300208712669602, \"Z2\": -1.1025734797157272, \"Outlier_Z\": \"Normal\", \"Outlier_IQR\": \"Normal\", \"Outlier_IF\": \"Normal\"}, {\"UMAP_Component_1\": 10.52047061920166, \"UMAP_Component_2\": 4.106302261352539, \"localization_site\": \"ME2\", \"Z1\": 0.031153700393540033, \"Z2\": -0.9511376649740922, \"Outlier_Z\": \"Normal\", \"Outlier_IQR\": \"Normal\", \"Outlier_IF\": \"Normal\"}, {\"UMAP_Component_1\": 11.183403968811035, \"UMAP_Component_2\": 8.713047981262207, \"localization_site\": \"ME2\", \"Z1\": 0.24551938835946877, \"Z2\": 0.922974371275646, \"Outlier_Z\": \"Normal\", \"Outlier_IQR\": \"Normal\", \"Outlier_IF\": \"Normal\"}, {\"UMAP_Component_1\": 9.37576675415039, \"UMAP_Component_2\": 8.902019500732422, \"localization_site\": \"CYT\", \"Z1\": -0.3389969817128333, \"Z2\": 0.9998515901802909, \"Outlier_Z\": \"Normal\", \"Outlier_IQR\": \"Normal\", \"Outlier_IF\": \"Normal\"}, {\"UMAP_Component_1\": 9.735063552856445, \"UMAP_Component_2\": 5.202394962310791, \"localization_site\": \"CYT\", \"Z1\": -0.22281500733492218, \"Z2\": -0.5052262453718779, \"Outlier_Z\": \"Normal\", \"Outlier_IQR\": \"Normal\", \"Outlier_IF\": \"Normal\"}, {\"UMAP_Component_1\": 9.322946548461914, \"UMAP_Component_2\": 9.534436225891113, \"localization_site\": \"NUC\", \"Z1\": -0.3560768883694889, \"Z2\": 1.2571307778339968, \"Outlier_Z\": \"Normal\", \"Outlier_IQR\": \"Normal\", \"Outlier_IF\": \"Normal\"}, {\"UMAP_Component_1\": 10.209870338439941, \"UMAP_Component_2\": 5.332143783569336, \"localization_site\": \"MIT\", \"Z1\": -0.06928180025992547, \"Z2\": -0.45244194982047875, \"Outlier_Z\": \"Normal\", \"Outlier_IQR\": \"Normal\", \"Outlier_IF\": \"Normal\"}, {\"UMAP_Component_1\": 7.054493427276611, \"UMAP_Component_2\": 6.360607147216797, \"localization_site\": \"ME3\", \"Z1\": -1.0896023841495386, \"Z2\": -0.03404343472045434, \"Outlier_Z\": \"Normal\", \"Outlier_IQR\": \"Normal\", \"Outlier_IF\": \"Normal\"}, {\"UMAP_Component_1\": 14.231520652770996, \"UMAP_Component_2\": 4.332456588745117, \"localization_site\": \"MIT\", \"Z1\": 1.2311563763651512, \"Z2\": -0.8591337705145766, \"Outlier_Z\": \"Normal\", \"Outlier_IQR\": \"Normal\", \"Outlier_IF\": \"Normal\"}, {\"UMAP_Component_1\": 10.424872398376465, \"UMAP_Component_2\": 7.097053050994873, \"localization_site\": \"NUC\", \"Z1\": 0.00024112315242372044, \"Z2\": 0.2655568072361112, \"Outlier_Z\": \"Normal\", \"Outlier_IQR\": \"Normal\", \"Outlier_IF\": \"Normal\"}, {\"UMAP_Component_1\": 13.322298049926758, \"UMAP_Component_2\": 4.213083744049072, \"localization_site\": \"MIT\", \"Z1\": 0.9371507589260474, \"Z2\": -0.9076969208702284, \"Outlier_Z\": \"Normal\", \"Outlier_IQR\": \"Normal\", \"Outlier_IF\": \"Normal\"}, {\"UMAP_Component_1\": 6.42152214050293, \"UMAP_Component_2\": 6.498382091522217, \"localization_site\": \"ME3\", \"Z1\": -1.2942795593616039, \"Z2\": 0.02200604079118468, \"Outlier_Z\": \"Normal\", \"Outlier_IQR\": \"Normal\", \"Outlier_IF\": \"Normal\"}, {\"UMAP_Component_1\": 10.005939483642578, \"UMAP_Component_2\": 7.597568511962891, \"localization_site\": \"CYT\", \"Z1\": -0.13522474612601543, \"Z2\": 0.4691760444940428, \"Outlier_Z\": \"Normal\", \"Outlier_IQR\": \"Normal\", \"Outlier_IF\": \"Normal\"}, {\"UMAP_Component_1\": 8.255380630493164, \"UMAP_Component_2\": 10.99719524383545, \"localization_site\": \"NUC\", \"Z1\": -0.701284295100793, \"Z2\": 1.852209049641906, \"Outlier_Z\": \"Normal\", \"Outlier_IQR\": \"Normal\", \"Outlier_IF\": \"Outlier\"}, {\"UMAP_Component_1\": 10.256675720214844, \"UMAP_Component_2\": 7.182312488555908, \"localization_site\": \"CYT\", \"Z1\": -0.05414684307215241, \"Z2\": 0.30024197282848347, \"Outlier_Z\": \"Normal\", \"Outlier_IQR\": \"Normal\", \"Outlier_IF\": \"Normal\"}, {\"UMAP_Component_1\": 14.473465919494629, \"UMAP_Component_2\": 4.465553283691406, \"localization_site\": \"NUC\", \"Z1\": 1.3093916372429941, \"Z2\": -0.8049874960836121, \"Outlier_Z\": \"Normal\", \"Outlier_IQR\": \"Normal\", \"Outlier_IF\": \"Normal\"}, {\"UMAP_Component_1\": 10.579155921936035, \"UMAP_Component_2\": 4.626596450805664, \"localization_site\": \"NUC\", \"Z1\": 0.05013014093851453, \"Z2\": -0.7394720636732192, \"Outlier_Z\": \"Normal\", \"Outlier_IQR\": \"Normal\", \"Outlier_IF\": \"Normal\"}, {\"UMAP_Component_1\": 12.125799179077148, \"UMAP_Component_2\": 10.630084037780762, \"localization_site\": \"NUC\", \"Z1\": 0.5502516781191067, \"Z2\": 1.7028612080764856, \"Outlier_Z\": \"Normal\", \"Outlier_IQR\": \"Normal\", \"Outlier_IF\": \"Outlier\"}, {\"UMAP_Component_1\": 8.383378028869629, \"UMAP_Component_2\": 7.9186201095581055, \"localization_site\": \"ME2\", \"Z1\": -0.6598951413088053, \"Z2\": 0.5997859587139659, \"Outlier_Z\": \"Normal\", \"Outlier_IQR\": \"Normal\", \"Outlier_IF\": \"Normal\"}, {\"UMAP_Component_1\": 8.680902481079102, \"UMAP_Component_2\": 8.385758399963379, \"localization_site\": \"NUC\", \"Z1\": -0.5636878318980619, \"Z2\": 0.7898267262905222, \"Outlier_Z\": \"Normal\", \"Outlier_IQR\": \"Normal\", \"Outlier_IF\": \"Normal\"}, {\"UMAP_Component_1\": 12.150590896606445, \"UMAP_Component_2\": 10.549722671508789, \"localization_site\": \"CYT\", \"Z1\": 0.5582683114460562, \"Z2\": 1.6701686713191646, \"Outlier_Z\": \"Normal\", \"Outlier_IQR\": \"Normal\", \"Outlier_IF\": \"Outlier\"}, {\"UMAP_Component_1\": 6.341599941253662, \"UMAP_Component_2\": 6.128201961517334, \"localization_site\": \"ME3\", \"Z1\": -1.32012314866951, \"Z2\": -0.12859029757937496, \"Outlier_Z\": \"Normal\", \"Outlier_IQR\": \"Normal\", \"Outlier_IF\": \"Normal\"}, {\"UMAP_Component_1\": 11.93973445892334, \"UMAP_Component_2\": 9.17089557647705, \"localization_site\": \"CYT\", \"Z1\": 0.4900859136942797, \"Z2\": 1.1092355068212307, \"Outlier_Z\": \"Normal\", \"Outlier_IQR\": \"Normal\", \"Outlier_IF\": \"Normal\"}, {\"UMAP_Component_1\": 11.48625659942627, \"UMAP_Component_2\": 9.399364471435547, \"localization_site\": \"NUC\", \"Z1\": 0.3434496140033891, \"Z2\": 1.202181011518805, \"Outlier_Z\": \"Normal\", \"Outlier_IQR\": \"Normal\", \"Outlier_IF\": \"Normal\"}, {\"UMAP_Component_1\": 6.394288063049316, \"UMAP_Component_2\": 6.114038944244385, \"localization_site\": \"ME3\", \"Z1\": -1.3030859525727785, \"Z2\": -0.13435208317698932, \"Outlier_Z\": \"Normal\", \"Outlier_IQR\": \"Normal\", \"Outlier_IF\": \"Normal\"}, {\"UMAP_Component_1\": 11.3872709274292, \"UMAP_Component_2\": 9.370878219604492, \"localization_site\": \"NUC\", \"Z1\": 0.31144167279945834, \"Z2\": 1.190592260875701, \"Outlier_Z\": \"Normal\", \"Outlier_IQR\": \"Normal\", \"Outlier_IF\": \"Normal\"}, {\"UMAP_Component_1\": 12.439353942871094, \"UMAP_Component_2\": 6.816662311553955, \"localization_site\": \"CYT\", \"Z1\": 0.6516425384450946, \"Z2\": 0.15148850575202305, \"Outlier_Z\": \"Normal\", \"Outlier_IQR\": \"Normal\", \"Outlier_IF\": \"Normal\"}, {\"UMAP_Component_1\": 14.604669570922852, \"UMAP_Component_2\": 3.7823665142059326, \"localization_site\": \"MIT\", \"Z1\": 1.3518175628939293, \"Z2\": -1.0829209062490006, \"Outlier_Z\": \"Normal\", \"Outlier_IQR\": \"Normal\", \"Outlier_IF\": \"Normal\"}, {\"UMAP_Component_1\": 13.467900276184082, \"UMAP_Component_2\": 4.221439361572266, \"localization_site\": \"MIT\", \"Z1\": 0.9842325981779322, \"Z2\": -0.9042976962716492, \"Outlier_Z\": \"Normal\", \"Outlier_IQR\": \"Normal\", \"Outlier_IF\": \"Normal\"}, {\"UMAP_Component_1\": 9.173528671264648, \"UMAP_Component_2\": 3.2695677280426025, \"localization_site\": \"MIT\", \"Z1\": -0.40439255397701007, \"Z2\": -1.2915372345107214, \"Outlier_Z\": \"Normal\", \"Outlier_IQR\": \"Normal\", \"Outlier_IF\": \"Normal\"}, {\"UMAP_Component_1\": 11.495628356933594, \"UMAP_Component_2\": 9.996522903442383, \"localization_site\": \"MIT\", \"Z1\": 0.3464800592912769, \"Z2\": 1.4451164529379543, \"Outlier_Z\": \"Normal\", \"Outlier_IQR\": \"Normal\", \"Outlier_IF\": \"Normal\"}, {\"UMAP_Component_1\": 10.254054069519043, \"UMAP_Component_2\": 2.938602924346924, \"localization_site\": \"MIT\", \"Z1\": -0.054994578301256265, \"Z2\": -1.4261800300747156, \"Outlier_Z\": \"Normal\", \"Outlier_IQR\": \"Normal\", \"Outlier_IF\": \"Normal\"}, {\"UMAP_Component_1\": 9.263703346252441, \"UMAP_Component_2\": 9.533820152282715, \"localization_site\": \"NUC\", \"Z1\": -0.37523373091847423, \"Z2\": 1.2568801473379994, \"Outlier_Z\": \"Normal\", \"Outlier_IQR\": \"Normal\", \"Outlier_IF\": \"Normal\"}, {\"UMAP_Component_1\": 14.606026649475098, \"UMAP_Component_2\": 7.461270332336426, \"localization_site\": \"NUC\", \"Z1\": 1.3522563869139421, \"Z2\": 0.41372734502428016, \"Outlier_Z\": \"Normal\", \"Outlier_IQR\": \"Normal\", \"Outlier_IF\": \"Outlier\"}, {\"UMAP_Component_1\": 8.85799503326416, \"UMAP_Component_2\": 10.276992797851562, \"localization_site\": \"NUC\", \"Z1\": -0.5064233017531218, \"Z2\": 1.5592169561730762, \"Outlier_Z\": \"Normal\", \"Outlier_IQR\": \"Normal\", \"Outlier_IF\": \"Normal\"}, {\"UMAP_Component_1\": 8.627276420593262, \"UMAP_Component_2\": 8.15414810180664, \"localization_site\": \"NUC\", \"Z1\": -0.5810283192271776, \"Z2\": 0.695603238847103, \"Outlier_Z\": \"Normal\", \"Outlier_IQR\": \"Normal\", \"Outlier_IF\": \"Normal\"}, {\"UMAP_Component_1\": 12.776731491088867, \"UMAP_Component_2\": 4.048669815063477, \"localization_site\": \"MIT\", \"Z1\": 0.7607367185320916, \"Z2\": -0.9745836435098831, \"Outlier_Z\": \"Normal\", \"Outlier_IQR\": \"Normal\", \"Outlier_IF\": \"Normal\"}, {\"UMAP_Component_1\": 9.419594764709473, \"UMAP_Component_2\": 4.439809322357178, \"localization_site\": \"CYT\", \"Z1\": -0.3248247853054394, \"Z2\": -0.8154606306412042, \"Outlier_Z\": \"Normal\", \"Outlier_IQR\": \"Normal\", \"Outlier_IF\": \"Normal\"}, {\"UMAP_Component_1\": -4.659365177154541, \"UMAP_Component_2\": 0.22965003550052643, \"localization_site\": \"POX\", \"Z1\": -4.877387928434046, \"Z2\": -2.5282337407188717, \"Outlier_Z\": \"Outlier\", \"Outlier_IQR\": \"Outlier\", \"Outlier_IF\": \"Outlier\"}, {\"UMAP_Component_1\": 13.60348129272461, \"UMAP_Component_2\": 4.3004631996154785, \"localization_site\": \"MIT\", \"Z1\": 1.028073985706491, \"Z2\": -0.8721492915122177, \"Outlier_Z\": \"Normal\", \"Outlier_IQR\": \"Normal\", \"Outlier_IF\": \"Normal\"}, {\"UMAP_Component_1\": 13.537657737731934, \"UMAP_Component_2\": 3.808663845062256, \"localization_site\": \"ME3\", \"Z1\": 1.00678932464866, \"Z2\": -1.0722226504138503, \"Outlier_Z\": \"Normal\", \"Outlier_IQR\": \"Normal\", \"Outlier_IF\": \"Normal\"}, {\"UMAP_Component_1\": 9.063582420349121, \"UMAP_Component_2\": 3.287116050720215, \"localization_site\": \"ME2\", \"Z1\": -0.439944700705892, \"Z2\": -1.2843982420970588, \"Outlier_Z\": \"Normal\", \"Outlier_IQR\": \"Normal\", \"Outlier_IF\": \"Normal\"}, {\"UMAP_Component_1\": 10.376935005187988, \"UMAP_Component_2\": 7.277724266052246, \"localization_site\": \"CYT\", \"Z1\": -0.015259880494769597, \"Z2\": 0.3390573039706102, \"Outlier_Z\": \"Normal\", \"Outlier_IQR\": \"Normal\", \"Outlier_IF\": \"Normal\"}, {\"UMAP_Component_1\": 12.14211368560791, \"UMAP_Component_2\": 8.479862213134766, \"localization_site\": \"MIT\", \"Z1\": 0.5555271261235737, \"Z2\": 0.8281099525947843, \"Outlier_Z\": \"Normal\", \"Outlier_IQR\": \"Normal\", \"Outlier_IF\": \"Normal\"}, {\"UMAP_Component_1\": 10.127018928527832, \"UMAP_Component_2\": 5.716812610626221, \"localization_site\": \"NUC\", \"Z1\": -0.096072577183762, \"Z2\": -0.29595133310558164, \"Outlier_Z\": \"Normal\", \"Outlier_IQR\": \"Normal\", \"Outlier_IF\": \"Normal\"}, {\"UMAP_Component_1\": 13.51572322845459, \"UMAP_Component_2\": 3.998384952545166, \"localization_site\": \"MIT\", \"Z1\": 0.9996965962858412, \"Z2\": -0.995040484806645, \"Outlier_Z\": \"Normal\", \"Outlier_IQR\": \"Normal\", \"Outlier_IF\": \"Normal\"}, {\"UMAP_Component_1\": 14.399026870727539, \"UMAP_Component_2\": 3.8798205852508545, \"localization_site\": \"MIT\", \"Z1\": 1.2853210758360456, \"Z2\": -1.0432747311329131, \"Outlier_Z\": \"Normal\", \"Outlier_IQR\": \"Normal\", \"Outlier_IF\": \"Normal\"}, {\"UMAP_Component_1\": 9.084518432617188, \"UMAP_Component_2\": 3.403702974319458, \"localization_site\": \"NUC\", \"Z1\": -0.4331748456733285, \"Z2\": -1.2369684575872781, \"Outlier_Z\": \"Normal\", \"Outlier_IQR\": \"Normal\", \"Outlier_IF\": \"Normal\"}, {\"UMAP_Component_1\": 9.576852798461914, \"UMAP_Component_2\": 4.230199337005615, \"localization_site\": \"EXC\", \"Z1\": -0.27397393187745156, \"Z2\": -0.9007339711617653, \"Outlier_Z\": \"Normal\", \"Outlier_IQR\": \"Normal\", \"Outlier_IF\": \"Normal\"}, {\"UMAP_Component_1\": 7.519428253173828, \"UMAP_Component_2\": 5.149597644805908, \"localization_site\": \"ME3\", \"Z1\": -0.9392613674070512, \"Z2\": -0.5267052012842829, \"Outlier_Z\": \"Normal\", \"Outlier_IQR\": \"Normal\", \"Outlier_IF\": \"Normal\"}, {\"UMAP_Component_1\": 9.99001693725586, \"UMAP_Component_2\": 6.634634017944336, \"localization_site\": \"NUC\", \"Z1\": -0.14037345015843375, \"Z2\": 0.07743592357510233, \"Outlier_Z\": \"Normal\", \"Outlier_IQR\": \"Normal\", \"Outlier_IF\": \"Normal\"}, {\"UMAP_Component_1\": 9.211812973022461, \"UMAP_Component_2\": 8.231257438659668, \"localization_site\": \"NUC\", \"Z1\": -0.3920129675684451, \"Z2\": 0.7269727880017127, \"Outlier_Z\": \"Normal\", \"Outlier_IQR\": \"Normal\", \"Outlier_IF\": \"Normal\"}, {\"UMAP_Component_1\": 10.206888198852539, \"UMAP_Component_2\": 6.974493980407715, \"localization_site\": \"CYT\", \"Z1\": -0.0702461029377748, \"Z2\": 0.21569743940812558, \"Outlier_Z\": \"Normal\", \"Outlier_IQR\": \"Normal\", \"Outlier_IF\": \"Normal\"}, {\"UMAP_Component_1\": 11.700085639953613, \"UMAP_Component_2\": 8.056596755981445, \"localization_site\": \"CYT\", \"Z1\": 0.4125932306380745, \"Z2\": 0.6559174904948054, \"Outlier_Z\": \"Normal\", \"Outlier_IQR\": \"Normal\", \"Outlier_IF\": \"Normal\"}, {\"UMAP_Component_1\": 9.214479446411133, \"UMAP_Component_2\": 6.508029460906982, \"localization_site\": \"CYT\", \"Z1\": -0.39115073850312154, \"Z2\": 0.02593077468826008, \"Outlier_Z\": \"Normal\", \"Outlier_IQR\": \"Normal\", \"Outlier_IF\": \"Normal\"}, {\"UMAP_Component_1\": 9.36421012878418, \"UMAP_Component_2\": 5.770747184753418, \"localization_site\": \"NUC\", \"Z1\": -0.3427339244215567, \"Z2\": -0.27400971950513175, \"Outlier_Z\": \"Normal\", \"Outlier_IQR\": \"Normal\", \"Outlier_IF\": \"Normal\"}, {\"UMAP_Component_1\": 9.880675315856934, \"UMAP_Component_2\": 4.7486348152160645, \"localization_site\": \"NUC\", \"Z1\": -0.17573008428809705, \"Z2\": -0.689824529050829, \"Outlier_Z\": \"Normal\", \"Outlier_IQR\": \"Normal\", \"Outlier_IF\": \"Normal\"}, {\"UMAP_Component_1\": 11.904092788696289, \"UMAP_Component_2\": 8.506162643432617, \"localization_site\": \"CYT\", \"Z1\": 0.4785608468636873, \"Z2\": 0.8388094693418726, \"Outlier_Z\": \"Normal\", \"Outlier_IQR\": \"Normal\", \"Outlier_IF\": \"Normal\"}, {\"UMAP_Component_1\": 13.868875503540039, \"UMAP_Component_2\": 7.387091159820557, \"localization_site\": \"EXC\", \"Z1\": 1.113891681583681, \"Z2\": 0.3835498426172747, \"Outlier_Z\": \"Normal\", \"Outlier_IQR\": \"Normal\", \"Outlier_IF\": \"Normal\"}, {\"UMAP_Component_1\": 10.20859146118164, \"UMAP_Component_2\": 1.6513402462005615, \"localization_site\": \"EXC\", \"Z1\": -0.06969533716142721, \"Z2\": -1.949863043118569, \"Outlier_Z\": \"Normal\", \"Outlier_IQR\": \"Normal\", \"Outlier_IF\": \"Outlier\"}, {\"UMAP_Component_1\": 10.245908737182617, \"UMAP_Component_2\": 2.2764062881469727, \"localization_site\": \"EXC\", \"Z1\": -0.0576284475598143, \"Z2\": -1.6955742536158303, \"Outlier_Z\": \"Normal\", \"Outlier_IQR\": \"Normal\", \"Outlier_IF\": \"Normal\"}, {\"UMAP_Component_1\": 14.73961353302002, \"UMAP_Component_2\": 4.339365482330322, \"localization_site\": \"MIT\", \"Z1\": 1.3954529529204722, \"Z2\": -0.8563231008113972, \"Outlier_Z\": \"Normal\", \"Outlier_IQR\": \"Normal\", \"Outlier_IF\": \"Outlier\"}, {\"UMAP_Component_1\": 12.76525592803955, \"UMAP_Component_2\": 3.8344380855560303, \"localization_site\": \"MIT\", \"Z1\": 0.7570259880803611, \"Z2\": -1.0617371977165555, \"Outlier_Z\": \"Normal\", \"Outlier_IQR\": \"Normal\", \"Outlier_IF\": \"Normal\"}, {\"UMAP_Component_1\": 13.950200080871582, \"UMAP_Component_2\": 5.179744243621826, \"localization_site\": \"MIT\", \"Z1\": 1.1401887429375666, \"Z2\": -0.5144409898152782, \"Outlier_Z\": \"Normal\", \"Outlier_IQR\": \"Normal\", \"Outlier_IF\": \"Normal\"}, {\"UMAP_Component_1\": 11.302046775817871, \"UMAP_Component_2\": 5.88071870803833, \"localization_site\": \"NUC\", \"Z1\": 0.2838836476944612, \"Z2\": -0.229271206037318, \"Outlier_Z\": \"Normal\", \"Outlier_IQR\": \"Normal\", \"Outlier_IF\": \"Normal\"}, {\"UMAP_Component_1\": 9.691736221313477, \"UMAP_Component_2\": 10.183219909667969, \"localization_site\": \"NUC\", \"Z1\": -0.23682530450794742, \"Z2\": 1.5210683564665095, \"Outlier_Z\": \"Normal\", \"Outlier_IQR\": \"Normal\", \"Outlier_IF\": \"Normal\"}, {\"UMAP_Component_1\": 9.81362533569336, \"UMAP_Component_2\": 9.74349308013916, \"localization_site\": \"NUC\", \"Z1\": -0.19741132137525777, \"Z2\": 1.3421790940702258, \"Outlier_Z\": \"Normal\", \"Outlier_IQR\": \"Normal\", \"Outlier_IF\": \"Normal\"}, {\"UMAP_Component_1\": 8.348840713500977, \"UMAP_Component_2\": 10.180883407592773, \"localization_site\": \"MIT\", \"Z1\": -0.6710631046853045, \"Z2\": 1.5201178228516583, \"Outlier_Z\": \"Normal\", \"Outlier_IQR\": \"Normal\", \"Outlier_IF\": \"Normal\"}, {\"UMAP_Component_1\": 9.29071044921875, \"UMAP_Component_2\": 4.348583221435547, \"localization_site\": \"MIT\", \"Z1\": -0.36650073202688016, \"Z2\": -0.8525731487075833, \"Outlier_Z\": \"Normal\", \"Outlier_IQR\": \"Normal\", \"Outlier_IF\": \"Normal\"}, {\"UMAP_Component_1\": 14.048134803771973, \"UMAP_Component_2\": 3.454366683959961, \"localization_site\": \"MIT\", \"Z1\": 1.17185684993907, \"Z2\": -1.216357494054394, \"Outlier_Z\": \"Normal\", \"Outlier_IQR\": \"Normal\", \"Outlier_IF\": \"Normal\"}, {\"UMAP_Component_1\": 8.464942932128906, \"UMAP_Component_2\": 7.545523643493652, \"localization_site\": \"NUC\", \"Z1\": -0.6335203683224229, \"Z2\": 0.4480031992029104, \"Outlier_Z\": \"Normal\", \"Outlier_IQR\": \"Normal\", \"Outlier_IF\": \"Normal\"}, {\"UMAP_Component_1\": 10.89102554321289, \"UMAP_Component_2\": 5.9480204582214355, \"localization_site\": \"CYT\", \"Z1\": 0.15097609469854142, \"Z2\": -0.20189157022765924, \"Outlier_Z\": \"Normal\", \"Outlier_IQR\": \"Normal\", \"Outlier_IF\": \"Normal\"}, {\"UMAP_Component_1\": -4.663757801055908, \"UMAP_Component_2\": 0.229777991771698, \"localization_site\": \"POX\", \"Z1\": -4.878808324383574, \"Z2\": -2.52818168566689, \"Outlier_Z\": \"Outlier\", \"Outlier_IQR\": \"Outlier\", \"Outlier_IF\": \"Outlier\"}, {\"UMAP_Component_1\": 13.681990623474121, \"UMAP_Component_2\": 3.2903730869293213, \"localization_site\": \"ME2\", \"Z1\": 1.0534607107939833, \"Z2\": -1.2830732176366015, \"Outlier_Z\": \"Normal\", \"Outlier_IQR\": \"Normal\", \"Outlier_IF\": \"Normal\"}, {\"UMAP_Component_1\": 8.995749473571777, \"UMAP_Component_2\": 3.186269521713257, \"localization_site\": \"ME2\", \"Z1\": -0.4618791173576559, \"Z2\": -1.3254245338259747, \"Outlier_Z\": \"Normal\", \"Outlier_IQR\": \"Normal\", \"Outlier_IF\": \"Normal\"}, {\"UMAP_Component_1\": 9.222281455993652, \"UMAP_Component_2\": 2.9035444259643555, \"localization_site\": \"ME2\", \"Z1\": -0.38862788586241637, \"Z2\": -1.44044249598588, \"Outlier_Z\": \"Normal\", \"Outlier_IQR\": \"Normal\", \"Outlier_IF\": \"Normal\"}, {\"UMAP_Component_1\": 11.179265975952148, \"UMAP_Component_2\": 5.320189952850342, \"localization_site\": \"MIT\", \"Z1\": 0.24418132973484832, \"Z2\": -0.4573049961859287, \"Outlier_Z\": \"Normal\", \"Outlier_IQR\": \"Normal\", \"Outlier_IF\": \"Normal\"}, {\"UMAP_Component_1\": 9.062554359436035, \"UMAP_Component_2\": 8.866615295410156, \"localization_site\": \"NUC\", \"Z1\": -0.44027713380046235, \"Z2\": 0.985448484091419, \"Outlier_Z\": \"Normal\", \"Outlier_IQR\": \"Normal\", \"Outlier_IF\": \"Normal\"}, {\"UMAP_Component_1\": 14.707476615905762, \"UMAP_Component_2\": 3.774153232574463, \"localization_site\": \"MIT\", \"Z1\": 1.3850611807304607, \"Z2\": -1.0862622258916546, \"Outlier_Z\": \"Normal\", \"Outlier_IQR\": \"Normal\", \"Outlier_IF\": \"Normal\"}, {\"UMAP_Component_1\": 8.972825050354004, \"UMAP_Component_2\": 4.110782146453857, \"localization_site\": \"MIT\", \"Z1\": -0.4692919436352836, \"Z2\": -0.949315162257454, \"Outlier_Z\": \"Normal\", \"Outlier_IQR\": \"Normal\", \"Outlier_IF\": \"Normal\"}, {\"UMAP_Component_1\": 9.807729721069336, \"UMAP_Component_2\": 10.14719295501709, \"localization_site\": \"NUC\", \"Z1\": -0.19931772340738582, \"Z2\": 1.506411904071312, \"Outlier_Z\": \"Normal\", \"Outlier_IQR\": \"Normal\", \"Outlier_IF\": \"Normal\"}, {\"UMAP_Component_1\": 12.554597854614258, \"UMAP_Component_2\": 4.005823612213135, \"localization_site\": \"MIT\", \"Z1\": 0.6889077332633441, \"Z2\": -0.992014296155282, \"Outlier_Z\": \"Normal\", \"Outlier_IQR\": \"Normal\", \"Outlier_IF\": \"Normal\"}, {\"UMAP_Component_1\": 14.064712524414062, \"UMAP_Component_2\": 5.224867820739746, \"localization_site\": \"MIT\", \"Z1\": 1.1772174106838909, \"Z2\": -0.49608385787507747, \"Outlier_Z\": \"Normal\", \"Outlier_IQR\": \"Normal\", \"Outlier_IF\": \"Normal\"}, {\"UMAP_Component_1\": 13.386266708374023, \"UMAP_Component_2\": 6.190680980682373, \"localization_site\": \"MIT\", \"Z1\": 0.9578356218679791, \"Z2\": -0.10317264074534989, \"Outlier_Z\": \"Normal\", \"Outlier_IQR\": \"Normal\", \"Outlier_IF\": \"Normal\"}, {\"UMAP_Component_1\": 12.231507301330566, \"UMAP_Component_2\": 7.7912750244140625, \"localization_site\": \"MIT\", \"Z1\": 0.5844333863764944, \"Z2\": 0.5479795488671515, \"Outlier_Z\": \"Normal\", \"Outlier_IQR\": \"Normal\", \"Outlier_IF\": \"Normal\"}, {\"UMAP_Component_1\": 12.702909469604492, \"UMAP_Component_2\": 6.425786972045898, \"localization_site\": \"MIT\", \"Z1\": 0.7368656786577841, \"Z2\": -0.0075270386222420745, \"Outlier_Z\": \"Normal\", \"Outlier_IQR\": \"Normal\", \"Outlier_IF\": \"Normal\"}, {\"UMAP_Component_1\": 12.706212043762207, \"UMAP_Component_2\": 6.25779914855957, \"localization_site\": \"MIT\", \"Z1\": 0.7379335968456293, \"Z2\": -0.07586768971971514, \"Outlier_Z\": \"Normal\", \"Outlier_IQR\": \"Normal\", \"Outlier_IF\": \"Normal\"}, {\"UMAP_Component_1\": 14.754095077514648, \"UMAP_Component_2\": 4.030548095703125, \"localization_site\": \"MIT\", \"Z1\": 1.400135695537403, \"Z2\": -0.9819559046320883, \"Outlier_Z\": \"Normal\", \"Outlier_IQR\": \"Normal\", \"Outlier_IF\": \"Normal\"}, {\"UMAP_Component_1\": 13.091636657714844, \"UMAP_Component_2\": 6.151198863983154, \"localization_site\": \"MIT\", \"Z1\": 0.8625642442216337, \"Z2\": -0.11923471897181505, \"Outlier_Z\": \"Normal\", \"Outlier_IQR\": \"Normal\", \"Outlier_IF\": \"Normal\"}, {\"UMAP_Component_1\": -4.673612594604492, \"UMAP_Component_2\": 0.2406376749277115, \"localization_site\": \"MIT\", \"Z1\": -4.88199496388519, \"Z2\": -2.523763759401808, \"Outlier_Z\": \"Outlier\", \"Outlier_IQR\": \"Outlier\", \"Outlier_IF\": \"Outlier\"}, {\"UMAP_Component_1\": 12.304462432861328, \"UMAP_Component_2\": 10.378737449645996, \"localization_site\": \"MIT\", \"Z1\": 0.6080241092907236, \"Z2\": 1.6006086213843538, \"Outlier_Z\": \"Normal\", \"Outlier_IQR\": \"Normal\", \"Outlier_IF\": \"Outlier\"}, {\"UMAP_Component_1\": 14.058161735534668, \"UMAP_Component_2\": 4.638522624969482, \"localization_site\": \"MIT\", \"Z1\": 1.1750991519393603, \"Z2\": -0.7346202685219859, \"Outlier_Z\": \"Normal\", \"Outlier_IQR\": \"Normal\", \"Outlier_IF\": \"Normal\"}, {\"UMAP_Component_1\": 12.427024841308594, \"UMAP_Component_2\": 6.452343463897705, \"localization_site\": \"MIT\", \"Z1\": 0.6476558083462023, \"Z2\": 0.0032766488495758503, \"Outlier_Z\": \"Normal\", \"Outlier_IQR\": \"Normal\", \"Outlier_IF\": \"Normal\"}, {\"UMAP_Component_1\": 13.801691055297852, \"UMAP_Component_2\": 7.021814823150635, \"localization_site\": \"MIT\", \"Z1\": 1.0921669629878612, \"Z2\": 0.2349484609191905, \"Outlier_Z\": \"Normal\", \"Outlier_IQR\": \"Normal\", \"Outlier_IF\": \"Normal\"}, {\"UMAP_Component_1\": 13.0440092086792, \"UMAP_Component_2\": 4.95393180847168, \"localization_site\": \"MIT\", \"Z1\": 0.847163463910002, \"Z2\": -0.6063057959887024, \"Outlier_Z\": \"Normal\", \"Outlier_IQR\": \"Normal\", \"Outlier_IF\": \"Normal\"}, {\"UMAP_Component_1\": 13.056443214416504, \"UMAP_Component_2\": 6.341162204742432, \"localization_site\": \"MIT\", \"Z1\": 0.851184115753238, \"Z2\": -0.04195400824698843, \"Outlier_Z\": \"Normal\", \"Outlier_IQR\": \"Normal\", \"Outlier_IF\": \"Normal\"}, {\"UMAP_Component_1\": 14.321371078491211, \"UMAP_Component_2\": 7.001389980316162, \"localization_site\": \"MIT\", \"Z1\": 1.260210350395715, \"Z2\": 0.22663924523377493, \"Outlier_Z\": \"Normal\", \"Outlier_IQR\": \"Normal\", \"Outlier_IF\": \"Outlier\"}, {\"UMAP_Component_1\": 11.095731735229492, \"UMAP_Component_2\": 5.246680736541748, \"localization_site\": \"MIT\", \"Z1\": 0.2171697530932823, \"Z2\": -0.48720994762785946, \"Outlier_Z\": \"Normal\", \"Outlier_IQR\": \"Normal\", \"Outlier_IF\": \"Normal\"}, {\"UMAP_Component_1\": 12.887989044189453, \"UMAP_Component_2\": 5.722845077514648, \"localization_site\": \"MIT\", \"Z1\": 0.7967128870652723, \"Z2\": -0.2934972105011974, \"Outlier_Z\": \"Normal\", \"Outlier_IQR\": \"Normal\", \"Outlier_IF\": \"Normal\"}, {\"UMAP_Component_1\": 10.620715141296387, \"UMAP_Component_2\": 4.784923076629639, \"localization_site\": \"MIT\", \"Z1\": 0.06356870252959777, \"Z2\": -0.6750617720799298, \"Outlier_Z\": \"Normal\", \"Outlier_IQR\": \"Normal\", \"Outlier_IF\": \"Normal\"}, {\"UMAP_Component_1\": 14.145827293395996, \"UMAP_Component_2\": 4.805605411529541, \"localization_site\": \"MIT\", \"Z1\": 1.2034466285490886, \"Z2\": -0.6666478037104286, \"Outlier_Z\": \"Normal\", \"Outlier_IQR\": \"Normal\", \"Outlier_IF\": \"Normal\"}, {\"UMAP_Component_1\": 11.880350112915039, \"UMAP_Component_2\": 6.472832202911377, \"localization_site\": \"MIT\", \"Z1\": 0.4708834309801771, \"Z2\": 0.011611858719560815, \"Outlier_Z\": \"Normal\", \"Outlier_IQR\": \"Normal\", \"Outlier_IF\": \"Normal\"}, {\"UMAP_Component_1\": 13.956381797790527, \"UMAP_Component_2\": 5.358916759490967, \"localization_site\": \"MIT\", \"Z1\": 1.1421876588179054, \"Z2\": -0.4415501924994481, \"Outlier_Z\": \"Normal\", \"Outlier_IQR\": \"Normal\", \"Outlier_IF\": \"Normal\"}, {\"UMAP_Component_1\": 12.955146789550781, \"UMAP_Component_2\": 5.993079662322998, \"localization_site\": \"MIT\", \"Z1\": 0.818428971035259, \"Z2\": -0.18356062645847987, \"Outlier_Z\": \"Normal\", \"Outlier_IQR\": \"Normal\", \"Outlier_IF\": \"Normal\"}, {\"UMAP_Component_1\": 13.831884384155273, \"UMAP_Component_2\": 4.453787326812744, \"localization_site\": \"MIT\", \"Z1\": 1.1019302577690282, \"Z2\": -0.8097741117869699, \"Outlier_Z\": \"Normal\", \"Outlier_IQR\": \"Normal\", \"Outlier_IF\": \"Normal\"}, {\"UMAP_Component_1\": 13.116584777832031, \"UMAP_Component_2\": 6.270668983459473, \"localization_site\": \"MIT\", \"Z1\": 0.870631451785605, \"Z2\": -0.07063199537995313, \"Outlier_Z\": \"Normal\", \"Outlier_IQR\": \"Normal\", \"Outlier_IF\": \"Normal\"}, {\"UMAP_Component_1\": 13.091794967651367, \"UMAP_Component_2\": 4.043307304382324, \"localization_site\": \"MIT\", \"Z1\": 0.8626154352176436, \"Z2\": -0.9767652151491927, \"Outlier_Z\": \"Normal\", \"Outlier_IQR\": \"Normal\", \"Outlier_IF\": \"Normal\"}, {\"UMAP_Component_1\": 13.982826232910156, \"UMAP_Component_2\": 4.469618797302246, \"localization_site\": \"MIT\", \"Z1\": 1.1507387138080183, \"Z2\": -0.8033335675937711, \"Outlier_Z\": \"Normal\", \"Outlier_IQR\": \"Normal\", \"Outlier_IF\": \"Normal\"}, {\"UMAP_Component_1\": 13.318828582763672, \"UMAP_Component_2\": 4.685019016265869, \"localization_site\": \"MIT\", \"Z1\": 0.9360288743267459, \"Z2\": -0.715704649586447, \"Outlier_Z\": \"Normal\", \"Outlier_IQR\": \"Normal\", \"Outlier_IF\": \"Normal\"}, {\"UMAP_Component_1\": 14.04629135131836, \"UMAP_Component_2\": 4.412718772888184, \"localization_site\": \"MIT\", \"Z1\": 1.1712607523770993, \"Z2\": -0.8264815829392739, \"Outlier_Z\": \"Normal\", \"Outlier_IQR\": \"Normal\", \"Outlier_IF\": \"Normal\"}, {\"UMAP_Component_1\": 12.455249786376953, \"UMAP_Component_2\": 4.5388288497924805, \"localization_site\": \"MIT\", \"Z1\": 0.6567826078516799, \"Z2\": -0.7751775980031664, \"Outlier_Z\": \"Normal\", \"Outlier_IQR\": \"Normal\", \"Outlier_IF\": \"Normal\"}, {\"UMAP_Component_1\": 14.141194343566895, \"UMAP_Component_2\": 3.489165782928467, \"localization_site\": \"MIT\", \"Z1\": 1.2019485209670637, \"Z2\": -1.2022005567731233, \"Outlier_Z\": \"Normal\", \"Outlier_IQR\": \"Normal\", \"Outlier_IF\": \"Normal\"}, {\"UMAP_Component_1\": 9.729299545288086, \"UMAP_Component_2\": 5.015423774719238, \"localization_site\": \"MIT\", \"Z1\": -0.22467885299687332, \"Z2\": -0.5812896911103389, \"Outlier_Z\": \"Normal\", \"Outlier_IQR\": \"Normal\", \"Outlier_IF\": \"Normal\"}, {\"UMAP_Component_1\": 8.97442626953125, \"UMAP_Component_2\": 5.4527201652526855, \"localization_site\": \"MIT\", \"Z1\": -0.4687741744647978, \"Z2\": -0.4033891776599526, \"Outlier_Z\": \"Normal\", \"Outlier_IQR\": \"Normal\", \"Outlier_IF\": \"Normal\"}, {\"UMAP_Component_1\": 9.669794082641602, \"UMAP_Component_2\": 1.626255750656128, \"localization_site\": \"ME1\", \"Z1\": -0.24392049990671844, \"Z2\": -1.9600678944130308, \"Outlier_Z\": \"Normal\", \"Outlier_IQR\": \"Normal\", \"Outlier_IF\": \"Outlier\"}, {\"UMAP_Component_1\": 13.434898376464844, \"UMAP_Component_2\": 4.691481590270996, \"localization_site\": \"MIT\", \"Z1\": 0.9735611257868303, \"Z2\": -0.7130755512023494, \"Outlier_Z\": \"Normal\", \"Outlier_IQR\": \"Normal\", \"Outlier_IF\": \"Normal\"}, {\"UMAP_Component_1\": 11.380669593811035, \"UMAP_Component_2\": 8.389881134033203, \"localization_site\": \"MIT\", \"Z1\": 0.30930706994174395, \"Z2\": 0.7915039331546045, \"Outlier_Z\": \"Normal\", \"Outlier_IQR\": \"Normal\", \"Outlier_IF\": \"Normal\"}, {\"UMAP_Component_1\": 14.18026351928711, \"UMAP_Component_2\": 4.105739593505859, \"localization_site\": \"MIT\", \"Z1\": 1.21458190369922, \"Z2\": -0.9513665689874646, \"Outlier_Z\": \"Normal\", \"Outlier_IQR\": \"Normal\", \"Outlier_IF\": \"Normal\"}, {\"UMAP_Component_1\": 10.36984634399414, \"UMAP_Component_2\": 9.386472702026367, \"localization_site\": \"NUC\", \"Z1\": -0.01755206527393619, \"Z2\": 1.1969363938022506, \"Outlier_Z\": \"Normal\", \"Outlier_IQR\": \"Normal\", \"Outlier_IF\": \"Normal\"}, {\"UMAP_Component_1\": 9.998642921447754, \"UMAP_Component_2\": 4.926690101623535, \"localization_site\": \"NUC\", \"Z1\": -0.13758415763488177, \"Z2\": -0.6173882419920593, \"Outlier_Z\": \"Normal\", \"Outlier_IQR\": \"Normal\", \"Outlier_IF\": \"Normal\"}, {\"UMAP_Component_1\": 13.48304557800293, \"UMAP_Component_2\": 3.9124982357025146, \"localization_site\": \"NUC\", \"Z1\": 0.9891299729227115, \"Z2\": -1.029980839576637, \"Outlier_Z\": \"Normal\", \"Outlier_IQR\": \"Normal\", \"Outlier_IF\": \"Normal\"}, {\"UMAP_Component_1\": 14.351778984069824, \"UMAP_Component_2\": 3.6167023181915283, \"localization_site\": \"MIT\", \"Z1\": 1.27004303056304, \"Z2\": -1.1503162613658267, \"Outlier_Z\": \"Normal\", \"Outlier_IQR\": \"Normal\", \"Outlier_IF\": \"Normal\"}, {\"UMAP_Component_1\": 13.292155265808105, \"UMAP_Component_2\": 4.265319347381592, \"localization_site\": \"MIT\", \"Z1\": 0.9274038082580643, \"Z2\": -0.8864464809982918, \"Outlier_Z\": \"Normal\", \"Outlier_IQR\": \"Normal\", \"Outlier_IF\": \"Normal\"}, {\"UMAP_Component_1\": 13.7294921875, \"UMAP_Component_2\": 7.430849075317383, \"localization_site\": \"NUC\", \"Z1\": 1.0688207850124023, \"Z2\": 0.40135139735891756, \"Outlier_Z\": \"Normal\", \"Outlier_IQR\": \"Normal\", \"Outlier_IF\": \"Normal\"}, {\"UMAP_Component_1\": 11.575783729553223, \"UMAP_Component_2\": 6.7491583824157715, \"localization_site\": \"NUC\", \"Z1\": 0.3723990473854748, \"Z2\": 0.12402661968671187, \"Outlier_Z\": \"Normal\", \"Outlier_IQR\": \"Normal\", \"Outlier_IF\": \"Normal\"}, {\"UMAP_Component_1\": 8.495601654052734, \"UMAP_Component_2\": 8.551301002502441, \"localization_site\": \"NUC\", \"Z1\": -0.6236065843481665, \"Z2\": 0.8571726148620857, \"Outlier_Z\": \"Normal\", \"Outlier_IQR\": \"Normal\", \"Outlier_IF\": \"Normal\"}, {\"UMAP_Component_1\": 9.855271339416504, \"UMAP_Component_2\": 4.269792079925537, \"localization_site\": \"MIT\", \"Z1\": -0.18394469725021728, \"Z2\": -0.8846268880784337, \"Outlier_Z\": \"Normal\", \"Outlier_IQR\": \"Normal\", \"Outlier_IF\": \"Normal\"}, {\"UMAP_Component_1\": 11.625198364257812, \"UMAP_Component_2\": 7.57561731338501, \"localization_site\": \"MIT\", \"Z1\": 0.38837773086892924, \"Z2\": 0.4602458781757418, \"Outlier_Z\": \"Normal\", \"Outlier_IQR\": \"Normal\", \"Outlier_IF\": \"Normal\"}, {\"UMAP_Component_1\": 14.551787376403809, \"UMAP_Component_2\": 3.7034249305725098, \"localization_site\": \"MIT\", \"Z1\": 1.3347176115701616, \"Z2\": -1.1150358483454603, \"Outlier_Z\": \"Normal\", \"Outlier_IQR\": \"Normal\", \"Outlier_IF\": \"Normal\"}, {\"UMAP_Component_1\": 13.233739852905273, \"UMAP_Component_2\": 3.563272714614868, \"localization_site\": \"MIT\", \"Z1\": 0.9085146391099018, \"Z2\": -1.1720524433135975, \"Outlier_Z\": \"Normal\", \"Outlier_IQR\": \"Normal\", \"Outlier_IF\": \"Normal\"}, {\"UMAP_Component_1\": 11.47470474243164, \"UMAP_Component_2\": 6.31754207611084, \"localization_site\": \"MIT\", \"Z1\": 0.3397142131921359, \"Z2\": -0.05156312714732601, \"Outlier_Z\": \"Normal\", \"Outlier_IQR\": \"Normal\", \"Outlier_IF\": \"Normal\"}, {\"UMAP_Component_1\": 13.109646797180176, \"UMAP_Component_2\": 4.439396858215332, \"localization_site\": \"MIT\", \"Z1\": 0.868387990966496, \"Z2\": -0.8156284289221932, \"Outlier_Z\": \"Normal\", \"Outlier_IQR\": \"Normal\", \"Outlier_IF\": \"Normal\"}, {\"UMAP_Component_1\": 14.74780559539795, \"UMAP_Component_2\": 4.257064342498779, \"localization_site\": \"MIT\", \"Z1\": 1.398101932774238, \"Z2\": -0.8898047744554967, \"Outlier_Z\": \"Normal\", \"Outlier_IQR\": \"Normal\", \"Outlier_IF\": \"Normal\"}, {\"UMAP_Component_1\": 13.244918823242188, \"UMAP_Component_2\": 4.693314552307129, \"localization_site\": \"MIT\", \"Z1\": 0.9121294635389872, \"Z2\": -0.7123298672808213, \"Outlier_Z\": \"Normal\", \"Outlier_IQR\": \"Normal\", \"Outlier_IF\": \"Normal\"}, {\"UMAP_Component_1\": 10.742512702941895, \"UMAP_Component_2\": 6.872412204742432, \"localization_site\": \"CYT\", \"Z1\": 0.10295308123086, \"Z2\": 0.1741686257752767, \"Outlier_Z\": \"Normal\", \"Outlier_IQR\": \"Normal\", \"Outlier_IF\": \"Normal\"}, {\"UMAP_Component_1\": 11.694487571716309, \"UMAP_Component_2\": 10.465080261230469, \"localization_site\": \"MIT\", \"Z1\": 0.41078304300808555, \"Z2\": 1.6357345241956938, \"Outlier_Z\": \"Normal\", \"Outlier_IQR\": \"Normal\", \"Outlier_IF\": \"Normal\"}, {\"UMAP_Component_1\": 9.243051528930664, \"UMAP_Component_2\": 9.349320411682129, \"localization_site\": \"NUC\", \"Z1\": -0.3819116888618151, \"Z2\": 1.1818221333803085, \"Outlier_Z\": \"Normal\", \"Outlier_IQR\": \"Normal\", \"Outlier_IF\": \"Normal\"}, {\"UMAP_Component_1\": 11.138593673706055, \"UMAP_Component_2\": 8.592514991760254, \"localization_site\": \"NUC\", \"Z1\": 0.23102956107321818, \"Z2\": 0.8739392518822529, \"Outlier_Z\": \"Normal\", \"Outlier_IQR\": \"Normal\", \"Outlier_IF\": \"Normal\"}, {\"UMAP_Component_1\": 9.976097106933594, \"UMAP_Component_2\": 7.050148963928223, \"localization_site\": \"CYT\", \"Z1\": -0.14487455725337733, \"Z2\": 0.2464753298841034, \"Outlier_Z\": \"Normal\", \"Outlier_IQR\": \"Normal\", \"Outlier_IF\": \"Normal\"}, {\"UMAP_Component_1\": -6.670231342315674, \"UMAP_Component_2\": 4.1783952713012695, \"localization_site\": \"CYT\", \"Z1\": -5.527620277064828, \"Z2\": -0.9218088532946325, \"Outlier_Z\": \"Outlier\", \"Outlier_IQR\": \"Outlier\", \"Outlier_IF\": \"Outlier\"}, {\"UMAP_Component_1\": 10.733940124511719, \"UMAP_Component_2\": 8.389820098876953, \"localization_site\": \"CYT\", \"Z1\": 0.10018105795897403, \"Z2\": 0.7914791028887472, \"Outlier_Z\": \"Normal\", \"Outlier_IQR\": \"Normal\", \"Outlier_IF\": \"Normal\"}, {\"UMAP_Component_1\": 14.138988494873047, \"UMAP_Component_2\": 7.28001594543457, \"localization_site\": \"EXC\", \"Z1\": 1.2012352391973593, \"Z2\": 0.3399896028589724, \"Outlier_Z\": \"Normal\", \"Outlier_IQR\": \"Normal\", \"Outlier_IF\": \"Normal\"}, {\"UMAP_Component_1\": 10.238837242126465, \"UMAP_Component_2\": 4.519938945770264, \"localization_site\": \"NUC\", \"Z1\": -0.059915081508088254, \"Z2\": -0.7828623712995604, \"Outlier_Z\": \"Normal\", \"Outlier_IQR\": \"Normal\", \"Outlier_IF\": \"Normal\"}, {\"UMAP_Component_1\": 10.029356956481934, \"UMAP_Component_2\": 5.402772903442383, \"localization_site\": \"EXC\", \"Z1\": -0.12765248764997134, \"Z2\": -0.4237086765486911, \"Outlier_Z\": \"Normal\", \"Outlier_IQR\": \"Normal\", \"Outlier_IF\": \"Normal\"}, {\"UMAP_Component_1\": 9.784876823425293, \"UMAP_Component_2\": 1.4953383207321167, \"localization_site\": \"ME1\", \"Z1\": -0.20670742122296085, \"Z2\": -2.0133276022616946, \"Outlier_Z\": \"Normal\", \"Outlier_IQR\": \"Normal\", \"Outlier_IF\": \"Outlier\"}, {\"UMAP_Component_1\": 6.343181610107422, \"UMAP_Component_2\": 5.896312713623047, \"localization_site\": \"ME3\", \"Z1\": -1.319611701278652, \"Z2\": -0.2229272670972203, \"Outlier_Z\": \"Normal\", \"Outlier_IQR\": \"Normal\", \"Outlier_IF\": \"Normal\"}, {\"UMAP_Component_1\": 10.700735092163086, \"UMAP_Component_2\": 5.503657341003418, \"localization_site\": \"CYT\", \"Z1\": 0.08944390073564261, \"Z2\": -0.38266696289684043, \"Outlier_Z\": \"Normal\", \"Outlier_IQR\": \"Normal\", \"Outlier_IF\": \"Normal\"}, {\"UMAP_Component_1\": 14.377320289611816, \"UMAP_Component_2\": 7.173125267028809, \"localization_site\": \"NUC\", \"Z1\": 1.2783020501723013, \"Z2\": 0.2965044358575981, \"Outlier_Z\": \"Normal\", \"Outlier_IQR\": \"Normal\", \"Outlier_IF\": \"Normal\"}, {\"UMAP_Component_1\": 12.830816268920898, \"UMAP_Component_2\": 8.661134719848633, \"localization_site\": \"NUC\", \"Z1\": 0.7782255363978383, \"Z2\": 0.9018550662452685, \"Outlier_Z\": \"Normal\", \"Outlier_IQR\": \"Normal\", \"Outlier_IF\": \"Normal\"}, {\"UMAP_Component_1\": 12.860918045043945, \"UMAP_Component_2\": 4.702315330505371, \"localization_site\": \"MIT\", \"Z1\": 0.7879592267475779, \"Z2\": -0.708668179012672, \"Outlier_Z\": \"Normal\", \"Outlier_IQR\": \"Normal\", \"Outlier_IF\": \"Normal\"}, {\"UMAP_Component_1\": 13.029742240905762, \"UMAP_Component_2\": 4.030313014984131, \"localization_site\": \"MIT\", \"Z1\": 0.8425501066792295, \"Z2\": -0.9820515399529294, \"Outlier_Z\": \"Normal\", \"Outlier_IQR\": \"Normal\", \"Outlier_IF\": \"Normal\"}, {\"UMAP_Component_1\": 11.237313270568848, \"UMAP_Component_2\": 8.137837409973145, \"localization_site\": \"CYT\", \"Z1\": 0.262951464398313, \"Z2\": 0.6889677382696335, \"Outlier_Z\": \"Normal\", \"Outlier_IQR\": \"Normal\", \"Outlier_IF\": \"Normal\"}, {\"UMAP_Component_1\": 13.525890350341797, \"UMAP_Component_2\": 4.935873508453369, \"localization_site\": \"MIT\", \"Z1\": 1.0029842300717546, \"Z2\": -0.6136522569127901, \"Outlier_Z\": \"Normal\", \"Outlier_IQR\": \"Normal\", \"Outlier_IF\": \"Normal\"}, {\"UMAP_Component_1\": 12.179997444152832, \"UMAP_Component_2\": 8.83092212677002, \"localization_site\": \"NUC\", \"Z1\": 0.5677771931446437, \"Z2\": 0.970927822212629, \"Outlier_Z\": \"Normal\", \"Outlier_IQR\": \"Normal\", \"Outlier_IF\": \"Normal\"}, {\"UMAP_Component_1\": 13.060338020324707, \"UMAP_Component_2\": 5.368093967437744, \"localization_site\": \"CYT\", \"Z1\": 0.8524435376068794, \"Z2\": -0.437816729244055, \"Outlier_Z\": \"Normal\", \"Outlier_IQR\": \"Normal\", \"Outlier_IF\": \"Normal\"}, {\"UMAP_Component_1\": 13.59626293182373, \"UMAP_Component_2\": 3.451951503753662, \"localization_site\": \"CYT\", \"Z1\": 1.0257398613161355, \"Z2\": -1.2173400354338269, \"Outlier_Z\": \"Normal\", \"Outlier_IQR\": \"Normal\", \"Outlier_IF\": \"Normal\"}, {\"UMAP_Component_1\": 9.813529014587402, \"UMAP_Component_2\": 3.5472123622894287, \"localization_site\": \"ME2\", \"Z1\": -0.19744246770415536, \"Z2\": -1.1785861010037615, \"Outlier_Z\": \"Normal\", \"Outlier_IQR\": \"Normal\", \"Outlier_IF\": \"Normal\"}, {\"UMAP_Component_1\": 7.835568428039551, \"UMAP_Component_2\": 4.583373069763184, \"localization_site\": \"NUC\", \"Z1\": -0.837034490272733, \"Z2\": -0.7570561596021583, \"Outlier_Z\": \"Normal\", \"Outlier_IQR\": \"Normal\", \"Outlier_IF\": \"Normal\"}, {\"UMAP_Component_1\": 8.96597957611084, \"UMAP_Component_2\": 8.18255615234375, \"localization_site\": \"NUC\", \"Z1\": -0.4715054916434711, \"Z2\": 0.7071601757120775, \"Outlier_Z\": \"Normal\", \"Outlier_IQR\": \"Normal\", \"Outlier_IF\": \"Normal\"}, {\"UMAP_Component_1\": 13.563220024108887, \"UMAP_Component_2\": 3.5882039070129395, \"localization_site\": \"MIT\", \"Z1\": 1.0150551286067901, \"Z2\": -1.1619099586634571, \"Outlier_Z\": \"Normal\", \"Outlier_IQR\": \"Normal\", \"Outlier_IF\": \"Normal\"}, {\"UMAP_Component_1\": 14.150144577026367, \"UMAP_Component_2\": 3.66131591796875, \"localization_site\": \"NUC\", \"Z1\": 1.2048426625185877, \"Z2\": -1.1321665979360511, \"Outlier_Z\": \"Normal\", \"Outlier_IQR\": \"Normal\", \"Outlier_IF\": \"Normal\"}, {\"UMAP_Component_1\": 8.8558931350708, \"UMAP_Component_2\": 10.356492042541504, \"localization_site\": \"NUC\", \"Z1\": -0.5071029701579762, \"Z2\": 1.5915587654251624, \"Outlier_Z\": \"Normal\", \"Outlier_IQR\": \"Normal\", \"Outlier_IF\": \"Normal\"}, {\"UMAP_Component_1\": 11.466553688049316, \"UMAP_Component_2\": 10.132654190063477, \"localization_site\": \"NUC\", \"Z1\": 0.33707849365661363, \"Z2\": 1.5004972571495134, \"Outlier_Z\": \"Normal\", \"Outlier_IQR\": \"Normal\", \"Outlier_IF\": \"Normal\"}, {\"UMAP_Component_1\": 12.542820930480957, \"UMAP_Component_2\": 9.561746597290039, \"localization_site\": \"NUC\", \"Z1\": 0.6850995548914985, \"Z2\": 1.2682411578864432, \"Outlier_Z\": \"Normal\", \"Outlier_IQR\": \"Normal\", \"Outlier_IF\": \"Normal\"}, {\"UMAP_Component_1\": 12.50786018371582, \"UMAP_Component_2\": 8.948461532592773, \"localization_site\": \"NUC\", \"Z1\": 0.6737946710196476, \"Z2\": 1.0187450946603005, \"Outlier_Z\": \"Normal\", \"Outlier_IQR\": \"Normal\", \"Outlier_IF\": \"Normal\"}, {\"UMAP_Component_1\": 7.866316318511963, \"UMAP_Component_2\": 6.278306007385254, \"localization_site\": \"NUC\", \"Z1\": -0.8270918728157842, \"Z2\": -0.06752510836455378, \"Outlier_Z\": \"Normal\", \"Outlier_IQR\": \"Normal\", \"Outlier_IF\": \"Normal\"}, {\"UMAP_Component_1\": 11.72676944732666, \"UMAP_Component_2\": 10.73791790008545, \"localization_site\": \"CYT\", \"Z1\": 0.4212216888811905, \"Z2\": 1.7467300802799364, \"Outlier_Z\": \"Normal\", \"Outlier_IQR\": \"Normal\", \"Outlier_IF\": \"Outlier\"}, {\"UMAP_Component_1\": 7.958642959594727, \"UMAP_Component_2\": 6.1705780029296875, \"localization_site\": \"CYT\", \"Z1\": -0.7972371914289571, \"Z2\": -0.11135091557565839, \"Outlier_Z\": \"Normal\", \"Outlier_IQR\": \"Normal\", \"Outlier_IF\": \"Normal\"}, {\"UMAP_Component_1\": 11.214897155761719, \"UMAP_Component_2\": 9.080842018127441, \"localization_site\": \"NUC\", \"Z1\": 0.2557030043910063, \"Z2\": 1.0726000014403454, \"Outlier_Z\": \"Normal\", \"Outlier_IQR\": \"Normal\", \"Outlier_IF\": \"Normal\"}, {\"UMAP_Component_1\": 10.029956817626953, \"UMAP_Component_2\": 7.767735958099365, \"localization_site\": \"CYT\", \"Z1\": -0.12745851694822294, \"Z2\": 0.5384034076636557, \"Outlier_Z\": \"Normal\", \"Outlier_IQR\": \"Normal\", \"Outlier_IF\": \"Normal\"}, {\"UMAP_Component_1\": 11.142460823059082, \"UMAP_Component_2\": 9.316431045532227, \"localization_site\": \"NUC\", \"Z1\": 0.2322800399215325, \"Z2\": 1.1684421118393398, \"Outlier_Z\": \"Normal\", \"Outlier_IQR\": \"Normal\", \"Outlier_IF\": \"Normal\"}, {\"UMAP_Component_1\": 8.72527027130127, \"UMAP_Component_2\": 10.305944442749023, \"localization_site\": \"NUC\", \"Z1\": -0.5493410926970439, \"Z2\": 1.5709950375933426, \"Outlier_Z\": \"Normal\", \"Outlier_IQR\": \"Normal\", \"Outlier_IF\": \"Normal\"}, {\"UMAP_Component_1\": 8.338461875915527, \"UMAP_Component_2\": 11.060102462768555, \"localization_site\": \"NUC\", \"Z1\": -0.6744191987188939, \"Z2\": 1.8778009063098364, \"Outlier_Z\": \"Normal\", \"Outlier_IQR\": \"Normal\", \"Outlier_IF\": \"Outlier\"}, {\"UMAP_Component_1\": 11.673584938049316, \"UMAP_Component_2\": 8.406914710998535, \"localization_site\": \"NUC\", \"Z1\": 0.4040239812578133, \"Z2\": 0.7984335171933218, \"Outlier_Z\": \"Normal\", \"Outlier_IQR\": \"Normal\", \"Outlier_IF\": \"Normal\"}, {\"UMAP_Component_1\": 12.340433120727539, \"UMAP_Component_2\": 8.863579750061035, \"localization_site\": \"NUC\", \"Z1\": 0.6196555670467582, \"Z2\": 0.9842135663379206, \"Outlier_Z\": \"Normal\", \"Outlier_IQR\": \"Normal\", \"Outlier_IF\": \"Normal\"}, {\"UMAP_Component_1\": 10.408190727233887, \"UMAP_Component_2\": 3.0526840686798096, \"localization_site\": \"NUC\", \"Z1\": -0.005153050957246942, \"Z2\": -1.3797696443702498, \"Outlier_Z\": \"Normal\", \"Outlier_IQR\": \"Normal\", \"Outlier_IF\": \"Normal\"}, {\"UMAP_Component_1\": 11.54063892364502, \"UMAP_Component_2\": 10.383326530456543, \"localization_site\": \"NUC\", \"Z1\": 0.36103464627127496, \"Z2\": 1.6024755469985024, \"Outlier_Z\": \"Normal\", \"Outlier_IQR\": \"Normal\", \"Outlier_IF\": \"Normal\"}, {\"UMAP_Component_1\": 11.974008560180664, \"UMAP_Component_2\": 9.285173416137695, \"localization_site\": \"CYT\", \"Z1\": 0.501168764330425, \"Z2\": 1.1557259119371508, \"Outlier_Z\": \"Normal\", \"Outlier_IQR\": \"Normal\", \"Outlier_IF\": \"Normal\"}, {\"UMAP_Component_1\": 10.330513000488281, \"UMAP_Component_2\": 2.392676830291748, \"localization_site\": \"MIT\", \"Z1\": -0.03027086912594035, \"Z2\": -1.6482731791169585, \"Outlier_Z\": \"Normal\", \"Outlier_IQR\": \"Normal\", \"Outlier_IF\": \"Normal\"}, {\"UMAP_Component_1\": 9.01578140258789, \"UMAP_Component_2\": 9.582060813903809, \"localization_site\": \"NUC\", \"Z1\": -0.45540160608543817, \"Z2\": 1.2765053687149925, \"Outlier_Z\": \"Normal\", \"Outlier_IQR\": \"Normal\", \"Outlier_IF\": \"Normal\"}, {\"UMAP_Component_1\": 10.683639526367188, \"UMAP_Component_2\": 8.010213851928711, \"localization_site\": \"NUC\", \"Z1\": 0.0839158899255605, \"Z2\": 0.637048040334845, \"Outlier_Z\": \"Normal\", \"Outlier_IQR\": \"Normal\", \"Outlier_IF\": \"Normal\"}, {\"UMAP_Component_1\": 10.21508502960205, \"UMAP_Component_2\": 2.2622857093811035, \"localization_site\": \"NUC\", \"Z1\": -0.06759558118653883, \"Z2\": -1.7013187744192158, \"Outlier_Z\": \"Normal\", \"Outlier_IQR\": \"Normal\", \"Outlier_IF\": \"Normal\"}, {\"UMAP_Component_1\": 8.45705795288086, \"UMAP_Component_2\": 10.242826461791992, \"localization_site\": \"NUC\", \"Z1\": -0.6360700499791092, \"Z2\": 1.5453174389136235, \"Outlier_Z\": \"Normal\", \"Outlier_IQR\": \"Normal\", \"Outlier_IF\": \"Normal\"}, {\"UMAP_Component_1\": 10.521808624267578, \"UMAP_Component_2\": 4.044797897338867, \"localization_site\": \"NUC\", \"Z1\": 0.031586356823671974, \"Z2\": -0.976158813500208, \"Outlier_Z\": \"Normal\", \"Outlier_IQR\": \"Normal\", \"Outlier_IF\": \"Normal\"}, {\"UMAP_Component_1\": 10.246573448181152, \"UMAP_Component_2\": 1.7366260290145874, \"localization_site\": \"NUC\", \"Z1\": -0.05741350705247149, \"Z2\": -1.9151671597747233, \"Outlier_Z\": \"Normal\", \"Outlier_IQR\": \"Normal\", \"Outlier_IF\": \"Outlier\"}, {\"UMAP_Component_1\": 9.371756553649902, \"UMAP_Component_2\": 3.498141288757324, \"localization_site\": \"NUC\", \"Z1\": -0.340293717485253, \"Z2\": -1.1985491497869307, \"Outlier_Z\": \"Normal\", \"Outlier_IQR\": \"Normal\", \"Outlier_IF\": \"Normal\"}, {\"UMAP_Component_1\": 11.884405136108398, \"UMAP_Component_2\": 9.536789894104004, \"localization_site\": \"NUC\", \"Z1\": 0.47219466058881643, \"Z2\": 1.2580882949611205, \"Outlier_Z\": \"Normal\", \"Outlier_IQR\": \"Normal\", \"Outlier_IF\": \"Normal\"}, {\"UMAP_Component_1\": -6.657614231109619, \"UMAP_Component_2\": 4.165869235992432, \"localization_site\": \"NUC\", \"Z1\": -5.523540416358737, \"Z2\": -0.926904683402495, \"Outlier_Z\": \"Outlier\", \"Outlier_IQR\": \"Outlier\", \"Outlier_IF\": \"Outlier\"}, {\"UMAP_Component_1\": 13.589364051818848, \"UMAP_Component_2\": 3.2850584983825684, \"localization_site\": \"ME2\", \"Z1\": 1.023509044056282, \"Z2\": -1.285235293637484, \"Outlier_Z\": \"Normal\", \"Outlier_IQR\": \"Normal\", \"Outlier_IF\": \"Normal\"}, {\"UMAP_Component_1\": 6.904376029968262, \"UMAP_Component_2\": 6.355473041534424, \"localization_site\": \"ME2\", \"Z1\": -1.1381442461159348, \"Z2\": -0.036132086849250844, \"Outlier_Z\": \"Normal\", \"Outlier_IQR\": \"Normal\", \"Outlier_IF\": \"Normal\"}, {\"UMAP_Component_1\": 9.12597370147705, \"UMAP_Component_2\": 3.006608247756958, \"localization_site\": \"MIT\", \"Z1\": -0.41976989744709514, \"Z2\": -1.3985141672551156, \"Outlier_Z\": \"Normal\", \"Outlier_IQR\": \"Normal\", \"Outlier_IF\": \"Normal\"}, {\"UMAP_Component_1\": 7.6583428382873535, \"UMAP_Component_2\": 5.1056928634643555, \"localization_site\": \"MIT\", \"Z1\": -0.8943420393570911, \"Z2\": -0.5445665038531449, \"Outlier_Z\": \"Normal\", \"Outlier_IQR\": \"Normal\", \"Outlier_IF\": \"Normal\"}, {\"UMAP_Component_1\": 10.531942367553711, \"UMAP_Component_2\": 2.0749831199645996, \"localization_site\": \"MIT\", \"Z1\": 0.034863197327294225, \"Z2\": -1.777517040741824, \"Outlier_Z\": \"Normal\", \"Outlier_IQR\": \"Normal\", \"Outlier_IF\": \"Outlier\"}, {\"UMAP_Component_1\": 12.258914947509766, \"UMAP_Component_2\": 7.864795684814453, \"localization_site\": \"MIT\", \"Z1\": 0.5932959046555835, \"Z2\": 0.5778891559839305, \"Outlier_Z\": \"Normal\", \"Outlier_IQR\": \"Normal\", \"Outlier_IF\": \"Normal\"}, {\"UMAP_Component_1\": 14.47604751586914, \"UMAP_Component_2\": 7.269063949584961, \"localization_site\": \"NUC\", \"Z1\": 1.3102264205333485, \"Z2\": 0.3355341220291964, \"Outlier_Z\": \"Normal\", \"Outlier_IQR\": \"Normal\", \"Outlier_IF\": \"Normal\"}, {\"UMAP_Component_1\": 10.371525764465332, \"UMAP_Component_2\": 7.099747180938721, \"localization_site\": \"ME3\", \"Z1\": -0.017009008984939504, \"Z2\": 0.2666528306899702, \"Outlier_Z\": \"Normal\", \"Outlier_IQR\": \"Normal\", \"Outlier_IF\": \"Normal\"}, {\"UMAP_Component_1\": 8.596230506896973, \"UMAP_Component_2\": 10.836387634277344, \"localization_site\": \"NUC\", \"Z1\": -0.5910673052760124, \"Z2\": 1.7867894465388061, \"Outlier_Z\": \"Normal\", \"Outlier_IQR\": \"Normal\", \"Outlier_IF\": \"Outlier\"}, {\"UMAP_Component_1\": 9.07360553741455, \"UMAP_Component_2\": 10.439432144165039, \"localization_site\": \"NUC\", \"Z1\": -0.43670363222357783, \"Z2\": 1.6253003809149558, \"Outlier_Z\": \"Normal\", \"Outlier_IQR\": \"Normal\", \"Outlier_IF\": \"Normal\"}, {\"UMAP_Component_1\": 11.533186912536621, \"UMAP_Component_2\": 9.812240600585938, \"localization_site\": \"MIT\", \"Z1\": 0.3586249689048808, \"Z2\": 1.3701468968023802, \"Outlier_Z\": \"Normal\", \"Outlier_IQR\": \"Normal\", \"Outlier_IF\": \"Normal\"}, {\"UMAP_Component_1\": 8.984786987304688, \"UMAP_Component_2\": 2.5997226238250732, \"localization_site\": \"ME2\", \"Z1\": -0.4654239396415951, \"Z2\": -1.5640430007420836, \"Outlier_Z\": \"Normal\", \"Outlier_IQR\": \"Normal\", \"Outlier_IF\": \"Normal\"}, {\"UMAP_Component_1\": -4.671720504760742, \"UMAP_Component_2\": 0.23780548572540283, \"localization_site\": \"POX\", \"Z1\": -4.881383138969023, \"Z2\": -2.5249159479956007, \"Outlier_Z\": \"Outlier\", \"Outlier_IQR\": \"Outlier\", \"Outlier_IF\": \"Outlier\"}, {\"UMAP_Component_1\": 11.921524047851562, \"UMAP_Component_2\": 8.62173843383789, \"localization_site\": \"CYT\", \"Z1\": 0.48419740725566995, \"Z2\": 0.8858279055801652, \"Outlier_Z\": \"Normal\", \"Outlier_IQR\": \"Normal\", \"Outlier_IF\": \"Normal\"}, {\"UMAP_Component_1\": 13.721318244934082, \"UMAP_Component_2\": 7.140505790710449, \"localization_site\": \"CYT\", \"Z1\": 1.0661776643690233, \"Z2\": 0.2832342106484674, \"Outlier_Z\": \"Normal\", \"Outlier_IQR\": \"Normal\", \"Outlier_IF\": \"Normal\"}, {\"UMAP_Component_1\": 9.451233863830566, \"UMAP_Component_2\": 7.073874473571777, \"localization_site\": \"NUC\", \"Z1\": -0.31459398721131443, \"Z2\": 0.25612731979033526, \"Outlier_Z\": \"Normal\", \"Outlier_IQR\": \"Normal\", \"Outlier_IF\": \"Normal\"}, {\"UMAP_Component_1\": 11.824373245239258, \"UMAP_Component_2\": 5.3162312507629395, \"localization_site\": \"CYT\", \"Z1\": 0.4527827881982637, \"Z2\": -0.45891547171051944, \"Outlier_Z\": \"Normal\", \"Outlier_IQR\": \"Normal\", \"Outlier_IF\": \"Normal\"}, {\"UMAP_Component_1\": 10.838193893432617, \"UMAP_Component_2\": 6.390851974487305, \"localization_site\": \"POX\", \"Z1\": 0.1338924874879574, \"Z2\": -0.021739262042335596, \"Outlier_Z\": \"Normal\", \"Outlier_IQR\": \"Normal\", \"Outlier_IF\": \"Normal\"}, {\"UMAP_Component_1\": 12.307258605957031, \"UMAP_Component_2\": 10.239202499389648, \"localization_site\": \"POX\", \"Z1\": 0.6089282779672359, \"Z2\": 1.5438431418783443, \"Outlier_Z\": \"Normal\", \"Outlier_IQR\": \"Normal\", \"Outlier_IF\": \"Outlier\"}, {\"UMAP_Component_1\": 14.120230674743652, \"UMAP_Component_2\": 4.394981384277344, \"localization_site\": \"POX\", \"Z1\": 1.1951697229291731, \"Z2\": -0.8336974909811585, \"Outlier_Z\": \"Normal\", \"Outlier_IQR\": \"Normal\", \"Outlier_IF\": \"Normal\"}, {\"UMAP_Component_1\": 12.70433235168457, \"UMAP_Component_2\": 6.80512809753418, \"localization_site\": \"POX\", \"Z1\": 0.7373257808628851, \"Z2\": 0.14679616746434232, \"Outlier_Z\": \"Normal\", \"Outlier_IQR\": \"Normal\", \"Outlier_IF\": \"Normal\"}, {\"UMAP_Component_1\": 12.077763557434082, \"UMAP_Component_2\": 10.67267894744873, \"localization_site\": \"CYT\", \"Z1\": 0.5347189113840277, \"Z2\": 1.7201896298616748, \"Outlier_Z\": \"Normal\", \"Outlier_IQR\": \"Normal\", \"Outlier_IF\": \"Outlier\"}, {\"UMAP_Component_1\": 7.235774993896484, \"UMAP_Component_2\": 5.020274639129639, \"localization_site\": \"ME3\", \"Z1\": -1.030983297077047, \"Z2\": -0.5793162669340367, \"Outlier_Z\": \"Normal\", \"Outlier_IQR\": \"Normal\", \"Outlier_IF\": \"Normal\"}, {\"UMAP_Component_1\": 13.136077880859375, \"UMAP_Component_2\": 4.0162787437438965, \"localization_site\": \"MIT\", \"Z1\": 0.8769347286436925, \"Z2\": -0.9877609492085009, \"Outlier_Z\": \"Normal\", \"Outlier_IQR\": \"Normal\", \"Outlier_IF\": \"Normal\"}, {\"UMAP_Component_1\": 14.685966491699219, \"UMAP_Component_2\": 3.816424608230591, \"localization_site\": \"MIT\", \"Z1\": 1.378105681242488, \"Z2\": -1.0690654239141544, \"Outlier_Z\": \"Normal\", \"Outlier_IQR\": \"Normal\", \"Outlier_IF\": \"Normal\"}, {\"UMAP_Component_1\": 9.907358169555664, \"UMAP_Component_2\": 8.332232475280762, \"localization_site\": \"CYT\", \"Z1\": -0.16710193442447507, \"Z2\": 0.7680513590794453, \"Outlier_Z\": \"Normal\", \"Outlier_IQR\": \"Normal\", \"Outlier_IF\": \"Normal\"}, {\"UMAP_Component_1\": 12.078632354736328, \"UMAP_Component_2\": 6.393401622772217, \"localization_site\": \"CYT\", \"Z1\": 0.5349998451030942, \"Z2\": -0.020702016483435726, \"Outlier_Z\": \"Normal\", \"Outlier_IQR\": \"Normal\", \"Outlier_IF\": \"Normal\"}, {\"UMAP_Component_1\": 9.88034439086914, \"UMAP_Component_2\": 8.294241905212402, \"localization_site\": \"CYT\", \"Z1\": -0.1758370919725274, \"Z2\": 0.7525960704748689, \"Outlier_Z\": \"Normal\", \"Outlier_IQR\": \"Normal\", \"Outlier_IF\": \"Normal\"}, {\"UMAP_Component_1\": 10.333060264587402, \"UMAP_Component_2\": 7.376138210296631, \"localization_site\": \"CYT\", \"Z1\": -0.029447187497371272, \"Z2\": 0.3790939738145947, \"Outlier_Z\": \"Normal\", \"Outlier_IQR\": \"Normal\", \"Outlier_IF\": \"Normal\"}, {\"UMAP_Component_1\": 10.064386367797852, \"UMAP_Component_2\": 5.102729797363281, \"localization_site\": \"CYT\", \"Z1\": -0.11632540045454982, \"Z2\": -0.5457719356659378, \"Outlier_Z\": \"Normal\", \"Outlier_IQR\": \"Normal\", \"Outlier_IF\": \"Normal\"}, {\"UMAP_Component_1\": 9.262560844421387, \"UMAP_Component_2\": 6.246790885925293, \"localization_site\": \"CYT\", \"Z1\": -0.37560316955232886, \"Z2\": -0.08034606095082836, \"Outlier_Z\": \"Normal\", \"Outlier_IQR\": \"Normal\", \"Outlier_IF\": \"Normal\"}, {\"UMAP_Component_1\": -6.643036365509033, \"UMAP_Component_2\": 4.15083122253418, \"localization_site\": \"ERL\", \"Z1\": -5.518826527412909, \"Z2\": -0.9330224341395486, \"Outlier_Z\": \"Outlier\", \"Outlier_IQR\": \"Outlier\", \"Outlier_IF\": \"Outlier\"}, {\"UMAP_Component_1\": 10.27495288848877, \"UMAP_Component_2\": 9.480446815490723, \"localization_site\": \"NUC\", \"Z1\": -0.048236750068960194, \"Z2\": 1.2351668557915658, \"Outlier_Z\": \"Normal\", \"Outlier_IQR\": \"Normal\", \"Outlier_IF\": \"Normal\"}, {\"UMAP_Component_1\": 13.474366188049316, \"UMAP_Component_2\": 4.421754360198975, \"localization_site\": \"NUC\", \"Z1\": 0.9863234111474936, \"Z2\": -0.8228057336601279, \"Outlier_Z\": \"Normal\", \"Outlier_IQR\": \"Normal\", \"Outlier_IF\": \"Normal\"}, {\"UMAP_Component_1\": 7.152665138244629, \"UMAP_Component_2\": 6.253159999847412, \"localization_site\": \"ME3\", \"Z1\": -1.057857644843767, \"Z2\": -0.0777549839113248, \"Outlier_Z\": \"Normal\", \"Outlier_IQR\": \"Normal\", \"Outlier_IF\": \"Normal\"}, {\"UMAP_Component_1\": 12.061286926269531, \"UMAP_Component_2\": 8.917923927307129, \"localization_site\": \"NUC\", \"Z1\": 0.5293910388655747, \"Z2\": 1.0063218143006474, \"Outlier_Z\": \"Normal\", \"Outlier_IQR\": \"Normal\", \"Outlier_IF\": \"Normal\"}, {\"UMAP_Component_1\": 13.037886619567871, \"UMAP_Component_2\": 4.6439433097839355, \"localization_site\": \"MIT\", \"Z1\": 0.8451836675582934, \"Z2\": -0.7324150305355311, \"Outlier_Z\": \"Normal\", \"Outlier_IQR\": \"Normal\", \"Outlier_IF\": \"Normal\"}, {\"UMAP_Component_1\": 9.20557975769043, \"UMAP_Component_2\": 2.1634323596954346, \"localization_site\": \"ME1\", \"Z1\": -0.39402853594146175, \"Z2\": -1.7415342027787277, \"Outlier_Z\": \"Normal\", \"Outlier_IQR\": \"Normal\", \"Outlier_IF\": \"Normal\"}, {\"UMAP_Component_1\": 6.173433303833008, \"UMAP_Component_2\": 5.888329029083252, \"localization_site\": \"VAC\", \"Z1\": -1.374501400940024, \"Z2\": -0.22617518226323124, \"Outlier_Z\": \"Normal\", \"Outlier_IQR\": \"Normal\", \"Outlier_IF\": \"Normal\"}, {\"UMAP_Component_1\": 10.557135581970215, \"UMAP_Component_2\": 7.3399481773376465, \"localization_site\": \"VAC\", \"Z1\": 0.0430096584212326, \"Z2\": 0.36437117805280966, \"Outlier_Z\": \"Normal\", \"Outlier_IQR\": \"Normal\", \"Outlier_IF\": \"Normal\"}, {\"UMAP_Component_1\": 10.185185432434082, \"UMAP_Component_2\": 2.507033109664917, \"localization_site\": \"VAC\", \"Z1\": -0.07726389508354287, \"Z2\": -1.6017508632296826, \"Outlier_Z\": \"Normal\", \"Outlier_IQR\": \"Normal\", \"Outlier_IF\": \"Normal\"}, {\"UMAP_Component_1\": 10.440464973449707, \"UMAP_Component_2\": 7.101193904876709, \"localization_site\": \"VAC\", \"Z1\": 0.005283127879905731, \"Z2\": 0.2672413855853699, \"Outlier_Z\": \"Normal\", \"Outlier_IQR\": \"Normal\", \"Outlier_IF\": \"Normal\"}, {\"UMAP_Component_1\": 11.90528392791748, \"UMAP_Component_2\": 9.387630462646484, \"localization_site\": \"VAC\", \"Z1\": 0.47894601285173777, \"Z2\": 1.197407392907732, \"Outlier_Z\": \"Normal\", \"Outlier_IQR\": \"Normal\", \"Outlier_IF\": \"Normal\"}, {\"UMAP_Component_1\": 11.666421890258789, \"UMAP_Component_2\": 5.852608680725098, \"localization_site\": \"NUC\", \"Z1\": 0.40170774287811195, \"Z2\": -0.24070690136978595, \"Outlier_Z\": \"Normal\", \"Outlier_IQR\": \"Normal\", \"Outlier_IF\": \"Normal\"}, {\"UMAP_Component_1\": 13.924689292907715, \"UMAP_Component_2\": 5.413331985473633, \"localization_site\": \"MIT\", \"Z1\": 1.1319395914721144, \"Z2\": -0.4194130405553717, \"Outlier_Z\": \"Normal\", \"Outlier_IQR\": \"Normal\", \"Outlier_IF\": \"Normal\"}, {\"UMAP_Component_1\": 13.450096130371094, \"UMAP_Component_2\": 4.318576335906982, \"localization_site\": \"MIT\", \"Z1\": 0.9784754614037816, \"Z2\": -0.8647805221461488, \"Outlier_Z\": \"Normal\", \"Outlier_IQR\": \"Normal\", \"Outlier_IF\": \"Normal\"}, {\"UMAP_Component_1\": 9.903579711914062, \"UMAP_Component_2\": 1.9101539850234985, \"localization_site\": \"MIT\", \"Z1\": -0.16832373397984413, \"Z2\": -1.8445726770845667, \"Outlier_Z\": \"Normal\", \"Outlier_IQR\": \"Normal\", \"Outlier_IF\": \"Normal\"}, {\"UMAP_Component_1\": 14.15292739868164, \"UMAP_Component_2\": 6.833303928375244, \"localization_site\": \"MIT\", \"Z1\": 1.2057425138821836, \"Z2\": 0.15825863292718773, \"Outlier_Z\": \"Normal\", \"Outlier_IQR\": \"Normal\", \"Outlier_IF\": \"Normal\"}, {\"UMAP_Component_1\": 12.711858749389648, \"UMAP_Component_2\": 5.2729878425598145, \"localization_site\": \"MIT\", \"Z1\": 0.739759511829814, \"Z2\": -0.47650771507044304, \"Outlier_Z\": \"Normal\", \"Outlier_IQR\": \"Normal\", \"Outlier_IF\": \"Normal\"}, {\"UMAP_Component_1\": 11.988184928894043, \"UMAP_Component_2\": 9.546013832092285, \"localization_site\": \"MIT\", \"Z1\": 0.5057528255092641, \"Z2\": 1.2618407688888105, \"Outlier_Z\": \"Normal\", \"Outlier_IQR\": \"Normal\", \"Outlier_IF\": \"Normal\"}, {\"UMAP_Component_1\": 12.114012718200684, \"UMAP_Component_2\": 6.50734806060791, \"localization_site\": \"MIT\", \"Z1\": 0.5464404159523208, \"Z2\": 0.02565356804833715, \"Outlier_Z\": \"Normal\", \"Outlier_IQR\": \"Normal\", \"Outlier_IF\": \"Normal\"}, {\"UMAP_Component_1\": -4.688591480255127, \"UMAP_Component_2\": 0.2566491961479187, \"localization_site\": \"MIT\", \"Z1\": -4.88683852640826, \"Z2\": -2.517249967136745, \"Outlier_Z\": \"Outlier\", \"Outlier_IQR\": \"Outlier\", \"Outlier_IF\": \"Outlier\"}, {\"UMAP_Component_1\": 14.191594123840332, \"UMAP_Component_2\": 4.2554497718811035, \"localization_site\": \"MIT\", \"Z1\": 1.218245760467857, \"Z2\": -0.8904616125820041, \"Outlier_Z\": \"Normal\", \"Outlier_IQR\": \"Normal\", \"Outlier_IF\": \"Normal\"}, {\"UMAP_Component_1\": 12.326703071594238, \"UMAP_Component_2\": 6.374619960784912, \"localization_site\": \"MIT\", \"Z1\": 0.6152158274711277, \"Z2\": -0.028342754855223282, \"Outlier_Z\": \"Normal\", \"Outlier_IQR\": \"Normal\", \"Outlier_IF\": \"Normal\"}, {\"UMAP_Component_1\": 9.768567085266113, \"UMAP_Component_2\": 7.258877754211426, \"localization_site\": \"CYT\", \"Z1\": -0.21198132732995761, \"Z2\": 0.3313901834413492, \"Outlier_Z\": \"Normal\", \"Outlier_IQR\": \"Normal\", \"Outlier_IF\": \"Normal\"}, {\"UMAP_Component_1\": 11.785445213317871, \"UMAP_Component_2\": 5.2048020362854, \"localization_site\": \"CYT\", \"Z1\": 0.44019504563122464, \"Z2\": -0.5042470017621291, \"Outlier_Z\": \"Normal\", \"Outlier_IQR\": \"Normal\", \"Outlier_IF\": \"Normal\"}, {\"UMAP_Component_1\": -6.670778274536133, \"UMAP_Component_2\": 4.1789045333862305, \"localization_site\": \"CYT\", \"Z1\": -5.527797132704658, \"Z2\": -0.9216016757638853, \"Outlier_Z\": \"Outlier\", \"Outlier_IQR\": \"Outlier\", \"Outlier_IF\": \"Outlier\"}, {\"UMAP_Component_1\": 14.26716423034668, \"UMAP_Component_2\": 7.30751895904541, \"localization_site\": \"CYT\", \"Z1\": 1.2426820599547317, \"Z2\": 0.35117835343803105, \"Outlier_Z\": \"Normal\", \"Outlier_IQR\": \"Normal\", \"Outlier_IF\": \"Normal\"}, {\"UMAP_Component_1\": 9.44359016418457, \"UMAP_Component_2\": 9.637258529663086, \"localization_site\": \"NUC\", \"Z1\": -0.31706564885600974, \"Z2\": 1.298960852426818, \"Outlier_Z\": \"Normal\", \"Outlier_IQR\": \"Normal\", \"Outlier_IF\": \"Normal\"}, {\"UMAP_Component_1\": 10.984264373779297, \"UMAP_Component_2\": 7.499489784240723, \"localization_site\": \"CYT\", \"Z1\": 0.18112574107141366, \"Z2\": 0.42927574712582167, \"Outlier_Z\": \"Normal\", \"Outlier_IQR\": \"Normal\", \"Outlier_IF\": \"Normal\"}, {\"UMAP_Component_1\": 10.560601234436035, \"UMAP_Component_2\": 7.576483249664307, \"localization_site\": \"CYT\", \"Z1\": 0.04413030950255795, \"Z2\": 0.4605981575725928, \"Outlier_Z\": \"Normal\", \"Outlier_IQR\": \"Normal\", \"Outlier_IF\": \"Normal\"}, {\"UMAP_Component_1\": 11.469810485839844, \"UMAP_Component_2\": 10.249975204467773, \"localization_site\": \"CYT\", \"Z1\": 0.3381316096287452, \"Z2\": 1.5482256838021642, \"Outlier_Z\": \"Normal\", \"Outlier_IQR\": \"Normal\", \"Outlier_IF\": \"Normal\"}, {\"UMAP_Component_1\": 11.440388679504395, \"UMAP_Component_2\": 9.79751205444336, \"localization_site\": \"CYT\", \"Z1\": 0.328617793858253, \"Z2\": 1.3641550432726814, \"Outlier_Z\": \"Normal\", \"Outlier_IQR\": \"Normal\", \"Outlier_IF\": \"Normal\"}, {\"UMAP_Component_1\": 13.1524658203125, \"UMAP_Component_2\": 7.277561187744141, \"localization_site\": \"NUC\", \"Z1\": 0.8822339218692002, \"Z2\": 0.3389909606040226, \"Outlier_Z\": \"Normal\", \"Outlier_IQR\": \"Normal\", \"Outlier_IF\": \"Normal\"}, {\"UMAP_Component_1\": 10.28260326385498, \"UMAP_Component_2\": 2.311936140060425, \"localization_site\": \"EXC\", \"Z1\": -0.04576292976780664, \"Z2\": -1.6811200320968538, \"Outlier_Z\": \"Normal\", \"Outlier_IQR\": \"Normal\", \"Outlier_IF\": \"Normal\"}, {\"UMAP_Component_1\": 10.327924728393555, \"UMAP_Component_2\": 2.2968668937683105, \"localization_site\": \"EXC\", \"Z1\": -0.031107811072752962, \"Z2\": -1.6872504889465139, \"Outlier_Z\": \"Normal\", \"Outlier_IQR\": \"Normal\", \"Outlier_IF\": \"Normal\"}, {\"UMAP_Component_1\": 9.173233985900879, \"UMAP_Component_2\": 6.2421369552612305, \"localization_site\": \"CYT\", \"Z1\": -0.4044878432406671, \"Z2\": -0.08223936872245034, \"Outlier_Z\": \"Normal\", \"Outlier_IQR\": \"Normal\", \"Outlier_IF\": \"Normal\"}, {\"UMAP_Component_1\": 10.102149963378906, \"UMAP_Component_2\": 2.4077508449554443, \"localization_site\": \"EXC\", \"Z1\": -0.10411418924972826, \"Z2\": -1.642140782402778, \"Outlier_Z\": \"Normal\", \"Outlier_IQR\": \"Normal\", \"Outlier_IF\": \"Normal\"}, {\"UMAP_Component_1\": 11.750252723693848, \"UMAP_Component_2\": 7.9739670753479, \"localization_site\": \"NUC\", \"Z1\": 0.42881522554232304, \"Z2\": 0.6223021601852707, \"Outlier_Z\": \"Normal\", \"Outlier_IQR\": \"Normal\", \"Outlier_IF\": \"Normal\"}, {\"UMAP_Component_1\": 10.267412185668945, \"UMAP_Component_2\": 2.3290698528289795, \"localization_site\": \"EXC\", \"Z1\": -0.05067510672829966, \"Z2\": -1.6741497109032142, \"Outlier_Z\": \"Normal\", \"Outlier_IQR\": \"Normal\", \"Outlier_IF\": \"Normal\"}, {\"UMAP_Component_1\": 7.9113688468933105, \"UMAP_Component_2\": 4.496662616729736, \"localization_site\": \"ME3\", \"Z1\": -0.8125237171380486, \"Z2\": -0.7923316259679984, \"Outlier_Z\": \"Normal\", \"Outlier_IQR\": \"Normal\", \"Outlier_IF\": \"Normal\"}, {\"UMAP_Component_1\": 8.356374740600586, \"UMAP_Component_2\": 6.542684555053711, \"localization_site\": \"NUC\", \"Z1\": -0.6686269066824233, \"Z2\": 0.04002912806102347, \"Outlier_Z\": \"Normal\", \"Outlier_IQR\": \"Normal\", \"Outlier_IF\": \"Normal\"}, {\"UMAP_Component_1\": 6.802659034729004, \"UMAP_Component_2\": 6.136021614074707, \"localization_site\": \"ME3\", \"Z1\": -1.1710353861907834, \"Z2\": -0.12540911375285563, \"Outlier_Z\": \"Normal\", \"Outlier_IQR\": \"Normal\", \"Outlier_IF\": \"Normal\"}, {\"UMAP_Component_1\": 12.017807960510254, \"UMAP_Component_2\": 8.780296325683594, \"localization_site\": \"NUC\", \"Z1\": 0.5153317093529979, \"Z2\": 0.9503322806026796, \"Outlier_Z\": \"Normal\", \"Outlier_IQR\": \"Normal\", \"Outlier_IF\": \"Normal\"}, {\"UMAP_Component_1\": 6.079017639160156, \"UMAP_Component_2\": 6.441880702972412, \"localization_site\": \"ME3\", \"Z1\": -1.4050315876085362, \"Z2\": -0.0009798018804374172, \"Outlier_Z\": \"Normal\", \"Outlier_IQR\": \"Normal\", \"Outlier_IF\": \"Outlier\"}, {\"UMAP_Component_1\": 14.173466682434082, \"UMAP_Component_2\": 5.039453029632568, \"localization_site\": \"NUC\", \"Z1\": 1.2123840830452282, \"Z2\": -0.5715141318341764, \"Outlier_Z\": \"Normal\", \"Outlier_IQR\": \"Normal\", \"Outlier_IF\": \"Normal\"}, {\"UMAP_Component_1\": 14.101627349853516, \"UMAP_Component_2\": 3.4900014400482178, \"localization_site\": \"MIT\", \"Z1\": 1.1891541641390209, \"Z2\": -1.2018605955159751, \"Outlier_Z\": \"Normal\", \"Outlier_IQR\": \"Normal\", \"Outlier_IF\": \"Normal\"}, {\"UMAP_Component_1\": 9.01888656616211, \"UMAP_Component_2\": 9.660908699035645, \"localization_site\": \"NUC\", \"Z1\": -0.4543975224528583, \"Z2\": 1.3085821924736323, \"Outlier_Z\": \"Normal\", \"Outlier_IQR\": \"Normal\", \"Outlier_IF\": \"Normal\"}, {\"UMAP_Component_1\": 14.512043952941895, \"UMAP_Component_2\": 3.614924430847168, \"localization_site\": \"MIT\", \"Z1\": 1.3218662045357221, \"Z2\": -1.1510395398521476, \"Outlier_Z\": \"Normal\", \"Outlier_IQR\": \"Normal\", \"Outlier_IF\": \"Normal\"}, {\"UMAP_Component_1\": 10.062501907348633, \"UMAP_Component_2\": 1.4094281196594238, \"localization_site\": \"EXC\", \"Z1\": -0.11693475833476417, \"Z2\": -2.048277510864448, \"Outlier_Z\": \"Normal\", \"Outlier_IQR\": \"Normal\", \"Outlier_IF\": \"Outlier\"}, {\"UMAP_Component_1\": 10.227438926696777, \"UMAP_Component_2\": 1.3233518600463867, \"localization_site\": \"EXC\", \"Z1\": -0.0636008332208017, \"Z2\": -2.0832949752491143, \"Outlier_Z\": \"Normal\", \"Outlier_IQR\": \"Normal\", \"Outlier_IF\": \"Outlier\"}, {\"UMAP_Component_1\": 10.155601501464844, \"UMAP_Component_2\": 1.3302943706512451, \"localization_site\": \"EXC\", \"Z1\": -0.08683013536802112, \"Z2\": -2.080470629501068, \"Outlier_Z\": \"Normal\", \"Outlier_IQR\": \"Normal\", \"Outlier_IF\": \"Outlier\"}, {\"UMAP_Component_1\": 9.826294898986816, \"UMAP_Component_2\": 5.725605487823486, \"localization_site\": \"ME3\", \"Z1\": -0.19331449979699486, \"Z2\": -0.29237422293050896, \"Outlier_Z\": \"Normal\", \"Outlier_IQR\": \"Normal\", \"Outlier_IF\": \"Normal\"}, {\"UMAP_Component_1\": 9.551380157470703, \"UMAP_Component_2\": 2.678922176361084, \"localization_site\": \"ME1\", \"Z1\": -0.28221074816314234, \"Z2\": -1.531823111975086, \"Outlier_Z\": \"Normal\", \"Outlier_IQR\": \"Normal\", \"Outlier_IF\": \"Normal\"}, {\"UMAP_Component_1\": 7.867486953735352, \"UMAP_Component_2\": 4.530901908874512, \"localization_site\": \"ME3\", \"Z1\": -0.8267133369868556, \"Z2\": -0.7784024287813881, \"Outlier_Z\": \"Normal\", \"Outlier_IQR\": \"Normal\", \"Outlier_IF\": \"Normal\"}, {\"UMAP_Component_1\": 6.787973880767822, \"UMAP_Component_2\": 6.058695316314697, \"localization_site\": \"ME3\", \"Z1\": -1.1757839678296906, \"Z2\": -0.15686692674313005, \"Outlier_Z\": \"Normal\", \"Outlier_IQR\": \"Normal\", \"Outlier_IF\": \"Normal\"}, {\"UMAP_Component_1\": 6.576498031616211, \"UMAP_Component_2\": 6.065478324890137, \"localization_site\": \"VAC\", \"Z1\": -1.2441666580628432, \"Z2\": -0.1541074694632814, \"Outlier_Z\": \"Normal\", \"Outlier_IQR\": \"Normal\", \"Outlier_IF\": \"Normal\"}, {\"UMAP_Component_1\": 11.350296020507812, \"UMAP_Component_2\": 5.9123430252075195, \"localization_site\": \"CYT\", \"Z1\": 0.2994854914362042, \"Z2\": -0.21640583055353302, \"Outlier_Z\": \"Normal\", \"Outlier_IQR\": \"Normal\", \"Outlier_IF\": \"Normal\"}, {\"UMAP_Component_1\": 9.856194496154785, \"UMAP_Component_2\": 1.4440420866012573, \"localization_site\": \"ME2\", \"Z1\": -0.18364618589999082, \"Z2\": -2.0341958888231706, \"Outlier_Z\": \"Normal\", \"Outlier_IQR\": \"Normal\", \"Outlier_IF\": \"Outlier\"}, {\"UMAP_Component_1\": 9.85728931427002, \"UMAP_Component_2\": 1.4566595554351807, \"localization_site\": \"ME2\", \"Z1\": -0.18329216624083797, \"Z2\": -2.029062861813135, \"Outlier_Z\": \"Normal\", \"Outlier_IQR\": \"Normal\", \"Outlier_IF\": \"Outlier\"}, {\"UMAP_Component_1\": 6.7209792137146, \"UMAP_Component_2\": 6.209219932556152, \"localization_site\": \"ME3\", \"Z1\": -1.1974473189061974, \"Z2\": -0.09563064147763564, \"Outlier_Z\": \"Normal\", \"Outlier_IQR\": \"Normal\", \"Outlier_IF\": \"Normal\"}, {\"UMAP_Component_1\": 6.688970565795898, \"UMAP_Component_2\": 6.045931339263916, \"localization_site\": \"ME3\", \"Z1\": -1.207797614054261, \"Z2\": -0.16205955609054573, \"Outlier_Z\": \"Normal\", \"Outlier_IQR\": \"Normal\", \"Outlier_IF\": \"Normal\"}, {\"UMAP_Component_1\": 10.171571731567383, \"UMAP_Component_2\": 8.913662910461426, \"localization_site\": \"NUC\", \"Z1\": -0.08166601236090101, \"Z2\": 1.004588351365482, \"Outlier_Z\": \"Normal\", \"Outlier_IQR\": \"Normal\", \"Outlier_IF\": \"Normal\"}, {\"UMAP_Component_1\": 7.444522857666016, \"UMAP_Component_2\": 5.966823101043701, \"localization_site\": \"ME3\", \"Z1\": -0.9634827263865832, \"Z2\": -0.1942422964519832, \"Outlier_Z\": \"Normal\", \"Outlier_IQR\": \"Normal\", \"Outlier_IF\": \"Normal\"}, {\"UMAP_Component_1\": 7.155210971832275, \"UMAP_Component_2\": 6.007950782775879, \"localization_site\": \"ME3\", \"Z1\": -1.057034425784439, \"Z2\": -0.17751077097963, \"Outlier_Z\": \"Normal\", \"Outlier_IQR\": \"Normal\", \"Outlier_IF\": \"Normal\"}, {\"UMAP_Component_1\": 10.57870101928711, \"UMAP_Component_2\": 7.451632022857666, \"localization_site\": \"NUC\", \"Z1\": 0.04998304391985955, \"Z2\": 0.409806296869793, \"Outlier_Z\": \"Normal\", \"Outlier_IQR\": \"Normal\", \"Outlier_IF\": \"Normal\"}, {\"UMAP_Component_1\": 11.670693397521973, \"UMAP_Component_2\": 9.146490097045898, \"localization_site\": \"NUC\", \"Z1\": 0.4030889746318974, \"Z2\": 1.0993068922344318, \"Outlier_Z\": \"Normal\", \"Outlier_IQR\": \"Normal\", \"Outlier_IF\": \"Normal\"}, {\"UMAP_Component_1\": 9.107820510864258, \"UMAP_Component_2\": 7.76038932800293, \"localization_site\": \"NUC\", \"Z1\": -0.42563990111606276, \"Z2\": 0.5354146583975307, \"Outlier_Z\": \"Normal\", \"Outlier_IQR\": \"Normal\", \"Outlier_IF\": \"Normal\"}, {\"UMAP_Component_1\": 9.492561340332031, \"UMAP_Component_2\": 9.39188289642334, \"localization_site\": \"NUC\", \"Z1\": -0.30123036183728186, \"Z2\": 1.199137364086761, \"Outlier_Z\": \"Normal\", \"Outlier_IQR\": \"Normal\", \"Outlier_IF\": \"Normal\"}, {\"UMAP_Component_1\": 11.291840553283691, \"UMAP_Component_2\": 9.33899211883545, \"localization_site\": \"NUC\", \"Z1\": 0.28058337034929226, \"Z2\": 1.1776203868297621, \"Outlier_Z\": \"Normal\", \"Outlier_IQR\": \"Normal\", \"Outlier_IF\": \"Normal\"}, {\"UMAP_Component_1\": 9.776267051696777, \"UMAP_Component_2\": 4.96601676940918, \"localization_site\": \"NUC\", \"Z1\": -0.2094914712951142, \"Z2\": -0.6013894033489496, \"Outlier_Z\": \"Normal\", \"Outlier_IQR\": \"Normal\", \"Outlier_IF\": \"Normal\"}, {\"UMAP_Component_1\": 11.751571655273438, \"UMAP_Component_2\": 5.9690070152282715, \"localization_site\": \"NUC\", \"Z1\": 0.42924171438257425, \"Z2\": -0.19335383850177537, \"Outlier_Z\": \"Normal\", \"Outlier_IQR\": \"Normal\", \"Outlier_IF\": \"Normal\"}, {\"UMAP_Component_1\": 7.766323566436768, \"UMAP_Component_2\": 6.109340190887451, \"localization_site\": \"NUC\", \"Z1\": -0.8594254627654166, \"Z2\": -0.13626362567510028, \"Outlier_Z\": \"Normal\", \"Outlier_IQR\": \"Normal\", \"Outlier_IF\": \"Normal\"}, {\"UMAP_Component_1\": 14.58619213104248, \"UMAP_Component_2\": 7.394340991973877, \"localization_site\": \"NUC\", \"Z1\": 1.3458427101969896, \"Z2\": 0.38649921263364156, \"Outlier_Z\": \"Normal\", \"Outlier_IQR\": \"Normal\", \"Outlier_IF\": \"Normal\"}, {\"UMAP_Component_1\": 11.576725959777832, \"UMAP_Component_2\": 7.662032604217529, \"localization_site\": \"POX\", \"Z1\": 0.37270372632558196, \"Z2\": 0.4954012669277874, \"Outlier_Z\": \"Normal\", \"Outlier_IQR\": \"Normal\", \"Outlier_IF\": \"Normal\"}, {\"UMAP_Component_1\": 8.987497329711914, \"UMAP_Component_2\": 3.0702555179595947, \"localization_site\": \"ME3\", \"Z1\": -0.46454752511954595, \"Z2\": -1.3726212436136649, \"Outlier_Z\": \"Normal\", \"Outlier_IQR\": \"Normal\", \"Outlier_IF\": \"Normal\"}, {\"UMAP_Component_1\": 10.1290864944458, \"UMAP_Component_2\": 5.762362480163574, \"localization_site\": \"MIT\", \"Z1\": -0.09540401044069283, \"Z2\": -0.2774207772772835, \"Outlier_Z\": \"Normal\", \"Outlier_IQR\": \"Normal\", \"Outlier_IF\": \"Normal\"}, {\"UMAP_Component_1\": 10.130939483642578, \"UMAP_Component_2\": 8.020452499389648, \"localization_site\": \"CYT\", \"Z1\": -0.09480482908378166, \"Z2\": 0.6412133174324134, \"Outlier_Z\": \"Normal\", \"Outlier_IQR\": \"Normal\", \"Outlier_IF\": \"Normal\"}, {\"UMAP_Component_1\": 11.256414413452148, \"UMAP_Component_2\": 8.688192367553711, \"localization_site\": \"NUC\", \"Z1\": 0.269127997284352, \"Z2\": 0.9128626334781493, \"Outlier_Z\": \"Normal\", \"Outlier_IQR\": \"Normal\", \"Outlier_IF\": \"Normal\"}, {\"UMAP_Component_1\": 10.465376853942871, \"UMAP_Component_2\": 7.004364967346191, \"localization_site\": \"CYT\", \"Z1\": 0.013338617023103594, \"Z2\": 0.22784952670786815, \"Outlier_Z\": \"Normal\", \"Outlier_IQR\": \"Normal\", \"Outlier_IF\": \"Normal\"}, {\"UMAP_Component_1\": 8.399553298950195, \"UMAP_Component_2\": 7.576536178588867, \"localization_site\": \"VAC\", \"Z1\": -0.6546647167104676, \"Z2\": 0.46061969006876596, \"Outlier_Z\": \"Normal\", \"Outlier_IQR\": \"Normal\", \"Outlier_IF\": \"Normal\"}, {\"UMAP_Component_1\": 9.99811840057373, \"UMAP_Component_2\": 2.627248764038086, \"localization_site\": \"VAC\", \"Z1\": -0.13775376635660136, \"Z2\": -1.5528448418201024, \"Outlier_Z\": \"Normal\", \"Outlier_IQR\": \"Normal\", \"Outlier_IF\": \"Normal\"}, {\"UMAP_Component_1\": 12.879952430725098, \"UMAP_Component_2\": 3.8041112422943115, \"localization_site\": \"VAC\", \"Z1\": 0.7941141730690343, \"Z2\": -1.07407473606442, \"Outlier_Z\": \"Normal\", \"Outlier_IQR\": \"Normal\", \"Outlier_IF\": \"Normal\"}, {\"UMAP_Component_1\": 10.619621276855469, \"UMAP_Component_2\": 5.318150043487549, \"localization_site\": \"CYT\", \"Z1\": 0.06321499124993894, \"Z2\": -0.4581348702276294, \"Outlier_Z\": \"Normal\", \"Outlier_IQR\": \"Normal\", \"Outlier_IF\": \"Normal\"}, {\"UMAP_Component_1\": 10.266946792602539, \"UMAP_Component_2\": 5.667060375213623, \"localization_site\": \"CYT\", \"Z1\": -0.05082559592138903, \"Z2\": -0.31619149153544784, \"Outlier_Z\": \"Normal\", \"Outlier_IQR\": \"Normal\", \"Outlier_IF\": \"Normal\"}, {\"UMAP_Component_1\": 9.440167427062988, \"UMAP_Component_2\": 4.857989311218262, \"localization_site\": \"CYT\", \"Z1\": -0.3181724228601035, \"Z2\": -0.6453370340519168, \"Outlier_Z\": \"Normal\", \"Outlier_IQR\": \"Normal\", \"Outlier_IF\": \"Normal\"}, {\"UMAP_Component_1\": 12.173783302307129, \"UMAP_Component_2\": 7.559295654296875, \"localization_site\": \"CYT\", \"Z1\": 0.5657677923615078, \"Z2\": 0.45360591590987615, \"Outlier_Z\": \"Normal\", \"Outlier_IQR\": \"Normal\", \"Outlier_IF\": \"Normal\"}, {\"UMAP_Component_1\": 12.15720272064209, \"UMAP_Component_2\": 6.568685531616211, \"localization_site\": \"CYT\", \"Z1\": 0.5604063064782049, \"Z2\": 0.05060682131624922, \"Outlier_Z\": \"Normal\", \"Outlier_IQR\": \"Normal\", \"Outlier_IF\": \"Normal\"}, {\"UMAP_Component_1\": 13.857584953308105, \"UMAP_Component_2\": 7.2354912757873535, \"localization_site\": \"CYT\", \"Z1\": 1.1102407767537936, \"Z2\": 0.32187611790249676, \"Outlier_Z\": \"Normal\", \"Outlier_IQR\": \"Normal\", \"Outlier_IF\": \"Normal\"}, {\"UMAP_Component_1\": 12.112696647644043, \"UMAP_Component_2\": 9.216273307800293, \"localization_site\": \"NUC\", \"Z1\": 0.5460148522505517, \"Z2\": 1.127696033540353, \"Outlier_Z\": \"Normal\", \"Outlier_IQR\": \"Normal\", \"Outlier_IF\": \"Normal\"}, {\"UMAP_Component_1\": 14.580320358276367, \"UMAP_Component_2\": 4.485004901885986, \"localization_site\": \"NUC\", \"Z1\": 1.3439440176522126, \"Z2\": -0.7970742067467499, \"Outlier_Z\": \"Normal\", \"Outlier_IQR\": \"Normal\", \"Outlier_IF\": \"Normal\"}, {\"UMAP_Component_1\": 9.832622528076172, \"UMAP_Component_2\": 7.172637462615967, \"localization_site\": \"CYT\", \"Z1\": -0.19126840185406868, \"Z2\": 0.29630598771719147, \"Outlier_Z\": \"Normal\", \"Outlier_IQR\": \"Normal\", \"Outlier_IF\": \"Normal\"}, {\"UMAP_Component_1\": 9.47693920135498, \"UMAP_Component_2\": 3.265077829360962, \"localization_site\": \"CYT\", \"Z1\": -0.30628192632907897, \"Z2\": -1.2933638109428518, \"Outlier_Z\": \"Normal\", \"Outlier_IQR\": \"Normal\", \"Outlier_IF\": \"Normal\"}, {\"UMAP_Component_1\": 8.497873306274414, \"UMAP_Component_2\": 8.145578384399414, \"localization_site\": \"NUC\", \"Z1\": -0.6228720243933737, \"Z2\": 0.6921169143315712, \"Outlier_Z\": \"Normal\", \"Outlier_IQR\": \"Normal\", \"Outlier_IF\": \"Normal\"}, {\"UMAP_Component_1\": 11.639032363891602, \"UMAP_Component_2\": 8.999247550964355, \"localization_site\": \"NUC\", \"Z1\": 0.39285108380940964, \"Z2\": 1.0394058157181254, \"Outlier_Z\": \"Normal\", \"Outlier_IQR\": \"Normal\", \"Outlier_IF\": \"Normal\"}, {\"UMAP_Component_1\": 12.781136512756348, \"UMAP_Component_2\": 5.058905601501465, \"localization_site\": \"NUC\", \"Z1\": 0.7621611234150419, \"Z2\": -0.5636004545244101, \"Outlier_Z\": \"Normal\", \"Outlier_IQR\": \"Normal\", \"Outlier_IF\": \"Normal\"}, {\"UMAP_Component_1\": 11.566965103149414, \"UMAP_Component_2\": 8.567461013793945, \"localization_site\": \"NUC\", \"Z1\": 0.3695474622041276, \"Z2\": 0.8637468157207198, \"Outlier_Z\": \"Normal\", \"Outlier_IQR\": \"Normal\", \"Outlier_IF\": \"Normal\"}, {\"UMAP_Component_1\": 9.653077125549316, \"UMAP_Component_2\": 10.103445053100586, \"localization_site\": \"NUC\", \"Z1\": -0.2493260840576684, \"Z2\": 1.4886144230451615, \"Outlier_Z\": \"Normal\", \"Outlier_IQR\": \"Normal\", \"Outlier_IF\": \"Normal\"}, {\"UMAP_Component_1\": 10.622283935546875, \"UMAP_Component_2\": 6.536365032196045, \"localization_site\": \"NUC\", \"Z1\": 0.06407598679728634, \"Z2\": 0.03745822561252899, \"Outlier_Z\": \"Normal\", \"Outlier_IQR\": \"Normal\", \"Outlier_IF\": \"Normal\"}, {\"UMAP_Component_1\": 11.474403381347656, \"UMAP_Component_2\": 6.665206432342529, \"localization_site\": \"NUC\", \"Z1\": 0.33961676527202067, \"Z2\": 0.08987336494575225, \"Outlier_Z\": \"Normal\", \"Outlier_IQR\": \"Normal\", \"Outlier_IF\": \"Normal\"}, {\"UMAP_Component_1\": 10.574746131896973, \"UMAP_Component_2\": 7.7222819328308105, \"localization_site\": \"NUC\", \"Z1\": 0.048704194158093926, \"Z2\": 0.5199118431122116, \"Outlier_Z\": \"Normal\", \"Outlier_IQR\": \"Normal\", \"Outlier_IF\": \"Normal\"}, {\"UMAP_Component_1\": 11.885199546813965, \"UMAP_Component_2\": 8.271860122680664, \"localization_site\": \"NUC\", \"Z1\": 0.47245154070734807, \"Z2\": 0.7434907343904024, \"Outlier_Z\": \"Normal\", \"Outlier_IQR\": \"Normal\", \"Outlier_IF\": \"Normal\"}, {\"UMAP_Component_1\": 10.694222450256348, \"UMAP_Component_2\": 9.4609956741333, \"localization_site\": \"NUC\", \"Z1\": 0.08733797717087352, \"Z2\": 1.2272537604411555, \"Outlier_Z\": \"Normal\", \"Outlier_IQR\": \"Normal\", \"Outlier_IF\": \"Normal\"}, {\"UMAP_Component_1\": -6.685624599456787, \"UMAP_Component_2\": 4.193754196166992, \"localization_site\": \"NUC\", \"Z1\": -5.532597830478056, \"Z2\": -0.9155605496753759, \"Outlier_Z\": \"Outlier\", \"Outlier_IQR\": \"Outlier\", \"Outlier_IF\": \"Outlier\"}, {\"UMAP_Component_1\": 9.416955947875977, \"UMAP_Component_2\": 8.609600067138672, \"localization_site\": \"NUC\", \"Z1\": -0.3256780713654359, \"Z2\": 0.8808897864577871, \"Outlier_Z\": \"Normal\", \"Outlier_IQR\": \"Normal\", \"Outlier_IF\": \"Normal\"}, {\"UMAP_Component_1\": 9.472896575927734, \"UMAP_Component_2\": 9.851624488830566, \"localization_site\": \"NUC\", \"Z1\": -0.30758914700429585, \"Z2\": 1.3861690138197313, \"Outlier_Z\": \"Normal\", \"Outlier_IQR\": \"Normal\", \"Outlier_IF\": \"Normal\"}, {\"UMAP_Component_1\": 9.817023277282715, \"UMAP_Component_2\": 8.563105583190918, \"localization_site\": \"NUC\", \"Z1\": -0.19631256523800894, \"Z2\": 0.8619749434680564, \"Outlier_Z\": \"Normal\", \"Outlier_IQR\": \"Normal\", \"Outlier_IF\": \"Normal\"}, {\"UMAP_Component_1\": 11.362735748291016, \"UMAP_Component_2\": 10.154378890991211, \"localization_site\": \"CYT\", \"Z1\": 0.3035079935564045, \"Z2\": 1.5093352799031095, \"Outlier_Z\": \"Normal\", \"Outlier_IQR\": \"Normal\", \"Outlier_IF\": \"Normal\"}, {\"UMAP_Component_1\": 11.381335258483887, \"UMAP_Component_2\": 10.095914840698242, \"localization_site\": \"CYT\", \"Z1\": 0.3095223188285808, \"Z2\": 1.4855509889950123, \"Outlier_Z\": \"Normal\", \"Outlier_IQR\": \"Normal\", \"Outlier_IF\": \"Normal\"}, {\"UMAP_Component_1\": 11.846020698547363, \"UMAP_Component_2\": 5.933265686035156, \"localization_site\": \"CYT\", \"Z1\": 0.4597826943333777, \"Z2\": -0.20789409301221856, \"Outlier_Z\": \"Normal\", \"Outlier_IQR\": \"Normal\", \"Outlier_IF\": \"Normal\"}, {\"UMAP_Component_1\": 10.20910930633545, \"UMAP_Component_2\": 5.878791809082031, \"localization_site\": \"CYT\", \"Z1\": -0.06952788709616588, \"Z2\": -0.23005510528989223, \"Outlier_Z\": \"Normal\", \"Outlier_IQR\": \"Normal\", \"Outlier_IF\": \"Normal\"}, {\"UMAP_Component_1\": 13.281288146972656, \"UMAP_Component_2\": 4.130132675170898, \"localization_site\": \"CYT\", \"Z1\": 0.9238898239235287, \"Z2\": -0.941442998048418, \"Outlier_Z\": \"Normal\", \"Outlier_IQR\": \"Normal\", \"Outlier_IF\": \"Normal\"}, {\"UMAP_Component_1\": 14.278096199035645, \"UMAP_Component_2\": 3.9639742374420166, \"localization_site\": \"MIT\", \"Z1\": 1.2462170140948616, \"Z2\": -1.009039420122753, \"Outlier_Z\": \"Normal\", \"Outlier_IQR\": \"Normal\", \"Outlier_IF\": \"Normal\"}, {\"UMAP_Component_1\": 13.871122360229492, \"UMAP_Component_2\": 5.2678704261779785, \"localization_site\": \"NUC\", \"Z1\": 1.1146182236716289, \"Z2\": -0.47858957767341914, \"Outlier_Z\": \"Normal\", \"Outlier_IQR\": \"Normal\", \"Outlier_IF\": \"Normal\"}, {\"UMAP_Component_1\": 9.042584419250488, \"UMAP_Component_2\": 3.0664491653442383, \"localization_site\": \"ME2\", \"Z1\": -0.44673460040556773, \"Z2\": -1.3741697404668383, \"Outlier_Z\": \"Normal\", \"Outlier_IQR\": \"Normal\", \"Outlier_IF\": \"Normal\"}, {\"UMAP_Component_1\": 13.65312671661377, \"UMAP_Component_2\": 7.0830841064453125, \"localization_site\": \"CYT\", \"Z1\": 1.044127297027502, \"Z2\": 0.2598739741244651, \"Outlier_Z\": \"Normal\", \"Outlier_IQR\": \"Normal\", \"Outlier_IF\": \"Normal\"}, {\"UMAP_Component_1\": 11.33395004272461, \"UMAP_Component_2\": 8.346877098083496, \"localization_site\": \"CYT\", \"Z1\": 0.2941998669084341, \"Z2\": 0.7740090709935902, \"Outlier_Z\": \"Normal\", \"Outlier_IQR\": \"Normal\", \"Outlier_IF\": \"Normal\"}, {\"UMAP_Component_1\": 6.193711280822754, \"UMAP_Component_2\": 6.428850173950195, \"localization_site\": \"ME3\", \"Z1\": -1.3679443277583452, \"Z2\": -0.006280869654526951, \"Outlier_Z\": \"Normal\", \"Outlier_IQR\": \"Normal\", \"Outlier_IF\": \"Normal\"}, {\"UMAP_Component_1\": 14.523848533630371, \"UMAP_Component_2\": 7.340441703796387, \"localization_site\": \"CYT\", \"Z1\": 1.3256833259128946, \"Z2\": 0.36457195403064047, \"Outlier_Z\": \"Normal\", \"Outlier_IQR\": \"Normal\", \"Outlier_IF\": \"Normal\"}, {\"UMAP_Component_1\": 12.078197479248047, \"UMAP_Component_2\": 8.372126579284668, \"localization_site\": \"CYT\", \"Z1\": 0.5348592240538139, \"Z2\": 0.7842810416004475, \"Outlier_Z\": \"Normal\", \"Outlier_IQR\": \"Normal\", \"Outlier_IF\": \"Normal\"}, {\"UMAP_Component_1\": 11.784638404846191, \"UMAP_Component_2\": 10.682433128356934, \"localization_site\": \"CYT\", \"Z1\": 0.43993415657927054, \"Z2\": 1.7241578167240006, \"Outlier_Z\": \"Normal\", \"Outlier_IQR\": \"Normal\", \"Outlier_IF\": \"Outlier\"}, {\"UMAP_Component_1\": 13.27686595916748, \"UMAP_Component_2\": 3.5805633068084717, \"localization_site\": \"MIT\", \"Z1\": 0.9224598682096856, \"Z2\": -1.1650183005772465, \"Outlier_Z\": \"Normal\", \"Outlier_IQR\": \"Normal\", \"Outlier_IF\": \"Normal\"}, {\"UMAP_Component_1\": 13.331951141357422, \"UMAP_Component_2\": 4.588954925537109, \"localization_site\": \"MIT\", \"Z1\": 0.9402721761646757, \"Z2\": -0.754785354194924, \"Outlier_Z\": \"Normal\", \"Outlier_IQR\": \"Normal\", \"Outlier_IF\": \"Normal\"}, {\"UMAP_Component_1\": 11.21826457977295, \"UMAP_Component_2\": 8.006484031677246, \"localization_site\": \"NUC\", \"Z1\": 0.256791892384446, \"Z2\": 0.6355306783072193, \"Outlier_Z\": \"Normal\", \"Outlier_IQR\": \"Normal\", \"Outlier_IF\": \"Normal\"}, {\"UMAP_Component_1\": 7.22827672958374, \"UMAP_Component_2\": 4.859532833099365, \"localization_site\": \"ME3\", \"Z1\": -1.033407930848902, \"Z2\": -0.644709099906759, \"Outlier_Z\": \"Normal\", \"Outlier_IQR\": \"Normal\", \"Outlier_IF\": \"Normal\"}, {\"UMAP_Component_1\": 10.399883270263672, \"UMAP_Component_2\": 8.454290390014648, \"localization_site\": \"CYT\", \"Z1\": -0.007839344729791028, \"Z2\": 0.8177068471463679, \"Outlier_Z\": \"Normal\", \"Outlier_IQR\": \"Normal\", \"Outlier_IF\": \"Normal\"}, {\"UMAP_Component_1\": 9.811226844787598, \"UMAP_Component_2\": 8.72545337677002, \"localization_site\": \"CYT\", \"Z1\": -0.1981868958027573, \"Z2\": 0.9280211228111498, \"Outlier_Z\": \"Normal\", \"Outlier_IQR\": \"Normal\", \"Outlier_IF\": \"Normal\"}, {\"UMAP_Component_1\": 10.673211097717285, \"UMAP_Component_2\": 4.635364532470703, \"localization_site\": \"CYT\", \"Z1\": 0.08054376015828124, \"Z2\": -0.735905040793651, \"Outlier_Z\": \"Normal\", \"Outlier_IQR\": \"Normal\", \"Outlier_IF\": \"Normal\"}, {\"UMAP_Component_1\": 9.971527099609375, \"UMAP_Component_2\": 4.962401866912842, \"localization_site\": \"MIT\", \"Z1\": -0.1463523117887959, \"Z2\": -0.6028600146416409, \"Outlier_Z\": \"Normal\", \"Outlier_IQR\": \"Normal\", \"Outlier_IF\": \"Normal\"}, {\"UMAP_Component_1\": 12.836822509765625, \"UMAP_Component_2\": 4.749946117401123, \"localization_site\": \"MIT\", \"Z1\": 0.7801677104512745, \"Z2\": -0.6892910663078002, \"Outlier_Z\": \"Normal\", \"Outlier_IQR\": \"Normal\", \"Outlier_IF\": \"Normal\"}, {\"UMAP_Component_1\": 10.756138801574707, \"UMAP_Component_2\": 5.088690280914307, \"localization_site\": \"MIT\", \"Z1\": 0.10735920744164061, \"Z2\": -0.5514834787724815, \"Outlier_Z\": \"Normal\", \"Outlier_IQR\": \"Normal\", \"Outlier_IF\": \"Normal\"}, {\"UMAP_Component_1\": 10.348249435424805, \"UMAP_Component_2\": 5.0882391929626465, \"localization_site\": \"MIT\", \"Z1\": -0.02453562729586632, \"Z2\": -0.5516669899560833, \"Outlier_Z\": \"Normal\", \"Outlier_IQR\": \"Normal\", \"Outlier_IF\": \"Normal\"}, {\"UMAP_Component_1\": 12.817744255065918, \"UMAP_Component_2\": 8.64836311340332, \"localization_site\": \"MIT\", \"Z1\": 0.7739985786730924, \"Z2\": 0.8966593331146205, \"Outlier_Z\": \"Normal\", \"Outlier_IQR\": \"Normal\", \"Outlier_IF\": \"Normal\"}, {\"UMAP_Component_1\": 9.109249114990234, \"UMAP_Component_2\": 3.365682601928711, \"localization_site\": \"MIT\", \"Z1\": -0.4251779486339974, \"Z2\": -1.2524358703451053, \"Outlier_Z\": \"Normal\", \"Outlier_IQR\": \"Normal\", \"Outlier_IF\": \"Normal\"}, {\"UMAP_Component_1\": 10.285357475280762, \"UMAP_Component_2\": 9.718644142150879, \"localization_site\": \"NUC\", \"Z1\": -0.04487232978903183, \"Z2\": 1.3320700720830574, \"Outlier_Z\": \"Normal\", \"Outlier_IQR\": \"Normal\", \"Outlier_IF\": \"Normal\"}, {\"UMAP_Component_1\": 13.484496116638184, \"UMAP_Component_2\": 7.053441047668457, \"localization_site\": \"NUC\", \"Z1\": 0.9895990181331397, \"Z2\": 0.24781461234878352, \"Outlier_Z\": \"Normal\", \"Outlier_IQR\": \"Normal\", \"Outlier_IF\": \"Normal\"}, {\"UMAP_Component_1\": 12.412873268127441, \"UMAP_Component_2\": 8.984705924987793, \"localization_site\": \"NUC\", \"Z1\": 0.643079765034208, \"Z2\": 1.0334900048776148, \"Outlier_Z\": \"Normal\", \"Outlier_IQR\": \"Normal\", \"Outlier_IF\": \"Normal\"}, {\"UMAP_Component_1\": 8.760200500488281, \"UMAP_Component_2\": 10.29007339477539, \"localization_site\": \"NUC\", \"Z1\": -0.5380460769690021, \"Z2\": 1.564538392524627, \"Outlier_Z\": \"Normal\", \"Outlier_IQR\": \"Normal\", \"Outlier_IF\": \"Normal\"}, {\"UMAP_Component_1\": 8.689826965332031, \"UMAP_Component_2\": 8.183743476867676, \"localization_site\": \"NUC\", \"Z1\": -0.5608020165928768, \"Z2\": 0.7076432019775835, \"Outlier_Z\": \"Normal\", \"Outlier_IQR\": \"Normal\", \"Outlier_IF\": \"Normal\"}, {\"UMAP_Component_1\": 8.969123840332031, \"UMAP_Component_2\": 10.191524505615234, \"localization_site\": \"NUC\", \"Z1\": -0.47048876445163573, \"Z2\": 1.5244468245147234, \"Outlier_Z\": \"Normal\", \"Outlier_IQR\": \"Normal\", \"Outlier_IF\": \"Normal\"}, {\"UMAP_Component_1\": 12.582740783691406, \"UMAP_Component_2\": 7.723536014556885, \"localization_site\": \"NUC\", \"Z1\": 0.6980080121323345, \"Z2\": 0.5204220274809991, \"Outlier_Z\": \"Normal\", \"Outlier_IQR\": \"Normal\", \"Outlier_IF\": \"Normal\"}, {\"UMAP_Component_1\": 10.730963706970215, \"UMAP_Component_2\": 8.04311466217041, \"localization_site\": \"NUC\", \"Z1\": 0.09921860555808892, \"Z2\": 0.6504327175506619, \"Outlier_Z\": \"Normal\", \"Outlier_IQR\": \"Normal\", \"Outlier_IF\": \"Normal\"}, {\"UMAP_Component_1\": 10.272838592529297, \"UMAP_Component_2\": 7.231518268585205, \"localization_site\": \"NUC\", \"Z1\": -0.048920427407237115, \"Z2\": 0.32025982278434567, \"Outlier_Z\": \"Normal\", \"Outlier_IQR\": \"Normal\", \"Outlier_IF\": \"Normal\"}, {\"UMAP_Component_1\": 8.439752578735352, \"UMAP_Component_2\": 11.048962593078613, \"localization_site\": \"NUC\", \"Z1\": -0.6416659042778792, \"Z2\": 1.8732689948179682, \"Outlier_Z\": \"Normal\", \"Outlier_IQR\": \"Normal\", \"Outlier_IF\": \"Outlier\"}, {\"UMAP_Component_1\": 8.67298698425293, \"UMAP_Component_2\": 10.704018592834473, \"localization_site\": \"NUC\", \"Z1\": -0.5662473816985574, \"Z2\": 1.7329391954336095, \"Outlier_Z\": \"Normal\", \"Outlier_IQR\": \"Normal\", \"Outlier_IF\": \"Outlier\"}, {\"UMAP_Component_1\": 10.18345832824707, \"UMAP_Component_2\": 6.077289581298828, \"localization_site\": \"NUC\", \"Z1\": -0.07782237034724133, \"Z2\": -0.1493024250469826, \"Outlier_Z\": \"Normal\", \"Outlier_IQR\": \"Normal\", \"Outlier_IF\": \"Normal\"}, {\"UMAP_Component_1\": 10.374265670776367, \"UMAP_Component_2\": 5.236955642700195, \"localization_site\": \"NUC\", \"Z1\": -0.016123034698575234, \"Z2\": -0.4911663013166126, \"Outlier_Z\": \"Normal\", \"Outlier_IQR\": \"Normal\", \"Outlier_IF\": \"Normal\"}, {\"UMAP_Component_1\": 10.805794715881348, \"UMAP_Component_2\": 9.283917427062988, \"localization_site\": \"NUC\", \"Z1\": 0.12341591093708608, \"Z2\": 1.1552149516225554, \"Outlier_Z\": \"Normal\", \"Outlier_IQR\": \"Normal\", \"Outlier_IF\": \"Normal\"}, {\"UMAP_Component_1\": 11.558465957641602, \"UMAP_Component_2\": 7.633118152618408, \"localization_site\": \"NUC\", \"Z1\": 0.3667991841532824, \"Z2\": 0.4836383164507778, \"Outlier_Z\": \"Normal\", \"Outlier_IQR\": \"Normal\", \"Outlier_IF\": \"Normal\"}, {\"UMAP_Component_1\": 10.660890579223633, \"UMAP_Component_2\": 5.094188213348389, \"localization_site\": \"NUC\", \"Z1\": 0.07655980547483536, \"Z2\": -0.549246814980801, \"Outlier_Z\": \"Normal\", \"Outlier_IQR\": \"Normal\", \"Outlier_IF\": \"Normal\"}, {\"UMAP_Component_1\": 9.30981159210205, \"UMAP_Component_2\": 8.281598091125488, \"localization_site\": \"NUC\", \"Z1\": -0.3603241991408412, \"Z2\": 0.7474523257133597, \"Outlier_Z\": \"Normal\", \"Outlier_IQR\": \"Normal\", \"Outlier_IF\": \"Normal\"}, {\"UMAP_Component_1\": 12.886442184448242, \"UMAP_Component_2\": 4.9325270652771, \"localization_site\": \"NUC\", \"Z1\": 0.7962126955259466, \"Z2\": -0.6150136538329994, \"Outlier_Z\": \"Normal\", \"Outlier_IQR\": \"Normal\", \"Outlier_IF\": \"Normal\"}, {\"UMAP_Component_1\": 8.251629829406738, \"UMAP_Component_2\": 10.91436767578125, \"localization_site\": \"NUC\", \"Z1\": -0.702497151650835, \"Z2\": 1.818513214954787, \"Outlier_Z\": \"Normal\", \"Outlier_IQR\": \"Normal\", \"Outlier_IF\": \"Outlier\"}, {\"UMAP_Component_1\": 9.022342681884766, \"UMAP_Component_2\": 9.484366416931152, \"localization_site\": \"NUC\", \"Z1\": -0.4532799551664733, \"Z2\": 1.2367614244270917, \"Outlier_Z\": \"Normal\", \"Outlier_IQR\": \"Normal\", \"Outlier_IF\": \"Normal\"}, {\"UMAP_Component_1\": 8.206841468811035, \"UMAP_Component_2\": 10.789385795593262, \"localization_site\": \"NUC\", \"Z1\": -0.7169798862087228, \"Z2\": 1.767668201964136, \"Outlier_Z\": \"Normal\", \"Outlier_IQR\": \"Normal\", \"Outlier_IF\": \"Outlier\"}, {\"UMAP_Component_1\": 13.079279899597168, \"UMAP_Component_2\": 3.909492015838623, \"localization_site\": \"CYT\", \"Z1\": 0.8585685711174145, \"Z2\": -1.0312038271633368, \"Outlier_Z\": \"Normal\", \"Outlier_IQR\": \"Normal\", \"Outlier_IF\": \"Normal\"}, {\"UMAP_Component_1\": 9.261445045471191, \"UMAP_Component_2\": 6.190302848815918, \"localization_site\": \"CYT\", \"Z1\": -0.3759639735603505, \"Z2\": -0.10332647200179416, \"Outlier_Z\": \"Normal\", \"Outlier_IQR\": \"Normal\", \"Outlier_IF\": \"Normal\"}, {\"UMAP_Component_1\": 8.604266166687012, \"UMAP_Component_2\": 8.122906684875488, \"localization_site\": \"NUC\", \"Z1\": -0.5884688996592685, \"Z2\": 0.6828936344842824, \"Outlier_Z\": \"Normal\", \"Outlier_IQR\": \"Normal\", \"Outlier_IF\": \"Normal\"}, {\"UMAP_Component_1\": 11.081170082092285, \"UMAP_Component_2\": 6.341939926147461, \"localization_site\": \"CYT\", \"Z1\": 0.21246110659885278, \"Z2\": -0.04163761634375939, \"Outlier_Z\": \"Normal\", \"Outlier_IQR\": \"Normal\", \"Outlier_IF\": \"Normal\"}, {\"UMAP_Component_1\": 11.143743515014648, \"UMAP_Component_2\": 5.214504718780518, \"localization_site\": \"CYT\", \"Z1\": 0.2326948103410104, \"Z2\": -0.5002997654366206, \"Outlier_Z\": \"Normal\", \"Outlier_IQR\": \"Normal\", \"Outlier_IF\": \"Normal\"}, {\"UMAP_Component_1\": 12.65084457397461, \"UMAP_Component_2\": 5.215597152709961, \"localization_site\": \"NUC\", \"Z1\": 0.7200300085604047, \"Z2\": -0.49985534247506463, \"Outlier_Z\": \"Normal\", \"Outlier_IQR\": \"Normal\", \"Outlier_IF\": \"Normal\"}, {\"UMAP_Component_1\": 14.334837913513184, \"UMAP_Component_2\": 4.117919921875, \"localization_site\": \"MIT\", \"Z1\": 1.2645649772309917, \"Z2\": -0.9464113790573097, \"Outlier_Z\": \"Normal\", \"Outlier_IQR\": \"Normal\", \"Outlier_IF\": \"Normal\"}, {\"UMAP_Component_1\": 12.121988296508789, \"UMAP_Component_2\": 7.444846153259277, \"localization_site\": \"NUC\", \"Z1\": 0.5490193936609404, \"Z2\": 0.4070456756712323, \"Outlier_Z\": \"Normal\", \"Outlier_IQR\": \"Normal\", \"Outlier_IF\": \"Normal\"}, {\"UMAP_Component_1\": 10.692000389099121, \"UMAP_Component_2\": 5.395770072937012, \"localization_site\": \"NUC\", \"Z1\": 0.08661945294977058, \"Z2\": -0.4265575615829165, \"Outlier_Z\": \"Normal\", \"Outlier_IQR\": \"Normal\", \"Outlier_IF\": \"Normal\"}, {\"UMAP_Component_1\": 12.066628456115723, \"UMAP_Component_2\": 8.912259101867676, \"localization_site\": \"NUC\", \"Z1\": 0.5311182724116681, \"Z2\": 1.0040172552507634, \"Outlier_Z\": \"Normal\", \"Outlier_IQR\": \"Normal\", \"Outlier_IF\": \"Normal\"}, {\"UMAP_Component_1\": 13.56955623626709, \"UMAP_Component_2\": 7.418681621551514, \"localization_site\": \"NUC\", \"Z1\": 1.0171040019651627, \"Z2\": 0.39640144506296693, \"Outlier_Z\": \"Normal\", \"Outlier_IQR\": \"Normal\", \"Outlier_IF\": \"Normal\"}, {\"UMAP_Component_1\": 8.595131874084473, \"UMAP_Component_2\": 8.037501335144043, \"localization_site\": \"NUC\", \"Z1\": -0.5914225584531414, \"Z2\": 0.6481491090375949, \"Outlier_Z\": \"Normal\", \"Outlier_IQR\": \"Normal\", \"Outlier_IF\": \"Normal\"}, {\"UMAP_Component_1\": 7.877443313598633, \"UMAP_Component_2\": 5.23110294342041, \"localization_site\": \"ME3\", \"Z1\": -0.823493855069124, \"Z2\": -0.49354729102858885, \"Outlier_Z\": \"Normal\", \"Outlier_IQR\": \"Normal\", \"Outlier_IF\": \"Normal\"}, {\"UMAP_Component_1\": 8.937145233154297, \"UMAP_Component_2\": 10.17227554321289, \"localization_site\": \"NUC\", \"Z1\": -0.4808293456456374, \"Z2\": 1.5166159794199656, \"Outlier_Z\": \"Normal\", \"Outlier_IQR\": \"Normal\", \"Outlier_IF\": \"Normal\"}, {\"UMAP_Component_1\": 12.726842880249023, \"UMAP_Component_2\": 8.40375804901123, \"localization_site\": \"NUC\", \"Z1\": 0.7446047704401014, \"Z2\": 0.7971493268810126, \"Outlier_Z\": \"Normal\", \"Outlier_IQR\": \"Normal\", \"Outlier_IF\": \"Normal\"}, {\"UMAP_Component_1\": 12.174883842468262, \"UMAP_Component_2\": 8.695239067077637, \"localization_site\": \"NUC\", \"Z1\": 0.5661236622976249, \"Z2\": 0.9157293652659597, \"Outlier_Z\": \"Normal\", \"Outlier_IQR\": \"Normal\", \"Outlier_IF\": \"Normal\"}, {\"UMAP_Component_1\": 12.168777465820312, \"UMAP_Component_2\": 6.2608537673950195, \"localization_site\": \"NUC\", \"Z1\": 0.5641491083973149, \"Z2\": -0.0746250125081362, \"Outlier_Z\": \"Normal\", \"Outlier_IQR\": \"Normal\", \"Outlier_IF\": \"Normal\"}, {\"UMAP_Component_1\": 9.709075927734375, \"UMAP_Component_2\": 8.40833568572998, \"localization_site\": \"NUC\", \"Z1\": -0.2312183485473922, \"Z2\": 0.799011596820313, \"Outlier_Z\": \"Normal\", \"Outlier_IQR\": \"Normal\", \"Outlier_IF\": \"Normal\"}, {\"UMAP_Component_1\": 9.086286544799805, \"UMAP_Component_2\": 6.262875080108643, \"localization_site\": \"NUC\", \"Z1\": -0.4326031100913865, \"Z2\": -0.07380270393806392, \"Outlier_Z\": \"Normal\", \"Outlier_IQR\": \"Normal\", \"Outlier_IF\": \"Normal\"}, {\"UMAP_Component_1\": 12.343506813049316, \"UMAP_Component_2\": 6.504859447479248, \"localization_site\": \"NUC\", \"Z1\": 0.6206494741560349, \"Z2\": 0.024641152755294618, \"Outlier_Z\": \"Normal\", \"Outlier_IQR\": \"Normal\", \"Outlier_IF\": \"Normal\"}, {\"UMAP_Component_1\": 7.777241230010986, \"UMAP_Component_2\": 5.11134147644043, \"localization_site\": \"NUC\", \"Z1\": -0.8558951343176971, \"Z2\": -0.5422685403426292, \"Outlier_Z\": \"Normal\", \"Outlier_IQR\": \"Normal\", \"Outlier_IF\": \"Normal\"}, {\"UMAP_Component_1\": 12.495902061462402, \"UMAP_Component_2\": 8.693717002868652, \"localization_site\": \"NUC\", \"Z1\": 0.6699279005439353, \"Z2\": 0.9151101605111425, \"Outlier_Z\": \"Normal\", \"Outlier_IQR\": \"Normal\", \"Outlier_IF\": \"Normal\"}, {\"UMAP_Component_1\": 13.808967590332031, \"UMAP_Component_2\": 6.88320779800415, \"localization_site\": \"CYT\", \"Z1\": 1.094519898527353, \"Z2\": 0.17856047904879324, \"Outlier_Z\": \"Normal\", \"Outlier_IQR\": \"Normal\", \"Outlier_IF\": \"Normal\"}, {\"UMAP_Component_1\": 12.23332405090332, \"UMAP_Component_2\": 4.782939910888672, \"localization_site\": \"CYT\", \"Z1\": 0.5850208493126322, \"Z2\": -0.6758685617338414, \"Outlier_Z\": \"Normal\", \"Outlier_IQR\": \"Normal\", \"Outlier_IF\": \"Normal\"}, {\"UMAP_Component_1\": 8.755243301391602, \"UMAP_Component_2\": 10.470498085021973, \"localization_site\": \"NUC\", \"Z1\": -0.5396490335789991, \"Z2\": 1.6379385982634365, \"Outlier_Z\": \"Normal\", \"Outlier_IQR\": \"Normal\", \"Outlier_IF\": \"Normal\"}, {\"UMAP_Component_1\": 13.302458763122559, \"UMAP_Component_2\": 6.14772367477417, \"localization_site\": \"MIT\", \"Z1\": 0.9307355403116249, \"Z2\": -0.12064849223406719, \"Outlier_Z\": \"Normal\", \"Outlier_IQR\": \"Normal\", \"Outlier_IF\": \"Normal\"}, {\"UMAP_Component_1\": 11.533616065979004, \"UMAP_Component_2\": 7.653723239898682, \"localization_site\": \"MIT\", \"Z1\": 0.3587637396771968, \"Z2\": 0.4920208590150533, \"Outlier_Z\": \"Normal\", \"Outlier_IQR\": \"Normal\", \"Outlier_IF\": \"Normal\"}, {\"UMAP_Component_1\": 13.467321395874023, \"UMAP_Component_2\": 3.8728339672088623, \"localization_site\": \"MIT\", \"Z1\": 0.9840454118250526, \"Z2\": -1.0461170206277701, \"Outlier_Z\": \"Normal\", \"Outlier_IQR\": \"Normal\", \"Outlier_IF\": \"Normal\"}, {\"UMAP_Component_1\": 12.597999572753906, \"UMAP_Component_2\": 7.149575233459473, \"localization_site\": \"NUC\", \"Z1\": 0.7029420840369042, \"Z2\": 0.28692383296570606, \"Outlier_Z\": \"Normal\", \"Outlier_IQR\": \"Normal\", \"Outlier_IF\": \"Normal\"}, {\"UMAP_Component_1\": 11.473165512084961, \"UMAP_Component_2\": 10.78315544128418, \"localization_site\": \"CYT\", \"Z1\": 0.3392164886887624, \"Z2\": 1.7651335749821677, \"Outlier_Z\": \"Normal\", \"Outlier_IQR\": \"Normal\", \"Outlier_IF\": \"Outlier\"}, {\"UMAP_Component_1\": 13.582685470581055, \"UMAP_Component_2\": 3.6043412685394287, \"localization_site\": \"NUC\", \"Z1\": 1.0213494624595507, \"Z2\": -1.1553449721612936, \"Outlier_Z\": \"Normal\", \"Outlier_IQR\": \"Normal\", \"Outlier_IF\": \"Normal\"}, {\"UMAP_Component_1\": 9.439581871032715, \"UMAP_Component_2\": 6.152669429779053, \"localization_site\": \"NUC\", \"Z1\": -0.31836176786944137, \"Z2\": -0.11863646475381481, \"Outlier_Z\": \"Normal\", \"Outlier_IQR\": \"Normal\", \"Outlier_IF\": \"Normal\"}, {\"UMAP_Component_1\": 11.607532501220703, \"UMAP_Component_2\": 7.536236763000488, \"localization_site\": \"NUC\", \"Z1\": 0.38266530912141383, \"Z2\": 0.4442251190635549, \"Outlier_Z\": \"Normal\", \"Outlier_IQR\": \"Normal\", \"Outlier_IF\": \"Normal\"}, {\"UMAP_Component_1\": 14.000941276550293, \"UMAP_Component_2\": 7.431916236877441, \"localization_site\": \"NUC\", \"Z1\": 1.1565963822972245, \"Z2\": 0.40178553903851694, \"Outlier_Z\": \"Normal\", \"Outlier_IQR\": \"Normal\", \"Outlier_IF\": \"Normal\"}, {\"UMAP_Component_1\": 13.957026481628418, \"UMAP_Component_2\": 7.4320173263549805, \"localization_site\": \"NUC\", \"Z1\": 1.1423961233558733, \"Z2\": 0.40182666416634316, \"Outlier_Z\": \"Normal\", \"Outlier_IQR\": \"Normal\", \"Outlier_IF\": \"Normal\"}, {\"UMAP_Component_1\": 13.102254867553711, \"UMAP_Component_2\": 8.148148536682129, \"localization_site\": \"CYT\", \"Z1\": 0.8659977415082261, \"Z2\": 0.6931625013079076, \"Outlier_Z\": \"Normal\", \"Outlier_IQR\": \"Normal\", \"Outlier_IF\": \"Normal\"}, {\"UMAP_Component_1\": 13.05594253540039, \"UMAP_Component_2\": 8.272887229919434, \"localization_site\": \"CYT\", \"Z1\": 0.8510222165188693, \"Z2\": 0.7439085812080329, \"Outlier_Z\": \"Normal\", \"Outlier_IQR\": \"Normal\", \"Outlier_IF\": \"Normal\"}, {\"UMAP_Component_1\": 10.73984432220459, \"UMAP_Component_2\": 5.775902271270752, \"localization_site\": \"CYT\", \"Z1\": 0.10209023540654841, \"Z2\": -0.2719125319724468, \"Outlier_Z\": \"Normal\", \"Outlier_IQR\": \"Normal\", \"Outlier_IF\": \"Normal\"}, {\"UMAP_Component_1\": 13.131477355957031, \"UMAP_Component_2\": 7.587182998657227, \"localization_site\": \"CYT\", \"Z1\": 0.8754471059644648, \"Z2\": 0.4649510195692553, \"Outlier_Z\": \"Normal\", \"Outlier_IQR\": \"Normal\", \"Outlier_IF\": \"Normal\"}, {\"UMAP_Component_1\": 13.125200271606445, \"UMAP_Component_2\": 7.583095073699951, \"localization_site\": \"CYT\", \"Z1\": 0.8734173521347225, \"Z2\": 0.4632879737161697, \"Outlier_Z\": \"Normal\", \"Outlier_IQR\": \"Normal\", \"Outlier_IF\": \"Normal\"}, {\"UMAP_Component_1\": 13.408097267150879, \"UMAP_Component_2\": 6.319851398468018, \"localization_site\": \"CYT\", \"Z1\": 0.964894736865948, \"Z2\": -0.05062365076023941, \"Outlier_Z\": \"Normal\", \"Outlier_IQR\": \"Normal\", \"Outlier_IF\": \"Normal\"}, {\"UMAP_Component_1\": 13.42600154876709, \"UMAP_Component_2\": 6.340219974517822, \"localization_site\": \"CYT\", \"Z1\": 0.9706842534869723, \"Z2\": -0.04233732547616108, \"Outlier_Z\": \"Normal\", \"Outlier_IQR\": \"Normal\", \"Outlier_IF\": \"Normal\"}, {\"UMAP_Component_1\": 13.862846374511719, \"UMAP_Component_2\": 7.927735328674316, \"localization_site\": \"CYT\", \"Z1\": 1.111942106422388, \"Z2\": 0.6034942037305977, \"Outlier_Z\": \"Normal\", \"Outlier_IQR\": \"Normal\", \"Outlier_IF\": \"Normal\"}, {\"UMAP_Component_1\": 13.884842872619629, \"UMAP_Component_2\": 7.934256076812744, \"localization_site\": \"CYT\", \"Z1\": 1.119054879452319, \"Z2\": 0.6061469684618406, \"Outlier_Z\": \"Normal\", \"Outlier_IQR\": \"Normal\", \"Outlier_IF\": \"Normal\"}, {\"UMAP_Component_1\": 12.127084732055664, \"UMAP_Component_2\": 7.665185451507568, \"localization_site\": \"CYT\", \"Z1\": 0.5506673736770668, \"Z2\": 0.4966839053484805, \"Outlier_Z\": \"Normal\", \"Outlier_IQR\": \"Normal\", \"Outlier_IF\": \"Normal\"}, {\"UMAP_Component_1\": 10.67819595336914, \"UMAP_Component_2\": 4.780730247497559, \"localization_site\": \"NUC\", \"Z1\": 0.08215565977360531, \"Z2\": -0.6767674949524577, \"Outlier_Z\": \"Normal\", \"Outlier_IQR\": \"Normal\", \"Outlier_IF\": \"Normal\"}, {\"UMAP_Component_1\": 10.939290046691895, \"UMAP_Component_2\": 9.112797737121582, \"localization_site\": \"NUC\", \"Z1\": 0.16658287251218895, \"Z2\": 1.0856001975082776, \"Outlier_Z\": \"Normal\", \"Outlier_IQR\": \"Normal\", \"Outlier_IF\": \"Normal\"}, {\"UMAP_Component_1\": 8.883871078491211, \"UMAP_Component_2\": 8.059447288513184, \"localization_site\": \"NUC\", \"Z1\": -0.4980560409414539, \"Z2\": 0.6570771415049238, \"Outlier_Z\": \"Normal\", \"Outlier_IQR\": \"Normal\", \"Outlier_IF\": \"Normal\"}, {\"UMAP_Component_1\": 10.457366943359375, \"UMAP_Component_2\": 6.936623573303223, \"localization_site\": \"NUC\", \"Z1\": 0.010748537652698616, \"Z2\": 0.20029103538945575, \"Outlier_Z\": \"Normal\", \"Outlier_IQR\": \"Normal\", \"Outlier_IF\": \"Normal\"}, {\"UMAP_Component_1\": 12.252701759338379, \"UMAP_Component_2\": 6.29451322555542, \"localization_site\": \"NUC\", \"Z1\": 0.5912868122519415, \"Z2\": -0.060931702847170637, \"Outlier_Z\": \"Normal\", \"Outlier_IQR\": \"Normal\", \"Outlier_IF\": \"Normal\"}, {\"UMAP_Component_1\": 12.12231159210205, \"UMAP_Component_2\": 10.613591194152832, \"localization_site\": \"NUC\", \"Z1\": 0.5491239343094185, \"Z2\": 1.6961516046743481, \"Outlier_Z\": \"Normal\", \"Outlier_IQR\": \"Normal\", \"Outlier_IF\": \"Outlier\"}, {\"UMAP_Component_1\": 10.388384819030762, \"UMAP_Component_2\": 9.135966300964355, \"localization_site\": \"NUC\", \"Z1\": -0.01155747628937822, \"Z2\": 1.0950256112385612, \"Outlier_Z\": \"Normal\", \"Outlier_IQR\": \"Normal\", \"Outlier_IF\": \"Normal\"}, {\"UMAP_Component_1\": 10.449050903320312, \"UMAP_Component_2\": 5.365495204925537, \"localization_site\": \"NUC\", \"Z1\": 0.008059468464708211, \"Z2\": -0.43887395540751195, \"Outlier_Z\": \"Normal\", \"Outlier_IQR\": \"Normal\", \"Outlier_IF\": \"Normal\"}, {\"UMAP_Component_1\": 8.744126319885254, \"UMAP_Component_2\": 9.956628799438477, \"localization_site\": \"NUC\", \"Z1\": -0.543243813340972, \"Z2\": 1.4288867704169523, \"Outlier_Z\": \"Normal\", \"Outlier_IQR\": \"Normal\", \"Outlier_IF\": \"Normal\"}, {\"UMAP_Component_1\": 12.580148696899414, \"UMAP_Component_2\": 8.774676322937012, \"localization_site\": \"NUC\", \"Z1\": 0.6971698366675458, \"Z2\": 0.9480459562792845, \"Outlier_Z\": \"Normal\", \"Outlier_IQR\": \"Normal\", \"Outlier_IF\": \"Normal\"}, {\"UMAP_Component_1\": 11.876080513000488, \"UMAP_Component_2\": 9.226631164550781, \"localization_site\": \"NUC\", \"Z1\": 0.4695028159853797, \"Z2\": 1.131909807250924, \"Outlier_Z\": \"Normal\", \"Outlier_IQR\": \"Normal\", \"Outlier_IF\": \"Normal\"}, {\"UMAP_Component_1\": 12.266266822814941, \"UMAP_Component_2\": 6.3382062911987305, \"localization_site\": \"NUC\", \"Z1\": 0.5956732021751039, \"Z2\": -0.0431565302630012, \"Outlier_Z\": \"Normal\", \"Outlier_IQR\": \"Normal\", \"Outlier_IF\": \"Normal\"}, {\"UMAP_Component_1\": 12.520183563232422, \"UMAP_Component_2\": 7.333376884460449, \"localization_site\": \"NUC\", \"Z1\": 0.6777795508415756, \"Z2\": 0.3616978507576537, \"Outlier_Z\": \"Normal\", \"Outlier_IQR\": \"Normal\", \"Outlier_IF\": \"Normal\"}, {\"UMAP_Component_1\": 13.3342866897583, \"UMAP_Component_2\": 7.932098865509033, \"localization_site\": \"NUC\", \"Z1\": 0.9410273975455689, \"Z2\": 0.6052693737529453, \"Outlier_Z\": \"Normal\", \"Outlier_IQR\": \"Normal\", \"Outlier_IF\": \"Normal\"}, {\"UMAP_Component_1\": 13.237894058227539, \"UMAP_Component_2\": 7.029096603393555, \"localization_site\": \"NUC\", \"Z1\": 0.9098579401859209, \"Z2\": 0.23791082802784208, \"Outlier_Z\": \"Normal\", \"Outlier_IQR\": \"Normal\", \"Outlier_IF\": \"Normal\"}, {\"UMAP_Component_1\": 13.346295356750488, \"UMAP_Component_2\": 4.823000907897949, \"localization_site\": \"NUC\", \"Z1\": 0.9449105121344651, \"Z2\": -0.6595709839546354, \"Outlier_Z\": \"Normal\", \"Outlier_IQR\": \"Normal\", \"Outlier_IF\": \"Normal\"}, {\"UMAP_Component_1\": 10.308314323425293, \"UMAP_Component_2\": 5.865377426147461, \"localization_site\": \"NUC\", \"Z1\": -0.03744901860860694, \"Z2\": -0.23551233215785017, \"Outlier_Z\": \"Normal\", \"Outlier_IQR\": \"Normal\", \"Outlier_IF\": \"Normal\"}, {\"UMAP_Component_1\": 12.163064002990723, \"UMAP_Component_2\": 10.723482131958008, \"localization_site\": \"NUC\", \"Z1\": 0.5623016068485477, \"Z2\": 1.7408573344317722, \"Outlier_Z\": \"Normal\", \"Outlier_IQR\": \"Normal\", \"Outlier_IF\": \"Outlier\"}, {\"UMAP_Component_1\": 11.97956371307373, \"UMAP_Component_2\": 8.518401145935059, \"localization_site\": \"NUC\", \"Z1\": 0.5029650748831823, \"Z2\": 0.8437883256191727, \"Outlier_Z\": \"Normal\", \"Outlier_IQR\": \"Normal\", \"Outlier_IF\": \"Normal\"}, {\"UMAP_Component_1\": 11.58184814453125, \"UMAP_Component_2\": 9.56872272491455, \"localization_site\": \"NUC\", \"Z1\": 0.3743600325880472, \"Z2\": 1.2710791796793561, \"Outlier_Z\": \"Normal\", \"Outlier_IQR\": \"Normal\", \"Outlier_IF\": \"Normal\"}, {\"UMAP_Component_1\": 10.9038724899292, \"UMAP_Component_2\": 9.792275428771973, \"localization_site\": \"NUC\", \"Z1\": 0.15513027486269493, \"Z2\": 1.3620246840567027, \"Outlier_Z\": \"Normal\", \"Outlier_IQR\": \"Normal\", \"Outlier_IF\": \"Normal\"}, {\"UMAP_Component_1\": 10.634889602661133, \"UMAP_Component_2\": 9.648300170898438, \"localization_site\": \"NUC\", \"Z1\": 0.06815214694944885, \"Z2\": 1.303452802709572, \"Outlier_Z\": \"Normal\", \"Outlier_IQR\": \"Normal\", \"Outlier_IF\": \"Normal\"}, {\"UMAP_Component_1\": 11.45242977142334, \"UMAP_Component_2\": 9.683629989624023, \"localization_site\": \"NUC\", \"Z1\": 0.33251139334994645, \"Z2\": 1.31782564691193, \"Outlier_Z\": \"Normal\", \"Outlier_IQR\": \"Normal\", \"Outlier_IF\": \"Normal\"}, {\"UMAP_Component_1\": 8.787615776062012, \"UMAP_Component_2\": 9.279268264770508, \"localization_site\": \"CYT\", \"Z1\": -0.5291810916539608, \"Z2\": 1.1533235837154534, \"Outlier_Z\": \"Normal\", \"Outlier_IQR\": \"Normal\", \"Outlier_IF\": \"Normal\"}, {\"UMAP_Component_1\": 14.541808128356934, \"UMAP_Component_2\": 7.533853530883789, \"localization_site\": \"CYT\", \"Z1\": 1.331490728544573, \"Z2\": 0.44325557477640665, \"Outlier_Z\": \"Normal\", \"Outlier_IQR\": \"Normal\", \"Outlier_IF\": \"Outlier\"}, {\"UMAP_Component_1\": 14.49486255645752, \"UMAP_Component_2\": 7.5821123123168945, \"localization_site\": \"CYT\", \"Z1\": 1.3163104395711767, \"Z2\": 0.46288816763857615, \"Outlier_Z\": \"Normal\", \"Outlier_IQR\": \"Normal\", \"Outlier_IF\": \"Outlier\"}, {\"UMAP_Component_1\": 14.418851852416992, \"UMAP_Component_2\": 7.074460983276367, \"localization_site\": \"CYT\", \"Z1\": 1.2917316687580576, \"Z2\": 0.2563659231263081, \"Outlier_Z\": \"Normal\", \"Outlier_IQR\": \"Normal\", \"Outlier_IF\": \"Outlier\"}, {\"UMAP_Component_1\": 14.408597946166992, \"UMAP_Component_2\": 7.074256420135498, \"localization_site\": \"CYT\", \"Z1\": 1.2884159724381867, \"Z2\": 0.25628270293839567, \"Outlier_Z\": \"Normal\", \"Outlier_IQR\": \"Normal\", \"Outlier_IF\": \"Outlier\"}, {\"UMAP_Component_1\": 8.542057991027832, \"UMAP_Component_2\": 6.820427894592285, \"localization_site\": \"CYT\", \"Z1\": -0.6085844940552104, \"Z2\": 0.15302041676354958, \"Outlier_Z\": \"Normal\", \"Outlier_IQR\": \"Normal\", \"Outlier_IF\": \"Normal\"}, {\"UMAP_Component_1\": 8.543892860412598, \"UMAP_Component_2\": 6.837462425231934, \"localization_site\": \"CYT\", \"Z1\": -0.607991171908686, \"Z2\": 0.15995038877517084, \"Outlier_Z\": \"Normal\", \"Outlier_IQR\": \"Normal\", \"Outlier_IF\": \"Normal\"}, {\"UMAP_Component_1\": 11.051412582397461, \"UMAP_Component_2\": 5.582709789276123, \"localization_site\": \"CYT\", \"Z1\": 0.20283874124646004, \"Z2\": -0.3505069189502882, \"Outlier_Z\": \"Normal\", \"Outlier_IQR\": \"Normal\", \"Outlier_IF\": \"Normal\"}, {\"UMAP_Component_1\": 11.51644515991211, \"UMAP_Component_2\": 6.171270847320557, \"localization_site\": \"CYT\", \"Z1\": 0.35321136688708593, \"Z2\": -0.11106905326088722, \"Outlier_Z\": \"Normal\", \"Outlier_IQR\": \"Normal\", \"Outlier_IF\": \"Normal\"}, {\"UMAP_Component_1\": 11.500527381896973, \"UMAP_Component_2\": 6.134013652801514, \"localization_site\": \"CYT\", \"Z1\": 0.3480642047521378, \"Z2\": -0.1262259907022716, \"Outlier_Z\": \"Normal\", \"Outlier_IQR\": \"Normal\", \"Outlier_IF\": \"Normal\"}, {\"UMAP_Component_1\": 9.684624671936035, \"UMAP_Component_2\": 6.069683074951172, \"localization_site\": \"CYT\", \"Z1\": -0.23912489039497087, \"Z2\": -0.15239689692945327, \"Outlier_Z\": \"Normal\", \"Outlier_IQR\": \"Normal\", \"Outlier_IF\": \"Normal\"}, {\"UMAP_Component_1\": 9.519740104675293, \"UMAP_Component_2\": 6.197336196899414, \"localization_site\": \"CYT\", \"Z1\": -0.29244185463676137, \"Z2\": -0.10046517183464004, \"Outlier_Z\": \"Normal\", \"Outlier_IQR\": \"Normal\", \"Outlier_IF\": \"Normal\"}, {\"UMAP_Component_1\": 14.220732688903809, \"UMAP_Component_2\": 7.700984477996826, \"localization_site\": \"CYT\", \"Z1\": 1.2276679875286205, \"Z2\": 0.511247632219617, \"Outlier_Z\": \"Normal\", \"Outlier_IQR\": \"Normal\", \"Outlier_IF\": \"Normal\"}, {\"UMAP_Component_1\": 13.490249633789062, \"UMAP_Component_2\": 6.4385223388671875, \"localization_site\": \"CYT\", \"Z1\": 0.9914594716206564, \"Z2\": -0.002346048461947008, \"Outlier_Z\": \"Normal\", \"Outlier_IQR\": \"Normal\", \"Outlier_IF\": \"Normal\"}, {\"UMAP_Component_1\": 13.456363677978516, \"UMAP_Component_2\": 6.399677753448486, \"localization_site\": \"CYT\", \"Z1\": 0.9805021314385836, \"Z2\": -0.0181487668020742, \"Outlier_Z\": \"Normal\", \"Outlier_IQR\": \"Normal\", \"Outlier_IF\": \"Normal\"}, {\"UMAP_Component_1\": 13.066129684448242, \"UMAP_Component_2\": 5.167866230010986, \"localization_site\": \"CYT\", \"Z1\": 0.8543163262741577, \"Z2\": -0.5192731923348585, \"Outlier_Z\": \"Normal\", \"Outlier_IQR\": \"Normal\", \"Outlier_IF\": \"Normal\"}, {\"UMAP_Component_1\": 12.457359313964844, \"UMAP_Component_2\": 6.464905261993408, \"localization_site\": \"CYT\", \"Z1\": 0.6574647432924866, \"Z2\": 0.008387027941339113, \"Outlier_Z\": \"Normal\", \"Outlier_IQR\": \"Normal\", \"Outlier_IF\": \"Normal\"}, {\"UMAP_Component_1\": 9.992847442626953, \"UMAP_Component_2\": 1.8109818696975708, \"localization_site\": \"CYT\", \"Z1\": -0.1394581798201361, \"Z2\": -1.8849177853872479, \"Outlier_Z\": \"Normal\", \"Outlier_IQR\": \"Normal\", \"Outlier_IF\": \"Outlier\"}, {\"UMAP_Component_1\": 9.995917320251465, \"UMAP_Component_2\": 1.7909756898880005, \"localization_site\": \"CYT\", \"Z1\": -0.13846550622883552, \"Z2\": -1.8930566809677984, \"Outlier_Z\": \"Normal\", \"Outlier_IQR\": \"Normal\", \"Outlier_IF\": \"Outlier\"}, {\"UMAP_Component_1\": 12.8590087890625, \"UMAP_Component_2\": 8.731036186218262, \"localization_site\": \"CYT\", \"Z1\": 0.7873418510005186, \"Z2\": 0.9302923161912882, \"Outlier_Z\": \"Normal\", \"Outlier_IQR\": \"Normal\", \"Outlier_IF\": \"Normal\"}, {\"UMAP_Component_1\": 12.896729469299316, \"UMAP_Component_2\": 8.70215129852295, \"localization_site\": \"CYT\", \"Z1\": 0.7995391851281086, \"Z2\": 0.9185413928743033, \"Outlier_Z\": \"Normal\", \"Outlier_IQR\": \"Normal\", \"Outlier_IF\": \"Normal\"}, {\"UMAP_Component_1\": 11.762958526611328, \"UMAP_Component_2\": 5.353305339813232, \"localization_site\": \"CYT\", \"Z1\": 0.4329237655413593, \"Z2\": -0.4438330250667071, \"Outlier_Z\": \"Normal\", \"Outlier_IQR\": \"Normal\", \"Outlier_IF\": \"Normal\"}, {\"UMAP_Component_1\": 12.328506469726562, \"UMAP_Component_2\": 8.312850952148438, \"localization_site\": \"CYT\", \"Z1\": 0.6157989730943491, \"Z2\": 0.7601665857510286, \"Outlier_Z\": \"Normal\", \"Outlier_IQR\": \"Normal\", \"Outlier_IF\": \"Normal\"}, {\"UMAP_Component_1\": 13.135733604431152, \"UMAP_Component_2\": 7.91903018951416, \"localization_site\": \"CYT\", \"Z1\": 0.8768234036463457, \"Z2\": 0.599952787062695, \"Outlier_Z\": \"Normal\", \"Outlier_IQR\": \"Normal\", \"Outlier_IF\": \"Normal\"}, {\"UMAP_Component_1\": 13.148130416870117, \"UMAP_Component_2\": 7.9271416664123535, \"localization_site\": \"CYT\", \"Z1\": 0.8808320286893144, \"Z2\": 0.6032526905978447, \"Outlier_Z\": \"Normal\", \"Outlier_IQR\": \"Normal\", \"Outlier_IF\": \"Normal\"}, {\"UMAP_Component_1\": 14.298190116882324, \"UMAP_Component_2\": 7.727654457092285, \"localization_site\": \"CYT\", \"Z1\": 1.2527145700341917, \"Z2\": 0.5220974884670133, \"Outlier_Z\": \"Normal\", \"Outlier_IQR\": \"Normal\", \"Outlier_IF\": \"Normal\"}, {\"UMAP_Component_1\": 14.260863304138184, \"UMAP_Component_2\": 7.809768199920654, \"localization_site\": \"CYT\", \"Z1\": 1.2406445966376385, \"Z2\": 0.5555029254354727, \"Outlier_Z\": \"Normal\", \"Outlier_IQR\": \"Normal\", \"Outlier_IF\": \"Normal\"}, {\"UMAP_Component_1\": 14.40153980255127, \"UMAP_Component_2\": 7.756260395050049, \"localization_site\": \"CYT\", \"Z1\": 1.2861336558028293, \"Z2\": 0.5337349297095721, \"Outlier_Z\": \"Normal\", \"Outlier_IQR\": \"Normal\", \"Outlier_IF\": \"Outlier\"}, {\"UMAP_Component_1\": 14.443466186523438, \"UMAP_Component_2\": 7.730994701385498, \"localization_site\": \"CYT\", \"Z1\": 1.2996909434991162, \"Z2\": 0.5234563635633466, \"Outlier_Z\": \"Normal\", \"Outlier_IQR\": \"Normal\", \"Outlier_IF\": \"Outlier\"}, {\"UMAP_Component_1\": 14.42564582824707, \"UMAP_Component_2\": 7.743950843811035, \"localization_site\": \"CYT\", \"Z1\": 1.2939285642735672, \"Z2\": 0.5287271694509225, \"Outlier_Z\": \"Normal\", \"Outlier_IQR\": \"Normal\", \"Outlier_IF\": \"Outlier\"}, {\"UMAP_Component_1\": 12.489677429199219, \"UMAP_Component_2\": 4.895836353302002, \"localization_site\": \"CYT\", \"Z1\": 0.6679151075863649, \"Z2\": -0.6299401353693954, \"Outlier_Z\": \"Normal\", \"Outlier_IQR\": \"Normal\", \"Outlier_IF\": \"Normal\"}, {\"UMAP_Component_1\": 12.368426322937012, \"UMAP_Component_2\": 5.053502082824707, \"localization_site\": \"CYT\", \"Z1\": 0.6287074303351851, \"Z2\": -0.5657987089985925, \"Outlier_Z\": \"Normal\", \"Outlier_IQR\": \"Normal\", \"Outlier_IF\": \"Normal\"}, {\"UMAP_Component_1\": 14.304025650024414, \"UMAP_Component_2\": 4.81824254989624, \"localization_site\": \"CYT\", \"Z1\": 1.2546015441581955, \"Z2\": -0.6615067747592477, \"Outlier_Z\": \"Normal\", \"Outlier_IQR\": \"Normal\", \"Outlier_IF\": \"Normal\"}, {\"UMAP_Component_1\": 9.827524185180664, \"UMAP_Component_2\": 10.004826545715332, \"localization_site\": \"CYT\", \"Z1\": -0.192916998629183, \"Z2\": 1.4484945330132644, \"Outlier_Z\": \"Normal\", \"Outlier_IQR\": \"Normal\", \"Outlier_IF\": \"Normal\"}, {\"UMAP_Component_1\": 12.928921699523926, \"UMAP_Component_2\": 7.305848598480225, \"localization_site\": \"CYT\", \"Z1\": 0.8099488433287741, \"Z2\": 0.3504988188966385, \"Outlier_Z\": \"Normal\", \"Outlier_IQR\": \"Normal\", \"Outlier_IF\": \"Normal\"}, {\"UMAP_Component_1\": 9.632966995239258, \"UMAP_Component_2\": 5.382864952087402, \"localization_site\": \"CYT\", \"Z1\": -0.255828882448397, \"Z2\": -0.4318076109201273, \"Outlier_Z\": \"Normal\", \"Outlier_IQR\": \"Normal\", \"Outlier_IF\": \"Normal\"}, {\"UMAP_Component_1\": 9.641104698181152, \"UMAP_Component_2\": 3.21742844581604, \"localization_site\": \"CYT\", \"Z1\": -0.2531974802257913, \"Z2\": -1.312748489119352, \"Outlier_Z\": \"Normal\", \"Outlier_IQR\": \"Normal\", \"Outlier_IF\": \"Normal\"}, {\"UMAP_Component_1\": 9.640417098999023, \"UMAP_Component_2\": 3.263173818588257, \"localization_site\": \"CYT\", \"Z1\": -0.25341982184099093, \"Z2\": -1.2941383988457296, \"Outlier_Z\": \"Normal\", \"Outlier_IQR\": \"Normal\", \"Outlier_IF\": \"Normal\"}, {\"UMAP_Component_1\": 9.58294677734375, \"UMAP_Component_2\": 3.188363790512085, \"localization_site\": \"CYT\", \"Z1\": -0.2720033869105641, \"Z2\": -1.3245725453287447, \"Outlier_Z\": \"Normal\", \"Outlier_IQR\": \"Normal\", \"Outlier_IF\": \"Normal\"}, {\"UMAP_Component_1\": 9.676009178161621, \"UMAP_Component_2\": 3.1161880493164062, \"localization_site\": \"CYT\", \"Z1\": -0.24191079074408844, \"Z2\": -1.3539350136576283, \"Outlier_Z\": \"Normal\", \"Outlier_IQR\": \"Normal\", \"Outlier_IF\": \"Normal\"}, {\"UMAP_Component_1\": 10.823590278625488, \"UMAP_Component_2\": 7.034845352172852, \"localization_site\": \"MIT\", \"Z1\": 0.1291702722957903, \"Z2\": 0.24024952869328003, \"Outlier_Z\": \"Normal\", \"Outlier_IQR\": \"Normal\", \"Outlier_IF\": \"Normal\"}, {\"UMAP_Component_1\": 10.006916046142578, \"UMAP_Component_2\": 5.758335113525391, \"localization_site\": \"NUC\", \"Z1\": -0.134908965524123, \"Z2\": -0.27905918685096376, \"Outlier_Z\": \"Normal\", \"Outlier_IQR\": \"Normal\", \"Outlier_IF\": \"Normal\"}, {\"UMAP_Component_1\": 10.320334434509277, \"UMAP_Component_2\": 4.503458023071289, \"localization_site\": \"NUC\", \"Z1\": -0.03356220346578228, \"Z2\": -0.7895671250403975, \"Outlier_Z\": \"Normal\", \"Outlier_IQR\": \"Normal\", \"Outlier_IF\": \"Normal\"}, {\"UMAP_Component_1\": 13.666844367980957, \"UMAP_Component_2\": 3.740459680557251, \"localization_site\": \"MIT\", \"Z1\": 1.04856302766971, \"Z2\": -1.0999694055839389, \"Outlier_Z\": \"Normal\", \"Outlier_IQR\": \"Normal\", \"Outlier_IF\": \"Normal\"}, {\"UMAP_Component_1\": 9.901598930358887, \"UMAP_Component_2\": 8.908961296081543, \"localization_site\": \"CYT\", \"Z1\": -0.16896423818895606, \"Z2\": 1.002675644948659, \"Outlier_Z\": \"Normal\", \"Outlier_IQR\": \"Normal\", \"Outlier_IF\": \"Normal\"}, {\"UMAP_Component_1\": 13.052739143371582, \"UMAP_Component_2\": 7.213647842407227, \"localization_site\": \"CYT\", \"Z1\": 0.8499863697984038, \"Z2\": 0.3129897925223501, \"Outlier_Z\": \"Normal\", \"Outlier_IQR\": \"Normal\", \"Outlier_IF\": \"Normal\"}, {\"UMAP_Component_1\": 13.056894302368164, \"UMAP_Component_2\": 7.212475299835205, \"localization_site\": \"CYT\", \"Z1\": 0.851329979253917, \"Z2\": 0.3125127798368564, \"Outlier_Z\": \"Normal\", \"Outlier_IQR\": \"Normal\", \"Outlier_IF\": \"Normal\"}, {\"UMAP_Component_1\": 13.214825630187988, \"UMAP_Component_2\": 8.006339073181152, \"localization_site\": \"CYT\", \"Z1\": 0.9023985486046939, \"Z2\": 0.6354717064258081, \"Outlier_Z\": \"Normal\", \"Outlier_IQR\": \"Normal\", \"Outlier_IF\": \"Normal\"}, {\"UMAP_Component_1\": 13.236711502075195, \"UMAP_Component_2\": 7.975223541259766, \"localization_site\": \"CYT\", \"Z1\": 0.9094755496133168, \"Z2\": 0.6228133144863183, \"Outlier_Z\": \"Normal\", \"Outlier_IQR\": \"Normal\", \"Outlier_IF\": \"Normal\"}, {\"UMAP_Component_1\": 12.503015518188477, \"UMAP_Component_2\": 5.3577117919921875, \"localization_site\": \"CYT\", \"Z1\": 0.6722281031899467, \"Z2\": -0.44204039626367847, \"Outlier_Z\": \"Normal\", \"Outlier_IQR\": \"Normal\", \"Outlier_IF\": \"Normal\"}, {\"UMAP_Component_1\": 11.733989715576172, \"UMAP_Component_2\": 7.849071025848389, \"localization_site\": \"CYT\", \"Z1\": 0.423556430030534, \"Z2\": 0.5714920647559819, \"Outlier_Z\": \"Normal\", \"Outlier_IQR\": \"Normal\", \"Outlier_IF\": \"Normal\"}, {\"UMAP_Component_1\": 11.753671646118164, \"UMAP_Component_2\": 7.880749702453613, \"localization_site\": \"CYT\", \"Z1\": 0.42992076602844065, \"Z2\": 0.5843795546952961, \"Outlier_Z\": \"Normal\", \"Outlier_IQR\": \"Normal\", \"Outlier_IF\": \"Normal\"}, {\"UMAP_Component_1\": 12.152119636535645, \"UMAP_Component_2\": 7.690950870513916, \"localization_site\": \"CYT\", \"Z1\": 0.5587626437749952, \"Z2\": 0.5071657692964131, \"Outlier_Z\": \"Normal\", \"Outlier_IQR\": \"Normal\", \"Outlier_IF\": \"Normal\"}, {\"UMAP_Component_1\": 13.078920364379883, \"UMAP_Component_2\": 4.707123756408691, \"localization_site\": \"CYT\", \"Z1\": 0.8584523120481631, \"Z2\": -0.7067120196305986, \"Outlier_Z\": \"Normal\", \"Outlier_IQR\": \"Normal\", \"Outlier_IF\": \"Normal\"}, {\"UMAP_Component_1\": 13.003853797912598, \"UMAP_Component_2\": 4.668374538421631, \"localization_site\": \"CYT\", \"Z1\": 0.8341788369341391, \"Z2\": -0.7224759406803237, \"Outlier_Z\": \"Normal\", \"Outlier_IQR\": \"Normal\", \"Outlier_IF\": \"Normal\"}, {\"UMAP_Component_1\": 10.327635765075684, \"UMAP_Component_2\": 5.667241096496582, \"localization_site\": \"CYT\", \"Z1\": -0.031201250059445747, \"Z2\": -0.31611797067013586, \"Outlier_Z\": \"Normal\", \"Outlier_IQR\": \"Normal\", \"Outlier_IF\": \"Normal\"}, {\"UMAP_Component_1\": 10.316378593444824, \"UMAP_Component_2\": 5.709383010864258, \"localization_site\": \"CYT\", \"Z1\": -0.03484136160704193, \"Z2\": -0.2989738360143564, \"Outlier_Z\": \"Normal\", \"Outlier_IQR\": \"Normal\", \"Outlier_IF\": \"Normal\"}, {\"UMAP_Component_1\": 13.361947059631348, \"UMAP_Component_2\": 4.676813125610352, \"localization_site\": \"CYT\", \"Z1\": 0.9499716363905774, \"Z2\": -0.7190429624390948, \"Outlier_Z\": \"Normal\", \"Outlier_IQR\": \"Normal\", \"Outlier_IF\": \"Normal\"}, {\"UMAP_Component_1\": 13.33065128326416, \"UMAP_Component_2\": 4.711479187011719, \"localization_site\": \"CYT\", \"Z1\": 0.9398518549143052, \"Z2\": -0.7049401473779352, \"Outlier_Z\": \"Normal\", \"Outlier_IQR\": \"Normal\", \"Outlier_IF\": \"Normal\"}, {\"UMAP_Component_1\": 11.126350402832031, \"UMAP_Component_2\": 6.196254730224609, \"localization_site\": \"CYT\", \"Z1\": 0.2270705851287892, \"Z2\": -0.10090513310779975, \"Outlier_Z\": \"Normal\", \"Outlier_IQR\": \"Normal\", \"Outlier_IF\": \"Normal\"}, {\"UMAP_Component_1\": 12.29139518737793, \"UMAP_Component_2\": 6.3894243240356445, \"localization_site\": \"CYT\", \"Z1\": 0.6037986934634478, \"Z2\": -0.02232005747965488, \"Outlier_Z\": \"Normal\", \"Outlier_IQR\": \"Normal\", \"Outlier_IF\": \"Normal\"}, {\"UMAP_Component_1\": 14.441821098327637, \"UMAP_Component_2\": 7.141915798187256, \"localization_site\": \"CYT\", \"Z1\": 1.2991589888719048, \"Z2\": 0.28380782858706227, \"Outlier_Z\": \"Normal\", \"Outlier_IQR\": \"Normal\", \"Outlier_IF\": \"Outlier\"}, {\"UMAP_Component_1\": 8.737306594848633, \"UMAP_Component_2\": 10.259196281433105, \"localization_site\": \"CYT\", \"Z1\": -0.5454490351028206, \"Z2\": 1.5519769938111423, \"Outlier_Z\": \"Normal\", \"Outlier_IQR\": \"Normal\", \"Outlier_IF\": \"Normal\"}, {\"UMAP_Component_1\": 12.903132438659668, \"UMAP_Component_2\": 5.8382368087768555, \"localization_site\": \"CYT\", \"Z1\": 0.8016096450510636, \"Z2\": -0.2465536530333809, \"Outlier_Z\": \"Normal\", \"Outlier_IQR\": \"Normal\", \"Outlier_IF\": \"Normal\"}, {\"UMAP_Component_1\": 12.924386978149414, \"UMAP_Component_2\": 5.841515064239502, \"localization_site\": \"CYT\", \"Z1\": 0.808482498834635, \"Z2\": -0.24521999617580906, \"Outlier_Z\": \"Normal\", \"Outlier_IQR\": \"Normal\", \"Outlier_IF\": \"Normal\"}, {\"UMAP_Component_1\": 13.888697624206543, \"UMAP_Component_2\": 5.736041069030762, \"localization_site\": \"CYT\", \"Z1\": 1.120301349367211, \"Z2\": -0.2881288294282603, \"Outlier_Z\": \"Normal\", \"Outlier_IQR\": \"Normal\", \"Outlier_IF\": \"Normal\"}, {\"UMAP_Component_1\": 13.853972434997559, \"UMAP_Component_2\": 5.786550521850586, \"localization_site\": \"CYT\", \"Z1\": 1.1090726352303868, \"Z2\": -0.26758062051260145, \"Outlier_Z\": \"Normal\", \"Outlier_IQR\": \"Normal\", \"Outlier_IF\": \"Normal\"}, {\"UMAP_Component_1\": 8.454174995422363, \"UMAP_Component_2\": 8.170968055725098, \"localization_site\": \"NUC\", \"Z1\": -0.6370022811895788, \"Z2\": 0.7024459169553195, \"Outlier_Z\": \"Normal\", \"Outlier_IQR\": \"Normal\", \"Outlier_IF\": \"Normal\"}, {\"UMAP_Component_1\": 13.437126159667969, \"UMAP_Component_2\": 8.027344703674316, \"localization_site\": \"NUC\", \"Z1\": 0.9742815002848975, \"Z2\": 0.6440171976097724, \"Outlier_Z\": \"Normal\", \"Outlier_IQR\": \"Normal\", \"Outlier_IF\": \"Normal\"}, {\"UMAP_Component_1\": 11.736417770385742, \"UMAP_Component_2\": 8.593340873718262, \"localization_site\": \"NUC\", \"Z1\": 0.42434156422234864, \"Z2\": 0.8742752364171349, \"Outlier_Z\": \"Normal\", \"Outlier_IQR\": \"Normal\", \"Outlier_IF\": \"Normal\"}, {\"UMAP_Component_1\": 11.919849395751953, \"UMAP_Component_2\": 7.8175129890441895, \"localization_site\": \"CYT\", \"Z1\": 0.4836558928641434, \"Z2\": 0.5586536533890264, \"Outlier_Z\": \"Normal\", \"Outlier_IQR\": \"Normal\", \"Outlier_IF\": \"Normal\"}, {\"UMAP_Component_1\": 13.491167068481445, \"UMAP_Component_2\": 7.933657169342041, \"localization_site\": \"CYT\", \"Z1\": 0.9917561326939186, \"Z2\": 0.6059033214781154, \"Outlier_Z\": \"Normal\", \"Outlier_IQR\": \"Normal\", \"Outlier_IF\": \"Normal\"}, {\"UMAP_Component_1\": 9.73503303527832, \"UMAP_Component_2\": 6.564582347869873, \"localization_site\": \"ME3\", \"Z1\": -0.2228248754787313, \"Z2\": 0.048937567896699306, \"Outlier_Z\": \"Normal\", \"Outlier_IQR\": \"Normal\", \"Outlier_IF\": \"Normal\"}, {\"UMAP_Component_1\": 11.573197364807129, \"UMAP_Component_2\": 7.682174205780029, \"localization_site\": \"CYT\", \"Z1\": 0.37156272219765024, \"Z2\": 0.5035952546607088, \"Outlier_Z\": \"Normal\", \"Outlier_IQR\": \"Normal\", \"Outlier_IF\": \"Normal\"}, {\"UMAP_Component_1\": 9.38436222076416, \"UMAP_Component_2\": 10.244771003723145, \"localization_site\": \"CYT\", \"Z1\": -0.3362175573330905, \"Z2\": 1.5461085156649221, \"Outlier_Z\": \"Normal\", \"Outlier_IQR\": \"Normal\", \"Outlier_IF\": \"Normal\"}, {\"UMAP_Component_1\": 9.966911315917969, \"UMAP_Component_2\": 2.2303574085235596, \"localization_site\": \"ME1\", \"Z1\": -0.1478448685399282, \"Z2\": -1.7143078162661574, \"Outlier_Z\": \"Normal\", \"Outlier_IQR\": \"Normal\", \"Outlier_IF\": \"Normal\"}, {\"UMAP_Component_1\": 10.633468627929688, \"UMAP_Component_2\": 5.642262935638428, \"localization_site\": \"CYT\", \"Z1\": 0.0676926615033358, \"Z2\": -0.3262795629857992, \"Outlier_Z\": \"Normal\", \"Outlier_IQR\": \"Normal\", \"Outlier_IF\": \"Normal\"}, {\"UMAP_Component_1\": 8.208683967590332, \"UMAP_Component_2\": 10.951266288757324, \"localization_site\": \"CYT\", \"Z1\": -0.7163840970262461, \"Z2\": 1.8335242745842595, \"Outlier_Z\": \"Normal\", \"Outlier_IQR\": \"Normal\", \"Outlier_IF\": \"Outlier\"}, {\"UMAP_Component_1\": 8.449455261230469, \"UMAP_Component_2\": 4.252856731414795, \"localization_site\": \"MIT\", \"Z1\": -0.6385284513055609, \"Z2\": -0.8915165109080369, \"Outlier_Z\": \"Normal\", \"Outlier_IQR\": \"Normal\", \"Outlier_IF\": \"Normal\"}, {\"UMAP_Component_1\": 11.424592971801758, \"UMAP_Component_2\": 6.711836814880371, \"localization_site\": \"CYT\", \"Z1\": 0.32351010429854143, \"Z2\": 0.10884349407430605, \"Outlier_Z\": \"Normal\", \"Outlier_IQR\": \"Normal\", \"Outlier_IF\": \"Normal\"}, {\"UMAP_Component_1\": 6.574496746063232, \"UMAP_Component_2\": 5.890819072723389, \"localization_site\": \"ME3\", \"Z1\": -1.244813792431077, \"Z2\": -0.22516218501083268, \"Outlier_Z\": \"Normal\", \"Outlier_IQR\": \"Normal\", \"Outlier_IF\": \"Normal\"}, {\"UMAP_Component_1\": 13.399229049682617, \"UMAP_Component_2\": 3.72015643119812, \"localization_site\": \"MIT\", \"Z1\": 0.962027115950911, \"Z2\": -1.1082291547240917, \"Outlier_Z\": \"Normal\", \"Outlier_IQR\": \"Normal\", \"Outlier_IF\": \"Normal\"}, {\"UMAP_Component_1\": 11.535481452941895, \"UMAP_Component_2\": 10.601534843444824, \"localization_site\": \"NUC\", \"Z1\": 0.35936692996753045, \"Z2\": 1.6912468512217158, \"Outlier_Z\": \"Normal\", \"Outlier_IQR\": \"Normal\", \"Outlier_IF\": \"Outlier\"}, {\"UMAP_Component_1\": 13.974654197692871, \"UMAP_Component_2\": 3.3980367183685303, \"localization_site\": \"MIT\", \"Z1\": 1.1480962099236274, \"Z2\": -1.2392735985965182, \"Outlier_Z\": \"Normal\", \"Outlier_IQR\": \"Normal\", \"Outlier_IF\": \"Normal\"}, {\"UMAP_Component_1\": 14.436131477355957, \"UMAP_Component_2\": 4.561683654785156, \"localization_site\": \"MIT\", \"Z1\": 1.2973191968104885, \"Z2\": -0.7658798273583056, \"Outlier_Z\": \"Normal\", \"Outlier_IQR\": \"Normal\", \"Outlier_IF\": \"Normal\"}, {\"UMAP_Component_1\": 13.754693031311035, \"UMAP_Component_2\": 3.361438751220703, \"localization_site\": \"MIT\", \"Z1\": 1.076969713142293, \"Z2\": -1.2541623497679983, \"Outlier_Z\": \"Normal\", \"Outlier_IQR\": \"Normal\", \"Outlier_IF\": \"Normal\"}, {\"UMAP_Component_1\": 13.639888763427734, \"UMAP_Component_2\": 3.659151792526245, \"localization_site\": \"MIT\", \"Z1\": 1.0398466812707938, \"Z2\": -1.1330470054485005, \"Outlier_Z\": \"Normal\", \"Outlier_IQR\": \"Normal\", \"Outlier_IF\": \"Normal\"}, {\"UMAP_Component_1\": 11.415945053100586, \"UMAP_Component_2\": 10.079219818115234, \"localization_site\": \"CYT\", \"Z1\": 0.32071371904662666, \"Z2\": 1.4787591353372225, \"Outlier_Z\": \"Normal\", \"Outlier_IQR\": \"Normal\", \"Outlier_IF\": \"Normal\"}, {\"UMAP_Component_1\": 8.501509666442871, \"UMAP_Component_2\": 7.669156074523926, \"localization_site\": \"CYT\", \"Z1\": -0.621696173382616, \"Z2\": 0.49829923053437153, \"Outlier_Z\": \"Normal\", \"Outlier_IQR\": \"Normal\", \"Outlier_IF\": \"Normal\"}, {\"UMAP_Component_1\": 9.808165550231934, \"UMAP_Component_2\": 2.9563775062561035, \"localization_site\": \"ME1\", \"Z1\": -0.19917679397861157, \"Z2\": -1.4189489910895743, \"Outlier_Z\": \"Normal\", \"Outlier_IQR\": \"Normal\", \"Outlier_IF\": \"Normal\"}, {\"UMAP_Component_1\": 9.39350414276123, \"UMAP_Component_2\": 4.873640060424805, \"localization_site\": \"ME2\", \"Z1\": -0.33326143150326526, \"Z2\": -0.6389700107240298, \"Outlier_Z\": \"Normal\", \"Outlier_IQR\": \"Normal\", \"Outlier_IF\": \"Normal\"}, {\"UMAP_Component_1\": 12.173583030700684, \"UMAP_Component_2\": 8.634822845458984, \"localization_site\": \"CYT\", \"Z1\": 0.5657030326677603, \"Z2\": 0.8911508938233319, \"Outlier_Z\": \"Normal\", \"Outlier_IQR\": \"Normal\", \"Outlier_IF\": \"Normal\"}, {\"UMAP_Component_1\": 11.524556159973145, \"UMAP_Component_2\": 10.007570266723633, \"localization_site\": \"CYT\", \"Z1\": 0.35583413448385864, \"Z2\": 1.4496107310581325, \"Outlier_Z\": \"Normal\", \"Outlier_IQR\": \"Normal\", \"Outlier_IF\": \"Normal\"}, {\"UMAP_Component_1\": 10.205954551696777, \"UMAP_Component_2\": 5.039311408996582, \"localization_site\": \"CYT\", \"Z1\": -0.07054800646243564, \"Z2\": -0.5715717458104235, \"Outlier_Z\": \"Normal\", \"Outlier_IQR\": \"Normal\", \"Outlier_IF\": \"Normal\"}, {\"UMAP_Component_1\": 11.904715538024902, \"UMAP_Component_2\": 10.422602653503418, \"localization_site\": \"CYT\", \"Z1\": 0.47876221867329255, \"Z2\": 1.618453823077699, \"Outlier_Z\": \"Normal\", \"Outlier_IQR\": \"Normal\", \"Outlier_IF\": \"Normal\"}, {\"UMAP_Component_1\": 10.90784740447998, \"UMAP_Component_2\": 9.436936378479004, \"localization_site\": \"CYT\", \"Z1\": 0.1564156005938353, \"Z2\": 1.2174659800185164, \"Outlier_Z\": \"Normal\", \"Outlier_IQR\": \"Normal\", \"Outlier_IF\": \"Normal\"}, {\"UMAP_Component_1\": 9.348831176757812, \"UMAP_Component_2\": 4.603734970092773, \"localization_site\": \"CYT\", \"Z1\": -0.34770685214237473, \"Z2\": -0.7487725501284082, \"Outlier_Z\": \"Normal\", \"Outlier_IQR\": \"Normal\", \"Outlier_IF\": \"Normal\"}, {\"UMAP_Component_1\": -6.6751909255981445, \"UMAP_Component_2\": 4.183306694030762, \"localization_site\": \"ME2\", \"Z1\": -5.52922400462356, \"Z2\": -0.9198107928389249, \"Outlier_Z\": \"Outlier\", \"Outlier_IQR\": \"Outlier\", \"Outlier_IF\": \"Outlier\"}, {\"UMAP_Component_1\": 9.212346076965332, \"UMAP_Component_2\": 5.463128566741943, \"localization_site\": \"CYT\", \"Z1\": -0.3918405834312792, \"Z2\": -0.39915484138546853, \"Outlier_Z\": \"Normal\", \"Outlier_IQR\": \"Normal\", \"Outlier_IF\": \"Normal\"}, {\"UMAP_Component_1\": 7.037003993988037, \"UMAP_Component_2\": 4.992612838745117, \"localization_site\": \"ME2\", \"Z1\": -1.0952577556906573, \"Z2\": -0.5905696150016148, \"Outlier_Z\": \"Normal\", \"Outlier_IQR\": \"Normal\", \"Outlier_IF\": \"Normal\"}, {\"UMAP_Component_1\": 10.28987979888916, \"UMAP_Component_2\": 6.897134304046631, \"localization_site\": \"CYT\", \"Z1\": -0.043409994228315034, \"Z2\": 0.18422604736621043, \"Outlier_Z\": \"Normal\", \"Outlier_IQR\": \"Normal\", \"Outlier_IF\": \"Normal\"}, {\"UMAP_Component_1\": 10.926690101623535, \"UMAP_Component_2\": 6.9688005447387695, \"localization_site\": \"CYT\", \"Z1\": 0.16250856263699062, \"Z2\": 0.2133812411711208, \"Outlier_Z\": \"Normal\", \"Outlier_IQR\": \"Normal\", \"Outlier_IF\": \"Normal\"}, {\"UMAP_Component_1\": 11.313008308410645, \"UMAP_Component_2\": 5.951310634613037, \"localization_site\": \"CYT\", \"Z1\": 0.2874281615989064, \"Z2\": -0.20055306370878714, \"Outlier_Z\": \"Normal\", \"Outlier_IQR\": \"Normal\", \"Outlier_IF\": \"Normal\"}, {\"UMAP_Component_1\": 7.121182441711426, \"UMAP_Component_2\": 4.985380172729492, \"localization_site\": \"ME3\", \"Z1\": -1.0680378687008703, \"Z2\": -0.5935120015057093, \"Outlier_Z\": \"Normal\", \"Outlier_IQR\": \"Normal\", \"Outlier_IF\": \"Normal\"}, {\"UMAP_Component_1\": 10.844532012939453, \"UMAP_Component_2\": 8.256485939025879, \"localization_site\": \"CYT\", \"Z1\": 0.13594197760531798, \"Z2\": 0.7372362232046815, \"Outlier_Z\": \"Normal\", \"Outlier_IQR\": \"Normal\", \"Outlier_IF\": \"Normal\"}, {\"UMAP_Component_1\": 8.434133529663086, \"UMAP_Component_2\": 4.394733905792236, \"localization_site\": \"ME3\", \"Z1\": -0.6434828762567368, \"Z2\": -0.833798169949752, \"Outlier_Z\": \"Normal\", \"Outlier_IQR\": \"Normal\", \"Outlier_IF\": \"Normal\"}, {\"UMAP_Component_1\": 6.896055698394775, \"UMAP_Component_2\": 5.194897174835205, \"localization_site\": \"ME3\", \"Z1\": -1.1408347030116484, \"Z2\": -0.5082764883432902, \"Outlier_Z\": \"Normal\", \"Outlier_IQR\": \"Normal\", \"Outlier_IF\": \"Normal\"}, {\"UMAP_Component_1\": 8.880806922912598, \"UMAP_Component_2\": 3.4139578342437744, \"localization_site\": \"ME3\", \"Z1\": -0.49904686425579026, \"Z2\": -1.2327965849503415, \"Outlier_Z\": \"Normal\", \"Outlier_IQR\": \"Normal\", \"Outlier_IF\": \"Normal\"}, {\"UMAP_Component_1\": 11.755671501159668, \"UMAP_Component_2\": 10.28969955444336, \"localization_site\": \"CYT\", \"Z1\": 0.4305674378274333, \"Z2\": 1.5643863071462507, \"Outlier_Z\": \"Normal\", \"Outlier_IQR\": \"Normal\", \"Outlier_IF\": \"Normal\"}, {\"UMAP_Component_1\": 8.179977416992188, \"UMAP_Component_2\": 5.243027687072754, \"localization_site\": \"ME2\", \"Z1\": -0.7256666281762115, \"Z2\": -0.48869607783671154, \"Outlier_Z\": \"Normal\", \"Outlier_IQR\": \"Normal\", \"Outlier_IF\": \"Normal\"}, {\"UMAP_Component_1\": 10.257588386535645, \"UMAP_Component_2\": 9.17906665802002, \"localization_site\": \"ME2\", \"Z1\": -0.053851723896360344, \"Z2\": 1.1125596586628816, \"Outlier_Z\": \"Normal\", \"Outlier_IQR\": \"Normal\", \"Outlier_IF\": \"Normal\"}, {\"UMAP_Component_1\": 10.763774871826172, \"UMAP_Component_2\": 5.1702775955200195, \"localization_site\": \"CYT\", \"Z1\": 0.10982840205038363, \"Z2\": -0.5182922028470417, \"Outlier_Z\": \"Normal\", \"Outlier_IQR\": \"Normal\", \"Outlier_IF\": \"Normal\"}, {\"UMAP_Component_1\": 9.104463577270508, \"UMAP_Component_2\": 8.923510551452637, \"localization_site\": \"CYT\", \"Z1\": -0.42672539693506806, \"Z2\": 1.0085945595724017, \"Outlier_Z\": \"Normal\", \"Outlier_IQR\": \"Normal\", \"Outlier_IF\": \"Normal\"}, {\"UMAP_Component_1\": 9.670862197875977, \"UMAP_Component_2\": 9.961697578430176, \"localization_site\": \"CYT\", \"Z1\": -0.24357511487339856, \"Z2\": 1.4309488464018234, \"Outlier_Z\": \"Normal\", \"Outlier_IQR\": \"Normal\", \"Outlier_IF\": \"Normal\"}, {\"UMAP_Component_1\": 11.20263385772705, \"UMAP_Component_2\": 6.523553848266602, \"localization_site\": \"MIT\", \"Z1\": 0.25173755247720253, \"Z2\": 0.032246391606364264, \"Outlier_Z\": \"Normal\", \"Outlier_IQR\": \"Normal\", \"Outlier_IF\": \"Normal\"}, {\"UMAP_Component_1\": 9.925661087036133, \"UMAP_Component_2\": 1.4035409688949585, \"localization_site\": \"ME1\", \"Z1\": -0.16118351517494392, \"Z2\": -2.050672516097582, \"Outlier_Z\": \"Normal\", \"Outlier_IQR\": \"Normal\", \"Outlier_IF\": \"Outlier\"}, {\"UMAP_Component_1\": -6.629774570465088, \"UMAP_Component_2\": 4.137951850891113, \"localization_site\": \"ME3\", \"Z1\": -5.51453820216885, \"Z2\": -0.9382620082083507, \"Outlier_Z\": \"Outlier\", \"Outlier_IQR\": \"Outlier\", \"Outlier_IF\": \"Outlier\"}, {\"UMAP_Component_1\": 6.303412914276123, \"UMAP_Component_2\": 6.087449073791504, \"localization_site\": \"ME3\", \"Z1\": -1.3324712803696834, \"Z2\": -0.14516934970044798, \"Outlier_Z\": \"Normal\", \"Outlier_IQR\": \"Normal\", \"Outlier_IF\": \"Normal\"}, {\"UMAP_Component_1\": 8.281609535217285, \"UMAP_Component_2\": 11.011062622070312, \"localization_site\": \"NUC\", \"Z1\": -0.692802933876332, \"Z2\": 1.8578505636392737, \"Outlier_Z\": \"Normal\", \"Outlier_IQR\": \"Normal\", \"Outlier_IF\": \"Outlier\"}, {\"UMAP_Component_1\": 11.202506065368652, \"UMAP_Component_2\": 7.4131364822387695, \"localization_site\": \"NUC\", \"Z1\": 0.25169622962500177, \"Z2\": 0.3941455766125374, \"Outlier_Z\": \"Normal\", \"Outlier_IQR\": \"Normal\", \"Outlier_IF\": \"Normal\"}, {\"UMAP_Component_1\": 9.83700942993164, \"UMAP_Component_2\": 10.211082458496094, \"localization_site\": \"CYT\", \"Z1\": -0.18984985618150493, \"Z2\": 1.532403372830384, \"Outlier_Z\": \"Normal\", \"Outlier_IQR\": \"Normal\", \"Outlier_IF\": \"Normal\"}, {\"UMAP_Component_1\": 10.01538372039795, \"UMAP_Component_2\": 7.607959270477295, \"localization_site\": \"NUC\", \"Z1\": -0.1321708639965809, \"Z2\": 0.4734032032698025, \"Outlier_Z\": \"Normal\", \"Outlier_IQR\": \"Normal\", \"Outlier_IF\": \"Normal\"}, {\"UMAP_Component_1\": 12.84154987335205, \"UMAP_Component_2\": 5.801023006439209, \"localization_site\": \"NUC\", \"Z1\": 0.7816963476032089, \"Z2\": -0.26169293770763236, \"Outlier_Z\": \"Normal\", \"Outlier_IQR\": \"Normal\", \"Outlier_IF\": \"Normal\"}, {\"UMAP_Component_1\": 10.273378372192383, \"UMAP_Component_2\": 2.1986641883850098, \"localization_site\": \"VAC\", \"Z1\": -0.04874588461361296, \"Z2\": -1.7272012227922577, \"Outlier_Z\": \"Normal\", \"Outlier_IQR\": \"Normal\", \"Outlier_IF\": \"Normal\"}, {\"UMAP_Component_1\": 9.017982482910156, \"UMAP_Component_2\": 2.538381814956665, \"localization_site\": \"ME1\", \"Z1\": -0.45468986621320406, \"Z2\": -1.5889976119151596, \"Outlier_Z\": \"Normal\", \"Outlier_IQR\": \"Normal\", \"Outlier_IF\": \"Normal\"}, {\"UMAP_Component_1\": 9.267130851745605, \"UMAP_Component_2\": 4.507619380950928, \"localization_site\": \"MIT\", \"Z1\": -0.37412541501691027, \"Z2\": -0.7878742052737023, \"Outlier_Z\": \"Normal\", \"Outlier_IQR\": \"Normal\", \"Outlier_IF\": \"Normal\"}, {\"UMAP_Component_1\": 13.217667579650879, \"UMAP_Component_2\": 4.405300617218018, \"localization_site\": \"MIT\", \"Z1\": 0.90331751949692, \"Z2\": -0.8294994301732004, \"Outlier_Z\": \"Normal\", \"Outlier_IQR\": \"Normal\", \"Outlier_IF\": \"Normal\"}, {\"UMAP_Component_1\": 10.252425193786621, \"UMAP_Component_2\": 6.97694730758667, \"localization_site\": \"CYT\", \"Z1\": -0.055521290477069066, \"Z2\": 0.21669549970371935, \"Outlier_Z\": \"Normal\", \"Outlier_IQR\": \"Normal\", \"Outlier_IF\": \"Normal\"}, {\"UMAP_Component_1\": 8.815412521362305, \"UMAP_Component_2\": 3.244048833847046, \"localization_site\": \"ME2\", \"Z1\": -0.5201927545413052, \"Z2\": -1.3019188074629646, \"Outlier_Z\": \"Normal\", \"Outlier_IQR\": \"Normal\", \"Outlier_IF\": \"Normal\"}, {\"UMAP_Component_1\": 14.75075626373291, \"UMAP_Component_2\": 4.430261611938477, \"localization_site\": \"CYT\", \"Z1\": 1.3990560589287842, \"Z2\": -0.8193448213698095, \"Outlier_Z\": \"Normal\", \"Outlier_IQR\": \"Normal\", \"Outlier_IF\": \"Outlier\"}, {\"UMAP_Component_1\": 10.468195915222168, \"UMAP_Component_2\": 8.283137321472168, \"localization_site\": \"NUC\", \"Z1\": 0.01425018680747282, \"Z2\": 0.7480785139804496, \"Outlier_Z\": \"Normal\", \"Outlier_IQR\": \"Normal\", \"Outlier_IF\": \"Normal\"}, {\"UMAP_Component_1\": 12.802206993103027, \"UMAP_Component_2\": 7.722655296325684, \"localization_site\": \"NUC\", \"Z1\": 0.7689744599562645, \"Z2\": 0.5200637345041358, \"Outlier_Z\": \"Normal\", \"Outlier_IQR\": \"Normal\", \"Outlier_IF\": \"Normal\"}, {\"UMAP_Component_1\": 9.765682220458984, \"UMAP_Component_2\": 5.669060230255127, \"localization_site\": \"NUC\", \"Z1\": -0.2129141752994153, \"Z2\": -0.315377912355716, \"Outlier_Z\": \"Normal\", \"Outlier_IQR\": \"Normal\", \"Outlier_IF\": \"Normal\"}, {\"UMAP_Component_1\": 13.436439514160156, \"UMAP_Component_2\": 7.937015533447266, \"localization_site\": \"NUC\", \"Z1\": 0.9740594670491919, \"Z2\": 0.6072695680596251, \"Outlier_Z\": \"Normal\", \"Outlier_IQR\": \"Normal\", \"Outlier_IF\": \"Normal\"}, {\"UMAP_Component_1\": 14.028995513916016, \"UMAP_Component_2\": 5.213326454162598, \"localization_site\": \"NUC\", \"Z1\": 1.1656679818732696, \"Z2\": -0.5007791059595383, \"Outlier_Z\": \"Normal\", \"Outlier_IQR\": \"Normal\", \"Outlier_IF\": \"Normal\"}, {\"UMAP_Component_1\": 11.14680290222168, \"UMAP_Component_2\": 8.940008163452148, \"localization_site\": \"NUC\", \"Z1\": 0.2336840917578766, \"Z2\": 1.0153061028390593, \"Outlier_Z\": \"Normal\", \"Outlier_IQR\": \"Normal\", \"Outlier_IF\": \"Normal\"}, {\"UMAP_Component_1\": 8.967635154724121, \"UMAP_Component_2\": 9.50992202758789, \"localization_site\": \"NUC\", \"Z1\": -0.4709701448418253, \"Z2\": 1.2471579343361396, \"Outlier_Z\": \"Normal\", \"Outlier_IQR\": \"Normal\", \"Outlier_IF\": \"Normal\"}, {\"UMAP_Component_1\": 9.632915496826172, \"UMAP_Component_2\": 10.053308486938477, \"localization_site\": \"NUC\", \"Z1\": -0.255845534941075, \"Z2\": 1.4682179115349747, \"Outlier_Z\": \"Normal\", \"Outlier_IQR\": \"Normal\", \"Outlier_IF\": \"Normal\"}, {\"UMAP_Component_1\": 10.975214958190918, \"UMAP_Component_2\": 5.530738353729248, \"localization_site\": \"CYT\", \"Z1\": 0.17819952805250988, \"Z2\": -0.37164989032781104, \"Outlier_Z\": \"Normal\", \"Outlier_IQR\": \"Normal\", \"Outlier_IF\": \"Normal\"}, {\"UMAP_Component_1\": 10.495997428894043, \"UMAP_Component_2\": 8.905404090881348, \"localization_site\": \"NUC\", \"Z1\": 0.02324006581759854, \"Z2\": 1.001228506016661, \"Outlier_Z\": \"Normal\", \"Outlier_IQR\": \"Normal\", \"Outlier_IF\": \"Normal\"}, {\"UMAP_Component_1\": 9.067769050598145, \"UMAP_Component_2\": 6.24411678314209, \"localization_site\": \"NUC\", \"Z1\": -0.4385909147270757, \"Z2\": -0.08143393697370296, \"Outlier_Z\": \"Normal\", \"Outlier_IQR\": \"Normal\", \"Outlier_IF\": \"Normal\"}, {\"UMAP_Component_1\": 6.686617851257324, \"UMAP_Component_2\": 5.5187859535217285, \"localization_site\": \"ME3\", \"Z1\": -1.208558386266047, \"Z2\": -0.37651235473390493, \"Outlier_Z\": \"Normal\", \"Outlier_IQR\": \"Normal\", \"Outlier_IF\": \"Normal\"}, {\"UMAP_Component_1\": 12.908402442932129, \"UMAP_Component_2\": 7.064673900604248, \"localization_site\": \"NUC\", \"Z1\": 0.8033137501351043, \"Z2\": 0.25238435119879365, \"Outlier_Z\": \"Normal\", \"Outlier_IQR\": \"Normal\", \"Outlier_IF\": \"Normal\"}, {\"UMAP_Component_1\": 8.32075309753418, \"UMAP_Component_2\": 10.874602317810059, \"localization_site\": \"NUC\", \"Z1\": -0.680145497543641, \"Z2\": 1.8023359087758275, \"Outlier_Z\": \"Normal\", \"Outlier_IQR\": \"Normal\", \"Outlier_IF\": \"Outlier\"}, {\"UMAP_Component_1\": 8.389850616455078, \"UMAP_Component_2\": 10.877660751342773, \"localization_site\": \"CYT\", \"Z1\": -0.6578021696827858, \"Z2\": 1.8035801378790226, \"Outlier_Z\": \"Normal\", \"Outlier_IQR\": \"Normal\", \"Outlier_IF\": \"Outlier\"}, {\"UMAP_Component_1\": 9.51280689239502, \"UMAP_Component_2\": 9.08044719696045, \"localization_site\": \"ME3\", \"Z1\": -0.29468377355840014, \"Z2\": 1.0724393806580808, \"Outlier_Z\": \"Normal\", \"Outlier_IQR\": \"Normal\", \"Outlier_IF\": \"Normal\"}, {\"UMAP_Component_1\": 10.273903846740723, \"UMAP_Component_2\": 2.4486050605773926, \"localization_site\": \"ME2\", \"Z1\": -0.04857596751239935, \"Z2\": -1.625520508160653, \"Outlier_Z\": \"Normal\", \"Outlier_IQR\": \"Normal\", \"Outlier_IF\": \"Normal\"}, {\"UMAP_Component_1\": 7.941457271575928, \"UMAP_Component_2\": 4.446983337402344, \"localization_site\": \"ME3\", \"Z1\": -0.8027943441012255, \"Z2\": -0.8125421044707071, \"Outlier_Z\": \"Normal\", \"Outlier_IQR\": \"Normal\", \"Outlier_IF\": \"Normal\"}, {\"UMAP_Component_1\": 12.478343963623047, \"UMAP_Component_2\": 9.25568675994873, \"localization_site\": \"NUC\", \"Z1\": 0.6642503256792459, \"Z2\": 1.1437301777177287, \"Outlier_Z\": \"Normal\", \"Outlier_IQR\": \"Normal\", \"Outlier_IF\": \"Normal\"}, {\"UMAP_Component_1\": 11.423781394958496, \"UMAP_Component_2\": 6.744907855987549, \"localization_site\": \"CYT\", \"Z1\": 0.32324767334911714, \"Z2\": 0.12229742445349073, \"Outlier_Z\": \"Normal\", \"Outlier_IQR\": \"Normal\", \"Outlier_IF\": \"Normal\"}, {\"UMAP_Component_1\": 6.8302507400512695, \"UMAP_Component_2\": 5.423330307006836, \"localization_site\": \"ME3\", \"Z1\": -1.1621133506693455, \"Z2\": -0.4153455326296166, \"Outlier_Z\": \"Normal\", \"Outlier_IQR\": \"Normal\", \"Outlier_IF\": \"Normal\"}, {\"UMAP_Component_1\": 8.233011245727539, \"UMAP_Component_2\": 10.797856330871582, \"localization_site\": \"NUC\", \"Z1\": -0.708517644512892, \"Z2\": 1.7711141772976497, \"Outlier_Z\": \"Normal\", \"Outlier_IQR\": \"Normal\", \"Outlier_IF\": \"Outlier\"}, {\"UMAP_Component_1\": 8.694904327392578, \"UMAP_Component_2\": 5.320063591003418, \"localization_site\": \"NUC\", \"Z1\": -0.5591602041666313, \"Z2\": -0.4573564025957115, \"Outlier_Z\": \"Normal\", \"Outlier_IQR\": \"Normal\", \"Outlier_IF\": \"Normal\"}, {\"UMAP_Component_1\": 8.401337623596191, \"UMAP_Component_2\": 10.773530006408691, \"localization_site\": \"NUC\", \"Z1\": -0.654087738677127, \"Z2\": 1.7612177644618847, \"Outlier_Z\": \"Normal\", \"Outlier_IQR\": \"Normal\", \"Outlier_IF\": \"Outlier\"}, {\"UMAP_Component_1\": 7.1800971031188965, \"UMAP_Component_2\": 4.952743053436279, \"localization_site\": \"MIT\", \"Z1\": -1.0489872628875803, \"Z2\": -0.6067894042135644, \"Outlier_Z\": \"Normal\", \"Outlier_IQR\": \"Normal\", \"Outlier_IF\": \"Normal\"}, {\"UMAP_Component_1\": 6.107656002044678, \"UMAP_Component_2\": 6.189080238342285, \"localization_site\": \"MIT\", \"Z1\": -1.3957711055923943, \"Z2\": -0.10382385326474897, \"Outlier_Z\": \"Normal\", \"Outlier_IQR\": \"Normal\", \"Outlier_IF\": \"Normal\"}, {\"UMAP_Component_1\": 11.622178077697754, \"UMAP_Component_2\": 5.6320600509643555, \"localization_site\": \"CYT\", \"Z1\": 0.38740109301131853, \"Z2\": -0.33043029109946676, \"Outlier_Z\": \"Normal\", \"Outlier_IQR\": \"Normal\", \"Outlier_IF\": \"Normal\"}, {\"UMAP_Component_1\": 12.230188369750977, \"UMAP_Component_2\": 4.136645793914795, \"localization_site\": \"CYT\", \"Z1\": 0.5840068975362431, \"Z2\": -0.9387933371004074, \"Outlier_Z\": \"Normal\", \"Outlier_IQR\": \"Normal\", \"Outlier_IF\": \"Normal\"}, {\"UMAP_Component_1\": 6.249378681182861, \"UMAP_Component_2\": 5.889443397521973, \"localization_site\": \"ME3\", \"Z1\": -1.3499437541222463, \"Z2\": -0.22572183592488282, \"Outlier_Z\": \"Normal\", \"Outlier_IQR\": \"Normal\", \"Outlier_IF\": \"Normal\"}, {\"UMAP_Component_1\": 6.1985321044921875, \"UMAP_Component_2\": 5.905825138092041, \"localization_site\": \"ME3\", \"Z1\": -1.3663854694159951, \"Z2\": -0.21905743136606384, \"Outlier_Z\": \"Normal\", \"Outlier_IQR\": \"Normal\", \"Outlier_IF\": \"Normal\"}, {\"UMAP_Component_1\": 10.951297760009766, \"UMAP_Component_2\": 7.350875377655029, \"localization_site\": \"CYT\", \"Z1\": 0.17046567872159113, \"Z2\": 0.36881657158708114, \"Outlier_Z\": \"Normal\", \"Outlier_IQR\": \"Normal\", \"Outlier_IF\": \"Normal\"}, {\"UMAP_Component_1\": 8.585315704345703, \"UMAP_Component_2\": 10.732857704162598, \"localization_site\": \"NUC\", \"Z1\": -0.5945967085852498, \"Z2\": 1.7446714960512015, \"Outlier_Z\": \"Normal\", \"Outlier_IQR\": \"Normal\", \"Outlier_IF\": \"Outlier\"}, {\"UMAP_Component_1\": 6.809279441833496, \"UMAP_Component_2\": 6.333632469177246, \"localization_site\": \"ME3\", \"Z1\": -1.1688946157431883, \"Z2\": -0.04501724831068543, \"Outlier_Z\": \"Normal\", \"Outlier_IQR\": \"Normal\", \"Outlier_IF\": \"Normal\"}, {\"UMAP_Component_1\": 11.095714569091797, \"UMAP_Component_2\": 7.825520038604736, \"localization_site\": \"CYT\", \"Z1\": 0.21716420226238967, \"Z2\": 0.5619110738911859, \"Outlier_Z\": \"Normal\", \"Outlier_IQR\": \"Normal\", \"Outlier_IF\": \"Normal\"}, {\"UMAP_Component_1\": 14.278349876403809, \"UMAP_Component_2\": 7.422263145446777, \"localization_site\": \"NUC\", \"Z1\": 1.2462990430402752, \"Z2\": 0.3978584773040174, \"Outlier_Z\": \"Normal\", \"Outlier_IQR\": \"Normal\", \"Outlier_IF\": \"Normal\"}, {\"UMAP_Component_1\": 13.96621036529541, \"UMAP_Component_2\": 7.39431619644165, \"localization_site\": \"NUC\", \"Z1\": 1.145365817883436, \"Z2\": 0.386489125338137, \"Outlier_Z\": \"Normal\", \"Outlier_IQR\": \"Normal\", \"Outlier_IF\": \"Normal\"}, {\"UMAP_Component_1\": 12.074048042297363, \"UMAP_Component_2\": 8.890057563781738, \"localization_site\": \"NUC\", \"Z1\": 0.5335174648752651, \"Z2\": 0.9949852460451568, \"Outlier_Z\": \"Normal\", \"Outlier_IQR\": \"Normal\", \"Outlier_IF\": \"Normal\"}, {\"UMAP_Component_1\": 11.594679832458496, \"UMAP_Component_2\": 10.809770584106445, \"localization_site\": \"NUC\", \"Z1\": 0.3785092786802961, \"Z2\": 1.775961122787583, \"Outlier_Z\": \"Normal\", \"Outlier_IQR\": \"Normal\", \"Outlier_IF\": \"Outlier\"}, {\"UMAP_Component_1\": 10.811068534851074, \"UMAP_Component_2\": 5.4862189292907715, \"localization_site\": \"NUC\", \"Z1\": 0.12512124953910292, \"Z2\": -0.38976124143331453, \"Outlier_Z\": \"Normal\", \"Outlier_IQR\": \"Normal\", \"Outlier_IF\": \"Normal\"}, {\"UMAP_Component_1\": 7.765895366668701, \"UMAP_Component_2\": 4.705541610717773, \"localization_site\": \"ME3\", \"Z1\": -0.8595639251582387, \"Z2\": -0.7073556666783694, \"Outlier_Z\": \"Normal\", \"Outlier_IQR\": \"Normal\", \"Outlier_IF\": \"Normal\"}, {\"UMAP_Component_1\": 9.854595184326172, \"UMAP_Component_2\": 5.109703540802002, \"localization_site\": \"CYT\", \"Z1\": -0.1841633383114885, \"Z2\": -0.542934883805285, \"Outlier_Z\": \"Normal\", \"Outlier_IQR\": \"Normal\", \"Outlier_IF\": \"Normal\"}, {\"UMAP_Component_1\": 13.434588432312012, \"UMAP_Component_2\": 6.037320137023926, \"localization_site\": \"MIT\", \"Z1\": 0.9734609024512688, \"Z2\": -0.16556275742740242, \"Outlier_Z\": \"Normal\", \"Outlier_IQR\": \"Normal\", \"Outlier_IF\": \"Normal\"}, {\"UMAP_Component_1\": 9.62022876739502, \"UMAP_Component_2\": 10.101509094238281, \"localization_site\": \"NUC\", \"Z1\": -0.2599479073502305, \"Z2\": 1.487826838049999, \"Outlier_Z\": \"Normal\", \"Outlier_IQR\": \"Normal\", \"Outlier_IF\": \"Normal\"}, {\"UMAP_Component_1\": 10.77741813659668, \"UMAP_Component_2\": 7.733444690704346, \"localization_site\": \"NUC\", \"Z1\": 0.11424007909205688, \"Z2\": 0.5244530659537763, \"Outlier_Z\": \"Normal\", \"Outlier_IQR\": \"Normal\", \"Outlier_IF\": \"Normal\"}, {\"UMAP_Component_1\": 12.163037300109863, \"UMAP_Component_2\": 9.674997329711914, \"localization_site\": \"NUC\", \"Z1\": 0.5622929722227147, \"Z2\": 1.314313716184733, \"Outlier_Z\": \"Normal\", \"Outlier_IQR\": \"Normal\", \"Outlier_IF\": \"Normal\"}, {\"UMAP_Component_1\": 14.511244773864746, \"UMAP_Component_2\": 7.195945739746094, \"localization_site\": \"CYT\", \"Z1\": 1.32160778251972, \"Z2\": 0.30578823947791417, \"Outlier_Z\": \"Normal\", \"Outlier_IQR\": \"Normal\", \"Outlier_IF\": \"Outlier\"}, {\"UMAP_Component_1\": 14.531913757324219, \"UMAP_Component_2\": 7.205617427825928, \"localization_site\": \"CYT\", \"Z1\": 1.3282912912939537, \"Z2\": 0.30972286668404214, \"Outlier_Z\": \"Normal\", \"Outlier_IQR\": \"Normal\", \"Outlier_IF\": \"Outlier\"}, {\"UMAP_Component_1\": 10.133769989013672, \"UMAP_Component_2\": 7.589461803436279, \"localization_site\": \"CYT\", \"Z1\": -0.093889558745484, \"Z2\": 0.4658780808234132, \"Outlier_Z\": \"Normal\", \"Outlier_IQR\": \"Normal\", \"Outlier_IF\": \"Normal\"}, {\"UMAP_Component_1\": 8.42930793762207, \"UMAP_Component_2\": 7.946086406707764, \"localization_site\": \"NUC\", \"Z1\": -0.645043276496557, \"Z2\": 0.6109597723362198, \"Outlier_Z\": \"Normal\", \"Outlier_IQR\": \"Normal\", \"Outlier_IF\": \"Normal\"}, {\"UMAP_Component_1\": 11.27039623260498, \"UMAP_Component_2\": 7.666589736938477, \"localization_site\": \"NUC\", \"Z1\": 0.27364914904640786, \"Z2\": 0.4972551954496513, \"Outlier_Z\": \"Normal\", \"Outlier_IQR\": \"Normal\", \"Outlier_IF\": \"Normal\"}, {\"UMAP_Component_1\": 9.180451393127441, \"UMAP_Component_2\": 8.95377254486084, \"localization_site\": \"NUC\", \"Z1\": -0.4021540272298057, \"Z2\": 1.020905715762793, \"Outlier_Z\": \"Normal\", \"Outlier_IQR\": \"Normal\", \"Outlier_IF\": \"Normal\"}, {\"UMAP_Component_1\": 12.469016075134277, \"UMAP_Component_2\": 3.909895658493042, \"localization_site\": \"EXC\", \"Z1\": 0.6612340658480836, \"Z2\": -1.03103961763171, \"Outlier_Z\": \"Normal\", \"Outlier_IQR\": \"Normal\", \"Outlier_IF\": \"Normal\"}, {\"UMAP_Component_1\": 10.14208984375, \"UMAP_Component_2\": 1.4740859270095825, \"localization_site\": \"EXC\", \"Z1\": -0.09119925603951747, \"Z2\": -2.0219734814345744, \"Outlier_Z\": \"Normal\", \"Outlier_IQR\": \"Normal\", \"Outlier_IF\": \"Outlier\"}, {\"UMAP_Component_1\": 9.098851203918457, \"UMAP_Component_2\": 6.165002346038818, \"localization_site\": \"NUC\", \"Z1\": -0.4285402102574675, \"Z2\": -0.11361919915901657, \"Outlier_Z\": \"Normal\", \"Outlier_IQR\": \"Normal\", \"Outlier_IF\": \"Normal\"}, {\"UMAP_Component_1\": -4.679837226867676, \"UMAP_Component_2\": 0.24514707922935486, \"localization_site\": \"POX\", \"Z1\": -4.8840077568427605, \"Z2\": -2.521929247711375, \"Outlier_Z\": \"Outlier\", \"Outlier_IQR\": \"Outlier\", \"Outlier_IF\": \"Outlier\"}, {\"UMAP_Component_1\": 9.845791816711426, \"UMAP_Component_2\": 10.038257598876953, \"localization_site\": \"NUC\", \"Z1\": -0.1870099894209311, \"Z2\": 1.462094923163717, \"Outlier_Z\": \"Normal\", \"Outlier_IQR\": \"Normal\", \"Outlier_IF\": \"Normal\"}, {\"UMAP_Component_1\": 9.988986015319824, \"UMAP_Component_2\": 6.760672569274902, \"localization_site\": \"NUC\", \"Z1\": -0.14070680839148622, \"Z2\": 0.1287108105434082, \"Outlier_Z\": \"Normal\", \"Outlier_IQR\": \"Normal\", \"Outlier_IF\": \"Normal\"}, {\"UMAP_Component_1\": 11.095529556274414, \"UMAP_Component_2\": 8.687987327575684, \"localization_site\": \"NUC\", \"Z1\": 0.21710437664054677, \"Z2\": 0.9127792193037848, \"Outlier_Z\": \"Normal\", \"Outlier_IQR\": \"Normal\", \"Outlier_IF\": \"Normal\"}, {\"UMAP_Component_1\": 8.688118934631348, \"UMAP_Component_2\": 10.33745002746582, \"localization_site\": \"NUC\", \"Z1\": -0.5613543242666945, \"Z2\": 1.5838121104505771, \"Outlier_Z\": \"Normal\", \"Outlier_IQR\": \"Normal\", \"Outlier_IF\": \"Normal\"}, {\"UMAP_Component_1\": 9.832776069641113, \"UMAP_Component_2\": 5.856321334838867, \"localization_site\": \"NUC\", \"Z1\": -0.19121875275552894, \"Z2\": -0.2391965228544326, \"Outlier_Z\": \"Normal\", \"Outlier_IQR\": \"Normal\", \"Outlier_IF\": \"Normal\"}, {\"UMAP_Component_1\": 7.810244560241699, \"UMAP_Component_2\": 4.63904333114624, \"localization_site\": \"NUC\", \"Z1\": -0.8452231993573542, \"Z2\": -0.7344084353163904, \"Outlier_Z\": \"Normal\", \"Outlier_IQR\": \"Normal\", \"Outlier_IF\": \"Normal\"}, {\"UMAP_Component_1\": 10.223247528076172, \"UMAP_Component_2\": 6.577697277069092, \"localization_site\": \"NUC\", \"Z1\": -0.06495616109708816, \"Z2\": 0.05427297127279469, \"Outlier_Z\": \"Normal\", \"Outlier_IQR\": \"Normal\", \"Outlier_IF\": \"Normal\"}, {\"UMAP_Component_1\": 10.990861892700195, \"UMAP_Component_2\": 4.753175258636475, \"localization_site\": \"NUC\", \"Z1\": 0.18325911041115192, \"Z2\": -0.6879773900547855, \"Outlier_Z\": \"Normal\", \"Outlier_IQR\": \"Normal\", \"Outlier_IF\": \"Normal\"}, {\"UMAP_Component_1\": 9.255406379699707, \"UMAP_Component_2\": 9.532116889953613, \"localization_site\": \"NUC\", \"Z1\": -0.3779166325165839, \"Z2\": 1.256187227731418, \"Outlier_Z\": \"Normal\", \"Outlier_IQR\": \"Normal\", \"Outlier_IF\": \"Normal\"}, {\"UMAP_Component_1\": 9.572457313537598, \"UMAP_Component_2\": 10.289810180664062, \"localization_site\": \"NUC\", \"Z1\": -0.27539525296546163, \"Z2\": 1.564431312003117, \"Outlier_Z\": \"Normal\", \"Outlier_IQR\": \"Normal\", \"Outlier_IF\": \"Normal\"}, {\"UMAP_Component_1\": 8.861429214477539, \"UMAP_Component_2\": 8.544933319091797, \"localization_site\": \"NUC\", \"Z1\": -0.5053128271950995, \"Z2\": 0.8545821197819382, \"Outlier_Z\": \"Normal\", \"Outlier_IQR\": \"Normal\", \"Outlier_IF\": \"Normal\"}, {\"UMAP_Component_1\": 12.052661895751953, \"UMAP_Component_2\": 10.295060157775879, \"localization_site\": \"NUC\", \"Z1\": 0.5266020547215168, \"Z2\": 1.566567102839752, \"Outlier_Z\": \"Normal\", \"Outlier_IQR\": \"Normal\", \"Outlier_IF\": \"Normal\"}, {\"UMAP_Component_1\": 10.44919204711914, \"UMAP_Component_2\": 7.32235050201416, \"localization_site\": \"NUC\", \"Z1\": 0.008105108629825478, \"Z2\": 0.35721210804136405, \"Outlier_Z\": \"Normal\", \"Outlier_IQR\": \"Normal\", \"Outlier_IF\": \"Normal\"}, {\"UMAP_Component_1\": 8.283623695373535, \"UMAP_Component_2\": 6.156887531280518, \"localization_site\": \"NUC\", \"Z1\": -0.6921516363849288, \"Z2\": -0.1169204605993304, \"Outlier_Z\": \"Normal\", \"Outlier_IQR\": \"Normal\", \"Outlier_IF\": \"Normal\"}, {\"UMAP_Component_1\": 10.259895324707031, \"UMAP_Component_2\": 5.008928298950195, \"localization_site\": \"NUC\", \"Z1\": -0.05310575390028824, \"Z2\": -0.5839321745596253, \"Outlier_Z\": \"Normal\", \"Outlier_IQR\": \"Normal\", \"Outlier_IF\": \"Normal\"}, {\"UMAP_Component_1\": 13.9491605758667, \"UMAP_Component_2\": 7.101971626281738, \"localization_site\": \"NUC\", \"Z1\": 1.1398526092890677, \"Z2\": 0.26755777748859894, \"Outlier_Z\": \"Normal\", \"Outlier_IQR\": \"Normal\", \"Outlier_IF\": \"Normal\"}, {\"UMAP_Component_1\": 11.181930541992188, \"UMAP_Component_2\": 8.588523864746094, \"localization_site\": \"NUC\", \"Z1\": 0.24504294204118376, \"Z2\": 0.8723155852789254, \"Outlier_Z\": \"Normal\", \"Outlier_IQR\": \"Normal\", \"Outlier_IF\": \"Normal\"}, {\"UMAP_Component_1\": 12.299156188964844, \"UMAP_Component_2\": 8.109183311462402, \"localization_site\": \"NUC\", \"Z1\": 0.6063082857859095, \"Z2\": 0.6773107043954217, \"Outlier_Z\": \"Normal\", \"Outlier_IQR\": \"Normal\", \"Outlier_IF\": \"Normal\"}, {\"UMAP_Component_1\": 10.871644020080566, \"UMAP_Component_2\": 9.42630672454834, \"localization_site\": \"NUC\", \"Z1\": 0.144708898241256, \"Z2\": 1.2131416340302994, \"Outlier_Z\": \"Normal\", \"Outlier_IQR\": \"Normal\", \"Outlier_IF\": \"Normal\"}, {\"UMAP_Component_1\": 10.759758949279785, \"UMAP_Component_2\": 9.167553901672363, \"localization_site\": \"NUC\", \"Z1\": 0.10852981600099974, \"Z2\": 1.1078760497655415, \"Outlier_Z\": \"Normal\", \"Outlier_IQR\": \"Normal\", \"Outlier_IF\": \"Normal\"}, {\"UMAP_Component_1\": 10.090557098388672, \"UMAP_Component_2\": 6.62545919418335, \"localization_site\": \"ME3\", \"Z1\": -0.10786285037922498, \"Z2\": 0.07370343025196928, \"Outlier_Z\": \"Normal\", \"Outlier_IQR\": \"Normal\", \"Outlier_IF\": \"Normal\"}, {\"UMAP_Component_1\": 8.495035171508789, \"UMAP_Component_2\": 8.504776954650879, \"localization_site\": \"CYT\", \"Z1\": -0.6237897617676237, \"Z2\": 0.8382457447123303, \"Outlier_Z\": \"Normal\", \"Outlier_IQR\": \"Normal\", \"Outlier_IF\": \"Normal\"}, {\"UMAP_Component_1\": 9.023894309997559, \"UMAP_Component_2\": 8.255536079406738, \"localization_site\": \"CYT\", \"Z1\": -0.45277822172967735, \"Z2\": 0.7368498021922767, \"Outlier_Z\": \"Normal\", \"Outlier_IQR\": \"Normal\", \"Outlier_IF\": \"Normal\"}, {\"UMAP_Component_1\": 9.256443977355957, \"UMAP_Component_2\": 8.824371337890625, \"localization_site\": \"CYT\", \"Z1\": -0.3775811156270732, \"Z2\": 0.9682628363349094, \"Outlier_Z\": \"Normal\", \"Outlier_IQR\": \"Normal\", \"Outlier_IF\": \"Normal\"}, {\"UMAP_Component_1\": 8.238316535949707, \"UMAP_Component_2\": 10.934571266174316, \"localization_site\": \"CYT\", \"Z1\": -0.7068021293875719, \"Z2\": 1.8267324209264697, \"Outlier_Z\": \"Normal\", \"Outlier_IQR\": \"Normal\", \"Outlier_IF\": \"Outlier\"}, {\"UMAP_Component_1\": 8.645851135253906, \"UMAP_Component_2\": 8.173038482666016, \"localization_site\": \"CYT\", \"Z1\": -0.5750220118218463, \"Z2\": 0.7032882061299489, \"Outlier_Z\": \"Normal\", \"Outlier_IQR\": \"Normal\", \"Outlier_IF\": \"Normal\"}, {\"UMAP_Component_1\": 9.845388412475586, \"UMAP_Component_2\": 7.510501861572266, \"localization_site\": \"CYT\", \"Z1\": -0.18714043394690819, \"Z2\": 0.43375567024855094, \"Outlier_Z\": \"Normal\", \"Outlier_IQR\": \"Normal\", \"Outlier_IF\": \"Normal\"}, {\"UMAP_Component_1\": 9.905487060546875, \"UMAP_Component_2\": 7.534565448760986, \"localization_site\": \"CYT\", \"Z1\": -0.16770697499177292, \"Z2\": 0.4435451965492583, \"Outlier_Z\": \"Normal\", \"Outlier_IQR\": \"Normal\", \"Outlier_IF\": \"Normal\"}, {\"UMAP_Component_1\": 10.18061351776123, \"UMAP_Component_2\": 7.270270824432373, \"localization_site\": \"CYT\", \"Z1\": -0.07874226637794952, \"Z2\": 0.33602510173923483, \"Outlier_Z\": \"Normal\", \"Outlier_IQR\": \"Normal\", \"Outlier_IF\": \"Normal\"}, {\"UMAP_Component_1\": 9.80463695526123, \"UMAP_Component_2\": 7.441857814788818, \"localization_site\": \"CYT\", \"Z1\": -0.20031779810654327, \"Z2\": 0.4058299625764828, \"Outlier_Z\": \"Normal\", \"Outlier_IQR\": \"Normal\", \"Outlier_IF\": \"Normal\"}, {\"UMAP_Component_1\": 10.650225639343262, \"UMAP_Component_2\": 6.478704929351807, \"localization_site\": \"CYT\", \"Z1\": 0.07311119759303529, \"Z2\": 0.0140009958625215, \"Outlier_Z\": \"Normal\", \"Outlier_IQR\": \"Normal\", \"Outlier_IF\": \"Normal\"}, {\"UMAP_Component_1\": 10.628693580627441, \"UMAP_Component_2\": 6.479973316192627, \"localization_site\": \"CYT\", \"Z1\": 0.06614860537669957, \"Z2\": 0.014516999824869295, \"Outlier_Z\": \"Normal\", \"Outlier_IQR\": \"Normal\", \"Outlier_IF\": \"Normal\"}, {\"UMAP_Component_1\": 12.417717933654785, \"UMAP_Component_2\": 8.828767776489258, \"localization_site\": \"NUC\", \"Z1\": 0.6446463328639089, \"Z2\": 0.9700513914224458, \"Outlier_Z\": \"Normal\", \"Outlier_IQR\": \"Normal\", \"Outlier_IF\": \"Normal\"}, {\"UMAP_Component_1\": 13.589278221130371, \"UMAP_Component_2\": 4.146792411804199, \"localization_site\": \"MIT\", \"Z1\": 1.0234812899018186, \"Z2\": -0.934665499388077, \"Outlier_Z\": \"Normal\", \"Outlier_IQR\": \"Normal\", \"Outlier_IF\": \"Normal\"}, {\"UMAP_Component_1\": 9.092833518981934, \"UMAP_Component_2\": 9.175760269165039, \"localization_site\": \"CYT\", \"Z1\": -0.43048608486483214, \"Z2\": 1.1112145566046412, \"Outlier_Z\": \"Normal\", \"Outlier_IQR\": \"Normal\", \"Outlier_IF\": \"Normal\"}, {\"UMAP_Component_1\": 9.01042652130127, \"UMAP_Component_2\": 10.525988578796387, \"localization_site\": \"NUC\", \"Z1\": -0.45713315694444806, \"Z2\": 1.6605131896567964, \"Outlier_Z\": \"Normal\", \"Outlier_IQR\": \"Normal\", \"Outlier_IF\": \"Normal\"}, {\"UMAP_Component_1\": 14.592415809631348, \"UMAP_Component_2\": 7.460524559020996, \"localization_site\": \"NUC\", \"Z1\": 1.347855194775066, \"Z2\": 0.41342395021333583, \"Outlier_Z\": \"Normal\", \"Outlier_IQR\": \"Normal\", \"Outlier_IF\": \"Outlier\"}, {\"UMAP_Component_1\": 6.188401699066162, \"UMAP_Component_2\": 5.927507400512695, \"localization_site\": \"ME3\", \"Z1\": -1.3696612305913884, \"Z2\": -0.21023667340669672, \"Outlier_Z\": \"Normal\", \"Outlier_IQR\": \"Normal\", \"Outlier_IF\": \"Normal\"}, {\"UMAP_Component_1\": 6.188182830810547, \"UMAP_Component_2\": 5.926667213439941, \"localization_site\": \"ME3\", \"Z1\": -1.3697320036852696, \"Z2\": -0.21057847753513914, \"Outlier_Z\": \"Normal\", \"Outlier_IQR\": \"Normal\", \"Outlier_IF\": \"Normal\"}, {\"UMAP_Component_1\": 10.33260726928711, \"UMAP_Component_2\": 3.0838263034820557, \"localization_site\": \"EXC\", \"Z1\": -0.02959366775703818, \"Z2\": -1.3671003891894475, \"Outlier_Z\": \"Normal\", \"Outlier_IQR\": \"Normal\", \"Outlier_IF\": \"Normal\"}, {\"UMAP_Component_1\": 10.830083847045898, \"UMAP_Component_2\": 7.911276340484619, \"localization_site\": \"ME3\", \"Z1\": 0.13127002827067868, \"Z2\": 0.5967983733665531, \"Outlier_Z\": \"Normal\", \"Outlier_IQR\": \"Normal\", \"Outlier_IF\": \"Normal\"}, {\"UMAP_Component_1\": 10.300924301147461, \"UMAP_Component_2\": 7.385868549346924, \"localization_site\": \"ME3\", \"Z1\": -0.03983865130788878, \"Z2\": 0.3830524613543199, \"Outlier_Z\": \"Normal\", \"Outlier_IQR\": \"Normal\", \"Outlier_IF\": \"Normal\"}, {\"UMAP_Component_1\": 9.997729301452637, \"UMAP_Component_2\": 1.4278268814086914, \"localization_site\": \"EXC\", \"Z1\": -0.13787958519016788, \"Z2\": -2.040792543613625, \"Outlier_Z\": \"Normal\", \"Outlier_IQR\": \"Normal\", \"Outlier_IF\": \"Outlier\"}, {\"UMAP_Component_1\": 9.372157096862793, \"UMAP_Component_2\": 8.283775329589844, \"localization_site\": \"NUC\", \"Z1\": -0.34016419809775805, \"Z2\": 0.7483380678532395, \"Outlier_Z\": \"Normal\", \"Outlier_IQR\": \"Normal\", \"Outlier_IF\": \"Normal\"}, {\"UMAP_Component_1\": 8.68041706085205, \"UMAP_Component_2\": 9.145281791687012, \"localization_site\": \"ME3\", \"Z1\": -0.563844797060526, \"Z2\": 1.0988153305650374, \"Outlier_Z\": \"Normal\", \"Outlier_IQR\": \"Normal\", \"Outlier_IF\": \"Normal\"}, {\"UMAP_Component_1\": 7.788461685180664, \"UMAP_Component_2\": 5.254560947418213, \"localization_site\": \"ME3\", \"Z1\": -0.8522668953806213, \"Z2\": -0.48400412752193483, \"Outlier_Z\": \"Normal\", \"Outlier_IQR\": \"Normal\", \"Outlier_IF\": \"Normal\"}, {\"UMAP_Component_1\": 14.518030166625977, \"UMAP_Component_2\": 7.647180080413818, \"localization_site\": \"CYT\", \"Z1\": 1.3238019026197834, \"Z2\": 0.48935897692056596, \"Outlier_Z\": \"Normal\", \"Outlier_IQR\": \"Normal\", \"Outlier_IF\": \"Outlier\"}, {\"UMAP_Component_1\": 7.84708309173584, \"UMAP_Component_2\": 5.697592258453369, \"localization_site\": \"ME3\", \"Z1\": -0.8333111162617471, \"Z2\": -0.30377053901321877, \"Outlier_Z\": \"Normal\", \"Outlier_IQR\": \"Normal\", \"Outlier_IF\": \"Normal\"}, {\"UMAP_Component_1\": 9.925243377685547, \"UMAP_Component_2\": 9.97049617767334, \"localization_site\": \"CYT\", \"Z1\": -0.1613185853933315, \"Z2\": 1.4345282844143201, \"Outlier_Z\": \"Normal\", \"Outlier_IQR\": \"Normal\", \"Outlier_IF\": \"Normal\"}, {\"UMAP_Component_1\": 9.067413330078125, \"UMAP_Component_2\": 2.2376363277435303, \"localization_site\": \"ME1\", \"Z1\": -0.43870594027835097, \"Z2\": -1.7113466130762178, \"Outlier_Z\": \"Normal\", \"Outlier_IQR\": \"Normal\", \"Outlier_IF\": \"Normal\"}, {\"UMAP_Component_1\": 11.114845275878906, \"UMAP_Component_2\": 8.29616928100586, \"localization_site\": \"CYT\", \"Z1\": 0.22335029491274375, \"Z2\": 0.753380163713895, \"Outlier_Z\": \"Normal\", \"Outlier_IQR\": \"Normal\", \"Outlier_IF\": \"Normal\"}, {\"UMAP_Component_1\": 8.818437576293945, \"UMAP_Component_2\": 8.523636817932129, \"localization_site\": \"NUC\", \"Z1\": -0.5192145747862242, \"Z2\": 0.8459182968622475, \"Outlier_Z\": \"Normal\", \"Outlier_IQR\": \"Normal\", \"Outlier_IF\": \"Normal\"}, {\"UMAP_Component_1\": 8.208796501159668, \"UMAP_Component_2\": 4.795013427734375, \"localization_site\": \"ME3\", \"Z1\": -0.7163477082459498, \"Z2\": -0.6709568247689367, \"Outlier_Z\": \"Normal\", \"Outlier_IQR\": \"Normal\", \"Outlier_IF\": \"Normal\"}, {\"UMAP_Component_1\": 14.606606483459473, \"UMAP_Component_2\": 4.559974193572998, \"localization_site\": \"MIT\", \"Z1\": 1.3524438816463156, \"Z2\": -0.766575268788763, \"Outlier_Z\": \"Normal\", \"Outlier_IQR\": \"Normal\", \"Outlier_IF\": \"Normal\"}, {\"UMAP_Component_1\": 12.490487098693848, \"UMAP_Component_2\": 9.306008338928223, \"localization_site\": \"MIT\", \"Z1\": 0.6681769217768011, \"Z2\": 1.1642019559712953, \"Outlier_Z\": \"Normal\", \"Outlier_IQR\": \"Normal\", \"Outlier_IF\": \"Normal\"}, {\"UMAP_Component_1\": 8.149413108825684, \"UMAP_Component_2\": 10.786506652832031, \"localization_site\": \"NUC\", \"Z1\": -0.7355498825805584, \"Z2\": 1.7664969117668972, \"Outlier_Z\": \"Normal\", \"Outlier_IQR\": \"Normal\", \"Outlier_IF\": \"Outlier\"}, {\"UMAP_Component_1\": 7.4331207275390625, \"UMAP_Component_2\": 5.905621528625488, \"localization_site\": \"ME3\", \"Z1\": -0.9671697116172728, \"Z2\": -0.2191402635810723, \"Outlier_Z\": \"Normal\", \"Outlier_IQR\": \"Normal\", \"Outlier_IF\": \"Normal\"}, {\"UMAP_Component_1\": 8.863445281982422, \"UMAP_Component_2\": 8.604124069213867, \"localization_site\": \"NUC\", \"Z1\": -0.5046609129447083, \"Z2\": 0.8786620460428992, \"Outlier_Z\": \"Normal\", \"Outlier_IQR\": \"Normal\", \"Outlier_IF\": \"Normal\"}, {\"UMAP_Component_1\": 11.397200584411621, \"UMAP_Component_2\": 9.458974838256836, \"localization_site\": \"CYT\", \"Z1\": 0.31465252009135697, \"Z2\": 1.2264316458575353, \"Outlier_Z\": \"Normal\", \"Outlier_IQR\": \"Normal\", \"Outlier_IF\": \"Normal\"}, {\"UMAP_Component_1\": 6.97096586227417, \"UMAP_Component_2\": 5.0677103996276855, \"localization_site\": \"VAC\", \"Z1\": -1.1166118021346463, \"Z2\": -0.5600184946880372, \"Outlier_Z\": \"Normal\", \"Outlier_IQR\": \"Normal\", \"Outlier_IF\": \"Normal\"}, {\"UMAP_Component_1\": 8.982858657836914, \"UMAP_Component_2\": 4.143947124481201, \"localization_site\": \"NUC\", \"Z1\": -0.4660474829785351, \"Z2\": -0.9358230165472233, \"Outlier_Z\": \"Normal\", \"Outlier_IQR\": \"Normal\", \"Outlier_IF\": \"Normal\"}, {\"UMAP_Component_1\": 10.085541725158691, \"UMAP_Component_2\": 2.2656002044677734, \"localization_site\": \"EXC\", \"Z1\": -0.10948461813835818, \"Z2\": -1.699970374591291, \"Outlier_Z\": \"Normal\", \"Outlier_IQR\": \"Normal\", \"Outlier_IF\": \"Normal\"}, {\"UMAP_Component_1\": 10.015801429748535, \"UMAP_Component_2\": 2.301210880279541, \"localization_site\": \"EXC\", \"Z1\": -0.13203579377819333, \"Z2\": -1.6854832723686988, \"Outlier_Z\": \"Normal\", \"Outlier_IQR\": \"Normal\", \"Outlier_IF\": \"Normal\"}, {\"UMAP_Component_1\": 10.312451362609863, \"UMAP_Component_2\": 2.283247947692871, \"localization_site\": \"EXC\", \"Z1\": -0.03611126836348052, \"Z2\": -1.6927909360023843, \"Outlier_Z\": \"Normal\", \"Outlier_IQR\": \"Normal\", \"Outlier_IF\": \"Normal\"}, {\"UMAP_Component_1\": 11.929211616516113, \"UMAP_Component_2\": 6.786805152893066, \"localization_site\": \"NUC\", \"Z1\": 0.48668325435709087, \"Z2\": 0.1393420440593888, \"Outlier_Z\": \"Normal\", \"Outlier_IQR\": \"Normal\", \"Outlier_IF\": \"Normal\"}, {\"UMAP_Component_1\": 12.850852966308594, \"UMAP_Component_2\": 8.74113941192627, \"localization_site\": \"CYT\", \"Z1\": 0.7847045895675262, \"Z2\": 0.9344025011364856, \"Outlier_Z\": \"Normal\", \"Outlier_IQR\": \"Normal\", \"Outlier_IF\": \"Normal\"}, {\"UMAP_Component_1\": 10.28570556640625, \"UMAP_Component_2\": 5.359694004058838, \"localization_site\": \"CYT\", \"Z1\": -0.04475977127370884, \"Z2\": -0.44123399458267104, \"Outlier_Z\": \"Normal\", \"Outlier_IQR\": \"Normal\", \"Outlier_IF\": \"Normal\"}, {\"UMAP_Component_1\": 8.402400016784668, \"UMAP_Component_2\": 11.038994789123535, \"localization_site\": \"CYT\", \"Z1\": -0.6537442039207714, \"Z2\": 1.8692139020251417, \"Outlier_Z\": \"Normal\", \"Outlier_IQR\": \"Normal\", \"Outlier_IF\": \"Outlier\"}, {\"UMAP_Component_1\": 11.106740951538086, \"UMAP_Component_2\": 8.000365257263184, \"localization_site\": \"ME3\", \"Z1\": 0.22072968597242923, \"Z2\": 0.6330414441550212, \"Outlier_Z\": \"Normal\", \"Outlier_IQR\": \"Normal\", \"Outlier_IF\": \"Normal\"}, {\"UMAP_Component_1\": 11.54771900177002, \"UMAP_Component_2\": 10.486701965332031, \"localization_site\": \"CYT\", \"Z1\": 0.36332405563499526, \"Z2\": 1.6445306458756557, \"Outlier_Z\": \"Normal\", \"Outlier_IQR\": \"Normal\", \"Outlier_IF\": \"Normal\"}, {\"UMAP_Component_1\": 10.98619270324707, \"UMAP_Component_2\": 9.10799789428711, \"localization_site\": \"CYT\", \"Z1\": 0.18174928440835364, \"Z2\": 1.0836475298823405, \"Outlier_Z\": \"Normal\", \"Outlier_IQR\": \"Normal\", \"Outlier_IF\": \"Normal\"}, {\"UMAP_Component_1\": 13.230009078979492, \"UMAP_Component_2\": 7.97730016708374, \"localization_site\": \"CYT\", \"Z1\": 0.9073082585292346, \"Z2\": 0.6236581254848238, \"Outlier_Z\": \"Normal\", \"Outlier_IQR\": \"Normal\", \"Outlier_IF\": \"Normal\"}, {\"UMAP_Component_1\": 13.967095375061035, \"UMAP_Component_2\": 5.451234340667725, \"localization_site\": \"CYT\", \"Z1\": 1.1456519940539012, \"Z2\": -0.4039936394444172, \"Outlier_Z\": \"Normal\", \"Outlier_IQR\": \"Normal\", \"Outlier_IF\": \"Normal\"}, {\"UMAP_Component_1\": 12.76815128326416, \"UMAP_Component_2\": 3.9541518688201904, \"localization_site\": \"MIT\", \"Z1\": 0.7579622282242533, \"Z2\": -1.0130353470477163, \"Outlier_Z\": \"Normal\", \"Outlier_IQR\": \"Normal\", \"Outlier_IF\": \"Normal\"}, {\"UMAP_Component_1\": 6.508467674255371, \"UMAP_Component_2\": 6.552506923675537, \"localization_site\": \"NUC\", \"Z1\": -1.2661649092698726, \"Z2\": 0.0440250549859867, \"Outlier_Z\": \"Normal\", \"Outlier_IQR\": \"Normal\", \"Outlier_IF\": \"Normal\"}, {\"UMAP_Component_1\": 10.050389289855957, \"UMAP_Component_2\": 7.691581726074219, \"localization_site\": \"NUC\", \"Z1\": -0.12085148628851028, \"Z2\": 0.5074224133724229, \"Outlier_Z\": \"Normal\", \"Outlier_IQR\": \"Normal\", \"Outlier_IF\": \"Normal\"}, {\"UMAP_Component_1\": 8.558104515075684, \"UMAP_Component_2\": 10.856369972229004, \"localization_site\": \"NUC\", \"Z1\": -0.6033957006885675, \"Z2\": 1.794918642796756, \"Outlier_Z\": \"Normal\", \"Outlier_IQR\": \"Normal\", \"Outlier_IF\": \"Outlier\"}, {\"UMAP_Component_1\": 8.83271312713623, \"UMAP_Component_2\": 10.605173110961914, \"localization_site\": \"NUC\", \"Z1\": -0.5145984421400054, \"Z2\": 1.6927269678505557, \"Outlier_Z\": \"Normal\", \"Outlier_IQR\": \"Normal\", \"Outlier_IF\": \"Outlier\"}, {\"UMAP_Component_1\": 11.25600814819336, \"UMAP_Component_2\": 10.615691184997559, \"localization_site\": \"NUC\", \"Z1\": 0.2689966276198928, \"Z2\": 1.697005921009002, \"Outlier_Z\": \"Normal\", \"Outlier_IQR\": \"Normal\", \"Outlier_IF\": \"Outlier\"}, {\"UMAP_Component_1\": 8.97642993927002, \"UMAP_Component_2\": 2.4379868507385254, \"localization_site\": \"ME1\", \"Z1\": -0.468126269147829, \"Z2\": -1.6298401984740216, \"Outlier_Z\": \"Normal\", \"Outlier_IQR\": \"Normal\", \"Outlier_IF\": \"Normal\"}, {\"UMAP_Component_1\": 7.333221912384033, \"UMAP_Component_2\": 6.127481460571289, \"localization_site\": \"ME3\", \"Z1\": -0.9994729261867427, \"Z2\": -0.12888341110836277, \"Outlier_Z\": \"Normal\", \"Outlier_IQR\": \"Normal\", \"Outlier_IF\": \"Normal\"}, {\"UMAP_Component_1\": 9.654068946838379, \"UMAP_Component_2\": 4.330005168914795, \"localization_site\": \"CYT\", \"Z1\": -0.24900536938387138, \"Z2\": -0.8601310548643624, \"Outlier_Z\": \"Normal\", \"Outlier_IQR\": \"Normal\", \"Outlier_IF\": \"Normal\"}, {\"UMAP_Component_1\": 6.170574188232422, \"UMAP_Component_2\": 6.134927749633789, \"localization_site\": \"ME3\", \"Z1\": -1.3754259226631427, \"Z2\": -0.12585411867376758, \"Outlier_Z\": \"Normal\", \"Outlier_IQR\": \"Normal\", \"Outlier_IF\": \"Normal\"}, {\"UMAP_Component_1\": 9.37866497039795, \"UMAP_Component_2\": 5.709808826446533, \"localization_site\": \"NUC\", \"Z1\": -0.3380598164304592, \"Z2\": -0.2988006061127111, \"Outlier_Z\": \"Normal\", \"Outlier_IQR\": \"Normal\", \"Outlier_IF\": \"Normal\"}, {\"UMAP_Component_1\": 9.150277137756348, \"UMAP_Component_2\": 9.039815902709961, \"localization_site\": \"CYT\", \"Z1\": -0.411911154421092, \"Z2\": 1.0559097950822705, \"Outlier_Z\": \"Normal\", \"Outlier_IQR\": \"Normal\", \"Outlier_IF\": \"Normal\"}, {\"UMAP_Component_1\": 10.233031272888184, \"UMAP_Component_2\": 7.011987686157227, \"localization_site\": \"CYT\", \"Z1\": -0.061792495867776964, \"Z2\": 0.23095059412970717, \"Outlier_Z\": \"Normal\", \"Outlier_IQR\": \"Normal\", \"Outlier_IF\": \"Normal\"}, {\"UMAP_Component_1\": 10.184393882751465, \"UMAP_Component_2\": 6.74940299987793, \"localization_site\": \"CYT\", \"Z1\": -0.07751985006359241, \"Z2\": 0.12412613473659323, \"Outlier_Z\": \"Normal\", \"Outlier_IQR\": \"Normal\", \"Outlier_IF\": \"Normal\"}, {\"UMAP_Component_1\": 10.362010955810547, \"UMAP_Component_2\": 7.5286126136779785, \"localization_site\": \"CYT\", \"Z1\": -0.020085711196932653, \"Z2\": 0.4411234696823598, \"Outlier_Z\": \"Normal\", \"Outlier_IQR\": \"Normal\", \"Outlier_IF\": \"Normal\"}, {\"UMAP_Component_1\": 10.15995979309082, \"UMAP_Component_2\": 6.435338020324707, \"localization_site\": \"CYT\", \"Z1\": -0.08542084108027845, \"Z2\": -0.003641489988472785, \"Outlier_Z\": \"Normal\", \"Outlier_IQR\": \"Normal\", \"Outlier_IF\": \"Normal\"}, {\"UMAP_Component_1\": 10.670244216918945, \"UMAP_Component_2\": 9.11175537109375, \"localization_site\": \"CYT\", \"Z1\": 0.0795843915523365, \"Z2\": 1.0851761431241829, \"Outlier_Z\": \"Normal\", \"Outlier_IQR\": \"Normal\", \"Outlier_IF\": \"Normal\"}, {\"UMAP_Component_1\": 10.983254432678223, \"UMAP_Component_2\": 7.355418682098389, \"localization_site\": \"CYT\", \"Z1\": 0.18079916718722996, \"Z2\": 0.37066487450183666, \"Outlier_Z\": \"Normal\", \"Outlier_IQR\": \"Normal\", \"Outlier_IF\": \"Normal\"}, {\"UMAP_Component_1\": 12.864273071289062, \"UMAP_Component_2\": 4.117536544799805, \"localization_site\": \"CYT\", \"Z1\": 0.7890441058075951, \"Z2\": -0.9465673441647261, \"Outlier_Z\": \"Normal\", \"Outlier_IQR\": \"Normal\", \"Outlier_IF\": \"Normal\"}, {\"UMAP_Component_1\": 12.521240234375, \"UMAP_Component_2\": 4.801331996917725, \"localization_site\": \"CYT\", \"Z1\": 0.678121235320967, \"Z2\": -0.6683863102933463, \"Outlier_Z\": \"Normal\", \"Outlier_IQR\": \"Normal\", \"Outlier_IF\": \"Normal\"}, {\"UMAP_Component_1\": 12.865432739257812, \"UMAP_Component_2\": 3.9057304859161377, \"localization_site\": \"CYT\", \"Z1\": 0.7894190952723424, \"Z2\": -1.0327340892900214, \"Outlier_Z\": \"Normal\", \"Outlier_IQR\": \"Normal\", \"Outlier_IF\": \"Normal\"}, {\"UMAP_Component_1\": 9.139278411865234, \"UMAP_Component_2\": 7.92458963394165, \"localization_site\": \"NUC\", \"Z1\": -0.4154676951258045, \"Z2\": 0.6022144751066848, \"Outlier_Z\": \"Normal\", \"Outlier_IQR\": \"Normal\", \"Outlier_IF\": \"Normal\"}, {\"UMAP_Component_1\": 11.986570358276367, \"UMAP_Component_2\": 9.18078899383545, \"localization_site\": \"NUC\", \"Z1\": 0.5052307390258619, \"Z2\": 1.1132603377275434, \"Outlier_Z\": \"Normal\", \"Outlier_IQR\": \"Normal\", \"Outlier_IF\": \"Normal\"}, {\"UMAP_Component_1\": 10.284355163574219, \"UMAP_Component_2\": 6.652857780456543, \"localization_site\": \"CYT\", \"Z1\": -0.04519643663726324, \"Z2\": 0.08484969779803767, \"Outlier_Z\": \"Normal\", \"Outlier_IQR\": \"Normal\", \"Outlier_IF\": \"Normal\"}, {\"UMAP_Component_1\": 10.290275573730469, \"UMAP_Component_2\": 6.670812129974365, \"localization_site\": \"CYT\", \"Z1\": -0.043282016738290255, \"Z2\": 0.09215386967558709, \"Outlier_Z\": \"Normal\", \"Outlier_IQR\": \"Normal\", \"Outlier_IF\": \"Normal\"}, {\"UMAP_Component_1\": 9.003936767578125, \"UMAP_Component_2\": 8.9290189743042, \"localization_site\": \"CYT\", \"Z1\": -0.4592316794013603, \"Z2\": 1.0108354910660264, \"Outlier_Z\": \"Normal\", \"Outlier_IQR\": \"Normal\", \"Outlier_IF\": \"Normal\"}, {\"UMAP_Component_1\": 9.028912544250488, \"UMAP_Component_2\": 8.841839790344238, \"localization_site\": \"CYT\", \"Z1\": -0.45115552883206206, \"Z2\": 0.9753693360178601, \"Outlier_Z\": \"Normal\", \"Outlier_IQR\": \"Normal\", \"Outlier_IF\": \"Normal\"}, {\"UMAP_Component_1\": 8.806265830993652, \"UMAP_Component_2\": 4.385562896728516, \"localization_site\": \"NUC\", \"Z1\": -0.5231504222686006, \"Z2\": -0.837529111381269, \"Outlier_Z\": \"Normal\", \"Outlier_IQR\": \"Normal\", \"Outlier_IF\": \"Normal\"}, {\"UMAP_Component_1\": 8.567310333251953, \"UMAP_Component_2\": 8.458490371704102, \"localization_site\": \"NUC\", \"Z1\": -0.6004189134326419, \"Z2\": 0.819415479815676, \"Outlier_Z\": \"Normal\", \"Outlier_IQR\": \"Normal\", \"Outlier_IF\": \"Normal\"}, {\"UMAP_Component_1\": 10.394491195678711, \"UMAP_Component_2\": 4.564172744750977, \"localization_site\": \"NUC\", \"Z1\": -0.009582922389068292, \"Z2\": -0.7648672180788111, \"Outlier_Z\": \"Normal\", \"Outlier_IQR\": \"Normal\", \"Outlier_IF\": \"Normal\"}, {\"UMAP_Component_1\": 10.161138534545898, \"UMAP_Component_2\": 4.56430196762085, \"localization_site\": \"NUC\", \"Z1\": -0.08503968402565044, \"Z2\": -0.7648146477503163, \"Outlier_Z\": \"Normal\", \"Outlier_IQR\": \"Normal\", \"Outlier_IF\": \"Normal\"}, {\"UMAP_Component_1\": 9.067888259887695, \"UMAP_Component_2\": 8.221977233886719, \"localization_site\": \"NUC\", \"Z1\": -0.43855236729032127, \"Z2\": 0.7231974236726854, \"Outlier_Z\": \"Normal\", \"Outlier_IQR\": \"Normal\", \"Outlier_IF\": \"Normal\"}, {\"UMAP_Component_1\": 9.262540817260742, \"UMAP_Component_2\": 9.709861755371094, \"localization_site\": \"NUC\", \"Z1\": -0.3756096455217036, \"Z2\": 1.3284972296099289, \"Outlier_Z\": \"Normal\", \"Outlier_IQR\": \"Normal\", \"Outlier_IF\": \"Normal\"}, {\"UMAP_Component_1\": 8.53089714050293, \"UMAP_Component_2\": 10.97091293334961, \"localization_site\": \"NUC\", \"Z1\": -0.612193459273909, \"Z2\": 1.841516904379994, \"Outlier_Z\": \"Normal\", \"Outlier_IQR\": \"Normal\", \"Outlier_IF\": \"Outlier\"}, {\"UMAP_Component_1\": 12.176711082458496, \"UMAP_Component_2\": 7.810230731964111, \"localization_site\": \"CYT\", \"Z1\": 0.5667145174081971, \"Z2\": 0.5556910922939229, \"Outlier_Z\": \"Normal\", \"Outlier_IQR\": \"Normal\", \"Outlier_IF\": \"Normal\"}, {\"UMAP_Component_1\": 12.901623725891113, \"UMAP_Component_2\": 4.334539890289307, \"localization_site\": \"CYT\", \"Z1\": 0.8011217886914993, \"Z2\": -0.8582862437057429, \"Outlier_Z\": \"Normal\", \"Outlier_IQR\": \"Normal\", \"Outlier_IF\": \"Normal\"}, {\"UMAP_Component_1\": 12.008161544799805, \"UMAP_Component_2\": 9.283557891845703, \"localization_site\": \"CYT\", \"Z1\": 0.5122124507708278, \"Z2\": 1.1550686858377395, \"Outlier_Z\": \"Normal\", \"Outlier_IQR\": \"Normal\", \"Outlier_IF\": \"Normal\"}, {\"UMAP_Component_1\": 12.446645736694336, \"UMAP_Component_2\": 8.013533592224121, \"localization_site\": \"CYT\", \"Z1\": 0.6540004080564907, \"Z2\": 0.6383985740137418, \"Outlier_Z\": \"Normal\", \"Outlier_IQR\": \"Normal\", \"Outlier_IF\": \"Normal\"}, {\"UMAP_Component_1\": 12.198577880859375, \"UMAP_Component_2\": 9.524473190307617, \"localization_site\": \"CYT\", \"Z1\": 0.5737853508269393, \"Z2\": 1.2530776249056905, \"Outlier_Z\": \"Normal\", \"Outlier_IQR\": \"Normal\", \"Outlier_IF\": \"Normal\"}, {\"UMAP_Component_1\": 12.41750431060791, \"UMAP_Component_2\": 8.033415794372559, \"localization_site\": \"CYT\", \"Z1\": 0.644577255857245, \"Z2\": 0.6464870331167695, \"Outlier_Z\": \"Normal\", \"Outlier_IQR\": \"Normal\", \"Outlier_IF\": \"Normal\"}, {\"UMAP_Component_1\": 8.31615161895752, \"UMAP_Component_2\": 10.711162567138672, \"localization_site\": \"CYT\", \"Z1\": -0.6816334286023626, \"Z2\": 1.73584550045763, \"Outlier_Z\": \"Normal\", \"Outlier_IQR\": \"Normal\", \"Outlier_IF\": \"Outlier\"}, {\"UMAP_Component_1\": 10.768068313598633, \"UMAP_Component_2\": 9.478886604309082, \"localization_site\": \"CYT\", \"Z1\": 0.1112167265325319, \"Z2\": 1.2345321321205875, \"Outlier_Z\": \"Normal\", \"Outlier_IQR\": \"Normal\", \"Outlier_IF\": \"Normal\"}, {\"UMAP_Component_1\": 11.3432035446167, \"UMAP_Component_2\": 9.277703285217285, \"localization_site\": \"CYT\", \"Z1\": 0.2971920731390615, \"Z2\": 1.1526869201799552, \"Outlier_Z\": \"Normal\", \"Outlier_IQR\": \"Normal\", \"Outlier_IF\": \"Normal\"}, {\"UMAP_Component_1\": 11.09109115600586, \"UMAP_Component_2\": 10.028969764709473, \"localization_site\": \"CYT\", \"Z1\": 0.2156691784753051, \"Z2\": 1.4583164550514573, \"Outlier_Z\": \"Normal\", \"Outlier_IQR\": \"Normal\", \"Outlier_IF\": \"Normal\"}, {\"UMAP_Component_1\": 11.44253158569336, \"UMAP_Component_2\": 10.707047462463379, \"localization_site\": \"CYT\", \"Z1\": 0.329310722581351, \"Z2\": 1.7341713973767798, \"Outlier_Z\": \"Normal\", \"Outlier_IQR\": \"Normal\", \"Outlier_IF\": \"Outlier\"}, {\"UMAP_Component_1\": 11.494708061218262, \"UMAP_Component_2\": 10.733196258544922, \"localization_site\": \"CYT\", \"Z1\": 0.34618247307953254, \"Z2\": 1.7448092264321289, \"Outlier_Z\": \"Normal\", \"Outlier_IQR\": \"Normal\", \"Outlier_IF\": \"Outlier\"}, {\"UMAP_Component_1\": 9.537298202514648, \"UMAP_Component_2\": 2.6251652240753174, \"localization_site\": \"ME1\", \"Z1\": -0.286764279772072, \"Z2\": -1.553692465622162, \"Outlier_Z\": \"Normal\", \"Outlier_IQR\": \"Normal\", \"Outlier_IF\": \"Normal\"}, {\"UMAP_Component_1\": 9.569263458251953, \"UMAP_Component_2\": 6.235015869140625, \"localization_site\": \"CYT\", \"Z1\": -0.27642801589098687, \"Z2\": -0.08513636239677438, \"Outlier_Z\": \"Normal\", \"Outlier_IQR\": \"Normal\", \"Outlier_IF\": \"Normal\"}, {\"UMAP_Component_1\": 9.581889152526855, \"UMAP_Component_2\": 2.492401123046875, \"localization_site\": \"ME1\", \"Z1\": -0.27234537976944956, \"Z2\": -1.6077034345028491, \"Outlier_Z\": \"Normal\", \"Outlier_IQR\": \"Normal\", \"Outlier_IF\": \"Normal\"}, {\"UMAP_Component_1\": 9.64494800567627, \"UMAP_Component_2\": 2.342133045196533, \"localization_site\": \"ME1\", \"Z1\": -0.25195471086482785, \"Z2\": -1.668835355057162, \"Outlier_Z\": \"Normal\", \"Outlier_IQR\": \"Normal\", \"Outlier_IF\": \"Normal\"}, {\"UMAP_Component_1\": 10.182023048400879, \"UMAP_Component_2\": 5.0018229484558105, \"localization_site\": \"CYT\", \"Z1\": -0.0782864814857649, \"Z2\": -0.586822766681033, \"Outlier_Z\": \"Normal\", \"Outlier_IQR\": \"Normal\", \"Outlier_IF\": \"Normal\"}, {\"UMAP_Component_1\": 9.706497192382812, \"UMAP_Component_2\": 5.0289506912231445, \"localization_site\": \"CYT\", \"Z1\": -0.23205220669926443, \"Z2\": -0.5757866834397065, \"Outlier_Z\": \"Normal\", \"Outlier_IQR\": \"Normal\", \"Outlier_IF\": \"Normal\"}, {\"UMAP_Component_1\": 10.190342903137207, \"UMAP_Component_2\": 7.9226603507995605, \"localization_site\": \"NUC\", \"Z1\": -0.07559617877979836, \"Z2\": 0.6014296059218505, \"Outlier_Z\": \"Normal\", \"Outlier_IQR\": \"Normal\", \"Outlier_IF\": \"Normal\"}, {\"UMAP_Component_1\": 12.155440330505371, \"UMAP_Component_2\": 7.595456600189209, \"localization_site\": \"NUC\", \"Z1\": 0.5598364211732271, \"Z2\": 0.46831687849808856, \"Outlier_Z\": \"Normal\", \"Outlier_IQR\": \"Normal\", \"Outlier_IF\": \"Normal\"}, {\"UMAP_Component_1\": 12.802993774414062, \"UMAP_Component_2\": 6.98295259475708, \"localization_site\": \"NUC\", \"Z1\": 0.7692288730388438, \"Z2\": 0.21913856508033894, \"Outlier_Z\": \"Normal\", \"Outlier_IQR\": \"Normal\", \"Outlier_IF\": \"Normal\"}, {\"UMAP_Component_1\": 8.797130584716797, \"UMAP_Component_2\": 10.627747535705566, \"localization_site\": \"NUC\", \"Z1\": -0.5261043894419676, \"Z2\": 1.7019106744616344, \"Outlier_Z\": \"Normal\", \"Outlier_IQR\": \"Normal\", \"Outlier_IF\": \"Outlier\"}, {\"UMAP_Component_1\": 8.423857688903809, \"UMAP_Component_2\": 11.043163299560547, \"localization_site\": \"NUC\", \"Z1\": -0.6468056653049704, \"Z2\": 1.8709097315886172, \"Outlier_Z\": \"Normal\", \"Outlier_IQR\": \"Normal\", \"Outlier_IF\": \"Outlier\"}, {\"UMAP_Component_1\": 12.795002937316895, \"UMAP_Component_2\": 6.9403276443481445, \"localization_site\": \"NUC\", \"Z1\": 0.7666449612583195, \"Z2\": 0.2017979221486729, \"Outlier_Z\": \"Normal\", \"Outlier_IQR\": \"Normal\", \"Outlier_IF\": \"Normal\"}, {\"UMAP_Component_1\": 13.432856559753418, \"UMAP_Component_2\": 4.443814277648926, \"localization_site\": \"VAC\", \"Z1\": 0.9729008852901001, \"Z2\": -0.8138313384307685, \"Outlier_Z\": \"Normal\", \"Outlier_IQR\": \"Normal\", \"Outlier_IF\": \"Normal\"}, {\"UMAP_Component_1\": 10.807414054870605, \"UMAP_Component_2\": 7.2589616775512695, \"localization_site\": \"CYT\", \"Z1\": 0.12393953931795852, \"Z2\": 0.33142432505690306, \"Outlier_Z\": \"Normal\", \"Outlier_IQR\": \"Normal\", \"Outlier_IF\": \"Normal\"}, {\"UMAP_Component_1\": 11.914531707763672, \"UMAP_Component_2\": 9.182326316833496, \"localization_site\": \"CYT\", \"Z1\": 0.4819363688054009, \"Z2\": 1.113885750048825, \"Outlier_Z\": \"Normal\", \"Outlier_IQR\": \"Normal\", \"Outlier_IF\": \"Normal\"}, {\"UMAP_Component_1\": 14.422354698181152, \"UMAP_Component_2\": 7.321501731872559, \"localization_site\": \"CYT\", \"Z1\": 1.2928643466396503, \"Z2\": 0.35686681215678545, \"Outlier_Z\": \"Normal\", \"Outlier_IQR\": \"Normal\", \"Outlier_IF\": \"Normal\"}, {\"UMAP_Component_1\": 11.861330032348633, \"UMAP_Component_2\": 9.173924446105957, \"localization_site\": \"CYT\", \"Z1\": 0.46473311035113113, \"Z2\": 1.110467708764401, \"Outlier_Z\": \"Normal\", \"Outlier_IQR\": \"Normal\", \"Outlier_IF\": \"Normal\"}, {\"UMAP_Component_1\": 12.763688087463379, \"UMAP_Component_2\": 9.88888168334961, \"localization_site\": \"CYT\", \"Z1\": 0.7565190121921667, \"Z2\": 1.4013259512611158, \"Outlier_Z\": \"Normal\", \"Outlier_IQR\": \"Normal\", \"Outlier_IF\": \"Outlier\"}, {\"UMAP_Component_1\": 12.788543701171875, \"UMAP_Component_2\": 9.985406875610352, \"localization_site\": \"CYT\", \"Z1\": 0.7645563069452165, \"Z2\": 1.440594240768687, \"Outlier_Z\": \"Normal\", \"Outlier_IQR\": \"Normal\", \"Outlier_IF\": \"Outlier\"}, {\"UMAP_Component_1\": 11.041766166687012, \"UMAP_Component_2\": 4.8102192878723145, \"localization_site\": \"CYT\", \"Z1\": 0.19971948266429, \"Z2\": -0.6647707908007755, \"Outlier_Z\": \"Normal\", \"Outlier_IQR\": \"Normal\", \"Outlier_IF\": \"Normal\"}, {\"UMAP_Component_1\": 9.370017051696777, \"UMAP_Component_2\": 9.098822593688965, \"localization_site\": \"CYT\", \"Z1\": -0.34085620168237396, \"Z2\": 1.0799148425727554, \"Outlier_Z\": \"Normal\", \"Outlier_IQR\": \"Normal\", \"Outlier_IF\": \"Normal\"}, {\"UMAP_Component_1\": 9.552094459533691, \"UMAP_Component_2\": 9.390181541442871, \"localization_site\": \"CYT\", \"Z1\": -0.2819797719221097, \"Z2\": 1.198445220425988, \"Outlier_Z\": \"Normal\", \"Outlier_IQR\": \"Normal\", \"Outlier_IF\": \"Normal\"}, {\"UMAP_Component_1\": 8.247191429138184, \"UMAP_Component_2\": 10.647385597229004, \"localization_site\": \"ME3\", \"Z1\": -0.7039323498160767, \"Z2\": 1.7098998125012326, \"Outlier_Z\": \"Normal\", \"Outlier_IQR\": \"Normal\", \"Outlier_IF\": \"Outlier\"}, {\"UMAP_Component_1\": 8.277660369873047, \"UMAP_Component_2\": 10.070399284362793, \"localization_site\": \"ME3\", \"Z1\": -0.6940799333611334, \"Z2\": 1.4751707739479332, \"Outlier_Z\": \"Normal\", \"Outlier_IQR\": \"Normal\", \"Outlier_IF\": \"Normal\"}, {\"UMAP_Component_1\": 10.613709449768066, \"UMAP_Component_2\": 7.878061771392822, \"localization_site\": \"NUC\", \"Z1\": 0.061303346766412276, \"Z2\": 0.5832860530653132, \"Outlier_Z\": \"Normal\", \"Outlier_IQR\": \"Normal\", \"Outlier_IF\": \"Normal\"}, {\"UMAP_Component_1\": 9.140286445617676, \"UMAP_Component_2\": 8.905400276184082, \"localization_site\": \"MIT\", \"Z1\": -0.4151417380006089, \"Z2\": 1.001226954125045, \"Outlier_Z\": \"Normal\", \"Outlier_IQR\": \"Normal\", \"Outlier_IF\": \"Normal\"}, {\"UMAP_Component_1\": 10.230671882629395, \"UMAP_Component_2\": 4.592002868652344, \"localization_site\": \"CYT\", \"Z1\": -0.06255542673602103, \"Z2\": -0.7535453927936733, \"Outlier_Z\": \"Normal\", \"Outlier_IQR\": \"Normal\", \"Outlier_IF\": \"Normal\"}, {\"UMAP_Component_1\": 11.610749244689941, \"UMAP_Component_2\": 8.78750228881836, \"localization_site\": \"CYT\", \"Z1\": 0.3837054731547959, \"Z2\": 0.9532638038654615, \"Outlier_Z\": \"Normal\", \"Outlier_IQR\": \"Normal\", \"Outlier_IF\": \"Normal\"}, {\"UMAP_Component_1\": 11.114143371582031, \"UMAP_Component_2\": 6.775575160980225, \"localization_site\": \"CYT\", \"Z1\": 0.22312332760513354, \"Z2\": 0.13477346912809074, \"Outlier_Z\": \"Normal\", \"Outlier_IQR\": \"Normal\", \"Outlier_IF\": \"Normal\"}, {\"UMAP_Component_1\": 9.576804161071777, \"UMAP_Component_2\": 5.15468692779541, \"localization_site\": \"CYT\", \"Z1\": -0.27398965923164736, \"Z2\": -0.5246347838819753, \"Outlier_Z\": \"Normal\", \"Outlier_IQR\": \"Normal\", \"Outlier_IF\": \"Normal\"}, {\"UMAP_Component_1\": 11.304939270019531, \"UMAP_Component_2\": 7.581067085266113, \"localization_site\": \"CYT\", \"Z1\": 0.2848189626998712, \"Z2\": 0.46246294933576926, \"Outlier_Z\": \"Normal\", \"Outlier_IQR\": \"Normal\", \"Outlier_IF\": \"Normal\"}, {\"UMAP_Component_1\": 8.90001392364502, \"UMAP_Component_2\": 4.23406982421875, \"localization_site\": \"CYT\", \"Z1\": -0.49283610124591337, \"Z2\": -0.8991593831307966, \"Outlier_Z\": \"Normal\", \"Outlier_IQR\": \"Normal\", \"Outlier_IF\": \"Normal\"}, {\"UMAP_Component_1\": 10.523948669433594, \"UMAP_Component_2\": 4.233204364776611, \"localization_site\": \"CYT\", \"Z1\": 0.032278360408287854, \"Z2\": -0.8995114685411955, \"Outlier_Z\": \"Normal\", \"Outlier_IQR\": \"Normal\", \"Outlier_IF\": \"Normal\"}, {\"UMAP_Component_1\": 12.381513595581055, \"UMAP_Component_2\": 5.167454719543457, \"localization_site\": \"NUC\", \"Z1\": 0.6329393221318356, \"Z2\": -0.5194406026429436, \"Outlier_Z\": \"Normal\", \"Outlier_IQR\": \"Normal\", \"Outlier_IF\": \"Normal\"}, {\"UMAP_Component_1\": 8.96944522857666, \"UMAP_Component_2\": 2.8346118927001953, \"localization_site\": \"ME2\", \"Z1\": -0.47038484056214575, \"Z2\": -1.4684855654614144, \"Outlier_Z\": \"Normal\", \"Outlier_IQR\": \"Normal\", \"Outlier_IF\": \"Normal\"}, {\"UMAP_Component_1\": 12.151859283447266, \"UMAP_Component_2\": 6.401023864746094, \"localization_site\": \"CYT\", \"Z1\": 0.5586784561731235, \"Z2\": -0.0176011430480487, \"Outlier_Z\": \"Normal\", \"Outlier_IQR\": \"Normal\", \"Outlier_IF\": \"Normal\"}, {\"UMAP_Component_1\": 11.751837730407715, \"UMAP_Component_2\": 6.393603801727295, \"localization_site\": \"CYT\", \"Z1\": 0.4293277522614102, \"Z2\": -0.020619766227783293, \"Outlier_Z\": \"Normal\", \"Outlier_IQR\": \"Normal\", \"Outlier_IF\": \"Normal\"}, {\"UMAP_Component_1\": 11.587638854980469, \"UMAP_Component_2\": 7.415452480316162, \"localization_site\": \"CYT\", \"Z1\": 0.3762325128758313, \"Z2\": 0.39508776880995217, \"Outlier_Z\": \"Normal\", \"Outlier_IQR\": \"Normal\", \"Outlier_IF\": \"Normal\"}, {\"UMAP_Component_1\": 11.587185859680176, \"UMAP_Component_2\": 6.373178005218506, \"localization_site\": \"CYT\", \"Z1\": 0.3760860326161644, \"Z2\": -0.02892936988610288, \"Outlier_Z\": \"Normal\", \"Outlier_IQR\": \"Normal\", \"Outlier_IF\": \"Normal\"}, {\"UMAP_Component_1\": 13.959173202514648, \"UMAP_Component_2\": 3.29362154006958, \"localization_site\": \"MIT\", \"Z1\": 1.1430902855969476, \"Z2\": -1.2817516849322803, \"Outlier_Z\": \"Normal\", \"Outlier_IQR\": \"Normal\", \"Outlier_IF\": \"Normal\"}, {\"UMAP_Component_1\": 14.397787094116211, \"UMAP_Component_2\": 7.315196514129639, \"localization_site\": \"NUC\", \"Z1\": 1.2849201824937992, \"Z2\": 0.3543017293018513, \"Outlier_Z\": \"Normal\", \"Outlier_IQR\": \"Normal\", \"Outlier_IF\": \"Normal\"}, {\"UMAP_Component_1\": 9.328722953796387, \"UMAP_Component_2\": 8.32163143157959, \"localization_site\": \"NUC\", \"Z1\": -0.3542090337741153, \"Z2\": 0.763738652278349, \"Outlier_Z\": \"Normal\", \"Outlier_IQR\": \"Normal\", \"Outlier_IF\": \"Normal\"}, {\"UMAP_Component_1\": 10.68372631072998, \"UMAP_Component_2\": 4.7995734214782715, \"localization_site\": \"CYT\", \"Z1\": 0.08394395245951773, \"Z2\": -0.6691017323283608, \"Outlier_Z\": \"Normal\", \"Outlier_IQR\": \"Normal\", \"Outlier_IF\": \"Normal\"}, {\"UMAP_Component_1\": 8.535911560058594, \"UMAP_Component_2\": 6.804957389831543, \"localization_site\": \"CYT\", \"Z1\": -0.6105719998942699, \"Z2\": 0.14672672031452258, \"Outlier_Z\": \"Normal\", \"Outlier_IQR\": \"Normal\", \"Outlier_IF\": \"Normal\"}, {\"UMAP_Component_1\": 11.720943450927734, \"UMAP_Component_2\": 5.676389694213867, \"localization_site\": \"CYT\", \"Z1\": 0.41933779855212705, \"Z2\": -0.3123961466018634, \"Outlier_Z\": \"Normal\", \"Outlier_IQR\": \"Normal\", \"Outlier_IF\": \"Normal\"}, {\"UMAP_Component_1\": 10.628232955932617, \"UMAP_Component_2\": 7.322556495666504, \"localization_site\": \"CYT\", \"Z1\": 0.06599965808108038, \"Z2\": 0.35729591018863255, \"Outlier_Z\": \"Normal\", \"Outlier_IQR\": \"Normal\", \"Outlier_IF\": \"Normal\"}, {\"UMAP_Component_1\": 10.606812477111816, \"UMAP_Component_2\": 7.402630805969238, \"localization_site\": \"CYT\", \"Z1\": 0.05907314626554684, \"Z2\": 0.38987166710184323, \"Outlier_Z\": \"Normal\", \"Outlier_IQR\": \"Normal\", \"Outlier_IF\": \"Normal\"}, {\"UMAP_Component_1\": 6.927792072296143, \"UMAP_Component_2\": 5.325321197509766, \"localization_site\": \"ME3\", \"Z1\": -1.1305724502091317, \"Z2\": -0.45521750797584426, \"Outlier_Z\": \"Normal\", \"Outlier_IQR\": \"Normal\", \"Outlier_IF\": \"Normal\"}, {\"UMAP_Component_1\": 12.29140853881836, \"UMAP_Component_2\": 10.28969669342041, \"localization_site\": \"CYT\", \"Z1\": 0.6038030107763643, \"Z2\": 1.5643851432275386, \"Outlier_Z\": \"Normal\", \"Outlier_IQR\": \"Normal\", \"Outlier_IF\": \"Outlier\"}, {\"UMAP_Component_1\": 13.884954452514648, \"UMAP_Component_2\": 7.345232009887695, \"localization_site\": \"CYT\", \"Z1\": 1.1190909598531211, \"Z2\": 0.3665207419275375, \"Outlier_Z\": \"Normal\", \"Outlier_IQR\": \"Normal\", \"Outlier_IF\": \"Normal\"}, {\"UMAP_Component_1\": 8.37928581237793, \"UMAP_Component_2\": 7.730432987213135, \"localization_site\": \"CYT\", \"Z1\": -0.6612183977177121, \"Z2\": 0.5232278475228782, \"Outlier_Z\": \"Normal\", \"Outlier_IQR\": \"Normal\", \"Outlier_IF\": \"Normal\"}, {\"UMAP_Component_1\": 11.375174522399902, \"UMAP_Component_2\": 9.41518783569336, \"localization_site\": \"CYT\", \"Z1\": 0.30753018729711085, \"Z2\": 1.2086182579423197, \"Outlier_Z\": \"Normal\", \"Outlier_IQR\": \"Normal\", \"Outlier_IF\": \"Normal\"}, {\"UMAP_Component_1\": 10.861462593078613, \"UMAP_Component_2\": 9.563748359680176, \"localization_site\": \"CYT\", \"Z1\": 0.14141663876293195, \"Z2\": 1.2690555130119832, \"Outlier_Z\": \"Normal\", \"Outlier_IQR\": \"Normal\", \"Outlier_IF\": \"Normal\"}, {\"UMAP_Component_1\": 9.149121284484863, \"UMAP_Component_2\": 9.434120178222656, \"localization_site\": \"CYT\", \"Z1\": -0.41228491036786313, \"Z2\": 1.2163202960329427, \"Outlier_Z\": \"Normal\", \"Outlier_IQR\": \"Normal\", \"Outlier_IF\": \"Normal\"}, {\"UMAP_Component_1\": 8.583549499511719, \"UMAP_Component_2\": 10.092985153198242, \"localization_site\": \"NUC\", \"Z1\": -0.5951678274082037, \"Z2\": 1.4843591362338602, \"Outlier_Z\": \"Normal\", \"Outlier_IQR\": \"Normal\", \"Outlier_IF\": \"Normal\"}, {\"UMAP_Component_1\": 7.032891273498535, \"UMAP_Component_2\": 5.602169513702393, \"localization_site\": \"ME3\", \"Z1\": -1.0965876422586858, \"Z2\": -0.34259033184374177, \"Outlier_Z\": \"Normal\", \"Outlier_IQR\": \"Normal\", \"Outlier_IF\": \"Normal\"}, {\"UMAP_Component_1\": 10.576746940612793, \"UMAP_Component_2\": 9.039539337158203, \"localization_site\": \"NUC\", \"Z1\": 0.04935117433658061, \"Z2\": 1.0557972829401043, \"Outlier_Z\": \"Normal\", \"Outlier_IQR\": \"Normal\", \"Outlier_IF\": \"Normal\"}, {\"UMAP_Component_1\": 8.5170259475708, \"UMAP_Component_2\": 8.468844413757324, \"localization_site\": \"NUC\", \"Z1\": -0.6166788390146568, \"Z2\": 0.8236277016346308, \"Outlier_Z\": \"Normal\", \"Outlier_IQR\": \"Normal\", \"Outlier_IF\": \"Normal\"}, {\"UMAP_Component_1\": 13.938618659973145, \"UMAP_Component_2\": 5.175924777984619, \"localization_site\": \"NUC\", \"Z1\": 1.1364437823619982, \"Z2\": -0.5159948212958819, \"Outlier_Z\": \"Normal\", \"Outlier_IQR\": \"Normal\", \"Outlier_IF\": \"Normal\"}, {\"UMAP_Component_1\": 12.118025779724121, \"UMAP_Component_2\": 10.638946533203125, \"localization_site\": \"CYT\", \"Z1\": 0.5477380768632226, \"Z2\": 1.7064666402735515, \"Outlier_Z\": \"Normal\", \"Outlier_IQR\": \"Normal\", \"Outlier_IF\": \"Outlier\"}, {\"UMAP_Component_1\": 9.89721965789795, \"UMAP_Component_2\": 6.831011772155762, \"localization_site\": \"NUC\", \"Z1\": -0.1703803168255675, \"Z2\": 0.1573261400523735, \"Outlier_Z\": \"Normal\", \"Outlier_IQR\": \"Normal\", \"Outlier_IF\": \"Normal\"}, {\"UMAP_Component_1\": 10.666280746459961, \"UMAP_Component_2\": 5.804165363311768, \"localization_site\": \"CYT\", \"Z1\": 0.07830276637512457, \"Z2\": -0.2604145669888835, \"Outlier_Z\": \"Normal\", \"Outlier_IQR\": \"Normal\", \"Outlier_IF\": \"Normal\"}, {\"UMAP_Component_1\": 13.854512214660645, \"UMAP_Component_2\": 7.901028156280518, \"localization_site\": \"CYT\", \"Z1\": 1.109247178024011, \"Z2\": 0.5926292165399445, \"Outlier_Z\": \"Normal\", \"Outlier_IQR\": \"Normal\", \"Outlier_IF\": \"Normal\"}, {\"UMAP_Component_1\": 14.576677322387695, \"UMAP_Component_2\": 7.373959541320801, \"localization_site\": \"CYT\", \"Z1\": 1.3427660079849966, \"Z2\": 0.378207649715359, \"Outlier_Z\": \"Normal\", \"Outlier_IQR\": \"Normal\", \"Outlier_IF\": \"Normal\"}, {\"UMAP_Component_1\": 8.429818153381348, \"UMAP_Component_2\": 6.6986918449401855, \"localization_site\": \"ME3\", \"Z1\": -0.6448782934672479, \"Z2\": 0.10349586955173401, \"Outlier_Z\": \"Normal\", \"Outlier_IQR\": \"Normal\", \"Outlier_IF\": \"Normal\"}, {\"UMAP_Component_1\": 12.034806251525879, \"UMAP_Component_2\": 6.3484954833984375, \"localization_site\": \"NUC\", \"Z1\": 0.5208282654546883, \"Z2\": -0.03897069060151974, \"Outlier_Z\": \"Normal\", \"Outlier_IQR\": \"Normal\", \"Outlier_IF\": \"Normal\"}, {\"UMAP_Component_1\": 10.5006742477417, \"UMAP_Component_2\": 7.5644097328186035, \"localization_site\": \"VAC\", \"Z1\": 0.024752358856349112, \"Z2\": 0.4556864206076882, \"Outlier_Z\": \"Normal\", \"Outlier_IQR\": \"Normal\", \"Outlier_IF\": \"Normal\"}, {\"UMAP_Component_1\": 12.203563690185547, \"UMAP_Component_2\": 10.761162757873535, \"localization_site\": \"MIT\", \"Z1\": 0.5753975588217574, \"Z2\": 1.7561865318425418, \"Outlier_Z\": \"Normal\", \"Outlier_IQR\": \"Normal\", \"Outlier_IF\": \"Outlier\"}, {\"UMAP_Component_1\": 8.304227828979492, \"UMAP_Component_2\": 10.165800094604492, \"localization_site\": \"CYT\", \"Z1\": -0.6854890974162897, \"Z2\": 1.5139816434016637, \"Outlier_Z\": \"Normal\", \"Outlier_IQR\": \"Normal\", \"Outlier_IF\": \"Normal\"}, {\"UMAP_Component_1\": 9.312968254089355, \"UMAP_Component_2\": 6.685906410217285, \"localization_site\": \"VAC\", \"Z1\": -0.35930346301558336, \"Z2\": 0.09829451081397785, \"Outlier_Z\": \"Normal\", \"Outlier_IQR\": \"Normal\", \"Outlier_IF\": \"Normal\"}, {\"UMAP_Component_1\": 8.992691040039062, \"UMAP_Component_2\": 2.9682583808898926, \"localization_site\": \"VAC\", \"Z1\": -0.4628680903950281, \"Z2\": -1.4141156246512818, \"Outlier_Z\": \"Normal\", \"Outlier_IQR\": \"Normal\", \"Outlier_IF\": \"Normal\"}, {\"UMAP_Component_1\": 11.91841983795166, \"UMAP_Component_2\": 9.253631591796875, \"localization_site\": \"VAC\", \"Z1\": 0.4831936320025841, \"Z2\": 1.1428940961095637, \"Outlier_Z\": \"Normal\", \"Outlier_IQR\": \"Normal\", \"Outlier_IF\": \"Normal\"}, {\"UMAP_Component_1\": 8.852054595947266, \"UMAP_Component_2\": 3.005793571472168, \"localization_site\": \"VAC\", \"Z1\": -0.5083441976214694, \"Z2\": -1.3988455931083754, \"Outlier_Z\": \"Normal\", \"Outlier_IQR\": \"Normal\", \"Outlier_IF\": \"Normal\"}, {\"UMAP_Component_1\": 11.330099105834961, \"UMAP_Component_2\": 6.662081718444824, \"localization_site\": \"VAC\", \"Z1\": 0.2929546305115183, \"Z2\": 0.08860217172572778, \"Outlier_Z\": \"Normal\", \"Outlier_IQR\": \"Normal\", \"Outlier_IF\": \"Normal\"}, {\"UMAP_Component_1\": 10.52837085723877, \"UMAP_Component_2\": 4.821497440338135, \"localization_site\": \"VAC\", \"Z1\": 0.03370831612213092, \"Z2\": -0.6601826232378244, \"Outlier_Z\": \"Normal\", \"Outlier_IQR\": \"Normal\", \"Outlier_IF\": \"Normal\"}, {\"UMAP_Component_1\": 10.733597755432129, \"UMAP_Component_2\": 5.845777988433838, \"localization_site\": \"VAC\", \"Z1\": 0.10007034972061524, \"Z2\": -0.24348575729483565, \"Outlier_Z\": \"Normal\", \"Outlier_IQR\": \"Normal\", \"Outlier_IF\": \"Normal\"}, {\"UMAP_Component_1\": 10.635686874389648, \"UMAP_Component_2\": 4.713061809539795, \"localization_site\": \"VAC\", \"Z1\": 0.06840995220646261, \"Z2\": -0.7042963063437125, \"Outlier_Z\": \"Normal\", \"Outlier_IQR\": \"Normal\", \"Outlier_IF\": \"Normal\"}, {\"UMAP_Component_1\": 13.874022483825684, \"UMAP_Component_2\": 7.139547824859619, \"localization_site\": \"VAC\", \"Z1\": 1.1155560057129912, \"Z2\": 0.28284449186637833, \"Outlier_Z\": \"Normal\", \"Outlier_IQR\": \"Normal\", \"Outlier_IF\": \"Normal\"}, {\"UMAP_Component_1\": 7.180422306060791, \"UMAP_Component_2\": 4.934108257293701, \"localization_site\": \"VAC\", \"Z1\": -1.048882105480114, \"Z2\": -0.6143703947581328, \"Outlier_Z\": \"Normal\", \"Outlier_IQR\": \"Normal\", \"Outlier_IF\": \"Normal\"}, {\"UMAP_Component_1\": 6.327770233154297, \"UMAP_Component_2\": 6.085063934326172, \"localization_site\": \"VAC\", \"Z1\": -1.3245951139022671, \"Z2\": -0.14613966993340424, \"Outlier_Z\": \"Normal\", \"Outlier_IQR\": \"Normal\", \"Outlier_IF\": \"Normal\"}, {\"UMAP_Component_1\": 9.195173263549805, \"UMAP_Component_2\": 7.724058628082275, \"localization_site\": \"CYT\", \"Z1\": -0.3973935729803782, \"Z2\": 0.5206346366324026, \"Outlier_Z\": \"Normal\", \"Outlier_IQR\": \"Normal\", \"Outlier_IF\": \"Normal\"}, {\"UMAP_Component_1\": 9.508865356445312, \"UMAP_Component_2\": 4.206200122833252, \"localization_site\": \"CYT\", \"Z1\": -0.29595830600724926, \"Z2\": -0.9104973092914512, \"Outlier_Z\": \"Normal\", \"Outlier_IQR\": \"Normal\", \"Outlier_IF\": \"Normal\"}, {\"UMAP_Component_1\": 10.859667778015137, \"UMAP_Component_2\": 7.877932548522949, \"localization_site\": \"CYT\", \"Z1\": 0.14083626855515696, \"Z2\": 0.5832334827368184, \"Outlier_Z\": \"Normal\", \"Outlier_IQR\": \"Normal\", \"Outlier_IF\": \"Normal\"}, {\"UMAP_Component_1\": 13.033956527709961, \"UMAP_Component_2\": 8.12527847290039, \"localization_site\": \"CYT\", \"Z1\": 0.8439128356633727, \"Z2\": 0.6838585230965823, \"Outlier_Z\": \"Normal\", \"Outlier_IQR\": \"Normal\", \"Outlier_IF\": \"Normal\"}, {\"UMAP_Component_1\": 10.729601860046387, \"UMAP_Component_2\": 4.783101558685303, \"localization_site\": \"CYT\", \"Z1\": 0.09877823964060609, \"Z2\": -0.6758028003266098, \"Outlier_Z\": \"Normal\", \"Outlier_IQR\": \"Normal\", \"Outlier_IF\": \"Normal\"}, {\"UMAP_Component_1\": 8.673965454101562, \"UMAP_Component_2\": 4.25822114944458, \"localization_site\": \"CYT\", \"Z1\": -0.5659309843376769, \"Z2\": -0.8893341633229193, \"Outlier_Z\": \"Normal\", \"Outlier_IQR\": \"Normal\", \"Outlier_IF\": \"Normal\"}, {\"UMAP_Component_1\": 9.757245063781738, \"UMAP_Component_2\": 7.129143238067627, \"localization_site\": \"VAC\", \"Z1\": -0.2156424086831482, \"Z2\": 0.2786117074835104, \"Outlier_Z\": \"Normal\", \"Outlier_IQR\": \"Normal\", \"Outlier_IF\": \"Normal\"}, {\"UMAP_Component_1\": 10.636678695678711, \"UMAP_Component_2\": 6.461146831512451, \"localization_site\": \"CYT\", \"Z1\": 0.06873066688025962, \"Z2\": 0.006858026726592756, \"Outlier_Z\": \"Normal\", \"Outlier_IQR\": \"Normal\", \"Outlier_IF\": \"Normal\"}, {\"UMAP_Component_1\": 12.10707950592041, \"UMAP_Component_2\": 10.66836166381836, \"localization_site\": \"CYT\", \"Z1\": 0.544198497030682, \"Z2\": 1.7184332765251722, \"Outlier_Z\": \"Normal\", \"Outlier_IQR\": \"Normal\", \"Outlier_IF\": \"Outlier\"}, {\"UMAP_Component_1\": 9.150017738342285, \"UMAP_Component_2\": 2.1912217140197754, \"localization_site\": \"ME1\", \"Z1\": -0.4119950336434697, \"Z2\": -1.7302289633352368, \"Outlier_Z\": \"Normal\", \"Outlier_IQR\": \"Normal\", \"Outlier_IF\": \"Normal\"}, {\"UMAP_Component_1\": 8.366079330444336, \"UMAP_Component_2\": 7.9271769523620605, \"localization_site\": \"NUC\", \"Z1\": -0.665488836951117, \"Z2\": 0.6032670455952934, \"Outlier_Z\": \"Normal\", \"Outlier_IQR\": \"Normal\", \"Outlier_IF\": \"Normal\"}, {\"UMAP_Component_1\": 9.095111846923828, \"UMAP_Component_2\": 2.1725776195526123, \"localization_site\": \"ME1\", \"Z1\": -0.4297493662535811, \"Z2\": -1.7378137366156194, \"Outlier_Z\": \"Normal\", \"Outlier_IQR\": \"Normal\", \"Outlier_IF\": \"Normal\"}, {\"UMAP_Component_1\": 8.407580375671387, \"UMAP_Component_2\": 10.148031234741211, \"localization_site\": \"MIT\", \"Z1\": -0.65206908650917, \"Z2\": 1.5067529322539464, \"Outlier_Z\": \"Normal\", \"Outlier_IQR\": \"Normal\", \"Outlier_IF\": \"Normal\"}, {\"UMAP_Component_1\": 8.85397720336914, \"UMAP_Component_2\": 3.0138919353485107, \"localization_site\": \"ME1\", \"Z1\": -0.5077225045614937, \"Z2\": -1.395551024200656, \"Outlier_Z\": \"Normal\", \"Outlier_IQR\": \"Normal\", \"Outlier_IF\": \"Normal\"}, {\"UMAP_Component_1\": 8.937167167663574, \"UMAP_Component_2\": 9.749056816101074, \"localization_site\": \"NUC\", \"Z1\": -0.48082225291727454, \"Z2\": 1.3444425279922838, \"Outlier_Z\": \"Normal\", \"Outlier_IQR\": \"Normal\", \"Outlier_IF\": \"Normal\"}, {\"UMAP_Component_1\": 7.262634754180908, \"UMAP_Component_2\": 5.138323783874512, \"localization_site\": \"ME3\", \"Z1\": -1.0222979428172814, \"Z2\": -0.5312916229691659, \"Outlier_Z\": \"Normal\", \"Outlier_IQR\": \"Normal\", \"Outlier_IF\": \"Normal\"}, {\"UMAP_Component_1\": 8.272339820861816, \"UMAP_Component_2\": 5.241675853729248, \"localization_site\": \"ME3\", \"Z1\": -0.695800382558358, \"Z2\": -0.48924602942816114, \"Outlier_Z\": \"Normal\", \"Outlier_IQR\": \"Normal\", \"Outlier_IF\": \"Normal\"}, {\"UMAP_Component_1\": 10.362056732177734, \"UMAP_Component_2\": 7.115879535675049, \"localization_site\": \"NUC\", \"Z1\": -0.020070908981218945, \"Z2\": 0.2732157803343877, \"Outlier_Z\": \"Normal\", \"Outlier_IQR\": \"Normal\", \"Outlier_IF\": \"Normal\"}, {\"UMAP_Component_1\": 9.162277221679688, \"UMAP_Component_2\": 2.008683681488037, \"localization_site\": \"ME1\", \"Z1\": -0.40803081524764206, \"Z2\": -1.8044889170293568, \"Outlier_Z\": \"Normal\", \"Outlier_IQR\": \"Normal\", \"Outlier_IF\": \"Normal\"}, {\"UMAP_Component_1\": 9.849350929260254, \"UMAP_Component_2\": 1.4897773265838623, \"localization_site\": \"ME2\", \"Z1\": -0.18585911714919026, \"Z2\": -2.0155899207616534, \"Outlier_Z\": \"Normal\", \"Outlier_IQR\": \"Normal\", \"Outlier_IF\": \"Outlier\"}, {\"UMAP_Component_1\": 7.67597770690918, \"UMAP_Component_2\": 5.820054054260254, \"localization_site\": \"ME3\", \"Z1\": -0.8886396399431319, \"Z2\": -0.25395074442144333, \"Outlier_Z\": \"Normal\", \"Outlier_IQR\": \"Normal\", \"Outlier_IF\": \"Normal\"}, {\"UMAP_Component_1\": 8.574440956115723, \"UMAP_Component_2\": 8.533334732055664, \"localization_site\": \"NUC\", \"Z1\": -0.5981131599557378, \"Z2\": 0.849863593323236, \"Outlier_Z\": \"Normal\", \"Outlier_IQR\": \"Normal\", \"Outlier_IF\": \"Normal\"}, {\"UMAP_Component_1\": 10.510767936706543, \"UMAP_Component_2\": 6.393970966339111, \"localization_site\": \"CYT\", \"Z1\": 0.028016247421221867, \"Z2\": -0.02047039665973525, \"Outlier_Z\": \"Normal\", \"Outlier_IQR\": \"Normal\", \"Outlier_IF\": \"Normal\"}, {\"UMAP_Component_1\": 12.03724193572998, \"UMAP_Component_2\": 5.760051250457764, \"localization_site\": \"CYT\", \"Z1\": 0.5216158666824552, \"Z2\": -0.27836102961017817, \"Outlier_Z\": \"Normal\", \"Outlier_IQR\": \"Normal\", \"Outlier_IF\": \"Normal\"}, {\"UMAP_Component_1\": 9.53271484375, \"UMAP_Component_2\": 2.4231557846069336, \"localization_site\": \"ME1\", \"Z1\": -0.28824635162040707, \"Z2\": -1.6358737590909025, \"Outlier_Z\": \"Normal\", \"Outlier_IQR\": \"Normal\", \"Outlier_IF\": \"Normal\"}, {\"UMAP_Component_1\": 10.382040977478027, \"UMAP_Component_2\": 9.281335830688477, \"localization_site\": \"ME3\", \"Z1\": -0.01360881668370301, \"Z2\": 1.1541647089713707, \"Outlier_Z\": \"Normal\", \"Outlier_IQR\": \"Normal\", \"Outlier_IF\": \"Normal\"}, {\"UMAP_Component_1\": 10.426493644714355, \"UMAP_Component_2\": 7.523009777069092, \"localization_site\": \"ME3\", \"Z1\": 0.0007653682922842353, \"Z2\": 0.438844128871237, \"Outlier_Z\": \"Normal\", \"Outlier_IQR\": \"Normal\", \"Outlier_IF\": \"Normal\"}, {\"UMAP_Component_1\": 13.387001037597656, \"UMAP_Component_2\": 7.996980667114258, \"localization_site\": \"MIT\", \"Z1\": 0.9580730740783865, \"Z2\": 0.631664528318651, \"Outlier_Z\": \"Normal\", \"Outlier_IQR\": \"Normal\", \"Outlier_IF\": \"Normal\"}, {\"UMAP_Component_1\": 13.962974548339844, \"UMAP_Component_2\": 4.377730369567871, \"localization_site\": \"MIT\", \"Z1\": 1.1443194862601733, \"Z2\": -0.8407155328419925, \"Outlier_Z\": \"Normal\", \"Outlier_IQR\": \"Normal\", \"Outlier_IF\": \"Normal\"}, {\"UMAP_Component_1\": 12.35785961151123, \"UMAP_Component_2\": 9.075935363769531, \"localization_site\": \"NUC\", \"Z1\": 0.6252905855412707, \"Z2\": 1.0706038808491578, \"Outlier_Z\": \"Normal\", \"Outlier_IQR\": \"Normal\", \"Outlier_IF\": \"Normal\"}, {\"UMAP_Component_1\": 5.974320888519287, \"UMAP_Component_2\": 6.502607345581055, \"localization_site\": \"ME3\", \"Z1\": -1.4388862594124991, \"Z2\": 0.023724954742449268, \"Outlier_Z\": \"Normal\", \"Outlier_IQR\": \"Normal\", \"Outlier_IF\": \"Outlier\"}, {\"UMAP_Component_1\": 10.3493070602417, \"UMAP_Component_2\": 9.574352264404297, \"localization_site\": \"NUC\", \"Z1\": -0.024193634436980842, \"Z2\": 1.2733693837317914, \"Outlier_Z\": \"Normal\", \"Outlier_IQR\": \"Normal\", \"Outlier_IF\": \"Normal\"}, {\"UMAP_Component_1\": 7.882842540740967, \"UMAP_Component_2\": 6.227188587188721, \"localization_site\": \"ME3\", \"Z1\": -0.8217479645636414, \"Z2\": -0.0883206500065259, \"Outlier_Z\": \"Normal\", \"Outlier_IQR\": \"Normal\", \"Outlier_IF\": \"Normal\"}, {\"UMAP_Component_1\": 12.096933364868164, \"UMAP_Component_2\": 9.280191421508789, \"localization_site\": \"CYT\", \"Z1\": 0.5409176475936373, \"Z2\": 1.1536991414865456, \"Outlier_Z\": \"Normal\", \"Outlier_IQR\": \"Normal\", \"Outlier_IF\": \"Normal\"}, {\"UMAP_Component_1\": 10.078588485717773, \"UMAP_Component_2\": 5.774888515472412, \"localization_site\": \"MIT\", \"Z1\": -0.11173301302937172, \"Z2\": -0.272324947169421, \"Outlier_Z\": \"Normal\", \"Outlier_IQR\": \"Normal\", \"Outlier_IF\": \"Normal\"}, {\"UMAP_Component_1\": 6.925605773925781, \"UMAP_Component_2\": 5.369287967681885, \"localization_site\": \"ME3\", \"Z1\": -1.1312794101992083, \"Z2\": -0.43733098716822083, \"Outlier_Z\": \"Normal\", \"Outlier_IQR\": \"Normal\", \"Outlier_IF\": \"Normal\"}, {\"UMAP_Component_1\": 6.913569927215576, \"UMAP_Component_2\": 6.008715629577637, \"localization_site\": \"ME3\", \"Z1\": -1.1351713136036845, \"Z2\": -0.17719961671060525, \"Outlier_Z\": \"Normal\", \"Outlier_IQR\": \"Normal\", \"Outlier_IF\": \"Normal\"}, {\"UMAP_Component_1\": 8.48448371887207, \"UMAP_Component_2\": 10.96640396118164, \"localization_site\": \"NUC\", \"Z1\": -0.6272016724896334, \"Z2\": 1.839682568489783, \"Outlier_Z\": \"Normal\", \"Outlier_IQR\": \"Normal\", \"Outlier_IF\": \"Outlier\"}, {\"UMAP_Component_1\": 6.6598663330078125, \"UMAP_Component_2\": 6.1259894371032715, \"localization_site\": \"ME3\", \"Z1\": -1.2172087394532394, \"Z2\": -0.12949039471670346, \"Outlier_Z\": \"Normal\", \"Outlier_IQR\": \"Normal\", \"Outlier_IF\": \"Normal\"}, {\"UMAP_Component_1\": 8.676092147827148, \"UMAP_Component_2\": 10.259289741516113, \"localization_site\": \"NUC\", \"Z1\": -0.5652432980659775, \"Z2\": 1.5520150151557364, \"Outlier_Z\": \"Normal\", \"Outlier_IQR\": \"Normal\", \"Outlier_IF\": \"Normal\"}, {\"UMAP_Component_1\": 7.616537570953369, \"UMAP_Component_2\": 5.375324726104736, \"localization_site\": \"ME3\", \"Z1\": -0.9078601628576356, \"Z2\": -0.43487511868576856, \"Outlier_Z\": \"Normal\", \"Outlier_IQR\": \"Normal\", \"Outlier_IF\": \"Normal\"}, {\"UMAP_Component_1\": 9.497733116149902, \"UMAP_Component_2\": 2.3397305011749268, \"localization_site\": \"ME1\", \"Z1\": -0.2995580198411268, \"Z2\": -1.6698127557956166, \"Outlier_Z\": \"Normal\", \"Outlier_IQR\": \"Normal\", \"Outlier_IF\": \"Normal\"}, {\"UMAP_Component_1\": 11.269233703613281, \"UMAP_Component_2\": 8.247298240661621, \"localization_site\": \"NUC\", \"Z1\": 0.27327323444317847, \"Z2\": 0.7334984922473442, \"Outlier_Z\": \"Normal\", \"Outlier_IQR\": \"Normal\", \"Outlier_IF\": \"Normal\"}, {\"UMAP_Component_1\": -4.676384925842285, \"UMAP_Component_2\": 0.2425300031900406, \"localization_site\": \"POX\", \"Z1\": -4.882891423074351, \"Z2\": -2.5229939241670043, \"Outlier_Z\": \"Outlier\", \"Outlier_IQR\": \"Outlier\", \"Outlier_IF\": \"Outlier\"}, {\"UMAP_Component_1\": -4.6738080978393555, \"UMAP_Component_2\": 0.24117286503314972, \"localization_site\": \"POX\", \"Z1\": -4.882058181681468, \"Z2\": -2.5235460338577327, \"Outlier_Z\": \"Outlier\", \"Outlier_IQR\": \"Outlier\", \"Outlier_IF\": \"Outlier\"}, {\"UMAP_Component_1\": 7.702319622039795, \"UMAP_Component_2\": 5.489763259887695, \"localization_site\": \"ME3\", \"Z1\": -0.8801217357486276, \"Z2\": -0.3883193401355209, \"Outlier_Z\": \"Normal\", \"Outlier_IQR\": \"Normal\", \"Outlier_IF\": \"Normal\"}, {\"UMAP_Component_1\": 9.05428695678711, \"UMAP_Component_2\": 4.320349216461182, \"localization_site\": \"MIT\", \"Z1\": -0.44295047563425693, \"Z2\": -0.864059280517574, \"Outlier_Z\": \"Normal\", \"Outlier_IQR\": \"Normal\", \"Outlier_IF\": \"Normal\"}, {\"UMAP_Component_1\": 8.204947471618652, \"UMAP_Component_2\": 3.7762250900268555, \"localization_site\": \"ME3\", \"Z1\": -0.7175923278838775, \"Z2\": -1.0854193547576692, \"Outlier_Z\": \"Normal\", \"Outlier_IQR\": \"Normal\", \"Outlier_IF\": \"Normal\"}, {\"UMAP_Component_1\": 8.988081932067871, \"UMAP_Component_2\": 2.6387758255004883, \"localization_site\": \"ME1\", \"Z1\": -0.4643584884897021, \"Z2\": -1.5481554133292017, \"Outlier_Z\": \"Normal\", \"Outlier_IQR\": \"Normal\", \"Outlier_IF\": \"Normal\"}, {\"UMAP_Component_1\": 7.833505630493164, \"UMAP_Component_2\": 4.612701416015625, \"localization_site\": \"ME3\", \"Z1\": -0.837701515118332, \"Z2\": -0.7451248288848037, \"Outlier_Z\": \"Normal\", \"Outlier_IQR\": \"Normal\", \"Outlier_IF\": \"Normal\"}, {\"UMAP_Component_1\": 14.430802345275879, \"UMAP_Component_2\": 7.231432914733887, \"localization_site\": \"ME2\", \"Z1\": 1.2955959721978176, \"Z2\": 0.3202250992094358, \"Outlier_Z\": \"Normal\", \"Outlier_IQR\": \"Normal\", \"Outlier_IF\": \"Normal\"}, {\"UMAP_Component_1\": 13.952451705932617, \"UMAP_Component_2\": 6.806492805480957, \"localization_site\": \"CYT\", \"Z1\": 1.1409168269229846, \"Z2\": 0.14735135668999622, \"Outlier_Z\": \"Normal\", \"Outlier_IQR\": \"Normal\", \"Outlier_IF\": \"Normal\"}, {\"UMAP_Component_1\": 14.675558090209961, \"UMAP_Component_2\": 3.768018960952759, \"localization_site\": \"MIT\", \"Z1\": 1.3747400274445833, \"Z2\": -1.088757764603543, \"Outlier_Z\": \"Normal\", \"Outlier_IQR\": \"Normal\", \"Outlier_IF\": \"Normal\"}, {\"UMAP_Component_1\": 8.31991195678711, \"UMAP_Component_2\": 5.342562198638916, \"localization_site\": \"ME3\", \"Z1\": -0.6804174882573804, \"Z2\": -0.4482035398305025, \"Outlier_Z\": \"Normal\", \"Outlier_IQR\": \"Normal\", \"Outlier_IF\": \"Normal\"}, {\"UMAP_Component_1\": 8.965262413024902, \"UMAP_Component_2\": 2.4616165161132812, \"localization_site\": \"ME1\", \"Z1\": -0.4717373930229859, \"Z2\": -1.6202271998446438, \"Outlier_Z\": \"Normal\", \"Outlier_IQR\": \"Normal\", \"Outlier_IF\": \"Normal\"}, {\"UMAP_Component_1\": 6.799889087677002, \"UMAP_Component_2\": 5.265371799468994, \"localization_site\": \"ME3\", \"Z1\": -1.17193107443121, \"Z2\": -0.47960606668195394, \"Outlier_Z\": \"Normal\", \"Outlier_IQR\": \"Normal\", \"Outlier_IF\": \"Normal\"}, {\"UMAP_Component_1\": 6.055748462677002, \"UMAP_Component_2\": 6.2807416915893555, \"localization_site\": \"ME3\", \"Z1\": -1.4125558930732578, \"Z2\": -0.06653422556768442, \"Outlier_Z\": \"Normal\", \"Outlier_IQR\": \"Normal\", \"Outlier_IF\": \"Normal\"}, {\"UMAP_Component_1\": 8.983463287353516, \"UMAP_Component_2\": 3.4073617458343506, \"localization_site\": \"ME3\", \"Z1\": -0.4658519703793165, \"Z2\": -1.235479999541002, \"Outlier_Z\": \"Normal\", \"Outlier_IQR\": \"Normal\", \"Outlier_IF\": \"Normal\"}, {\"UMAP_Component_1\": 8.528970718383789, \"UMAP_Component_2\": 3.37511944770813, \"localization_site\": \"ME2\", \"Z1\": -0.6128163858518609, \"Z2\": -1.2485967814665924, \"Outlier_Z\": \"Normal\", \"Outlier_IQR\": \"Normal\", \"Outlier_IF\": \"Normal\"}, {\"UMAP_Component_1\": 11.612872123718262, \"UMAP_Component_2\": 7.664955139160156, \"localization_site\": \"MIT\", \"Z1\": 0.38439192590851917, \"Z2\": 0.49659020989215946, \"Outlier_Z\": \"Normal\", \"Outlier_IQR\": \"Normal\", \"Outlier_IF\": \"Normal\"}, {\"UMAP_Component_1\": 7.490084648132324, \"UMAP_Component_2\": 5.408924579620361, \"localization_site\": \"ME3\", \"Z1\": -0.9487498960590326, \"Z2\": -0.4212060573313043, \"Outlier_Z\": \"Normal\", \"Outlier_IQR\": \"Normal\", \"Outlier_IF\": \"Normal\"}, {\"UMAP_Component_1\": 9.759936332702637, \"UMAP_Component_2\": 8.766194343566895, \"localization_site\": \"ME3\", \"Z1\": -0.21477216175097977, \"Z2\": 0.9445953252709226, \"Outlier_Z\": \"Normal\", \"Outlier_IQR\": \"Normal\", \"Outlier_IF\": \"Normal\"}, {\"UMAP_Component_1\": 7.382843971252441, \"UMAP_Component_2\": 6.286775588989258, \"localization_site\": \"ME3\", \"Z1\": -0.9834271701633355, \"Z2\": -0.06407952100394419, \"Outlier_Z\": \"Normal\", \"Outlier_IQR\": \"Normal\", \"Outlier_IF\": \"Normal\"}, {\"UMAP_Component_1\": 9.190303802490234, \"UMAP_Component_2\": 2.054443359375, \"localization_site\": \"ME1\", \"Z1\": -0.3989681586769239, \"Z2\": -1.785873007162174, \"Outlier_Z\": \"Normal\", \"Outlier_IQR\": \"Normal\", \"Outlier_IF\": \"Normal\"}, {\"UMAP_Component_1\": 10.936381340026855, \"UMAP_Component_2\": 5.812086582183838, \"localization_site\": \"NUC\", \"Z1\": 0.16564231505538038, \"Z2\": -0.2571920640480859, \"Outlier_Z\": \"Normal\", \"Outlier_IQR\": \"Normal\", \"Outlier_IF\": \"Normal\"}, {\"UMAP_Component_1\": 9.942147254943848, \"UMAP_Component_2\": 1.7582744359970093, \"localization_site\": \"EXC\", \"Z1\": -0.15585255886155053, \"Z2\": -1.9063601748534489, \"Outlier_Z\": \"Normal\", \"Outlier_IQR\": \"Normal\", \"Outlier_IF\": \"Outlier\"}, {\"UMAP_Component_1\": 6.903204917907715, \"UMAP_Component_2\": 6.005305290222168, \"localization_site\": \"ME3\", \"Z1\": -1.1385229361346105, \"Z2\": -0.17858700781538397, \"Outlier_Z\": \"Normal\", \"Outlier_IQR\": \"Normal\", \"Outlier_IF\": \"Normal\"}, {\"UMAP_Component_1\": 9.200106620788574, \"UMAP_Component_2\": 8.732242584228516, \"localization_site\": \"NUC\", \"Z1\": -0.39579832585773206, \"Z2\": 0.9307831019148746, \"Outlier_Z\": \"Normal\", \"Outlier_IQR\": \"Normal\", \"Outlier_IF\": \"Normal\"}, {\"UMAP_Component_1\": 8.439092636108398, \"UMAP_Component_2\": 4.61740779876709, \"localization_site\": \"ME3\", \"Z1\": -0.6418793028877517, \"Z2\": -0.7432101826034606, \"Outlier_Z\": \"Normal\", \"Outlier_IQR\": \"Normal\", \"Outlier_IF\": \"Normal\"}, {\"UMAP_Component_1\": 11.555410385131836, \"UMAP_Component_2\": 6.323428630828857, \"localization_site\": \"CYT\", \"Z1\": 0.3658111362543923, \"Z2\": -0.049168364397257025, \"Outlier_Z\": \"Normal\", \"Outlier_IQR\": \"Normal\", \"Outlier_IF\": \"Normal\"}, {\"UMAP_Component_1\": 8.217464447021484, \"UMAP_Component_2\": 10.982911109924316, \"localization_site\": \"CYT\", \"Z1\": -0.7135448470246603, \"Z2\": 1.846397991485481, \"Outlier_Z\": \"Normal\", \"Outlier_IQR\": \"Normal\", \"Outlier_IF\": \"Outlier\"}, {\"UMAP_Component_1\": 8.780611991882324, \"UMAP_Component_2\": 5.337219715118408, \"localization_site\": \"ME3\", \"Z1\": -0.5314458306581582, \"Z2\": -0.45037696403882754, \"Outlier_Z\": \"Normal\", \"Outlier_IQR\": \"Normal\", \"Outlier_IF\": \"Normal\"}, {\"UMAP_Component_1\": 6.388049602508545, \"UMAP_Component_2\": 6.222447872161865, \"localization_site\": \"ME3\", \"Z1\": -1.3051032170330124, \"Z2\": -0.09024926331241379, \"Outlier_Z\": \"Normal\", \"Outlier_IQR\": \"Normal\", \"Outlier_IF\": \"Normal\"}, {\"UMAP_Component_1\": 11.259781837463379, \"UMAP_Component_2\": 7.894484519958496, \"localization_site\": \"NUC\", \"Z1\": 0.27021688527779164, \"Z2\": 0.5899671404590051, \"Outlier_Z\": \"Normal\", \"Outlier_IQR\": \"Normal\", \"Outlier_IF\": \"Normal\"}, {\"UMAP_Component_1\": 7.571777820587158, \"UMAP_Component_2\": 5.564514636993408, \"localization_site\": \"ME3\", \"Z1\": -0.9223336460307022, \"Z2\": -0.3579090539861029, \"Outlier_Z\": \"Normal\", \"Outlier_IQR\": \"Normal\", \"Outlier_IF\": \"Normal\"}, {\"UMAP_Component_1\": 9.669559478759766, \"UMAP_Component_2\": 2.3526217937469482, \"localization_site\": \"EXC\", \"Z1\": -0.2439963612622512, \"Z2\": -1.6645683320655142, \"Outlier_Z\": \"Normal\", \"Outlier_IQR\": \"Normal\", \"Outlier_IF\": \"Normal\"}, {\"UMAP_Component_1\": 9.232216835021973, \"UMAP_Component_2\": 4.133509159088135, \"localization_site\": \"ME3\", \"Z1\": -0.3854151882935535, \"Z2\": -0.9400693799817321, \"Outlier_Z\": \"Normal\", \"Outlier_IQR\": \"Normal\", \"Outlier_IF\": \"Normal\"}, {\"UMAP_Component_1\": 12.290633201599121, \"UMAP_Component_2\": 9.791726112365723, \"localization_site\": \"NUC\", \"Z1\": 0.6035522982477134, \"Z2\": 1.3618012116639868, \"Outlier_Z\": \"Normal\", \"Outlier_IQR\": \"Normal\", \"Outlier_IF\": \"Normal\"}, {\"UMAP_Component_1\": 9.204952239990234, \"UMAP_Component_2\": 2.1808786392211914, \"localization_site\": \"ME1\", \"Z1\": -0.3942314496485372, \"Z2\": -1.7344367234657956, \"Outlier_Z\": \"Normal\", \"Outlier_IQR\": \"Normal\", \"Outlier_IF\": \"Normal\"}, {\"UMAP_Component_1\": 8.521601676940918, \"UMAP_Component_2\": 3.275533437728882, \"localization_site\": \"ME3\", \"Z1\": -0.615199234202274, \"Z2\": -1.2891102700096186, \"Outlier_Z\": \"Normal\", \"Outlier_IQR\": \"Normal\", \"Outlier_IF\": \"Normal\"}, {\"UMAP_Component_1\": 9.235075950622559, \"UMAP_Component_2\": 10.2916259765625, \"localization_site\": \"NUC\", \"Z1\": -0.3844906665704348, \"Z2\": 1.5651700124123729, \"Outlier_Z\": \"Normal\", \"Outlier_IQR\": \"Normal\", \"Outlier_IF\": \"Normal\"}, {\"UMAP_Component_1\": 7.850952625274658, \"UMAP_Component_2\": 5.2412109375, \"localization_site\": \"ME3\", \"Z1\": -0.8320598664646978, \"Z2\": -0.48943516621887134, \"Outlier_Z\": \"Normal\", \"Outlier_IQR\": \"Normal\", \"Outlier_IF\": \"Normal\"}, {\"UMAP_Component_1\": 6.290884971618652, \"UMAP_Component_2\": 6.055763244628906, \"localization_site\": \"ME3\", \"Z1\": -1.336522307593082, \"Z2\": -0.1580597494365423, \"Outlier_Z\": \"Normal\", \"Outlier_IQR\": \"Normal\", \"Outlier_IF\": \"Normal\"}, {\"UMAP_Component_1\": 9.321279525756836, \"UMAP_Component_2\": 5.550515651702881, \"localization_site\": \"ME3\", \"Z1\": -0.3566159357250631, \"Z2\": -0.3636041082442256, \"Outlier_Z\": \"Normal\", \"Outlier_IQR\": \"Normal\", \"Outlier_IF\": \"Normal\"}, {\"UMAP_Component_1\": 9.071784973144531, \"UMAP_Component_2\": 6.2830376625061035, \"localization_site\": \"ME3\", \"Z1\": -0.4372923286776918, \"Z2\": -0.0656001808012541, \"Outlier_Z\": \"Normal\", \"Outlier_IQR\": \"Normal\", \"Outlier_IF\": \"Normal\"}, {\"UMAP_Component_1\": 6.0473504066467285, \"UMAP_Component_2\": 6.646332740783691, \"localization_site\": \"ME3\", \"Z1\": -1.4152714828977353, \"Z2\": 0.08219518718872668, \"Outlier_Z\": \"Normal\", \"Outlier_IQR\": \"Normal\", \"Outlier_IF\": \"Outlier\"}, {\"UMAP_Component_1\": 13.470464706420898, \"UMAP_Component_2\": 3.8825430870056152, \"localization_site\": \"ME3\", \"Z1\": 0.9850618306373939, \"Z2\": -1.0421671654851594, \"Outlier_Z\": \"Normal\", \"Outlier_IQR\": \"Normal\", \"Outlier_IF\": \"Normal\"}, {\"UMAP_Component_1\": 9.824483871459961, \"UMAP_Component_2\": 2.8531746864318848, \"localization_site\": \"ME1\", \"Z1\": -0.19390011245616845, \"Z2\": -1.4609338668710996, \"Outlier_Z\": \"Normal\", \"Outlier_IQR\": \"Normal\", \"Outlier_IF\": \"Normal\"}, {\"UMAP_Component_1\": 7.447179794311523, \"UMAP_Component_2\": 5.155240535736084, \"localization_site\": \"ME3\", \"Z1\": -0.9626235811162001, \"Z2\": -0.5244095656111912, \"Outlier_Z\": \"Normal\", \"Outlier_IQR\": \"Normal\", \"Outlier_IF\": \"Normal\"}, {\"UMAP_Component_1\": 9.050275802612305, \"UMAP_Component_2\": 2.3323984146118164, \"localization_site\": \"ME2\", \"Z1\": -0.44424751978617066, \"Z2\": -1.6727955884749552, \"Outlier_Z\": \"Normal\", \"Outlier_IQR\": \"Normal\", \"Outlier_IF\": \"Normal\"}, {\"UMAP_Component_1\": 8.999408721923828, \"UMAP_Component_2\": 10.255247116088867, \"localization_site\": \"NUC\", \"Z1\": -0.4606958652390413, \"Z2\": 1.5503703980155918, \"Outlier_Z\": \"Normal\", \"Outlier_IQR\": \"Normal\", \"Outlier_IF\": \"Normal\"}, {\"UMAP_Component_1\": 9.818416595458984, \"UMAP_Component_2\": 1.6267367601394653, \"localization_site\": \"ME1\", \"Z1\": -0.19586202279722292, \"Z2\": -1.9598722105795652, \"Outlier_Z\": \"Normal\", \"Outlier_IQR\": \"Normal\", \"Outlier_IF\": \"Outlier\"}, {\"UMAP_Component_1\": 10.137066841125488, \"UMAP_Component_2\": 2.3507213592529297, \"localization_site\": \"ME1\", \"Z1\": -0.09282349083460295, \"Z2\": -1.6653414650700018, \"Outlier_Z\": \"Normal\", \"Outlier_IQR\": \"Normal\", \"Outlier_IF\": \"Normal\"}, {\"UMAP_Component_1\": 7.363373279571533, \"UMAP_Component_2\": 5.081898212432861, \"localization_site\": \"ME3\", \"Z1\": -0.9897232001033132, \"Z2\": -0.5542466217949183, \"Outlier_Z\": \"Normal\", \"Outlier_IQR\": \"Normal\", \"Outlier_IF\": \"Normal\"}, {\"UMAP_Component_1\": 13.768589973449707, \"UMAP_Component_2\": 3.3183231353759766, \"localization_site\": \"ME2\", \"Z1\": 1.0814634191293797, \"Z2\": -1.271702604758783, \"Outlier_Z\": \"Normal\", \"Outlier_IQR\": \"Normal\", \"Outlier_IF\": \"Normal\"}, {\"UMAP_Component_1\": 8.188064575195312, \"UMAP_Component_2\": 3.823045015335083, \"localization_site\": \"ME3\", \"Z1\": -0.7230515700667897, \"Z2\": -1.0663721160144413, \"Outlier_Z\": \"Normal\", \"Outlier_IQR\": \"Normal\", \"Outlier_IF\": \"Normal\"}, {\"UMAP_Component_1\": 9.862892150878906, \"UMAP_Component_2\": 9.193401336669922, \"localization_site\": \"NUC\", \"Z1\": -0.18148043671337882, \"Z2\": 1.1183912793832198, \"Outlier_Z\": \"Normal\", \"Outlier_IQR\": \"Normal\", \"Outlier_IF\": \"Normal\"}, {\"UMAP_Component_1\": 9.770990371704102, \"UMAP_Component_2\": 3.062439441680908, \"localization_site\": \"POX\", \"Z1\": -0.21119773503561318, \"Z2\": -1.3758009725417941, \"Outlier_Z\": \"Normal\", \"Outlier_IQR\": \"Normal\", \"Outlier_IF\": \"Normal\"}, {\"UMAP_Component_1\": 8.587023735046387, \"UMAP_Component_2\": 3.048711061477661, \"localization_site\": \"ME1\", \"Z1\": -0.5940444009114321, \"Z2\": -1.381385939488401, \"Outlier_Z\": \"Normal\", \"Outlier_IQR\": \"Normal\", \"Outlier_IF\": \"Normal\"}, {\"UMAP_Component_1\": 9.294477462768555, \"UMAP_Component_2\": 4.954700946807861, \"localization_site\": \"MIT\", \"Z1\": -0.36528263302543956, \"Z2\": -0.6059928958416095, \"Outlier_Z\": \"Normal\", \"Outlier_IQR\": \"Normal\", \"Outlier_IF\": \"Normal\"}, {\"UMAP_Component_1\": 6.954233169555664, \"UMAP_Component_2\": 5.130612850189209, \"localization_site\": \"ME3\", \"Z1\": -1.1220224745472478, \"Z2\": -0.5344285778846268, \"Outlier_Z\": \"Normal\", \"Outlier_IQR\": \"Normal\", \"Outlier_IF\": \"Normal\"}, {\"UMAP_Component_1\": 14.174873352050781, \"UMAP_Component_2\": 7.631607532501221, \"localization_site\": \"CYT\", \"Z1\": 1.2128389427989308, \"Z2\": 0.4830237673708087, \"Outlier_Z\": \"Normal\", \"Outlier_IQR\": \"Normal\", \"Outlier_IF\": \"Normal\"}, {\"UMAP_Component_1\": 9.808125495910645, \"UMAP_Component_2\": 10.164886474609375, \"localization_site\": \"NUC\", \"Z1\": -0.19918974591736105, \"Z2\": 1.5136099653596118, \"Outlier_Z\": \"Normal\", \"Outlier_IQR\": \"Normal\", \"Outlier_IF\": \"Normal\"}, {\"UMAP_Component_1\": 8.546981811523438, \"UMAP_Component_2\": 10.927336692810059, \"localization_site\": \"NUC\", \"Z1\": -0.6069923307275047, \"Z2\": 1.8237892584765671, \"Outlier_Z\": \"Normal\", \"Outlier_IQR\": \"Normal\", \"Outlier_IF\": \"Outlier\"}, {\"UMAP_Component_1\": 9.836825370788574, \"UMAP_Component_2\": 5.1005330085754395, \"localization_site\": \"MIT\", \"Z1\": -0.1899093734238538, \"Z2\": -0.54666563125035, \"Outlier_Z\": \"Normal\", \"Outlier_IQR\": \"Normal\", \"Outlier_IF\": \"Normal\"}, {\"UMAP_Component_1\": 9.204180717468262, \"UMAP_Component_2\": 2.1258814334869385, \"localization_site\": \"ME1\", \"Z1\": -0.39448092865921197, \"Z2\": -1.7568106358745506, \"Outlier_Z\": \"Normal\", \"Outlier_IQR\": \"Normal\", \"Outlier_IF\": \"Normal\"}, {\"UMAP_Component_1\": 12.51572322845459, \"UMAP_Component_2\": 8.059834480285645, \"localization_site\": \"NUC\", \"Z1\": 0.6763372599479711, \"Z2\": 0.6572346585039563, \"Outlier_Z\": \"Normal\", \"Outlier_IQR\": \"Normal\", \"Outlier_IF\": \"Normal\"}, {\"UMAP_Component_1\": 8.539003372192383, \"UMAP_Component_2\": 10.347553253173828, \"localization_site\": \"NUC\", \"Z1\": -0.6095722335746064, \"Z2\": 1.5879222953957743, \"Outlier_Z\": \"Normal\", \"Outlier_IQR\": \"Normal\", \"Outlier_IF\": \"Normal\"}, {\"UMAP_Component_1\": 8.738920211791992, \"UMAP_Component_2\": 9.22920036315918, \"localization_site\": \"ME3\", \"Z1\": -0.5449272569989123, \"Z2\": 1.1329550062543563, \"Outlier_Z\": \"Normal\", \"Outlier_IQR\": \"Normal\", \"Outlier_IF\": \"Normal\"}, {\"UMAP_Component_1\": 14.766304969787598, \"UMAP_Component_2\": 3.687899589538574, \"localization_site\": \"NUC\", \"Z1\": 1.4040838781995406, \"Z2\": -1.1213518532364686, \"Outlier_Z\": \"Normal\", \"Outlier_IQR\": \"Normal\", \"Outlier_IF\": \"Outlier\"}, {\"UMAP_Component_1\": 8.777944564819336, \"UMAP_Component_2\": 10.735340118408203, \"localization_site\": \"NUC\", \"Z1\": -0.5323083681029758, \"Z2\": 1.745681389520368, \"Outlier_Z\": \"Normal\", \"Outlier_IQR\": \"Normal\", \"Outlier_IF\": \"Outlier\"}, {\"UMAP_Component_1\": 9.649065017700195, \"UMAP_Component_2\": 1.6515108346939087, \"localization_site\": \"ME1\", \"Z1\": -0.25062343658907615, \"Z2\": -1.9497936444653623, \"Outlier_Z\": \"Normal\", \"Outlier_IQR\": \"Normal\", \"Outlier_IF\": \"Outlier\"}, {\"UMAP_Component_1\": 12.103322982788086, \"UMAP_Component_2\": 10.523859977722168, \"localization_site\": \"CYT\", \"Z1\": 0.5429837902036758, \"Z2\": 1.659647234135022, \"Outlier_Z\": \"Normal\", \"Outlier_IQR\": \"Normal\", \"Outlier_IF\": \"Normal\"}, {\"UMAP_Component_1\": 9.023183822631836, \"UMAP_Component_2\": 4.964881420135498, \"localization_site\": \"MIT\", \"Z1\": -0.4530079644527339, \"Z2\": -0.6018512850911865, \"Outlier_Z\": \"Normal\", \"Outlier_IQR\": \"Normal\", \"Outlier_IF\": \"Normal\"}, {\"UMAP_Component_1\": 8.350162506103516, \"UMAP_Component_2\": 10.987530708312988, \"localization_site\": \"CYT\", \"Z1\": -0.6706356907065711, \"Z2\": 1.848277332232558, \"Outlier_Z\": \"Normal\", \"Outlier_IQR\": \"Normal\", \"Outlier_IF\": \"Outlier\"}, {\"UMAP_Component_1\": 13.90131664276123, \"UMAP_Component_2\": 3.443952798843384, \"localization_site\": \"MIT\", \"Z1\": 1.12438182683229, \"Z2\": -1.2205940611730761, \"Outlier_Z\": \"Normal\", \"Outlier_IQR\": \"Normal\", \"Outlier_IF\": \"Normal\"}, {\"UMAP_Component_1\": 9.696410179138184, \"UMAP_Component_2\": 2.404470920562744, \"localization_site\": \"POX\", \"Z1\": -0.23531393660767896, \"Z2\": -1.643475118212932, \"Outlier_Z\": \"Normal\", \"Outlier_IQR\": \"Normal\", \"Outlier_IF\": \"Normal\"}, {\"UMAP_Component_1\": 14.713157653808594, \"UMAP_Component_2\": 3.916705369949341, \"localization_site\": \"MIT\", \"Z1\": 1.3868981973764307, \"Z2\": -1.028269297110549, \"Outlier_Z\": \"Normal\", \"Outlier_IQR\": \"Normal\", \"Outlier_IF\": \"Normal\"}, {\"UMAP_Component_1\": 9.6160306930542, \"UMAP_Component_2\": 9.237369537353516, \"localization_site\": \"NUC\", \"Z1\": -0.2613053938829752, \"Z2\": 1.1362783821501994, \"Outlier_Z\": \"Normal\", \"Outlier_IQR\": \"Normal\", \"Outlier_IF\": \"Normal\"}, {\"UMAP_Component_1\": 11.197174072265625, \"UMAP_Component_2\": 9.660811424255371, \"localization_site\": \"NUC\", \"Z1\": 0.24997207987384876, \"Z2\": 1.308542619237422, \"Outlier_Z\": \"Normal\", \"Outlier_IQR\": \"Normal\", \"Outlier_IF\": \"Normal\"}, {\"UMAP_Component_1\": 8.338302612304688, \"UMAP_Component_2\": 10.056560516357422, \"localization_site\": \"NUC\", \"Z1\": -0.6744706980943979, \"Z2\": 1.469540899137686, \"Outlier_Z\": \"Normal\", \"Outlier_IQR\": \"Normal\", \"Outlier_IF\": \"Normal\"}, {\"UMAP_Component_1\": 6.050821304321289, \"UMAP_Component_2\": 6.246866703033447, \"localization_site\": \"ME3\", \"Z1\": -1.4141491357291927, \"Z2\": -0.0803152171049587, \"Outlier_Z\": \"Normal\", \"Outlier_IQR\": \"Normal\", \"Outlier_IF\": \"Normal\"}, {\"UMAP_Component_1\": 13.193389892578125, \"UMAP_Component_2\": 7.70493221282959, \"localization_site\": \"CYT\", \"Z1\": 0.8954671027172557, \"Z2\": 0.5128536460558114, \"Outlier_Z\": \"Normal\", \"Outlier_IQR\": \"Normal\", \"Outlier_IF\": \"Normal\"}, {\"UMAP_Component_1\": 9.349458694458008, \"UMAP_Component_2\": 6.147341728210449, \"localization_site\": \"MIT\", \"Z1\": -0.3475039384352993, \"Z2\": -0.12080387538212756, \"Outlier_Z\": \"Normal\", \"Outlier_IQR\": \"Normal\", \"Outlier_IF\": \"Normal\"}, {\"UMAP_Component_1\": 11.574506759643555, \"UMAP_Component_2\": 8.061650276184082, \"localization_site\": \"MIT\", \"Z1\": 0.3719861272429611, \"Z2\": 0.6579733589132121, \"Outlier_Z\": \"Normal\", \"Outlier_IQR\": \"Normal\", \"Outlier_IF\": \"Normal\"}, {\"UMAP_Component_1\": 13.150437355041504, \"UMAP_Component_2\": 3.7225258350372314, \"localization_site\": \"MIT\", \"Z1\": 0.8815779986853866, \"Z2\": -1.1072652360440518, \"Outlier_Z\": \"Normal\", \"Outlier_IQR\": \"Normal\", \"Outlier_IF\": \"Normal\"}, {\"UMAP_Component_1\": 12.149782180786133, \"UMAP_Component_2\": 10.650683403015137, \"localization_site\": \"MIT\", \"Z1\": 0.558006805635114, \"Z2\": 1.7112414228033368, \"Outlier_Z\": \"Normal\", \"Outlier_IQR\": \"Normal\", \"Outlier_IF\": \"Outlier\"}, {\"UMAP_Component_1\": 8.14541244506836, \"UMAP_Component_2\": 10.684418678283691, \"localization_site\": \"NUC\", \"Z1\": -0.7368435345580377, \"Z2\": 1.724965576310172, \"Outlier_Z\": \"Normal\", \"Outlier_IQR\": \"Normal\", \"Outlier_IF\": \"Outlier\"}, {\"UMAP_Component_1\": 10.625443458557129, \"UMAP_Component_2\": 5.276063919067383, \"localization_site\": \"CYT\", \"Z1\": 0.06509764806102626, \"Z2\": -0.4752563084685236, \"Outlier_Z\": \"Normal\", \"Outlier_IQR\": \"Normal\", \"Outlier_IF\": \"Normal\"}, {\"UMAP_Component_1\": 10.661080360412598, \"UMAP_Component_2\": 5.528045177459717, \"localization_site\": \"CYT\", \"Z1\": 0.07662117299414845, \"Z2\": -0.372745525808766, \"Outlier_Z\": \"Normal\", \"Outlier_IQR\": \"Normal\", \"Outlier_IF\": \"Normal\"}, {\"UMAP_Component_1\": 10.719684600830078, \"UMAP_Component_2\": 4.462361812591553, \"localization_site\": \"CYT\", \"Z1\": 0.09557140128212992, \"Z2\": -0.806285847406918, \"Outlier_Z\": \"Normal\", \"Outlier_IQR\": \"Normal\", \"Outlier_IF\": \"Normal\"}, {\"UMAP_Component_1\": 11.385272979736328, \"UMAP_Component_2\": 5.0395026206970215, \"localization_site\": \"CYT\", \"Z1\": 0.31079561775945375, \"Z2\": -0.5714939572431673, \"Outlier_Z\": \"Normal\", \"Outlier_IQR\": \"Normal\", \"Outlier_IF\": \"Normal\"}, {\"UMAP_Component_1\": 13.30212688446045, \"UMAP_Component_2\": 8.134523391723633, \"localization_site\": \"CYT\", \"Z1\": 0.9306282242477005, \"Z2\": 0.687619532428161, \"Outlier_Z\": \"Normal\", \"Outlier_IQR\": \"Normal\", \"Outlier_IF\": \"Normal\"}, {\"UMAP_Component_1\": 13.31800365447998, \"UMAP_Component_2\": 8.088719367980957, \"localization_site\": \"CYT\", \"Z1\": 0.9357621260644051, \"Z2\": 0.6689855818209413, \"Outlier_Z\": \"Normal\", \"Outlier_IQR\": \"Normal\", \"Outlier_IF\": \"Normal\"}, {\"UMAP_Component_1\": 9.386406898498535, \"UMAP_Component_2\": 2.922579050064087, \"localization_site\": \"ME2\", \"Z1\": -0.33555639169787815, \"Z2\": -1.4326988478013007, \"Outlier_Z\": \"Normal\", \"Outlier_IQR\": \"Normal\", \"Outlier_IF\": \"Normal\"}, {\"UMAP_Component_1\": 8.758707046508789, \"UMAP_Component_2\": 9.58663272857666, \"localization_site\": \"NUC\", \"Z1\": -0.5385289992566618, \"Z2\": 1.2783653108168687, \"Outlier_Z\": \"Normal\", \"Outlier_IQR\": \"Normal\", \"Outlier_IF\": \"Normal\"}, {\"UMAP_Component_1\": 8.87703800201416, \"UMAP_Component_2\": 3.127716541290283, \"localization_site\": \"ME2\", \"Z1\": -0.5002655800162189, \"Z2\": -1.3492450032073717, \"Outlier_Z\": \"Normal\", \"Outlier_IQR\": \"Normal\", \"Outlier_IF\": \"Normal\"}, {\"UMAP_Component_1\": 11.94262409210205, \"UMAP_Component_2\": 9.899109840393066, \"localization_site\": \"NUC\", \"Z1\": 0.4910203035612075, \"Z2\": 1.4054869606567397, \"Outlier_Z\": \"Normal\", \"Outlier_IQR\": \"Normal\", \"Outlier_IF\": \"Normal\"}, {\"UMAP_Component_1\": 10.612223625183105, \"UMAP_Component_2\": 4.8778533935546875, \"localization_site\": \"CYT\", \"Z1\": 0.06082289151470482, \"Z2\": -0.6372559464340655, \"Outlier_Z\": \"Normal\", \"Outlier_IQR\": \"Normal\", \"Outlier_IF\": \"Normal\"}]}}, {\"mode\": \"vega-lite\"});\n",
       "</script>"
      ],
      "text/plain": [
       "alt.VConcatChart(...)"
      ]
     },
     "execution_count": 39,
     "metadata": {},
     "output_type": "execute_result"
    }
   ],
   "source": [
    "from Implementations.visualization import create_outlier_plots\n",
    "outlier_plot = create_outlier_plots(merged_datasets, 'UMAP_Component_1', 'UMAP_Component_2', contamination=0.1)\n",
    "\n",
    "# Display the grid plot\n",
    "outlier_plot"
   ]
  },
  {
   "cell_type": "markdown",
   "metadata": {},
   "source": [
    "<font size=\"+9\" color=\"grey\"><b>2.2. 2D</b></font><font size=\"+1\" color=\"grey\"><b> ( Anomaly Identification) </b></font><br>\n",
    "\n",
    "<h2 style=\"font-size: 1.2em;\">2D Types or More</h2>\n",
    "<ul>\n",
    "    <li>Scattered Plot</li>\n",
    "    <li>Density Contour Plot</li>\n",
    "    <li>Heatmap Plot</li>\n",
    "    <li>Parallel Co-ordinate Plot</li>\n",
    "    <li>Dendrogram Plot</li>\n",
    "</ul>"
   ]
  },
  {
   "cell_type": "code",
   "execution_count": 40,
   "metadata": {},
   "outputs": [
    {
     "data": {
      "text/plain": [
       "array(['MIT', 'NUC', 'CYT', 'ME1', 'EXC', 'ME2', 'ME3', 'VAC', 'POX',\n",
       "       'ERL'], dtype=object)"
      ]
     },
     "execution_count": 40,
     "metadata": {},
     "output_type": "execute_result"
    }
   ],
   "source": [
    "merged_datasets['localization_site'].unique()"
   ]
  },
  {
   "cell_type": "code",
   "execution_count": 41,
   "metadata": {},
   "outputs": [
    {
     "data": {
      "text/html": [
       "<div>\n",
       "<style scoped>\n",
       "    .dataframe tbody tr th:only-of-type {\n",
       "        vertical-align: middle;\n",
       "    }\n",
       "\n",
       "    .dataframe tbody tr th {\n",
       "        vertical-align: top;\n",
       "    }\n",
       "\n",
       "    .dataframe thead th {\n",
       "        text-align: right;\n",
       "    }\n",
       "</style>\n",
       "<table border=\"1\" class=\"dataframe\">\n",
       "  <thead>\n",
       "    <tr style=\"text-align: right;\">\n",
       "      <th></th>\n",
       "      <th>UMAP_Component_1</th>\n",
       "      <th>UMAP_Component_2</th>\n",
       "      <th>localization_site</th>\n",
       "      <th>Z1</th>\n",
       "      <th>Z2</th>\n",
       "      <th>Outlier_Z</th>\n",
       "      <th>Outlier_IQR</th>\n",
       "      <th>Outlier_IF</th>\n",
       "    </tr>\n",
       "  </thead>\n",
       "  <tbody>\n",
       "    <tr>\n",
       "      <th>0</th>\n",
       "      <td>9.542462</td>\n",
       "      <td>4.898843</td>\n",
       "      <td>MIT</td>\n",
       "      <td>-0.285094</td>\n",
       "      <td>-0.628717</td>\n",
       "      <td>Normal</td>\n",
       "      <td>Normal</td>\n",
       "      <td>Normal</td>\n",
       "    </tr>\n",
       "    <tr>\n",
       "      <th>1</th>\n",
       "      <td>9.299116</td>\n",
       "      <td>5.506402</td>\n",
       "      <td>MIT</td>\n",
       "      <td>-0.363783</td>\n",
       "      <td>-0.381550</td>\n",
       "      <td>Normal</td>\n",
       "      <td>Normal</td>\n",
       "      <td>Normal</td>\n",
       "    </tr>\n",
       "    <tr>\n",
       "      <th>2</th>\n",
       "      <td>9.571456</td>\n",
       "      <td>4.387489</td>\n",
       "      <td>MIT</td>\n",
       "      <td>-0.275719</td>\n",
       "      <td>-0.836745</td>\n",
       "      <td>Normal</td>\n",
       "      <td>Normal</td>\n",
       "      <td>Normal</td>\n",
       "    </tr>\n",
       "    <tr>\n",
       "      <th>3</th>\n",
       "      <td>11.698423</td>\n",
       "      <td>6.441824</td>\n",
       "      <td>NUC</td>\n",
       "      <td>0.412056</td>\n",
       "      <td>-0.001003</td>\n",
       "      <td>Normal</td>\n",
       "      <td>Normal</td>\n",
       "      <td>Normal</td>\n",
       "    </tr>\n",
       "    <tr>\n",
       "      <th>4</th>\n",
       "      <td>14.248354</td>\n",
       "      <td>4.603813</td>\n",
       "      <td>MIT</td>\n",
       "      <td>1.236600</td>\n",
       "      <td>-0.748741</td>\n",
       "      <td>Normal</td>\n",
       "      <td>Normal</td>\n",
       "      <td>Normal</td>\n",
       "    </tr>\n",
       "    <tr>\n",
       "      <th>...</th>\n",
       "      <td>...</td>\n",
       "      <td>...</td>\n",
       "      <td>...</td>\n",
       "      <td>...</td>\n",
       "      <td>...</td>\n",
       "      <td>...</td>\n",
       "      <td>...</td>\n",
       "      <td>...</td>\n",
       "    </tr>\n",
       "    <tr>\n",
       "      <th>1479</th>\n",
       "      <td>9.386407</td>\n",
       "      <td>2.922579</td>\n",
       "      <td>ME2</td>\n",
       "      <td>-0.335556</td>\n",
       "      <td>-1.432699</td>\n",
       "      <td>Normal</td>\n",
       "      <td>Normal</td>\n",
       "      <td>Normal</td>\n",
       "    </tr>\n",
       "    <tr>\n",
       "      <th>1480</th>\n",
       "      <td>8.758707</td>\n",
       "      <td>9.586633</td>\n",
       "      <td>NUC</td>\n",
       "      <td>-0.538529</td>\n",
       "      <td>1.278365</td>\n",
       "      <td>Normal</td>\n",
       "      <td>Normal</td>\n",
       "      <td>Normal</td>\n",
       "    </tr>\n",
       "    <tr>\n",
       "      <th>1481</th>\n",
       "      <td>8.877038</td>\n",
       "      <td>3.127717</td>\n",
       "      <td>ME2</td>\n",
       "      <td>-0.500266</td>\n",
       "      <td>-1.349245</td>\n",
       "      <td>Normal</td>\n",
       "      <td>Normal</td>\n",
       "      <td>Normal</td>\n",
       "    </tr>\n",
       "    <tr>\n",
       "      <th>1482</th>\n",
       "      <td>11.942624</td>\n",
       "      <td>9.899110</td>\n",
       "      <td>NUC</td>\n",
       "      <td>0.491020</td>\n",
       "      <td>1.405487</td>\n",
       "      <td>Normal</td>\n",
       "      <td>Normal</td>\n",
       "      <td>Normal</td>\n",
       "    </tr>\n",
       "    <tr>\n",
       "      <th>1483</th>\n",
       "      <td>10.612224</td>\n",
       "      <td>4.877853</td>\n",
       "      <td>CYT</td>\n",
       "      <td>0.060823</td>\n",
       "      <td>-0.637256</td>\n",
       "      <td>Normal</td>\n",
       "      <td>Normal</td>\n",
       "      <td>Normal</td>\n",
       "    </tr>\n",
       "  </tbody>\n",
       "</table>\n",
       "<p>1484 rows × 8 columns</p>\n",
       "</div>"
      ],
      "text/plain": [
       "      UMAP_Component_1  UMAP_Component_2 localization_site        Z1  \\\n",
       "0             9.542462          4.898843               MIT -0.285094   \n",
       "1             9.299116          5.506402               MIT -0.363783   \n",
       "2             9.571456          4.387489               MIT -0.275719   \n",
       "3            11.698423          6.441824               NUC  0.412056   \n",
       "4            14.248354          4.603813               MIT  1.236600   \n",
       "...                ...               ...               ...       ...   \n",
       "1479          9.386407          2.922579               ME2 -0.335556   \n",
       "1480          8.758707          9.586633               NUC -0.538529   \n",
       "1481          8.877038          3.127717               ME2 -0.500266   \n",
       "1482         11.942624          9.899110               NUC  0.491020   \n",
       "1483         10.612224          4.877853               CYT  0.060823   \n",
       "\n",
       "            Z2 Outlier_Z Outlier_IQR Outlier_IF  \n",
       "0    -0.628717    Normal      Normal     Normal  \n",
       "1    -0.381550    Normal      Normal     Normal  \n",
       "2    -0.836745    Normal      Normal     Normal  \n",
       "3    -0.001003    Normal      Normal     Normal  \n",
       "4    -0.748741    Normal      Normal     Normal  \n",
       "...        ...       ...         ...        ...  \n",
       "1479 -1.432699    Normal      Normal     Normal  \n",
       "1480  1.278365    Normal      Normal     Normal  \n",
       "1481 -1.349245    Normal      Normal     Normal  \n",
       "1482  1.405487    Normal      Normal     Normal  \n",
       "1483 -0.637256    Normal      Normal     Normal  \n",
       "\n",
       "[1484 rows x 8 columns]"
      ]
     },
     "execution_count": 41,
     "metadata": {},
     "output_type": "execute_result"
    }
   ],
   "source": [
    "merged_datasets"
   ]
  },
  {
   "cell_type": "code",
   "execution_count": 42,
   "metadata": {},
   "outputs": [
    {
     "name": "stderr",
     "output_type": "stream",
     "text": [
      "/var/folders/95/gt0pqtjx3r76yhhy2b1fc02c0000gp/T/ipykernel_3476/3104139403.py:2: FutureWarning:\n",
      "\n",
      "Downcasting behavior in `replace` is deprecated and will be removed in a future version. To retain the old behavior, explicitly call `result.infer_objects(copy=False)`. To opt-in to the future behavior, set `pd.set_option('future.no_silent_downcasting', True)`\n",
      "\n"
     ]
    }
   ],
   "source": [
    "from Implementations.visualization import create_2Dinteractive_plots\n",
    "merged_datasets['Class2'] = merged_datasets['localization_site'].replace({\n",
    "    'MIT': 0, 'NUC': 1, 'CYT': 2, 'ME1': 3, 'EXC': 4, 'ME2': 5, 'ME3': 6, 'VAC': 7, 'POX': 8, 'ERL': 9})\n",
    "scatter_widget, contour_widget, density_widget, parallel_widget, dendro_widget, grid_layout = create_2Dinteractive_plots(\n",
    "    merged_datasets, 'UMAP_Component_1', 'UMAP_Component_2', target_numeric=\"Class2\", target=\"localization_site\"\n",
    ")\n"
   ]
  },
  {
   "cell_type": "markdown",
   "metadata": {},
   "source": [
    "<font size=\"+1\" color=\"grey\"><b> 2.2.1 Scatter Plot</b></font><br/>"
   ]
  },
  {
   "cell_type": "code",
   "execution_count": 43,
   "metadata": {},
   "outputs": [],
   "source": [
    "scatter_plot_2d = (scatter_widget.update_layout(\n",
    "    width=800,\n",
    "    height=600,\n",
    "    xaxis=dict(\n",
    "        range=[-8, 15],\n",
    "        gridcolor='LightGray',\n",
    "        showgrid=True,\n",
    "        zeroline=True,         # Show 0 line\n",
    "        zerolinecolor=\"gray\",  # Set color for 0 line\n",
    "        zerolinewidth=1,\n",
    "        title_font=dict(size=20), \n",
    "        tickfont=dict(size=16)  \n",
    "    ),\n",
    "    yaxis=dict(\n",
    "        range=[0, 12],\n",
    "        gridcolor='LightGray',\n",
    "        showgrid=True,\n",
    "        zeroline=True,         # Show 0 line\n",
    "        zerolinecolor=\"gray\",  # Set color for 0 line\n",
    "        zerolinewidth=1 ,\n",
    "        title_font=dict(size=20), \n",
    "        tickfont=dict(size=16) \n",
    "    ),\n",
    "    plot_bgcolor='rgba(0,0,0,0)',\n",
    "    paper_bgcolor='rgba(0,0,0,0)'\n",
    "\n",
    "))\n",
    "\n",
    "# scatter_plot_2d.write_image(\"../../images/case3_2d_scatter_plot.png\", width=800, height=400, scale=2)"
   ]
  },
  {
   "cell_type": "markdown",
   "metadata": {},
   "source": [
    "<font size=\"+1\" color=\"grey\"><b> 2.2.2 Heatmap Plot</b></font><br/>"
   ]
  },
  {
   "cell_type": "code",
   "execution_count": 44,
   "metadata": {},
   "outputs": [],
   "source": [
    "\n",
    "heatmap_2d = (density_widget.update_layout(\n",
    "    # width=800,\n",
    "    # height=600,\n",
    "    font=dict(size=18),\n",
    "    title_font=dict(size=24),\n",
    "    xaxis=dict(title_font=dict(size=20), tickfont=dict(size=16)),\n",
    "    yaxis=dict(title_font=dict(size=20), tickfont=dict(size=16))\n",
    "))\n",
    "\n",
    "# heatmap_2d.write_image(\"../../images/case3_2d_heatmap_plot.png\", width=800, height=400, scale=2)"
   ]
  },
  {
   "cell_type": "markdown",
   "metadata": {},
   "source": [
    "<font size=\"+1\" color=\"grey\"><b> 2.2.3 Parallel Coordinate Plot</b></font><br/>"
   ]
  },
  {
   "cell_type": "code",
   "execution_count": 45,
   "metadata": {},
   "outputs": [],
   "source": [
    "parallel_plot_2d = (parallel_widget.update_layout(\n",
    "    # width=800,\n",
    "    # height=600,\n",
    "    font=dict(size=18),\n",
    "    title_font=dict(size=24),\n",
    "    xaxis=dict(title_font=dict(size=20), tickfont=dict(size=16)),\n",
    "    yaxis=dict(title_font=dict(size=20), tickfont=dict(size=16))\n",
    "))\n",
    "\n",
    "# parallel_plot_2d.write_image(\"../../images/case3_2d_parallel_plot.png\", width=800, height=400, scale=2)"
   ]
  },
  {
   "cell_type": "markdown",
   "metadata": {},
   "source": [
    "<font size=\"+1\" color=\"grey\"><b> 2.2.4 Radar Plot</b></font><br/>"
   ]
  },
  {
   "cell_type": "code",
   "execution_count": 46,
   "metadata": {},
   "outputs": [
    {
     "name": "stderr",
     "output_type": "stream",
     "text": [
      "/var/folders/95/gt0pqtjx3r76yhhy2b1fc02c0000gp/T/ipykernel_3476/3073923612.py:28: FutureWarning:\n",
      "\n",
      "Series.__getitem__ treating keys as positions is deprecated. In a future version, integer keys will always be treated as labels (consistent with DataFrame behavior). To access a value by position, use `ser.iloc[pos]`\n",
      "\n"
     ]
    }
   ],
   "source": [
    "import plotly.graph_objects as go\n",
    "\n",
    "# Custom color scheme\n",
    "color_scheme = [\n",
    "    \"#543005\", \"#8c510a\", \"#bf812d\", \"#dfc27d\", \"#f6e8c3\", \n",
    "    \"#f5f5f5\", \"#c7eae5\", \"#80cdc1\", \"#35978f\", \"#01665e\"\n",
    "]\n",
    "\n",
    "# Drop rows with NaN values in specified columns\n",
    "df = df.dropna(subset=[\"mcg\", \"gvh\", \"alm\", \"mit\", \"erl\", \"pox\", \"vac\", \"nuc\", \"localization_site\"])\n",
    "\n",
    "# Group by localization_site and calculate the mean for each component\n",
    "grouped_data = df[[\"mcg\", \"gvh\", \"alm\", \"mit\", \"erl\", \"pox\", \"vac\", \"nuc\", \"localization_site\"]].groupby('localization_site').mean().reset_index()\n",
    "\n",
    "# Prepare data for the radar chart\n",
    "categories = list(grouped_data.columns[1:])  # Exclude 'localization_site'\n",
    "values = grouped_data[categories].values  # Values for radar chart\n",
    "values = [list(row) + [row[0]] for row in values]  # Close the radar chart\n",
    "categories += [categories[0]]  # Close the categories\n",
    "\n",
    "\n",
    "# Create the radar chart\n",
    "fig = go.Figure()\n",
    "\n",
    "# Add traces for each localization_site with custom colors\n",
    "for i, row in grouped_data.iterrows():\n",
    "    fig.add_trace(go.Scatterpolar(\n",
    "        r=list(row[1:]) + [row[1]],  # Close the radar chart\n",
    "        theta=categories,\n",
    "        fill='toself',\n",
    "        name=row['localization_site'],\n",
    "        line=dict(color=color_scheme[i % len(color_scheme)])  # Apply custom color\n",
    "    ))\n",
    "\n",
    "# Update layout\n",
    "fig.update_layout(\n",
    "    title='Radar Chart of Localization Site',\n",
    "    polar=dict(\n",
    "        radialaxis=dict(\n",
    "            visible=True,\n",
    "            # range=[0, 1]\n",
    "        )\n",
    "    ),\n",
    "    showlegend=True,\n",
    "    # width=700,\n",
    "    # height=700,\n",
    "    font=dict(size=18),\n",
    "    title_font=dict(size=24),\n",
    "    xaxis=dict(title_font=dict(size=20), tickfont=dict(size=16)),\n",
    "    yaxis=dict(title_font=dict(size=20), tickfont=dict(size=16))\n",
    ")\n",
    "\n",
    "# Show the figure\n",
    "# fig.show()\n",
    "# fig.write_image(\"../../images/case3_2d_radar_original_data_plot.png\", width=800, height=400, scale=2)\n"
   ]
  },
  {
   "cell_type": "code",
   "execution_count": 47,
   "metadata": {},
   "outputs": [
    {
     "name": "stderr",
     "output_type": "stream",
     "text": [
      "/var/folders/95/gt0pqtjx3r76yhhy2b1fc02c0000gp/T/ipykernel_3476/65712325.py:24: FutureWarning:\n",
      "\n",
      "Series.__getitem__ treating keys as positions is deprecated. In a future version, integer keys will always be treated as labels (consistent with DataFrame behavior). To access a value by position, use `ser.iloc[pos]`\n",
      "\n"
     ]
    }
   ],
   "source": [
    "import plotly.graph_objects as go\n",
    "\n",
    "# Custom color scheme\n",
    "color_scheme = [\n",
    "    \"#543005\", \"#8c510a\", \"#bf812d\", \"#dfc27d\", \"#f6e8c3\", \n",
    "    \"#f5f5f5\", \"#c7eae5\", \"#80cdc1\", \"#35978f\", \"#01665e\"\n",
    "]\n",
    "\n",
    "# Group by localization_site and calculate the mean for each component\n",
    "grouped_data = merged_datasets[[\"UMAP_Component_1\", \"UMAP_Component_2\", \"localization_site\"]].groupby('localization_site').mean().reset_index()\n",
    "\n",
    "# Prepare data for the radar chart\n",
    "categories = list(grouped_data.columns[1:])  # Exclude 'localization_site'\n",
    "values = grouped_data[categories].values  # Values for radar chart\n",
    "values = [list(row) + [row[1]] for row in values]  # Close the radar chart\n",
    "categories += [categories[0]]  # Close the categories\n",
    "\n",
    "# Create the radar chart\n",
    "fig = go.Figure()\n",
    "\n",
    "# Add traces for each localization_site with custom colors\n",
    "for i, row in grouped_data.iterrows():\n",
    "    fig.add_trace(go.Scatterpolar(\n",
    "        r=list(row[1:]) + [row[1]],  # Close the radar chart\n",
    "        theta=categories,\n",
    "        fill='toself',\n",
    "        name=row['localization_site'],\n",
    "        line=dict(color=color_scheme[i % len(color_scheme)]),  # Apply custom color\n",
    "        marker=dict(size=10)  # Increase the size of the points\n",
    "    ))\n",
    "\n",
    "# Update layout\n",
    "fig.update_layout(\n",
    "    title='Radar Chart of Localization Site',\n",
    "    polar=dict(\n",
    "        radialaxis=dict(\n",
    "            visible=True,\n",
    "        ),\n",
    "        angularaxis=dict(\n",
    "            tickfont=dict(size=12),  # Increase the font size of the labels\n",
    "            rotation=90,  # Rotate the labels if necessary\n",
    "            direction='clockwise'  # Change the direction of the labels\n",
    "        )\n",
    "    ),\n",
    "    showlegend=True,\n",
    "    # width=800,  # Increase width to accommodate more space\n",
    "    # height=800,  # Increase height\n",
    "    margin=dict(l=20, r=20, t=50, b=20),  # Adjust margins to give more room\n",
    "    font=dict(size=18),\n",
    "    title_font=dict(size=24),\n",
    "    xaxis=dict(title_font=dict(size=20), tickfont=dict(size=16)),\n",
    "    yaxis=dict(title_font=dict(size=20), tickfont=dict(size=16))\n",
    ")\n",
    "\n",
    "# Show the figure\n",
    "# fig.show()\n",
    "# fig.write_image(\"../../images/case3_2d_radar_reduced_dim_plot.png\", width=800, height=400, scale=2)\n"
   ]
  },
  {
   "cell_type": "code",
   "execution_count": 48,
   "metadata": {},
   "outputs": [
    {
     "data": {
      "text/html": [
       "<div>\n",
       "<style scoped>\n",
       "    .dataframe tbody tr th:only-of-type {\n",
       "        vertical-align: middle;\n",
       "    }\n",
       "\n",
       "    .dataframe tbody tr th {\n",
       "        vertical-align: top;\n",
       "    }\n",
       "\n",
       "    .dataframe thead th {\n",
       "        text-align: right;\n",
       "    }\n",
       "</style>\n",
       "<table border=\"1\" class=\"dataframe\">\n",
       "  <thead>\n",
       "    <tr style=\"text-align: right;\">\n",
       "      <th></th>\n",
       "      <th>localization_site</th>\n",
       "      <th>UMAP_Component_1</th>\n",
       "      <th>UMAP_Component_2</th>\n",
       "    </tr>\n",
       "  </thead>\n",
       "  <tbody>\n",
       "    <tr>\n",
       "      <th>0</th>\n",
       "      <td>CYT</td>\n",
       "      <td>11.037064</td>\n",
       "      <td>7.220031</td>\n",
       "    </tr>\n",
       "    <tr>\n",
       "      <th>1</th>\n",
       "      <td>ERL</td>\n",
       "      <td>-6.627049</td>\n",
       "      <td>4.135227</td>\n",
       "    </tr>\n",
       "    <tr>\n",
       "      <th>2</th>\n",
       "      <td>EXC</td>\n",
       "      <td>10.382649</td>\n",
       "      <td>2.715570</td>\n",
       "    </tr>\n",
       "    <tr>\n",
       "      <th>3</th>\n",
       "      <td>ME1</td>\n",
       "      <td>9.592963</td>\n",
       "      <td>2.322833</td>\n",
       "    </tr>\n",
       "    <tr>\n",
       "      <th>4</th>\n",
       "      <td>ME2</td>\n",
       "      <td>9.384328</td>\n",
       "      <td>3.729452</td>\n",
       "    </tr>\n",
       "    <tr>\n",
       "      <th>5</th>\n",
       "      <td>ME3</td>\n",
       "      <td>7.555572</td>\n",
       "      <td>5.926231</td>\n",
       "    </tr>\n",
       "    <tr>\n",
       "      <th>6</th>\n",
       "      <td>MIT</td>\n",
       "      <td>12.257630</td>\n",
       "      <td>4.991294</td>\n",
       "    </tr>\n",
       "    <tr>\n",
       "      <th>7</th>\n",
       "      <td>NUC</td>\n",
       "      <td>10.620154</td>\n",
       "      <td>7.925319</td>\n",
       "    </tr>\n",
       "    <tr>\n",
       "      <th>8</th>\n",
       "      <td>POX</td>\n",
       "      <td>2.535629</td>\n",
       "      <td>2.853205</td>\n",
       "    </tr>\n",
       "    <tr>\n",
       "      <th>9</th>\n",
       "      <td>VAC</td>\n",
       "      <td>9.970539</td>\n",
       "      <td>5.714844</td>\n",
       "    </tr>\n",
       "  </tbody>\n",
       "</table>\n",
       "</div>"
      ],
      "text/plain": [
       "  localization_site  UMAP_Component_1  UMAP_Component_2\n",
       "0               CYT         11.037064          7.220031\n",
       "1               ERL         -6.627049          4.135227\n",
       "2               EXC         10.382649          2.715570\n",
       "3               ME1          9.592963          2.322833\n",
       "4               ME2          9.384328          3.729452\n",
       "5               ME3          7.555572          5.926231\n",
       "6               MIT         12.257630          4.991294\n",
       "7               NUC         10.620154          7.925319\n",
       "8               POX          2.535629          2.853205\n",
       "9               VAC          9.970539          5.714844"
      ]
     },
     "execution_count": 48,
     "metadata": {},
     "output_type": "execute_result"
    }
   ],
   "source": [
    "merged_datasets[[\"UMAP_Component_1\", \"UMAP_Component_2\", \"localization_site\", \"Class2\"]]\n",
    "grouped_data = merged_datasets[[\"UMAP_Component_1\", \"UMAP_Component_2\", \"localization_site\"]].groupby('localization_site').mean().reset_index()\n",
    "grouped_data"
   ]
  },
  {
   "cell_type": "markdown",
   "metadata": {},
   "source": [
    "## To be continued ..."
   ]
  },
  {
   "cell_type": "code",
   "execution_count": 50,
   "metadata": {},
   "outputs": [
    {
     "data": {
      "application/vnd.plotly.v1+json": {
       "config": {
        "plotlyServerURL": "https://plot.ly"
       },
       "data": [
        {
         "hovertemplate": "Localization: CYT<br>Std Dev: 13.19<br>Correlation: 0.84<extra></extra>",
         "marker": {
          "opacity": 0.8,
          "size": 10
         },
         "mode": "markers",
         "name": "CYT",
         "r": [
          13.188845083322684
         ],
         "theta": [
          33.19119952650905
         ],
         "type": "scatterpolar"
        },
        {
         "hovertemplate": "Localization: ERL<br>Std Dev: 7.81<br>Correlation: -0.85<extra></extra>",
         "marker": {
          "opacity": 0.8,
          "size": 10
         },
         "mode": "markers",
         "name": "ERL",
         "r": [
          7.811394222440378
         ],
         "theta": [
          148.03615811147031
         ],
         "type": "scatterpolar"
        },
        {
         "hovertemplate": "Localization: EXC<br>Std Dev: 10.73<br>Correlation: 0.97<extra></extra>",
         "marker": {
          "opacity": 0.8,
          "size": 10
         },
         "mode": "markers",
         "name": "EXC",
         "r": [
          10.731901893216357
         ],
         "theta": [
          14.657308416625352
         ],
         "type": "scatterpolar"
        },
        {
         "hovertemplate": "Localization: ME1<br>Std Dev: 9.87<br>Correlation: 0.97<extra></extra>",
         "marker": {
          "opacity": 0.8,
          "size": 10
         },
         "mode": "markers",
         "name": "ME1",
         "r": [
          9.870181506548827
         ],
         "theta": [
          13.611573081074166
         ],
         "type": "scatterpolar"
        },
        {
         "hovertemplate": "Localization: ME2<br>Std Dev: 10.10<br>Correlation: 0.93<extra></extra>",
         "marker": {
          "opacity": 0.8,
          "size": 10
         },
         "mode": "markers",
         "name": "ME2",
         "r": [
          10.098238646396698
         ],
         "theta": [
          21.673505119323483
         ],
         "type": "scatterpolar"
        },
        {
         "hovertemplate": "Localization: ME3<br>Std Dev: 9.60<br>Correlation: 0.79<extra></extra>",
         "marker": {
          "opacity": 0.8,
          "size": 10
         },
         "mode": "markers",
         "name": "ME3",
         "r": [
          9.602441078152436
         ],
         "theta": [
          38.10894924766356
         ],
         "type": "scatterpolar"
        },
        {
         "hovertemplate": "Localization: MIT<br>Std Dev: 13.23<br>Correlation: 0.93<extra></extra>",
         "marker": {
          "opacity": 0.8,
          "size": 10
         },
         "mode": "markers",
         "name": "MIT",
         "r": [
          13.234897484972258
         ],
         "theta": [
          22.15610185316107
         ],
         "type": "scatterpolar"
        },
        {
         "hovertemplate": "Localization: NUC<br>Std Dev: 13.25<br>Correlation: 0.80<extra></extra>",
         "marker": {
          "opacity": 0.8,
          "size": 10
         },
         "mode": "markers",
         "name": "NUC",
         "r": [
          13.251353255435953
         ],
         "theta": [
          36.73224114225479
         ],
         "type": "scatterpolar"
        },
        {
         "hovertemplate": "Localization: POX<br>Std Dev: 3.82<br>Correlation: 0.66<extra></extra>",
         "marker": {
          "opacity": 0.8,
          "size": 10
         },
         "mode": "markers",
         "name": "POX",
         "r": [
          3.817092250410694
         ],
         "theta": [
          48.37265844807953
         ],
         "type": "scatterpolar"
        },
        {
         "hovertemplate": "Localization: VAC<br>Std Dev: 11.49<br>Correlation: 0.87<extra></extra>",
         "marker": {
          "opacity": 0.8,
          "size": 10
         },
         "mode": "markers",
         "name": "VAC",
         "r": [
          11.492219164171425
         ],
         "theta": [
          29.820171674246314
         ],
         "type": "scatterpolar"
        }
       ],
       "layout": {
        "polar": {
         "angularaxis": {
          "direction": "counterclockwise",
          "ticktext": [
           1,
           0.98,
           0.94,
           0.87,
           0.77,
           0.64,
           0.5,
           0.34,
           0.17,
           0
          ],
          "tickvals": [
           0,
           10,
           20,
           30,
           40,
           50,
           60,
           70,
           80,
           90
          ]
         },
         "radialaxis": {
          "range": [
           0,
           19.87702988315393
          ]
         }
        },
        "template": {
         "data": {
          "bar": [
           {
            "error_x": {
             "color": "#2a3f5f"
            },
            "error_y": {
             "color": "#2a3f5f"
            },
            "marker": {
             "line": {
              "color": "#E5ECF6",
              "width": 0.5
             },
             "pattern": {
              "fillmode": "overlay",
              "size": 10,
              "solidity": 0.2
             }
            },
            "type": "bar"
           }
          ],
          "barpolar": [
           {
            "marker": {
             "line": {
              "color": "#E5ECF6",
              "width": 0.5
             },
             "pattern": {
              "fillmode": "overlay",
              "size": 10,
              "solidity": 0.2
             }
            },
            "type": "barpolar"
           }
          ],
          "carpet": [
           {
            "aaxis": {
             "endlinecolor": "#2a3f5f",
             "gridcolor": "white",
             "linecolor": "white",
             "minorgridcolor": "white",
             "startlinecolor": "#2a3f5f"
            },
            "baxis": {
             "endlinecolor": "#2a3f5f",
             "gridcolor": "white",
             "linecolor": "white",
             "minorgridcolor": "white",
             "startlinecolor": "#2a3f5f"
            },
            "type": "carpet"
           }
          ],
          "choropleth": [
           {
            "colorbar": {
             "outlinewidth": 0,
             "ticks": ""
            },
            "type": "choropleth"
           }
          ],
          "contour": [
           {
            "colorbar": {
             "outlinewidth": 0,
             "ticks": ""
            },
            "colorscale": [
             [
              0,
              "#0d0887"
             ],
             [
              0.1111111111111111,
              "#46039f"
             ],
             [
              0.2222222222222222,
              "#7201a8"
             ],
             [
              0.3333333333333333,
              "#9c179e"
             ],
             [
              0.4444444444444444,
              "#bd3786"
             ],
             [
              0.5555555555555556,
              "#d8576b"
             ],
             [
              0.6666666666666666,
              "#ed7953"
             ],
             [
              0.7777777777777778,
              "#fb9f3a"
             ],
             [
              0.8888888888888888,
              "#fdca26"
             ],
             [
              1,
              "#f0f921"
             ]
            ],
            "type": "contour"
           }
          ],
          "contourcarpet": [
           {
            "colorbar": {
             "outlinewidth": 0,
             "ticks": ""
            },
            "type": "contourcarpet"
           }
          ],
          "heatmap": [
           {
            "colorbar": {
             "outlinewidth": 0,
             "ticks": ""
            },
            "colorscale": [
             [
              0,
              "#0d0887"
             ],
             [
              0.1111111111111111,
              "#46039f"
             ],
             [
              0.2222222222222222,
              "#7201a8"
             ],
             [
              0.3333333333333333,
              "#9c179e"
             ],
             [
              0.4444444444444444,
              "#bd3786"
             ],
             [
              0.5555555555555556,
              "#d8576b"
             ],
             [
              0.6666666666666666,
              "#ed7953"
             ],
             [
              0.7777777777777778,
              "#fb9f3a"
             ],
             [
              0.8888888888888888,
              "#fdca26"
             ],
             [
              1,
              "#f0f921"
             ]
            ],
            "type": "heatmap"
           }
          ],
          "heatmapgl": [
           {
            "colorbar": {
             "outlinewidth": 0,
             "ticks": ""
            },
            "colorscale": [
             [
              0,
              "#0d0887"
             ],
             [
              0.1111111111111111,
              "#46039f"
             ],
             [
              0.2222222222222222,
              "#7201a8"
             ],
             [
              0.3333333333333333,
              "#9c179e"
             ],
             [
              0.4444444444444444,
              "#bd3786"
             ],
             [
              0.5555555555555556,
              "#d8576b"
             ],
             [
              0.6666666666666666,
              "#ed7953"
             ],
             [
              0.7777777777777778,
              "#fb9f3a"
             ],
             [
              0.8888888888888888,
              "#fdca26"
             ],
             [
              1,
              "#f0f921"
             ]
            ],
            "type": "heatmapgl"
           }
          ],
          "histogram": [
           {
            "marker": {
             "pattern": {
              "fillmode": "overlay",
              "size": 10,
              "solidity": 0.2
             }
            },
            "type": "histogram"
           }
          ],
          "histogram2d": [
           {
            "colorbar": {
             "outlinewidth": 0,
             "ticks": ""
            },
            "colorscale": [
             [
              0,
              "#0d0887"
             ],
             [
              0.1111111111111111,
              "#46039f"
             ],
             [
              0.2222222222222222,
              "#7201a8"
             ],
             [
              0.3333333333333333,
              "#9c179e"
             ],
             [
              0.4444444444444444,
              "#bd3786"
             ],
             [
              0.5555555555555556,
              "#d8576b"
             ],
             [
              0.6666666666666666,
              "#ed7953"
             ],
             [
              0.7777777777777778,
              "#fb9f3a"
             ],
             [
              0.8888888888888888,
              "#fdca26"
             ],
             [
              1,
              "#f0f921"
             ]
            ],
            "type": "histogram2d"
           }
          ],
          "histogram2dcontour": [
           {
            "colorbar": {
             "outlinewidth": 0,
             "ticks": ""
            },
            "colorscale": [
             [
              0,
              "#0d0887"
             ],
             [
              0.1111111111111111,
              "#46039f"
             ],
             [
              0.2222222222222222,
              "#7201a8"
             ],
             [
              0.3333333333333333,
              "#9c179e"
             ],
             [
              0.4444444444444444,
              "#bd3786"
             ],
             [
              0.5555555555555556,
              "#d8576b"
             ],
             [
              0.6666666666666666,
              "#ed7953"
             ],
             [
              0.7777777777777778,
              "#fb9f3a"
             ],
             [
              0.8888888888888888,
              "#fdca26"
             ],
             [
              1,
              "#f0f921"
             ]
            ],
            "type": "histogram2dcontour"
           }
          ],
          "mesh3d": [
           {
            "colorbar": {
             "outlinewidth": 0,
             "ticks": ""
            },
            "type": "mesh3d"
           }
          ],
          "parcoords": [
           {
            "line": {
             "colorbar": {
              "outlinewidth": 0,
              "ticks": ""
             }
            },
            "type": "parcoords"
           }
          ],
          "pie": [
           {
            "automargin": true,
            "type": "pie"
           }
          ],
          "scatter": [
           {
            "fillpattern": {
             "fillmode": "overlay",
             "size": 10,
             "solidity": 0.2
            },
            "type": "scatter"
           }
          ],
          "scatter3d": [
           {
            "line": {
             "colorbar": {
              "outlinewidth": 0,
              "ticks": ""
             }
            },
            "marker": {
             "colorbar": {
              "outlinewidth": 0,
              "ticks": ""
             }
            },
            "type": "scatter3d"
           }
          ],
          "scattercarpet": [
           {
            "marker": {
             "colorbar": {
              "outlinewidth": 0,
              "ticks": ""
             }
            },
            "type": "scattercarpet"
           }
          ],
          "scattergeo": [
           {
            "marker": {
             "colorbar": {
              "outlinewidth": 0,
              "ticks": ""
             }
            },
            "type": "scattergeo"
           }
          ],
          "scattergl": [
           {
            "marker": {
             "colorbar": {
              "outlinewidth": 0,
              "ticks": ""
             }
            },
            "type": "scattergl"
           }
          ],
          "scattermapbox": [
           {
            "marker": {
             "colorbar": {
              "outlinewidth": 0,
              "ticks": ""
             }
            },
            "type": "scattermapbox"
           }
          ],
          "scatterpolar": [
           {
            "marker": {
             "colorbar": {
              "outlinewidth": 0,
              "ticks": ""
             }
            },
            "type": "scatterpolar"
           }
          ],
          "scatterpolargl": [
           {
            "marker": {
             "colorbar": {
              "outlinewidth": 0,
              "ticks": ""
             }
            },
            "type": "scatterpolargl"
           }
          ],
          "scatterternary": [
           {
            "marker": {
             "colorbar": {
              "outlinewidth": 0,
              "ticks": ""
             }
            },
            "type": "scatterternary"
           }
          ],
          "surface": [
           {
            "colorbar": {
             "outlinewidth": 0,
             "ticks": ""
            },
            "colorscale": [
             [
              0,
              "#0d0887"
             ],
             [
              0.1111111111111111,
              "#46039f"
             ],
             [
              0.2222222222222222,
              "#7201a8"
             ],
             [
              0.3333333333333333,
              "#9c179e"
             ],
             [
              0.4444444444444444,
              "#bd3786"
             ],
             [
              0.5555555555555556,
              "#d8576b"
             ],
             [
              0.6666666666666666,
              "#ed7953"
             ],
             [
              0.7777777777777778,
              "#fb9f3a"
             ],
             [
              0.8888888888888888,
              "#fdca26"
             ],
             [
              1,
              "#f0f921"
             ]
            ],
            "type": "surface"
           }
          ],
          "table": [
           {
            "cells": {
             "fill": {
              "color": "#EBF0F8"
             },
             "line": {
              "color": "white"
             }
            },
            "header": {
             "fill": {
              "color": "#C8D4E3"
             },
             "line": {
              "color": "white"
             }
            },
            "type": "table"
           }
          ]
         },
         "layout": {
          "annotationdefaults": {
           "arrowcolor": "#2a3f5f",
           "arrowhead": 0,
           "arrowwidth": 1
          },
          "autotypenumbers": "strict",
          "coloraxis": {
           "colorbar": {
            "outlinewidth": 0,
            "ticks": ""
           }
          },
          "colorscale": {
           "diverging": [
            [
             0,
             "#8e0152"
            ],
            [
             0.1,
             "#c51b7d"
            ],
            [
             0.2,
             "#de77ae"
            ],
            [
             0.3,
             "#f1b6da"
            ],
            [
             0.4,
             "#fde0ef"
            ],
            [
             0.5,
             "#f7f7f7"
            ],
            [
             0.6,
             "#e6f5d0"
            ],
            [
             0.7,
             "#b8e186"
            ],
            [
             0.8,
             "#7fbc41"
            ],
            [
             0.9,
             "#4d9221"
            ],
            [
             1,
             "#276419"
            ]
           ],
           "sequential": [
            [
             0,
             "#0d0887"
            ],
            [
             0.1111111111111111,
             "#46039f"
            ],
            [
             0.2222222222222222,
             "#7201a8"
            ],
            [
             0.3333333333333333,
             "#9c179e"
            ],
            [
             0.4444444444444444,
             "#bd3786"
            ],
            [
             0.5555555555555556,
             "#d8576b"
            ],
            [
             0.6666666666666666,
             "#ed7953"
            ],
            [
             0.7777777777777778,
             "#fb9f3a"
            ],
            [
             0.8888888888888888,
             "#fdca26"
            ],
            [
             1,
             "#f0f921"
            ]
           ],
           "sequentialminus": [
            [
             0,
             "#0d0887"
            ],
            [
             0.1111111111111111,
             "#46039f"
            ],
            [
             0.2222222222222222,
             "#7201a8"
            ],
            [
             0.3333333333333333,
             "#9c179e"
            ],
            [
             0.4444444444444444,
             "#bd3786"
            ],
            [
             0.5555555555555556,
             "#d8576b"
            ],
            [
             0.6666666666666666,
             "#ed7953"
            ],
            [
             0.7777777777777778,
             "#fb9f3a"
            ],
            [
             0.8888888888888888,
             "#fdca26"
            ],
            [
             1,
             "#f0f921"
            ]
           ]
          },
          "colorway": [
           "#636efa",
           "#EF553B",
           "#00cc96",
           "#ab63fa",
           "#FFA15A",
           "#19d3f3",
           "#FF6692",
           "#B6E880",
           "#FF97FF",
           "#FECB52"
          ],
          "font": {
           "color": "#2a3f5f"
          },
          "geo": {
           "bgcolor": "white",
           "lakecolor": "white",
           "landcolor": "#E5ECF6",
           "showlakes": true,
           "showland": true,
           "subunitcolor": "white"
          },
          "hoverlabel": {
           "align": "left"
          },
          "hovermode": "closest",
          "mapbox": {
           "style": "light"
          },
          "paper_bgcolor": "white",
          "plot_bgcolor": "#E5ECF6",
          "polar": {
           "angularaxis": {
            "gridcolor": "white",
            "linecolor": "white",
            "ticks": ""
           },
           "bgcolor": "#E5ECF6",
           "radialaxis": {
            "gridcolor": "white",
            "linecolor": "white",
            "ticks": ""
           }
          },
          "scene": {
           "xaxis": {
            "backgroundcolor": "#E5ECF6",
            "gridcolor": "white",
            "gridwidth": 2,
            "linecolor": "white",
            "showbackground": true,
            "ticks": "",
            "zerolinecolor": "white"
           },
           "yaxis": {
            "backgroundcolor": "#E5ECF6",
            "gridcolor": "white",
            "gridwidth": 2,
            "linecolor": "white",
            "showbackground": true,
            "ticks": "",
            "zerolinecolor": "white"
           },
           "zaxis": {
            "backgroundcolor": "#E5ECF6",
            "gridcolor": "white",
            "gridwidth": 2,
            "linecolor": "white",
            "showbackground": true,
            "ticks": "",
            "zerolinecolor": "white"
           }
          },
          "shapedefaults": {
           "line": {
            "color": "#2a3f5f"
           }
          },
          "ternary": {
           "aaxis": {
            "gridcolor": "white",
            "linecolor": "white",
            "ticks": ""
           },
           "baxis": {
            "gridcolor": "white",
            "linecolor": "white",
            "ticks": ""
           },
           "bgcolor": "#E5ECF6",
           "caxis": {
            "gridcolor": "white",
            "linecolor": "white",
            "ticks": ""
           }
          },
          "title": {
           "x": 0.05
          },
          "xaxis": {
           "automargin": true,
           "gridcolor": "white",
           "linecolor": "white",
           "ticks": "",
           "title": {
            "standoff": 15
           },
           "zerolinecolor": "white",
           "zerolinewidth": 2
          },
          "yaxis": {
           "automargin": true,
           "gridcolor": "white",
           "linecolor": "white",
           "ticks": "",
           "title": {
            "standoff": 15
           },
           "zerolinecolor": "white",
           "zerolinewidth": 2
          }
         }
        },
        "title": {
         "text": "Taylor Diagram for UMAP Components by Localization Site"
        }
       }
      }
     },
     "metadata": {},
     "output_type": "display_data"
    }
   ],
   "source": [
    "import pandas as pd\n",
    "import numpy as np\n",
    "import plotly.graph_objects as go\n",
    "\n",
    "grouped_data = merged_datasets[[\"UMAP_Component_1\", \"UMAP_Component_2\", \"localization_site\"]].groupby('localization_site').mean().reset_index()\n",
    "\n",
    "# Compute the metrics for the Taylor Diagram\n",
    "grouped_data['Standard Deviation'] = np.sqrt(grouped_data['UMAP_Component_1']**2 + grouped_data['UMAP_Component_2']**2)\n",
    "grouped_data['Angle'] = np.degrees(np.arctan2(grouped_data['UMAP_Component_2'], grouped_data['UMAP_Component_1']))\n",
    "grouped_data['Correlation'] = np.cos(np.radians(grouped_data['Angle']))  # Using the cosine of the angle for correlation\n",
    "\n",
    "# Define diagram range and tick settings\n",
    "float_max_r = grouped_data[\"Standard Deviation\"].max() * 1.5\n",
    "np_angular_ticks = np.arange(0, 100, 10)\n",
    "np_angular_labels = np.round(np.cos(np.radians(np_angular_ticks)), 2)\n",
    "\n",
    "# Plotting Taylor Diagram\n",
    "fig = go.Figure()\n",
    "\n",
    "# Add each data point to the polar plot\n",
    "for index, row in grouped_data.iterrows():\n",
    "    fig.add_trace(\n",
    "        go.Scatterpolar(\n",
    "            r=[row[\"Standard Deviation\"]],\n",
    "            theta=[row[\"Angle\"]],\n",
    "            mode=\"markers\",\n",
    "            name=row[\"localization_site\"],  # Using localization_site as label\n",
    "            marker=dict(size=10, opacity=0.8),\n",
    "            hovertemplate=f\"Localization: {row['localization_site']}<br>\"\n",
    "                          f\"Std Dev: {row['Standard Deviation']:.2f}<br>\"\n",
    "                          f\"Correlation: {row['Correlation']:.2f}<extra></extra>\"\n",
    "        )\n",
    "    )\n",
    "\n",
    "# Update layout for the polar plot\n",
    "fig.update_layout(\n",
    "    polar=dict(\n",
    "        radialaxis=dict(range=[0, float_max_r]),\n",
    "        angularaxis=dict(\n",
    "            tickvals=np_angular_ticks,\n",
    "            ticktext=np_angular_labels,\n",
    "            direction=\"counterclockwise\",\n",
    "        ),\n",
    "    ),\n",
    "    title=\"Taylor Diagram for UMAP Components by Localization Site\"\n",
    ")\n",
    "\n",
    "fig.show()\n"
   ]
  },
  {
   "cell_type": "code",
   "execution_count": 51,
   "metadata": {},
   "outputs": [
    {
     "data": {
      "application/vnd.plotly.v1+json": {
       "config": {
        "plotlyServerURL": "https://plot.ly"
       },
       "data": [
        {
         "hovertemplate": "Localization: CYT<br>Std Dev: 13.19<br>Correlation: 0.84<extra></extra>",
         "marker": {
          "color": "#1f77b4",
          "opacity": 0.8,
          "size": 10
         },
         "mode": "markers",
         "name": "CYT",
         "r": [
          13.188845083322684
         ],
         "theta": [
          33.19119952650905
         ],
         "type": "scatterpolar"
        },
        {
         "hovertemplate": "Localization: ERL<br>Std Dev: 7.81<br>Correlation: -0.85<extra></extra>",
         "marker": {
          "color": "#ff7f0e",
          "opacity": 0.8,
          "size": 10
         },
         "mode": "markers",
         "name": "ERL",
         "r": [
          7.811394222440378
         ],
         "theta": [
          148.03615811147031
         ],
         "type": "scatterpolar"
        },
        {
         "hovertemplate": "Localization: EXC<br>Std Dev: 10.73<br>Correlation: 0.97<extra></extra>",
         "marker": {
          "color": "#2ca02c",
          "opacity": 0.8,
          "size": 10
         },
         "mode": "markers",
         "name": "EXC",
         "r": [
          10.731901893216357
         ],
         "theta": [
          14.657308416625352
         ],
         "type": "scatterpolar"
        },
        {
         "hovertemplate": "Localization: ME1<br>Std Dev: 9.87<br>Correlation: 0.97<extra></extra>",
         "marker": {
          "color": "#d62728",
          "opacity": 0.8,
          "size": 10
         },
         "mode": "markers",
         "name": "ME1",
         "r": [
          9.870181506548827
         ],
         "theta": [
          13.611573081074166
         ],
         "type": "scatterpolar"
        },
        {
         "hovertemplate": "Localization: ME2<br>Std Dev: 10.10<br>Correlation: 0.93<extra></extra>",
         "marker": {
          "color": "#9467bd",
          "opacity": 0.8,
          "size": 10
         },
         "mode": "markers",
         "name": "ME2",
         "r": [
          10.098238646396698
         ],
         "theta": [
          21.673505119323483
         ],
         "type": "scatterpolar"
        },
        {
         "hovertemplate": "Localization: ME3<br>Std Dev: 9.60<br>Correlation: 0.79<extra></extra>",
         "marker": {
          "color": "#8c564b",
          "opacity": 0.8,
          "size": 10
         },
         "mode": "markers",
         "name": "ME3",
         "r": [
          9.602441078152436
         ],
         "theta": [
          38.10894924766356
         ],
         "type": "scatterpolar"
        },
        {
         "hovertemplate": "Localization: MIT<br>Std Dev: 13.23<br>Correlation: 0.93<extra></extra>",
         "marker": {
          "color": "#e377c2",
          "opacity": 0.8,
          "size": 10
         },
         "mode": "markers",
         "name": "MIT",
         "r": [
          13.234897484972258
         ],
         "theta": [
          22.15610185316107
         ],
         "type": "scatterpolar"
        },
        {
         "hovertemplate": "Localization: NUC<br>Std Dev: 13.25<br>Correlation: 0.80<extra></extra>",
         "marker": {
          "color": "#7f7f7f",
          "opacity": 0.8,
          "size": 10
         },
         "mode": "markers",
         "name": "NUC",
         "r": [
          13.251353255435953
         ],
         "theta": [
          36.73224114225479
         ],
         "type": "scatterpolar"
        },
        {
         "hovertemplate": "Localization: POX<br>Std Dev: 3.82<br>Correlation: 0.66<extra></extra>",
         "marker": {
          "color": "#bcbd22",
          "opacity": 0.8,
          "size": 10
         },
         "mode": "markers",
         "name": "POX",
         "r": [
          3.817092250410694
         ],
         "theta": [
          48.37265844807953
         ],
         "type": "scatterpolar"
        },
        {
         "hovertemplate": "Localization: VAC<br>Std Dev: 11.49<br>Correlation: 0.87<extra></extra>",
         "marker": {
          "color": "#17becf",
          "opacity": 0.8,
          "size": 10
         },
         "mode": "markers",
         "name": "VAC",
         "r": [
          11.492219164171425
         ],
         "theta": [
          29.820171674246314
         ],
         "type": "scatterpolar"
        }
       ],
       "layout": {
        "height": 600,
        "polar": {
         "angularaxis": {
          "direction": "counterclockwise",
          "ticktext": [
           1,
           0.98,
           0.94,
           0.87,
           0.77,
           0.64,
           0.5,
           0.34,
           0.17,
           0
          ],
          "tickvals": [
           0,
           10,
           20,
           30,
           40,
           50,
           60,
           70,
           80,
           90
          ]
         },
         "radialaxis": {
          "range": [
           0,
           19.87702988315393
          ]
         }
        },
        "template": {
         "data": {
          "bar": [
           {
            "error_x": {
             "color": "#2a3f5f"
            },
            "error_y": {
             "color": "#2a3f5f"
            },
            "marker": {
             "line": {
              "color": "#E5ECF6",
              "width": 0.5
             },
             "pattern": {
              "fillmode": "overlay",
              "size": 10,
              "solidity": 0.2
             }
            },
            "type": "bar"
           }
          ],
          "barpolar": [
           {
            "marker": {
             "line": {
              "color": "#E5ECF6",
              "width": 0.5
             },
             "pattern": {
              "fillmode": "overlay",
              "size": 10,
              "solidity": 0.2
             }
            },
            "type": "barpolar"
           }
          ],
          "carpet": [
           {
            "aaxis": {
             "endlinecolor": "#2a3f5f",
             "gridcolor": "white",
             "linecolor": "white",
             "minorgridcolor": "white",
             "startlinecolor": "#2a3f5f"
            },
            "baxis": {
             "endlinecolor": "#2a3f5f",
             "gridcolor": "white",
             "linecolor": "white",
             "minorgridcolor": "white",
             "startlinecolor": "#2a3f5f"
            },
            "type": "carpet"
           }
          ],
          "choropleth": [
           {
            "colorbar": {
             "outlinewidth": 0,
             "ticks": ""
            },
            "type": "choropleth"
           }
          ],
          "contour": [
           {
            "colorbar": {
             "outlinewidth": 0,
             "ticks": ""
            },
            "colorscale": [
             [
              0,
              "#0d0887"
             ],
             [
              0.1111111111111111,
              "#46039f"
             ],
             [
              0.2222222222222222,
              "#7201a8"
             ],
             [
              0.3333333333333333,
              "#9c179e"
             ],
             [
              0.4444444444444444,
              "#bd3786"
             ],
             [
              0.5555555555555556,
              "#d8576b"
             ],
             [
              0.6666666666666666,
              "#ed7953"
             ],
             [
              0.7777777777777778,
              "#fb9f3a"
             ],
             [
              0.8888888888888888,
              "#fdca26"
             ],
             [
              1,
              "#f0f921"
             ]
            ],
            "type": "contour"
           }
          ],
          "contourcarpet": [
           {
            "colorbar": {
             "outlinewidth": 0,
             "ticks": ""
            },
            "type": "contourcarpet"
           }
          ],
          "heatmap": [
           {
            "colorbar": {
             "outlinewidth": 0,
             "ticks": ""
            },
            "colorscale": [
             [
              0,
              "#0d0887"
             ],
             [
              0.1111111111111111,
              "#46039f"
             ],
             [
              0.2222222222222222,
              "#7201a8"
             ],
             [
              0.3333333333333333,
              "#9c179e"
             ],
             [
              0.4444444444444444,
              "#bd3786"
             ],
             [
              0.5555555555555556,
              "#d8576b"
             ],
             [
              0.6666666666666666,
              "#ed7953"
             ],
             [
              0.7777777777777778,
              "#fb9f3a"
             ],
             [
              0.8888888888888888,
              "#fdca26"
             ],
             [
              1,
              "#f0f921"
             ]
            ],
            "type": "heatmap"
           }
          ],
          "heatmapgl": [
           {
            "colorbar": {
             "outlinewidth": 0,
             "ticks": ""
            },
            "colorscale": [
             [
              0,
              "#0d0887"
             ],
             [
              0.1111111111111111,
              "#46039f"
             ],
             [
              0.2222222222222222,
              "#7201a8"
             ],
             [
              0.3333333333333333,
              "#9c179e"
             ],
             [
              0.4444444444444444,
              "#bd3786"
             ],
             [
              0.5555555555555556,
              "#d8576b"
             ],
             [
              0.6666666666666666,
              "#ed7953"
             ],
             [
              0.7777777777777778,
              "#fb9f3a"
             ],
             [
              0.8888888888888888,
              "#fdca26"
             ],
             [
              1,
              "#f0f921"
             ]
            ],
            "type": "heatmapgl"
           }
          ],
          "histogram": [
           {
            "marker": {
             "pattern": {
              "fillmode": "overlay",
              "size": 10,
              "solidity": 0.2
             }
            },
            "type": "histogram"
           }
          ],
          "histogram2d": [
           {
            "colorbar": {
             "outlinewidth": 0,
             "ticks": ""
            },
            "colorscale": [
             [
              0,
              "#0d0887"
             ],
             [
              0.1111111111111111,
              "#46039f"
             ],
             [
              0.2222222222222222,
              "#7201a8"
             ],
             [
              0.3333333333333333,
              "#9c179e"
             ],
             [
              0.4444444444444444,
              "#bd3786"
             ],
             [
              0.5555555555555556,
              "#d8576b"
             ],
             [
              0.6666666666666666,
              "#ed7953"
             ],
             [
              0.7777777777777778,
              "#fb9f3a"
             ],
             [
              0.8888888888888888,
              "#fdca26"
             ],
             [
              1,
              "#f0f921"
             ]
            ],
            "type": "histogram2d"
           }
          ],
          "histogram2dcontour": [
           {
            "colorbar": {
             "outlinewidth": 0,
             "ticks": ""
            },
            "colorscale": [
             [
              0,
              "#0d0887"
             ],
             [
              0.1111111111111111,
              "#46039f"
             ],
             [
              0.2222222222222222,
              "#7201a8"
             ],
             [
              0.3333333333333333,
              "#9c179e"
             ],
             [
              0.4444444444444444,
              "#bd3786"
             ],
             [
              0.5555555555555556,
              "#d8576b"
             ],
             [
              0.6666666666666666,
              "#ed7953"
             ],
             [
              0.7777777777777778,
              "#fb9f3a"
             ],
             [
              0.8888888888888888,
              "#fdca26"
             ],
             [
              1,
              "#f0f921"
             ]
            ],
            "type": "histogram2dcontour"
           }
          ],
          "mesh3d": [
           {
            "colorbar": {
             "outlinewidth": 0,
             "ticks": ""
            },
            "type": "mesh3d"
           }
          ],
          "parcoords": [
           {
            "line": {
             "colorbar": {
              "outlinewidth": 0,
              "ticks": ""
             }
            },
            "type": "parcoords"
           }
          ],
          "pie": [
           {
            "automargin": true,
            "type": "pie"
           }
          ],
          "scatter": [
           {
            "fillpattern": {
             "fillmode": "overlay",
             "size": 10,
             "solidity": 0.2
            },
            "type": "scatter"
           }
          ],
          "scatter3d": [
           {
            "line": {
             "colorbar": {
              "outlinewidth": 0,
              "ticks": ""
             }
            },
            "marker": {
             "colorbar": {
              "outlinewidth": 0,
              "ticks": ""
             }
            },
            "type": "scatter3d"
           }
          ],
          "scattercarpet": [
           {
            "marker": {
             "colorbar": {
              "outlinewidth": 0,
              "ticks": ""
             }
            },
            "type": "scattercarpet"
           }
          ],
          "scattergeo": [
           {
            "marker": {
             "colorbar": {
              "outlinewidth": 0,
              "ticks": ""
             }
            },
            "type": "scattergeo"
           }
          ],
          "scattergl": [
           {
            "marker": {
             "colorbar": {
              "outlinewidth": 0,
              "ticks": ""
             }
            },
            "type": "scattergl"
           }
          ],
          "scattermapbox": [
           {
            "marker": {
             "colorbar": {
              "outlinewidth": 0,
              "ticks": ""
             }
            },
            "type": "scattermapbox"
           }
          ],
          "scatterpolar": [
           {
            "marker": {
             "colorbar": {
              "outlinewidth": 0,
              "ticks": ""
             }
            },
            "type": "scatterpolar"
           }
          ],
          "scatterpolargl": [
           {
            "marker": {
             "colorbar": {
              "outlinewidth": 0,
              "ticks": ""
             }
            },
            "type": "scatterpolargl"
           }
          ],
          "scatterternary": [
           {
            "marker": {
             "colorbar": {
              "outlinewidth": 0,
              "ticks": ""
             }
            },
            "type": "scatterternary"
           }
          ],
          "surface": [
           {
            "colorbar": {
             "outlinewidth": 0,
             "ticks": ""
            },
            "colorscale": [
             [
              0,
              "#0d0887"
             ],
             [
              0.1111111111111111,
              "#46039f"
             ],
             [
              0.2222222222222222,
              "#7201a8"
             ],
             [
              0.3333333333333333,
              "#9c179e"
             ],
             [
              0.4444444444444444,
              "#bd3786"
             ],
             [
              0.5555555555555556,
              "#d8576b"
             ],
             [
              0.6666666666666666,
              "#ed7953"
             ],
             [
              0.7777777777777778,
              "#fb9f3a"
             ],
             [
              0.8888888888888888,
              "#fdca26"
             ],
             [
              1,
              "#f0f921"
             ]
            ],
            "type": "surface"
           }
          ],
          "table": [
           {
            "cells": {
             "fill": {
              "color": "#EBF0F8"
             },
             "line": {
              "color": "white"
             }
            },
            "header": {
             "fill": {
              "color": "#C8D4E3"
             },
             "line": {
              "color": "white"
             }
            },
            "type": "table"
           }
          ]
         },
         "layout": {
          "annotationdefaults": {
           "arrowcolor": "#2a3f5f",
           "arrowhead": 0,
           "arrowwidth": 1
          },
          "autotypenumbers": "strict",
          "coloraxis": {
           "colorbar": {
            "outlinewidth": 0,
            "ticks": ""
           }
          },
          "colorscale": {
           "diverging": [
            [
             0,
             "#8e0152"
            ],
            [
             0.1,
             "#c51b7d"
            ],
            [
             0.2,
             "#de77ae"
            ],
            [
             0.3,
             "#f1b6da"
            ],
            [
             0.4,
             "#fde0ef"
            ],
            [
             0.5,
             "#f7f7f7"
            ],
            [
             0.6,
             "#e6f5d0"
            ],
            [
             0.7,
             "#b8e186"
            ],
            [
             0.8,
             "#7fbc41"
            ],
            [
             0.9,
             "#4d9221"
            ],
            [
             1,
             "#276419"
            ]
           ],
           "sequential": [
            [
             0,
             "#0d0887"
            ],
            [
             0.1111111111111111,
             "#46039f"
            ],
            [
             0.2222222222222222,
             "#7201a8"
            ],
            [
             0.3333333333333333,
             "#9c179e"
            ],
            [
             0.4444444444444444,
             "#bd3786"
            ],
            [
             0.5555555555555556,
             "#d8576b"
            ],
            [
             0.6666666666666666,
             "#ed7953"
            ],
            [
             0.7777777777777778,
             "#fb9f3a"
            ],
            [
             0.8888888888888888,
             "#fdca26"
            ],
            [
             1,
             "#f0f921"
            ]
           ],
           "sequentialminus": [
            [
             0,
             "#0d0887"
            ],
            [
             0.1111111111111111,
             "#46039f"
            ],
            [
             0.2222222222222222,
             "#7201a8"
            ],
            [
             0.3333333333333333,
             "#9c179e"
            ],
            [
             0.4444444444444444,
             "#bd3786"
            ],
            [
             0.5555555555555556,
             "#d8576b"
            ],
            [
             0.6666666666666666,
             "#ed7953"
            ],
            [
             0.7777777777777778,
             "#fb9f3a"
            ],
            [
             0.8888888888888888,
             "#fdca26"
            ],
            [
             1,
             "#f0f921"
            ]
           ]
          },
          "colorway": [
           "#636efa",
           "#EF553B",
           "#00cc96",
           "#ab63fa",
           "#FFA15A",
           "#19d3f3",
           "#FF6692",
           "#B6E880",
           "#FF97FF",
           "#FECB52"
          ],
          "font": {
           "color": "#2a3f5f"
          },
          "geo": {
           "bgcolor": "white",
           "lakecolor": "white",
           "landcolor": "#E5ECF6",
           "showlakes": true,
           "showland": true,
           "subunitcolor": "white"
          },
          "hoverlabel": {
           "align": "left"
          },
          "hovermode": "closest",
          "mapbox": {
           "style": "light"
          },
          "paper_bgcolor": "white",
          "plot_bgcolor": "#E5ECF6",
          "polar": {
           "angularaxis": {
            "gridcolor": "white",
            "linecolor": "white",
            "ticks": ""
           },
           "bgcolor": "#E5ECF6",
           "radialaxis": {
            "gridcolor": "white",
            "linecolor": "white",
            "ticks": ""
           }
          },
          "scene": {
           "xaxis": {
            "backgroundcolor": "#E5ECF6",
            "gridcolor": "white",
            "gridwidth": 2,
            "linecolor": "white",
            "showbackground": true,
            "ticks": "",
            "zerolinecolor": "white"
           },
           "yaxis": {
            "backgroundcolor": "#E5ECF6",
            "gridcolor": "white",
            "gridwidth": 2,
            "linecolor": "white",
            "showbackground": true,
            "ticks": "",
            "zerolinecolor": "white"
           },
           "zaxis": {
            "backgroundcolor": "#E5ECF6",
            "gridcolor": "white",
            "gridwidth": 2,
            "linecolor": "white",
            "showbackground": true,
            "ticks": "",
            "zerolinecolor": "white"
           }
          },
          "shapedefaults": {
           "line": {
            "color": "#2a3f5f"
           }
          },
          "ternary": {
           "aaxis": {
            "gridcolor": "white",
            "linecolor": "white",
            "ticks": ""
           },
           "baxis": {
            "gridcolor": "white",
            "linecolor": "white",
            "ticks": ""
           },
           "bgcolor": "#E5ECF6",
           "caxis": {
            "gridcolor": "white",
            "linecolor": "white",
            "ticks": ""
           }
          },
          "title": {
           "x": 0.05
          },
          "xaxis": {
           "automargin": true,
           "gridcolor": "white",
           "linecolor": "white",
           "ticks": "",
           "title": {
            "standoff": 15
           },
           "zerolinecolor": "white",
           "zerolinewidth": 2
          },
          "yaxis": {
           "automargin": true,
           "gridcolor": "white",
           "linecolor": "white",
           "ticks": "",
           "title": {
            "standoff": 15
           },
           "zerolinecolor": "white",
           "zerolinewidth": 2
          }
         }
        },
        "width": 1000
       }
      }
     },
     "metadata": {},
     "output_type": "display_data"
    }
   ],
   "source": [
    "import pandas as pd\n",
    "import numpy as np\n",
    "import plotly.graph_objects as go\n",
    "\n",
    "\n",
    "grouped_data = merged_datasets[[\"UMAP_Component_1\", \"UMAP_Component_2\", \"localization_site\"]].groupby('localization_site').mean().reset_index()\n",
    "\n",
    "# Compute the metrics for the Taylor Diagram\n",
    "grouped_data['Standard Deviation'] = np.sqrt(grouped_data['UMAP_Component_1']**2 + grouped_data['UMAP_Component_2']**2)\n",
    "grouped_data['Angle'] = np.degrees(np.arctan2(grouped_data['UMAP_Component_2'], grouped_data['UMAP_Component_1']))\n",
    "grouped_data['Correlation'] = np.cos(np.radians(grouped_data['Angle']))  # Using the cosine of the angle for correlation\n",
    "\n",
    "# Define diagram range and tick settings\n",
    "float_max_r = grouped_data[\"Standard Deviation\"].max() * 1.5\n",
    "np_angular_ticks = np.arange(0, 100, 10)\n",
    "np_angular_labels = np.round(np.cos(np.radians(np_angular_ticks)), 2)\n",
    "\n",
    "# Define Tableau 10 colors\n",
    "tableau_colors = [\n",
    "    '#1f77b4',  # Blue\n",
    "    '#ff7f0e',  # Orange\n",
    "    '#2ca02c',  # Green\n",
    "    '#d62728',  # Red\n",
    "    '#9467bd',  # Purple\n",
    "    '#8c564b',  # Brown\n",
    "    '#e377c2',  # Pink\n",
    "    '#7f7f7f',  # Gray\n",
    "    '#bcbd22',  # Olive\n",
    "    '#17becf'   # Cyan\n",
    "]\n",
    "\n",
    "# Create a mapping of localization sites to colors\n",
    "color_mapping = {site: tableau_colors[i % len(tableau_colors)] for i, site in enumerate(grouped_data['localization_site'])}\n",
    "\n",
    "# Plotting Taylor Diagram\n",
    "fig = go.Figure()\n",
    "\n",
    "# Add each data point to the polar plot\n",
    "for index, row in grouped_data.iterrows():\n",
    "    fig.add_trace(\n",
    "        go.Scatterpolar(\n",
    "            r=[row[\"Standard Deviation\"]],\n",
    "            theta=[row[\"Angle\"]],\n",
    "            mode=\"markers\",\n",
    "            # mode=\"lines+markers\",\n",
    "            name=row[\"localization_site\"],  # Using localization_site as label\n",
    "            marker=dict(size=10, opacity=0.8, color=color_mapping[row[\"localization_site\"]]),\n",
    "            hovertemplate=f\"Localization: {row['localization_site']}<br>\"\n",
    "                          f\"Std Dev: {row['Standard Deviation']:.2f}<br>\"\n",
    "                          f\"Correlation: {row['Correlation']:.2f}<extra></extra>\"\n",
    "        )\n",
    "    )\n",
    "\n",
    "# Update layout for the polar plot\n",
    "fig.update_layout(\n",
    "    polar=dict(\n",
    "        radialaxis=dict(range=[0, float_max_r]),\n",
    "        angularaxis=dict(\n",
    "            tickvals=np_angular_ticks,\n",
    "            ticktext=np_angular_labels,\n",
    "            direction=\"counterclockwise\",\n",
    "        ),\n",
    "    ),\n",
    "    width=1000,\n",
    "    height=600,\n",
    "    # title=\"Taylor Diagram for UMAP Components by Localization Site\"\n",
    ")\n",
    "\n",
    "fig.show()\n"
   ]
  },
  {
   "cell_type": "code",
   "execution_count": 52,
   "metadata": {},
   "outputs": [
    {
     "name": "stderr",
     "output_type": "stream",
     "text": [
      "/Users/AwotoroE-Dev/Desktop/FlowMDP/.env/lib/python3.11/site-packages/sklearn/metrics/_regression.py:492: FutureWarning:\n",
      "\n",
      "'squared' is deprecated in version 1.4 and will be removed in 1.6. To calculate the root mean squared error, use the function'root_mean_squared_error'.\n",
      "\n",
      "/Users/AwotoroE-Dev/Desktop/FlowMDP/.env/lib/python3.11/site-packages/sklearn/metrics/_regression.py:492: FutureWarning:\n",
      "\n",
      "'squared' is deprecated in version 1.4 and will be removed in 1.6. To calculate the root mean squared error, use the function'root_mean_squared_error'.\n",
      "\n",
      "/Users/AwotoroE-Dev/Desktop/FlowMDP/.env/lib/python3.11/site-packages/sklearn/metrics/_regression.py:492: FutureWarning:\n",
      "\n",
      "'squared' is deprecated in version 1.4 and will be removed in 1.6. To calculate the root mean squared error, use the function'root_mean_squared_error'.\n",
      "\n",
      "/Users/AwotoroE-Dev/Desktop/FlowMDP/.env/lib/python3.11/site-packages/sklearn/metrics/_regression.py:492: FutureWarning:\n",
      "\n",
      "'squared' is deprecated in version 1.4 and will be removed in 1.6. To calculate the root mean squared error, use the function'root_mean_squared_error'.\n",
      "\n",
      "/Users/AwotoroE-Dev/Desktop/FlowMDP/.env/lib/python3.11/site-packages/sklearn/metrics/_regression.py:492: FutureWarning:\n",
      "\n",
      "'squared' is deprecated in version 1.4 and will be removed in 1.6. To calculate the root mean squared error, use the function'root_mean_squared_error'.\n",
      "\n",
      "/Users/AwotoroE-Dev/Desktop/FlowMDP/.env/lib/python3.11/site-packages/sklearn/metrics/_regression.py:492: FutureWarning:\n",
      "\n",
      "'squared' is deprecated in version 1.4 and will be removed in 1.6. To calculate the root mean squared error, use the function'root_mean_squared_error'.\n",
      "\n",
      "/Users/AwotoroE-Dev/Desktop/FlowMDP/.env/lib/python3.11/site-packages/sklearn/metrics/_regression.py:492: FutureWarning:\n",
      "\n",
      "'squared' is deprecated in version 1.4 and will be removed in 1.6. To calculate the root mean squared error, use the function'root_mean_squared_error'.\n",
      "\n",
      "/Users/AwotoroE-Dev/Desktop/FlowMDP/.env/lib/python3.11/site-packages/sklearn/metrics/_regression.py:492: FutureWarning:\n",
      "\n",
      "'squared' is deprecated in version 1.4 and will be removed in 1.6. To calculate the root mean squared error, use the function'root_mean_squared_error'.\n",
      "\n",
      "/Users/AwotoroE-Dev/Desktop/FlowMDP/.env/lib/python3.11/site-packages/sklearn/metrics/_regression.py:492: FutureWarning:\n",
      "\n",
      "'squared' is deprecated in version 1.4 and will be removed in 1.6. To calculate the root mean squared error, use the function'root_mean_squared_error'.\n",
      "\n",
      "/Users/AwotoroE-Dev/Desktop/FlowMDP/.env/lib/python3.11/site-packages/sklearn/metrics/_regression.py:492: FutureWarning:\n",
      "\n",
      "'squared' is deprecated in version 1.4 and will be removed in 1.6. To calculate the root mean squared error, use the function'root_mean_squared_error'.\n",
      "\n",
      "/Users/AwotoroE-Dev/Desktop/FlowMDP/.env/lib/python3.11/site-packages/sklearn/metrics/_regression.py:492: FutureWarning:\n",
      "\n",
      "'squared' is deprecated in version 1.4 and will be removed in 1.6. To calculate the root mean squared error, use the function'root_mean_squared_error'.\n",
      "\n"
     ]
    },
    {
     "data": {
      "text/html": [
       "<div>\n",
       "<style scoped>\n",
       "    .dataframe tbody tr th:only-of-type {\n",
       "        vertical-align: middle;\n",
       "    }\n",
       "\n",
       "    .dataframe tbody tr th {\n",
       "        vertical-align: top;\n",
       "    }\n",
       "\n",
       "    .dataframe thead th {\n",
       "        text-align: right;\n",
       "    }\n",
       "</style>\n",
       "<table border=\"1\" class=\"dataframe\">\n",
       "  <thead>\n",
       "    <tr style=\"text-align: right;\">\n",
       "      <th></th>\n",
       "      <th>Model</th>\n",
       "      <th>Standard Deviation</th>\n",
       "      <th>Correlation</th>\n",
       "      <th>Angle</th>\n",
       "      <th>CRMSE</th>\n",
       "      <th>Normalized CRMSE</th>\n",
       "      <th>Normalized Standard Deviation</th>\n",
       "      <th>Entropy</th>\n",
       "      <th>Mutual Information</th>\n",
       "      <th>Fixed_MI</th>\n",
       "      <th>Normalized Entropy</th>\n",
       "      <th>Normalized MI</th>\n",
       "      <th>Angle_NMI</th>\n",
       "      <th>Root Entropy</th>\n",
       "      <th>Joint_entropies</th>\n",
       "      <th>Scaled MI</th>\n",
       "      <th>Angle_SMI</th>\n",
       "      <th>Normalized Root Entropy</th>\n",
       "      <th>VI</th>\n",
       "      <th>RVI</th>\n",
       "    </tr>\n",
       "  </thead>\n",
       "  <tbody>\n",
       "    <tr>\n",
       "      <th>0</th>\n",
       "      <td>CYT</td>\n",
       "      <td>0.198725</td>\n",
       "      <td>-0.440118</td>\n",
       "      <td>116.111410</td>\n",
       "      <td>2.385434</td>\n",
       "      <td>1.041089</td>\n",
       "      <td>0.086731</td>\n",
       "      <td>-0.711999</td>\n",
       "      <td>0.053274</td>\n",
       "      <td>0.263297</td>\n",
       "      <td>-0.213048</td>\n",
       "      <td>0.263297</td>\n",
       "      <td>74.734219</td>\n",
       "      <td>-1.000000</td>\n",
       "      <td>2.366663</td>\n",
       "      <td>-0.261880</td>\n",
       "      <td>180.000000</td>\n",
       "      <td>-0.547015</td>\n",
       "      <td>2.103367</td>\n",
       "      <td>1.450299</td>\n",
       "    </tr>\n",
       "    <tr>\n",
       "      <th>1</th>\n",
       "      <td>ERL</td>\n",
       "      <td>3.279972</td>\n",
       "      <td>-0.446641</td>\n",
       "      <td>116.528356</td>\n",
       "      <td>4.766713</td>\n",
       "      <td>2.080364</td>\n",
       "      <td>1.431497</td>\n",
       "      <td>2.728314</td>\n",
       "      <td>0.041667</td>\n",
       "      <td>0.205931</td>\n",
       "      <td>0.816382</td>\n",
       "      <td>0.068198</td>\n",
       "      <td>86.089494</td>\n",
       "      <td>1.651761</td>\n",
       "      <td>5.864342</td>\n",
       "      <td>0.132448</td>\n",
       "      <td>137.316041</td>\n",
       "      <td>0.903538</td>\n",
       "      <td>5.658412</td>\n",
       "      <td>2.378742</td>\n",
       "    </tr>\n",
       "    <tr>\n",
       "      <th>2</th>\n",
       "      <td>EXC</td>\n",
       "      <td>0.886863</td>\n",
       "      <td>-0.396693</td>\n",
       "      <td>113.371613</td>\n",
       "      <td>2.765634</td>\n",
       "      <td>1.207022</td>\n",
       "      <td>0.387059</td>\n",
       "      <td>1.382772</td>\n",
       "      <td>0.000000</td>\n",
       "      <td>0.000000</td>\n",
       "      <td>0.413761</td>\n",
       "      <td>0.000000</td>\n",
       "      <td>90.000000</td>\n",
       "      <td>1.175913</td>\n",
       "      <td>4.724731</td>\n",
       "      <td>0.000000</td>\n",
       "      <td>180.000000</td>\n",
       "      <td>0.643242</td>\n",
       "      <td>4.724731</td>\n",
       "      <td>2.173645</td>\n",
       "    </tr>\n",
       "    <tr>\n",
       "      <th>3</th>\n",
       "      <td>ME1</td>\n",
       "      <td>1.106369</td>\n",
       "      <td>0.084117</td>\n",
       "      <td>85.174747</td>\n",
       "      <td>2.459182</td>\n",
       "      <td>1.073275</td>\n",
       "      <td>0.482859</td>\n",
       "      <td>1.702892</td>\n",
       "      <td>0.024107</td>\n",
       "      <td>0.119146</td>\n",
       "      <td>0.509549</td>\n",
       "      <td>0.049944</td>\n",
       "      <td>87.137226</td>\n",
       "      <td>1.304949</td>\n",
       "      <td>4.925705</td>\n",
       "      <td>0.103124</td>\n",
       "      <td>142.537611</td>\n",
       "      <td>0.713827</td>\n",
       "      <td>4.806559</td>\n",
       "      <td>2.192387</td>\n",
       "    </tr>\n",
       "    <tr>\n",
       "      <th>4</th>\n",
       "      <td>ME2</td>\n",
       "      <td>0.718997</td>\n",
       "      <td>0.086618</td>\n",
       "      <td>85.030932</td>\n",
       "      <td>2.341274</td>\n",
       "      <td>1.021816</td>\n",
       "      <td>0.313796</td>\n",
       "      <td>1.194488</td>\n",
       "      <td>0.068750</td>\n",
       "      <td>0.339785</td>\n",
       "      <td>0.357421</td>\n",
       "      <td>0.170064</td>\n",
       "      <td>80.208438</td>\n",
       "      <td>1.092926</td>\n",
       "      <td>4.196661</td>\n",
       "      <td>0.357212</td>\n",
       "      <td>106.593301</td>\n",
       "      <td>0.597847</td>\n",
       "      <td>3.856876</td>\n",
       "      <td>1.963893</td>\n",
       "    </tr>\n",
       "    <tr>\n",
       "      <th>5</th>\n",
       "      <td>ME3</td>\n",
       "      <td>0.511214</td>\n",
       "      <td>0.646506</td>\n",
       "      <td>49.721320</td>\n",
       "      <td>1.999196</td>\n",
       "      <td>0.872521</td>\n",
       "      <td>0.223112</td>\n",
       "      <td>0.084387</td>\n",
       "      <td>0.084524</td>\n",
       "      <td>0.417745</td>\n",
       "      <td>0.025251</td>\n",
       "      <td>0.786636</td>\n",
       "      <td>38.127736</td>\n",
       "      <td>0.290494</td>\n",
       "      <td>3.008601</td>\n",
       "      <td>4.456576</td>\n",
       "      <td>0.000000</td>\n",
       "      <td>0.158904</td>\n",
       "      <td>2.590856</td>\n",
       "      <td>1.609614</td>\n",
       "    </tr>\n",
       "    <tr>\n",
       "      <th>6</th>\n",
       "      <td>MIT</td>\n",
       "      <td>0.377664</td>\n",
       "      <td>-0.109460</td>\n",
       "      <td>96.284166</td>\n",
       "      <td>2.362640</td>\n",
       "      <td>1.031141</td>\n",
       "      <td>0.164826</td>\n",
       "      <td>0.127752</td>\n",
       "      <td>0.000000</td>\n",
       "      <td>0.000000</td>\n",
       "      <td>0.038227</td>\n",
       "      <td>0.000000</td>\n",
       "      <td>90.000000</td>\n",
       "      <td>0.357424</td>\n",
       "      <td>3.469711</td>\n",
       "      <td>0.000000</td>\n",
       "      <td>180.000000</td>\n",
       "      <td>0.195516</td>\n",
       "      <td>3.469711</td>\n",
       "      <td>1.862716</td>\n",
       "    </tr>\n",
       "    <tr>\n",
       "      <th>7</th>\n",
       "      <td>NUC</td>\n",
       "      <td>0.295331</td>\n",
       "      <td>-0.065077</td>\n",
       "      <td>93.731263</td>\n",
       "      <td>2.329226</td>\n",
       "      <td>1.016558</td>\n",
       "      <td>0.128893</td>\n",
       "      <td>0.138664</td>\n",
       "      <td>0.000000</td>\n",
       "      <td>0.000000</td>\n",
       "      <td>0.041492</td>\n",
       "      <td>0.000000</td>\n",
       "      <td>90.000000</td>\n",
       "      <td>0.372377</td>\n",
       "      <td>3.480623</td>\n",
       "      <td>0.000000</td>\n",
       "      <td>180.000000</td>\n",
       "      <td>0.203696</td>\n",
       "      <td>3.480623</td>\n",
       "      <td>1.865643</td>\n",
       "    </tr>\n",
       "    <tr>\n",
       "      <th>8</th>\n",
       "      <td>POX</td>\n",
       "      <td>1.837118</td>\n",
       "      <td>0.388995</td>\n",
       "      <td>67.108037</td>\n",
       "      <td>2.313041</td>\n",
       "      <td>1.009494</td>\n",
       "      <td>0.801784</td>\n",
       "      <td>0.318121</td>\n",
       "      <td>0.000000</td>\n",
       "      <td>0.000000</td>\n",
       "      <td>0.095190</td>\n",
       "      <td>0.000000</td>\n",
       "      <td>90.000000</td>\n",
       "      <td>0.564022</td>\n",
       "      <td>3.660080</td>\n",
       "      <td>0.000000</td>\n",
       "      <td>180.000000</td>\n",
       "      <td>0.308529</td>\n",
       "      <td>3.660080</td>\n",
       "      <td>1.913133</td>\n",
       "    </tr>\n",
       "    <tr>\n",
       "      <th>9</th>\n",
       "      <td>VAC</td>\n",
       "      <td>0.310890</td>\n",
       "      <td>0.324832</td>\n",
       "      <td>71.044620</td>\n",
       "      <td>2.209948</td>\n",
       "      <td>0.964501</td>\n",
       "      <td>0.135684</td>\n",
       "      <td>0.455672</td>\n",
       "      <td>0.000000</td>\n",
       "      <td>0.000000</td>\n",
       "      <td>0.136349</td>\n",
       "      <td>0.000000</td>\n",
       "      <td>90.000000</td>\n",
       "      <td>0.675035</td>\n",
       "      <td>3.797631</td>\n",
       "      <td>0.000000</td>\n",
       "      <td>180.000000</td>\n",
       "      <td>0.369254</td>\n",
       "      <td>3.797631</td>\n",
       "      <td>1.948751</td>\n",
       "    </tr>\n",
       "    <tr>\n",
       "      <th>10</th>\n",
       "      <td>Reference Model</td>\n",
       "      <td>2.291288</td>\n",
       "      <td>1.000000</td>\n",
       "      <td>0.000000</td>\n",
       "      <td>0.000000</td>\n",
       "      <td>0.000000</td>\n",
       "      <td>1.000000</td>\n",
       "      <td>3.341959</td>\n",
       "      <td>0.676190</td>\n",
       "      <td>3.341959</td>\n",
       "      <td>1.000000</td>\n",
       "      <td>1.000000</td>\n",
       "      <td>0.000000</td>\n",
       "      <td>1.828103</td>\n",
       "      <td>3.341959</td>\n",
       "      <td>1.000000</td>\n",
       "      <td>0.000000</td>\n",
       "      <td>1.000000</td>\n",
       "      <td>0.000000</td>\n",
       "      <td>0.000000</td>\n",
       "    </tr>\n",
       "  </tbody>\n",
       "</table>\n",
       "</div>"
      ],
      "text/plain": [
       "              Model  Standard Deviation  Correlation       Angle     CRMSE  \\\n",
       "0               CYT            0.198725    -0.440118  116.111410  2.385434   \n",
       "1               ERL            3.279972    -0.446641  116.528356  4.766713   \n",
       "2               EXC            0.886863    -0.396693  113.371613  2.765634   \n",
       "3               ME1            1.106369     0.084117   85.174747  2.459182   \n",
       "4               ME2            0.718997     0.086618   85.030932  2.341274   \n",
       "5               ME3            0.511214     0.646506   49.721320  1.999196   \n",
       "6               MIT            0.377664    -0.109460   96.284166  2.362640   \n",
       "7               NUC            0.295331    -0.065077   93.731263  2.329226   \n",
       "8               POX            1.837118     0.388995   67.108037  2.313041   \n",
       "9               VAC            0.310890     0.324832   71.044620  2.209948   \n",
       "10  Reference Model            2.291288     1.000000    0.000000  0.000000   \n",
       "\n",
       "    Normalized CRMSE  Normalized Standard Deviation   Entropy  \\\n",
       "0           1.041089                       0.086731 -0.711999   \n",
       "1           2.080364                       1.431497  2.728314   \n",
       "2           1.207022                       0.387059  1.382772   \n",
       "3           1.073275                       0.482859  1.702892   \n",
       "4           1.021816                       0.313796  1.194488   \n",
       "5           0.872521                       0.223112  0.084387   \n",
       "6           1.031141                       0.164826  0.127752   \n",
       "7           1.016558                       0.128893  0.138664   \n",
       "8           1.009494                       0.801784  0.318121   \n",
       "9           0.964501                       0.135684  0.455672   \n",
       "10          0.000000                       1.000000  3.341959   \n",
       "\n",
       "    Mutual Information  Fixed_MI  Normalized Entropy  Normalized MI  \\\n",
       "0             0.053274  0.263297           -0.213048       0.263297   \n",
       "1             0.041667  0.205931            0.816382       0.068198   \n",
       "2             0.000000  0.000000            0.413761       0.000000   \n",
       "3             0.024107  0.119146            0.509549       0.049944   \n",
       "4             0.068750  0.339785            0.357421       0.170064   \n",
       "5             0.084524  0.417745            0.025251       0.786636   \n",
       "6             0.000000  0.000000            0.038227       0.000000   \n",
       "7             0.000000  0.000000            0.041492       0.000000   \n",
       "8             0.000000  0.000000            0.095190       0.000000   \n",
       "9             0.000000  0.000000            0.136349       0.000000   \n",
       "10            0.676190  3.341959            1.000000       1.000000   \n",
       "\n",
       "    Angle_NMI  Root Entropy  Joint_entropies  Scaled MI   Angle_SMI  \\\n",
       "0   74.734219     -1.000000         2.366663  -0.261880  180.000000   \n",
       "1   86.089494      1.651761         5.864342   0.132448  137.316041   \n",
       "2   90.000000      1.175913         4.724731   0.000000  180.000000   \n",
       "3   87.137226      1.304949         4.925705   0.103124  142.537611   \n",
       "4   80.208438      1.092926         4.196661   0.357212  106.593301   \n",
       "5   38.127736      0.290494         3.008601   4.456576    0.000000   \n",
       "6   90.000000      0.357424         3.469711   0.000000  180.000000   \n",
       "7   90.000000      0.372377         3.480623   0.000000  180.000000   \n",
       "8   90.000000      0.564022         3.660080   0.000000  180.000000   \n",
       "9   90.000000      0.675035         3.797631   0.000000  180.000000   \n",
       "10   0.000000      1.828103         3.341959   1.000000    0.000000   \n",
       "\n",
       "    Normalized Root Entropy        VI       RVI  \n",
       "0                 -0.547015  2.103367  1.450299  \n",
       "1                  0.903538  5.658412  2.378742  \n",
       "2                  0.643242  4.724731  2.173645  \n",
       "3                  0.713827  4.806559  2.192387  \n",
       "4                  0.597847  3.856876  1.963893  \n",
       "5                  0.158904  2.590856  1.609614  \n",
       "6                  0.195516  3.469711  1.862716  \n",
       "7                  0.203696  3.480623  1.865643  \n",
       "8                  0.308529  3.660080  1.913133  \n",
       "9                  0.369254  3.797631  1.948751  \n",
       "10                 1.000000  0.000000  0.000000  "
      ]
     },
     "execution_count": 52,
     "metadata": {},
     "output_type": "execute_result"
    }
   ],
   "source": [
    "import polar_diagrams as diag\n",
    "\n",
    "\n",
    "grouped_data = processed_data[[\"mcg\", \"gvh\", \"alm\", \"mit\", \"erl\", \"pox\", \"vac\", \"nuc\", \"localization_site\"]].groupby('localization_site').mean().reset_index()\n",
    "\n",
    "df_pivot = grouped_data.pivot_table(index=None, columns='localization_site', values=[\"mcg\", \"gvh\", \"alm\", \"mit\", \"erl\", \"pox\", \"vac\", \"nuc\", \"localization_site\"], aggfunc='first')\n",
    "\n",
    "# Reset index to make it a standard DataFrame\n",
    "df_pivot.reset_index(drop=True, inplace=True)\n",
    "df_pivot = df_pivot.reset_index().rename(columns={'index': 'localization_site'})\n",
    "\n",
    "df_pivot['Reference Model'] = df_pivot['localization_site'].replace({\n",
    "    'MIT': 0, 'NUC': 1, 'CYT': 2, 'ME1': 3, 'EXC': 4, 'ME2': 5, 'ME3': 6, 'VAC': 7, 'POX': 8, 'ERL': 9})\n",
    "\n",
    "string_mid_type = 'scaled'\n",
    "string_corr_method='pearson'\n",
    "bool_discrete_measures=False\n",
    "string_ref_model = 'Reference Model'\n",
    "INT_RANDOM_SEED = 42\n",
    "INT_NUM_OF_JOBS=12\n",
    "\n",
    "dict_mi_parameters_features_continous_target_continous = dict(\n",
    "    string_entropy_method='auto',\n",
    "    int_mi_n_neighbors=3,\n",
    "    bool_discrete_reference_model=False,\n",
    "    discrete_models=False,\n",
    "    int_random_state=INT_RANDOM_SEED)\n",
    "df_pivot[\"Reference Model\"] = df_pivot[\"Reference Model\"].astype(float)\n",
    "df_taylor_res = diag.df_calculate_all_properties(\n",
    "    df_pivot[['CYT', 'ERL', 'EXC', 'ME1', 'ME2', 'ME3', 'MIT', 'NUC', 'POX', 'VAC', \"Reference Model\"]], string_reference_model=string_ref_model, \n",
    "    string_corr_method=string_corr_method, \n",
    "    dict_mi_parameters=dict_mi_parameters_features_continous_target_continous\n",
    ")\n",
    "df_taylor_res"
   ]
  },
  {
   "cell_type": "code",
   "execution_count": 53,
   "metadata": {},
   "outputs": [
    {
     "name": "stderr",
     "output_type": "stream",
     "text": [
      "/Users/AwotoroE-Dev/Desktop/FlowMDP/.env/lib/python3.11/site-packages/sklearn/metrics/_regression.py:492: FutureWarning:\n",
      "\n",
      "'squared' is deprecated in version 1.4 and will be removed in 1.6. To calculate the root mean squared error, use the function'root_mean_squared_error'.\n",
      "\n",
      "/Users/AwotoroE-Dev/Desktop/FlowMDP/.env/lib/python3.11/site-packages/sklearn/metrics/_regression.py:492: FutureWarning:\n",
      "\n",
      "'squared' is deprecated in version 1.4 and will be removed in 1.6. To calculate the root mean squared error, use the function'root_mean_squared_error'.\n",
      "\n",
      "/Users/AwotoroE-Dev/Desktop/FlowMDP/.env/lib/python3.11/site-packages/sklearn/metrics/_regression.py:492: FutureWarning:\n",
      "\n",
      "'squared' is deprecated in version 1.4 and will be removed in 1.6. To calculate the root mean squared error, use the function'root_mean_squared_error'.\n",
      "\n",
      "/Users/AwotoroE-Dev/Desktop/FlowMDP/.env/lib/python3.11/site-packages/sklearn/metrics/_regression.py:492: FutureWarning:\n",
      "\n",
      "'squared' is deprecated in version 1.4 and will be removed in 1.6. To calculate the root mean squared error, use the function'root_mean_squared_error'.\n",
      "\n",
      "/Users/AwotoroE-Dev/Desktop/FlowMDP/.env/lib/python3.11/site-packages/sklearn/metrics/_regression.py:492: FutureWarning:\n",
      "\n",
      "'squared' is deprecated in version 1.4 and will be removed in 1.6. To calculate the root mean squared error, use the function'root_mean_squared_error'.\n",
      "\n",
      "/Users/AwotoroE-Dev/Desktop/FlowMDP/.env/lib/python3.11/site-packages/sklearn/metrics/_regression.py:492: FutureWarning:\n",
      "\n",
      "'squared' is deprecated in version 1.4 and will be removed in 1.6. To calculate the root mean squared error, use the function'root_mean_squared_error'.\n",
      "\n",
      "/Users/AwotoroE-Dev/Desktop/FlowMDP/.env/lib/python3.11/site-packages/sklearn/metrics/_regression.py:492: FutureWarning:\n",
      "\n",
      "'squared' is deprecated in version 1.4 and will be removed in 1.6. To calculate the root mean squared error, use the function'root_mean_squared_error'.\n",
      "\n",
      "/Users/AwotoroE-Dev/Desktop/FlowMDP/.env/lib/python3.11/site-packages/sklearn/metrics/_regression.py:492: FutureWarning:\n",
      "\n",
      "'squared' is deprecated in version 1.4 and will be removed in 1.6. To calculate the root mean squared error, use the function'root_mean_squared_error'.\n",
      "\n",
      "/Users/AwotoroE-Dev/Desktop/FlowMDP/.env/lib/python3.11/site-packages/sklearn/metrics/_regression.py:492: FutureWarning:\n",
      "\n",
      "'squared' is deprecated in version 1.4 and will be removed in 1.6. To calculate the root mean squared error, use the function'root_mean_squared_error'.\n",
      "\n",
      "/Users/AwotoroE-Dev/Desktop/FlowMDP/.env/lib/python3.11/site-packages/sklearn/metrics/_regression.py:492: FutureWarning:\n",
      "\n",
      "'squared' is deprecated in version 1.4 and will be removed in 1.6. To calculate the root mean squared error, use the function'root_mean_squared_error'.\n",
      "\n",
      "/Users/AwotoroE-Dev/Desktop/FlowMDP/.env/lib/python3.11/site-packages/sklearn/metrics/_regression.py:492: FutureWarning:\n",
      "\n",
      "'squared' is deprecated in version 1.4 and will be removed in 1.6. To calculate the root mean squared error, use the function'root_mean_squared_error'.\n",
      "\n"
     ]
    },
    {
     "data": {
      "application/vnd.plotly.v1+json": {
       "config": {
        "displaylogo": false,
        "plotlyServerURL": "https://plot.ly",
        "toImageButtonOptions": {
         "filename": "polar_diagram",
         "format": "png",
         "scale": 6
        }
       },
       "data": [
        {
         "customdata": [
          [
           "Reference Model",
           2.29128784747792,
           1,
           0
          ],
          [
           "Reference Model",
           2.29128784747792,
           1,
           0
          ],
          [
           "Reference Model",
           2.29128784747792,
           1,
           0
          ],
          [
           "Reference Model",
           2.29128784747792,
           1,
           0
          ],
          [
           "Reference Model",
           2.29128784747792,
           1,
           0
          ],
          [
           "Reference Model",
           2.29128784747792,
           1,
           0
          ],
          [
           "Reference Model",
           2.29128784747792,
           1,
           0
          ],
          [
           "Reference Model",
           2.29128784747792,
           1,
           0
          ],
          [
           "Reference Model",
           2.29128784747792,
           1,
           0
          ],
          [
           "Reference Model",
           2.29128784747792,
           1,
           0
          ],
          [
           "Reference Model",
           2.29128784747792,
           1,
           0
          ]
         ],
         "hoverlabel": {
          "bgcolor": "#FFFFFF",
          "bordercolor": "rgba(0, 0, 0, 1)",
          "font": {
           "color": "#000000"
          }
         },
         "hovertemplate": "Model: %{customdata[0]}<br>Standard Deviation: %{customdata[1]:.3f}<br>Correlation: %{customdata[2]:.3f}<br>Reference distance (CRMSE): %{customdata[3]:.3f}<br><extra></extra>",
         "legendgroup": "Reference Model",
         "marker": {
          "color": "rgba(0, 0, 0, 0.6)",
          "line": {
           "color": "rgba(0, 0, 0, 1)",
           "width": 2
          },
          "size": 10
         },
         "mode": "markers",
         "name": "0. Reference Model",
         "r": [
          2.29128784747792
         ],
         "showlegend": true,
         "theta": [
          0
         ],
         "type": "scatterpolar"
        },
        {
         "customdata": [
          [
           "ME3",
           0.5112144680595542,
           0.6465059366598991,
           1.999195926765591
          ],
          [
           "ME3",
           0.5112144680595542,
           0.6465059366598991,
           1.999195926765591
          ],
          [
           "ME3",
           0.5112144680595542,
           0.6465059366598991,
           1.999195926765591
          ],
          [
           "ME3",
           0.5112144680595542,
           0.6465059366598991,
           1.999195926765591
          ],
          [
           "ME3",
           0.5112144680595542,
           0.6465059366598991,
           1.999195926765591
          ],
          [
           "ME3",
           0.5112144680595542,
           0.6465059366598991,
           1.999195926765591
          ],
          [
           "ME3",
           0.5112144680595542,
           0.6465059366598991,
           1.999195926765591
          ],
          [
           "ME3",
           0.5112144680595542,
           0.6465059366598991,
           1.999195926765591
          ],
          [
           "ME3",
           0.5112144680595542,
           0.6465059366598991,
           1.999195926765591
          ],
          [
           "ME3",
           0.5112144680595542,
           0.6465059366598991,
           1.999195926765591
          ],
          [
           "ME3",
           0.5112144680595542,
           0.6465059366598991,
           1.999195926765591
          ]
         ],
         "hoverlabel": {
          "bgcolor": "#FFFFFF",
          "bordercolor": "rgba(31, 119, 180, 1)",
          "font": {
           "color": "#000000"
          }
         },
         "hovertemplate": "Model: %{customdata[0]}<br>Standard Deviation: %{customdata[1]:.3f}<br>Correlation: %{customdata[2]:.3f}<br>Reference distance (CRMSE): %{customdata[3]:.3f}<br><extra></extra>",
         "legendgroup": "ME3",
         "marker": {
          "color": "rgba(31, 119, 180, 0.6)",
          "line": {
           "color": "rgba(31, 119, 180, 1)",
           "width": 2
          },
          "size": 10
         },
         "mode": "markers",
         "name": "1. ME3",
         "r": [
          0.5112144680595542
         ],
         "showlegend": true,
         "theta": [
          49.72132045010877
         ],
         "type": "scatterpolar"
        },
        {
         "customdata": [
          [
           "VAC",
           0.3108904520964982,
           0.32483171971818114,
           2.2099484007511823
          ],
          [
           "VAC",
           0.3108904520964982,
           0.32483171971818114,
           2.2099484007511823
          ],
          [
           "VAC",
           0.3108904520964982,
           0.32483171971818114,
           2.2099484007511823
          ],
          [
           "VAC",
           0.3108904520964982,
           0.32483171971818114,
           2.2099484007511823
          ],
          [
           "VAC",
           0.3108904520964982,
           0.32483171971818114,
           2.2099484007511823
          ],
          [
           "VAC",
           0.3108904520964982,
           0.32483171971818114,
           2.2099484007511823
          ],
          [
           "VAC",
           0.3108904520964982,
           0.32483171971818114,
           2.2099484007511823
          ],
          [
           "VAC",
           0.3108904520964982,
           0.32483171971818114,
           2.2099484007511823
          ],
          [
           "VAC",
           0.3108904520964982,
           0.32483171971818114,
           2.2099484007511823
          ],
          [
           "VAC",
           0.3108904520964982,
           0.32483171971818114,
           2.2099484007511823
          ],
          [
           "VAC",
           0.3108904520964982,
           0.32483171971818114,
           2.2099484007511823
          ]
         ],
         "hoverlabel": {
          "bgcolor": "#FFFFFF",
          "bordercolor": "rgba(174, 199, 232, 1)",
          "font": {
           "color": "#000000"
          }
         },
         "hovertemplate": "Model: %{customdata[0]}<br>Standard Deviation: %{customdata[1]:.3f}<br>Correlation: %{customdata[2]:.3f}<br>Reference distance (CRMSE): %{customdata[3]:.3f}<br><extra></extra>",
         "legendgroup": "VAC",
         "marker": {
          "color": "rgba(174, 199, 232, 0.6)",
          "line": {
           "color": "rgba(174, 199, 232, 1)",
           "width": 2
          },
          "size": 10
         },
         "mode": "markers",
         "name": "2. VAC",
         "r": [
          0.3108904520964982
         ],
         "showlegend": true,
         "theta": [
          71.04461990626005
         ],
         "type": "scatterpolar"
        },
        {
         "customdata": [
          [
           "POX",
           1.8371177633199223,
           0.3889947226882911,
           2.313041215264086
          ],
          [
           "POX",
           1.8371177633199223,
           0.3889947226882911,
           2.313041215264086
          ],
          [
           "POX",
           1.8371177633199223,
           0.3889947226882911,
           2.313041215264086
          ],
          [
           "POX",
           1.8371177633199223,
           0.3889947226882911,
           2.313041215264086
          ],
          [
           "POX",
           1.8371177633199223,
           0.3889947226882911,
           2.313041215264086
          ],
          [
           "POX",
           1.8371177633199223,
           0.3889947226882911,
           2.313041215264086
          ],
          [
           "POX",
           1.8371177633199223,
           0.3889947226882911,
           2.313041215264086
          ],
          [
           "POX",
           1.8371177633199223,
           0.3889947226882911,
           2.313041215264086
          ],
          [
           "POX",
           1.8371177633199223,
           0.3889947226882911,
           2.313041215264086
          ],
          [
           "POX",
           1.8371177633199223,
           0.3889947226882911,
           2.313041215264086
          ],
          [
           "POX",
           1.8371177633199223,
           0.3889947226882911,
           2.313041215264086
          ]
         ],
         "hoverlabel": {
          "bgcolor": "#FFFFFF",
          "bordercolor": "rgba(255, 127, 14, 1)",
          "font": {
           "color": "#000000"
          }
         },
         "hovertemplate": "Model: %{customdata[0]}<br>Standard Deviation: %{customdata[1]:.3f}<br>Correlation: %{customdata[2]:.3f}<br>Reference distance (CRMSE): %{customdata[3]:.3f}<br><extra></extra>",
         "legendgroup": "POX",
         "marker": {
          "color": "rgba(255, 127, 14, 0.6)",
          "line": {
           "color": "rgba(255, 127, 14, 1)",
           "width": 2
          },
          "size": 10
         },
         "mode": "markers",
         "name": "3. POX",
         "r": [
          1.8371177633199223
         ],
         "showlegend": true,
         "theta": [
          67.1080374354663
         ],
         "type": "scatterpolar"
        },
        {
         "customdata": [
          [
           "NUC",
           0.2953308683828515,
           -0.0650768084689415,
           2.329225990844425
          ],
          [
           "NUC",
           0.2953308683828515,
           -0.0650768084689415,
           2.329225990844425
          ],
          [
           "NUC",
           0.2953308683828515,
           -0.0650768084689415,
           2.329225990844425
          ],
          [
           "NUC",
           0.2953308683828515,
           -0.0650768084689415,
           2.329225990844425
          ],
          [
           "NUC",
           0.2953308683828515,
           -0.0650768084689415,
           2.329225990844425
          ],
          [
           "NUC",
           0.2953308683828515,
           -0.0650768084689415,
           2.329225990844425
          ],
          [
           "NUC",
           0.2953308683828515,
           -0.0650768084689415,
           2.329225990844425
          ],
          [
           "NUC",
           0.2953308683828515,
           -0.0650768084689415,
           2.329225990844425
          ],
          [
           "NUC",
           0.2953308683828515,
           -0.0650768084689415,
           2.329225990844425
          ],
          [
           "NUC",
           0.2953308683828515,
           -0.0650768084689415,
           2.329225990844425
          ],
          [
           "NUC",
           0.2953308683828515,
           -0.0650768084689415,
           2.329225990844425
          ]
         ],
         "hoverlabel": {
          "bgcolor": "#FFFFFF",
          "bordercolor": "rgba(255, 187, 120, 1)",
          "font": {
           "color": "#000000"
          }
         },
         "hovertemplate": "Model: %{customdata[0]}<br>Standard Deviation: %{customdata[1]:.3f}<br>Correlation: %{customdata[2]:.3f}<br>Reference distance (CRMSE): %{customdata[3]:.3f}<br><extra></extra>",
         "legendgroup": "NUC",
         "marker": {
          "color": "rgba(255, 187, 120, 0.6)",
          "line": {
           "color": "rgba(255, 187, 120, 1)",
           "width": 2
          },
          "size": 10
         },
         "mode": "markers",
         "name": "4. NUC",
         "r": [
          0.2953308683828515
         ],
         "showlegend": true,
         "theta": [
          93.73126328089869
         ],
         "type": "scatterpolar"
        },
        {
         "customdata": [
          [
           "ME2",
           0.7189965940934198,
           0.08661792066471191,
           2.341273691660915
          ],
          [
           "ME2",
           0.7189965940934198,
           0.08661792066471191,
           2.341273691660915
          ],
          [
           "ME2",
           0.7189965940934198,
           0.08661792066471191,
           2.341273691660915
          ],
          [
           "ME2",
           0.7189965940934198,
           0.08661792066471191,
           2.341273691660915
          ],
          [
           "ME2",
           0.7189965940934198,
           0.08661792066471191,
           2.341273691660915
          ],
          [
           "ME2",
           0.7189965940934198,
           0.08661792066471191,
           2.341273691660915
          ],
          [
           "ME2",
           0.7189965940934198,
           0.08661792066471191,
           2.341273691660915
          ],
          [
           "ME2",
           0.7189965940934198,
           0.08661792066471191,
           2.341273691660915
          ],
          [
           "ME2",
           0.7189965940934198,
           0.08661792066471191,
           2.341273691660915
          ],
          [
           "ME2",
           0.7189965940934198,
           0.08661792066471191,
           2.341273691660915
          ],
          [
           "ME2",
           0.7189965940934198,
           0.08661792066471191,
           2.341273691660915
          ]
         ],
         "hoverlabel": {
          "bgcolor": "#FFFFFF",
          "bordercolor": "rgba(44, 160, 44, 1)",
          "font": {
           "color": "#000000"
          }
         },
         "hovertemplate": "Model: %{customdata[0]}<br>Standard Deviation: %{customdata[1]:.3f}<br>Correlation: %{customdata[2]:.3f}<br>Reference distance (CRMSE): %{customdata[3]:.3f}<br><extra></extra>",
         "legendgroup": "ME2",
         "marker": {
          "color": "rgba(44, 160, 44, 0.6)",
          "line": {
           "color": "rgba(44, 160, 44, 1)",
           "width": 2
          },
          "size": 10
         },
         "mode": "markers",
         "name": "5. ME2",
         "r": [
          0.7189965940934198
         ],
         "showlegend": true,
         "theta": [
          85.03093191454431
         ],
         "type": "scatterpolar"
        },
        {
         "customdata": [
          [
           "MIT",
           0.3776638787442458,
           -0.10945962009644866,
           2.362640228326463
          ],
          [
           "MIT",
           0.3776638787442458,
           -0.10945962009644866,
           2.362640228326463
          ],
          [
           "MIT",
           0.3776638787442458,
           -0.10945962009644866,
           2.362640228326463
          ],
          [
           "MIT",
           0.3776638787442458,
           -0.10945962009644866,
           2.362640228326463
          ],
          [
           "MIT",
           0.3776638787442458,
           -0.10945962009644866,
           2.362640228326463
          ],
          [
           "MIT",
           0.3776638787442458,
           -0.10945962009644866,
           2.362640228326463
          ],
          [
           "MIT",
           0.3776638787442458,
           -0.10945962009644866,
           2.362640228326463
          ],
          [
           "MIT",
           0.3776638787442458,
           -0.10945962009644866,
           2.362640228326463
          ],
          [
           "MIT",
           0.3776638787442458,
           -0.10945962009644866,
           2.362640228326463
          ],
          [
           "MIT",
           0.3776638787442458,
           -0.10945962009644866,
           2.362640228326463
          ],
          [
           "MIT",
           0.3776638787442458,
           -0.10945962009644866,
           2.362640228326463
          ]
         ],
         "hoverlabel": {
          "bgcolor": "#FFFFFF",
          "bordercolor": "rgba(152, 223, 138, 1)",
          "font": {
           "color": "#000000"
          }
         },
         "hovertemplate": "Model: %{customdata[0]}<br>Standard Deviation: %{customdata[1]:.3f}<br>Correlation: %{customdata[2]:.3f}<br>Reference distance (CRMSE): %{customdata[3]:.3f}<br><extra></extra>",
         "legendgroup": "MIT",
         "marker": {
          "color": "rgba(152, 223, 138, 0.6)",
          "line": {
           "color": "rgba(152, 223, 138, 1)",
           "width": 2
          },
          "size": 10
         },
         "mode": "markers",
         "name": "6. MIT",
         "r": [
          0.3776638787442458
         ],
         "showlegend": true,
         "theta": [
          96.28416598289327
         ],
         "type": "scatterpolar"
        },
        {
         "customdata": [
          [
           "CYT",
           0.19872548005034663,
           -0.44011800215505004,
           2.3854341496075744
          ],
          [
           "CYT",
           0.19872548005034663,
           -0.44011800215505004,
           2.3854341496075744
          ],
          [
           "CYT",
           0.19872548005034663,
           -0.44011800215505004,
           2.3854341496075744
          ],
          [
           "CYT",
           0.19872548005034663,
           -0.44011800215505004,
           2.3854341496075744
          ],
          [
           "CYT",
           0.19872548005034663,
           -0.44011800215505004,
           2.3854341496075744
          ],
          [
           "CYT",
           0.19872548005034663,
           -0.44011800215505004,
           2.3854341496075744
          ],
          [
           "CYT",
           0.19872548005034663,
           -0.44011800215505004,
           2.3854341496075744
          ],
          [
           "CYT",
           0.19872548005034663,
           -0.44011800215505004,
           2.3854341496075744
          ],
          [
           "CYT",
           0.19872548005034663,
           -0.44011800215505004,
           2.3854341496075744
          ],
          [
           "CYT",
           0.19872548005034663,
           -0.44011800215505004,
           2.3854341496075744
          ],
          [
           "CYT",
           0.19872548005034663,
           -0.44011800215505004,
           2.3854341496075744
          ]
         ],
         "hoverlabel": {
          "bgcolor": "#FFFFFF",
          "bordercolor": "rgba(214, 39, 40, 1)",
          "font": {
           "color": "#000000"
          }
         },
         "hovertemplate": "Model: %{customdata[0]}<br>Standard Deviation: %{customdata[1]:.3f}<br>Correlation: %{customdata[2]:.3f}<br>Reference distance (CRMSE): %{customdata[3]:.3f}<br><extra></extra>",
         "legendgroup": "CYT",
         "marker": {
          "color": "rgba(214, 39, 40, 0.6)",
          "line": {
           "color": "rgba(214, 39, 40, 1)",
           "width": 2
          },
          "size": 10
         },
         "mode": "markers",
         "name": "7. CYT",
         "r": [
          0.19872548005034663
         ],
         "showlegend": true,
         "theta": [
          116.11141038001057
         ],
         "type": "scatterpolar"
        },
        {
         "customdata": [
          [
           "ME1",
           1.1063694439050262,
           0.08411704574733592,
           2.4591824042086636
          ],
          [
           "ME1",
           1.1063694439050262,
           0.08411704574733592,
           2.4591824042086636
          ],
          [
           "ME1",
           1.1063694439050262,
           0.08411704574733592,
           2.4591824042086636
          ],
          [
           "ME1",
           1.1063694439050262,
           0.08411704574733592,
           2.4591824042086636
          ],
          [
           "ME1",
           1.1063694439050262,
           0.08411704574733592,
           2.4591824042086636
          ],
          [
           "ME1",
           1.1063694439050262,
           0.08411704574733592,
           2.4591824042086636
          ],
          [
           "ME1",
           1.1063694439050262,
           0.08411704574733592,
           2.4591824042086636
          ],
          [
           "ME1",
           1.1063694439050262,
           0.08411704574733592,
           2.4591824042086636
          ],
          [
           "ME1",
           1.1063694439050262,
           0.08411704574733592,
           2.4591824042086636
          ],
          [
           "ME1",
           1.1063694439050262,
           0.08411704574733592,
           2.4591824042086636
          ],
          [
           "ME1",
           1.1063694439050262,
           0.08411704574733592,
           2.4591824042086636
          ]
         ],
         "hoverlabel": {
          "bgcolor": "#FFFFFF",
          "bordercolor": "rgba(255, 152, 150, 1)",
          "font": {
           "color": "#000000"
          }
         },
         "hovertemplate": "Model: %{customdata[0]}<br>Standard Deviation: %{customdata[1]:.3f}<br>Correlation: %{customdata[2]:.3f}<br>Reference distance (CRMSE): %{customdata[3]:.3f}<br><extra></extra>",
         "legendgroup": "ME1",
         "marker": {
          "color": "rgba(255, 152, 150, 0.6)",
          "line": {
           "color": "rgba(255, 152, 150, 1)",
           "width": 2
          },
          "size": 10
         },
         "mode": "markers",
         "name": "8. ME1",
         "r": [
          1.1063694439050262
         ],
         "showlegend": true,
         "theta": [
          85.1747465212546
         ],
         "type": "scatterpolar"
        },
        {
         "customdata": [
          [
           "EXC",
           0.8868632058840226,
           -0.3966931367837671,
           2.765634461239953
          ],
          [
           "EXC",
           0.8868632058840226,
           -0.3966931367837671,
           2.765634461239953
          ],
          [
           "EXC",
           0.8868632058840226,
           -0.3966931367837671,
           2.765634461239953
          ],
          [
           "EXC",
           0.8868632058840226,
           -0.3966931367837671,
           2.765634461239953
          ],
          [
           "EXC",
           0.8868632058840226,
           -0.3966931367837671,
           2.765634461239953
          ],
          [
           "EXC",
           0.8868632058840226,
           -0.3966931367837671,
           2.765634461239953
          ],
          [
           "EXC",
           0.8868632058840226,
           -0.3966931367837671,
           2.765634461239953
          ],
          [
           "EXC",
           0.8868632058840226,
           -0.3966931367837671,
           2.765634461239953
          ],
          [
           "EXC",
           0.8868632058840226,
           -0.3966931367837671,
           2.765634461239953
          ],
          [
           "EXC",
           0.8868632058840226,
           -0.3966931367837671,
           2.765634461239953
          ],
          [
           "EXC",
           0.8868632058840226,
           -0.3966931367837671,
           2.765634461239953
          ]
         ],
         "hoverlabel": {
          "bgcolor": "#FFFFFF",
          "bordercolor": "rgba(148, 103, 189, 1)",
          "font": {
           "color": "#000000"
          }
         },
         "hovertemplate": "Model: %{customdata[0]}<br>Standard Deviation: %{customdata[1]:.3f}<br>Correlation: %{customdata[2]:.3f}<br>Reference distance (CRMSE): %{customdata[3]:.3f}<br><extra></extra>",
         "legendgroup": "EXC",
         "marker": {
          "color": "rgba(148, 103, 189, 0.6)",
          "line": {
           "color": "rgba(148, 103, 189, 1)",
           "width": 2
          },
          "size": 10
         },
         "mode": "markers",
         "name": "9. EXC",
         "r": [
          0.8868632058840226
         ],
         "showlegend": true,
         "theta": [
          113.37161258157391
         ],
         "type": "scatterpolar"
        },
        {
         "customdata": [
          [
           "ERL",
           3.279972164036785,
           -0.4466406637992984,
           4.766712543902036
          ],
          [
           "ERL",
           3.279972164036785,
           -0.4466406637992984,
           4.766712543902036
          ],
          [
           "ERL",
           3.279972164036785,
           -0.4466406637992984,
           4.766712543902036
          ],
          [
           "ERL",
           3.279972164036785,
           -0.4466406637992984,
           4.766712543902036
          ],
          [
           "ERL",
           3.279972164036785,
           -0.4466406637992984,
           4.766712543902036
          ],
          [
           "ERL",
           3.279972164036785,
           -0.4466406637992984,
           4.766712543902036
          ],
          [
           "ERL",
           3.279972164036785,
           -0.4466406637992984,
           4.766712543902036
          ],
          [
           "ERL",
           3.279972164036785,
           -0.4466406637992984,
           4.766712543902036
          ],
          [
           "ERL",
           3.279972164036785,
           -0.4466406637992984,
           4.766712543902036
          ],
          [
           "ERL",
           3.279972164036785,
           -0.4466406637992984,
           4.766712543902036
          ],
          [
           "ERL",
           3.279972164036785,
           -0.4466406637992984,
           4.766712543902036
          ]
         ],
         "hoverlabel": {
          "bgcolor": "#FFFFFF",
          "bordercolor": "rgba(197, 176, 213, 1)",
          "font": {
           "color": "#000000"
          }
         },
         "hovertemplate": "Model: %{customdata[0]}<br>Standard Deviation: %{customdata[1]:.3f}<br>Correlation: %{customdata[2]:.3f}<br>Reference distance (CRMSE): %{customdata[3]:.3f}<br><extra></extra>",
         "legendgroup": "ERL",
         "marker": {
          "color": "rgba(197, 176, 213, 0.6)",
          "line": {
           "color": "rgba(197, 176, 213, 1)",
           "width": 2
          },
          "size": 10
         },
         "mode": "markers",
         "name": "10. ERL",
         "r": [
          3.279972164036785
         ],
         "showlegend": true,
         "theta": [
          116.52835583079319
         ],
         "type": "scatterpolar"
        }
       ],
       "layout": {
        "height": 740,
        "legend": {
         "bgcolor": "#FFFFFF",
         "bordercolor": "#C0C0C0",
         "borderwidth": 0.2,
         "font": {
          "color": "#404040"
         },
         "orientation": "h",
         "title": {
          "text": "Model"
         },
         "x": 0,
         "y": -0.2
        },
        "polar": {
         "angularaxis": {
          "direction": "counterclockwise",
          "gridcolor": "#C0C0C0",
          "griddash": "solid",
          "layer": "below traces",
          "linecolor": "#000000",
          "showline": true,
          "tickcolor": "#000000",
          "tickfont": {
           "color": "#404040"
          },
          "ticks": "outside",
          "ticktext": [
           -1,
           -0.99,
           -0.95,
           -0.9,
           -0.8,
           -0.7,
           -0.6,
           -0.4,
           -0.2,
           0,
           0.2,
           0.4,
           0.6,
           0.7,
           0.8,
           0.9,
           0.95,
           0.99,
           1
          ],
          "tickvals": [
           180,
           171.89038554400582,
           161.80512766123323,
           154.15806723683286,
           143.13010235415598,
           134.42700400080568,
           126.86989764584402,
           113.57817847820183,
           101.53695903281549,
           90,
           78.46304096718451,
           66.42182152179817,
           53.13010235415599,
           45.5729959991943,
           36.86989764584401,
           25.841932763167126,
           18.194872338766785,
           8.109614455994183,
           0
          ],
          "tickwidth": 2
         },
         "bgcolor": "#FFFFFF",
         "radialaxis": {
          "gridcolor": "#C0C0C0",
          "griddash": "solid",
          "layer": "below traces",
          "linecolor": "#000000",
          "range": [
           0,
           4.272389707578267
          ],
          "showline": true,
          "tickcolor": "#000000",
          "tickfont": {
           "color": "#404040"
          },
          "ticks": "outside",
          "tickwidth": 2,
          "title": {
           "font": {
            "color": "#404040",
            "size": 16
           },
           "text": "<br>Standard Deviation"
          }
         },
         "sector": [
          0,
          180
         ]
        },
        "template": {
         "data": {
          "bar": [
           {
            "error_x": {
             "color": "#2a3f5f"
            },
            "error_y": {
             "color": "#2a3f5f"
            },
            "marker": {
             "line": {
              "color": "#E5ECF6",
              "width": 0.5
             },
             "pattern": {
              "fillmode": "overlay",
              "size": 10,
              "solidity": 0.2
             }
            },
            "type": "bar"
           }
          ],
          "barpolar": [
           {
            "marker": {
             "line": {
              "color": "#E5ECF6",
              "width": 0.5
             },
             "pattern": {
              "fillmode": "overlay",
              "size": 10,
              "solidity": 0.2
             }
            },
            "type": "barpolar"
           }
          ],
          "carpet": [
           {
            "aaxis": {
             "endlinecolor": "#2a3f5f",
             "gridcolor": "white",
             "linecolor": "white",
             "minorgridcolor": "white",
             "startlinecolor": "#2a3f5f"
            },
            "baxis": {
             "endlinecolor": "#2a3f5f",
             "gridcolor": "white",
             "linecolor": "white",
             "minorgridcolor": "white",
             "startlinecolor": "#2a3f5f"
            },
            "type": "carpet"
           }
          ],
          "choropleth": [
           {
            "colorbar": {
             "outlinewidth": 0,
             "ticks": ""
            },
            "type": "choropleth"
           }
          ],
          "contour": [
           {
            "colorbar": {
             "outlinewidth": 0,
             "ticks": ""
            },
            "colorscale": [
             [
              0,
              "#0d0887"
             ],
             [
              0.1111111111111111,
              "#46039f"
             ],
             [
              0.2222222222222222,
              "#7201a8"
             ],
             [
              0.3333333333333333,
              "#9c179e"
             ],
             [
              0.4444444444444444,
              "#bd3786"
             ],
             [
              0.5555555555555556,
              "#d8576b"
             ],
             [
              0.6666666666666666,
              "#ed7953"
             ],
             [
              0.7777777777777778,
              "#fb9f3a"
             ],
             [
              0.8888888888888888,
              "#fdca26"
             ],
             [
              1,
              "#f0f921"
             ]
            ],
            "type": "contour"
           }
          ],
          "contourcarpet": [
           {
            "colorbar": {
             "outlinewidth": 0,
             "ticks": ""
            },
            "type": "contourcarpet"
           }
          ],
          "heatmap": [
           {
            "colorbar": {
             "outlinewidth": 0,
             "ticks": ""
            },
            "colorscale": [
             [
              0,
              "#0d0887"
             ],
             [
              0.1111111111111111,
              "#46039f"
             ],
             [
              0.2222222222222222,
              "#7201a8"
             ],
             [
              0.3333333333333333,
              "#9c179e"
             ],
             [
              0.4444444444444444,
              "#bd3786"
             ],
             [
              0.5555555555555556,
              "#d8576b"
             ],
             [
              0.6666666666666666,
              "#ed7953"
             ],
             [
              0.7777777777777778,
              "#fb9f3a"
             ],
             [
              0.8888888888888888,
              "#fdca26"
             ],
             [
              1,
              "#f0f921"
             ]
            ],
            "type": "heatmap"
           }
          ],
          "heatmapgl": [
           {
            "colorbar": {
             "outlinewidth": 0,
             "ticks": ""
            },
            "colorscale": [
             [
              0,
              "#0d0887"
             ],
             [
              0.1111111111111111,
              "#46039f"
             ],
             [
              0.2222222222222222,
              "#7201a8"
             ],
             [
              0.3333333333333333,
              "#9c179e"
             ],
             [
              0.4444444444444444,
              "#bd3786"
             ],
             [
              0.5555555555555556,
              "#d8576b"
             ],
             [
              0.6666666666666666,
              "#ed7953"
             ],
             [
              0.7777777777777778,
              "#fb9f3a"
             ],
             [
              0.8888888888888888,
              "#fdca26"
             ],
             [
              1,
              "#f0f921"
             ]
            ],
            "type": "heatmapgl"
           }
          ],
          "histogram": [
           {
            "marker": {
             "pattern": {
              "fillmode": "overlay",
              "size": 10,
              "solidity": 0.2
             }
            },
            "type": "histogram"
           }
          ],
          "histogram2d": [
           {
            "colorbar": {
             "outlinewidth": 0,
             "ticks": ""
            },
            "colorscale": [
             [
              0,
              "#0d0887"
             ],
             [
              0.1111111111111111,
              "#46039f"
             ],
             [
              0.2222222222222222,
              "#7201a8"
             ],
             [
              0.3333333333333333,
              "#9c179e"
             ],
             [
              0.4444444444444444,
              "#bd3786"
             ],
             [
              0.5555555555555556,
              "#d8576b"
             ],
             [
              0.6666666666666666,
              "#ed7953"
             ],
             [
              0.7777777777777778,
              "#fb9f3a"
             ],
             [
              0.8888888888888888,
              "#fdca26"
             ],
             [
              1,
              "#f0f921"
             ]
            ],
            "type": "histogram2d"
           }
          ],
          "histogram2dcontour": [
           {
            "colorbar": {
             "outlinewidth": 0,
             "ticks": ""
            },
            "colorscale": [
             [
              0,
              "#0d0887"
             ],
             [
              0.1111111111111111,
              "#46039f"
             ],
             [
              0.2222222222222222,
              "#7201a8"
             ],
             [
              0.3333333333333333,
              "#9c179e"
             ],
             [
              0.4444444444444444,
              "#bd3786"
             ],
             [
              0.5555555555555556,
              "#d8576b"
             ],
             [
              0.6666666666666666,
              "#ed7953"
             ],
             [
              0.7777777777777778,
              "#fb9f3a"
             ],
             [
              0.8888888888888888,
              "#fdca26"
             ],
             [
              1,
              "#f0f921"
             ]
            ],
            "type": "histogram2dcontour"
           }
          ],
          "mesh3d": [
           {
            "colorbar": {
             "outlinewidth": 0,
             "ticks": ""
            },
            "type": "mesh3d"
           }
          ],
          "parcoords": [
           {
            "line": {
             "colorbar": {
              "outlinewidth": 0,
              "ticks": ""
             }
            },
            "type": "parcoords"
           }
          ],
          "pie": [
           {
            "automargin": true,
            "type": "pie"
           }
          ],
          "scatter": [
           {
            "fillpattern": {
             "fillmode": "overlay",
             "size": 10,
             "solidity": 0.2
            },
            "type": "scatter"
           }
          ],
          "scatter3d": [
           {
            "line": {
             "colorbar": {
              "outlinewidth": 0,
              "ticks": ""
             }
            },
            "marker": {
             "colorbar": {
              "outlinewidth": 0,
              "ticks": ""
             }
            },
            "type": "scatter3d"
           }
          ],
          "scattercarpet": [
           {
            "marker": {
             "colorbar": {
              "outlinewidth": 0,
              "ticks": ""
             }
            },
            "type": "scattercarpet"
           }
          ],
          "scattergeo": [
           {
            "marker": {
             "colorbar": {
              "outlinewidth": 0,
              "ticks": ""
             }
            },
            "type": "scattergeo"
           }
          ],
          "scattergl": [
           {
            "marker": {
             "colorbar": {
              "outlinewidth": 0,
              "ticks": ""
             }
            },
            "type": "scattergl"
           }
          ],
          "scattermapbox": [
           {
            "marker": {
             "colorbar": {
              "outlinewidth": 0,
              "ticks": ""
             }
            },
            "type": "scattermapbox"
           }
          ],
          "scatterpolar": [
           {
            "marker": {
             "colorbar": {
              "outlinewidth": 0,
              "ticks": ""
             }
            },
            "type": "scatterpolar"
           }
          ],
          "scatterpolargl": [
           {
            "marker": {
             "colorbar": {
              "outlinewidth": 0,
              "ticks": ""
             }
            },
            "type": "scatterpolargl"
           }
          ],
          "scatterternary": [
           {
            "marker": {
             "colorbar": {
              "outlinewidth": 0,
              "ticks": ""
             }
            },
            "type": "scatterternary"
           }
          ],
          "surface": [
           {
            "colorbar": {
             "outlinewidth": 0,
             "ticks": ""
            },
            "colorscale": [
             [
              0,
              "#0d0887"
             ],
             [
              0.1111111111111111,
              "#46039f"
             ],
             [
              0.2222222222222222,
              "#7201a8"
             ],
             [
              0.3333333333333333,
              "#9c179e"
             ],
             [
              0.4444444444444444,
              "#bd3786"
             ],
             [
              0.5555555555555556,
              "#d8576b"
             ],
             [
              0.6666666666666666,
              "#ed7953"
             ],
             [
              0.7777777777777778,
              "#fb9f3a"
             ],
             [
              0.8888888888888888,
              "#fdca26"
             ],
             [
              1,
              "#f0f921"
             ]
            ],
            "type": "surface"
           }
          ],
          "table": [
           {
            "cells": {
             "fill": {
              "color": "#EBF0F8"
             },
             "line": {
              "color": "white"
             }
            },
            "header": {
             "fill": {
              "color": "#C8D4E3"
             },
             "line": {
              "color": "white"
             }
            },
            "type": "table"
           }
          ]
         },
         "layout": {
          "annotationdefaults": {
           "arrowcolor": "#2a3f5f",
           "arrowhead": 0,
           "arrowwidth": 1
          },
          "autotypenumbers": "strict",
          "coloraxis": {
           "colorbar": {
            "outlinewidth": 0,
            "ticks": ""
           }
          },
          "colorscale": {
           "diverging": [
            [
             0,
             "#8e0152"
            ],
            [
             0.1,
             "#c51b7d"
            ],
            [
             0.2,
             "#de77ae"
            ],
            [
             0.3,
             "#f1b6da"
            ],
            [
             0.4,
             "#fde0ef"
            ],
            [
             0.5,
             "#f7f7f7"
            ],
            [
             0.6,
             "#e6f5d0"
            ],
            [
             0.7,
             "#b8e186"
            ],
            [
             0.8,
             "#7fbc41"
            ],
            [
             0.9,
             "#4d9221"
            ],
            [
             1,
             "#276419"
            ]
           ],
           "sequential": [
            [
             0,
             "#0d0887"
            ],
            [
             0.1111111111111111,
             "#46039f"
            ],
            [
             0.2222222222222222,
             "#7201a8"
            ],
            [
             0.3333333333333333,
             "#9c179e"
            ],
            [
             0.4444444444444444,
             "#bd3786"
            ],
            [
             0.5555555555555556,
             "#d8576b"
            ],
            [
             0.6666666666666666,
             "#ed7953"
            ],
            [
             0.7777777777777778,
             "#fb9f3a"
            ],
            [
             0.8888888888888888,
             "#fdca26"
            ],
            [
             1,
             "#f0f921"
            ]
           ],
           "sequentialminus": [
            [
             0,
             "#0d0887"
            ],
            [
             0.1111111111111111,
             "#46039f"
            ],
            [
             0.2222222222222222,
             "#7201a8"
            ],
            [
             0.3333333333333333,
             "#9c179e"
            ],
            [
             0.4444444444444444,
             "#bd3786"
            ],
            [
             0.5555555555555556,
             "#d8576b"
            ],
            [
             0.6666666666666666,
             "#ed7953"
            ],
            [
             0.7777777777777778,
             "#fb9f3a"
            ],
            [
             0.8888888888888888,
             "#fdca26"
            ],
            [
             1,
             "#f0f921"
            ]
           ]
          },
          "colorway": [
           "#636efa",
           "#EF553B",
           "#00cc96",
           "#ab63fa",
           "#FFA15A",
           "#19d3f3",
           "#FF6692",
           "#B6E880",
           "#FF97FF",
           "#FECB52"
          ],
          "font": {
           "color": "#2a3f5f"
          },
          "geo": {
           "bgcolor": "white",
           "lakecolor": "white",
           "landcolor": "#E5ECF6",
           "showlakes": true,
           "showland": true,
           "subunitcolor": "white"
          },
          "hoverlabel": {
           "align": "left"
          },
          "hovermode": "closest",
          "mapbox": {
           "style": "light"
          },
          "paper_bgcolor": "white",
          "plot_bgcolor": "#E5ECF6",
          "polar": {
           "angularaxis": {
            "gridcolor": "white",
            "linecolor": "white",
            "ticks": ""
           },
           "bgcolor": "#E5ECF6",
           "radialaxis": {
            "gridcolor": "white",
            "linecolor": "white",
            "ticks": ""
           }
          },
          "scene": {
           "xaxis": {
            "backgroundcolor": "#E5ECF6",
            "gridcolor": "white",
            "gridwidth": 2,
            "linecolor": "white",
            "showbackground": true,
            "ticks": "",
            "zerolinecolor": "white"
           },
           "yaxis": {
            "backgroundcolor": "#E5ECF6",
            "gridcolor": "white",
            "gridwidth": 2,
            "linecolor": "white",
            "showbackground": true,
            "ticks": "",
            "zerolinecolor": "white"
           },
           "zaxis": {
            "backgroundcolor": "#E5ECF6",
            "gridcolor": "white",
            "gridwidth": 2,
            "linecolor": "white",
            "showbackground": true,
            "ticks": "",
            "zerolinecolor": "white"
           }
          },
          "shapedefaults": {
           "line": {
            "color": "#2a3f5f"
           }
          },
          "ternary": {
           "aaxis": {
            "gridcolor": "white",
            "linecolor": "white",
            "ticks": ""
           },
           "baxis": {
            "gridcolor": "white",
            "linecolor": "white",
            "ticks": ""
           },
           "bgcolor": "#E5ECF6",
           "caxis": {
            "gridcolor": "white",
            "linecolor": "white",
            "ticks": ""
           }
          },
          "title": {
           "x": 0.05
          },
          "xaxis": {
           "automargin": true,
           "gridcolor": "white",
           "linecolor": "white",
           "ticks": "",
           "title": {
            "standoff": 15
           },
           "zerolinecolor": "white",
           "zerolinewidth": 2
          },
          "yaxis": {
           "automargin": true,
           "gridcolor": "white",
           "linecolor": "white",
           "ticks": "",
           "title": {
            "standoff": 15
           },
           "zerolinecolor": "white",
           "zerolinewidth": 2
          }
         }
        },
        "title": {
         "font": {
          "color": "#404040",
          "size": 16
         },
         "text": "Correlation",
         "x": 0.5,
         "xanchor": "auto",
         "xref": "paper",
         "yanchor": "auto",
         "yref": "paper"
        },
        "width": 800
       }
      }
     },
     "metadata": {},
     "output_type": "display_data"
    }
   ],
   "source": [
    "DICT_PLOTLY_CONFIG = {\n",
    "    'displaylogo': False,\n",
    "    'toImageButtonOptions': {\n",
    "        'format': 'png', # one of png, svg, jpeg, webp\n",
    "        'filename': 'polar_diagram',\n",
    "        #'height': 500,\n",
    "        #'width': 700,\n",
    "        'scale': 6 # Multiply title/legend/axis/canvas sizes by this factor\n",
    "}}\n",
    "\n",
    "\n",
    "chart_taylor_res = diag.chart_create_taylor_diagram(\n",
    "    df_pivot[['CYT', 'ERL', 'EXC', 'ME1', 'ME2', 'ME3', 'MIT', 'NUC', 'POX', 'VAC', \"Reference Model\"]], \n",
    "    string_reference_model=string_ref_model, \n",
    "    string_corr_method=string_corr_method\n",
    ")\n",
    "chart_taylor_res.show(config=DICT_PLOTLY_CONFIG)"
   ]
  },
  {
   "cell_type": "code",
   "execution_count": 54,
   "metadata": {},
   "outputs": [
    {
     "name": "stderr",
     "output_type": "stream",
     "text": [
      "/Users/AwotoroE-Dev/Desktop/FlowMDP/.env/lib/python3.11/site-packages/sklearn/metrics/_regression.py:492: FutureWarning:\n",
      "\n",
      "'squared' is deprecated in version 1.4 and will be removed in 1.6. To calculate the root mean squared error, use the function'root_mean_squared_error'.\n",
      "\n",
      "/Users/AwotoroE-Dev/Desktop/FlowMDP/.env/lib/python3.11/site-packages/sklearn/metrics/_regression.py:492: FutureWarning:\n",
      "\n",
      "'squared' is deprecated in version 1.4 and will be removed in 1.6. To calculate the root mean squared error, use the function'root_mean_squared_error'.\n",
      "\n",
      "/Users/AwotoroE-Dev/Desktop/FlowMDP/.env/lib/python3.11/site-packages/sklearn/metrics/_regression.py:492: FutureWarning:\n",
      "\n",
      "'squared' is deprecated in version 1.4 and will be removed in 1.6. To calculate the root mean squared error, use the function'root_mean_squared_error'.\n",
      "\n",
      "/Users/AwotoroE-Dev/Desktop/FlowMDP/.env/lib/python3.11/site-packages/sklearn/metrics/_regression.py:492: FutureWarning:\n",
      "\n",
      "'squared' is deprecated in version 1.4 and will be removed in 1.6. To calculate the root mean squared error, use the function'root_mean_squared_error'.\n",
      "\n",
      "/Users/AwotoroE-Dev/Desktop/FlowMDP/.env/lib/python3.11/site-packages/sklearn/metrics/_regression.py:492: FutureWarning:\n",
      "\n",
      "'squared' is deprecated in version 1.4 and will be removed in 1.6. To calculate the root mean squared error, use the function'root_mean_squared_error'.\n",
      "\n",
      "/Users/AwotoroE-Dev/Desktop/FlowMDP/.env/lib/python3.11/site-packages/sklearn/metrics/_regression.py:492: FutureWarning:\n",
      "\n",
      "'squared' is deprecated in version 1.4 and will be removed in 1.6. To calculate the root mean squared error, use the function'root_mean_squared_error'.\n",
      "\n",
      "/Users/AwotoroE-Dev/Desktop/FlowMDP/.env/lib/python3.11/site-packages/sklearn/metrics/_regression.py:492: FutureWarning:\n",
      "\n",
      "'squared' is deprecated in version 1.4 and will be removed in 1.6. To calculate the root mean squared error, use the function'root_mean_squared_error'.\n",
      "\n",
      "/Users/AwotoroE-Dev/Desktop/FlowMDP/.env/lib/python3.11/site-packages/sklearn/metrics/_regression.py:492: FutureWarning:\n",
      "\n",
      "'squared' is deprecated in version 1.4 and will be removed in 1.6. To calculate the root mean squared error, use the function'root_mean_squared_error'.\n",
      "\n",
      "/Users/AwotoroE-Dev/Desktop/FlowMDP/.env/lib/python3.11/site-packages/sklearn/metrics/_regression.py:492: FutureWarning:\n",
      "\n",
      "'squared' is deprecated in version 1.4 and will be removed in 1.6. To calculate the root mean squared error, use the function'root_mean_squared_error'.\n",
      "\n",
      "/Users/AwotoroE-Dev/Desktop/FlowMDP/.env/lib/python3.11/site-packages/sklearn/metrics/_regression.py:492: FutureWarning:\n",
      "\n",
      "'squared' is deprecated in version 1.4 and will be removed in 1.6. To calculate the root mean squared error, use the function'root_mean_squared_error'.\n",
      "\n",
      "/Users/AwotoroE-Dev/Desktop/FlowMDP/.env/lib/python3.11/site-packages/sklearn/metrics/_regression.py:492: FutureWarning:\n",
      "\n",
      "'squared' is deprecated in version 1.4 and will be removed in 1.6. To calculate the root mean squared error, use the function'root_mean_squared_error'.\n",
      "\n"
     ]
    },
    {
     "data": {
      "application/vnd.plotly.v1+json": {
       "config": {
        "displaylogo": false,
        "plotlyServerURL": "https://plot.ly",
        "toImageButtonOptions": {
         "filename": "polar_diagram",
         "format": "png",
         "scale": 6
        }
       },
       "data": [
        {
         "customdata": [
          [
           "CYT",
           0.19872548005034663,
           -0.44011800215505004,
           2.3854341496075744
          ],
          [
           "CYT",
           0.19872548005034663,
           -0.44011800215505004,
           2.3854341496075744
          ],
          [
           "CYT",
           0.19872548005034663,
           -0.44011800215505004,
           2.3854341496075744
          ],
          [
           "CYT",
           0.19872548005034663,
           -0.44011800215505004,
           2.3854341496075744
          ],
          [
           "CYT",
           0.19872548005034663,
           -0.44011800215505004,
           2.3854341496075744
          ],
          [
           "CYT",
           0.19872548005034663,
           -0.44011800215505004,
           2.3854341496075744
          ],
          [
           "CYT",
           0.19872548005034663,
           -0.44011800215505004,
           2.3854341496075744
          ],
          [
           "CYT",
           0.19872548005034663,
           -0.44011800215505004,
           2.3854341496075744
          ],
          [
           "CYT",
           0.19872548005034663,
           -0.44011800215505004,
           2.3854341496075744
          ],
          [
           "CYT",
           0.19872548005034663,
           -0.44011800215505004,
           2.3854341496075744
          ],
          [
           "CYT",
           0.19872548005034663,
           -0.44011800215505004,
           2.3854341496075744
          ]
         ],
         "hoverlabel": {
          "bgcolor": "#FFFFFF",
          "bordercolor": "rgba(31, 119, 180, 1)",
          "font": {
           "color": "#000000"
          }
         },
         "hovertemplate": "Model: %{customdata[0]}<br>Standard Deviation: %{customdata[1]:.3f}<br>Correlation: %{customdata[2]:.3f}<br>Reference distance (CRMSE): %{customdata[3]:.3f}<br><extra></extra>",
         "legendgroup": "CYT",
         "marker": {
          "color": "rgba(31, 119, 180, 0.6)",
          "line": {
           "color": "rgba(31, 119, 180, 1)",
           "width": 2
          },
          "size": 10
         },
         "mode": "markers",
         "name": "CYT",
         "r": [
          0.19872548005034663
         ],
         "showlegend": true,
         "subplot": "polar",
         "theta": [
          116.11141038001057
         ],
         "type": "scatterpolar"
        },
        {
         "customdata": [
          [
           "ERL",
           3.279972164036785,
           -0.4466406637992984,
           4.766712543902036
          ],
          [
           "ERL",
           3.279972164036785,
           -0.4466406637992984,
           4.766712543902036
          ],
          [
           "ERL",
           3.279972164036785,
           -0.4466406637992984,
           4.766712543902036
          ],
          [
           "ERL",
           3.279972164036785,
           -0.4466406637992984,
           4.766712543902036
          ],
          [
           "ERL",
           3.279972164036785,
           -0.4466406637992984,
           4.766712543902036
          ],
          [
           "ERL",
           3.279972164036785,
           -0.4466406637992984,
           4.766712543902036
          ],
          [
           "ERL",
           3.279972164036785,
           -0.4466406637992984,
           4.766712543902036
          ],
          [
           "ERL",
           3.279972164036785,
           -0.4466406637992984,
           4.766712543902036
          ],
          [
           "ERL",
           3.279972164036785,
           -0.4466406637992984,
           4.766712543902036
          ],
          [
           "ERL",
           3.279972164036785,
           -0.4466406637992984,
           4.766712543902036
          ],
          [
           "ERL",
           3.279972164036785,
           -0.4466406637992984,
           4.766712543902036
          ]
         ],
         "hoverlabel": {
          "bgcolor": "#FFFFFF",
          "bordercolor": "rgba(174, 199, 232, 1)",
          "font": {
           "color": "#000000"
          }
         },
         "hovertemplate": "Model: %{customdata[0]}<br>Standard Deviation: %{customdata[1]:.3f}<br>Correlation: %{customdata[2]:.3f}<br>Reference distance (CRMSE): %{customdata[3]:.3f}<br><extra></extra>",
         "legendgroup": "ERL",
         "marker": {
          "color": "rgba(174, 199, 232, 0.6)",
          "line": {
           "color": "rgba(174, 199, 232, 1)",
           "width": 2
          },
          "size": 10
         },
         "mode": "markers",
         "name": "ERL",
         "r": [
          3.279972164036785
         ],
         "showlegend": true,
         "subplot": "polar",
         "theta": [
          116.52835583079319
         ],
         "type": "scatterpolar"
        },
        {
         "customdata": [
          [
           "EXC",
           0.8868632058840226,
           -0.3966931367837671,
           2.765634461239953
          ],
          [
           "EXC",
           0.8868632058840226,
           -0.3966931367837671,
           2.765634461239953
          ],
          [
           "EXC",
           0.8868632058840226,
           -0.3966931367837671,
           2.765634461239953
          ],
          [
           "EXC",
           0.8868632058840226,
           -0.3966931367837671,
           2.765634461239953
          ],
          [
           "EXC",
           0.8868632058840226,
           -0.3966931367837671,
           2.765634461239953
          ],
          [
           "EXC",
           0.8868632058840226,
           -0.3966931367837671,
           2.765634461239953
          ],
          [
           "EXC",
           0.8868632058840226,
           -0.3966931367837671,
           2.765634461239953
          ],
          [
           "EXC",
           0.8868632058840226,
           -0.3966931367837671,
           2.765634461239953
          ],
          [
           "EXC",
           0.8868632058840226,
           -0.3966931367837671,
           2.765634461239953
          ],
          [
           "EXC",
           0.8868632058840226,
           -0.3966931367837671,
           2.765634461239953
          ],
          [
           "EXC",
           0.8868632058840226,
           -0.3966931367837671,
           2.765634461239953
          ]
         ],
         "hoverlabel": {
          "bgcolor": "#FFFFFF",
          "bordercolor": "rgba(255, 127, 14, 1)",
          "font": {
           "color": "#000000"
          }
         },
         "hovertemplate": "Model: %{customdata[0]}<br>Standard Deviation: %{customdata[1]:.3f}<br>Correlation: %{customdata[2]:.3f}<br>Reference distance (CRMSE): %{customdata[3]:.3f}<br><extra></extra>",
         "legendgroup": "EXC",
         "marker": {
          "color": "rgba(255, 127, 14, 0.6)",
          "line": {
           "color": "rgba(255, 127, 14, 1)",
           "width": 2
          },
          "size": 10
         },
         "mode": "markers",
         "name": "EXC",
         "r": [
          0.8868632058840226
         ],
         "showlegend": true,
         "subplot": "polar",
         "theta": [
          113.37161258157391
         ],
         "type": "scatterpolar"
        },
        {
         "customdata": [
          [
           "ME1",
           1.1063694439050262,
           0.08411704574733592,
           2.4591824042086636
          ],
          [
           "ME1",
           1.1063694439050262,
           0.08411704574733592,
           2.4591824042086636
          ],
          [
           "ME1",
           1.1063694439050262,
           0.08411704574733592,
           2.4591824042086636
          ],
          [
           "ME1",
           1.1063694439050262,
           0.08411704574733592,
           2.4591824042086636
          ],
          [
           "ME1",
           1.1063694439050262,
           0.08411704574733592,
           2.4591824042086636
          ],
          [
           "ME1",
           1.1063694439050262,
           0.08411704574733592,
           2.4591824042086636
          ],
          [
           "ME1",
           1.1063694439050262,
           0.08411704574733592,
           2.4591824042086636
          ],
          [
           "ME1",
           1.1063694439050262,
           0.08411704574733592,
           2.4591824042086636
          ],
          [
           "ME1",
           1.1063694439050262,
           0.08411704574733592,
           2.4591824042086636
          ],
          [
           "ME1",
           1.1063694439050262,
           0.08411704574733592,
           2.4591824042086636
          ],
          [
           "ME1",
           1.1063694439050262,
           0.08411704574733592,
           2.4591824042086636
          ]
         ],
         "hoverlabel": {
          "bgcolor": "#FFFFFF",
          "bordercolor": "rgba(255, 187, 120, 1)",
          "font": {
           "color": "#000000"
          }
         },
         "hovertemplate": "Model: %{customdata[0]}<br>Standard Deviation: %{customdata[1]:.3f}<br>Correlation: %{customdata[2]:.3f}<br>Reference distance (CRMSE): %{customdata[3]:.3f}<br><extra></extra>",
         "legendgroup": "ME1",
         "marker": {
          "color": "rgba(255, 187, 120, 0.6)",
          "line": {
           "color": "rgba(255, 187, 120, 1)",
           "width": 2
          },
          "size": 10
         },
         "mode": "markers",
         "name": "ME1",
         "r": [
          1.1063694439050262
         ],
         "showlegend": true,
         "subplot": "polar",
         "theta": [
          85.1747465212546
         ],
         "type": "scatterpolar"
        },
        {
         "customdata": [
          [
           "ME2",
           0.7189965940934198,
           0.08661792066471191,
           2.341273691660915
          ],
          [
           "ME2",
           0.7189965940934198,
           0.08661792066471191,
           2.341273691660915
          ],
          [
           "ME2",
           0.7189965940934198,
           0.08661792066471191,
           2.341273691660915
          ],
          [
           "ME2",
           0.7189965940934198,
           0.08661792066471191,
           2.341273691660915
          ],
          [
           "ME2",
           0.7189965940934198,
           0.08661792066471191,
           2.341273691660915
          ],
          [
           "ME2",
           0.7189965940934198,
           0.08661792066471191,
           2.341273691660915
          ],
          [
           "ME2",
           0.7189965940934198,
           0.08661792066471191,
           2.341273691660915
          ],
          [
           "ME2",
           0.7189965940934198,
           0.08661792066471191,
           2.341273691660915
          ],
          [
           "ME2",
           0.7189965940934198,
           0.08661792066471191,
           2.341273691660915
          ],
          [
           "ME2",
           0.7189965940934198,
           0.08661792066471191,
           2.341273691660915
          ],
          [
           "ME2",
           0.7189965940934198,
           0.08661792066471191,
           2.341273691660915
          ]
         ],
         "hoverlabel": {
          "bgcolor": "#FFFFFF",
          "bordercolor": "rgba(44, 160, 44, 1)",
          "font": {
           "color": "#000000"
          }
         },
         "hovertemplate": "Model: %{customdata[0]}<br>Standard Deviation: %{customdata[1]:.3f}<br>Correlation: %{customdata[2]:.3f}<br>Reference distance (CRMSE): %{customdata[3]:.3f}<br><extra></extra>",
         "legendgroup": "ME2",
         "marker": {
          "color": "rgba(44, 160, 44, 0.6)",
          "line": {
           "color": "rgba(44, 160, 44, 1)",
           "width": 2
          },
          "size": 10
         },
         "mode": "markers",
         "name": "ME2",
         "r": [
          0.7189965940934198
         ],
         "showlegend": true,
         "subplot": "polar",
         "theta": [
          85.03093191454431
         ],
         "type": "scatterpolar"
        },
        {
         "customdata": [
          [
           "ME3",
           0.5112144680595542,
           0.6465059366598991,
           1.999195926765591
          ],
          [
           "ME3",
           0.5112144680595542,
           0.6465059366598991,
           1.999195926765591
          ],
          [
           "ME3",
           0.5112144680595542,
           0.6465059366598991,
           1.999195926765591
          ],
          [
           "ME3",
           0.5112144680595542,
           0.6465059366598991,
           1.999195926765591
          ],
          [
           "ME3",
           0.5112144680595542,
           0.6465059366598991,
           1.999195926765591
          ],
          [
           "ME3",
           0.5112144680595542,
           0.6465059366598991,
           1.999195926765591
          ],
          [
           "ME3",
           0.5112144680595542,
           0.6465059366598991,
           1.999195926765591
          ],
          [
           "ME3",
           0.5112144680595542,
           0.6465059366598991,
           1.999195926765591
          ],
          [
           "ME3",
           0.5112144680595542,
           0.6465059366598991,
           1.999195926765591
          ],
          [
           "ME3",
           0.5112144680595542,
           0.6465059366598991,
           1.999195926765591
          ],
          [
           "ME3",
           0.5112144680595542,
           0.6465059366598991,
           1.999195926765591
          ]
         ],
         "hoverlabel": {
          "bgcolor": "#FFFFFF",
          "bordercolor": "rgba(152, 223, 138, 1)",
          "font": {
           "color": "#000000"
          }
         },
         "hovertemplate": "Model: %{customdata[0]}<br>Standard Deviation: %{customdata[1]:.3f}<br>Correlation: %{customdata[2]:.3f}<br>Reference distance (CRMSE): %{customdata[3]:.3f}<br><extra></extra>",
         "legendgroup": "ME3",
         "marker": {
          "color": "rgba(152, 223, 138, 0.6)",
          "line": {
           "color": "rgba(152, 223, 138, 1)",
           "width": 2
          },
          "size": 10
         },
         "mode": "markers",
         "name": "ME3",
         "r": [
          0.5112144680595542
         ],
         "showlegend": true,
         "subplot": "polar",
         "theta": [
          49.72132045010877
         ],
         "type": "scatterpolar"
        },
        {
         "customdata": [
          [
           "MIT",
           0.3776638787442458,
           -0.10945962009644866,
           2.362640228326463
          ],
          [
           "MIT",
           0.3776638787442458,
           -0.10945962009644866,
           2.362640228326463
          ],
          [
           "MIT",
           0.3776638787442458,
           -0.10945962009644866,
           2.362640228326463
          ],
          [
           "MIT",
           0.3776638787442458,
           -0.10945962009644866,
           2.362640228326463
          ],
          [
           "MIT",
           0.3776638787442458,
           -0.10945962009644866,
           2.362640228326463
          ],
          [
           "MIT",
           0.3776638787442458,
           -0.10945962009644866,
           2.362640228326463
          ],
          [
           "MIT",
           0.3776638787442458,
           -0.10945962009644866,
           2.362640228326463
          ],
          [
           "MIT",
           0.3776638787442458,
           -0.10945962009644866,
           2.362640228326463
          ],
          [
           "MIT",
           0.3776638787442458,
           -0.10945962009644866,
           2.362640228326463
          ],
          [
           "MIT",
           0.3776638787442458,
           -0.10945962009644866,
           2.362640228326463
          ],
          [
           "MIT",
           0.3776638787442458,
           -0.10945962009644866,
           2.362640228326463
          ]
         ],
         "hoverlabel": {
          "bgcolor": "#FFFFFF",
          "bordercolor": "rgba(214, 39, 40, 1)",
          "font": {
           "color": "#000000"
          }
         },
         "hovertemplate": "Model: %{customdata[0]}<br>Standard Deviation: %{customdata[1]:.3f}<br>Correlation: %{customdata[2]:.3f}<br>Reference distance (CRMSE): %{customdata[3]:.3f}<br><extra></extra>",
         "legendgroup": "MIT",
         "marker": {
          "color": "rgba(214, 39, 40, 0.6)",
          "line": {
           "color": "rgba(214, 39, 40, 1)",
           "width": 2
          },
          "size": 10
         },
         "mode": "markers",
         "name": "MIT",
         "r": [
          0.3776638787442458
         ],
         "showlegend": true,
         "subplot": "polar",
         "theta": [
          96.28416598289327
         ],
         "type": "scatterpolar"
        },
        {
         "customdata": [
          [
           "NUC",
           0.2953308683828515,
           -0.0650768084689415,
           2.329225990844425
          ],
          [
           "NUC",
           0.2953308683828515,
           -0.0650768084689415,
           2.329225990844425
          ],
          [
           "NUC",
           0.2953308683828515,
           -0.0650768084689415,
           2.329225990844425
          ],
          [
           "NUC",
           0.2953308683828515,
           -0.0650768084689415,
           2.329225990844425
          ],
          [
           "NUC",
           0.2953308683828515,
           -0.0650768084689415,
           2.329225990844425
          ],
          [
           "NUC",
           0.2953308683828515,
           -0.0650768084689415,
           2.329225990844425
          ],
          [
           "NUC",
           0.2953308683828515,
           -0.0650768084689415,
           2.329225990844425
          ],
          [
           "NUC",
           0.2953308683828515,
           -0.0650768084689415,
           2.329225990844425
          ],
          [
           "NUC",
           0.2953308683828515,
           -0.0650768084689415,
           2.329225990844425
          ],
          [
           "NUC",
           0.2953308683828515,
           -0.0650768084689415,
           2.329225990844425
          ],
          [
           "NUC",
           0.2953308683828515,
           -0.0650768084689415,
           2.329225990844425
          ]
         ],
         "hoverlabel": {
          "bgcolor": "#FFFFFF",
          "bordercolor": "rgba(255, 152, 150, 1)",
          "font": {
           "color": "#000000"
          }
         },
         "hovertemplate": "Model: %{customdata[0]}<br>Standard Deviation: %{customdata[1]:.3f}<br>Correlation: %{customdata[2]:.3f}<br>Reference distance (CRMSE): %{customdata[3]:.3f}<br><extra></extra>",
         "legendgroup": "NUC",
         "marker": {
          "color": "rgba(255, 152, 150, 0.6)",
          "line": {
           "color": "rgba(255, 152, 150, 1)",
           "width": 2
          },
          "size": 10
         },
         "mode": "markers",
         "name": "NUC",
         "r": [
          0.2953308683828515
         ],
         "showlegend": true,
         "subplot": "polar",
         "theta": [
          93.73126328089869
         ],
         "type": "scatterpolar"
        },
        {
         "customdata": [
          [
           "POX",
           1.8371177633199223,
           0.3889947226882911,
           2.313041215264086
          ],
          [
           "POX",
           1.8371177633199223,
           0.3889947226882911,
           2.313041215264086
          ],
          [
           "POX",
           1.8371177633199223,
           0.3889947226882911,
           2.313041215264086
          ],
          [
           "POX",
           1.8371177633199223,
           0.3889947226882911,
           2.313041215264086
          ],
          [
           "POX",
           1.8371177633199223,
           0.3889947226882911,
           2.313041215264086
          ],
          [
           "POX",
           1.8371177633199223,
           0.3889947226882911,
           2.313041215264086
          ],
          [
           "POX",
           1.8371177633199223,
           0.3889947226882911,
           2.313041215264086
          ],
          [
           "POX",
           1.8371177633199223,
           0.3889947226882911,
           2.313041215264086
          ],
          [
           "POX",
           1.8371177633199223,
           0.3889947226882911,
           2.313041215264086
          ],
          [
           "POX",
           1.8371177633199223,
           0.3889947226882911,
           2.313041215264086
          ],
          [
           "POX",
           1.8371177633199223,
           0.3889947226882911,
           2.313041215264086
          ]
         ],
         "hoverlabel": {
          "bgcolor": "#FFFFFF",
          "bordercolor": "rgba(148, 103, 189, 1)",
          "font": {
           "color": "#000000"
          }
         },
         "hovertemplate": "Model: %{customdata[0]}<br>Standard Deviation: %{customdata[1]:.3f}<br>Correlation: %{customdata[2]:.3f}<br>Reference distance (CRMSE): %{customdata[3]:.3f}<br><extra></extra>",
         "legendgroup": "POX",
         "marker": {
          "color": "rgba(148, 103, 189, 0.6)",
          "line": {
           "color": "rgba(148, 103, 189, 1)",
           "width": 2
          },
          "size": 10
         },
         "mode": "markers",
         "name": "POX",
         "r": [
          1.8371177633199223
         ],
         "showlegend": true,
         "subplot": "polar",
         "theta": [
          67.1080374354663
         ],
         "type": "scatterpolar"
        },
        {
         "customdata": [
          [
           "VAC",
           0.3108904520964982,
           0.32483171971818114,
           2.2099484007511823
          ],
          [
           "VAC",
           0.3108904520964982,
           0.32483171971818114,
           2.2099484007511823
          ],
          [
           "VAC",
           0.3108904520964982,
           0.32483171971818114,
           2.2099484007511823
          ],
          [
           "VAC",
           0.3108904520964982,
           0.32483171971818114,
           2.2099484007511823
          ],
          [
           "VAC",
           0.3108904520964982,
           0.32483171971818114,
           2.2099484007511823
          ],
          [
           "VAC",
           0.3108904520964982,
           0.32483171971818114,
           2.2099484007511823
          ],
          [
           "VAC",
           0.3108904520964982,
           0.32483171971818114,
           2.2099484007511823
          ],
          [
           "VAC",
           0.3108904520964982,
           0.32483171971818114,
           2.2099484007511823
          ],
          [
           "VAC",
           0.3108904520964982,
           0.32483171971818114,
           2.2099484007511823
          ],
          [
           "VAC",
           0.3108904520964982,
           0.32483171971818114,
           2.2099484007511823
          ],
          [
           "VAC",
           0.3108904520964982,
           0.32483171971818114,
           2.2099484007511823
          ]
         ],
         "hoverlabel": {
          "bgcolor": "#FFFFFF",
          "bordercolor": "rgba(197, 176, 213, 1)",
          "font": {
           "color": "#000000"
          }
         },
         "hovertemplate": "Model: %{customdata[0]}<br>Standard Deviation: %{customdata[1]:.3f}<br>Correlation: %{customdata[2]:.3f}<br>Reference distance (CRMSE): %{customdata[3]:.3f}<br><extra></extra>",
         "legendgroup": "VAC",
         "marker": {
          "color": "rgba(197, 176, 213, 0.6)",
          "line": {
           "color": "rgba(197, 176, 213, 1)",
           "width": 2
          },
          "size": 10
         },
         "mode": "markers",
         "name": "VAC",
         "r": [
          0.3108904520964982
         ],
         "showlegend": true,
         "subplot": "polar",
         "theta": [
          71.04461990626005
         ],
         "type": "scatterpolar"
        },
        {
         "customdata": [
          [
           "Reference Model",
           2.29128784747792,
           1,
           0
          ],
          [
           "Reference Model",
           2.29128784747792,
           1,
           0
          ],
          [
           "Reference Model",
           2.29128784747792,
           1,
           0
          ],
          [
           "Reference Model",
           2.29128784747792,
           1,
           0
          ],
          [
           "Reference Model",
           2.29128784747792,
           1,
           0
          ],
          [
           "Reference Model",
           2.29128784747792,
           1,
           0
          ],
          [
           "Reference Model",
           2.29128784747792,
           1,
           0
          ],
          [
           "Reference Model",
           2.29128784747792,
           1,
           0
          ],
          [
           "Reference Model",
           2.29128784747792,
           1,
           0
          ],
          [
           "Reference Model",
           2.29128784747792,
           1,
           0
          ],
          [
           "Reference Model",
           2.29128784747792,
           1,
           0
          ]
         ],
         "hoverlabel": {
          "bgcolor": "#FFFFFF",
          "bordercolor": "rgba(0, 0, 0, 1)",
          "font": {
           "color": "#000000"
          }
         },
         "hovertemplate": "Model: %{customdata[0]}<br>Standard Deviation: %{customdata[1]:.3f}<br>Correlation: %{customdata[2]:.3f}<br>Reference distance (CRMSE): %{customdata[3]:.3f}<br><extra></extra>",
         "legendgroup": "Reference Model",
         "marker": {
          "color": "rgba(0, 0, 0, 0.6)",
          "line": {
           "color": "rgba(0, 0, 0, 1)",
           "width": 2
          },
          "size": 10
         },
         "mode": "markers",
         "name": "Reference Model",
         "r": [
          2.29128784747792
         ],
         "showlegend": true,
         "subplot": "polar",
         "theta": [
          0
         ],
         "type": "scatterpolar"
        },
        {
         "customdata": [
          [
           "CYT",
           -0.7119985677590928,
           -0.2618798525772378,
           2.1033665078565464
          ],
          [
           "CYT",
           -0.7119985677590928,
           -0.2618798525772378,
           2.1033665078565464
          ],
          [
           "CYT",
           -0.7119985677590928,
           -0.2618798525772378,
           2.1033665078565464
          ],
          [
           "CYT",
           -0.7119985677590928,
           -0.2618798525772378,
           2.1033665078565464
          ],
          [
           "CYT",
           -0.7119985677590928,
           -0.2618798525772378,
           2.1033665078565464
          ],
          [
           "CYT",
           -0.7119985677590928,
           -0.2618798525772378,
           2.1033665078565464
          ],
          [
           "CYT",
           -0.7119985677590928,
           -0.2618798525772378,
           2.1033665078565464
          ],
          [
           "CYT",
           -0.7119985677590928,
           -0.2618798525772378,
           2.1033665078565464
          ],
          [
           "CYT",
           -0.7119985677590928,
           -0.2618798525772378,
           2.1033665078565464
          ],
          [
           "CYT",
           -0.7119985677590928,
           -0.2618798525772378,
           2.1033665078565464
          ],
          [
           "CYT",
           -0.7119985677590928,
           -0.2618798525772378,
           2.1033665078565464
          ]
         ],
         "hoverlabel": {
          "bgcolor": "#FFFFFF",
          "bordercolor": "rgba(31, 119, 180, 1)",
          "font": {
           "color": "#000000"
          }
         },
         "hovertemplate": "Model: %{customdata[0]}<br>Entropy: %{customdata[1]:.3f}<br>Scaled MI: %{customdata[2]:.3f}<br>Reference distance (VI): %{customdata[3]:.3f}<br><extra></extra>",
         "legendgroup": "CYT",
         "marker": {
          "color": "rgba(31, 119, 180, 0.6)",
          "line": {
           "color": "rgba(31, 119, 180, 1)",
           "width": 2
          },
          "size": 10
         },
         "mode": "markers",
         "name": "CYT",
         "r": [
          -0.7119985677590928
         ],
         "showlegend": false,
         "subplot": "polar2",
         "theta": [
          180
         ],
         "type": "scatterpolar"
        },
        {
         "customdata": [
          [
           "ERL",
           2.7283137038370073,
           0.13244778541239577,
           5.6584115254808705
          ],
          [
           "ERL",
           2.7283137038370073,
           0.13244778541239577,
           5.6584115254808705
          ],
          [
           "ERL",
           2.7283137038370073,
           0.13244778541239577,
           5.6584115254808705
          ],
          [
           "ERL",
           2.7283137038370073,
           0.13244778541239577,
           5.6584115254808705
          ],
          [
           "ERL",
           2.7283137038370073,
           0.13244778541239577,
           5.6584115254808705
          ],
          [
           "ERL",
           2.7283137038370073,
           0.13244778541239577,
           5.6584115254808705
          ],
          [
           "ERL",
           2.7283137038370073,
           0.13244778541239577,
           5.6584115254808705
          ],
          [
           "ERL",
           2.7283137038370073,
           0.13244778541239577,
           5.6584115254808705
          ],
          [
           "ERL",
           2.7283137038370073,
           0.13244778541239577,
           5.6584115254808705
          ],
          [
           "ERL",
           2.7283137038370073,
           0.13244778541239577,
           5.6584115254808705
          ],
          [
           "ERL",
           2.7283137038370073,
           0.13244778541239577,
           5.6584115254808705
          ]
         ],
         "hoverlabel": {
          "bgcolor": "#FFFFFF",
          "bordercolor": "rgba(174, 199, 232, 1)",
          "font": {
           "color": "#000000"
          }
         },
         "hovertemplate": "Model: %{customdata[0]}<br>Entropy: %{customdata[1]:.3f}<br>Scaled MI: %{customdata[2]:.3f}<br>Reference distance (VI): %{customdata[3]:.3f}<br><extra></extra>",
         "legendgroup": "ERL",
         "marker": {
          "color": "rgba(174, 199, 232, 0.6)",
          "line": {
           "color": "rgba(174, 199, 232, 1)",
           "width": 2
          },
          "size": 10
         },
         "mode": "markers",
         "name": "ERL",
         "r": [
          2.7283137038370073
         ],
         "showlegend": false,
         "subplot": "polar2",
         "theta": [
          137.31604096986894
         ],
         "type": "scatterpolar"
        },
        {
         "customdata": [
          [
           "EXC",
           1.382771616148367,
           0,
           4.7247305773807255
          ],
          [
           "EXC",
           1.382771616148367,
           0,
           4.7247305773807255
          ],
          [
           "EXC",
           1.382771616148367,
           0,
           4.7247305773807255
          ],
          [
           "EXC",
           1.382771616148367,
           0,
           4.7247305773807255
          ],
          [
           "EXC",
           1.382771616148367,
           0,
           4.7247305773807255
          ],
          [
           "EXC",
           1.382771616148367,
           0,
           4.7247305773807255
          ],
          [
           "EXC",
           1.382771616148367,
           0,
           4.7247305773807255
          ],
          [
           "EXC",
           1.382771616148367,
           0,
           4.7247305773807255
          ],
          [
           "EXC",
           1.382771616148367,
           0,
           4.7247305773807255
          ],
          [
           "EXC",
           1.382771616148367,
           0,
           4.7247305773807255
          ],
          [
           "EXC",
           1.382771616148367,
           0,
           4.7247305773807255
          ]
         ],
         "hoverlabel": {
          "bgcolor": "#FFFFFF",
          "bordercolor": "rgba(255, 127, 14, 1)",
          "font": {
           "color": "#000000"
          }
         },
         "hovertemplate": "Model: %{customdata[0]}<br>Entropy: %{customdata[1]:.3f}<br>Scaled MI: %{customdata[2]:.3f}<br>Reference distance (VI): %{customdata[3]:.3f}<br><extra></extra>",
         "legendgroup": "EXC",
         "marker": {
          "color": "rgba(255, 127, 14, 0.6)",
          "line": {
           "color": "rgba(255, 127, 14, 1)",
           "width": 2
          },
          "size": 10
         },
         "mode": "markers",
         "name": "EXC",
         "r": [
          1.382771616148367
         ],
         "showlegend": false,
         "subplot": "polar2",
         "theta": [
          180
         ],
         "type": "scatterpolar"
        },
        {
         "customdata": [
          [
           "ME1",
           1.7028915341747228,
           0.10312360805591465,
           4.806559407502307
          ],
          [
           "ME1",
           1.7028915341747228,
           0.10312360805591465,
           4.806559407502307
          ],
          [
           "ME1",
           1.7028915341747228,
           0.10312360805591465,
           4.806559407502307
          ],
          [
           "ME1",
           1.7028915341747228,
           0.10312360805591465,
           4.806559407502307
          ],
          [
           "ME1",
           1.7028915341747228,
           0.10312360805591465,
           4.806559407502307
          ],
          [
           "ME1",
           1.7028915341747228,
           0.10312360805591465,
           4.806559407502307
          ],
          [
           "ME1",
           1.7028915341747228,
           0.10312360805591465,
           4.806559407502307
          ],
          [
           "ME1",
           1.7028915341747228,
           0.10312360805591465,
           4.806559407502307
          ],
          [
           "ME1",
           1.7028915341747228,
           0.10312360805591465,
           4.806559407502307
          ],
          [
           "ME1",
           1.7028915341747228,
           0.10312360805591465,
           4.806559407502307
          ],
          [
           "ME1",
           1.7028915341747228,
           0.10312360805591465,
           4.806559407502307
          ]
         ],
         "hoverlabel": {
          "bgcolor": "#FFFFFF",
          "bordercolor": "rgba(255, 187, 120, 1)",
          "font": {
           "color": "#000000"
          }
         },
         "hovertemplate": "Model: %{customdata[0]}<br>Entropy: %{customdata[1]:.3f}<br>Scaled MI: %{customdata[2]:.3f}<br>Reference distance (VI): %{customdata[3]:.3f}<br><extra></extra>",
         "legendgroup": "ME1",
         "marker": {
          "color": "rgba(255, 187, 120, 0.6)",
          "line": {
           "color": "rgba(255, 187, 120, 1)",
           "width": 2
          },
          "size": 10
         },
         "mode": "markers",
         "name": "ME1",
         "r": [
          1.7028915341747228
         ],
         "showlegend": false,
         "subplot": "polar2",
         "theta": [
          142.5376111667558
         ],
         "type": "scatterpolar"
        },
        {
         "customdata": [
          [
           "ME2",
           1.1944878556848217,
           0.35721183733042944,
           3.8568759365961633
          ],
          [
           "ME2",
           1.1944878556848217,
           0.35721183733042944,
           3.8568759365961633
          ],
          [
           "ME2",
           1.1944878556848217,
           0.35721183733042944,
           3.8568759365961633
          ],
          [
           "ME2",
           1.1944878556848217,
           0.35721183733042944,
           3.8568759365961633
          ],
          [
           "ME2",
           1.1944878556848217,
           0.35721183733042944,
           3.8568759365961633
          ],
          [
           "ME2",
           1.1944878556848217,
           0.35721183733042944,
           3.8568759365961633
          ],
          [
           "ME2",
           1.1944878556848217,
           0.35721183733042944,
           3.8568759365961633
          ],
          [
           "ME2",
           1.1944878556848217,
           0.35721183733042944,
           3.8568759365961633
          ],
          [
           "ME2",
           1.1944878556848217,
           0.35721183733042944,
           3.8568759365961633
          ],
          [
           "ME2",
           1.1944878556848217,
           0.35721183733042944,
           3.8568759365961633
          ],
          [
           "ME2",
           1.1944878556848217,
           0.35721183733042944,
           3.8568759365961633
          ]
         ],
         "hoverlabel": {
          "bgcolor": "#FFFFFF",
          "bordercolor": "rgba(44, 160, 44, 1)",
          "font": {
           "color": "#000000"
          }
         },
         "hovertemplate": "Model: %{customdata[0]}<br>Entropy: %{customdata[1]:.3f}<br>Scaled MI: %{customdata[2]:.3f}<br>Reference distance (VI): %{customdata[3]:.3f}<br><extra></extra>",
         "legendgroup": "ME2",
         "marker": {
          "color": "rgba(44, 160, 44, 0.6)",
          "line": {
           "color": "rgba(44, 160, 44, 1)",
           "width": 2
          },
          "size": 10
         },
         "mode": "markers",
         "name": "ME2",
         "r": [
          1.1944878556848217
         ],
         "showlegend": false,
         "subplot": "polar2",
         "theta": [
          106.59330139368826
         ],
         "type": "scatterpolar"
        },
        {
         "customdata": [
          [
           "ME3",
           0.08438655304795901,
           4.45657592273086,
           2.590855773972226
          ],
          [
           "ME3",
           0.08438655304795901,
           4.45657592273086,
           2.590855773972226
          ],
          [
           "ME3",
           0.08438655304795901,
           4.45657592273086,
           2.590855773972226
          ],
          [
           "ME3",
           0.08438655304795901,
           4.45657592273086,
           2.590855773972226
          ],
          [
           "ME3",
           0.08438655304795901,
           4.45657592273086,
           2.590855773972226
          ],
          [
           "ME3",
           0.08438655304795901,
           4.45657592273086,
           2.590855773972226
          ],
          [
           "ME3",
           0.08438655304795901,
           4.45657592273086,
           2.590855773972226
          ],
          [
           "ME3",
           0.08438655304795901,
           4.45657592273086,
           2.590855773972226
          ],
          [
           "ME3",
           0.08438655304795901,
           4.45657592273086,
           2.590855773972226
          ],
          [
           "ME3",
           0.08438655304795901,
           4.45657592273086,
           2.590855773972226
          ],
          [
           "ME3",
           0.08438655304795901,
           4.45657592273086,
           2.590855773972226
          ]
         ],
         "hoverlabel": {
          "bgcolor": "#FFFFFF",
          "bordercolor": "rgba(152, 223, 138, 1)",
          "font": {
           "color": "#000000"
          }
         },
         "hovertemplate": "Model: %{customdata[0]}<br>Entropy: %{customdata[1]:.3f}<br>Scaled MI: %{customdata[2]:.3f}<br>Reference distance (VI): %{customdata[3]:.3f}<br><extra></extra>",
         "legendgroup": "ME3",
         "marker": {
          "color": "rgba(152, 223, 138, 0.6)",
          "line": {
           "color": "rgba(152, 223, 138, 1)",
           "width": 2
          },
          "size": 10
         },
         "mode": "markers",
         "name": "ME3",
         "r": [
          0.08438655304795901
         ],
         "showlegend": false,
         "subplot": "polar2",
         "theta": [
          0
         ],
         "type": "scatterpolar"
        },
        {
         "customdata": [
          [
           "MIT",
           0.127751634867231,
           0,
           3.4697105960995898
          ],
          [
           "MIT",
           0.127751634867231,
           0,
           3.4697105960995898
          ],
          [
           "MIT",
           0.127751634867231,
           0,
           3.4697105960995898
          ],
          [
           "MIT",
           0.127751634867231,
           0,
           3.4697105960995898
          ],
          [
           "MIT",
           0.127751634867231,
           0,
           3.4697105960995898
          ],
          [
           "MIT",
           0.127751634867231,
           0,
           3.4697105960995898
          ],
          [
           "MIT",
           0.127751634867231,
           0,
           3.4697105960995898
          ],
          [
           "MIT",
           0.127751634867231,
           0,
           3.4697105960995898
          ],
          [
           "MIT",
           0.127751634867231,
           0,
           3.4697105960995898
          ],
          [
           "MIT",
           0.127751634867231,
           0,
           3.4697105960995898
          ],
          [
           "MIT",
           0.127751634867231,
           0,
           3.4697105960995898
          ]
         ],
         "hoverlabel": {
          "bgcolor": "#FFFFFF",
          "bordercolor": "rgba(214, 39, 40, 1)",
          "font": {
           "color": "#000000"
          }
         },
         "hovertemplate": "Model: %{customdata[0]}<br>Entropy: %{customdata[1]:.3f}<br>Scaled MI: %{customdata[2]:.3f}<br>Reference distance (VI): %{customdata[3]:.3f}<br><extra></extra>",
         "legendgroup": "MIT",
         "marker": {
          "color": "rgba(214, 39, 40, 0.6)",
          "line": {
           "color": "rgba(214, 39, 40, 1)",
           "width": 2
          },
          "size": 10
         },
         "mode": "markers",
         "name": "MIT",
         "r": [
          0.127751634867231
         ],
         "showlegend": false,
         "subplot": "polar2",
         "theta": [
          180
         ],
         "type": "scatterpolar"
        },
        {
         "customdata": [
          [
           "NUC",
           0.13866438634043873,
           0,
           3.4806233475727972
          ],
          [
           "NUC",
           0.13866438634043873,
           0,
           3.4806233475727972
          ],
          [
           "NUC",
           0.13866438634043873,
           0,
           3.4806233475727972
          ],
          [
           "NUC",
           0.13866438634043873,
           0,
           3.4806233475727972
          ],
          [
           "NUC",
           0.13866438634043873,
           0,
           3.4806233475727972
          ],
          [
           "NUC",
           0.13866438634043873,
           0,
           3.4806233475727972
          ],
          [
           "NUC",
           0.13866438634043873,
           0,
           3.4806233475727972
          ],
          [
           "NUC",
           0.13866438634043873,
           0,
           3.4806233475727972
          ],
          [
           "NUC",
           0.13866438634043873,
           0,
           3.4806233475727972
          ],
          [
           "NUC",
           0.13866438634043873,
           0,
           3.4806233475727972
          ],
          [
           "NUC",
           0.13866438634043873,
           0,
           3.4806233475727972
          ]
         ],
         "hoverlabel": {
          "bgcolor": "#FFFFFF",
          "bordercolor": "rgba(255, 152, 150, 1)",
          "font": {
           "color": "#000000"
          }
         },
         "hovertemplate": "Model: %{customdata[0]}<br>Entropy: %{customdata[1]:.3f}<br>Scaled MI: %{customdata[2]:.3f}<br>Reference distance (VI): %{customdata[3]:.3f}<br><extra></extra>",
         "legendgroup": "NUC",
         "marker": {
          "color": "rgba(255, 152, 150, 0.6)",
          "line": {
           "color": "rgba(255, 152, 150, 1)",
           "width": 2
          },
          "size": 10
         },
         "mode": "markers",
         "name": "NUC",
         "r": [
          0.13866438634043873
         ],
         "showlegend": false,
         "subplot": "polar2",
         "theta": [
          180
         ],
         "type": "scatterpolar"
        },
        {
         "customdata": [
          [
           "POX",
           0.3181206954766782,
           0,
           3.660079656709037
          ],
          [
           "POX",
           0.3181206954766782,
           0,
           3.660079656709037
          ],
          [
           "POX",
           0.3181206954766782,
           0,
           3.660079656709037
          ],
          [
           "POX",
           0.3181206954766782,
           0,
           3.660079656709037
          ],
          [
           "POX",
           0.3181206954766782,
           0,
           3.660079656709037
          ],
          [
           "POX",
           0.3181206954766782,
           0,
           3.660079656709037
          ],
          [
           "POX",
           0.3181206954766782,
           0,
           3.660079656709037
          ],
          [
           "POX",
           0.3181206954766782,
           0,
           3.660079656709037
          ],
          [
           "POX",
           0.3181206954766782,
           0,
           3.660079656709037
          ],
          [
           "POX",
           0.3181206954766782,
           0,
           3.660079656709037
          ],
          [
           "POX",
           0.3181206954766782,
           0,
           3.660079656709037
          ]
         ],
         "hoverlabel": {
          "bgcolor": "#FFFFFF",
          "bordercolor": "rgba(148, 103, 189, 1)",
          "font": {
           "color": "#000000"
          }
         },
         "hovertemplate": "Model: %{customdata[0]}<br>Entropy: %{customdata[1]:.3f}<br>Scaled MI: %{customdata[2]:.3f}<br>Reference distance (VI): %{customdata[3]:.3f}<br><extra></extra>",
         "legendgroup": "POX",
         "marker": {
          "color": "rgba(148, 103, 189, 0.6)",
          "line": {
           "color": "rgba(148, 103, 189, 1)",
           "width": 2
          },
          "size": 10
         },
         "mode": "markers",
         "name": "POX",
         "r": [
          0.3181206954766782
         ],
         "showlegend": false,
         "subplot": "polar2",
         "theta": [
          180
         ],
         "type": "scatterpolar"
        },
        {
         "customdata": [
          [
           "VAC",
           0.45567228697155165,
           0,
           3.7976312482039103
          ],
          [
           "VAC",
           0.45567228697155165,
           0,
           3.7976312482039103
          ],
          [
           "VAC",
           0.45567228697155165,
           0,
           3.7976312482039103
          ],
          [
           "VAC",
           0.45567228697155165,
           0,
           3.7976312482039103
          ],
          [
           "VAC",
           0.45567228697155165,
           0,
           3.7976312482039103
          ],
          [
           "VAC",
           0.45567228697155165,
           0,
           3.7976312482039103
          ],
          [
           "VAC",
           0.45567228697155165,
           0,
           3.7976312482039103
          ],
          [
           "VAC",
           0.45567228697155165,
           0,
           3.7976312482039103
          ],
          [
           "VAC",
           0.45567228697155165,
           0,
           3.7976312482039103
          ],
          [
           "VAC",
           0.45567228697155165,
           0,
           3.7976312482039103
          ],
          [
           "VAC",
           0.45567228697155165,
           0,
           3.7976312482039103
          ]
         ],
         "hoverlabel": {
          "bgcolor": "#FFFFFF",
          "bordercolor": "rgba(197, 176, 213, 1)",
          "font": {
           "color": "#000000"
          }
         },
         "hovertemplate": "Model: %{customdata[0]}<br>Entropy: %{customdata[1]:.3f}<br>Scaled MI: %{customdata[2]:.3f}<br>Reference distance (VI): %{customdata[3]:.3f}<br><extra></extra>",
         "legendgroup": "VAC",
         "marker": {
          "color": "rgba(197, 176, 213, 0.6)",
          "line": {
           "color": "rgba(197, 176, 213, 1)",
           "width": 2
          },
          "size": 10
         },
         "mode": "markers",
         "name": "VAC",
         "r": [
          0.45567228697155165
         ],
         "showlegend": false,
         "subplot": "polar2",
         "theta": [
          180
         ],
         "type": "scatterpolar"
        },
        {
         "customdata": [
          [
           "Reference Model",
           3.3419589612323586,
           1,
           0
          ],
          [
           "Reference Model",
           3.3419589612323586,
           1,
           0
          ],
          [
           "Reference Model",
           3.3419589612323586,
           1,
           0
          ],
          [
           "Reference Model",
           3.3419589612323586,
           1,
           0
          ],
          [
           "Reference Model",
           3.3419589612323586,
           1,
           0
          ],
          [
           "Reference Model",
           3.3419589612323586,
           1,
           0
          ],
          [
           "Reference Model",
           3.3419589612323586,
           1,
           0
          ],
          [
           "Reference Model",
           3.3419589612323586,
           1,
           0
          ],
          [
           "Reference Model",
           3.3419589612323586,
           1,
           0
          ],
          [
           "Reference Model",
           3.3419589612323586,
           1,
           0
          ],
          [
           "Reference Model",
           3.3419589612323586,
           1,
           0
          ]
         ],
         "hoverlabel": {
          "bgcolor": "#FFFFFF",
          "bordercolor": "rgba(0, 0, 0, 1)",
          "font": {
           "color": "#000000"
          }
         },
         "hovertemplate": "Model: %{customdata[0]}<br>Entropy: %{customdata[1]:.3f}<br>Scaled MI: %{customdata[2]:.3f}<br>Reference distance (VI): %{customdata[3]:.3f}<br><extra></extra>",
         "legendgroup": "Reference Model",
         "marker": {
          "color": "rgba(0, 0, 0, 0.6)",
          "line": {
           "color": "rgba(0, 0, 0, 1)",
           "width": 2
          },
          "size": 10
         },
         "mode": "markers",
         "name": "Reference Model",
         "r": [
          3.3419589612323586
         ],
         "showlegend": false,
         "subplot": "polar2",
         "theta": [
          0
         ],
         "type": "scatterpolar"
        }
       ],
       "layout": {
        "annotations": [
         {
          "font": {
           "color": "#404040",
           "size": 16
          },
          "showarrow": false,
          "text": "Correlation",
          "x": 0.225,
          "xanchor": "center",
          "xref": "paper",
          "y": 1,
          "yanchor": "bottom",
          "yref": "paper",
          "yshift": 25
         },
         {
          "font": {
           "color": "#404040",
           "size": 16
          },
          "showarrow": false,
          "text": "Scaled Mutual Information",
          "x": 0.775,
          "xanchor": "center",
          "xref": "paper",
          "y": 1,
          "yanchor": "bottom",
          "yref": "paper",
          "yshift": 25
         }
        ],
        "height": 620,
        "legend": {
         "bgcolor": "#FFFFFF",
         "bordercolor": "#C0C0C0",
         "borderwidth": 0.2,
         "font": {
          "color": "#404040"
         },
         "orientation": "h",
         "title": {
          "text": "Model"
         },
         "x": 0,
         "y": -0.2
        },
        "polar": {
         "angularaxis": {
          "direction": "counterclockwise",
          "gridcolor": "#C0C0C0",
          "griddash": "solid",
          "layer": "below traces",
          "linecolor": "#000000",
          "showline": true,
          "tickcolor": "#000000",
          "tickfont": {
           "color": "#404040"
          },
          "ticks": "outside",
          "ticktext": [
           -1,
           -0.99,
           -0.95,
           -0.9,
           -0.8,
           -0.7,
           -0.6,
           -0.4,
           -0.2,
           0,
           0.2,
           0.4,
           0.6,
           0.7,
           0.8,
           0.9,
           0.95,
           0.99,
           1
          ],
          "tickvals": [
           180,
           171.89038554400582,
           161.80512766123323,
           154.15806723683286,
           143.13010235415598,
           134.42700400080568,
           126.86989764584402,
           113.57817847820183,
           101.53695903281549,
           90,
           78.46304096718451,
           66.42182152179817,
           53.13010235415599,
           45.5729959991943,
           36.86989764584401,
           25.841932763167126,
           18.194872338766785,
           8.109614455994183,
           0
          ],
          "tickwidth": 2
         },
         "bgcolor": "#FFFFFF",
         "domain": {
          "x": [
           0,
           0.45
          ],
          "y": [
           0,
           1
          ]
         },
         "radialaxis": {
          "gridcolor": "#C0C0C0",
          "griddash": "solid",
          "layer": "below traces",
          "linecolor": "#000000",
          "range": [
           0,
           4.272389707578267
          ],
          "showline": true,
          "tickcolor": "#000000",
          "tickfont": {
           "color": "#404040"
          },
          "ticks": "outside",
          "tickwidth": 2,
          "title": {
           "font": {
            "color": "#404040",
            "size": 16
           },
           "text": "<br>Standard Deviation"
          }
         },
         "sector": [
          0,
          180
         ]
        },
        "polar2": {
         "angularaxis": {
          "direction": "counterclockwise",
          "gridcolor": "#C0C0C0",
          "griddash": "solid",
          "layer": "below traces",
          "linecolor": "#000000",
          "showline": true,
          "tickcolor": "#000000",
          "tickfont": {
           "color": "#404040"
          },
          "ticks": "outside",
          "ticktext": [
           0,
           0.005,
           0.025,
           0.05,
           0.1,
           0.15,
           0.2,
           0.3,
           0.4,
           0.5,
           0.6,
           0.7,
           0.8,
           0.85,
           0.9,
           0.95,
           0.975,
           0.995,
           1
          ],
          "tickvals": [
           180,
           171.89038554400582,
           161.80512766123323,
           154.15806723683286,
           143.13010235415598,
           134.42700400080568,
           126.86989764584402,
           113.57817847820183,
           101.53695903281549,
           90,
           78.46304096718451,
           66.42182152179817,
           53.13010235415599,
           45.5729959991943,
           36.86989764584401,
           25.841932763167126,
           18.194872338766785,
           8.109614455994183,
           0
          ],
          "tickwidth": 2
         },
         "bgcolor": "#FFFFFF",
         "domain": {
          "x": [
           0.55,
           1
          ],
          "y": [
           0,
           1
          ]
         },
         "radialaxis": {
          "gridcolor": "#C0C0C0",
          "griddash": "solid",
          "layer": "below traces",
          "linecolor": "#000000",
          "range": [
           0,
           4.573964893547794
          ],
          "showline": true,
          "tickcolor": "#000000",
          "tickfont": {
           "color": "#404040"
          },
          "ticks": "outside",
          "tickwidth": 2,
          "title": {
           "font": {
            "color": "#404040",
            "size": 16
           },
           "text": "<br>Entropy"
          }
         },
         "sector": [
          0,
          180
         ]
        },
        "showlegend": true,
        "template": {
         "data": {
          "bar": [
           {
            "error_x": {
             "color": "#2a3f5f"
            },
            "error_y": {
             "color": "#2a3f5f"
            },
            "marker": {
             "line": {
              "color": "#E5ECF6",
              "width": 0.5
             },
             "pattern": {
              "fillmode": "overlay",
              "size": 10,
              "solidity": 0.2
             }
            },
            "type": "bar"
           }
          ],
          "barpolar": [
           {
            "marker": {
             "line": {
              "color": "#E5ECF6",
              "width": 0.5
             },
             "pattern": {
              "fillmode": "overlay",
              "size": 10,
              "solidity": 0.2
             }
            },
            "type": "barpolar"
           }
          ],
          "carpet": [
           {
            "aaxis": {
             "endlinecolor": "#2a3f5f",
             "gridcolor": "white",
             "linecolor": "white",
             "minorgridcolor": "white",
             "startlinecolor": "#2a3f5f"
            },
            "baxis": {
             "endlinecolor": "#2a3f5f",
             "gridcolor": "white",
             "linecolor": "white",
             "minorgridcolor": "white",
             "startlinecolor": "#2a3f5f"
            },
            "type": "carpet"
           }
          ],
          "choropleth": [
           {
            "colorbar": {
             "outlinewidth": 0,
             "ticks": ""
            },
            "type": "choropleth"
           }
          ],
          "contour": [
           {
            "colorbar": {
             "outlinewidth": 0,
             "ticks": ""
            },
            "colorscale": [
             [
              0,
              "#0d0887"
             ],
             [
              0.1111111111111111,
              "#46039f"
             ],
             [
              0.2222222222222222,
              "#7201a8"
             ],
             [
              0.3333333333333333,
              "#9c179e"
             ],
             [
              0.4444444444444444,
              "#bd3786"
             ],
             [
              0.5555555555555556,
              "#d8576b"
             ],
             [
              0.6666666666666666,
              "#ed7953"
             ],
             [
              0.7777777777777778,
              "#fb9f3a"
             ],
             [
              0.8888888888888888,
              "#fdca26"
             ],
             [
              1,
              "#f0f921"
             ]
            ],
            "type": "contour"
           }
          ],
          "contourcarpet": [
           {
            "colorbar": {
             "outlinewidth": 0,
             "ticks": ""
            },
            "type": "contourcarpet"
           }
          ],
          "heatmap": [
           {
            "colorbar": {
             "outlinewidth": 0,
             "ticks": ""
            },
            "colorscale": [
             [
              0,
              "#0d0887"
             ],
             [
              0.1111111111111111,
              "#46039f"
             ],
             [
              0.2222222222222222,
              "#7201a8"
             ],
             [
              0.3333333333333333,
              "#9c179e"
             ],
             [
              0.4444444444444444,
              "#bd3786"
             ],
             [
              0.5555555555555556,
              "#d8576b"
             ],
             [
              0.6666666666666666,
              "#ed7953"
             ],
             [
              0.7777777777777778,
              "#fb9f3a"
             ],
             [
              0.8888888888888888,
              "#fdca26"
             ],
             [
              1,
              "#f0f921"
             ]
            ],
            "type": "heatmap"
           }
          ],
          "heatmapgl": [
           {
            "colorbar": {
             "outlinewidth": 0,
             "ticks": ""
            },
            "colorscale": [
             [
              0,
              "#0d0887"
             ],
             [
              0.1111111111111111,
              "#46039f"
             ],
             [
              0.2222222222222222,
              "#7201a8"
             ],
             [
              0.3333333333333333,
              "#9c179e"
             ],
             [
              0.4444444444444444,
              "#bd3786"
             ],
             [
              0.5555555555555556,
              "#d8576b"
             ],
             [
              0.6666666666666666,
              "#ed7953"
             ],
             [
              0.7777777777777778,
              "#fb9f3a"
             ],
             [
              0.8888888888888888,
              "#fdca26"
             ],
             [
              1,
              "#f0f921"
             ]
            ],
            "type": "heatmapgl"
           }
          ],
          "histogram": [
           {
            "marker": {
             "pattern": {
              "fillmode": "overlay",
              "size": 10,
              "solidity": 0.2
             }
            },
            "type": "histogram"
           }
          ],
          "histogram2d": [
           {
            "colorbar": {
             "outlinewidth": 0,
             "ticks": ""
            },
            "colorscale": [
             [
              0,
              "#0d0887"
             ],
             [
              0.1111111111111111,
              "#46039f"
             ],
             [
              0.2222222222222222,
              "#7201a8"
             ],
             [
              0.3333333333333333,
              "#9c179e"
             ],
             [
              0.4444444444444444,
              "#bd3786"
             ],
             [
              0.5555555555555556,
              "#d8576b"
             ],
             [
              0.6666666666666666,
              "#ed7953"
             ],
             [
              0.7777777777777778,
              "#fb9f3a"
             ],
             [
              0.8888888888888888,
              "#fdca26"
             ],
             [
              1,
              "#f0f921"
             ]
            ],
            "type": "histogram2d"
           }
          ],
          "histogram2dcontour": [
           {
            "colorbar": {
             "outlinewidth": 0,
             "ticks": ""
            },
            "colorscale": [
             [
              0,
              "#0d0887"
             ],
             [
              0.1111111111111111,
              "#46039f"
             ],
             [
              0.2222222222222222,
              "#7201a8"
             ],
             [
              0.3333333333333333,
              "#9c179e"
             ],
             [
              0.4444444444444444,
              "#bd3786"
             ],
             [
              0.5555555555555556,
              "#d8576b"
             ],
             [
              0.6666666666666666,
              "#ed7953"
             ],
             [
              0.7777777777777778,
              "#fb9f3a"
             ],
             [
              0.8888888888888888,
              "#fdca26"
             ],
             [
              1,
              "#f0f921"
             ]
            ],
            "type": "histogram2dcontour"
           }
          ],
          "mesh3d": [
           {
            "colorbar": {
             "outlinewidth": 0,
             "ticks": ""
            },
            "type": "mesh3d"
           }
          ],
          "parcoords": [
           {
            "line": {
             "colorbar": {
              "outlinewidth": 0,
              "ticks": ""
             }
            },
            "type": "parcoords"
           }
          ],
          "pie": [
           {
            "automargin": true,
            "type": "pie"
           }
          ],
          "scatter": [
           {
            "fillpattern": {
             "fillmode": "overlay",
             "size": 10,
             "solidity": 0.2
            },
            "type": "scatter"
           }
          ],
          "scatter3d": [
           {
            "line": {
             "colorbar": {
              "outlinewidth": 0,
              "ticks": ""
             }
            },
            "marker": {
             "colorbar": {
              "outlinewidth": 0,
              "ticks": ""
             }
            },
            "type": "scatter3d"
           }
          ],
          "scattercarpet": [
           {
            "marker": {
             "colorbar": {
              "outlinewidth": 0,
              "ticks": ""
             }
            },
            "type": "scattercarpet"
           }
          ],
          "scattergeo": [
           {
            "marker": {
             "colorbar": {
              "outlinewidth": 0,
              "ticks": ""
             }
            },
            "type": "scattergeo"
           }
          ],
          "scattergl": [
           {
            "marker": {
             "colorbar": {
              "outlinewidth": 0,
              "ticks": ""
             }
            },
            "type": "scattergl"
           }
          ],
          "scattermapbox": [
           {
            "marker": {
             "colorbar": {
              "outlinewidth": 0,
              "ticks": ""
             }
            },
            "type": "scattermapbox"
           }
          ],
          "scatterpolar": [
           {
            "marker": {
             "colorbar": {
              "outlinewidth": 0,
              "ticks": ""
             }
            },
            "type": "scatterpolar"
           }
          ],
          "scatterpolargl": [
           {
            "marker": {
             "colorbar": {
              "outlinewidth": 0,
              "ticks": ""
             }
            },
            "type": "scatterpolargl"
           }
          ],
          "scatterternary": [
           {
            "marker": {
             "colorbar": {
              "outlinewidth": 0,
              "ticks": ""
             }
            },
            "type": "scatterternary"
           }
          ],
          "surface": [
           {
            "colorbar": {
             "outlinewidth": 0,
             "ticks": ""
            },
            "colorscale": [
             [
              0,
              "#0d0887"
             ],
             [
              0.1111111111111111,
              "#46039f"
             ],
             [
              0.2222222222222222,
              "#7201a8"
             ],
             [
              0.3333333333333333,
              "#9c179e"
             ],
             [
              0.4444444444444444,
              "#bd3786"
             ],
             [
              0.5555555555555556,
              "#d8576b"
             ],
             [
              0.6666666666666666,
              "#ed7953"
             ],
             [
              0.7777777777777778,
              "#fb9f3a"
             ],
             [
              0.8888888888888888,
              "#fdca26"
             ],
             [
              1,
              "#f0f921"
             ]
            ],
            "type": "surface"
           }
          ],
          "table": [
           {
            "cells": {
             "fill": {
              "color": "#EBF0F8"
             },
             "line": {
              "color": "white"
             }
            },
            "header": {
             "fill": {
              "color": "#C8D4E3"
             },
             "line": {
              "color": "white"
             }
            },
            "type": "table"
           }
          ]
         },
         "layout": {
          "annotationdefaults": {
           "arrowcolor": "#2a3f5f",
           "arrowhead": 0,
           "arrowwidth": 1
          },
          "autotypenumbers": "strict",
          "coloraxis": {
           "colorbar": {
            "outlinewidth": 0,
            "ticks": ""
           }
          },
          "colorscale": {
           "diverging": [
            [
             0,
             "#8e0152"
            ],
            [
             0.1,
             "#c51b7d"
            ],
            [
             0.2,
             "#de77ae"
            ],
            [
             0.3,
             "#f1b6da"
            ],
            [
             0.4,
             "#fde0ef"
            ],
            [
             0.5,
             "#f7f7f7"
            ],
            [
             0.6,
             "#e6f5d0"
            ],
            [
             0.7,
             "#b8e186"
            ],
            [
             0.8,
             "#7fbc41"
            ],
            [
             0.9,
             "#4d9221"
            ],
            [
             1,
             "#276419"
            ]
           ],
           "sequential": [
            [
             0,
             "#0d0887"
            ],
            [
             0.1111111111111111,
             "#46039f"
            ],
            [
             0.2222222222222222,
             "#7201a8"
            ],
            [
             0.3333333333333333,
             "#9c179e"
            ],
            [
             0.4444444444444444,
             "#bd3786"
            ],
            [
             0.5555555555555556,
             "#d8576b"
            ],
            [
             0.6666666666666666,
             "#ed7953"
            ],
            [
             0.7777777777777778,
             "#fb9f3a"
            ],
            [
             0.8888888888888888,
             "#fdca26"
            ],
            [
             1,
             "#f0f921"
            ]
           ],
           "sequentialminus": [
            [
             0,
             "#0d0887"
            ],
            [
             0.1111111111111111,
             "#46039f"
            ],
            [
             0.2222222222222222,
             "#7201a8"
            ],
            [
             0.3333333333333333,
             "#9c179e"
            ],
            [
             0.4444444444444444,
             "#bd3786"
            ],
            [
             0.5555555555555556,
             "#d8576b"
            ],
            [
             0.6666666666666666,
             "#ed7953"
            ],
            [
             0.7777777777777778,
             "#fb9f3a"
            ],
            [
             0.8888888888888888,
             "#fdca26"
            ],
            [
             1,
             "#f0f921"
            ]
           ]
          },
          "colorway": [
           "#636efa",
           "#EF553B",
           "#00cc96",
           "#ab63fa",
           "#FFA15A",
           "#19d3f3",
           "#FF6692",
           "#B6E880",
           "#FF97FF",
           "#FECB52"
          ],
          "font": {
           "color": "#2a3f5f"
          },
          "geo": {
           "bgcolor": "white",
           "lakecolor": "white",
           "landcolor": "#E5ECF6",
           "showlakes": true,
           "showland": true,
           "subunitcolor": "white"
          },
          "hoverlabel": {
           "align": "left"
          },
          "hovermode": "closest",
          "mapbox": {
           "style": "light"
          },
          "paper_bgcolor": "white",
          "plot_bgcolor": "#E5ECF6",
          "polar": {
           "angularaxis": {
            "gridcolor": "white",
            "linecolor": "white",
            "ticks": ""
           },
           "bgcolor": "#E5ECF6",
           "radialaxis": {
            "gridcolor": "white",
            "linecolor": "white",
            "ticks": ""
           }
          },
          "scene": {
           "xaxis": {
            "backgroundcolor": "#E5ECF6",
            "gridcolor": "white",
            "gridwidth": 2,
            "linecolor": "white",
            "showbackground": true,
            "ticks": "",
            "zerolinecolor": "white"
           },
           "yaxis": {
            "backgroundcolor": "#E5ECF6",
            "gridcolor": "white",
            "gridwidth": 2,
            "linecolor": "white",
            "showbackground": true,
            "ticks": "",
            "zerolinecolor": "white"
           },
           "zaxis": {
            "backgroundcolor": "#E5ECF6",
            "gridcolor": "white",
            "gridwidth": 2,
            "linecolor": "white",
            "showbackground": true,
            "ticks": "",
            "zerolinecolor": "white"
           }
          },
          "shapedefaults": {
           "line": {
            "color": "#2a3f5f"
           }
          },
          "ternary": {
           "aaxis": {
            "gridcolor": "white",
            "linecolor": "white",
            "ticks": ""
           },
           "baxis": {
            "gridcolor": "white",
            "linecolor": "white",
            "ticks": ""
           },
           "bgcolor": "#E5ECF6",
           "caxis": {
            "gridcolor": "white",
            "linecolor": "white",
            "ticks": ""
           }
          },
          "title": {
           "x": 0.05
          },
          "xaxis": {
           "automargin": true,
           "gridcolor": "white",
           "linecolor": "white",
           "ticks": "",
           "title": {
            "standoff": 15
           },
           "zerolinecolor": "white",
           "zerolinewidth": 2
          },
          "yaxis": {
           "automargin": true,
           "gridcolor": "white",
           "linecolor": "white",
           "ticks": "",
           "title": {
            "standoff": 15
           },
           "zerolinecolor": "white",
           "zerolinewidth": 2
          }
         }
        },
        "title": {
         "font": {
          "color": "#404040",
          "size": 20
         },
         "text": "Taylor Diagram and Mutual Information Diagram",
         "x": 0.5,
         "xanchor": "center",
         "y": 0.95,
         "yanchor": "top"
        },
        "width": 1400
       }
      }
     },
     "metadata": {},
     "output_type": "display_data"
    }
   ],
   "source": [
    "df_pivot[\"Reference Model\"] = df_pivot[\"Reference Model\"].astype(float)\n",
    "chart_both = diag.chart_create_all_diagrams(\n",
    "    df_pivot[['CYT', 'ERL', 'EXC', 'ME1', 'ME2', 'ME3', 'MIT', 'NUC', 'POX', 'VAC', \"Reference Model\"]], \n",
    "    string_reference_model='Reference Model', \n",
    "    string_corr_method='pearson', \n",
    "    string_mid_type='scaled', \n",
    "    dict_mi_parameters=dict_mi_parameters_features_continous_target_continous\n",
    ")\n",
    "chart_both.show(config=DICT_PLOTLY_CONFIG)"
   ]
  },
  {
   "cell_type": "code",
   "execution_count": null,
   "metadata": {},
   "outputs": [],
   "source": []
  }
 ],
 "metadata": {
  "kernelspec": {
   "display_name": ".env",
   "language": "python",
   "name": "python3"
  },
  "language_info": {
   "codemirror_mode": {
    "name": "ipython",
    "version": 3
   },
   "file_extension": ".py",
   "mimetype": "text/x-python",
   "name": "python",
   "nbconvert_exporter": "python",
   "pygments_lexer": "ipython3",
   "version": "3.11.9"
  }
 },
 "nbformat": 4,
 "nbformat_minor": 2
}
